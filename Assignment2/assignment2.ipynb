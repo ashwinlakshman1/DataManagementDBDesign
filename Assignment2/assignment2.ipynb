{
 "cells": [
  {
   "cell_type": "code",
   "execution_count": 1,
   "metadata": {
    "pycharm": {
     "is_executing": false,
     "name": "#%%\n"
    }
   },
   "outputs": [],
   "source": [
    "# Scraping data from IMDB to use as the primary table\n",
    "import pandas as pd\n",
    "# To get timestamp\n",
    "import time\n",
    "\n",
    "import json\n",
    "\n",
    "from requests import get\n",
    "from bs4 import BeautifulSoup as bs \n",
    "url = \"https://www.imdb.com/search/title/?genres=comedy&explore=title_type,genres&pf_rd_m=A2FGELUUNOQJNL&pf_rd_p=3396781f-d87f-4fac-8694-c56ce6f490fe&pf_rd_r=0GMQGWJ7C53HSZY7FNW4&pf_rd_s=center-1&pf_rd_t=15051&pf_rd_i=genre&ref_=ft_gnr_pr1_i_1\"\n",
    "response = get(url)\n",
    "\n",
    "\n",
    "\n",
    "\n",
    "\n",
    "html_soup = bs(response.text,'html.parser')\n",
    "id_check = html_soup.find(id =\"main\")\n",
    "movie_container = id_check.find_all(class_ =\"lister-item mode-advanced\")\n",
    "container = movie_container[3]\n",
    "\n",
    "movie_names = []\n",
    "year_release = []\n",
    "imdb_ratings = []\n",
    "metascores = []\n",
    "votes = []\n",
    "movie_description = []\n",
    "certificate = []\n",
    "runtime = []\n",
    "genre = []\n",
    "director_name = []\n",
    "star_cast = []\n",
    "gross_value = []\n",
    "\n",
    "\n",
    "for container in movie_container:\n",
    "\n",
    "        #the movie_name\n",
    "        name = container.h3.a.text\n",
    "        movie_names.append(name)\n",
    "        release = container.find(\"span\", class_ = \"lister-item-year text-muted unbold\").text\n",
    "        year_release.append(release)\n",
    "        \n",
    "        if container.strong is not None :\n",
    "            ratings = float(container.strong.text)\n",
    "            imdb_ratings.append(ratings)\n",
    "        else:\n",
    "            imdb_ratings.append(None)\n",
    "        \n",
    "        if container.find(\"div\", class_ = \"ratings-metascore\")!=None:\n",
    "            meta = container.find(\"span\", class_ = \"metascore\").text\n",
    "            metascores.append(int(meta))\n",
    "        else:\n",
    "            metascores.append(None)\n",
    "        \n",
    "        \n",
    "        if  container.find(\"span\", attrs = {\"name\":\"nv\"})!=None:\n",
    "            vote = (container.find(\"span\", attrs = {\"name\":\"nv\"}).text)\n",
    "            vote = vote.split(\",\")\n",
    "            votes.append(int(\"\".join(vote)))\n",
    "        else:\n",
    "            votes.append(None)\n",
    "            \n",
    "            \n",
    "        if container.find(\"span\", class_ = \"certificate\")!=None:\n",
    "            certificate.append(container.find(\"span\", class_ = \"certificate\").text)\n",
    "        else:\n",
    "            certificate.append(None)\n",
    "        \n",
    "        #the runtime\n",
    "        if container.find(\"span\", class_ =\"runtime\")!= None:\n",
    "            runtime.append(container.find(\"span\", class_ =\"runtime\").text)\n",
    "        else:\n",
    "            runtime.append(None)\n",
    "        \n",
    "        gen = container.find(\"span\", class_ =\"genre\").text\n",
    "        genre.append(gen)\n",
    "        \n",
    "        #find  all <p> tags which contain the data\n",
    "        content = container.find_all(\"p\")\n",
    "        \n",
    "        #the description\n",
    "        desc = content[1].text\n",
    "        movie_description.append(desc)\n",
    "        \n",
    "        #subsetting all the <a> tags in 3rd <p> tag\n",
    "        content_2 = content[2].find_all(\"a\")\n",
    "\n",
    "        #the director name\n",
    "        if len(content_2)>3:\n",
    "            director = content_2[0].text\n",
    "        \n",
    "        director_name.append(director)\n",
    "        \n",
    "        if len(container.find_all(\"span\", attrs = {\"name\":\"nv\"})) >= 2:\n",
    "            gross = container.find_all(\"span\", attrs = {\"name\":\"nv\"})[1]['data-value']\n",
    "            gross_value.append(gross)\n",
    "        else:\n",
    "            gross_value.append(None)\n",
    "        #extracting artists names\n",
    "        temp = []\n",
    "        for i in range(len(content_2)-1):\n",
    "            temp.append(content_2[i].text)\n",
    "        star_cast.append(temp)"
   ]
  },
  {
   "cell_type": "code",
   "execution_count": 2,
   "metadata": {
    "pycharm": {
     "is_executing": false,
     "name": "#%%\n"
    }
   },
   "outputs": [],
   "source": []
  },
  {
   "cell_type": "code",
   "execution_count": 2,
   "metadata": {
    "pycharm": {
     "is_executing": false,
     "name": "#%%\n"
    }
   },
   "outputs": [],
   "source": [
    "\n",
    "imdb_df = pd.DataFrame({\"movie_names\":movie_names,\n",
    "                        \"year_release\":year_release,\n",
    "                        \"imdb_ratings\":imdb_ratings,\n",
    "                        \"metascores\":metascores,\n",
    "                        \"votes\":votes,\n",
    "                        \"movie_description\":movie_description,\n",
    "                        \"certificate\":certificate,\n",
    "                        \"runtime\":runtime,\n",
    "                        \"genre\":genre,\n",
    "                        \"director_name\": director_name,\n",
    "                        \"gross_value\":gross_value\n",
    "                       })"
   ]
  },
  {
   "cell_type": "code",
   "execution_count": 3,
   "metadata": {
    "pycharm": {
     "is_executing": false,
     "name": "#%%\n"
    }
   },
   "outputs": [
    {
     "data": {
      "text/plain": "                          movie_names year_release  imdb_ratings  metascores  \\\n0                            Parasite       (2019)           8.6        96.0   \n1                         Jojo Rabbit       (2019)           8.0        58.0   \n2                  Sonic the Hedgehog       (2020)           6.9        47.0   \n3    Once Upon a Time... in Hollywood       (2019)           7.7        83.0   \n4                          Knives Out       (2019)           8.0        82.0   \n5                 The French Dispatch       (2020)           NaN         NaN   \n6                       Sex Education     (2019– )           8.3         NaN   \n7                      Marriage Story       (2019)           8.0        93.0   \n8                      Fantasy Island       (2020)           4.7        21.0   \n9                            Dolittle       (2020)           5.5        26.0   \n10                  Bad Boys For Life       (2020)           7.2        59.0   \n11                 Brooklyn Nine-Nine     (2013– )           8.4         NaN   \n12                        Toy Story 4       (2019)           7.9        84.0   \n13                    BoJack Horseman  (2014–2020)           8.7         NaN   \n14      Mythic Quest: Raven's Banquet     (2020– )           7.4         NaN   \n15                   Charlie's Angels       (2019)           4.4        52.0   \n16                         The Office  (2005–2013)           8.8         NaN   \n17                          Frozen II       (2019)           7.1        64.0   \n18            Jumanji: The Next Level       (2019)           6.9        58.0   \n19               Curb Your Enthusiasm     (2000– )           8.7         NaN   \n20                          Shameless     (2011– )           8.6         NaN   \n21                         This Is Us     (2016– )           8.7         NaN   \n22                              Emma.       (2020)           6.8        68.0   \n23                               Cats       (2019)           2.8        32.0   \n24                            Friends  (1994–2004)           8.9         NaN   \n25                     Schitt's Creek     (2015– )           8.3         NaN   \n26                     The Good Place  (2016–2020)           8.2         NaN   \n27                           Downhill       (2020)           4.8        49.0   \n28                      Modern Family     (2009– )           8.4         NaN   \n29                           Avenue 5     (2020– )           5.9         NaN   \n30                          The Ranch     (2016– )           7.5         NaN   \n31                      The Two Popes       (2019)           7.6        75.0   \n32                     Rick and Morty     (2013– )           9.3         NaN   \n33                      Come to Daddy       (2019)           6.1        63.0   \n34                           Hustlers       (2019)           6.4        79.0   \n35                  Grace and Frankie     (2015– )           8.3         NaN   \n36          The Marvelous Mrs. Maisel     (2017– )           8.8         NaN   \n37                           The Boys     (2019– )           8.7         NaN   \n38                The Big Bang Theory  (2007–2019)           8.1         NaN   \n39                      6 Underground       (2019)           6.1        41.0   \n40           The Peanut Butter Falcon       (2019)           7.7        70.0   \n41                              Suits  (2011–2019)           8.5         NaN   \n42                  Death in Paradise     (2011– )           7.8         NaN   \n43  It's Always Sunny in Philadelphia     (2005– )           8.8         NaN   \n44                     Thor: Ragnarok       (2017)           7.9        74.0   \n45                      The Goldbergs     (2013– )           8.1         NaN   \n46             Zombieland: Double Tap       (2019)           6.8        55.0   \n47                         Green Book       (2018)           8.2        69.0   \n48               Parks and Recreation  (2009–2015)           8.6         NaN   \n49                          Booksmart       (2019)           7.2        84.0   \n\n       votes                                  movie_description certificate  \\\n0   265908.0  \\n    A poor family, the Kims, con their way i...           R   \n1   132181.0  \\n    A young boy in Hitler's army finds out h...       PG-13   \n2    14401.0  \\n    After discovering a small, blue, fast he...          PG   \n3   390536.0  \\n    A faded television actor and his stunt d...           R   \n4   183924.0  \\n    A detective investigates the death of a ...       PG-13   \n5        NaN  \\n    A love letter to journalists set in an o...           R   \n6   111281.0  \\n    A teenage boy with a sex therapist mothe...       TV-MA   \n7   175580.0  \\n    Noah Baumbach's incisive and compassiona...           R   \n8     3455.0  \\n    A horror adaptation of the popular '70s ...       PG-13   \n9    15295.0  \\n    A physician who can talk to animals emba...          PG   \n10   39997.0  \\n    The Bad Boys Mike Lowrey and Marcus Burn...           R   \n11  179105.0  \\n    Jake Peralta, an immature, but talented ...       TV-14   \n12  158051.0  \\n    When a new toy called \"Forky\" joins Wood...           G   \n13   87898.0  \\n    BoJack Horseman was the star of the hit ...       TV-MA   \n14    2164.0  \\n    The cutting-edge comedy is set in a vide...       TV-MA   \n15   24289.0  \\n    When a young systems engineer blows the ...       PG-13   \n16  338808.0  \\n    A mockumentary on a group of typical off...       TV-14   \n17   73822.0  \\n    Anna, Elsa, Kristoff, Olaf and Sven leav...          PG   \n18   82940.0  \\n    In Jumanji: The Next Level, the gang is ...       PG-13   \n19   92010.0  \\n    The life and times of Larry David and th...       TV-MA   \n20  185811.0  \\n    A scrappy, feisty, fiercely loyal Chicag...       TV-MA   \n21   88092.0  \\n    A heartwarming and emotional story about...       TV-14   \n22    1309.0  \\n    In 1800s England, a well meaning but sel...          PG   \n23   26632.0  \\n    A tribe of cats called the Jellicles mus...          PG   \n24  737902.0  \\n    Follows the personal and professional li...       TV-14   \n25   27101.0  \\n    When rich video-store magnate Johnny Ros...       TV-14   \n26   88018.0  \\n    Four people and their otherworldly frien...       TV-PG   \n27     954.0  \\n    Barely escaping an avalanche during a fa...           R   \n28  322827.0  \\n    Three different but related families fac...       TV-PG   \n29    4731.0  \\n    Space captain Ryan Clark of the Avenue 5...       TV-MA   \n30   30795.0  \\n    The son of a Colorado rancher returns ho...       TV-MA   \n31   74593.0  \\n    Behind Vatican walls, the conservative P...       PG-13   \n32  321552.0  \\n    An animated series that follows the expl...       TV-MA   \n33    3212.0  \\n    A man in his thirties travels to a remot...           R   \n34   53512.0  \\n    Inspired by the viral New York Magazine ...           R   \n35   34362.0  \\n    Finding out that their husbands are not ...       TV-MA   \n36   62889.0  \\n    A housewife in the 1960s decides to beco...       TV-MA   \n37  131054.0  \\n    A group of vigilantes set out to take do...       TV-MA   \n38  679602.0  \\n    A woman who moves into an apartment acro...       TV-14   \n39  101434.0  \\n    Meet a new kind of action hero. Six untr...           R   \n40   33517.0  \\n    Zak runs away from his care home to make...       PG-13   \n41  342543.0  \\n    On the run from a drug deal gone bad, br...       TV-14   \n42   12487.0  \\n    An Irish detective inspector in the UK P...       TV-PG   \n43  178661.0  \\n    Five friends with big egos and slightly ...       TV-MA   \n44  534286.0  \\n    Imprisoned on the planet Sakaar, Thor mu...       PG-13   \n45   28613.0  \\n    This ABC show takes place in Jenkintown,...       TV-PG   \n46   84636.0  \\n    Columbus, Tallahassee, Wichita, and Litt...           R   \n47  292027.0  \\n    A working-class Italian-American bouncer...       PG-13   \n48  189801.0  \\n    The absurd antics of an Indiana town's p...       TV-14   \n49   65717.0  \\n    On the eve of their high school graduati...           R   \n\n    runtime                                       genre         director_name  \\\n0   132 min       \\nComedy, Drama, Thriller                      Bong Joon Ho   \n1   108 min            \\nComedy, Drama, War                     Taika Waititi   \n2    99 min     \\nAction, Adventure, Comedy                       Jeff Fowler   \n3   161 min                 \\nComedy, Drama                 Quentin Tarantino   \n4   131 min          \\nComedy, Crime, Drama                      Rian Johnson   \n5   108 min        \\nComedy, Drama, Romance                      Wes Anderson   \n6    45 min                 \\nComedy, Drama                   Asa Butterfield   \n7   137 min        \\nComedy, Drama, Romance                     Noah Baumbach   \n8   109 min     \\nAdventure, Comedy, Horror                       Jeff Wadlow   \n9   101 min     \\nAction, Adventure, Comedy                    Stephen Gaghan   \n10  124 min         \\nAction, Comedy, Crime                      Adil El Arbi   \n11   22 min                 \\nComedy, Crime                      Andy Samberg   \n12  100 min  \\nAnimation, Adventure, Comedy                       Josh Cooley   \n13   25 min      \\nAnimation, Comedy, Drama                       Will Arnett   \n14     None                        \\nComedy                    Rob McElhenney   \n15  118 min     \\nAction, Adventure, Comedy                   Elizabeth Banks   \n16   22 min                        \\nComedy                      Steve Carell   \n17  103 min  \\nAnimation, Adventure, Comedy                        Chris Buck   \n18  123 min     \\nAction, Adventure, Comedy                       Jake Kasdan   \n19   28 min                        \\nComedy                       Larry David   \n20   46 min                 \\nComedy, Drama                       Emmy Rossum   \n21   45 min        \\nComedy, Drama, Romance                  Milo Ventimiglia   \n22  125 min                 \\nComedy, Drama                   Autumn de Wilde   \n23  110 min         \\nComedy, Drama, Family                        Tom Hooper   \n24   22 min               \\nComedy, Romance                  Jennifer Aniston   \n25   22 min                        \\nComedy                       Eugene Levy   \n26   22 min        \\nComedy, Drama, Fantasy                      Kristen Bell   \n27   86 min                 \\nComedy, Drama                         Nat Faxon   \n28   22 min        \\nComedy, Drama, Romance                        Ed O'Neill   \n29     None                \\nComedy, Sci-Fi                       Hugh Laurie   \n30   30 min        \\nComedy, Drama, Western                    Ashton Kutcher   \n31  125 min      \\nBiography, Comedy, Drama                Fernando Meirelles   \n32   23 min  \\nAnimation, Adventure, Comedy                    Justin Roiland   \n33   96 min      \\nComedy, Horror, Thriller                       Ant Timpson   \n34  110 min          \\nComedy, Crime, Drama                   Lorene Scafaria   \n35   30 min                        \\nComedy                       Lily Tomlin   \n36   57 min                 \\nComedy, Drama                  Rachel Brosnahan   \n37   60 min         \\nAction, Comedy, Crime                        Karl Urban   \n38   22 min               \\nComedy, Romance                    Johnny Galecki   \n39  128 min     \\nAction, Adventure, Comedy                       Michael Bay   \n40   97 min      \\nAdventure, Comedy, Drama                      Tyler Nilson   \n41   44 min                 \\nComedy, Drama                     Gabriel Macht   \n42   60 min          \\nComedy, Crime, Drama                  Danny John-Jules   \n43   22 min                        \\nComedy                       Charlie Day   \n44  130 min     \\nAction, Adventure, Comedy                     Taika Waititi   \n45   22 min                        \\nComedy              Wendi McLendon-Covey   \n46   99 min        \\nAction, Comedy, Horror                   Ruben Fleischer   \n47  130 min      \\nBiography, Comedy, Drama                    Peter Farrelly   \n48   22 min                        \\nComedy                       Amy Poehler   \n49  102 min                        \\nComedy                      Olivia Wilde   \n\n    gross_value  \n0          None  \n1       349,555  \n2          None  \n3   135,371,627  \n4          None  \n5          None  \n6          None  \n7          None  \n8          None  \n9          None  \n10         None  \n11         None  \n12  433,033,071  \n13         None  \n14         None  \n15         None  \n16         None  \n17         None  \n18         None  \n19         None  \n20         None  \n21         None  \n22         None  \n23         None  \n24         None  \n25         None  \n26         None  \n27         None  \n28         None  \n29         None  \n30         None  \n31         None  \n32         None  \n33         None  \n34   80,553,967  \n35         None  \n36         None  \n37         None  \n38         None  \n39         None  \n40   13,122,642  \n41         None  \n42         None  \n43         None  \n44  315,058,289  \n45         None  \n46   26,803,104  \n47   85,080,171  \n48         None  \n49   22,680,962  ",
      "text/html": "<div>\n<style scoped>\n    .dataframe tbody tr th:only-of-type {\n        vertical-align: middle;\n    }\n\n    .dataframe tbody tr th {\n        vertical-align: top;\n    }\n\n    .dataframe thead th {\n        text-align: right;\n    }\n</style>\n<table border=\"1\" class=\"dataframe\">\n  <thead>\n    <tr style=\"text-align: right;\">\n      <th></th>\n      <th>movie_names</th>\n      <th>year_release</th>\n      <th>imdb_ratings</th>\n      <th>metascores</th>\n      <th>votes</th>\n      <th>movie_description</th>\n      <th>certificate</th>\n      <th>runtime</th>\n      <th>genre</th>\n      <th>director_name</th>\n      <th>gross_value</th>\n    </tr>\n  </thead>\n  <tbody>\n    <tr>\n      <th>0</th>\n      <td>Parasite</td>\n      <td>(2019)</td>\n      <td>8.6</td>\n      <td>96.0</td>\n      <td>265908.0</td>\n      <td>\\n    A poor family, the Kims, con their way i...</td>\n      <td>R</td>\n      <td>132 min</td>\n      <td>\\nComedy, Drama, Thriller</td>\n      <td>Bong Joon Ho</td>\n      <td>None</td>\n    </tr>\n    <tr>\n      <th>1</th>\n      <td>Jojo Rabbit</td>\n      <td>(2019)</td>\n      <td>8.0</td>\n      <td>58.0</td>\n      <td>132181.0</td>\n      <td>\\n    A young boy in Hitler's army finds out h...</td>\n      <td>PG-13</td>\n      <td>108 min</td>\n      <td>\\nComedy, Drama, War</td>\n      <td>Taika Waititi</td>\n      <td>349,555</td>\n    </tr>\n    <tr>\n      <th>2</th>\n      <td>Sonic the Hedgehog</td>\n      <td>(2020)</td>\n      <td>6.9</td>\n      <td>47.0</td>\n      <td>14401.0</td>\n      <td>\\n    After discovering a small, blue, fast he...</td>\n      <td>PG</td>\n      <td>99 min</td>\n      <td>\\nAction, Adventure, Comedy</td>\n      <td>Jeff Fowler</td>\n      <td>None</td>\n    </tr>\n    <tr>\n      <th>3</th>\n      <td>Once Upon a Time... in Hollywood</td>\n      <td>(2019)</td>\n      <td>7.7</td>\n      <td>83.0</td>\n      <td>390536.0</td>\n      <td>\\n    A faded television actor and his stunt d...</td>\n      <td>R</td>\n      <td>161 min</td>\n      <td>\\nComedy, Drama</td>\n      <td>Quentin Tarantino</td>\n      <td>135,371,627</td>\n    </tr>\n    <tr>\n      <th>4</th>\n      <td>Knives Out</td>\n      <td>(2019)</td>\n      <td>8.0</td>\n      <td>82.0</td>\n      <td>183924.0</td>\n      <td>\\n    A detective investigates the death of a ...</td>\n      <td>PG-13</td>\n      <td>131 min</td>\n      <td>\\nComedy, Crime, Drama</td>\n      <td>Rian Johnson</td>\n      <td>None</td>\n    </tr>\n    <tr>\n      <th>5</th>\n      <td>The French Dispatch</td>\n      <td>(2020)</td>\n      <td>NaN</td>\n      <td>NaN</td>\n      <td>NaN</td>\n      <td>\\n    A love letter to journalists set in an o...</td>\n      <td>R</td>\n      <td>108 min</td>\n      <td>\\nComedy, Drama, Romance</td>\n      <td>Wes Anderson</td>\n      <td>None</td>\n    </tr>\n    <tr>\n      <th>6</th>\n      <td>Sex Education</td>\n      <td>(2019– )</td>\n      <td>8.3</td>\n      <td>NaN</td>\n      <td>111281.0</td>\n      <td>\\n    A teenage boy with a sex therapist mothe...</td>\n      <td>TV-MA</td>\n      <td>45 min</td>\n      <td>\\nComedy, Drama</td>\n      <td>Asa Butterfield</td>\n      <td>None</td>\n    </tr>\n    <tr>\n      <th>7</th>\n      <td>Marriage Story</td>\n      <td>(2019)</td>\n      <td>8.0</td>\n      <td>93.0</td>\n      <td>175580.0</td>\n      <td>\\n    Noah Baumbach's incisive and compassiona...</td>\n      <td>R</td>\n      <td>137 min</td>\n      <td>\\nComedy, Drama, Romance</td>\n      <td>Noah Baumbach</td>\n      <td>None</td>\n    </tr>\n    <tr>\n      <th>8</th>\n      <td>Fantasy Island</td>\n      <td>(2020)</td>\n      <td>4.7</td>\n      <td>21.0</td>\n      <td>3455.0</td>\n      <td>\\n    A horror adaptation of the popular '70s ...</td>\n      <td>PG-13</td>\n      <td>109 min</td>\n      <td>\\nAdventure, Comedy, Horror</td>\n      <td>Jeff Wadlow</td>\n      <td>None</td>\n    </tr>\n    <tr>\n      <th>9</th>\n      <td>Dolittle</td>\n      <td>(2020)</td>\n      <td>5.5</td>\n      <td>26.0</td>\n      <td>15295.0</td>\n      <td>\\n    A physician who can talk to animals emba...</td>\n      <td>PG</td>\n      <td>101 min</td>\n      <td>\\nAction, Adventure, Comedy</td>\n      <td>Stephen Gaghan</td>\n      <td>None</td>\n    </tr>\n    <tr>\n      <th>10</th>\n      <td>Bad Boys For Life</td>\n      <td>(2020)</td>\n      <td>7.2</td>\n      <td>59.0</td>\n      <td>39997.0</td>\n      <td>\\n    The Bad Boys Mike Lowrey and Marcus Burn...</td>\n      <td>R</td>\n      <td>124 min</td>\n      <td>\\nAction, Comedy, Crime</td>\n      <td>Adil El Arbi</td>\n      <td>None</td>\n    </tr>\n    <tr>\n      <th>11</th>\n      <td>Brooklyn Nine-Nine</td>\n      <td>(2013– )</td>\n      <td>8.4</td>\n      <td>NaN</td>\n      <td>179105.0</td>\n      <td>\\n    Jake Peralta, an immature, but talented ...</td>\n      <td>TV-14</td>\n      <td>22 min</td>\n      <td>\\nComedy, Crime</td>\n      <td>Andy Samberg</td>\n      <td>None</td>\n    </tr>\n    <tr>\n      <th>12</th>\n      <td>Toy Story 4</td>\n      <td>(2019)</td>\n      <td>7.9</td>\n      <td>84.0</td>\n      <td>158051.0</td>\n      <td>\\n    When a new toy called \"Forky\" joins Wood...</td>\n      <td>G</td>\n      <td>100 min</td>\n      <td>\\nAnimation, Adventure, Comedy</td>\n      <td>Josh Cooley</td>\n      <td>433,033,071</td>\n    </tr>\n    <tr>\n      <th>13</th>\n      <td>BoJack Horseman</td>\n      <td>(2014–2020)</td>\n      <td>8.7</td>\n      <td>NaN</td>\n      <td>87898.0</td>\n      <td>\\n    BoJack Horseman was the star of the hit ...</td>\n      <td>TV-MA</td>\n      <td>25 min</td>\n      <td>\\nAnimation, Comedy, Drama</td>\n      <td>Will Arnett</td>\n      <td>None</td>\n    </tr>\n    <tr>\n      <th>14</th>\n      <td>Mythic Quest: Raven's Banquet</td>\n      <td>(2020– )</td>\n      <td>7.4</td>\n      <td>NaN</td>\n      <td>2164.0</td>\n      <td>\\n    The cutting-edge comedy is set in a vide...</td>\n      <td>TV-MA</td>\n      <td>None</td>\n      <td>\\nComedy</td>\n      <td>Rob McElhenney</td>\n      <td>None</td>\n    </tr>\n    <tr>\n      <th>15</th>\n      <td>Charlie's Angels</td>\n      <td>(2019)</td>\n      <td>4.4</td>\n      <td>52.0</td>\n      <td>24289.0</td>\n      <td>\\n    When a young systems engineer blows the ...</td>\n      <td>PG-13</td>\n      <td>118 min</td>\n      <td>\\nAction, Adventure, Comedy</td>\n      <td>Elizabeth Banks</td>\n      <td>None</td>\n    </tr>\n    <tr>\n      <th>16</th>\n      <td>The Office</td>\n      <td>(2005–2013)</td>\n      <td>8.8</td>\n      <td>NaN</td>\n      <td>338808.0</td>\n      <td>\\n    A mockumentary on a group of typical off...</td>\n      <td>TV-14</td>\n      <td>22 min</td>\n      <td>\\nComedy</td>\n      <td>Steve Carell</td>\n      <td>None</td>\n    </tr>\n    <tr>\n      <th>17</th>\n      <td>Frozen II</td>\n      <td>(2019)</td>\n      <td>7.1</td>\n      <td>64.0</td>\n      <td>73822.0</td>\n      <td>\\n    Anna, Elsa, Kristoff, Olaf and Sven leav...</td>\n      <td>PG</td>\n      <td>103 min</td>\n      <td>\\nAnimation, Adventure, Comedy</td>\n      <td>Chris Buck</td>\n      <td>None</td>\n    </tr>\n    <tr>\n      <th>18</th>\n      <td>Jumanji: The Next Level</td>\n      <td>(2019)</td>\n      <td>6.9</td>\n      <td>58.0</td>\n      <td>82940.0</td>\n      <td>\\n    In Jumanji: The Next Level, the gang is ...</td>\n      <td>PG-13</td>\n      <td>123 min</td>\n      <td>\\nAction, Adventure, Comedy</td>\n      <td>Jake Kasdan</td>\n      <td>None</td>\n    </tr>\n    <tr>\n      <th>19</th>\n      <td>Curb Your Enthusiasm</td>\n      <td>(2000– )</td>\n      <td>8.7</td>\n      <td>NaN</td>\n      <td>92010.0</td>\n      <td>\\n    The life and times of Larry David and th...</td>\n      <td>TV-MA</td>\n      <td>28 min</td>\n      <td>\\nComedy</td>\n      <td>Larry David</td>\n      <td>None</td>\n    </tr>\n    <tr>\n      <th>20</th>\n      <td>Shameless</td>\n      <td>(2011– )</td>\n      <td>8.6</td>\n      <td>NaN</td>\n      <td>185811.0</td>\n      <td>\\n    A scrappy, feisty, fiercely loyal Chicag...</td>\n      <td>TV-MA</td>\n      <td>46 min</td>\n      <td>\\nComedy, Drama</td>\n      <td>Emmy Rossum</td>\n      <td>None</td>\n    </tr>\n    <tr>\n      <th>21</th>\n      <td>This Is Us</td>\n      <td>(2016– )</td>\n      <td>8.7</td>\n      <td>NaN</td>\n      <td>88092.0</td>\n      <td>\\n    A heartwarming and emotional story about...</td>\n      <td>TV-14</td>\n      <td>45 min</td>\n      <td>\\nComedy, Drama, Romance</td>\n      <td>Milo Ventimiglia</td>\n      <td>None</td>\n    </tr>\n    <tr>\n      <th>22</th>\n      <td>Emma.</td>\n      <td>(2020)</td>\n      <td>6.8</td>\n      <td>68.0</td>\n      <td>1309.0</td>\n      <td>\\n    In 1800s England, a well meaning but sel...</td>\n      <td>PG</td>\n      <td>125 min</td>\n      <td>\\nComedy, Drama</td>\n      <td>Autumn de Wilde</td>\n      <td>None</td>\n    </tr>\n    <tr>\n      <th>23</th>\n      <td>Cats</td>\n      <td>(2019)</td>\n      <td>2.8</td>\n      <td>32.0</td>\n      <td>26632.0</td>\n      <td>\\n    A tribe of cats called the Jellicles mus...</td>\n      <td>PG</td>\n      <td>110 min</td>\n      <td>\\nComedy, Drama, Family</td>\n      <td>Tom Hooper</td>\n      <td>None</td>\n    </tr>\n    <tr>\n      <th>24</th>\n      <td>Friends</td>\n      <td>(1994–2004)</td>\n      <td>8.9</td>\n      <td>NaN</td>\n      <td>737902.0</td>\n      <td>\\n    Follows the personal and professional li...</td>\n      <td>TV-14</td>\n      <td>22 min</td>\n      <td>\\nComedy, Romance</td>\n      <td>Jennifer Aniston</td>\n      <td>None</td>\n    </tr>\n    <tr>\n      <th>25</th>\n      <td>Schitt's Creek</td>\n      <td>(2015– )</td>\n      <td>8.3</td>\n      <td>NaN</td>\n      <td>27101.0</td>\n      <td>\\n    When rich video-store magnate Johnny Ros...</td>\n      <td>TV-14</td>\n      <td>22 min</td>\n      <td>\\nComedy</td>\n      <td>Eugene Levy</td>\n      <td>None</td>\n    </tr>\n    <tr>\n      <th>26</th>\n      <td>The Good Place</td>\n      <td>(2016–2020)</td>\n      <td>8.2</td>\n      <td>NaN</td>\n      <td>88018.0</td>\n      <td>\\n    Four people and their otherworldly frien...</td>\n      <td>TV-PG</td>\n      <td>22 min</td>\n      <td>\\nComedy, Drama, Fantasy</td>\n      <td>Kristen Bell</td>\n      <td>None</td>\n    </tr>\n    <tr>\n      <th>27</th>\n      <td>Downhill</td>\n      <td>(2020)</td>\n      <td>4.8</td>\n      <td>49.0</td>\n      <td>954.0</td>\n      <td>\\n    Barely escaping an avalanche during a fa...</td>\n      <td>R</td>\n      <td>86 min</td>\n      <td>\\nComedy, Drama</td>\n      <td>Nat Faxon</td>\n      <td>None</td>\n    </tr>\n    <tr>\n      <th>28</th>\n      <td>Modern Family</td>\n      <td>(2009– )</td>\n      <td>8.4</td>\n      <td>NaN</td>\n      <td>322827.0</td>\n      <td>\\n    Three different but related families fac...</td>\n      <td>TV-PG</td>\n      <td>22 min</td>\n      <td>\\nComedy, Drama, Romance</td>\n      <td>Ed O'Neill</td>\n      <td>None</td>\n    </tr>\n    <tr>\n      <th>29</th>\n      <td>Avenue 5</td>\n      <td>(2020– )</td>\n      <td>5.9</td>\n      <td>NaN</td>\n      <td>4731.0</td>\n      <td>\\n    Space captain Ryan Clark of the Avenue 5...</td>\n      <td>TV-MA</td>\n      <td>None</td>\n      <td>\\nComedy, Sci-Fi</td>\n      <td>Hugh Laurie</td>\n      <td>None</td>\n    </tr>\n    <tr>\n      <th>30</th>\n      <td>The Ranch</td>\n      <td>(2016– )</td>\n      <td>7.5</td>\n      <td>NaN</td>\n      <td>30795.0</td>\n      <td>\\n    The son of a Colorado rancher returns ho...</td>\n      <td>TV-MA</td>\n      <td>30 min</td>\n      <td>\\nComedy, Drama, Western</td>\n      <td>Ashton Kutcher</td>\n      <td>None</td>\n    </tr>\n    <tr>\n      <th>31</th>\n      <td>The Two Popes</td>\n      <td>(2019)</td>\n      <td>7.6</td>\n      <td>75.0</td>\n      <td>74593.0</td>\n      <td>\\n    Behind Vatican walls, the conservative P...</td>\n      <td>PG-13</td>\n      <td>125 min</td>\n      <td>\\nBiography, Comedy, Drama</td>\n      <td>Fernando Meirelles</td>\n      <td>None</td>\n    </tr>\n    <tr>\n      <th>32</th>\n      <td>Rick and Morty</td>\n      <td>(2013– )</td>\n      <td>9.3</td>\n      <td>NaN</td>\n      <td>321552.0</td>\n      <td>\\n    An animated series that follows the expl...</td>\n      <td>TV-MA</td>\n      <td>23 min</td>\n      <td>\\nAnimation, Adventure, Comedy</td>\n      <td>Justin Roiland</td>\n      <td>None</td>\n    </tr>\n    <tr>\n      <th>33</th>\n      <td>Come to Daddy</td>\n      <td>(2019)</td>\n      <td>6.1</td>\n      <td>63.0</td>\n      <td>3212.0</td>\n      <td>\\n    A man in his thirties travels to a remot...</td>\n      <td>R</td>\n      <td>96 min</td>\n      <td>\\nComedy, Horror, Thriller</td>\n      <td>Ant Timpson</td>\n      <td>None</td>\n    </tr>\n    <tr>\n      <th>34</th>\n      <td>Hustlers</td>\n      <td>(2019)</td>\n      <td>6.4</td>\n      <td>79.0</td>\n      <td>53512.0</td>\n      <td>\\n    Inspired by the viral New York Magazine ...</td>\n      <td>R</td>\n      <td>110 min</td>\n      <td>\\nComedy, Crime, Drama</td>\n      <td>Lorene Scafaria</td>\n      <td>80,553,967</td>\n    </tr>\n    <tr>\n      <th>35</th>\n      <td>Grace and Frankie</td>\n      <td>(2015– )</td>\n      <td>8.3</td>\n      <td>NaN</td>\n      <td>34362.0</td>\n      <td>\\n    Finding out that their husbands are not ...</td>\n      <td>TV-MA</td>\n      <td>30 min</td>\n      <td>\\nComedy</td>\n      <td>Lily Tomlin</td>\n      <td>None</td>\n    </tr>\n    <tr>\n      <th>36</th>\n      <td>The Marvelous Mrs. Maisel</td>\n      <td>(2017– )</td>\n      <td>8.8</td>\n      <td>NaN</td>\n      <td>62889.0</td>\n      <td>\\n    A housewife in the 1960s decides to beco...</td>\n      <td>TV-MA</td>\n      <td>57 min</td>\n      <td>\\nComedy, Drama</td>\n      <td>Rachel Brosnahan</td>\n      <td>None</td>\n    </tr>\n    <tr>\n      <th>37</th>\n      <td>The Boys</td>\n      <td>(2019– )</td>\n      <td>8.7</td>\n      <td>NaN</td>\n      <td>131054.0</td>\n      <td>\\n    A group of vigilantes set out to take do...</td>\n      <td>TV-MA</td>\n      <td>60 min</td>\n      <td>\\nAction, Comedy, Crime</td>\n      <td>Karl Urban</td>\n      <td>None</td>\n    </tr>\n    <tr>\n      <th>38</th>\n      <td>The Big Bang Theory</td>\n      <td>(2007–2019)</td>\n      <td>8.1</td>\n      <td>NaN</td>\n      <td>679602.0</td>\n      <td>\\n    A woman who moves into an apartment acro...</td>\n      <td>TV-14</td>\n      <td>22 min</td>\n      <td>\\nComedy, Romance</td>\n      <td>Johnny Galecki</td>\n      <td>None</td>\n    </tr>\n    <tr>\n      <th>39</th>\n      <td>6 Underground</td>\n      <td>(2019)</td>\n      <td>6.1</td>\n      <td>41.0</td>\n      <td>101434.0</td>\n      <td>\\n    Meet a new kind of action hero. Six untr...</td>\n      <td>R</td>\n      <td>128 min</td>\n      <td>\\nAction, Adventure, Comedy</td>\n      <td>Michael Bay</td>\n      <td>None</td>\n    </tr>\n    <tr>\n      <th>40</th>\n      <td>The Peanut Butter Falcon</td>\n      <td>(2019)</td>\n      <td>7.7</td>\n      <td>70.0</td>\n      <td>33517.0</td>\n      <td>\\n    Zak runs away from his care home to make...</td>\n      <td>PG-13</td>\n      <td>97 min</td>\n      <td>\\nAdventure, Comedy, Drama</td>\n      <td>Tyler Nilson</td>\n      <td>13,122,642</td>\n    </tr>\n    <tr>\n      <th>41</th>\n      <td>Suits</td>\n      <td>(2011–2019)</td>\n      <td>8.5</td>\n      <td>NaN</td>\n      <td>342543.0</td>\n      <td>\\n    On the run from a drug deal gone bad, br...</td>\n      <td>TV-14</td>\n      <td>44 min</td>\n      <td>\\nComedy, Drama</td>\n      <td>Gabriel Macht</td>\n      <td>None</td>\n    </tr>\n    <tr>\n      <th>42</th>\n      <td>Death in Paradise</td>\n      <td>(2011– )</td>\n      <td>7.8</td>\n      <td>NaN</td>\n      <td>12487.0</td>\n      <td>\\n    An Irish detective inspector in the UK P...</td>\n      <td>TV-PG</td>\n      <td>60 min</td>\n      <td>\\nComedy, Crime, Drama</td>\n      <td>Danny John-Jules</td>\n      <td>None</td>\n    </tr>\n    <tr>\n      <th>43</th>\n      <td>It's Always Sunny in Philadelphia</td>\n      <td>(2005– )</td>\n      <td>8.8</td>\n      <td>NaN</td>\n      <td>178661.0</td>\n      <td>\\n    Five friends with big egos and slightly ...</td>\n      <td>TV-MA</td>\n      <td>22 min</td>\n      <td>\\nComedy</td>\n      <td>Charlie Day</td>\n      <td>None</td>\n    </tr>\n    <tr>\n      <th>44</th>\n      <td>Thor: Ragnarok</td>\n      <td>(2017)</td>\n      <td>7.9</td>\n      <td>74.0</td>\n      <td>534286.0</td>\n      <td>\\n    Imprisoned on the planet Sakaar, Thor mu...</td>\n      <td>PG-13</td>\n      <td>130 min</td>\n      <td>\\nAction, Adventure, Comedy</td>\n      <td>Taika Waititi</td>\n      <td>315,058,289</td>\n    </tr>\n    <tr>\n      <th>45</th>\n      <td>The Goldbergs</td>\n      <td>(2013– )</td>\n      <td>8.1</td>\n      <td>NaN</td>\n      <td>28613.0</td>\n      <td>\\n    This ABC show takes place in Jenkintown,...</td>\n      <td>TV-PG</td>\n      <td>22 min</td>\n      <td>\\nComedy</td>\n      <td>Wendi McLendon-Covey</td>\n      <td>None</td>\n    </tr>\n    <tr>\n      <th>46</th>\n      <td>Zombieland: Double Tap</td>\n      <td>(2019)</td>\n      <td>6.8</td>\n      <td>55.0</td>\n      <td>84636.0</td>\n      <td>\\n    Columbus, Tallahassee, Wichita, and Litt...</td>\n      <td>R</td>\n      <td>99 min</td>\n      <td>\\nAction, Comedy, Horror</td>\n      <td>Ruben Fleischer</td>\n      <td>26,803,104</td>\n    </tr>\n    <tr>\n      <th>47</th>\n      <td>Green Book</td>\n      <td>(2018)</td>\n      <td>8.2</td>\n      <td>69.0</td>\n      <td>292027.0</td>\n      <td>\\n    A working-class Italian-American bouncer...</td>\n      <td>PG-13</td>\n      <td>130 min</td>\n      <td>\\nBiography, Comedy, Drama</td>\n      <td>Peter Farrelly</td>\n      <td>85,080,171</td>\n    </tr>\n    <tr>\n      <th>48</th>\n      <td>Parks and Recreation</td>\n      <td>(2009–2015)</td>\n      <td>8.6</td>\n      <td>NaN</td>\n      <td>189801.0</td>\n      <td>\\n    The absurd antics of an Indiana town's p...</td>\n      <td>TV-14</td>\n      <td>22 min</td>\n      <td>\\nComedy</td>\n      <td>Amy Poehler</td>\n      <td>None</td>\n    </tr>\n    <tr>\n      <th>49</th>\n      <td>Booksmart</td>\n      <td>(2019)</td>\n      <td>7.2</td>\n      <td>84.0</td>\n      <td>65717.0</td>\n      <td>\\n    On the eve of their high school graduati...</td>\n      <td>R</td>\n      <td>102 min</td>\n      <td>\\nComedy</td>\n      <td>Olivia Wilde</td>\n      <td>22,680,962</td>\n    </tr>\n  </tbody>\n</table>\n</div>"
     },
     "metadata": {},
     "output_type": "execute_result",
     "execution_count": 3
    }
   ],
   "source": [
    "#Storing the IMDb movies in a data frame\n",
    "imdb_df"
   ]
  },
  {
   "cell_type": "code",
   "execution_count": 4,
   "metadata": {
    "pycharm": {
     "is_executing": false,
     "name": "#%%\n"
    }
   },
   "outputs": [
    {
     "name": "stdout",
     "text": [
      "                                                 post             tweet_id  \\\n",
      "0   RT @DalhousieU: ICYMI: the documentary film \"T...  1231379455765073923   \n",
      "1   RT @DalNursing: .@EllenPage: “The more we film...  1231060163542626305   \n",
      "2           @HABlackFilmFest @iwaldron2165 Thank you!  1231056482902462466   \n",
      "3   RT @HABlackFilmFest: Happy Birthday, @EllenPag...  1231056411267936257   \n",
      "4                               @etalkCTV Thank you 🙏  1230988627280322560   \n",
      "..                                                ...                  ...   \n",
      "86  Read Jimmy Kimmel’s emotional, scathing monolo...   915125195639185409   \n",
      "87  The Smithsonian just put it out. Thanks to the...   914332622637088768   \n",
      "88  Gary Ross, David Blight, Steven Hahn Honored t...   914331790122270720   \n",
      "89  RT @dandrezner: I'm seriously beginning to thi...   909882631487029248   \n",
      "90  Thought I'd put this up again https://t.co/gmu...   899025144055709696   \n",
      "\n",
      "    retweeted           timestamp    screenname        name  \n",
      "0       False 2020-02-23 00:45:14     EllenPage  Ellen Page  \n",
      "1       False 2020-02-22 03:36:29     EllenPage  Ellen Page  \n",
      "2       False 2020-02-22 03:21:52     EllenPage  Ellen Page  \n",
      "3       False 2020-02-22 03:21:35     EllenPage  Ellen Page  \n",
      "4       False 2020-02-21 22:52:14     EllenPage  Ellen Page  \n",
      "..        ...                 ...           ...         ...  \n",
      "86      False 2017-10-03 08:03:43  RealGaryRoss   Gary Ross  \n",
      "87      False 2017-10-01 03:34:19  RealGaryRoss   Gary Ross  \n",
      "88      False 2017-10-01 03:31:00  RealGaryRoss   Gary Ross  \n",
      "89      False 2017-09-18 20:51:38  RealGaryRoss   Gary Ross  \n",
      "90      False 2017-08-19 21:47:52  RealGaryRoss   Gary Ross  \n",
      "\n",
      "[91 rows x 6 columns]\n"
     ],
     "output_type": "stream"
    }
   ],
   "source": [
    "import tweepy\n",
    "\n",
    "auth = tweepy.OAuthHandler('hzTTj9HU4Ru77Z7eKGO7IRXJw', 'WAKstXWAnWVvE2DYZciThLm4y9iuPVdoig4nFUMeQkLi5pU9rI')\n",
    "auth.set_access_token('1231001224624738304-vbZOTSOt1a3ZhGFCsdmwkNtCMq8J78', 'TJ33XPyZNbVAaw7TqpNZFSxHUf6VNqvIBIcsbngKrXvrC')\n",
    "\n",
    "api = tweepy.API(auth)\n",
    "post=[]\n",
    "tweet_id=[]\n",
    "retweeted=[]\n",
    "screenname=[]\n",
    "users=[\"EllenPage\",\"Scorsese4Ever\",\"AndySamberg\",\"jonnybernthal\",\"ben_mckenzie\",\"kj_apa\",\"StephenAmell\",\"ItsRamiMalek\",\"BryanCranston\",\"RealGaryRoss\"]\n",
    "timestamp=[]\n",
    "name=[]\n",
    "\n",
    "for username in users:\n",
    "    \n",
    "    for status in tweepy.Cursor(api.user_timeline, username).items(10):\n",
    "        post.append(status.text)\n",
    "        tweet_id.append(status.id)\n",
    "        retweeted.append(status.retweeted)\n",
    "        timestamp.append(status.created_at)\n",
    "        screenname.append(status.user.screen_name)\n",
    "        name.append(status.user.name)\n",
    "        \n",
    "dataframeMovie_1 = pd.DataFrame(\n",
    "    {'post': post,\n",
    "     'tweet_id': tweet_id,\n",
    "     'retweeted': retweeted,\n",
    "     'timestamp': timestamp,\n",
    "     'screenname':screenname,\n",
    "     'name':name\n",
    "    })\n",
    "print(dataframeMovie_1)"
   ]
  },
  {
   "cell_type": "code",
   "execution_count": null,
   "metadata": {
    "pycharm": {
     "is_executing": true,
     "name": "#%%\n"
    }
   },
   "outputs": [],
   "source": []
  },
  {
   "cell_type": "code",
   "execution_count": 5,
   "metadata": {
    "pycharm": {
     "is_executing": false,
     "name": "#%%\n"
    }
   },
   "outputs": [
    {
     "data": {
      "text/plain": "                                                 post             tweet_id  \\\n0                         @justinhmin rise n shine ☀️  1230219228445388800   \n1   @xalwayshigh @klauseyebrows @Beantacles @David...  1230196174549913601   \n2   @fangirlburnham stepping down from this positi...  1230196148775931906   \n3   @polarizespace @klauseyebrows @Beantacles @Dav...  1230196088948305922   \n4   @klauseyebrows @Beantacles @DavidCastanedaJ @j...  1230195736765177856   \n..                                                ...                  ...   \n95  Wishing Helena Bonham Carter a happy birthday!...  1132692879116128257   \n96  Wishing Cate Blanchett a very happy birthday! ...  1128344220262129664   \n97     Which way to the Gala? https://t.co/nKwOPe3UfH  1125565016306925568   \n98  Happy Birthday Bad Gal, @rihanna. https://t.co...  1098275003378806784   \n99  Congrats to the #Oceans8 costume designer Sara...  1083498281966006272   \n\n    retweeted           timestamp    screenname              name  \n0       False 2020-02-19 19:54:55  UmbrellaAcad  Umbrella Academy  \n1       False 2020-02-19 18:23:18  UmbrellaAcad  Umbrella Academy  \n2       False 2020-02-19 18:23:12  UmbrellaAcad  Umbrella Academy  \n3       False 2020-02-19 18:22:58  UmbrellaAcad  Umbrella Academy  \n4       False 2020-02-19 18:21:34  UmbrellaAcad  Umbrella Academy  \n..        ...                 ...           ...               ...  \n95      False 2019-05-26 17:00:01  oceans8movie      Oceans8Movie  \n96      False 2019-05-14 17:00:00  oceans8movie      Oceans8Movie  \n97      False 2019-05-07 00:56:26  oceans8movie      Oceans8Movie  \n98      False 2019-02-20 17:35:40  oceans8movie      Oceans8Movie  \n99      False 2019-01-10 22:58:15  oceans8movie      Oceans8Movie  \n\n[100 rows x 6 columns]",
      "text/html": "<div>\n<style scoped>\n    .dataframe tbody tr th:only-of-type {\n        vertical-align: middle;\n    }\n\n    .dataframe tbody tr th {\n        vertical-align: top;\n    }\n\n    .dataframe thead th {\n        text-align: right;\n    }\n</style>\n<table border=\"1\" class=\"dataframe\">\n  <thead>\n    <tr style=\"text-align: right;\">\n      <th></th>\n      <th>post</th>\n      <th>tweet_id</th>\n      <th>retweeted</th>\n      <th>timestamp</th>\n      <th>screenname</th>\n      <th>name</th>\n    </tr>\n  </thead>\n  <tbody>\n    <tr>\n      <th>0</th>\n      <td>@justinhmin rise n shine ☀️</td>\n      <td>1230219228445388800</td>\n      <td>False</td>\n      <td>2020-02-19 19:54:55</td>\n      <td>UmbrellaAcad</td>\n      <td>Umbrella Academy</td>\n    </tr>\n    <tr>\n      <th>1</th>\n      <td>@xalwayshigh @klauseyebrows @Beantacles @David...</td>\n      <td>1230196174549913601</td>\n      <td>False</td>\n      <td>2020-02-19 18:23:18</td>\n      <td>UmbrellaAcad</td>\n      <td>Umbrella Academy</td>\n    </tr>\n    <tr>\n      <th>2</th>\n      <td>@fangirlburnham stepping down from this positi...</td>\n      <td>1230196148775931906</td>\n      <td>False</td>\n      <td>2020-02-19 18:23:12</td>\n      <td>UmbrellaAcad</td>\n      <td>Umbrella Academy</td>\n    </tr>\n    <tr>\n      <th>3</th>\n      <td>@polarizespace @klauseyebrows @Beantacles @Dav...</td>\n      <td>1230196088948305922</td>\n      <td>False</td>\n      <td>2020-02-19 18:22:58</td>\n      <td>UmbrellaAcad</td>\n      <td>Umbrella Academy</td>\n    </tr>\n    <tr>\n      <th>4</th>\n      <td>@klauseyebrows @Beantacles @DavidCastanedaJ @j...</td>\n      <td>1230195736765177856</td>\n      <td>False</td>\n      <td>2020-02-19 18:21:34</td>\n      <td>UmbrellaAcad</td>\n      <td>Umbrella Academy</td>\n    </tr>\n    <tr>\n      <th>...</th>\n      <td>...</td>\n      <td>...</td>\n      <td>...</td>\n      <td>...</td>\n      <td>...</td>\n      <td>...</td>\n    </tr>\n    <tr>\n      <th>95</th>\n      <td>Wishing Helena Bonham Carter a happy birthday!...</td>\n      <td>1132692879116128257</td>\n      <td>False</td>\n      <td>2019-05-26 17:00:01</td>\n      <td>oceans8movie</td>\n      <td>Oceans8Movie</td>\n    </tr>\n    <tr>\n      <th>96</th>\n      <td>Wishing Cate Blanchett a very happy birthday! ...</td>\n      <td>1128344220262129664</td>\n      <td>False</td>\n      <td>2019-05-14 17:00:00</td>\n      <td>oceans8movie</td>\n      <td>Oceans8Movie</td>\n    </tr>\n    <tr>\n      <th>97</th>\n      <td>Which way to the Gala? https://t.co/nKwOPe3UfH</td>\n      <td>1125565016306925568</td>\n      <td>False</td>\n      <td>2019-05-07 00:56:26</td>\n      <td>oceans8movie</td>\n      <td>Oceans8Movie</td>\n    </tr>\n    <tr>\n      <th>98</th>\n      <td>Happy Birthday Bad Gal, @rihanna. https://t.co...</td>\n      <td>1098275003378806784</td>\n      <td>False</td>\n      <td>2019-02-20 17:35:40</td>\n      <td>oceans8movie</td>\n      <td>Oceans8Movie</td>\n    </tr>\n    <tr>\n      <th>99</th>\n      <td>Congrats to the #Oceans8 costume designer Sara...</td>\n      <td>1083498281966006272</td>\n      <td>False</td>\n      <td>2019-01-10 22:58:15</td>\n      <td>oceans8movie</td>\n      <td>Oceans8Movie</td>\n    </tr>\n  </tbody>\n</table>\n<p>100 rows × 6 columns</p>\n</div>"
     },
     "metadata": {},
     "output_type": "execute_result",
     "execution_count": 5
    }
   ],
   "source": [
    "auth = tweepy.OAuthHandler('hzTTj9HU4Ru77Z7eKGO7IRXJw', 'WAKstXWAnWVvE2DYZciThLm4y9iuPVdoig4nFUMeQkLi5pU9rI')\n",
    "auth.set_access_token('1231001224624738304-vbZOTSOt1a3ZhGFCsdmwkNtCMq8J78', 'TJ33XPyZNbVAaw7TqpNZFSxHUf6VNqvIBIcsbngKrXvrC')\n",
    "\n",
    "api = tweepy.API(auth)\n",
    "post=[]\n",
    "tweet_id=[]\n",
    "retweeted=[]\n",
    "screenname=[]\n",
    "users=[\"UmbrellaAcad\",\"Irishman_Movie\",\"nbcbrooklyn99\",\"ThePunisher\",\"Gotham\",\"CW_Riverdale\",\"CW_Arrow\",\"whoismrrobot\",\"BreakingBad\",\"oceans8movie\",]\n",
    "timestamp=[]\n",
    "name=[]\n",
    "\n",
    "for username in users:\n",
    "    \n",
    "    for status in tweepy.Cursor(api.user_timeline, username).items(10):\n",
    "        #print(status)\n",
    "        post.append(status.text)\n",
    "        tweet_id.append(status.id)\n",
    "        retweeted.append(status.retweeted)\n",
    "        timestamp.append(status.created_at)\n",
    "        screenname.append(status.user.screen_name)\n",
    "        name.append(status.user.name)\n",
    "        \n",
    "    \n",
    "    \n",
    "\n",
    "dataframeMovie_2 = pd.DataFrame(\n",
    "    {'post': post,\n",
    "     'tweet_id': tweet_id,\n",
    "     'retweeted': retweeted,\n",
    "     'timestamp': timestamp,\n",
    "     'screenname':screenname,\n",
    "     'name':name\n",
    "    })\n",
    "dataframeMovie_2\n",
    "\n"
   ]
  },
  {
   "cell_type": "code",
   "execution_count": null,
   "metadata": {},
   "outputs": [],
   "source": []
  },
  {
   "cell_type": "code",
   "execution_count": 7,
   "outputs": [],
   "source": [
    "import sqlite3\n",
    "conn = sqlite3.connect('TMDB_Database')\n"
   ],
   "metadata": {
    "collapsed": false,
    "pycharm": {
     "name": "#%%\n",
     "is_executing": false
    }
   }
  },
  {
   "cell_type": "code",
   "execution_count": 18,
   "outputs": [],
   "source": [
    "#Inserting the Company dataframe as company into the physical database\n",
    "dataframeMovie_2.to_sql('users',con=conn,index=False, if_exists='replace')\n",
    "\n",
    "#Inserting the Producer dataframe as producer into the physical database\n",
    "dataframeMovie_1.to_sql('director',con=conn,index=False, if_exists='replace')\n",
    "\n",
    "#Inserting the IMDb dataframe as consumer_2 into the physical database\n",
    "imdb_df.to_sql('movies',con=conn,index=False, if_exists='replace')\n",
    "\n"
   ],
   "metadata": {
    "collapsed": false,
    "pycharm": {
     "name": "#%%\n",
     "is_executing": false
    }
   }
  },
  {
   "cell_type": "code",
   "execution_count": 15,
   "outputs": [],
   "source": [
    "dataframeMovie_2.to_csv('users.csv')\n",
    "dataframeMovie_1.to_csv('director.csv')\n",
    "imdb_df.to_csv('movies.csv')\n",
    "\n"
   ],
   "metadata": {
    "collapsed": false,
    "pycharm": {
     "name": "#%%\n",
     "is_executing": false
    }
   }
  },
  {
   "cell_type": "code",
   "execution_count": 10,
   "outputs": [
    {
     "data": {
      "text/plain": "    type        name    tbl_name  rootpage  \\\n0  table     company     company         2   \n1  table    producer    producer         8   \n2  table  consumer_2  consumer_2        13   \n\n                                                 sql  \n0  CREATE TABLE \"company\" (\\n\"post\" TEXT,\\n  \"twe...  \n1  CREATE TABLE \"producer\" (\\n\"post\" TEXT,\\n  \"tw...  \n2  CREATE TABLE \"consumer_2\" (\\n\"movie_names\" TEX...  ",
      "text/html": "<div>\n<style scoped>\n    .dataframe tbody tr th:only-of-type {\n        vertical-align: middle;\n    }\n\n    .dataframe tbody tr th {\n        vertical-align: top;\n    }\n\n    .dataframe thead th {\n        text-align: right;\n    }\n</style>\n<table border=\"1\" class=\"dataframe\">\n  <thead>\n    <tr style=\"text-align: right;\">\n      <th></th>\n      <th>type</th>\n      <th>name</th>\n      <th>tbl_name</th>\n      <th>rootpage</th>\n      <th>sql</th>\n    </tr>\n  </thead>\n  <tbody>\n    <tr>\n      <th>0</th>\n      <td>table</td>\n      <td>company</td>\n      <td>company</td>\n      <td>2</td>\n      <td>CREATE TABLE \"company\" (\\n\"post\" TEXT,\\n  \"twe...</td>\n    </tr>\n    <tr>\n      <th>1</th>\n      <td>table</td>\n      <td>producer</td>\n      <td>producer</td>\n      <td>8</td>\n      <td>CREATE TABLE \"producer\" (\\n\"post\" TEXT,\\n  \"tw...</td>\n    </tr>\n    <tr>\n      <th>2</th>\n      <td>table</td>\n      <td>consumer_2</td>\n      <td>consumer_2</td>\n      <td>13</td>\n      <td>CREATE TABLE \"consumer_2\" (\\n\"movie_names\" TEX...</td>\n    </tr>\n  </tbody>\n</table>\n</div>"
     },
     "metadata": {},
     "output_type": "execute_result",
     "execution_count": 10
    }
   ],
   "source": [
    "def run_query(query):\n",
    "    return pd.read_sql(query,conn)\n",
    "run_query('select * from sqlite_master where type = \"table\"')"
   ],
   "metadata": {
    "collapsed": false,
    "pycharm": {
     "name": "#%%\n",
     "is_executing": false
    }
   }
  },
  {
   "cell_type": "code",
   "execution_count": 21,
   "outputs": [
    {
     "data": {
      "text/plain": "                                                 post             tweet_id  \\\n0                         @justinhmin rise n shine ☀️  1230219228445388800   \n1   @xalwayshigh @klauseyebrows @Beantacles @David...  1230196174549913601   \n2   @fangirlburnham stepping down from this positi...  1230196148775931906   \n3   @polarizespace @klauseyebrows @Beantacles @Dav...  1230196088948305922   \n4   @klauseyebrows @Beantacles @DavidCastanedaJ @j...  1230195736765177856   \n..                                                ...                  ...   \n95  Wishing Helena Bonham Carter a happy birthday!...  1132692879116128257   \n96  Wishing Cate Blanchett a very happy birthday! ...  1128344220262129664   \n97     Which way to the Gala? https://t.co/nKwOPe3UfH  1125565016306925568   \n98  Happy Birthday Bad Gal, @rihanna. https://t.co...  1098275003378806784   \n99  Congrats to the #Oceans8 costume designer Sara...  1083498281966006272   \n\n    retweeted            timestamp    screenname              name  \n0           0  2020-02-19 19:54:55  UmbrellaAcad  Umbrella Academy  \n1           0  2020-02-19 18:23:18  UmbrellaAcad  Umbrella Academy  \n2           0  2020-02-19 18:23:12  UmbrellaAcad  Umbrella Academy  \n3           0  2020-02-19 18:22:58  UmbrellaAcad  Umbrella Academy  \n4           0  2020-02-19 18:21:34  UmbrellaAcad  Umbrella Academy  \n..        ...                  ...           ...               ...  \n95          0  2019-05-26 17:00:01  oceans8movie      Oceans8Movie  \n96          0  2019-05-14 17:00:00  oceans8movie      Oceans8Movie  \n97          0  2019-05-07 00:56:26  oceans8movie      Oceans8Movie  \n98          0  2019-02-20 17:35:40  oceans8movie      Oceans8Movie  \n99          0  2019-01-10 22:58:15  oceans8movie      Oceans8Movie  \n\n[100 rows x 6 columns]",
      "text/html": "<div>\n<style scoped>\n    .dataframe tbody tr th:only-of-type {\n        vertical-align: middle;\n    }\n\n    .dataframe tbody tr th {\n        vertical-align: top;\n    }\n\n    .dataframe thead th {\n        text-align: right;\n    }\n</style>\n<table border=\"1\" class=\"dataframe\">\n  <thead>\n    <tr style=\"text-align: right;\">\n      <th></th>\n      <th>post</th>\n      <th>tweet_id</th>\n      <th>retweeted</th>\n      <th>timestamp</th>\n      <th>screenname</th>\n      <th>name</th>\n    </tr>\n  </thead>\n  <tbody>\n    <tr>\n      <th>0</th>\n      <td>@justinhmin rise n shine ☀️</td>\n      <td>1230219228445388800</td>\n      <td>0</td>\n      <td>2020-02-19 19:54:55</td>\n      <td>UmbrellaAcad</td>\n      <td>Umbrella Academy</td>\n    </tr>\n    <tr>\n      <th>1</th>\n      <td>@xalwayshigh @klauseyebrows @Beantacles @David...</td>\n      <td>1230196174549913601</td>\n      <td>0</td>\n      <td>2020-02-19 18:23:18</td>\n      <td>UmbrellaAcad</td>\n      <td>Umbrella Academy</td>\n    </tr>\n    <tr>\n      <th>2</th>\n      <td>@fangirlburnham stepping down from this positi...</td>\n      <td>1230196148775931906</td>\n      <td>0</td>\n      <td>2020-02-19 18:23:12</td>\n      <td>UmbrellaAcad</td>\n      <td>Umbrella Academy</td>\n    </tr>\n    <tr>\n      <th>3</th>\n      <td>@polarizespace @klauseyebrows @Beantacles @Dav...</td>\n      <td>1230196088948305922</td>\n      <td>0</td>\n      <td>2020-02-19 18:22:58</td>\n      <td>UmbrellaAcad</td>\n      <td>Umbrella Academy</td>\n    </tr>\n    <tr>\n      <th>4</th>\n      <td>@klauseyebrows @Beantacles @DavidCastanedaJ @j...</td>\n      <td>1230195736765177856</td>\n      <td>0</td>\n      <td>2020-02-19 18:21:34</td>\n      <td>UmbrellaAcad</td>\n      <td>Umbrella Academy</td>\n    </tr>\n    <tr>\n      <th>...</th>\n      <td>...</td>\n      <td>...</td>\n      <td>...</td>\n      <td>...</td>\n      <td>...</td>\n      <td>...</td>\n    </tr>\n    <tr>\n      <th>95</th>\n      <td>Wishing Helena Bonham Carter a happy birthday!...</td>\n      <td>1132692879116128257</td>\n      <td>0</td>\n      <td>2019-05-26 17:00:01</td>\n      <td>oceans8movie</td>\n      <td>Oceans8Movie</td>\n    </tr>\n    <tr>\n      <th>96</th>\n      <td>Wishing Cate Blanchett a very happy birthday! ...</td>\n      <td>1128344220262129664</td>\n      <td>0</td>\n      <td>2019-05-14 17:00:00</td>\n      <td>oceans8movie</td>\n      <td>Oceans8Movie</td>\n    </tr>\n    <tr>\n      <th>97</th>\n      <td>Which way to the Gala? https://t.co/nKwOPe3UfH</td>\n      <td>1125565016306925568</td>\n      <td>0</td>\n      <td>2019-05-07 00:56:26</td>\n      <td>oceans8movie</td>\n      <td>Oceans8Movie</td>\n    </tr>\n    <tr>\n      <th>98</th>\n      <td>Happy Birthday Bad Gal, @rihanna. https://t.co...</td>\n      <td>1098275003378806784</td>\n      <td>0</td>\n      <td>2019-02-20 17:35:40</td>\n      <td>oceans8movie</td>\n      <td>Oceans8Movie</td>\n    </tr>\n    <tr>\n      <th>99</th>\n      <td>Congrats to the #Oceans8 costume designer Sara...</td>\n      <td>1083498281966006272</td>\n      <td>0</td>\n      <td>2019-01-10 22:58:15</td>\n      <td>oceans8movie</td>\n      <td>Oceans8Movie</td>\n    </tr>\n  </tbody>\n</table>\n<p>100 rows × 6 columns</p>\n</div>"
     },
     "metadata": {},
     "output_type": "execute_result",
     "execution_count": 21
    }
   ],
   "source": [
    "# Query 1: view all users\n",
    "run_query('SELECT * from users')\n",
    "\n"
   ],
   "metadata": {
    "collapsed": false,
    "pycharm": {
     "name": "#%%\n",
     "is_executing": false
    }
   }
  },
  {
   "cell_type": "code",
   "execution_count": 19,
   "outputs": [],
   "source": [],
   "metadata": {
    "collapsed": false,
    "pycharm": {
     "name": "#%%\n",
     "is_executing": false
    }
   }
  },
  {
   "cell_type": "code",
   "execution_count": 29,
   "outputs": [
    {
     "data": {
      "text/plain": "   retweeted            timestamp              name\n0          0  2020-02-19 19:54:55  Umbrella Academy",
      "text/html": "<div>\n<style scoped>\n    .dataframe tbody tr th:only-of-type {\n        vertical-align: middle;\n    }\n\n    .dataframe tbody tr th {\n        vertical-align: top;\n    }\n\n    .dataframe thead th {\n        text-align: right;\n    }\n</style>\n<table border=\"1\" class=\"dataframe\">\n  <thead>\n    <tr style=\"text-align: right;\">\n      <th></th>\n      <th>retweeted</th>\n      <th>timestamp</th>\n      <th>name</th>\n    </tr>\n  </thead>\n  <tbody>\n    <tr>\n      <th>0</th>\n      <td>0</td>\n      <td>2020-02-19 19:54:55</td>\n      <td>Umbrella Academy</td>\n    </tr>\n  </tbody>\n</table>\n</div>"
     },
     "metadata": {},
     "output_type": "execute_result",
     "execution_count": 29
    }
   ],
   "source": [
    "# Query 2: When was this specific post created?\n",
    "run_query('SELECT retweeted,timestamp,name FROM users WHERE screenname LIKE \"%UmbrellaAcad%\" AND tweet_id=1230219228445388800')\n",
    "\n"
   ],
   "metadata": {
    "collapsed": false,
    "pycharm": {
     "name": "#%%\n",
     "is_executing": false
    }
   }
  },
  {
   "cell_type": "code",
   "execution_count": 35,
   "outputs": [
    {
     "data": {
      "text/plain": "                        movie_names year_release  imdb_ratings  metascores  \\\n0                          Parasite       (2019)           8.6        96.0   \n1                    Marriage Story       (2019)           8.0        93.0   \n2                       Toy Story 4       (2019)           7.9        84.0   \n3                         Booksmart       (2019)           7.2        84.0   \n4  Once Upon a Time... in Hollywood       (2019)           7.7        83.0   \n5                        Knives Out       (2019)           8.0        82.0   \n\n      votes                                  movie_description certificate  \\\n0  265908.0  \\n    A poor family, the Kims, con their way i...           R   \n1  175580.0  \\n    Noah Baumbach's incisive and compassiona...           R   \n2  158051.0  \\n    When a new toy called \"Forky\" joins Wood...           G   \n3   65717.0  \\n    On the eve of their high school graduati...           R   \n4  390536.0  \\n    A faded television actor and his stunt d...           R   \n5  183924.0  \\n    A detective investigates the death of a ...       PG-13   \n\n   runtime                                       genre      director_name  \\\n0  132 min       \\nComedy, Drama, Thriller                   Bong Joon Ho   \n1  137 min        \\nComedy, Drama, Romance                  Noah Baumbach   \n2  100 min  \\nAnimation, Adventure, Comedy                    Josh Cooley   \n3  102 min                        \\nComedy                   Olivia Wilde   \n4  161 min                 \\nComedy, Drama              Quentin Tarantino   \n5  131 min          \\nComedy, Crime, Drama                   Rian Johnson   \n\n   gross_value  \n0         None  \n1         None  \n2  433,033,071  \n3   22,680,962  \n4  135,371,627  \n5         None  ",
      "text/html": "<div>\n<style scoped>\n    .dataframe tbody tr th:only-of-type {\n        vertical-align: middle;\n    }\n\n    .dataframe tbody tr th {\n        vertical-align: top;\n    }\n\n    .dataframe thead th {\n        text-align: right;\n    }\n</style>\n<table border=\"1\" class=\"dataframe\">\n  <thead>\n    <tr style=\"text-align: right;\">\n      <th></th>\n      <th>movie_names</th>\n      <th>year_release</th>\n      <th>imdb_ratings</th>\n      <th>metascores</th>\n      <th>votes</th>\n      <th>movie_description</th>\n      <th>certificate</th>\n      <th>runtime</th>\n      <th>genre</th>\n      <th>director_name</th>\n      <th>gross_value</th>\n    </tr>\n  </thead>\n  <tbody>\n    <tr>\n      <th>0</th>\n      <td>Parasite</td>\n      <td>(2019)</td>\n      <td>8.6</td>\n      <td>96.0</td>\n      <td>265908.0</td>\n      <td>\\n    A poor family, the Kims, con their way i...</td>\n      <td>R</td>\n      <td>132 min</td>\n      <td>\\nComedy, Drama, Thriller</td>\n      <td>Bong Joon Ho</td>\n      <td>None</td>\n    </tr>\n    <tr>\n      <th>1</th>\n      <td>Marriage Story</td>\n      <td>(2019)</td>\n      <td>8.0</td>\n      <td>93.0</td>\n      <td>175580.0</td>\n      <td>\\n    Noah Baumbach's incisive and compassiona...</td>\n      <td>R</td>\n      <td>137 min</td>\n      <td>\\nComedy, Drama, Romance</td>\n      <td>Noah Baumbach</td>\n      <td>None</td>\n    </tr>\n    <tr>\n      <th>2</th>\n      <td>Toy Story 4</td>\n      <td>(2019)</td>\n      <td>7.9</td>\n      <td>84.0</td>\n      <td>158051.0</td>\n      <td>\\n    When a new toy called \"Forky\" joins Wood...</td>\n      <td>G</td>\n      <td>100 min</td>\n      <td>\\nAnimation, Adventure, Comedy</td>\n      <td>Josh Cooley</td>\n      <td>433,033,071</td>\n    </tr>\n    <tr>\n      <th>3</th>\n      <td>Booksmart</td>\n      <td>(2019)</td>\n      <td>7.2</td>\n      <td>84.0</td>\n      <td>65717.0</td>\n      <td>\\n    On the eve of their high school graduati...</td>\n      <td>R</td>\n      <td>102 min</td>\n      <td>\\nComedy</td>\n      <td>Olivia Wilde</td>\n      <td>22,680,962</td>\n    </tr>\n    <tr>\n      <th>4</th>\n      <td>Once Upon a Time... in Hollywood</td>\n      <td>(2019)</td>\n      <td>7.7</td>\n      <td>83.0</td>\n      <td>390536.0</td>\n      <td>\\n    A faded television actor and his stunt d...</td>\n      <td>R</td>\n      <td>161 min</td>\n      <td>\\nComedy, Drama</td>\n      <td>Quentin Tarantino</td>\n      <td>135,371,627</td>\n    </tr>\n    <tr>\n      <th>5</th>\n      <td>Knives Out</td>\n      <td>(2019)</td>\n      <td>8.0</td>\n      <td>82.0</td>\n      <td>183924.0</td>\n      <td>\\n    A detective investigates the death of a ...</td>\n      <td>PG-13</td>\n      <td>131 min</td>\n      <td>\\nComedy, Crime, Drama</td>\n      <td>Rian Johnson</td>\n      <td>None</td>\n    </tr>\n  </tbody>\n</table>\n</div>"
     },
     "metadata": {},
     "output_type": "execute_result",
     "execution_count": 35
    }
   ],
   "source": [
    "#Query 3: Which are the movies with highest score?\n",
    "run_query('SELECT * FROM movies WHERE metascores >=80  ORDER BY metascores DESC')"
   ],
   "metadata": {
    "collapsed": false,
    "pycharm": {
     "name": "#%%\n",
     "is_executing": false
    }
   }
  },
  {
   "cell_type": "code",
   "execution_count": 40,
   "outputs": [
    {
     "data": {
      "text/plain": "                                                post             tweet_id  \\\n0  Happy Birthday to our brilliant Nine Ball, Rih...  1230560516159889410   \n\n   retweeted            timestamp    screenname          name  \n0          0  2020-02-20 18:31:04  oceans8movie  Oceans8Movie  ",
      "text/html": "<div>\n<style scoped>\n    .dataframe tbody tr th:only-of-type {\n        vertical-align: middle;\n    }\n\n    .dataframe tbody tr th {\n        vertical-align: top;\n    }\n\n    .dataframe thead th {\n        text-align: right;\n    }\n</style>\n<table border=\"1\" class=\"dataframe\">\n  <thead>\n    <tr style=\"text-align: right;\">\n      <th></th>\n      <th>post</th>\n      <th>tweet_id</th>\n      <th>retweeted</th>\n      <th>timestamp</th>\n      <th>screenname</th>\n      <th>name</th>\n    </tr>\n  </thead>\n  <tbody>\n    <tr>\n      <th>0</th>\n      <td>Happy Birthday to our brilliant Nine Ball, Rih...</td>\n      <td>1230560516159889410</td>\n      <td>0</td>\n      <td>2020-02-20 18:31:04</td>\n      <td>oceans8movie</td>\n      <td>Oceans8Movie</td>\n    </tr>\n  </tbody>\n</table>\n</div>"
     },
     "metadata": {},
     "output_type": "execute_result",
     "execution_count": 40
    }
   ],
   "source": [
    "# Query 4: What are the most recent tweets from this user?\n",
    "\n",
    "run_query('SELECT * FROM users WHERE screenname = \"oceans8movie\" and timestamp > \"2020-02-20 00:00:00\" AND timestamp < \"2020-02-22 23:59:59\"')\n"
   ],
   "metadata": {
    "collapsed": false,
    "pycharm": {
     "name": "#%%\n",
     "is_executing": false
    }
   }
  },
  {
   "cell_type": "code",
   "execution_count": 43,
   "outputs": [
    {
     "data": {
      "text/plain": "       votes                        movie_names year_release  imdb_ratings\n0   737902.0                            Friends  (1994–2004)           8.9\n1   679602.0                The Big Bang Theory  (2007–2019)           8.1\n2   534286.0                     Thor: Ragnarok       (2017)           7.9\n3   390536.0   Once Upon a Time... in Hollywood       (2019)           7.7\n4   342543.0                              Suits  (2011–2019)           8.5\n5   338808.0                         The Office  (2005–2013)           8.8\n6   322827.0                      Modern Family     (2009– )           8.4\n7   321552.0                     Rick and Morty     (2013– )           9.3\n8   292027.0                         Green Book       (2018)           8.2\n9   265908.0                           Parasite       (2019)           8.6\n10  189801.0               Parks and Recreation  (2009–2015)           8.6\n11  185811.0                          Shameless     (2011– )           8.6\n12  183924.0                         Knives Out       (2019)           8.0\n13  179105.0                 Brooklyn Nine-Nine     (2013– )           8.4\n14  178661.0  It's Always Sunny in Philadelphia     (2005– )           8.8\n15  175580.0                     Marriage Story       (2019)           8.0\n16  158051.0                        Toy Story 4       (2019)           7.9\n17  132181.0                        Jojo Rabbit       (2019)           8.0\n18  131054.0                           The Boys     (2019– )           8.7\n19  111281.0                      Sex Education     (2019– )           8.3\n20  101434.0                      6 Underground       (2019)           6.1\n21   92010.0               Curb Your Enthusiasm     (2000– )           8.7\n22   88092.0                         This Is Us     (2016– )           8.7\n23   88018.0                     The Good Place  (2016–2020)           8.2\n24   87898.0                    BoJack Horseman  (2014–2020)           8.7\n25   84636.0             Zombieland: Double Tap       (2019)           6.8\n26   82940.0            Jumanji: The Next Level       (2019)           6.9\n27   74593.0                      The Two Popes       (2019)           7.6\n28   73822.0                          Frozen II       (2019)           7.1\n29   65717.0                          Booksmart       (2019)           7.2\n30   62889.0          The Marvelous Mrs. Maisel     (2017– )           8.8\n31   53512.0                           Hustlers       (2019)           6.4\n32   39997.0                  Bad Boys For Life       (2020)           7.2\n33   34362.0                  Grace and Frankie     (2015– )           8.3\n34   33517.0           The Peanut Butter Falcon       (2019)           7.7\n35   30795.0                          The Ranch     (2016– )           7.5\n36   28613.0                      The Goldbergs     (2013– )           8.1\n37   27101.0                     Schitt's Creek     (2015– )           8.3\n38   26632.0                               Cats       (2019)           2.8\n39   24289.0                   Charlie's Angels       (2019)           4.4\n40   15295.0                           Dolittle       (2020)           5.5\n41   14401.0                 Sonic the Hedgehog       (2020)           6.9\n42   12487.0                  Death in Paradise     (2011– )           7.8\n43    4731.0                           Avenue 5     (2020– )           5.9\n44    3455.0                     Fantasy Island       (2020)           4.7\n45    3212.0                      Come to Daddy       (2019)           6.1\n46    2164.0      Mythic Quest: Raven's Banquet     (2020– )           7.4\n47    1309.0                              Emma.       (2020)           6.8\n48     954.0                           Downhill       (2020)           4.8\n49       NaN                The French Dispatch       (2020)           NaN",
      "text/html": "<div>\n<style scoped>\n    .dataframe tbody tr th:only-of-type {\n        vertical-align: middle;\n    }\n\n    .dataframe tbody tr th {\n        vertical-align: top;\n    }\n\n    .dataframe thead th {\n        text-align: right;\n    }\n</style>\n<table border=\"1\" class=\"dataframe\">\n  <thead>\n    <tr style=\"text-align: right;\">\n      <th></th>\n      <th>votes</th>\n      <th>movie_names</th>\n      <th>year_release</th>\n      <th>imdb_ratings</th>\n    </tr>\n  </thead>\n  <tbody>\n    <tr>\n      <th>0</th>\n      <td>737902.0</td>\n      <td>Friends</td>\n      <td>(1994–2004)</td>\n      <td>8.9</td>\n    </tr>\n    <tr>\n      <th>1</th>\n      <td>679602.0</td>\n      <td>The Big Bang Theory</td>\n      <td>(2007–2019)</td>\n      <td>8.1</td>\n    </tr>\n    <tr>\n      <th>2</th>\n      <td>534286.0</td>\n      <td>Thor: Ragnarok</td>\n      <td>(2017)</td>\n      <td>7.9</td>\n    </tr>\n    <tr>\n      <th>3</th>\n      <td>390536.0</td>\n      <td>Once Upon a Time... in Hollywood</td>\n      <td>(2019)</td>\n      <td>7.7</td>\n    </tr>\n    <tr>\n      <th>4</th>\n      <td>342543.0</td>\n      <td>Suits</td>\n      <td>(2011–2019)</td>\n      <td>8.5</td>\n    </tr>\n    <tr>\n      <th>5</th>\n      <td>338808.0</td>\n      <td>The Office</td>\n      <td>(2005–2013)</td>\n      <td>8.8</td>\n    </tr>\n    <tr>\n      <th>6</th>\n      <td>322827.0</td>\n      <td>Modern Family</td>\n      <td>(2009– )</td>\n      <td>8.4</td>\n    </tr>\n    <tr>\n      <th>7</th>\n      <td>321552.0</td>\n      <td>Rick and Morty</td>\n      <td>(2013– )</td>\n      <td>9.3</td>\n    </tr>\n    <tr>\n      <th>8</th>\n      <td>292027.0</td>\n      <td>Green Book</td>\n      <td>(2018)</td>\n      <td>8.2</td>\n    </tr>\n    <tr>\n      <th>9</th>\n      <td>265908.0</td>\n      <td>Parasite</td>\n      <td>(2019)</td>\n      <td>8.6</td>\n    </tr>\n    <tr>\n      <th>10</th>\n      <td>189801.0</td>\n      <td>Parks and Recreation</td>\n      <td>(2009–2015)</td>\n      <td>8.6</td>\n    </tr>\n    <tr>\n      <th>11</th>\n      <td>185811.0</td>\n      <td>Shameless</td>\n      <td>(2011– )</td>\n      <td>8.6</td>\n    </tr>\n    <tr>\n      <th>12</th>\n      <td>183924.0</td>\n      <td>Knives Out</td>\n      <td>(2019)</td>\n      <td>8.0</td>\n    </tr>\n    <tr>\n      <th>13</th>\n      <td>179105.0</td>\n      <td>Brooklyn Nine-Nine</td>\n      <td>(2013– )</td>\n      <td>8.4</td>\n    </tr>\n    <tr>\n      <th>14</th>\n      <td>178661.0</td>\n      <td>It's Always Sunny in Philadelphia</td>\n      <td>(2005– )</td>\n      <td>8.8</td>\n    </tr>\n    <tr>\n      <th>15</th>\n      <td>175580.0</td>\n      <td>Marriage Story</td>\n      <td>(2019)</td>\n      <td>8.0</td>\n    </tr>\n    <tr>\n      <th>16</th>\n      <td>158051.0</td>\n      <td>Toy Story 4</td>\n      <td>(2019)</td>\n      <td>7.9</td>\n    </tr>\n    <tr>\n      <th>17</th>\n      <td>132181.0</td>\n      <td>Jojo Rabbit</td>\n      <td>(2019)</td>\n      <td>8.0</td>\n    </tr>\n    <tr>\n      <th>18</th>\n      <td>131054.0</td>\n      <td>The Boys</td>\n      <td>(2019– )</td>\n      <td>8.7</td>\n    </tr>\n    <tr>\n      <th>19</th>\n      <td>111281.0</td>\n      <td>Sex Education</td>\n      <td>(2019– )</td>\n      <td>8.3</td>\n    </tr>\n    <tr>\n      <th>20</th>\n      <td>101434.0</td>\n      <td>6 Underground</td>\n      <td>(2019)</td>\n      <td>6.1</td>\n    </tr>\n    <tr>\n      <th>21</th>\n      <td>92010.0</td>\n      <td>Curb Your Enthusiasm</td>\n      <td>(2000– )</td>\n      <td>8.7</td>\n    </tr>\n    <tr>\n      <th>22</th>\n      <td>88092.0</td>\n      <td>This Is Us</td>\n      <td>(2016– )</td>\n      <td>8.7</td>\n    </tr>\n    <tr>\n      <th>23</th>\n      <td>88018.0</td>\n      <td>The Good Place</td>\n      <td>(2016–2020)</td>\n      <td>8.2</td>\n    </tr>\n    <tr>\n      <th>24</th>\n      <td>87898.0</td>\n      <td>BoJack Horseman</td>\n      <td>(2014–2020)</td>\n      <td>8.7</td>\n    </tr>\n    <tr>\n      <th>25</th>\n      <td>84636.0</td>\n      <td>Zombieland: Double Tap</td>\n      <td>(2019)</td>\n      <td>6.8</td>\n    </tr>\n    <tr>\n      <th>26</th>\n      <td>82940.0</td>\n      <td>Jumanji: The Next Level</td>\n      <td>(2019)</td>\n      <td>6.9</td>\n    </tr>\n    <tr>\n      <th>27</th>\n      <td>74593.0</td>\n      <td>The Two Popes</td>\n      <td>(2019)</td>\n      <td>7.6</td>\n    </tr>\n    <tr>\n      <th>28</th>\n      <td>73822.0</td>\n      <td>Frozen II</td>\n      <td>(2019)</td>\n      <td>7.1</td>\n    </tr>\n    <tr>\n      <th>29</th>\n      <td>65717.0</td>\n      <td>Booksmart</td>\n      <td>(2019)</td>\n      <td>7.2</td>\n    </tr>\n    <tr>\n      <th>30</th>\n      <td>62889.0</td>\n      <td>The Marvelous Mrs. Maisel</td>\n      <td>(2017– )</td>\n      <td>8.8</td>\n    </tr>\n    <tr>\n      <th>31</th>\n      <td>53512.0</td>\n      <td>Hustlers</td>\n      <td>(2019)</td>\n      <td>6.4</td>\n    </tr>\n    <tr>\n      <th>32</th>\n      <td>39997.0</td>\n      <td>Bad Boys For Life</td>\n      <td>(2020)</td>\n      <td>7.2</td>\n    </tr>\n    <tr>\n      <th>33</th>\n      <td>34362.0</td>\n      <td>Grace and Frankie</td>\n      <td>(2015– )</td>\n      <td>8.3</td>\n    </tr>\n    <tr>\n      <th>34</th>\n      <td>33517.0</td>\n      <td>The Peanut Butter Falcon</td>\n      <td>(2019)</td>\n      <td>7.7</td>\n    </tr>\n    <tr>\n      <th>35</th>\n      <td>30795.0</td>\n      <td>The Ranch</td>\n      <td>(2016– )</td>\n      <td>7.5</td>\n    </tr>\n    <tr>\n      <th>36</th>\n      <td>28613.0</td>\n      <td>The Goldbergs</td>\n      <td>(2013– )</td>\n      <td>8.1</td>\n    </tr>\n    <tr>\n      <th>37</th>\n      <td>27101.0</td>\n      <td>Schitt's Creek</td>\n      <td>(2015– )</td>\n      <td>8.3</td>\n    </tr>\n    <tr>\n      <th>38</th>\n      <td>26632.0</td>\n      <td>Cats</td>\n      <td>(2019)</td>\n      <td>2.8</td>\n    </tr>\n    <tr>\n      <th>39</th>\n      <td>24289.0</td>\n      <td>Charlie's Angels</td>\n      <td>(2019)</td>\n      <td>4.4</td>\n    </tr>\n    <tr>\n      <th>40</th>\n      <td>15295.0</td>\n      <td>Dolittle</td>\n      <td>(2020)</td>\n      <td>5.5</td>\n    </tr>\n    <tr>\n      <th>41</th>\n      <td>14401.0</td>\n      <td>Sonic the Hedgehog</td>\n      <td>(2020)</td>\n      <td>6.9</td>\n    </tr>\n    <tr>\n      <th>42</th>\n      <td>12487.0</td>\n      <td>Death in Paradise</td>\n      <td>(2011– )</td>\n      <td>7.8</td>\n    </tr>\n    <tr>\n      <th>43</th>\n      <td>4731.0</td>\n      <td>Avenue 5</td>\n      <td>(2020– )</td>\n      <td>5.9</td>\n    </tr>\n    <tr>\n      <th>44</th>\n      <td>3455.0</td>\n      <td>Fantasy Island</td>\n      <td>(2020)</td>\n      <td>4.7</td>\n    </tr>\n    <tr>\n      <th>45</th>\n      <td>3212.0</td>\n      <td>Come to Daddy</td>\n      <td>(2019)</td>\n      <td>6.1</td>\n    </tr>\n    <tr>\n      <th>46</th>\n      <td>2164.0</td>\n      <td>Mythic Quest: Raven's Banquet</td>\n      <td>(2020– )</td>\n      <td>7.4</td>\n    </tr>\n    <tr>\n      <th>47</th>\n      <td>1309.0</td>\n      <td>Emma.</td>\n      <td>(2020)</td>\n      <td>6.8</td>\n    </tr>\n    <tr>\n      <th>48</th>\n      <td>954.0</td>\n      <td>Downhill</td>\n      <td>(2020)</td>\n      <td>4.8</td>\n    </tr>\n    <tr>\n      <th>49</th>\n      <td>NaN</td>\n      <td>The French Dispatch</td>\n      <td>(2020)</td>\n      <td>NaN</td>\n    </tr>\n  </tbody>\n</table>\n</div>"
     },
     "metadata": {},
     "output_type": "execute_result",
     "execution_count": 43
    }
   ],
   "source": [
    "#Query 5: Which movie has most votes:\n",
    "run_query('SELECT votes,movie_names,year_release,imdb_ratings  FROM movies ORDER BY votes DESC')"
   ],
   "metadata": {
    "collapsed": false,
    "pycharm": {
     "name": "#%%\n",
     "is_executing": false
    }
   }
  },
  {
   "cell_type": "code",
   "execution_count": 45,
   "outputs": [
    {
     "data": {
      "text/plain": "  director_name\n0   Jeff Fowler",
      "text/html": "<div>\n<style scoped>\n    .dataframe tbody tr th:only-of-type {\n        vertical-align: middle;\n    }\n\n    .dataframe tbody tr th {\n        vertical-align: top;\n    }\n\n    .dataframe thead th {\n        text-align: right;\n    }\n</style>\n<table border=\"1\" class=\"dataframe\">\n  <thead>\n    <tr style=\"text-align: right;\">\n      <th></th>\n      <th>director_name</th>\n    </tr>\n  </thead>\n  <tbody>\n    <tr>\n      <th>0</th>\n      <td>Jeff Fowler</td>\n    </tr>\n  </tbody>\n</table>\n</div>"
     },
     "metadata": {},
     "output_type": "execute_result",
     "execution_count": 45
    }
   ],
   "source": [
    "#Query 6: Who directed this movie?\n",
    "run_query('SELECT director_name FROM movies WHERE movie_names LIKE \"%Hedgehog\"')"
   ],
   "metadata": {
    "collapsed": false,
    "pycharm": {
     "name": "#%%\n",
     "is_executing": false
    }
   }
  },
  {
   "cell_type": "code",
   "execution_count": 48,
   "outputs": [
    {
     "data": {
      "text/plain": "                                                 post             tweet_id  \\\n0   RT @DalhousieU: ICYMI: the documentary film \"T...  1231379455765073923   \n1   RT @DalNursing: .@EllenPage: “The more we film...  1231060163542626305   \n2           @HABlackFilmFest @iwaldron2165 Thank you!  1231056482902462466   \n3   RT @HABlackFilmFest: Happy Birthday, @EllenPag...  1231056411267936257   \n4                               @etalkCTV Thank you 🙏  1230988627280322560   \n..                                                ...                  ...   \n86  Read Jimmy Kimmel’s emotional, scathing monolo...   915125195639185409   \n87  The Smithsonian just put it out. Thanks to the...   914332622637088768   \n88  Gary Ross, David Blight, Steven Hahn Honored t...   914331790122270720   \n89  RT @dandrezner: I'm seriously beginning to thi...   909882631487029248   \n90  Thought I'd put this up again https://t.co/gmu...   899025144055709696   \n\n    retweeted            timestamp    screenname        name  \n0           0  2020-02-23 00:45:14     EllenPage  Ellen Page  \n1           0  2020-02-22 03:36:29     EllenPage  Ellen Page  \n2           0  2020-02-22 03:21:52     EllenPage  Ellen Page  \n3           0  2020-02-22 03:21:35     EllenPage  Ellen Page  \n4           0  2020-02-21 22:52:14     EllenPage  Ellen Page  \n..        ...                  ...           ...         ...  \n86          0  2017-10-03 08:03:43  RealGaryRoss   Gary Ross  \n87          0  2017-10-01 03:34:19  RealGaryRoss   Gary Ross  \n88          0  2017-10-01 03:31:00  RealGaryRoss   Gary Ross  \n89          0  2017-09-18 20:51:38  RealGaryRoss   Gary Ross  \n90          0  2017-08-19 21:47:52  RealGaryRoss   Gary Ross  \n\n[91 rows x 6 columns]",
      "text/html": "<div>\n<style scoped>\n    .dataframe tbody tr th:only-of-type {\n        vertical-align: middle;\n    }\n\n    .dataframe tbody tr th {\n        vertical-align: top;\n    }\n\n    .dataframe thead th {\n        text-align: right;\n    }\n</style>\n<table border=\"1\" class=\"dataframe\">\n  <thead>\n    <tr style=\"text-align: right;\">\n      <th></th>\n      <th>post</th>\n      <th>tweet_id</th>\n      <th>retweeted</th>\n      <th>timestamp</th>\n      <th>screenname</th>\n      <th>name</th>\n    </tr>\n  </thead>\n  <tbody>\n    <tr>\n      <th>0</th>\n      <td>RT @DalhousieU: ICYMI: the documentary film \"T...</td>\n      <td>1231379455765073923</td>\n      <td>0</td>\n      <td>2020-02-23 00:45:14</td>\n      <td>EllenPage</td>\n      <td>Ellen Page</td>\n    </tr>\n    <tr>\n      <th>1</th>\n      <td>RT @DalNursing: .@EllenPage: “The more we film...</td>\n      <td>1231060163542626305</td>\n      <td>0</td>\n      <td>2020-02-22 03:36:29</td>\n      <td>EllenPage</td>\n      <td>Ellen Page</td>\n    </tr>\n    <tr>\n      <th>2</th>\n      <td>@HABlackFilmFest @iwaldron2165 Thank you!</td>\n      <td>1231056482902462466</td>\n      <td>0</td>\n      <td>2020-02-22 03:21:52</td>\n      <td>EllenPage</td>\n      <td>Ellen Page</td>\n    </tr>\n    <tr>\n      <th>3</th>\n      <td>RT @HABlackFilmFest: Happy Birthday, @EllenPag...</td>\n      <td>1231056411267936257</td>\n      <td>0</td>\n      <td>2020-02-22 03:21:35</td>\n      <td>EllenPage</td>\n      <td>Ellen Page</td>\n    </tr>\n    <tr>\n      <th>4</th>\n      <td>@etalkCTV Thank you 🙏</td>\n      <td>1230988627280322560</td>\n      <td>0</td>\n      <td>2020-02-21 22:52:14</td>\n      <td>EllenPage</td>\n      <td>Ellen Page</td>\n    </tr>\n    <tr>\n      <th>...</th>\n      <td>...</td>\n      <td>...</td>\n      <td>...</td>\n      <td>...</td>\n      <td>...</td>\n      <td>...</td>\n    </tr>\n    <tr>\n      <th>86</th>\n      <td>Read Jimmy Kimmel’s emotional, scathing monolo...</td>\n      <td>915125195639185409</td>\n      <td>0</td>\n      <td>2017-10-03 08:03:43</td>\n      <td>RealGaryRoss</td>\n      <td>Gary Ross</td>\n    </tr>\n    <tr>\n      <th>87</th>\n      <td>The Smithsonian just put it out. Thanks to the...</td>\n      <td>914332622637088768</td>\n      <td>0</td>\n      <td>2017-10-01 03:34:19</td>\n      <td>RealGaryRoss</td>\n      <td>Gary Ross</td>\n    </tr>\n    <tr>\n      <th>88</th>\n      <td>Gary Ross, David Blight, Steven Hahn Honored t...</td>\n      <td>914331790122270720</td>\n      <td>0</td>\n      <td>2017-10-01 03:31:00</td>\n      <td>RealGaryRoss</td>\n      <td>Gary Ross</td>\n    </tr>\n    <tr>\n      <th>89</th>\n      <td>RT @dandrezner: I'm seriously beginning to thi...</td>\n      <td>909882631487029248</td>\n      <td>0</td>\n      <td>2017-09-18 20:51:38</td>\n      <td>RealGaryRoss</td>\n      <td>Gary Ross</td>\n    </tr>\n    <tr>\n      <th>90</th>\n      <td>Thought I'd put this up again https://t.co/gmu...</td>\n      <td>899025144055709696</td>\n      <td>0</td>\n      <td>2017-08-19 21:47:52</td>\n      <td>RealGaryRoss</td>\n      <td>Gary Ross</td>\n    </tr>\n  </tbody>\n</table>\n<p>91 rows × 6 columns</p>\n</div>"
     },
     "metadata": {},
     "output_type": "execute_result",
     "execution_count": 48
    }
   ],
   "source": [],
   "metadata": {
    "collapsed": false,
    "pycharm": {
     "name": "#%%\n",
     "is_executing": false
    }
   }
  }
 ],
 "metadata": {
  "kernelspec": {
   "display_name": "Python 3",
   "language": "python",
   "name": "python3"
  },
  "language_info": {
   "codemirror_mode": {
    "name": "ipython",
    "version": 2
   },
   "file_extension": ".py",
   "mimetype": "text/x-python",
   "name": "python",
   "nbconvert_exporter": "python",
   "pygments_lexer": "ipython2",
   "version": "2.7.6"
  },
  "pycharm": {
   "stem_cell": {
    "cell_type": "raw",
    "source": [],
    "metadata": {
     "collapsed": false
    }
   }
  }
 },
 "nbformat": 4,
 "nbformat_minor": 1
}