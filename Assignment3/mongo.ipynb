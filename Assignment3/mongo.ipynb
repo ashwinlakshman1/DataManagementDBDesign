{
 "cells": [
  {
   "cell_type": "code",
   "execution_count": 1,
   "metadata": {
    "collapsed": true,
    "pycharm": {
     "is_executing": false
    }
   },
   "outputs": [],
   "source": [
    "\n",
    "import pymongo\n",
    "import pprint\n",
    "import pandas as pd\n",
    "from pymongo import MongoClient\n",
    "import json, os\n",
    "import sqlite3\n",
    "conn = sqlite3.connect('TMDB_Database')"
   ]
  },
  {
   "cell_type": "code",
   "execution_count": 2,
   "outputs": [],
   "source": [
    "def mongoimport(csv_path, dbname, collname, dburl='localhost',db_port=27017):\n",
    "    client = MongoClient(dburl, db_port)\n",
    "    db = client[dbname]\n",
    "    coll = db[collname]\n",
    "    data = pd.read_csv(csv_path, encoding='latin1')\n",
    "    payload = json.loads(data.to_json(orient='records'))\n",
    "    coll.remove()\n",
    "    coll.insert(payload)\n",
    "    return coll.count()\n"
   ],
   "metadata": {
    "collapsed": false,
    "pycharm": {
     "name": "#%%\n",
     "is_executing": false
    }
   }
  },
  {
   "cell_type": "code",
   "execution_count": 3,
   "outputs": [],
   "source": [
    "# -------PART 1--------------------\n",
    "# Adding CSV files to dataframes.\n",
    "#GROUP1\n",
    "moviesfile = pd.read_csv('C:/Users/ashwi/OneDrive/Documents/DMDD/moviesCSV/T_MOVIES.csv', encoding='latin1')\n",
    "genresfile = pd.read_csv('C:/Users/ashwi/OneDrive/Documents/DMDD/moviesCSV/T_GENRES.csv', encoding='latin1')\n",
    "producersfile = pd.read_csv('C:/Users/ashwi/OneDrive/Documents/DMDD/moviesCSV/T_PRODUCTIONS.csv', encoding='latin1')\n",
    "movgenlink = pd.read_csv('C:/Users/ashwi/OneDrive/Documents/DMDD/moviesCSV/T_GENRE_MOVIE.csv', encoding='latin1')\n",
    "movprodlink = pd.read_csv('C:/Users/ashwi/OneDrive/Documents/DMDD/moviesCSV/T_PRODUCTION_MOVIE.csv', encoding='latin1')\n",
    "\n",
    "#GROUP2\n",
    "usersfile = pd.read_csv('C:/Users/ashwi/OneDrive/Documents/DMDD/moviesCSV/T_USERS.csv', encoding='latin1')\n",
    "tweetsfile = pd.read_csv('C:/Users/ashwi/OneDrive/Documents/DMDD/moviesCSV/T_TWEETS.csv', encoding='latin1')\n",
    "tweetmovlink = pd.read_csv('C:/Users/ashwi/OneDrive/Documents/DMDD/moviesCSV/T_TWEET_MOVIE.csv', encoding='latin1')\n",
    "\n"
   ],
   "metadata": {
    "collapsed": false,
    "pycharm": {
     "name": "#%%\n",
     "is_executing": false
    }
   }
  },
  {
   "cell_type": "code",
   "execution_count": 4,
   "outputs": [
    {
     "data": {
      "text/plain": "    MV_ID                            MV_NAME  MV_RELDATE MV_RUNTIME  \\\n0    5501                         The Guilty        2018     85 min   \n1    5502      Mission: Impossible - Fallout        2018    147 min   \n2    5503                          Searching        2018    102 min   \n3    5504                     A Star Is Born        2018    136 min   \n4    5505  Spider-Man: Into the Spider-Verse        2018    117 min   \n..    ...                                ...         ...        ...   \n95   5596                             Casual        2018     25 min   \n96   5597          The Marvelous Mrs. Maisel        2018     57 min   \n97   5598                     Altered Carbon        2018     60 min   \n98   5599                              Barry        2018     30 min   \n99   5600                 Santa Clarita Diet        2018     30 min   \n\n    MV_BUDGET  MV_RATING                                        MV_LINK  \\\n0      207140        7.6  www.imdb.com/title/tt6742252/?ref_=ttls_li_tt   \n1   220159104        7.8  www.imdb.com/title/tt4912910/?ref_=ttls_li_tt   \n2    26020957        7.7  www.imdb.com/title/tt7668870/?ref_=ttls_li_tt   \n3   213097381        7.8  www.imdb.com/title/tt1517451/?ref_=ttls_li_tt   \n4   187622827        8.6  www.imdb.com/title/tt4633694/?ref_=ttls_li_tt   \n..        ...        ...                                            ...   \n95       6349        7.6  www.imdb.com/title/tt4577466/?ref_=ttls_li_tt   \n96      39861        8.7  www.imdb.com/title/tt5788792/?ref_=ttls_li_tt   \n97      97285        8.2  www.imdb.com/title/tt2261227/?ref_=ttls_li_tt   \n98      15237        8.1  www.imdb.com/title/tt5348176/?ref_=ttls_li_tt   \n99      38356        7.8  www.imdb.com/title/tt5580540/?ref_=ttls_li_tt   \n\n              MV_DIRECTOR  \n0           Gustav Möller  \n1   Christopher McQuarrie  \n2         Aneesh Chaganty  \n3          Bradley Cooper  \n4          Rodney Rothman  \n..                    ...  \n95                    NaN  \n96                    NaN  \n97                    NaN  \n98                    NaN  \n99                    NaN  \n\n[100 rows x 8 columns]",
      "text/html": "<div>\n<style scoped>\n    .dataframe tbody tr th:only-of-type {\n        vertical-align: middle;\n    }\n\n    .dataframe tbody tr th {\n        vertical-align: top;\n    }\n\n    .dataframe thead th {\n        text-align: right;\n    }\n</style>\n<table border=\"1\" class=\"dataframe\">\n  <thead>\n    <tr style=\"text-align: right;\">\n      <th></th>\n      <th>MV_ID</th>\n      <th>MV_NAME</th>\n      <th>MV_RELDATE</th>\n      <th>MV_RUNTIME</th>\n      <th>MV_BUDGET</th>\n      <th>MV_RATING</th>\n      <th>MV_LINK</th>\n      <th>MV_DIRECTOR</th>\n    </tr>\n  </thead>\n  <tbody>\n    <tr>\n      <th>0</th>\n      <td>5501</td>\n      <td>The Guilty</td>\n      <td>2018</td>\n      <td>85 min</td>\n      <td>207140</td>\n      <td>7.6</td>\n      <td>www.imdb.com/title/tt6742252/?ref_=ttls_li_tt</td>\n      <td>Gustav Möller</td>\n    </tr>\n    <tr>\n      <th>1</th>\n      <td>5502</td>\n      <td>Mission: Impossible - Fallout</td>\n      <td>2018</td>\n      <td>147 min</td>\n      <td>220159104</td>\n      <td>7.8</td>\n      <td>www.imdb.com/title/tt4912910/?ref_=ttls_li_tt</td>\n      <td>Christopher McQuarrie</td>\n    </tr>\n    <tr>\n      <th>2</th>\n      <td>5503</td>\n      <td>Searching</td>\n      <td>2018</td>\n      <td>102 min</td>\n      <td>26020957</td>\n      <td>7.7</td>\n      <td>www.imdb.com/title/tt7668870/?ref_=ttls_li_tt</td>\n      <td>Aneesh Chaganty</td>\n    </tr>\n    <tr>\n      <th>3</th>\n      <td>5504</td>\n      <td>A Star Is Born</td>\n      <td>2018</td>\n      <td>136 min</td>\n      <td>213097381</td>\n      <td>7.8</td>\n      <td>www.imdb.com/title/tt1517451/?ref_=ttls_li_tt</td>\n      <td>Bradley Cooper</td>\n    </tr>\n    <tr>\n      <th>4</th>\n      <td>5505</td>\n      <td>Spider-Man: Into the Spider-Verse</td>\n      <td>2018</td>\n      <td>117 min</td>\n      <td>187622827</td>\n      <td>8.6</td>\n      <td>www.imdb.com/title/tt4633694/?ref_=ttls_li_tt</td>\n      <td>Rodney Rothman</td>\n    </tr>\n    <tr>\n      <th>...</th>\n      <td>...</td>\n      <td>...</td>\n      <td>...</td>\n      <td>...</td>\n      <td>...</td>\n      <td>...</td>\n      <td>...</td>\n      <td>...</td>\n    </tr>\n    <tr>\n      <th>95</th>\n      <td>5596</td>\n      <td>Casual</td>\n      <td>2018</td>\n      <td>25 min</td>\n      <td>6349</td>\n      <td>7.6</td>\n      <td>www.imdb.com/title/tt4577466/?ref_=ttls_li_tt</td>\n      <td>NaN</td>\n    </tr>\n    <tr>\n      <th>96</th>\n      <td>5597</td>\n      <td>The Marvelous Mrs. Maisel</td>\n      <td>2018</td>\n      <td>57 min</td>\n      <td>39861</td>\n      <td>8.7</td>\n      <td>www.imdb.com/title/tt5788792/?ref_=ttls_li_tt</td>\n      <td>NaN</td>\n    </tr>\n    <tr>\n      <th>97</th>\n      <td>5598</td>\n      <td>Altered Carbon</td>\n      <td>2018</td>\n      <td>60 min</td>\n      <td>97285</td>\n      <td>8.2</td>\n      <td>www.imdb.com/title/tt2261227/?ref_=ttls_li_tt</td>\n      <td>NaN</td>\n    </tr>\n    <tr>\n      <th>98</th>\n      <td>5599</td>\n      <td>Barry</td>\n      <td>2018</td>\n      <td>30 min</td>\n      <td>15237</td>\n      <td>8.1</td>\n      <td>www.imdb.com/title/tt5348176/?ref_=ttls_li_tt</td>\n      <td>NaN</td>\n    </tr>\n    <tr>\n      <th>99</th>\n      <td>5600</td>\n      <td>Santa Clarita Diet</td>\n      <td>2018</td>\n      <td>30 min</td>\n      <td>38356</td>\n      <td>7.8</td>\n      <td>www.imdb.com/title/tt5580540/?ref_=ttls_li_tt</td>\n      <td>NaN</td>\n    </tr>\n  </tbody>\n</table>\n<p>100 rows × 8 columns</p>\n</div>"
     },
     "metadata": {},
     "output_type": "execute_result",
     "execution_count": 4
    }
   ],
   "source": [
    "#Inserting the  dataframes  into the physical database\n",
    "moviesfile.to_sql('movies',con=conn,index=False, if_exists='replace')\n",
    "\n",
    "producersfile.to_sql('producers',con=conn,index=False, if_exists='replace')\n",
    "\n",
    "movprodlink.to_sql('movprod',con=conn,index=False, if_exists='replace')\n",
    "usersfile.to_sql('users',con=conn,index=False, if_exists='replace')\n",
    "tweetsfile.to_sql('tweets',con=conn,index=False, if_exists='replace')\n",
    "tweetmovlink.to_sql('tweetmov',con=conn,index=False, if_exists='replace')\n",
    "\n",
    "moviesfile"
   ],
   "metadata": {
    "collapsed": false,
    "pycharm": {
     "name": "#%%\n",
     "is_executing": false
    }
   }
  },
  {
   "cell_type": "code",
   "execution_count": 5,
   "outputs": [],
   "source": [
    "\n",
    "def run_query(query):\n",
    "    return pd.read_sql(query,conn)\n",
    "run_query('select * from sqlite_master where type = \"table\"')\n",
    "import psycopg2\n",
    "# conn = psycopg2.connect(\"host=localhost dbname=postgres user=postgres\")\n",
    "# df1= pd.read_sql('(SELECT \"MV_ID\",\"MV_NAME\",\"MV_RELDATE\",\"MV_RATING\",\"MV_DIRECTOR\" from movies ) A FULL OUTER JOIN (SELECT \"GN_ID\",\"MV_ID\" from movgen) B on A.\"MV_ID\"=B.\"MV_ID\";',con=conn)\n",
    "\n",
    "# DE-NORMALIZATION  AND COMBINING OF TABLES\n",
    "\n",
    "movdf= run_query('SELECT movies.MV_ID,MV_NAME,MV_RELDATE,MV_RUNTIME,MV_RATING,MV_DIRECTOR,PC_NAME FROM movprod  LEFT JOIN  movies on movies.MV_ID=movprod.MV_ID LEFT JOIN producers on movprod.PC_ID=producers.PC_ID')\n",
    "tweetdf= run_query('SELECT USR_ID,tweets.TW_ID,TW_DETAIL,TW_HASHTAG,MV_NAME from tweetmov LEFT JOIN tweets ON tweets.TW_ID=tweetmov.TW_ID LEFT JOIN movies ON tweetmov.MV_ID=movies.MV_ID')\n",
    "tweetdf\n",
    "\n",
    "# CONVERTING THE DE-NORMALIZED TABLES TO CSV FILES\n",
    "movdf.to_csv('ONFMovies.csv',encoding='utf-8',index=False)\n",
    "tweetdf.to_csv('ONFTweets.csv',encoding='utf-8',index=False)"
   ],
   "metadata": {
    "collapsed": false,
    "pycharm": {
     "name": "#%%\n",
     "is_executing": false
    }
   }
  },
  {
   "cell_type": "code",
   "execution_count": 6,
   "outputs": [],
   "source": [
    "# -------------------PART 2----------------\n",
    "from pymongo import MongoClient\n",
    "\n"
   ],
   "metadata": {
    "collapsed": false,
    "pycharm": {
     "name": "#%%\n",
     "is_executing": false
    }
   }
  },
  {
   "cell_type": "code",
   "execution_count": 7,
   "outputs": [
    {
     "data": {
      "text/plain": "MongoClient(host=['localhost:27017'], document_class=dict, tz_aware=False, connect=True)"
     },
     "metadata": {},
     "output_type": "execute_result",
     "execution_count": 7
    }
   ],
   "source": [
    "# ESTABLISHING MONGOCLIENT INSTANCE\n",
    "\n",
    "# movpath= 'C:/Users/ashwi/PycharmProjects/dmddassignment3/ONFMovies.csv'\n",
    "# dbname = 'moviedb'\n",
    "# collname='movies'\n",
    "# mongoimport(movpath,dbname,collname)\n",
    "# movpath= 'C:/Users/ashwi/PycharmProjects/dmddassignment3/ONFTweets.csv'\n",
    "# dbname = 'moviedb'\n",
    "# collname='tweets'\n",
    "# mongoimport(movpath,dbname,collname)\n",
    "# \n",
    "# dbname.collname.find()\n",
    "conn1 = pymongo.MongoClient()\n",
    "conn1\n",
    "\n"
   ],
   "metadata": {
    "collapsed": false,
    "pycharm": {
     "name": "#%%\n",
     "is_executing": false
    }
   }
  },
  {
   "cell_type": "code",
   "execution_count": 8,
   "outputs": [
    {
     "data": {
      "text/plain": "MongoClient(host=['localhost:27017'], document_class=dict, tz_aware=False, connect=True)"
     },
     "metadata": {},
     "output_type": "execute_result",
     "execution_count": 8
    }
   ],
   "source": [
    "# specifying local host\n",
    "MongoClient('localhost', 27017)"
   ],
   "metadata": {
    "collapsed": false,
    "pycharm": {
     "name": "#%%\n",
     "is_executing": false
    }
   }
  },
  {
   "cell_type": "code",
   "execution_count": 9,
   "outputs": [
    {
     "data": {
      "text/plain": "Database(MongoClient(host=['localhost:27017'], document_class=dict, tz_aware=False, connect=True), 'assignment3')"
     },
     "metadata": {},
     "output_type": "execute_result",
     "execution_count": 9
    }
   ],
   "source": [
    "# Defining the database\n",
    "\n",
    "db = conn1['assignment3']\n",
    "db"
   ],
   "metadata": {
    "collapsed": false,
    "pycharm": {
     "name": "#%%\n",
     "is_executing": false
    }
   }
  },
  {
   "cell_type": "code",
   "execution_count": 10,
   "outputs": [
    {
     "data": {
      "text/plain": "Collection(Database(MongoClient(host=['localhost:27017'], document_class=dict, tz_aware=False, connect=True), 'assignment3'), 'movies')"
     },
     "metadata": {},
     "output_type": "execute_result",
     "execution_count": 10
    }
   ],
   "source": [
    "# DROPPING PRE-EXISTING TABLES\n",
    "\n",
    "db.users.drop()\n",
    "db.directors.drop()\n",
    "db.movies.drop()\n",
    "db.tweets.drop()\n",
    "# Defining the collection\n",
    "collection = db.movies\n",
    "collection\n",
    "\n",
    "\n"
   ],
   "metadata": {
    "collapsed": false,
    "pycharm": {
     "name": "#%%\n",
     "is_executing": false
    }
   }
  },
  {
   "cell_type": "code",
   "execution_count": 11,
   "outputs": [
    {
     "name": "stdout",
     "text": [
      "C:/Users/ashwi/PycharmProjects/dmddassignment3/ONFMovies.csv\n"
     ],
     "output_type": "stream"
    },
    {
     "data": {
      "text/plain": "   MV_ID                           MV_NAME  MV_RELDATE MV_RUNTIME  MV_RATING  \\\n0   5502     Mission: Impossible - Fallout        2018    147 min        7.8   \n1   5504                    A Star Is Born        2018    136 min        7.8   \n2   5507        You Were Never Really Here        2018     89 min        6.8   \n3   5508                     A Quiet Place        2018     90 min        7.6   \n4   5509  The Miseducation of Cameron Post        2018     91 min        6.6   \n\n             MV_DIRECTOR                PC_NAME  \n0  Christopher McQuarrie     Paramount Pictures  \n1         Bradley Cooper  Warner Bros. Pictures  \n2           Lynne Ramsay         Amazon Studios  \n3         John Krasinski     Paramount Pictures  \n4        Desiree Akhavan               FilmRise  ",
      "text/html": "<div>\n<style scoped>\n    .dataframe tbody tr th:only-of-type {\n        vertical-align: middle;\n    }\n\n    .dataframe tbody tr th {\n        vertical-align: top;\n    }\n\n    .dataframe thead th {\n        text-align: right;\n    }\n</style>\n<table border=\"1\" class=\"dataframe\">\n  <thead>\n    <tr style=\"text-align: right;\">\n      <th></th>\n      <th>MV_ID</th>\n      <th>MV_NAME</th>\n      <th>MV_RELDATE</th>\n      <th>MV_RUNTIME</th>\n      <th>MV_RATING</th>\n      <th>MV_DIRECTOR</th>\n      <th>PC_NAME</th>\n    </tr>\n  </thead>\n  <tbody>\n    <tr>\n      <th>0</th>\n      <td>5502</td>\n      <td>Mission: Impossible - Fallout</td>\n      <td>2018</td>\n      <td>147 min</td>\n      <td>7.8</td>\n      <td>Christopher McQuarrie</td>\n      <td>Paramount Pictures</td>\n    </tr>\n    <tr>\n      <th>1</th>\n      <td>5504</td>\n      <td>A Star Is Born</td>\n      <td>2018</td>\n      <td>136 min</td>\n      <td>7.8</td>\n      <td>Bradley Cooper</td>\n      <td>Warner Bros. Pictures</td>\n    </tr>\n    <tr>\n      <th>2</th>\n      <td>5507</td>\n      <td>You Were Never Really Here</td>\n      <td>2018</td>\n      <td>89 min</td>\n      <td>6.8</td>\n      <td>Lynne Ramsay</td>\n      <td>Amazon Studios</td>\n    </tr>\n    <tr>\n      <th>3</th>\n      <td>5508</td>\n      <td>A Quiet Place</td>\n      <td>2018</td>\n      <td>90 min</td>\n      <td>7.6</td>\n      <td>John Krasinski</td>\n      <td>Paramount Pictures</td>\n    </tr>\n    <tr>\n      <th>4</th>\n      <td>5509</td>\n      <td>The Miseducation of Cameron Post</td>\n      <td>2018</td>\n      <td>91 min</td>\n      <td>6.6</td>\n      <td>Desiree Akhavan</td>\n      <td>FilmRise</td>\n    </tr>\n  </tbody>\n</table>\n</div>"
     },
     "metadata": {},
     "output_type": "execute_result",
     "execution_count": 11
    }
   ],
   "source": [
    "# READING CSV FILES INTO DATAFRAME\n",
    "def load_csv(csv):\n",
    "    p=os.path.join(\"data/\", csv)\n",
    "    print (p)\n",
    "    data=pd.read_csv(p, encoding = \"ISO-8859-1\", engine='python')\n",
    "    return data \n",
    "movies_csv=load_csv('C:/Users/ashwi/PycharmProjects/dmddassignment3/ONFMovies.csv')\n",
    "movies_csv.head()\n"
   ],
   "metadata": {
    "collapsed": false,
    "pycharm": {
     "name": "#%%\n",
     "is_executing": false
    }
   }
  },
  {
   "cell_type": "code",
   "execution_count": 12,
   "outputs": [
    {
     "data": {
      "text/plain": "{'MV_ID': 5502,\n 'MV_NAME': 'Mission: Impossible - Fallout',\n 'MV_RELDATE': 2018,\n 'MV_RUNTIME': '147 min',\n 'MV_RATING': 7.8,\n 'MV_DIRECTOR': 'Christopher McQuarrie',\n 'PC_NAME': 'Paramount Pictures'}"
     },
     "metadata": {},
     "output_type": "execute_result",
     "execution_count": 12
    }
   ],
   "source": [
    "# The DATAFRAME is converted to JSON format and assigned to movies_json.\n",
    "\n",
    "movies_json =json.loads(movies_csv.to_json(orient='records'))\n",
    "movies_json[0]\n"
   ],
   "metadata": {
    "collapsed": false,
    "pycharm": {
     "name": "#%%\n",
     "is_executing": false
    }
   }
  },
  {
   "cell_type": "code",
   "execution_count": 13,
   "outputs": [
    {
     "name": "stdout",
     "text": [
      "testing movies drop\n"
     ],
     "output_type": "stream"
    },
    {
     "name": "stderr",
     "text": [
      "<ipython-input-13-734243a852e8>:10: DeprecationWarning: insert is deprecated. Use insert_one or insert_many instead.\n",
      "  collection.insert(movies_json)\n"
     ],
     "output_type": "stream"
    },
    {
     "data": {
      "text/plain": "[ObjectId('5e8e71db86757736aa93aaa7'),\n ObjectId('5e8e71db86757736aa93aaa8'),\n ObjectId('5e8e71db86757736aa93aaa9'),\n ObjectId('5e8e71db86757736aa93aaaa'),\n ObjectId('5e8e71db86757736aa93aaab'),\n ObjectId('5e8e71db86757736aa93aaac'),\n ObjectId('5e8e71db86757736aa93aaad'),\n ObjectId('5e8e71db86757736aa93aaae'),\n ObjectId('5e8e71db86757736aa93aaaf'),\n ObjectId('5e8e71db86757736aa93aab0'),\n ObjectId('5e8e71db86757736aa93aab1'),\n ObjectId('5e8e71db86757736aa93aab2'),\n ObjectId('5e8e71db86757736aa93aab3'),\n ObjectId('5e8e71db86757736aa93aab4'),\n ObjectId('5e8e71db86757736aa93aab5'),\n ObjectId('5e8e71db86757736aa93aab6'),\n ObjectId('5e8e71db86757736aa93aab7'),\n ObjectId('5e8e71db86757736aa93aab8'),\n ObjectId('5e8e71db86757736aa93aab9'),\n ObjectId('5e8e71db86757736aa93aaba'),\n ObjectId('5e8e71db86757736aa93aabb'),\n ObjectId('5e8e71db86757736aa93aabc'),\n ObjectId('5e8e71db86757736aa93aabd'),\n ObjectId('5e8e71db86757736aa93aabe'),\n ObjectId('5e8e71db86757736aa93aabf'),\n ObjectId('5e8e71db86757736aa93aac0'),\n ObjectId('5e8e71db86757736aa93aac1'),\n ObjectId('5e8e71db86757736aa93aac2'),\n ObjectId('5e8e71db86757736aa93aac3'),\n ObjectId('5e8e71db86757736aa93aac4'),\n ObjectId('5e8e71db86757736aa93aac5'),\n ObjectId('5e8e71db86757736aa93aac6'),\n ObjectId('5e8e71db86757736aa93aac7'),\n ObjectId('5e8e71db86757736aa93aac8'),\n ObjectId('5e8e71db86757736aa93aac9'),\n ObjectId('5e8e71db86757736aa93aaca'),\n ObjectId('5e8e71db86757736aa93aacb'),\n ObjectId('5e8e71db86757736aa93aacc'),\n ObjectId('5e8e71db86757736aa93aacd'),\n ObjectId('5e8e71db86757736aa93aace'),\n ObjectId('5e8e71db86757736aa93aacf'),\n ObjectId('5e8e71db86757736aa93aad0'),\n ObjectId('5e8e71db86757736aa93aad1'),\n ObjectId('5e8e71db86757736aa93aad2')]"
     },
     "metadata": {},
     "output_type": "execute_result",
     "execution_count": 13
    }
   ],
   "source": [
    "try:\n",
    "    result = db.movies.drop()\n",
    "    print (\"testing movies drop\")\n",
    "except:\n",
    "    pass\n",
    "\n",
    "\n",
    "\n",
    "#inserting the movies_json dataset into the  MOVIES collection\n",
    "collection.insert(movies_json)"
   ],
   "metadata": {
    "collapsed": false,
    "pycharm": {
     "name": "#%%\n",
     "is_executing": false
    }
   }
  },
  {
   "cell_type": "code",
   "execution_count": 14,
   "outputs": [
    {
     "name": "stdout",
     "text": [
      "{'_id': ObjectId('5e8e71db86757736aa93aaa7'), 'MV_ID': 5502, 'MV_NAME': 'Mission: Impossible - Fallout', 'MV_RELDATE': 2018, 'MV_RUNTIME': '147 min', 'MV_RATING': 7.8, 'MV_DIRECTOR': 'Christopher McQuarrie', 'PC_NAME': 'Paramount Pictures'}\n",
      "{'_id': ObjectId('5e8e71db86757736aa93aaa8'), 'MV_ID': 5504, 'MV_NAME': 'A Star Is Born', 'MV_RELDATE': 2018, 'MV_RUNTIME': '136 min', 'MV_RATING': 7.8, 'MV_DIRECTOR': 'Bradley Cooper', 'PC_NAME': 'Warner Bros. Pictures'}\n",
      "{'_id': ObjectId('5e8e71db86757736aa93aaa9'), 'MV_ID': 5507, 'MV_NAME': 'You Were Never Really Here', 'MV_RELDATE': 2018, 'MV_RUNTIME': '89 min', 'MV_RATING': 6.8, 'MV_DIRECTOR': 'Lynne Ramsay', 'PC_NAME': 'Amazon Studios'}\n",
      "{'_id': ObjectId('5e8e71db86757736aa93aaaa'), 'MV_ID': 5508, 'MV_NAME': 'A Quiet Place', 'MV_RELDATE': 2018, 'MV_RUNTIME': '90 min', 'MV_RATING': 7.6, 'MV_DIRECTOR': 'John Krasinski', 'PC_NAME': 'Paramount Pictures'}\n",
      "{'_id': ObjectId('5e8e71db86757736aa93aaab'), 'MV_ID': 5509, 'MV_NAME': 'The Miseducation of Cameron Post', 'MV_RELDATE': 2018, 'MV_RUNTIME': '91 min', 'MV_RATING': 6.6, 'MV_DIRECTOR': 'Desiree Akhavan', 'PC_NAME': 'FilmRise'}\n"
     ],
     "output_type": "stream"
    }
   ],
   "source": [
    "# Printing first five items in the collection\n",
    "for d in collection.find()[:].limit(5):\n",
    "    print(d)"
   ],
   "metadata": {
    "collapsed": false,
    "pycharm": {
     "name": "#%%\n",
     "is_executing": false
    }
   }
  },
  {
   "cell_type": "code",
   "execution_count": 15,
   "outputs": [],
   "source": [
    "collection = db.tweets\n",
    "\n"
   ],
   "metadata": {
    "collapsed": false,
    "pycharm": {
     "name": "#%%\n",
     "is_executing": false
    }
   }
  },
  {
   "cell_type": "code",
   "execution_count": 16,
   "outputs": [
    {
     "data": {
      "text/plain": "Collection(Database(MongoClient(host=['localhost:27017'], document_class=dict, tz_aware=False, connect=True), 'assignment3'), 'tweets')"
     },
     "metadata": {},
     "output_type": "execute_result",
     "execution_count": 16
    }
   ],
   "source": [
    "collection\n"
   ],
   "metadata": {
    "collapsed": false,
    "pycharm": {
     "name": "#%%\n",
     "is_executing": false
    }
   }
  },
  {
   "cell_type": "code",
   "execution_count": 17,
   "outputs": [
    {
     "name": "stdout",
     "text": [
      "C:/Users/ashwi/PycharmProjects/dmddassignment3/ONFTweets.csv\n"
     ],
     "output_type": "stream"
    },
    {
     "data": {
      "text/plain": "               USR_ID  TW_ID  \\\n0          4228094679  21801   \n1  961325626304221000  21802   \n2  961325626304221000  21803   \n3            70786076  21804   \n4  961325626304221000  21805   \n\n                                           TW_DETAIL  TW_HASHTAG     MV_NAME  \n0  The Guilty (2018) - Read 15 Movie Reviews \\nLi...  #TheGuilty  The Guilty  \n1  Has anybody been paying attention? @realDonald...  #TheGuilty  The Guilty  \n2  ?? Hmm, if the report was dropped this way so ...  #TheGuilty  The Guilty  \n3  #TheGuilty\\nSmall but very entertaining thrill...  #TheGuilty  The Guilty  \n4  AG Barr exonerated President Trump. Barr is no...  #TheGuilty  The Guilty  ",
      "text/html": "<div>\n<style scoped>\n    .dataframe tbody tr th:only-of-type {\n        vertical-align: middle;\n    }\n\n    .dataframe tbody tr th {\n        vertical-align: top;\n    }\n\n    .dataframe thead th {\n        text-align: right;\n    }\n</style>\n<table border=\"1\" class=\"dataframe\">\n  <thead>\n    <tr style=\"text-align: right;\">\n      <th></th>\n      <th>USR_ID</th>\n      <th>TW_ID</th>\n      <th>TW_DETAIL</th>\n      <th>TW_HASHTAG</th>\n      <th>MV_NAME</th>\n    </tr>\n  </thead>\n  <tbody>\n    <tr>\n      <th>0</th>\n      <td>4228094679</td>\n      <td>21801</td>\n      <td>The Guilty (2018) - Read 15 Movie Reviews \\nLi...</td>\n      <td>#TheGuilty</td>\n      <td>The Guilty</td>\n    </tr>\n    <tr>\n      <th>1</th>\n      <td>961325626304221000</td>\n      <td>21802</td>\n      <td>Has anybody been paying attention? @realDonald...</td>\n      <td>#TheGuilty</td>\n      <td>The Guilty</td>\n    </tr>\n    <tr>\n      <th>2</th>\n      <td>961325626304221000</td>\n      <td>21803</td>\n      <td>?? Hmm, if the report was dropped this way so ...</td>\n      <td>#TheGuilty</td>\n      <td>The Guilty</td>\n    </tr>\n    <tr>\n      <th>3</th>\n      <td>70786076</td>\n      <td>21804</td>\n      <td>#TheGuilty\\nSmall but very entertaining thrill...</td>\n      <td>#TheGuilty</td>\n      <td>The Guilty</td>\n    </tr>\n    <tr>\n      <th>4</th>\n      <td>961325626304221000</td>\n      <td>21805</td>\n      <td>AG Barr exonerated President Trump. Barr is no...</td>\n      <td>#TheGuilty</td>\n      <td>The Guilty</td>\n    </tr>\n  </tbody>\n</table>\n</div>"
     },
     "metadata": {},
     "output_type": "execute_result",
     "execution_count": 17
    }
   ],
   "source": [
    "# READING CSV FILES INTO DATAFRAME\n",
    "\n",
    "def load_csv(csv):\n",
    "    p=os.path.join(\"data/\", csv)\n",
    "    print (p)\n",
    "    data=pd.read_csv(p, encoding = \"ISO-8859-1\", engine='python')\n",
    "    return data \n",
    "tweets_csv=load_csv('C:/Users/ashwi/PycharmProjects/dmddassignment3/ONFTweets.csv')\n",
    "tweets_csv.head()"
   ],
   "metadata": {
    "collapsed": false,
    "pycharm": {
     "name": "#%%\n",
     "is_executing": false
    }
   }
  },
  {
   "cell_type": "code",
   "execution_count": 18,
   "outputs": [
    {
     "data": {
      "text/plain": "{'USR_ID': 4228094679,\n 'TW_ID': 21801,\n 'TW_DETAIL': 'The Guilty (2018) - Read 15 Movie Reviews \\\\nLink: https://t.co/ZbVWDatgRJ \\\\n#TheGuilty',\n 'TW_HASHTAG': '#TheGuilty',\n 'MV_NAME': 'The Guilty'}"
     },
     "metadata": {},
     "output_type": "execute_result",
     "execution_count": 18
    }
   ],
   "source": [
    "# the Tweets Dataframe file is converted into JSON and added into twts.\n",
    "\n",
    "twts =json.loads(tweets_csv.to_json(orient='records'))\n",
    "twts[0]\n"
   ],
   "metadata": {
    "collapsed": false,
    "pycharm": {
     "name": "#%%\n",
     "is_executing": false
    }
   }
  },
  {
   "cell_type": "code",
   "execution_count": 19,
   "outputs": [
    {
     "name": "stdout",
     "text": [
      "testing movies drop\n"
     ],
     "output_type": "stream"
    }
   ],
   "source": [
    "try:\n",
    "    result = db.tweets.drop()\n",
    "    print (\"testing movies drop\")\n",
    "except:\n",
    "    pass\n",
    "\n"
   ],
   "metadata": {
    "collapsed": false,
    "pycharm": {
     "name": "#%%\n",
     "is_executing": false
    }
   }
  },
  {
   "cell_type": "code",
   "execution_count": 20,
   "outputs": [
    {
     "name": "stderr",
     "text": [
      "<ipython-input-20-e8893925c10c>:3: DeprecationWarning: insert is deprecated. Use insert_one or insert_many instead.\n",
      "  collection.insert(twts)\n"
     ],
     "output_type": "stream"
    },
    {
     "data": {
      "text/plain": "[ObjectId('5e8e71dc86757736aa93aad3'),\n ObjectId('5e8e71dc86757736aa93aad4'),\n ObjectId('5e8e71dc86757736aa93aad5'),\n ObjectId('5e8e71dc86757736aa93aad6'),\n ObjectId('5e8e71dc86757736aa93aad7'),\n ObjectId('5e8e71dc86757736aa93aad8'),\n ObjectId('5e8e71dc86757736aa93aad9'),\n ObjectId('5e8e71dc86757736aa93aada'),\n ObjectId('5e8e71dc86757736aa93aadb'),\n ObjectId('5e8e71dc86757736aa93aadc'),\n ObjectId('5e8e71dc86757736aa93aadd'),\n ObjectId('5e8e71dc86757736aa93aade'),\n ObjectId('5e8e71dc86757736aa93aadf'),\n ObjectId('5e8e71dc86757736aa93aae0'),\n ObjectId('5e8e71dc86757736aa93aae1'),\n ObjectId('5e8e71dc86757736aa93aae2'),\n ObjectId('5e8e71dc86757736aa93aae3'),\n ObjectId('5e8e71dc86757736aa93aae4'),\n ObjectId('5e8e71dc86757736aa93aae5'),\n ObjectId('5e8e71dc86757736aa93aae6'),\n ObjectId('5e8e71dc86757736aa93aae7'),\n ObjectId('5e8e71dc86757736aa93aae8'),\n ObjectId('5e8e71dc86757736aa93aae9'),\n ObjectId('5e8e71dc86757736aa93aaea'),\n ObjectId('5e8e71dc86757736aa93aaeb'),\n ObjectId('5e8e71dc86757736aa93aaec'),\n ObjectId('5e8e71dc86757736aa93aaed'),\n ObjectId('5e8e71dc86757736aa93aaee'),\n ObjectId('5e8e71dc86757736aa93aaef'),\n ObjectId('5e8e71dc86757736aa93aaf0'),\n ObjectId('5e8e71dc86757736aa93aaf1'),\n ObjectId('5e8e71dc86757736aa93aaf2'),\n ObjectId('5e8e71dc86757736aa93aaf3'),\n ObjectId('5e8e71dc86757736aa93aaf4'),\n ObjectId('5e8e71dc86757736aa93aaf5'),\n ObjectId('5e8e71dc86757736aa93aaf6'),\n ObjectId('5e8e71dc86757736aa93aaf7'),\n ObjectId('5e8e71dc86757736aa93aaf8'),\n ObjectId('5e8e71dc86757736aa93aaf9'),\n ObjectId('5e8e71dc86757736aa93aafa'),\n ObjectId('5e8e71dc86757736aa93aafb'),\n ObjectId('5e8e71dc86757736aa93aafc'),\n ObjectId('5e8e71dc86757736aa93aafd'),\n ObjectId('5e8e71dc86757736aa93aafe'),\n ObjectId('5e8e71dc86757736aa93aaff'),\n ObjectId('5e8e71dc86757736aa93ab00'),\n ObjectId('5e8e71dc86757736aa93ab01'),\n ObjectId('5e8e71dc86757736aa93ab02'),\n ObjectId('5e8e71dc86757736aa93ab03'),\n ObjectId('5e8e71dc86757736aa93ab04'),\n ObjectId('5e8e71dc86757736aa93ab05'),\n ObjectId('5e8e71dc86757736aa93ab06'),\n ObjectId('5e8e71dc86757736aa93ab07'),\n ObjectId('5e8e71dc86757736aa93ab08'),\n ObjectId('5e8e71dc86757736aa93ab09'),\n ObjectId('5e8e71dc86757736aa93ab0a'),\n ObjectId('5e8e71dc86757736aa93ab0b'),\n ObjectId('5e8e71dc86757736aa93ab0c'),\n ObjectId('5e8e71dc86757736aa93ab0d'),\n ObjectId('5e8e71dc86757736aa93ab0e'),\n ObjectId('5e8e71dc86757736aa93ab0f'),\n ObjectId('5e8e71dc86757736aa93ab10'),\n ObjectId('5e8e71dc86757736aa93ab11'),\n ObjectId('5e8e71dc86757736aa93ab12'),\n ObjectId('5e8e71dc86757736aa93ab13'),\n ObjectId('5e8e71dc86757736aa93ab14'),\n ObjectId('5e8e71dc86757736aa93ab15'),\n ObjectId('5e8e71dc86757736aa93ab16'),\n ObjectId('5e8e71dc86757736aa93ab17'),\n ObjectId('5e8e71dc86757736aa93ab18'),\n ObjectId('5e8e71dc86757736aa93ab19'),\n ObjectId('5e8e71dc86757736aa93ab1a'),\n ObjectId('5e8e71dc86757736aa93ab1b'),\n ObjectId('5e8e71dc86757736aa93ab1c'),\n ObjectId('5e8e71dc86757736aa93ab1d'),\n ObjectId('5e8e71dc86757736aa93ab1e'),\n ObjectId('5e8e71dc86757736aa93ab1f'),\n ObjectId('5e8e71dc86757736aa93ab20'),\n ObjectId('5e8e71dc86757736aa93ab21'),\n ObjectId('5e8e71dc86757736aa93ab22'),\n ObjectId('5e8e71dc86757736aa93ab23'),\n ObjectId('5e8e71dc86757736aa93ab24'),\n ObjectId('5e8e71dc86757736aa93ab25'),\n ObjectId('5e8e71dc86757736aa93ab26'),\n ObjectId('5e8e71dc86757736aa93ab27'),\n ObjectId('5e8e71dc86757736aa93ab28'),\n ObjectId('5e8e71dc86757736aa93ab29'),\n ObjectId('5e8e71dc86757736aa93ab2a'),\n ObjectId('5e8e71dc86757736aa93ab2b'),\n ObjectId('5e8e71dc86757736aa93ab2c'),\n ObjectId('5e8e71dc86757736aa93ab2d'),\n ObjectId('5e8e71dc86757736aa93ab2e'),\n ObjectId('5e8e71dc86757736aa93ab2f'),\n ObjectId('5e8e71dc86757736aa93ab30'),\n ObjectId('5e8e71dc86757736aa93ab31'),\n ObjectId('5e8e71dc86757736aa93ab32'),\n ObjectId('5e8e71dc86757736aa93ab33'),\n ObjectId('5e8e71dc86757736aa93ab34'),\n ObjectId('5e8e71dc86757736aa93ab35'),\n ObjectId('5e8e71dc86757736aa93ab36'),\n ObjectId('5e8e71dc86757736aa93ab37'),\n ObjectId('5e8e71dc86757736aa93ab38'),\n ObjectId('5e8e71dc86757736aa93ab39'),\n ObjectId('5e8e71dc86757736aa93ab3a'),\n ObjectId('5e8e71dc86757736aa93ab3b'),\n ObjectId('5e8e71dc86757736aa93ab3c'),\n ObjectId('5e8e71dc86757736aa93ab3d'),\n ObjectId('5e8e71dc86757736aa93ab3e'),\n ObjectId('5e8e71dc86757736aa93ab3f'),\n ObjectId('5e8e71dc86757736aa93ab40'),\n ObjectId('5e8e71dc86757736aa93ab41'),\n ObjectId('5e8e71dc86757736aa93ab42'),\n ObjectId('5e8e71dc86757736aa93ab43'),\n ObjectId('5e8e71dc86757736aa93ab44'),\n ObjectId('5e8e71dc86757736aa93ab45'),\n ObjectId('5e8e71dc86757736aa93ab46'),\n ObjectId('5e8e71dc86757736aa93ab47'),\n ObjectId('5e8e71dc86757736aa93ab48'),\n ObjectId('5e8e71dc86757736aa93ab49'),\n ObjectId('5e8e71dc86757736aa93ab4a'),\n ObjectId('5e8e71dc86757736aa93ab4b'),\n ObjectId('5e8e71dc86757736aa93ab4c'),\n ObjectId('5e8e71dc86757736aa93ab4d'),\n ObjectId('5e8e71dc86757736aa93ab4e'),\n ObjectId('5e8e71dc86757736aa93ab4f'),\n ObjectId('5e8e71dc86757736aa93ab50'),\n ObjectId('5e8e71dc86757736aa93ab51'),\n ObjectId('5e8e71dc86757736aa93ab52'),\n ObjectId('5e8e71dc86757736aa93ab53'),\n ObjectId('5e8e71dc86757736aa93ab54'),\n ObjectId('5e8e71dc86757736aa93ab55'),\n ObjectId('5e8e71dc86757736aa93ab56'),\n ObjectId('5e8e71dc86757736aa93ab57'),\n ObjectId('5e8e71dc86757736aa93ab58'),\n ObjectId('5e8e71dc86757736aa93ab59'),\n ObjectId('5e8e71dc86757736aa93ab5a'),\n ObjectId('5e8e71dc86757736aa93ab5b'),\n ObjectId('5e8e71dc86757736aa93ab5c'),\n ObjectId('5e8e71dc86757736aa93ab5d'),\n ObjectId('5e8e71dc86757736aa93ab5e'),\n ObjectId('5e8e71dc86757736aa93ab5f'),\n ObjectId('5e8e71dc86757736aa93ab60'),\n ObjectId('5e8e71dc86757736aa93ab61'),\n ObjectId('5e8e71dc86757736aa93ab62'),\n ObjectId('5e8e71dc86757736aa93ab63'),\n ObjectId('5e8e71dc86757736aa93ab64'),\n ObjectId('5e8e71dc86757736aa93ab65'),\n ObjectId('5e8e71dc86757736aa93ab66'),\n ObjectId('5e8e71dc86757736aa93ab67'),\n ObjectId('5e8e71dc86757736aa93ab68'),\n ObjectId('5e8e71dc86757736aa93ab69'),\n ObjectId('5e8e71dc86757736aa93ab6a'),\n ObjectId('5e8e71dc86757736aa93ab6b'),\n ObjectId('5e8e71dc86757736aa93ab6c'),\n ObjectId('5e8e71dc86757736aa93ab6d'),\n ObjectId('5e8e71dc86757736aa93ab6e'),\n ObjectId('5e8e71dc86757736aa93ab6f'),\n ObjectId('5e8e71dc86757736aa93ab70'),\n ObjectId('5e8e71dc86757736aa93ab71'),\n ObjectId('5e8e71dc86757736aa93ab72'),\n ObjectId('5e8e71dc86757736aa93ab73'),\n ObjectId('5e8e71dc86757736aa93ab74'),\n ObjectId('5e8e71dc86757736aa93ab75'),\n ObjectId('5e8e71dc86757736aa93ab76'),\n ObjectId('5e8e71dc86757736aa93ab77'),\n ObjectId('5e8e71dc86757736aa93ab78'),\n ObjectId('5e8e71dc86757736aa93ab79'),\n ObjectId('5e8e71dc86757736aa93ab7a'),\n ObjectId('5e8e71dc86757736aa93ab7b'),\n ObjectId('5e8e71dc86757736aa93ab7c'),\n ObjectId('5e8e71dc86757736aa93ab7d'),\n ObjectId('5e8e71dc86757736aa93ab7e'),\n ObjectId('5e8e71dc86757736aa93ab7f'),\n ObjectId('5e8e71dc86757736aa93ab80'),\n ObjectId('5e8e71dc86757736aa93ab81'),\n ObjectId('5e8e71dc86757736aa93ab82'),\n ObjectId('5e8e71dc86757736aa93ab83'),\n ObjectId('5e8e71dc86757736aa93ab84'),\n ObjectId('5e8e71dc86757736aa93ab85'),\n ObjectId('5e8e71dc86757736aa93ab86'),\n ObjectId('5e8e71dc86757736aa93ab87'),\n ObjectId('5e8e71dc86757736aa93ab88'),\n ObjectId('5e8e71dc86757736aa93ab89'),\n ObjectId('5e8e71dc86757736aa93ab8a'),\n ObjectId('5e8e71dc86757736aa93ab8b'),\n ObjectId('5e8e71dc86757736aa93ab8c'),\n ObjectId('5e8e71dc86757736aa93ab8d'),\n ObjectId('5e8e71dc86757736aa93ab8e'),\n ObjectId('5e8e71dc86757736aa93ab8f'),\n ObjectId('5e8e71dc86757736aa93ab90'),\n ObjectId('5e8e71dc86757736aa93ab91'),\n ObjectId('5e8e71dc86757736aa93ab92'),\n ObjectId('5e8e71dc86757736aa93ab93'),\n ObjectId('5e8e71dc86757736aa93ab94'),\n ObjectId('5e8e71dc86757736aa93ab95'),\n ObjectId('5e8e71dc86757736aa93ab96'),\n ObjectId('5e8e71dc86757736aa93ab97'),\n ObjectId('5e8e71dc86757736aa93ab98'),\n ObjectId('5e8e71dc86757736aa93ab99'),\n ObjectId('5e8e71dc86757736aa93ab9a'),\n ObjectId('5e8e71dc86757736aa93ab9b'),\n ObjectId('5e8e71dc86757736aa93ab9c'),\n ObjectId('5e8e71dc86757736aa93ab9d'),\n ObjectId('5e8e71dc86757736aa93ab9e'),\n ObjectId('5e8e71dc86757736aa93ab9f'),\n ObjectId('5e8e71dc86757736aa93aba0'),\n ObjectId('5e8e71dc86757736aa93aba1'),\n ObjectId('5e8e71dc86757736aa93aba2'),\n ObjectId('5e8e71dc86757736aa93aba3'),\n ObjectId('5e8e71dc86757736aa93aba4'),\n ObjectId('5e8e71dc86757736aa93aba5'),\n ObjectId('5e8e71dc86757736aa93aba6'),\n ObjectId('5e8e71dc86757736aa93aba7'),\n ObjectId('5e8e71dc86757736aa93aba8'),\n ObjectId('5e8e71dc86757736aa93aba9'),\n ObjectId('5e8e71dc86757736aa93abaa'),\n ObjectId('5e8e71dc86757736aa93abab'),\n ObjectId('5e8e71dc86757736aa93abac'),\n ObjectId('5e8e71dc86757736aa93abad'),\n ObjectId('5e8e71dc86757736aa93abae'),\n ObjectId('5e8e71dc86757736aa93abaf'),\n ObjectId('5e8e71dc86757736aa93abb0'),\n ObjectId('5e8e71dc86757736aa93abb1'),\n ObjectId('5e8e71dc86757736aa93abb2'),\n ObjectId('5e8e71dc86757736aa93abb3'),\n ObjectId('5e8e71dc86757736aa93abb4'),\n ObjectId('5e8e71dc86757736aa93abb5'),\n ObjectId('5e8e71dc86757736aa93abb6'),\n ObjectId('5e8e71dc86757736aa93abb7'),\n ObjectId('5e8e71dc86757736aa93abb8'),\n ObjectId('5e8e71dc86757736aa93abb9'),\n ObjectId('5e8e71dc86757736aa93abba'),\n ObjectId('5e8e71dc86757736aa93abbb'),\n ObjectId('5e8e71dc86757736aa93abbc'),\n ObjectId('5e8e71dc86757736aa93abbd'),\n ObjectId('5e8e71dc86757736aa93abbe'),\n ObjectId('5e8e71dc86757736aa93abbf'),\n ObjectId('5e8e71dc86757736aa93abc0'),\n ObjectId('5e8e71dc86757736aa93abc1'),\n ObjectId('5e8e71dc86757736aa93abc2'),\n ObjectId('5e8e71dc86757736aa93abc3'),\n ObjectId('5e8e71dc86757736aa93abc4'),\n ObjectId('5e8e71dc86757736aa93abc5'),\n ObjectId('5e8e71dc86757736aa93abc6'),\n ObjectId('5e8e71dc86757736aa93abc7'),\n ObjectId('5e8e71dc86757736aa93abc8'),\n ObjectId('5e8e71dc86757736aa93abc9'),\n ObjectId('5e8e71dc86757736aa93abca'),\n ObjectId('5e8e71dc86757736aa93abcb'),\n ObjectId('5e8e71dc86757736aa93abcc'),\n ObjectId('5e8e71dc86757736aa93abcd'),\n ObjectId('5e8e71dc86757736aa93abce'),\n ObjectId('5e8e71dc86757736aa93abcf'),\n ObjectId('5e8e71dc86757736aa93abd0'),\n ObjectId('5e8e71dc86757736aa93abd1'),\n ObjectId('5e8e71dc86757736aa93abd2'),\n ObjectId('5e8e71dc86757736aa93abd3'),\n ObjectId('5e8e71dc86757736aa93abd4'),\n ObjectId('5e8e71dc86757736aa93abd5'),\n ObjectId('5e8e71dc86757736aa93abd6'),\n ObjectId('5e8e71dc86757736aa93abd7'),\n ObjectId('5e8e71dc86757736aa93abd8'),\n ObjectId('5e8e71dc86757736aa93abd9'),\n ObjectId('5e8e71dc86757736aa93abda'),\n ObjectId('5e8e71dc86757736aa93abdb'),\n ObjectId('5e8e71dc86757736aa93abdc'),\n ObjectId('5e8e71dc86757736aa93abdd'),\n ObjectId('5e8e71dc86757736aa93abde'),\n ObjectId('5e8e71dc86757736aa93abdf'),\n ObjectId('5e8e71dc86757736aa93abe0'),\n ObjectId('5e8e71dc86757736aa93abe1'),\n ObjectId('5e8e71dc86757736aa93abe2'),\n ObjectId('5e8e71dc86757736aa93abe3'),\n ObjectId('5e8e71dc86757736aa93abe4'),\n ObjectId('5e8e71dc86757736aa93abe5'),\n ObjectId('5e8e71dc86757736aa93abe6'),\n ObjectId('5e8e71dc86757736aa93abe7'),\n ObjectId('5e8e71dc86757736aa93abe8'),\n ObjectId('5e8e71dc86757736aa93abe9'),\n ObjectId('5e8e71dc86757736aa93abea'),\n ObjectId('5e8e71dc86757736aa93abeb'),\n ObjectId('5e8e71dc86757736aa93abec'),\n ObjectId('5e8e71dc86757736aa93abed'),\n ObjectId('5e8e71dc86757736aa93abee'),\n ObjectId('5e8e71dc86757736aa93abef'),\n ObjectId('5e8e71dc86757736aa93abf0'),\n ObjectId('5e8e71dc86757736aa93abf1'),\n ObjectId('5e8e71dc86757736aa93abf2'),\n ObjectId('5e8e71dc86757736aa93abf3'),\n ObjectId('5e8e71dc86757736aa93abf4'),\n ObjectId('5e8e71dc86757736aa93abf5'),\n ObjectId('5e8e71dc86757736aa93abf6'),\n ObjectId('5e8e71dc86757736aa93abf7'),\n ObjectId('5e8e71dc86757736aa93abf8'),\n ObjectId('5e8e71dc86757736aa93abf9'),\n ObjectId('5e8e71dc86757736aa93abfa'),\n ObjectId('5e8e71dc86757736aa93abfb'),\n ObjectId('5e8e71dc86757736aa93abfc'),\n ObjectId('5e8e71dc86757736aa93abfd'),\n ObjectId('5e8e71dc86757736aa93abfe'),\n ObjectId('5e8e71dc86757736aa93abff'),\n ObjectId('5e8e71dc86757736aa93ac00'),\n ObjectId('5e8e71dc86757736aa93ac01'),\n ObjectId('5e8e71dc86757736aa93ac02'),\n ObjectId('5e8e71dc86757736aa93ac03'),\n ObjectId('5e8e71dc86757736aa93ac04'),\n ObjectId('5e8e71dc86757736aa93ac05'),\n ObjectId('5e8e71dc86757736aa93ac06'),\n ObjectId('5e8e71dc86757736aa93ac07'),\n ObjectId('5e8e71dc86757736aa93ac08'),\n ObjectId('5e8e71dc86757736aa93ac09'),\n ObjectId('5e8e71dc86757736aa93ac0a'),\n ObjectId('5e8e71dc86757736aa93ac0b'),\n ObjectId('5e8e71dc86757736aa93ac0c'),\n ObjectId('5e8e71dc86757736aa93ac0d'),\n ObjectId('5e8e71dc86757736aa93ac0e'),\n ObjectId('5e8e71dc86757736aa93ac0f'),\n ObjectId('5e8e71dc86757736aa93ac10'),\n ObjectId('5e8e71dc86757736aa93ac11'),\n ObjectId('5e8e71dc86757736aa93ac12'),\n ObjectId('5e8e71dc86757736aa93ac13'),\n ObjectId('5e8e71dc86757736aa93ac14'),\n ObjectId('5e8e71dc86757736aa93ac15'),\n ObjectId('5e8e71dc86757736aa93ac16'),\n ObjectId('5e8e71dc86757736aa93ac17'),\n ObjectId('5e8e71dc86757736aa93ac18'),\n ObjectId('5e8e71dc86757736aa93ac19'),\n ObjectId('5e8e71dc86757736aa93ac1a'),\n ObjectId('5e8e71dc86757736aa93ac1b'),\n ObjectId('5e8e71dc86757736aa93ac1c'),\n ObjectId('5e8e71dc86757736aa93ac1d'),\n ObjectId('5e8e71dc86757736aa93ac1e'),\n ObjectId('5e8e71dc86757736aa93ac1f'),\n ObjectId('5e8e71dc86757736aa93ac20'),\n ObjectId('5e8e71dc86757736aa93ac21'),\n ObjectId('5e8e71dc86757736aa93ac22'),\n ObjectId('5e8e71dc86757736aa93ac23'),\n ObjectId('5e8e71dc86757736aa93ac24'),\n ObjectId('5e8e71dc86757736aa93ac25'),\n ObjectId('5e8e71dc86757736aa93ac26'),\n ObjectId('5e8e71dc86757736aa93ac27'),\n ObjectId('5e8e71dc86757736aa93ac28'),\n ObjectId('5e8e71dc86757736aa93ac29'),\n ObjectId('5e8e71dc86757736aa93ac2a'),\n ObjectId('5e8e71dc86757736aa93ac2b'),\n ObjectId('5e8e71dc86757736aa93ac2c'),\n ObjectId('5e8e71dc86757736aa93ac2d'),\n ObjectId('5e8e71dc86757736aa93ac2e'),\n ObjectId('5e8e71dc86757736aa93ac2f'),\n ObjectId('5e8e71dc86757736aa93ac30'),\n ObjectId('5e8e71dc86757736aa93ac31'),\n ObjectId('5e8e71dc86757736aa93ac32'),\n ObjectId('5e8e71dc86757736aa93ac33'),\n ObjectId('5e8e71dc86757736aa93ac34'),\n ObjectId('5e8e71dc86757736aa93ac35'),\n ObjectId('5e8e71dc86757736aa93ac36'),\n ObjectId('5e8e71dc86757736aa93ac37'),\n ObjectId('5e8e71dc86757736aa93ac38'),\n ObjectId('5e8e71dc86757736aa93ac39'),\n ObjectId('5e8e71dc86757736aa93ac3a'),\n ObjectId('5e8e71dc86757736aa93ac3b'),\n ObjectId('5e8e71dc86757736aa93ac3c'),\n ObjectId('5e8e71dc86757736aa93ac3d'),\n ObjectId('5e8e71dc86757736aa93ac3e'),\n ObjectId('5e8e71dc86757736aa93ac3f'),\n ObjectId('5e8e71dc86757736aa93ac40'),\n ObjectId('5e8e71dc86757736aa93ac41'),\n ObjectId('5e8e71dc86757736aa93ac42'),\n ObjectId('5e8e71dc86757736aa93ac43'),\n ObjectId('5e8e71dc86757736aa93ac44'),\n ObjectId('5e8e71dc86757736aa93ac45'),\n ObjectId('5e8e71dc86757736aa93ac46'),\n ObjectId('5e8e71dc86757736aa93ac47'),\n ObjectId('5e8e71dc86757736aa93ac48'),\n ObjectId('5e8e71dc86757736aa93ac49'),\n ObjectId('5e8e71dc86757736aa93ac4a'),\n ObjectId('5e8e71dc86757736aa93ac4b'),\n ObjectId('5e8e71dc86757736aa93ac4c'),\n ObjectId('5e8e71dc86757736aa93ac4d'),\n ObjectId('5e8e71dc86757736aa93ac4e'),\n ObjectId('5e8e71dc86757736aa93ac4f'),\n ObjectId('5e8e71dc86757736aa93ac50'),\n ObjectId('5e8e71dc86757736aa93ac51'),\n ObjectId('5e8e71dc86757736aa93ac52'),\n ObjectId('5e8e71dc86757736aa93ac53'),\n ObjectId('5e8e71dc86757736aa93ac54'),\n ObjectId('5e8e71dc86757736aa93ac55'),\n ObjectId('5e8e71dc86757736aa93ac56'),\n ObjectId('5e8e71dc86757736aa93ac57'),\n ObjectId('5e8e71dc86757736aa93ac58'),\n ObjectId('5e8e71dc86757736aa93ac59'),\n ObjectId('5e8e71dc86757736aa93ac5a'),\n ObjectId('5e8e71dc86757736aa93ac5b'),\n ObjectId('5e8e71dc86757736aa93ac5c'),\n ObjectId('5e8e71dc86757736aa93ac5d'),\n ObjectId('5e8e71dc86757736aa93ac5e'),\n ObjectId('5e8e71dc86757736aa93ac5f'),\n ObjectId('5e8e71dc86757736aa93ac60'),\n ObjectId('5e8e71dc86757736aa93ac61'),\n ObjectId('5e8e71dc86757736aa93ac62'),\n ObjectId('5e8e71dc86757736aa93ac63'),\n ObjectId('5e8e71dc86757736aa93ac64'),\n ObjectId('5e8e71dc86757736aa93ac65'),\n ObjectId('5e8e71dc86757736aa93ac66'),\n ObjectId('5e8e71dc86757736aa93ac67'),\n ObjectId('5e8e71dc86757736aa93ac68'),\n ObjectId('5e8e71dc86757736aa93ac69'),\n ObjectId('5e8e71dc86757736aa93ac6a'),\n ObjectId('5e8e71dc86757736aa93ac6b'),\n ObjectId('5e8e71dc86757736aa93ac6c'),\n ObjectId('5e8e71dc86757736aa93ac6d'),\n ObjectId('5e8e71dc86757736aa93ac6e'),\n ObjectId('5e8e71dc86757736aa93ac6f'),\n ObjectId('5e8e71dc86757736aa93ac70'),\n ObjectId('5e8e71dc86757736aa93ac71'),\n ObjectId('5e8e71dc86757736aa93ac72'),\n ObjectId('5e8e71dc86757736aa93ac73'),\n ObjectId('5e8e71dc86757736aa93ac74'),\n ObjectId('5e8e71dc86757736aa93ac75'),\n ObjectId('5e8e71dc86757736aa93ac76'),\n ObjectId('5e8e71dc86757736aa93ac77'),\n ObjectId('5e8e71dc86757736aa93ac78'),\n ObjectId('5e8e71dc86757736aa93ac79'),\n ObjectId('5e8e71dc86757736aa93ac7a'),\n ObjectId('5e8e71dc86757736aa93ac7b'),\n ObjectId('5e8e71dc86757736aa93ac7c'),\n ObjectId('5e8e71dc86757736aa93ac7d'),\n ObjectId('5e8e71dc86757736aa93ac7e'),\n ObjectId('5e8e71dc86757736aa93ac7f'),\n ObjectId('5e8e71dc86757736aa93ac80'),\n ObjectId('5e8e71dc86757736aa93ac81'),\n ObjectId('5e8e71dc86757736aa93ac82'),\n ObjectId('5e8e71dc86757736aa93ac83'),\n ObjectId('5e8e71dc86757736aa93ac84'),\n ObjectId('5e8e71dc86757736aa93ac85'),\n ObjectId('5e8e71dc86757736aa93ac86'),\n ObjectId('5e8e71dc86757736aa93ac87'),\n ObjectId('5e8e71dc86757736aa93ac88'),\n ObjectId('5e8e71dc86757736aa93ac89'),\n ObjectId('5e8e71dc86757736aa93ac8a'),\n ObjectId('5e8e71dc86757736aa93ac8b'),\n ObjectId('5e8e71dc86757736aa93ac8c'),\n ObjectId('5e8e71dc86757736aa93ac8d'),\n ObjectId('5e8e71dc86757736aa93ac8e'),\n ObjectId('5e8e71dc86757736aa93ac8f'),\n ObjectId('5e8e71dc86757736aa93ac90'),\n ObjectId('5e8e71dc86757736aa93ac91'),\n ObjectId('5e8e71dc86757736aa93ac92'),\n ObjectId('5e8e71dc86757736aa93ac93'),\n ObjectId('5e8e71dc86757736aa93ac94'),\n ObjectId('5e8e71dc86757736aa93ac95'),\n ObjectId('5e8e71dc86757736aa93ac96'),\n ObjectId('5e8e71dc86757736aa93ac97'),\n ObjectId('5e8e71dc86757736aa93ac98'),\n ObjectId('5e8e71dc86757736aa93ac99'),\n ObjectId('5e8e71dc86757736aa93ac9a'),\n ObjectId('5e8e71dc86757736aa93ac9b'),\n ObjectId('5e8e71dc86757736aa93ac9c'),\n ObjectId('5e8e71dc86757736aa93ac9d'),\n ObjectId('5e8e71dc86757736aa93ac9e'),\n ObjectId('5e8e71dc86757736aa93ac9f'),\n ObjectId('5e8e71dc86757736aa93aca0'),\n ObjectId('5e8e71dc86757736aa93aca1'),\n ObjectId('5e8e71dc86757736aa93aca2'),\n ObjectId('5e8e71dc86757736aa93aca3'),\n ObjectId('5e8e71dc86757736aa93aca4'),\n ObjectId('5e8e71dc86757736aa93aca5'),\n ObjectId('5e8e71dc86757736aa93aca6'),\n ObjectId('5e8e71dc86757736aa93aca7'),\n ObjectId('5e8e71dc86757736aa93aca8'),\n ObjectId('5e8e71dc86757736aa93aca9'),\n ObjectId('5e8e71dc86757736aa93acaa'),\n ObjectId('5e8e71dc86757736aa93acab'),\n ObjectId('5e8e71dc86757736aa93acac'),\n ObjectId('5e8e71dc86757736aa93acad'),\n ObjectId('5e8e71dc86757736aa93acae'),\n ObjectId('5e8e71dc86757736aa93acaf'),\n ObjectId('5e8e71dc86757736aa93acb0'),\n ObjectId('5e8e71dc86757736aa93acb1'),\n ObjectId('5e8e71dc86757736aa93acb2'),\n ObjectId('5e8e71dc86757736aa93acb3'),\n ObjectId('5e8e71dc86757736aa93acb4'),\n ObjectId('5e8e71dc86757736aa93acb5'),\n ObjectId('5e8e71dc86757736aa93acb6'),\n ObjectId('5e8e71dc86757736aa93acb7'),\n ObjectId('5e8e71dc86757736aa93acb8'),\n ObjectId('5e8e71dc86757736aa93acb9'),\n ObjectId('5e8e71dc86757736aa93acba'),\n ObjectId('5e8e71dc86757736aa93acbb'),\n ObjectId('5e8e71dc86757736aa93acbc'),\n ObjectId('5e8e71dc86757736aa93acbd'),\n ObjectId('5e8e71dc86757736aa93acbe'),\n ObjectId('5e8e71dc86757736aa93acbf'),\n ObjectId('5e8e71dc86757736aa93acc0'),\n ObjectId('5e8e71dc86757736aa93acc1'),\n ObjectId('5e8e71dc86757736aa93acc2'),\n ObjectId('5e8e71dc86757736aa93acc3'),\n ObjectId('5e8e71dc86757736aa93acc4'),\n ObjectId('5e8e71dc86757736aa93acc5'),\n ObjectId('5e8e71dc86757736aa93acc6'),\n ObjectId('5e8e71dc86757736aa93acc7'),\n ObjectId('5e8e71dc86757736aa93acc8'),\n ObjectId('5e8e71dc86757736aa93acc9'),\n ObjectId('5e8e71dc86757736aa93acca'),\n ObjectId('5e8e71dc86757736aa93accb'),\n ObjectId('5e8e71dc86757736aa93accc'),\n ObjectId('5e8e71dc86757736aa93accd'),\n ObjectId('5e8e71dc86757736aa93acce'),\n ObjectId('5e8e71dc86757736aa93accf'),\n ObjectId('5e8e71dc86757736aa93acd0'),\n ObjectId('5e8e71dc86757736aa93acd1'),\n ObjectId('5e8e71dc86757736aa93acd2'),\n ObjectId('5e8e71dc86757736aa93acd3'),\n ObjectId('5e8e71dc86757736aa93acd4'),\n ObjectId('5e8e71dc86757736aa93acd5'),\n ObjectId('5e8e71dc86757736aa93acd6'),\n ObjectId('5e8e71dc86757736aa93acd7'),\n ObjectId('5e8e71dc86757736aa93acd8'),\n ObjectId('5e8e71dc86757736aa93acd9'),\n ObjectId('5e8e71dc86757736aa93acda'),\n ObjectId('5e8e71dc86757736aa93acdb'),\n ObjectId('5e8e71dc86757736aa93acdc'),\n ObjectId('5e8e71dc86757736aa93acdd'),\n ObjectId('5e8e71dc86757736aa93acde'),\n ObjectId('5e8e71dc86757736aa93acdf'),\n ObjectId('5e8e71dc86757736aa93ace0'),\n ObjectId('5e8e71dc86757736aa93ace1'),\n ObjectId('5e8e71dc86757736aa93ace2'),\n ObjectId('5e8e71dc86757736aa93ace3'),\n ObjectId('5e8e71dc86757736aa93ace4'),\n ObjectId('5e8e71dc86757736aa93ace5'),\n ObjectId('5e8e71dc86757736aa93ace6'),\n ObjectId('5e8e71dc86757736aa93ace7'),\n ObjectId('5e8e71dc86757736aa93ace8'),\n ObjectId('5e8e71dc86757736aa93ace9'),\n ObjectId('5e8e71dc86757736aa93acea'),\n ObjectId('5e8e71dc86757736aa93aceb'),\n ObjectId('5e8e71dc86757736aa93acec'),\n ObjectId('5e8e71dc86757736aa93aced'),\n ObjectId('5e8e71dc86757736aa93acee'),\n ObjectId('5e8e71dc86757736aa93acef'),\n ObjectId('5e8e71dc86757736aa93acf0'),\n ObjectId('5e8e71dc86757736aa93acf1'),\n ObjectId('5e8e71dc86757736aa93acf2'),\n ObjectId('5e8e71dc86757736aa93acf3'),\n ObjectId('5e8e71dc86757736aa93acf4'),\n ObjectId('5e8e71dc86757736aa93acf5'),\n ObjectId('5e8e71dc86757736aa93acf6'),\n ObjectId('5e8e71dc86757736aa93acf7'),\n ObjectId('5e8e71dc86757736aa93acf8'),\n ObjectId('5e8e71dc86757736aa93acf9'),\n ObjectId('5e8e71dc86757736aa93acfa'),\n ObjectId('5e8e71dc86757736aa93acfb'),\n ObjectId('5e8e71dc86757736aa93acfc'),\n ObjectId('5e8e71dc86757736aa93acfd'),\n ObjectId('5e8e71dc86757736aa93acfe'),\n ObjectId('5e8e71dc86757736aa93acff'),\n ObjectId('5e8e71dc86757736aa93ad00'),\n ObjectId('5e8e71dc86757736aa93ad01'),\n ObjectId('5e8e71dc86757736aa93ad02'),\n ObjectId('5e8e71dc86757736aa93ad03'),\n ObjectId('5e8e71dc86757736aa93ad04'),\n ObjectId('5e8e71dc86757736aa93ad05'),\n ObjectId('5e8e71dc86757736aa93ad06'),\n ObjectId('5e8e71dc86757736aa93ad07'),\n ObjectId('5e8e71dc86757736aa93ad08'),\n ObjectId('5e8e71dc86757736aa93ad09'),\n ObjectId('5e8e71dc86757736aa93ad0a'),\n ObjectId('5e8e71dc86757736aa93ad0b'),\n ObjectId('5e8e71dc86757736aa93ad0c'),\n ObjectId('5e8e71dc86757736aa93ad0d'),\n ObjectId('5e8e71dc86757736aa93ad0e'),\n ObjectId('5e8e71dc86757736aa93ad0f'),\n ObjectId('5e8e71dc86757736aa93ad10'),\n ObjectId('5e8e71dc86757736aa93ad11'),\n ObjectId('5e8e71dc86757736aa93ad12'),\n ObjectId('5e8e71dc86757736aa93ad13'),\n ObjectId('5e8e71dc86757736aa93ad14'),\n ObjectId('5e8e71dc86757736aa93ad15'),\n ObjectId('5e8e71dc86757736aa93ad16'),\n ObjectId('5e8e71dc86757736aa93ad17'),\n ObjectId('5e8e71dc86757736aa93ad18'),\n ObjectId('5e8e71dc86757736aa93ad19'),\n ObjectId('5e8e71dc86757736aa93ad1a'),\n ObjectId('5e8e71dc86757736aa93ad1b'),\n ObjectId('5e8e71dc86757736aa93ad1c'),\n ObjectId('5e8e71dc86757736aa93ad1d'),\n ObjectId('5e8e71dc86757736aa93ad1e'),\n ObjectId('5e8e71dc86757736aa93ad1f'),\n ObjectId('5e8e71dc86757736aa93ad20'),\n ObjectId('5e8e71dc86757736aa93ad21'),\n ObjectId('5e8e71dc86757736aa93ad22'),\n ObjectId('5e8e71dc86757736aa93ad23'),\n ObjectId('5e8e71dc86757736aa93ad24'),\n ObjectId('5e8e71dc86757736aa93ad25'),\n ObjectId('5e8e71dc86757736aa93ad26'),\n ObjectId('5e8e71dc86757736aa93ad27'),\n ObjectId('5e8e71dc86757736aa93ad28'),\n ObjectId('5e8e71dc86757736aa93ad29'),\n ObjectId('5e8e71dc86757736aa93ad2a'),\n ObjectId('5e8e71dc86757736aa93ad2b'),\n ObjectId('5e8e71dc86757736aa93ad2c'),\n ObjectId('5e8e71dc86757736aa93ad2d'),\n ObjectId('5e8e71dc86757736aa93ad2e'),\n ObjectId('5e8e71dc86757736aa93ad2f'),\n ObjectId('5e8e71dc86757736aa93ad30'),\n ObjectId('5e8e71dc86757736aa93ad31'),\n ObjectId('5e8e71dc86757736aa93ad32'),\n ObjectId('5e8e71dc86757736aa93ad33'),\n ObjectId('5e8e71dc86757736aa93ad34'),\n ObjectId('5e8e71dc86757736aa93ad35'),\n ObjectId('5e8e71dc86757736aa93ad36'),\n ObjectId('5e8e71dc86757736aa93ad37'),\n ObjectId('5e8e71dc86757736aa93ad38'),\n ObjectId('5e8e71dc86757736aa93ad39'),\n ObjectId('5e8e71dc86757736aa93ad3a'),\n ObjectId('5e8e71dc86757736aa93ad3b'),\n ObjectId('5e8e71dc86757736aa93ad3c'),\n ObjectId('5e8e71dc86757736aa93ad3d'),\n ObjectId('5e8e71dc86757736aa93ad3e'),\n ObjectId('5e8e71dc86757736aa93ad3f'),\n ObjectId('5e8e71dc86757736aa93ad40'),\n ObjectId('5e8e71dc86757736aa93ad41'),\n ObjectId('5e8e71dc86757736aa93ad42'),\n ObjectId('5e8e71dc86757736aa93ad43'),\n ObjectId('5e8e71dc86757736aa93ad44'),\n ObjectId('5e8e71dc86757736aa93ad45'),\n ObjectId('5e8e71dc86757736aa93ad46'),\n ObjectId('5e8e71dc86757736aa93ad47'),\n ObjectId('5e8e71dc86757736aa93ad48'),\n ObjectId('5e8e71dc86757736aa93ad49'),\n ObjectId('5e8e71dc86757736aa93ad4a'),\n ObjectId('5e8e71dc86757736aa93ad4b'),\n ObjectId('5e8e71dc86757736aa93ad4c'),\n ObjectId('5e8e71dc86757736aa93ad4d'),\n ObjectId('5e8e71dc86757736aa93ad4e'),\n ObjectId('5e8e71dc86757736aa93ad4f'),\n ObjectId('5e8e71dc86757736aa93ad50'),\n ObjectId('5e8e71dc86757736aa93ad51'),\n ObjectId('5e8e71dc86757736aa93ad52'),\n ObjectId('5e8e71dc86757736aa93ad53'),\n ObjectId('5e8e71dc86757736aa93ad54'),\n ObjectId('5e8e71dc86757736aa93ad55'),\n ObjectId('5e8e71dc86757736aa93ad56'),\n ObjectId('5e8e71dc86757736aa93ad57'),\n ObjectId('5e8e71dc86757736aa93ad58'),\n ObjectId('5e8e71dc86757736aa93ad59'),\n ObjectId('5e8e71dc86757736aa93ad5a'),\n ObjectId('5e8e71dc86757736aa93ad5b'),\n ObjectId('5e8e71dc86757736aa93ad5c'),\n ObjectId('5e8e71dc86757736aa93ad5d'),\n ObjectId('5e8e71dc86757736aa93ad5e'),\n ObjectId('5e8e71dc86757736aa93ad5f'),\n ObjectId('5e8e71dc86757736aa93ad60'),\n ObjectId('5e8e71dc86757736aa93ad61'),\n ObjectId('5e8e71dc86757736aa93ad62'),\n ObjectId('5e8e71dc86757736aa93ad63'),\n ObjectId('5e8e71dc86757736aa93ad64'),\n ObjectId('5e8e71dc86757736aa93ad65'),\n ObjectId('5e8e71dc86757736aa93ad66'),\n ObjectId('5e8e71dc86757736aa93ad67'),\n ObjectId('5e8e71dc86757736aa93ad68'),\n ObjectId('5e8e71dc86757736aa93ad69'),\n ObjectId('5e8e71dc86757736aa93ad6a'),\n ObjectId('5e8e71dc86757736aa93ad6b'),\n ObjectId('5e8e71dc86757736aa93ad6c'),\n ObjectId('5e8e71dc86757736aa93ad6d'),\n ObjectId('5e8e71dc86757736aa93ad6e'),\n ObjectId('5e8e71dc86757736aa93ad6f'),\n ObjectId('5e8e71dc86757736aa93ad70'),\n ObjectId('5e8e71dc86757736aa93ad71'),\n ObjectId('5e8e71dc86757736aa93ad72'),\n ObjectId('5e8e71dc86757736aa93ad73'),\n ObjectId('5e8e71dc86757736aa93ad74'),\n ObjectId('5e8e71dc86757736aa93ad75'),\n ObjectId('5e8e71dc86757736aa93ad76'),\n ObjectId('5e8e71dc86757736aa93ad77'),\n ObjectId('5e8e71dc86757736aa93ad78'),\n ObjectId('5e8e71dc86757736aa93ad79'),\n ObjectId('5e8e71dc86757736aa93ad7a'),\n ObjectId('5e8e71dc86757736aa93ad7b'),\n ObjectId('5e8e71dc86757736aa93ad7c'),\n ObjectId('5e8e71dc86757736aa93ad7d'),\n ObjectId('5e8e71dc86757736aa93ad7e'),\n ObjectId('5e8e71dc86757736aa93ad7f'),\n ObjectId('5e8e71dc86757736aa93ad80'),\n ObjectId('5e8e71dc86757736aa93ad81'),\n ObjectId('5e8e71dc86757736aa93ad82'),\n ObjectId('5e8e71dc86757736aa93ad83'),\n ObjectId('5e8e71dc86757736aa93ad84'),\n ObjectId('5e8e71dc86757736aa93ad85'),\n ObjectId('5e8e71dc86757736aa93ad86'),\n ObjectId('5e8e71dc86757736aa93ad87'),\n ObjectId('5e8e71dc86757736aa93ad88'),\n ObjectId('5e8e71dc86757736aa93ad89'),\n ObjectId('5e8e71dc86757736aa93ad8a'),\n ObjectId('5e8e71dc86757736aa93ad8b'),\n ObjectId('5e8e71dc86757736aa93ad8c'),\n ObjectId('5e8e71dc86757736aa93ad8d'),\n ObjectId('5e8e71dc86757736aa93ad8e'),\n ObjectId('5e8e71dc86757736aa93ad8f'),\n ObjectId('5e8e71dc86757736aa93ad90'),\n ObjectId('5e8e71dc86757736aa93ad91'),\n ObjectId('5e8e71dc86757736aa93ad92'),\n ObjectId('5e8e71dc86757736aa93ad93'),\n ObjectId('5e8e71dc86757736aa93ad94'),\n ObjectId('5e8e71dc86757736aa93ad95'),\n ObjectId('5e8e71dc86757736aa93ad96'),\n ObjectId('5e8e71dc86757736aa93ad97'),\n ObjectId('5e8e71dc86757736aa93ad98'),\n ObjectId('5e8e71dc86757736aa93ad99'),\n ObjectId('5e8e71dc86757736aa93ad9a'),\n ObjectId('5e8e71dc86757736aa93ad9b'),\n ObjectId('5e8e71dc86757736aa93ad9c'),\n ObjectId('5e8e71dc86757736aa93ad9d'),\n ObjectId('5e8e71dc86757736aa93ad9e'),\n ObjectId('5e8e71dc86757736aa93ad9f'),\n ObjectId('5e8e71dc86757736aa93ada0'),\n ObjectId('5e8e71dc86757736aa93ada1'),\n ObjectId('5e8e71dc86757736aa93ada2'),\n ObjectId('5e8e71dc86757736aa93ada3'),\n ObjectId('5e8e71dc86757736aa93ada4'),\n ObjectId('5e8e71dc86757736aa93ada5'),\n ObjectId('5e8e71dc86757736aa93ada6'),\n ObjectId('5e8e71dc86757736aa93ada7'),\n ObjectId('5e8e71dc86757736aa93ada8'),\n ObjectId('5e8e71dc86757736aa93ada9'),\n ObjectId('5e8e71dc86757736aa93adaa'),\n ObjectId('5e8e71dc86757736aa93adab'),\n ObjectId('5e8e71dc86757736aa93adac'),\n ObjectId('5e8e71dc86757736aa93adad'),\n ObjectId('5e8e71dc86757736aa93adae'),\n ObjectId('5e8e71dc86757736aa93adaf'),\n ObjectId('5e8e71dc86757736aa93adb0'),\n ObjectId('5e8e71dc86757736aa93adb1'),\n ObjectId('5e8e71dc86757736aa93adb2'),\n ObjectId('5e8e71dc86757736aa93adb3'),\n ObjectId('5e8e71dc86757736aa93adb4'),\n ObjectId('5e8e71dc86757736aa93adb5'),\n ObjectId('5e8e71dc86757736aa93adb6'),\n ObjectId('5e8e71dc86757736aa93adb7'),\n ObjectId('5e8e71dc86757736aa93adb8'),\n ObjectId('5e8e71dc86757736aa93adb9'),\n ObjectId('5e8e71dc86757736aa93adba'),\n ObjectId('5e8e71dc86757736aa93adbb'),\n ObjectId('5e8e71dc86757736aa93adbc'),\n ObjectId('5e8e71dc86757736aa93adbd'),\n ObjectId('5e8e71dc86757736aa93adbe'),\n ObjectId('5e8e71dc86757736aa93adbf'),\n ObjectId('5e8e71dc86757736aa93adc0'),\n ObjectId('5e8e71dc86757736aa93adc1'),\n ObjectId('5e8e71dc86757736aa93adc2'),\n ObjectId('5e8e71dc86757736aa93adc3'),\n ObjectId('5e8e71dc86757736aa93adc4'),\n ObjectId('5e8e71dc86757736aa93adc5'),\n ObjectId('5e8e71dc86757736aa93adc6'),\n ObjectId('5e8e71dc86757736aa93adc7'),\n ObjectId('5e8e71dc86757736aa93adc8'),\n ObjectId('5e8e71dc86757736aa93adc9'),\n ObjectId('5e8e71dc86757736aa93adca'),\n ObjectId('5e8e71dc86757736aa93adcb'),\n ObjectId('5e8e71dc86757736aa93adcc'),\n ObjectId('5e8e71dc86757736aa93adcd'),\n ObjectId('5e8e71dc86757736aa93adce'),\n ObjectId('5e8e71dc86757736aa93adcf'),\n ObjectId('5e8e71dc86757736aa93add0'),\n ObjectId('5e8e71dc86757736aa93add1'),\n ObjectId('5e8e71dc86757736aa93add2'),\n ObjectId('5e8e71dc86757736aa93add3'),\n ObjectId('5e8e71dc86757736aa93add4'),\n ObjectId('5e8e71dc86757736aa93add5'),\n ObjectId('5e8e71dc86757736aa93add6'),\n ObjectId('5e8e71dc86757736aa93add7'),\n ObjectId('5e8e71dc86757736aa93add8'),\n ObjectId('5e8e71dc86757736aa93add9'),\n ObjectId('5e8e71dc86757736aa93adda'),\n ObjectId('5e8e71dc86757736aa93addb'),\n ObjectId('5e8e71dc86757736aa93addc'),\n ObjectId('5e8e71dc86757736aa93addd'),\n ObjectId('5e8e71dc86757736aa93adde'),\n ObjectId('5e8e71dc86757736aa93addf'),\n ObjectId('5e8e71dc86757736aa93ade0'),\n ObjectId('5e8e71dc86757736aa93ade1'),\n ObjectId('5e8e71dc86757736aa93ade2'),\n ObjectId('5e8e71dc86757736aa93ade3'),\n ObjectId('5e8e71dc86757736aa93ade4'),\n ObjectId('5e8e71dc86757736aa93ade5'),\n ObjectId('5e8e71dc86757736aa93ade6'),\n ObjectId('5e8e71dc86757736aa93ade7'),\n ObjectId('5e8e71dc86757736aa93ade8'),\n ObjectId('5e8e71dc86757736aa93ade9'),\n ObjectId('5e8e71dc86757736aa93adea'),\n ObjectId('5e8e71dc86757736aa93adeb'),\n ObjectId('5e8e71dc86757736aa93adec'),\n ObjectId('5e8e71dc86757736aa93aded'),\n ObjectId('5e8e71dc86757736aa93adee'),\n ObjectId('5e8e71dc86757736aa93adef'),\n ObjectId('5e8e71dc86757736aa93adf0'),\n ObjectId('5e8e71dc86757736aa93adf1'),\n ObjectId('5e8e71dc86757736aa93adf2'),\n ObjectId('5e8e71dc86757736aa93adf3'),\n ObjectId('5e8e71dc86757736aa93adf4'),\n ObjectId('5e8e71dc86757736aa93adf5'),\n ObjectId('5e8e71dc86757736aa93adf6'),\n ObjectId('5e8e71dc86757736aa93adf7'),\n ObjectId('5e8e71dc86757736aa93adf8'),\n ObjectId('5e8e71dc86757736aa93adf9'),\n ObjectId('5e8e71dc86757736aa93adfa'),\n ObjectId('5e8e71dc86757736aa93adfb'),\n ObjectId('5e8e71dc86757736aa93adfc'),\n ObjectId('5e8e71dc86757736aa93adfd'),\n ObjectId('5e8e71dc86757736aa93adfe'),\n ObjectId('5e8e71dc86757736aa93adff'),\n ObjectId('5e8e71dc86757736aa93ae00'),\n ObjectId('5e8e71dc86757736aa93ae01'),\n ObjectId('5e8e71dc86757736aa93ae02'),\n ObjectId('5e8e71dc86757736aa93ae03'),\n ObjectId('5e8e71dc86757736aa93ae04'),\n ObjectId('5e8e71dc86757736aa93ae05'),\n ObjectId('5e8e71dc86757736aa93ae06'),\n ObjectId('5e8e71dc86757736aa93ae07'),\n ObjectId('5e8e71dc86757736aa93ae08'),\n ObjectId('5e8e71dc86757736aa93ae09'),\n ObjectId('5e8e71dc86757736aa93ae0a'),\n ObjectId('5e8e71dc86757736aa93ae0b'),\n ObjectId('5e8e71dc86757736aa93ae0c'),\n ObjectId('5e8e71dc86757736aa93ae0d'),\n ObjectId('5e8e71dc86757736aa93ae0e'),\n ObjectId('5e8e71dc86757736aa93ae0f'),\n ObjectId('5e8e71dc86757736aa93ae10'),\n ObjectId('5e8e71dc86757736aa93ae11'),\n ObjectId('5e8e71dc86757736aa93ae12'),\n ObjectId('5e8e71dc86757736aa93ae13'),\n ObjectId('5e8e71dc86757736aa93ae14'),\n ObjectId('5e8e71dc86757736aa93ae15'),\n ObjectId('5e8e71dc86757736aa93ae16'),\n ObjectId('5e8e71dc86757736aa93ae17'),\n ObjectId('5e8e71dc86757736aa93ae18'),\n ObjectId('5e8e71dc86757736aa93ae19'),\n ObjectId('5e8e71dc86757736aa93ae1a'),\n ObjectId('5e8e71dc86757736aa93ae1b'),\n ObjectId('5e8e71dc86757736aa93ae1c'),\n ObjectId('5e8e71dc86757736aa93ae1d'),\n ObjectId('5e8e71dc86757736aa93ae1e'),\n ObjectId('5e8e71dc86757736aa93ae1f'),\n ObjectId('5e8e71dc86757736aa93ae20'),\n ObjectId('5e8e71dc86757736aa93ae21'),\n ObjectId('5e8e71dc86757736aa93ae22'),\n ObjectId('5e8e71dc86757736aa93ae23'),\n ObjectId('5e8e71dc86757736aa93ae24'),\n ObjectId('5e8e71dc86757736aa93ae25'),\n ObjectId('5e8e71dc86757736aa93ae26'),\n ObjectId('5e8e71dc86757736aa93ae27'),\n ObjectId('5e8e71dc86757736aa93ae28'),\n ObjectId('5e8e71dc86757736aa93ae29'),\n ObjectId('5e8e71dc86757736aa93ae2a'),\n ObjectId('5e8e71dc86757736aa93ae2b'),\n ObjectId('5e8e71dc86757736aa93ae2c'),\n ObjectId('5e8e71dc86757736aa93ae2d'),\n ObjectId('5e8e71dc86757736aa93ae2e'),\n ObjectId('5e8e71dc86757736aa93ae2f'),\n ObjectId('5e8e71dc86757736aa93ae30'),\n ObjectId('5e8e71dc86757736aa93ae31'),\n ObjectId('5e8e71dc86757736aa93ae32'),\n ObjectId('5e8e71dc86757736aa93ae33'),\n ObjectId('5e8e71dc86757736aa93ae34'),\n ObjectId('5e8e71dc86757736aa93ae35'),\n ObjectId('5e8e71dc86757736aa93ae36'),\n ObjectId('5e8e71dc86757736aa93ae37'),\n ObjectId('5e8e71dc86757736aa93ae38'),\n ObjectId('5e8e71dc86757736aa93ae39'),\n ObjectId('5e8e71dc86757736aa93ae3a'),\n ObjectId('5e8e71dc86757736aa93ae3b'),\n ObjectId('5e8e71dc86757736aa93ae3c'),\n ObjectId('5e8e71dc86757736aa93ae3d'),\n ObjectId('5e8e71dc86757736aa93ae3e'),\n ObjectId('5e8e71dc86757736aa93ae3f'),\n ObjectId('5e8e71dc86757736aa93ae40'),\n ObjectId('5e8e71dc86757736aa93ae41'),\n ObjectId('5e8e71dc86757736aa93ae42'),\n ObjectId('5e8e71dc86757736aa93ae43'),\n ObjectId('5e8e71dc86757736aa93ae44'),\n ObjectId('5e8e71dc86757736aa93ae45'),\n ObjectId('5e8e71dc86757736aa93ae46'),\n ObjectId('5e8e71dc86757736aa93ae47'),\n ObjectId('5e8e71dc86757736aa93ae48'),\n ObjectId('5e8e71dc86757736aa93ae49'),\n ObjectId('5e8e71dc86757736aa93ae4a'),\n ObjectId('5e8e71dc86757736aa93ae4b'),\n ObjectId('5e8e71dc86757736aa93ae4c'),\n ObjectId('5e8e71dc86757736aa93ae4d'),\n ObjectId('5e8e71dc86757736aa93ae4e'),\n ObjectId('5e8e71dc86757736aa93ae4f'),\n ObjectId('5e8e71dc86757736aa93ae50'),\n ObjectId('5e8e71dc86757736aa93ae51'),\n ObjectId('5e8e71dc86757736aa93ae52'),\n ObjectId('5e8e71dc86757736aa93ae53'),\n ObjectId('5e8e71dc86757736aa93ae54'),\n ObjectId('5e8e71dc86757736aa93ae55'),\n ObjectId('5e8e71dc86757736aa93ae56'),\n ObjectId('5e8e71dc86757736aa93ae57'),\n ObjectId('5e8e71dc86757736aa93ae58'),\n ObjectId('5e8e71dc86757736aa93ae59'),\n ObjectId('5e8e71dc86757736aa93ae5a'),\n ObjectId('5e8e71dc86757736aa93ae5b'),\n ObjectId('5e8e71dc86757736aa93ae5c'),\n ObjectId('5e8e71dc86757736aa93ae5d'),\n ObjectId('5e8e71dc86757736aa93ae5e'),\n ObjectId('5e8e71dc86757736aa93ae5f'),\n ObjectId('5e8e71dc86757736aa93ae60'),\n ObjectId('5e8e71dc86757736aa93ae61'),\n ObjectId('5e8e71dc86757736aa93ae62'),\n ObjectId('5e8e71dc86757736aa93ae63'),\n ObjectId('5e8e71dc86757736aa93ae64'),\n ObjectId('5e8e71dc86757736aa93ae65'),\n ObjectId('5e8e71dc86757736aa93ae66'),\n ObjectId('5e8e71dc86757736aa93ae67'),\n ObjectId('5e8e71dc86757736aa93ae68'),\n ObjectId('5e8e71dc86757736aa93ae69'),\n ObjectId('5e8e71dc86757736aa93ae6a'),\n ObjectId('5e8e71dc86757736aa93ae6b'),\n ObjectId('5e8e71dc86757736aa93ae6c'),\n ObjectId('5e8e71dc86757736aa93ae6d'),\n ObjectId('5e8e71dc86757736aa93ae6e'),\n ObjectId('5e8e71dc86757736aa93ae6f'),\n ObjectId('5e8e71dc86757736aa93ae70'),\n ObjectId('5e8e71dc86757736aa93ae71'),\n ObjectId('5e8e71dc86757736aa93ae72'),\n ObjectId('5e8e71dc86757736aa93ae73'),\n ObjectId('5e8e71dc86757736aa93ae74'),\n ObjectId('5e8e71dc86757736aa93ae75'),\n ObjectId('5e8e71dc86757736aa93ae76'),\n ObjectId('5e8e71dc86757736aa93ae77'),\n ObjectId('5e8e71dc86757736aa93ae78'),\n ObjectId('5e8e71dc86757736aa93ae79'),\n ObjectId('5e8e71dc86757736aa93ae7a'),\n ObjectId('5e8e71dc86757736aa93ae7b'),\n ObjectId('5e8e71dc86757736aa93ae7c'),\n ObjectId('5e8e71dc86757736aa93ae7d'),\n ObjectId('5e8e71dc86757736aa93ae7e'),\n ObjectId('5e8e71dc86757736aa93ae7f'),\n ObjectId('5e8e71dc86757736aa93ae80'),\n ObjectId('5e8e71dc86757736aa93ae81'),\n ObjectId('5e8e71dc86757736aa93ae82'),\n ObjectId('5e8e71dc86757736aa93ae83'),\n ObjectId('5e8e71dc86757736aa93ae84'),\n ObjectId('5e8e71dc86757736aa93ae85'),\n ObjectId('5e8e71dc86757736aa93ae86'),\n ObjectId('5e8e71dc86757736aa93ae87'),\n ObjectId('5e8e71dc86757736aa93ae88'),\n ObjectId('5e8e71dc86757736aa93ae89'),\n ObjectId('5e8e71dc86757736aa93ae8a'),\n ObjectId('5e8e71dc86757736aa93ae8b'),\n ObjectId('5e8e71dc86757736aa93ae8c'),\n ObjectId('5e8e71dc86757736aa93ae8d'),\n ObjectId('5e8e71dc86757736aa93ae8e'),\n ObjectId('5e8e71dc86757736aa93ae8f'),\n ObjectId('5e8e71dc86757736aa93ae90'),\n ObjectId('5e8e71dc86757736aa93ae91'),\n ObjectId('5e8e71dc86757736aa93ae92'),\n ObjectId('5e8e71dc86757736aa93ae93'),\n ObjectId('5e8e71dc86757736aa93ae94'),\n ObjectId('5e8e71dc86757736aa93ae95'),\n ObjectId('5e8e71dc86757736aa93ae96'),\n ObjectId('5e8e71dc86757736aa93ae97'),\n ObjectId('5e8e71dc86757736aa93ae98'),\n ObjectId('5e8e71dc86757736aa93ae99'),\n ObjectId('5e8e71dc86757736aa93ae9a'),\n ObjectId('5e8e71dc86757736aa93ae9b'),\n ObjectId('5e8e71dc86757736aa93ae9c'),\n ObjectId('5e8e71dc86757736aa93ae9d'),\n ObjectId('5e8e71dc86757736aa93ae9e'),\n ObjectId('5e8e71dc86757736aa93ae9f'),\n ObjectId('5e8e71dc86757736aa93aea0'),\n ObjectId('5e8e71dc86757736aa93aea1'),\n ObjectId('5e8e71dc86757736aa93aea2'),\n ObjectId('5e8e71dc86757736aa93aea3'),\n ObjectId('5e8e71dc86757736aa93aea4'),\n ObjectId('5e8e71dc86757736aa93aea5'),\n ObjectId('5e8e71dc86757736aa93aea6'),\n ObjectId('5e8e71dc86757736aa93aea7'),\n ObjectId('5e8e71dc86757736aa93aea8'),\n ObjectId('5e8e71dc86757736aa93aea9'),\n ObjectId('5e8e71dc86757736aa93aeaa'),\n ObjectId('5e8e71dc86757736aa93aeab'),\n ObjectId('5e8e71dc86757736aa93aeac'),\n ObjectId('5e8e71dc86757736aa93aead'),\n ObjectId('5e8e71dc86757736aa93aeae'),\n ObjectId('5e8e71dc86757736aa93aeaf'),\n ObjectId('5e8e71dc86757736aa93aeb0'),\n ObjectId('5e8e71dc86757736aa93aeb1'),\n ObjectId('5e8e71dc86757736aa93aeb2'),\n ObjectId('5e8e71dc86757736aa93aeb3'),\n ObjectId('5e8e71dc86757736aa93aeb4'),\n ObjectId('5e8e71dc86757736aa93aeb5'),\n ObjectId('5e8e71dc86757736aa93aeb6'),\n ObjectId('5e8e71dc86757736aa93aeb7'),\n ObjectId('5e8e71dc86757736aa93aeb8'),\n ObjectId('5e8e71dc86757736aa93aeb9'),\n ObjectId('5e8e71dc86757736aa93aeba'),\n ...]"
     },
     "metadata": {},
     "output_type": "execute_result",
     "execution_count": 20
    }
   ],
   "source": [
    "# Inserting tweets JSON into the Tweets Collection\n",
    "\n",
    "collection.insert(twts)"
   ],
   "metadata": {
    "collapsed": false,
    "pycharm": {
     "name": "#%%\n",
     "is_executing": false
    }
   }
  },
  {
   "cell_type": "code",
   "execution_count": 21,
   "outputs": [
    {
     "name": "stdout",
     "text": [
      "{'_id': ObjectId('5e8e71dc86757736aa93aad3'), 'USR_ID': 4228094679, 'TW_ID': 21801, 'TW_DETAIL': 'The Guilty (2018) - Read 15 Movie Reviews \\\\nLink: https://t.co/ZbVWDatgRJ \\\\n#TheGuilty', 'TW_HASHTAG': '#TheGuilty', 'MV_NAME': 'The Guilty'}\n",
      "{'_id': ObjectId('5e8e71dc86757736aa93aad4'), 'USR_ID': 961325626304221000, 'TW_ID': 21802, 'TW_DETAIL': 'Has anybody been paying attention? @realDonaldTrump NEVER gives in or gives up. @POTUS Trump believes and eye for aÂ\\x85 https://t.co/qZ8eRCYUbQ', 'TW_HASHTAG': '#TheGuilty', 'MV_NAME': 'The Guilty'}\n",
      "{'_id': ObjectId('5e8e71dc86757736aa93aad5'), 'USR_ID': 961325626304221000, 'TW_ID': 21803, 'TW_DETAIL': '?? Hmm, if the report was dropped this way so #Trump could make The Dems Â\\x93demand the reportÂ\\x94.  They always take theÂ\\x85 https://t.co/JcGVEqCrqe', 'TW_HASHTAG': '#TheGuilty', 'MV_NAME': 'The Guilty'}\n",
      "{'_id': ObjectId('5e8e71dc86757736aa93aad6'), 'USR_ID': 70786076, 'TW_ID': 21804, 'TW_DETAIL': '#TheGuilty\\\\nSmall but very entertaining thriller is simple but very well tale.\\\\nTotally recommendable. https://t.co/x3PdBKBgcY', 'TW_HASHTAG': '#TheGuilty', 'MV_NAME': 'The Guilty'}\n",
      "{'_id': ObjectId('5e8e71dc86757736aa93aad7'), 'USR_ID': 961325626304221000, 'TW_ID': 21805, 'TW_DETAIL': 'AG Barr exonerated President Trump. Barr is not going to recuse himself when the indictments come pouring down. WhaÂ\\x85 https://t.co/1uozvEYJpQ', 'TW_HASHTAG': '#TheGuilty', 'MV_NAME': 'The Guilty'}\n"
     ],
     "output_type": "stream"
    }
   ],
   "source": [
    "\n",
    "# Printing the first five tweets in the dataset\n",
    "\n",
    "for d in db.tweets.find()[:].limit(5):\n",
    "    print(d)\n"
   ],
   "metadata": {
    "collapsed": false,
    "pycharm": {
     "name": "#%%\n",
     "is_executing": false
    }
   }
  },
  {
   "cell_type": "code",
   "execution_count": 22,
   "outputs": [
    {
     "name": "stdout",
     "text": [
      "{'_id': ObjectId('5e8e71dc86757736aa93aad3'), 'USR_ID': 4228094679, 'TW_ID': 21801, 'TW_DETAIL': 'The Guilty (2018) - Read 15 Movie Reviews \\\\nLink: https://t.co/ZbVWDatgRJ \\\\n#TheGuilty', 'TW_HASHTAG': '#TheGuilty', 'MV_NAME': 'The Guilty'}\n",
      "{'_id': ObjectId('5e8e71dc86757736aa93aad9'), 'USR_ID': 4228094679, 'TW_ID': 21807, 'TW_DETAIL': 'The Guilty (2018) - Read 15 Movie Reviews \\\\nLink: https://t.co/ZbVWDatgRJ \\\\n#TheGuilty', 'TW_HASHTAG': '#TheGuilty', 'MV_NAME': 'The Guilty'}\n",
      "{'_id': ObjectId('5e8e71dc86757736aa93aaf0'), 'USR_ID': 4228094679, 'TW_ID': 21830, 'TW_DETAIL': 'Mission: Impossible - Fallout (2018) - Read 1,349 Movie Reviews \\\\nLink: https://t.co/sXZiwsQebV \\\\n#MissionImpossibleFallout', 'TW_HASHTAG': '#MissionImpossibleFallout', 'MV_NAME': 'Mission: Impossible - Fallout'}\n",
      "{'_id': ObjectId('5e8e71dc86757736aa93ab35'), 'USR_ID': 4228094679, 'TW_ID': 21899, 'TW_DETAIL': 'Mission: Impossible - Fallout (2018) - Read 1,349 Movie Reviews \\\\nLink: https://t.co/sXZiwsQebV \\\\n#MissionImpossibleFallout', 'TW_HASHTAG': '#MissionImpossibleFallout', 'MV_NAME': 'Mission: Impossible - Fallout'}\n",
      "{'_id': ObjectId('5e8e71dc86757736aa93ac26'), 'USR_ID': 4228094679, 'TW_ID': 22140, 'TW_DETAIL': 'Spider-Man: Into the Spider-Verse (2018) - Read 1,336 Movie Reviews \\\\nLink: https://t.co/PhiH5GpApJ \\\\n#SpiderManIntoTheSpiderVerse', 'TW_HASHTAG': '#SpiderManIntotheSpiderVerse', 'MV_NAME': 'Spider-Man: Into the Spider-Verse'}\n",
      "{'_id': ObjectId('5e8e71dc86757736aa93ac5c'), 'USR_ID': 4228094679, 'TW_ID': 22194, 'TW_DETAIL': 'Blindspotting (2018) - Read 229 Movie Reviews \\\\nLink: https://t.co/dl4d27DY7Y \\\\n#Blindspotting', 'TW_HASHTAG': '#Blindspotting', 'MV_NAME': 'Blindspotting'}\n",
      "{'_id': ObjectId('5e8e71dc86757736aa93ac83'), 'USR_ID': 4228094679, 'TW_ID': 22233, 'TW_DETAIL': 'Blindspotting (2018) - Read 229 Movie Reviews \\\\nLink: https://t.co/dl4d27DY7Y \\\\n#Blindspotting', 'TW_HASHTAG': '#Blindspotting', 'MV_NAME': 'Blindspotting'}\n",
      "{'_id': ObjectId('5e8e71dc86757736aa93acc8'), 'USR_ID': 4228094679, 'TW_ID': 22302, 'TW_DETAIL': 'A Quiet Place (2018) - Read 1,411 Movie Reviews \\\\nLink: https://t.co/swEY2KYZcd \\\\n#AQuietPlace', 'TW_HASHTAG': '#AQuietPlace', 'MV_NAME': 'A Quiet Place'}\n",
      "{'_id': ObjectId('5e8e71dc86757736aa93ad0a'), 'USR_ID': 4228094679, 'TW_ID': 22368, 'TW_DETAIL': 'A Quiet Place (2018) - Read 1,411 Movie Reviews \\\\nLink: https://t.co/swEY2KYZcd \\\\n#AQuietPlace', 'TW_HASHTAG': '#AQuietPlace', 'MV_NAME': 'A Quiet Place'}\n",
      "{'_id': ObjectId('5e8e71dc86757736aa93adbb'), 'USR_ID': 4228094679, 'TW_ID': 22545, 'TW_DETAIL': 'Free Solo (2018) - Read 119 Movie Reviews \\\\nLink: https://t.co/BClAxfn0nb \\\\n#FreeSolo', 'TW_HASHTAG': '#FreeSolo', 'MV_NAME': 'Free Solo'}\n",
      "{'_id': ObjectId('5e8e71dc86757736aa93ade5'), 'USR_ID': 4228094679, 'TW_ID': 22587, 'TW_DETAIL': 'A Prayer Before Dawn (2018) - Read 71 Movie Reviews \\\\nLink: https://t.co/cGvXYvGMIX \\\\n#APrayerBeforeDawn', 'TW_HASHTAG': '#APrayerBeforeDawn', 'MV_NAME': 'A Prayer Before Dawn'}\n",
      "{'_id': ObjectId('5e8e71dc86757736aa93ade7'), 'USR_ID': 4228094679, 'TW_ID': 22589, 'TW_DETAIL': 'A Prayer Before Dawn (2018) - Read 71 Movie Reviews \\\\nLink: https://t.co/cGvXYvGMIX \\\\n#APrayerBeforeDawn', 'TW_HASHTAG': '#APrayerBeforeDawn', 'MV_NAME': 'A Prayer Before Dawn'}\n",
      "{'_id': ObjectId('5e8e71dc86757736aa93b085'), 'USR_ID': 4228094679, 'TW_ID': 23259, 'TW_DETAIL': 'Mowgli: Legend of the Jungle (2018) - Read 195 Movie Reviews \\\\nLink: https://t.co/5p3TMQDuUF \\\\n#MowgliLegendOfTheJungle', 'TW_HASHTAG': '#MowgliLegendoftheJungle', 'MV_NAME': 'Mowgli: Legend of the Jungle'}\n",
      "{'_id': ObjectId('5e8e71dc86757736aa93b088'), 'USR_ID': 4228094679, 'TW_ID': 23262, 'TW_DETAIL': 'Mowgli: Legend of the Jungle (2018) - Read 195 Movie Reviews \\\\nLink: https://t.co/5p3TMQDuUF \\\\n#MowgliLegendOfTheJungle', 'TW_HASHTAG': '#MowgliLegendoftheJungle', 'MV_NAME': 'Mowgli: Legend of the Jungle'}\n",
      "{'_id': ObjectId('5e8e71dc86757736aa93b089'), 'USR_ID': 4228094679, 'TW_ID': 23263, 'TW_DETAIL': 'Mowgli: Legend of the Jungle (2018) - Read 195 Movie Reviews \\\\nLink: https://t.co/5p3TMQDuUF \\\\n#MowgliLegendOfTheJungle', 'TW_HASHTAG': '#MowgliLegendoftheJungle', 'MV_NAME': 'Mowgli: Legend of the Jungle'}\n",
      "{'_id': ObjectId('5e8e71dc86757736aa93b13f'), 'USR_ID': 4228094679, 'TW_ID': 23445, 'TW_DETAIL': 'Disobedience (2018) - Read 146 Movie Reviews \\\\nLink: https://t.co/AoSOXxt4ku \\\\n#Disobedience', 'TW_HASHTAG': '#Disobedience', 'MV_NAME': 'Disobedience'}\n",
      "{'_id': ObjectId('5e8e71dc86757736aa93b155'), 'USR_ID': 4228094679, 'TW_ID': 23467, 'TW_DETAIL': 'Disobedience (2018) - Read 146 Movie Reviews \\\\nLink: https://t.co/AoSOXxt4ku \\\\n#Disobedience', 'TW_HASHTAG': '#Disobedience', 'MV_NAME': 'Disobedience'}\n",
      "{'_id': ObjectId('5e8e71dc86757736aa93b211'), 'USR_ID': 4228094679, 'TW_ID': 23655, 'TW_DETAIL': 'Isle of Dogs (2018) - Read 735 Movie Reviews \\\\nLink: https://t.co/c5V60OxjFT \\\\n#IsleOfDogs', 'TW_HASHTAG': '#IsleofDogs', 'MV_NAME': 'Isle of Dogs'}\n",
      "{'_id': ObjectId('5e8e71dc86757736aa93b243'), 'USR_ID': 4228094679, 'TW_ID': 23705, 'TW_DETAIL': 'Mandy (2018) - Read 319 Movie Reviews \\\\nLink: https://t.co/BCzehOhO3a \\\\n#Mandy', 'TW_HASHTAG': '#Mandy', 'MV_NAME': 'Mandy'}\n",
      "{'_id': ObjectId('5e8e71dc86757736aa93b32e'), 'USR_ID': 4228094679, 'TW_ID': 23940, 'TW_DETAIL': 'Ready Player One (2018) - Read 1,308 Movie Reviews \\\\nLink: https://t.co/Rq4lwiGpCl \\\\n#ReadyPlayerOne', 'TW_HASHTAG': '#ReadyPlayerOne', 'MV_NAME': 'Ready Player One'}\n",
      "{'_id': ObjectId('5e8e71dc86757736aa93b363'), 'USR_ID': 4228094679, 'TW_ID': 23993, 'TW_DETAIL': 'Jurassic World: Fallen Kingdom (2018) - Read 1,562 Movie Reviews \\\\nLink: https://t.co/1Jz5kXHWc3 \\\\n#JurassicWorldFallenKingdom', 'TW_HASHTAG': '#JurassicWorldFallenKingdom', 'MV_NAME': 'Jurassic World: Fallen Kingdom'}\n",
      "{'_id': ObjectId('5e8e71dc86757736aa93b3a8'), 'USR_ID': 4228094679, 'TW_ID': 24062, 'TW_DETAIL': 'Jurassic World: Fallen Kingdom (2018) - Read 1,562 Movie Reviews \\\\nLink: https://t.co/1Jz5kXHWc3 \\\\n#JurassicWorldFallenKingdom', 'TW_HASHTAG': '#JurassicWorldFallenKingdom', 'MV_NAME': 'Jurassic World: Fallen Kingdom'}\n",
      "{'_id': ObjectId('5e8e71dc86757736aa93b4c1'), 'USR_ID': 4228094679, 'TW_ID': 24343, 'TW_DETAIL': 'Annihilation (2018) - Read 1,091 Movie Reviews \\\\nLink: https://t.co/bGEahxIOkL \\\\n#Annihilation', 'TW_HASHTAG': '#Annihilation', 'MV_NAME': 'Annihilation'}\n",
      "{'_id': ObjectId('5e8e71dc86757736aa93b515'), 'USR_ID': 4228094679, 'TW_ID': 24427, 'TW_DETAIL': 'Annihilation (2018) - Read 1,091 Movie Reviews \\\\nLink: https://t.co/bGEahxIOkL \\\\n#Annihilation', 'TW_HASHTAG': '#Annihilation', 'MV_NAME': 'Annihilation'}\n",
      "{'_id': ObjectId('5e8e71dc86757736aa93b519'), 'USR_ID': 4228094679, 'TW_ID': 24431, 'TW_DETAIL': 'A Simple Favor (2018) - Read 207 Movie Reviews \\\\nLink: https://t.co/He7RlyF3bm \\\\n#ASimpleFavor', 'TW_HASHTAG': '#ASimpleFavor', 'MV_NAME': 'A Simple Favor'}\n",
      "{'_id': ObjectId('5e8e71dc86757736aa93b534'), 'USR_ID': 4228094679, 'TW_ID': 24458, 'TW_DETAIL': 'A Simple Favor (2018) - Read 207 Movie Reviews \\\\nLink: https://t.co/He7RlyF3bm \\\\n#ASimpleFavor', 'TW_HASHTAG': '#ASimpleFavor', 'MV_NAME': 'A Simple Favor'}\n",
      "{'_id': ObjectId('5e8e71dc86757736aa93b556'), 'USR_ID': 4228094679, 'TW_ID': 24492, 'TW_DETAIL': 'A Simple Favor (2018) - Read 207 Movie Reviews \\\\nLink: https://t.co/He7RlyF3bm \\\\n#ASimpleFavor', 'TW_HASHTAG': '#ASimpleFavor', 'MV_NAME': 'A Simple Favor'}\n",
      "{'_id': ObjectId('5e8e71dc86757736aa93b5b0'), 'USR_ID': 4228094679, 'TW_ID': 24582, 'TW_DETAIL': 'Hereditary (2018) - Read 1,309 Movie Reviews \\\\nLink: https://t.co/2sAXGGYltV \\\\n#Hereditary', 'TW_HASHTAG': '#Hereditary', 'MV_NAME': 'Hereditary'}\n",
      "{'_id': ObjectId('5e8e71dc86757736aa93b5d2'), 'USR_ID': 4228094679, 'TW_ID': 24616, 'TW_DETAIL': 'The Night Comes for Us (2018) - Read 50 Movie Reviews \\\\nLink: https://t.co/mJWK60KVsn \\\\n#TheNightComesForUs', 'TW_HASHTAG': '#TheNightComesforUs', 'MV_NAME': 'The Night Comes for Us'}\n",
      "{'_id': ObjectId('5e8e71dc86757736aa93b5dd'), 'USR_ID': 4228094679, 'TW_ID': 24627, 'TW_DETAIL': 'The Night Comes for Us (2018) - Read 50 Movie Reviews \\\\nLink: https://t.co/mJWK60KVsn \\\\n#TheNightComesForUs', 'TW_HASHTAG': '#TheNightComesforUs', 'MV_NAME': 'The Night Comes for Us'}\n",
      "{'_id': ObjectId('5e8e71dc86757736aa93b73a'), 'USR_ID': 4228094679, 'TW_ID': 24976, 'TW_DETAIL': 'Sierra Burgess Is a Loser (2018) - Read 46 Movie Reviews \\\\nLink: https://t.co/QpFF5qDEPa \\\\n#SierraBurgessIsALoser', 'TW_HASHTAG': '#SierraBurgessIsaLoser', 'MV_NAME': 'Sierra Burgess Is a Loser'}\n",
      "{'_id': ObjectId('5e8e71dc86757736aa93b73e'), 'USR_ID': 4228094679, 'TW_ID': 24980, 'TW_DETAIL': 'Sierra Burgess Is a Loser (2018) - Read 46 Movie Reviews \\\\nLink: https://t.co/QpFF5qDEPa \\\\n#SierraBurgessIsALoser', 'TW_HASHTAG': '#SierraBurgessIsaLoser', 'MV_NAME': 'Sierra Burgess Is a Loser'}\n",
      "{'_id': ObjectId('5e8e71dc86757736aa93b7e1'), 'USR_ID': 4228094679, 'TW_ID': 25143, 'TW_DETAIL': 'The Equalizer (2014) - Read 956 Movie Reviews \\\\nLink: https://t.co/rXAAgtjetE \\\\n#TheEqualizer', 'TW_HASHTAG': '#TheEqualizer', 'MV_NAME': 'The Equalizer 2'}\n",
      "{'_id': ObjectId('5e8e71dc86757736aa93b801'), 'USR_ID': 4228094679, 'TW_ID': 25175, 'TW_DETAIL': 'The Equalizer (2014) - Read 956 Movie Reviews \\\\nLink: https://t.co/rXAAgtjetE \\\\n#TheEqualizer', 'TW_HASHTAG': '#TheEqualizer', 'MV_NAME': 'The Equalizer 2'}\n",
      "{'_id': ObjectId('5e8e71dc86757736aa93b819'), 'USR_ID': 4228094679, 'TW_ID': 25199, 'TW_DETAIL': 'Love, Simon (2018) - Read 831 Movie Reviews \\\\nLink: https://t.co/3IvwjND3Ht \\\\n#LoveSimon', 'TW_HASHTAG': '#LoveSimon', 'MV_NAME': 'Love, Simon'}\n",
      "{'_id': ObjectId('5e8e71dc86757736aa93b830'), 'USR_ID': 4228094679, 'TW_ID': 25222, 'TW_DETAIL': 'Den of Thieves (2018) - Read 348 Movie Reviews \\\\nLink: https://t.co/AfAu1qk7CU \\\\n#DenOfThieves', 'TW_HASHTAG': '#DenofThieves', 'MV_NAME': 'Den of Thieves'}\n",
      "{'_id': ObjectId('5e8e71dc86757736aa93b843'), 'USR_ID': 4228094679, 'TW_ID': 25241, 'TW_DETAIL': 'Den of Thieves (2018) - Read 348 Movie Reviews \\\\nLink: https://t.co/AfAu1qk7CU \\\\n#DenOfThieves', 'TW_HASHTAG': '#DenofThieves', 'MV_NAME': 'Den of Thieves'}\n",
      "{'_id': ObjectId('5e8e71dc86757736aa93b869'), 'USR_ID': 4228094679, 'TW_ID': 25279, 'TW_DETAIL': 'Den of Thieves (2018) - Read 348 Movie Reviews \\\\nLink: https://t.co/AfAu1qk7CU \\\\n#DenOfThieves', 'TW_HASHTAG': '#DenofThieves', 'MV_NAME': 'Den of Thieves'}\n",
      "{'_id': ObjectId('5e8e71dc86757736aa93b91a'), 'USR_ID': 4228094679, 'TW_ID': 25456, 'TW_DETAIL': 'Rampage (2018) - Read 908 Movie Reviews \\\\nLink: https://t.co/BtnrqIP3GR \\\\n#Rampage', 'TW_HASHTAG': '#Rampage', 'MV_NAME': 'Rampage'}\n",
      "{'_id': ObjectId('5e8e71dc86757736aa93b940'), 'USR_ID': 4228094679, 'TW_ID': 25494, 'TW_DETAIL': 'Maze Runner: The Death Cure (2018) - Read 627 Movie Reviews \\\\nLink: https://t.co/n8PV2YEeD6 \\\\n#MazeRunnerTheDeathCure', 'TW_HASHTAG': '#MazeRunnerTheDeathCure', 'MV_NAME': 'Maze Runner: The Death Cure'}\n",
      "{'_id': ObjectId('5e8e71dc86757736aa93b944'), 'USR_ID': 4228094679, 'TW_ID': 25498, 'TW_DETAIL': 'Maze Runner: The Death Cure (2018) - Read 627 Movie Reviews \\\\nLink: https://t.co/n8PV2YEeD6 \\\\n#MazeRunnerTheDeathCure', 'TW_HASHTAG': '#MazeRunnerTheDeathCure', 'MV_NAME': 'Maze Runner: The Death Cure'}\n",
      "{'_id': ObjectId('5e8e71dc86757736aa93b945'), 'USR_ID': 4228094679, 'TW_ID': 25499, 'TW_DETAIL': 'Maze Runner: The Death Cure (2018) - Read 627 Movie Reviews \\\\nLink: https://t.co/n8PV2YEeD6 \\\\n#MazeRunnerTheDeathCure', 'TW_HASHTAG': '#MazeRunnerTheDeathCure', 'MV_NAME': 'Maze Runner: The Death Cure'}\n",
      "{'_id': ObjectId('5e8e71dc86757736aa93bab2'), 'USR_ID': 4228094679, 'TW_ID': 25864, 'TW_DETAIL': 'Sicario: Day of the Soldado (2018) - Read 610 Movie Reviews \\\\nLink: https://t.co/AybHPu99Ri \\\\n#SicarioDayOfTheSoldado', 'TW_HASHTAG': '#SicarioDayoftheSoldado', 'MV_NAME': 'Sicario: Day of the Soldado'}\n",
      "{'_id': ObjectId('5e8e71dc86757736aa93bab6'), 'USR_ID': 4228094679, 'TW_ID': 25868, 'TW_DETAIL': 'Sicario: Day of the Soldado (2018) - Read 610 Movie Reviews \\\\nLink: https://t.co/AybHPu99Ri \\\\n#SicarioDayOfTheSoldado', 'TW_HASHTAG': '#SicarioDayoftheSoldado', 'MV_NAME': 'Sicario: Day of the Soldado'}\n",
      "{'_id': ObjectId('5e8e71dc86757736aa93bb68'), 'USR_ID': 4228094679, 'TW_ID': 26046, 'TW_DETAIL': 'Solo: A Star Wars Story (2018) - Read 1,528 Movie Reviews \\\\nLink: https://t.co/jbVBBJi78h \\\\n#SoloAStarWarsStory', 'TW_HASHTAG': '#SoloAStarWarsStory', 'MV_NAME': 'Solo: A Star Wars Story'}\n",
      "{'_id': ObjectId('5e8e71dc86757736aa93bc37'), 'USR_ID': 4228094679, 'TW_ID': 26253, 'TW_DETAIL': 'The First Purge (2018) - Read 384 Movie Reviews \\\\nLink: https://t.co/GokAcRRhhO \\\\n#TheFirstPurge', 'TW_HASHTAG': '#TheFirstPurge', 'MV_NAME': 'The First Purge'}\n",
      "{'_id': ObjectId('5e8e71dc86757736aa93bc63'), 'USR_ID': 4228094679, 'TW_ID': 26297, 'TW_DETAIL': 'The First Purge (2018) - Read 384 Movie Reviews \\\\nLink: https://t.co/GokAcRRhhO \\\\n#TheFirstPurge', 'TW_HASHTAG': '#TheFirstPurge', 'MV_NAME': 'The First Purge'}\n",
      "{'_id': ObjectId('5e8e71dc86757736aa93bc9f'), 'USR_ID': 4228094679, 'TW_ID': 26357, 'TW_DETAIL': 'The Nun (2018) - Read 276 Movie Reviews \\\\nLink: https://t.co/8jDe9UzvQx \\\\n#TheNun', 'TW_HASHTAG': '#TheNun', 'MV_NAME': 'The Nun'}\n",
      "{'_id': ObjectId('5e8e71dc86757736aa93bd2f'), 'USR_ID': 4228094679, 'TW_ID': 26501, 'TW_DETAIL': 'Ant-Man and the Wasp (2018) - Read 1,106 Movie Reviews \\\\nLink: https://t.co/fhRCRrwgu3 \\\\n#AntManAndTheWasp', 'TW_HASHTAG': '#AntManandtheWasp', 'MV_NAME': 'Ant-Man and the Wasp'}\n",
      "{'_id': ObjectId('5e8e71dc86757736aa93bd55'), 'USR_ID': 4228094679, 'TW_ID': 26539, 'TW_DETAIL': 'The Girl in the Spiders Web (2018) - Read 258 Movie Reviews \\\\nLink: https://t.co/ag0RXWambI \\\\n#TheGirlInTheSpidersWeb', 'TW_HASHTAG': '#TheGirlintheSpidersWeb', 'MV_NAME': \"The Girl in the Spider's Web\"}\n",
      "{'_id': ObjectId('5e8e71dc86757736aa93bd70'), 'USR_ID': 4228094679, 'TW_ID': 26566, 'TW_DETAIL': 'The Girl in the Spiders Web (2018) - Read 258 Movie Reviews \\\\nLink: https://t.co/ag0RXWambI \\\\n#TheGirlInTheSpidersWeb', 'TW_HASHTAG': '#TheGirlintheSpidersWeb', 'MV_NAME': \"The Girl in the Spider's Web\"}\n",
      "{'_id': ObjectId('5e8e71dc86757736aa93bd83'), 'USR_ID': 4228094679, 'TW_ID': 26585, 'TW_DETAIL': 'The Girl in the Spiders Web (2018) - Read 258 Movie Reviews \\\\nLink: https://t.co/ag0RXWambI \\\\n#TheGirlInTheSpidersWeb', 'TW_HASHTAG': '#TheGirlintheSpidersWeb', 'MV_NAME': \"The Girl in the Spider's Web\"}\n",
      "{'_id': ObjectId('5e8e71dc86757736aa93be13'), 'USR_ID': 4228094679, 'TW_ID': 26729, 'TW_DETAIL': 'First Man (2018) - Read 593 Movie Reviews \\\\nLink: https://t.co/JAnnCl6ecH \\\\n#FirstMan', 'TW_HASHTAG': '#FirstMan', 'MV_NAME': 'First Man'}\n",
      "{'_id': ObjectId('5e8e71dc86757736aa93be4c'), 'USR_ID': 4228094679, 'TW_ID': 26786, 'TW_DETAIL': 'White Boy Rick (2018) - Read 54 Movie Reviews \\\\nLink: https://t.co/OCW8TH3Mh2 \\\\n#WhiteBoyRick', 'TW_HASHTAG': '#WhiteBoyRick', 'MV_NAME': 'White Boy Rick'}\n",
      "{'_id': ObjectId('5e8e71dc86757736aa93be58'), 'USR_ID': 4228094679, 'TW_ID': 26798, 'TW_DETAIL': 'White Boy Rick (2018) - Read 54 Movie Reviews \\\\nLink: https://t.co/OCW8TH3Mh2 \\\\n#WhiteBoyRick', 'TW_HASHTAG': '#WhiteBoyRick', 'MV_NAME': 'White Boy Rick'}\n",
      "{'_id': ObjectId('5e8e71dc86757736aa93be62'), 'USR_ID': 4228094679, 'TW_ID': 26808, 'TW_DETAIL': 'White Boy Rick (2018) - Read 54 Movie Reviews \\\\nLink: https://t.co/OCW8TH3Mh2 \\\\n#WhiteBoyRick', 'TW_HASHTAG': '#WhiteBoyRick', 'MV_NAME': 'White Boy Rick'}\n",
      "{'_id': ObjectId('5e8e71dc86757736aa93becb'), 'USR_ID': 4228094679, 'TW_ID': 26913, 'TW_DETAIL': 'Fantastic Beasts: The Crimes of Grindelwald (2018) - Read 1,373 Movie Reviews \\\\nLink: https://t.co/NIKVXF4tX9Â\\x85 https://t.co/jpvNZayRuT', 'TW_HASHTAG': '#FantasticBeastsTheCrimesofGrindelwald', 'MV_NAME': 'Fantastic Beasts: The Crimes of Grindelwald'}\n",
      "{'_id': ObjectId('5e8e71dc86757736aa93bedf'), 'USR_ID': 4228094679, 'TW_ID': 26933, 'TW_DETAIL': 'Fantastic Beasts: The Crimes of Grindelwald (2018) - Read 1,373 Movie Reviews \\\\nLink: https://t.co/NIKVXF4tX9Â\\x85 https://t.co/9HQeCOtqDm', 'TW_HASHTAG': '#FantasticBeastsTheCrimesofGrindelwald', 'MV_NAME': 'Fantastic Beasts: The Crimes of Grindelwald'}\n",
      "{'_id': ObjectId('5e8e71dc86757736aa93bf70'), 'USR_ID': 4228094679, 'TW_ID': 27078, 'TW_DETAIL': 'Bad Times at the El Royale (2018) - Read 431 Movie Reviews \\\\nLink: https://t.co/Sq6JHcWKuR \\\\n#BadTimesAtTheElRoyale', 'TW_HASHTAG': '#BadTimesattheElRoyale', 'MV_NAME': 'Bad Times at the El Royale'}\n",
      "{'_id': ObjectId('5e8e71dc86757736aa93bf82'), 'USR_ID': 4228094679, 'TW_ID': 27096, 'TW_DETAIL': 'Bad Times at the El Royale (2018) - Read 431 Movie Reviews \\\\nLink: https://t.co/Sq6JHcWKuR \\\\n#BadTimesAtTheElRoyale', 'TW_HASHTAG': '#BadTimesattheElRoyale', 'MV_NAME': 'Bad Times at the El Royale'}\n",
      "{'_id': ObjectId('5e8e71dc86757736aa93bf8f'), 'USR_ID': 4228094679, 'TW_ID': 27109, 'TW_DETAIL': 'Bad Times at the El Royale (2018) - Read 431 Movie Reviews \\\\nLink: https://t.co/Sq6JHcWKuR \\\\n#BadTimesAtTheElRoyale', 'TW_HASHTAG': '#BadTimesattheElRoyale', 'MV_NAME': 'Bad Times at the El Royale'}\n"
     ],
     "output_type": "stream"
    }
   ],
   "source": [
    "#TESTING\n",
    "\n",
    "for d in db.tweets.find({'USR_ID': 4228094679}):\n",
    "    print(d)"
   ],
   "metadata": {
    "collapsed": false,
    "pycharm": {
     "name": "#%%\n",
     "is_executing": false
    }
   }
  },
  {
   "cell_type": "code",
   "execution_count": 23,
   "outputs": [
    {
     "data": {
      "text/plain": "[{'_id': 539165451, 'count': 3},\n {'_id': 1046996584288980000, 'count': 2},\n {'_id': 428846654, 'count': 2},\n {'_id': 4228094679, 'count': 2},\n {'_id': 1108377813323860000, 'count': 2},\n {'_id': 1110565597849570000, 'count': 2},\n {'_id': 66467134, 'count': 2},\n {'_id': 296950899, 'count': 1},\n {'_id': 704724513045487000, 'count': 1},\n {'_id': 2472522037, 'count': 1},\n {'_id': 222611753, 'count': 1},\n {'_id': 2159836623, 'count': 1},\n {'_id': 85818367, 'count': 1},\n {'_id': 1051525201094150000, 'count': 1},\n {'_id': 48328524, 'count': 1},\n {'_id': 19267296, 'count': 1},\n {'_id': 120177366, 'count': 1},\n {'_id': 611623330, 'count': 1},\n {'_id': 1050968042396570000, 'count': 1},\n {'_id': 243350702, 'count': 1},\n {'_id': 63797855, 'count': 1},\n {'_id': 2563460949, 'count': 1},\n {'_id': 3179238396, 'count': 1},\n {'_id': 152714268, 'count': 1},\n {'_id': 634833505, 'count': 1},\n {'_id': 976848548598870000, 'count': 1},\n {'_id': 810224647199490000, 'count': 1},\n {'_id': 767783292, 'count': 1},\n {'_id': 550933750, 'count': 1},\n {'_id': 69730756, 'count': 1},\n {'_id': 1087325670349230000, 'count': 1},\n {'_id': 1100332060449910000, 'count': 1},\n {'_id': 3050629049, 'count': 1},\n {'_id': 366771783, 'count': 1},\n {'_id': 1464315997, 'count': 1},\n {'_id': 841726972715651000, 'count': 1},\n {'_id': 139153610, 'count': 1},\n {'_id': 2253589974, 'count': 1},\n {'_id': 25855145, 'count': 1},\n {'_id': 194572083, 'count': 1},\n {'_id': 116166169, 'count': 1},\n {'_id': 2243367863, 'count': 1},\n {'_id': 1103955416, 'count': 1},\n {'_id': 136992850, 'count': 1},\n {'_id': 777834278566658000, 'count': 1},\n {'_id': 2320757171, 'count': 1},\n {'_id': 1919973978, 'count': 1},\n {'_id': 946875617953353000, 'count': 1},\n {'_id': 20186972, 'count': 1},\n {'_id': 24939047, 'count': 1},\n {'_id': 427305859, 'count': 1},\n {'_id': 2969341059, 'count': 1},\n {'_id': 927151494901612000, 'count': 1},\n {'_id': 302702394, 'count': 1},\n {'_id': 1017345466827090000, 'count': 1},\n {'_id': 751235743096397000, 'count': 1},\n {'_id': 270819857, 'count': 1},\n {'_id': 903610021, 'count': 1},\n {'_id': 1116159427, 'count': 1},\n {'_id': 116827742, 'count': 1},\n {'_id': 68799317, 'count': 1},\n {'_id': 2231267989, 'count': 1},\n {'_id': 351619045, 'count': 1},\n {'_id': 354205351, 'count': 1},\n {'_id': 36309760, 'count': 1},\n {'_id': 23618134, 'count': 1},\n {'_id': 2443006233, 'count': 1},\n {'_id': 19290230, 'count': 1},\n {'_id': 1716667273, 'count': 1},\n {'_id': 1108140293046570000, 'count': 1},\n {'_id': 456074914, 'count': 1},\n {'_id': 155933967, 'count': 1},\n {'_id': 908028954510012000, 'count': 1},\n {'_id': 199216733, 'count': 1},\n {'_id': 19899301, 'count': 1},\n {'_id': 21604733, 'count': 1},\n {'_id': 529850415, 'count': 1},\n {'_id': 416536319, 'count': 1},\n {'_id': 771496541756411000, 'count': 1},\n {'_id': 836940867348885000, 'count': 1},\n {'_id': 491521774, 'count': 1}]"
     },
     "metadata": {},
     "output_type": "execute_result",
     "execution_count": 23
    }
   ],
   "source": [
    "#  Question 1 What are tags are associated with a person, place or thing\n",
    "# WHAT USERS ARE ASSOCIATED WITH A MOVIE\n",
    "list(db.tweets.aggregate([\n",
    "    {\"$match\":{\"MV_NAME\":\"Mission: Impossible - Fallout\"}},\n",
    "    {\"$group\":{\"_id\":\"$USR_ID\",\"count\":{\"$sum\":1}}},\n",
    "    {\"$sort\":{\"count\":-1}}]))\n",
    "\n"
   ],
   "metadata": {
    "collapsed": false,
    "pycharm": {
     "name": "#%%\n",
     "is_executing": false
    }
   }
  },
  {
   "cell_type": "code",
   "execution_count": 24,
   "outputs": [
    {
     "data": {
      "text/plain": "[{'_id': 354205351},\n {'_id': 810224647199490000},\n {'_id': 152714268},\n {'_id': 976848548598870000},\n {'_id': 428846654},\n {'_id': 36309760},\n {'_id': 767783292},\n {'_id': 23618134},\n {'_id': 2443006233},\n {'_id': 1108140293046570000},\n {'_id': 529850415},\n {'_id': 456074914},\n {'_id': 69730756},\n {'_id': 19899301},\n {'_id': 1464315997},\n {'_id': 139153610},\n {'_id': 416536319},\n {'_id': 194572083},\n {'_id': 2253589974},\n {'_id': 25855145},\n {'_id': 136992850},\n {'_id': 2243367863},\n {'_id': 491521774},\n {'_id': 296950899},\n {'_id': 704724513045487000},\n {'_id': 222611753},\n {'_id': 1919973978},\n {'_id': 946875617953353000},\n {'_id': 2159836623},\n {'_id': 20186972},\n {'_id': 48328524},\n {'_id': 611623330},\n {'_id': 2969341059},\n {'_id': 539165451},\n {'_id': 19267296},\n {'_id': 427305859},\n {'_id': 85818367},\n {'_id': 302702394},\n {'_id': 270819857},\n {'_id': 1116159427},\n {'_id': 2563460949},\n {'_id': 2231267989},\n {'_id': 634833505},\n {'_id': 351619045}]"
     },
     "metadata": {},
     "output_type": "execute_result",
     "execution_count": 24
    }
   ],
   "source": [
    "# Question 2 What social media users are like other social media users in your domain?\n",
    "# AGGREGATE ALL USER ID's WITH SIMILAR COMMENTS\n",
    "match = {    'TW_DETAIL':{\"$regex\": \"Mission Impossible\"}\n",
    "}\n",
    "\n",
    "group = {\n",
    "    '_id':\"$USR_ID\"\n",
    "}\n",
    "\n",
    "ret2 = db.tweets.aggregate([\n",
    "    {'$match':match},\n",
    "    {'$group': group}\n",
    "])\n",
    "\n",
    "list(ret2)\n"
   ],
   "metadata": {
    "collapsed": false,
    "pycharm": {
     "name": "#%%\n",
     "is_executing": false
    }
   }
  },
  {
   "cell_type": "code",
   "execution_count": 25,
   "outputs": [
    {
     "data": {
      "text/plain": "[{'_id': 'The Marvelous Mrs. Maisel', 'count': 100},\n {'_id': 'Game Night', 'count': 100},\n {'_id': 'Deadpool 2', 'count': 100},\n {'_id': 'Ready Player One', 'count': 100},\n {'_id': 'The First Purge', 'count': 100},\n {'_id': 'Ozark', 'count': 100},\n {'_id': 'UnREAL', 'count': 100},\n {'_id': 'Eighth Grade', 'count': 100},\n {'_id': 'Ant-Man and the Wasp', 'count': 100},\n {'_id': 'The Nun', 'count': 100},\n {'_id': 'Daredevil', 'count': 100},\n {'_id': 'Roma', 'count': 100},\n {'_id': 'Titans', 'count': 100},\n {'_id': 'Rampage', 'count': 100},\n {'_id': 'Sharp Objects', 'count': 100},\n {'_id': 'Solo: A Star Wars Story', 'count': 100},\n {'_id': 'Free Solo', 'count': 100},\n {'_id': 'Jack Ryan', 'count': 100},\n {'_id': 'Widows', 'count': 100},\n {'_id': 'Upgrade', 'count': 100},\n {'_id': 'Annihilation', 'count': 100},\n {'_id': 'Apostle', 'count': 100},\n {'_id': 'Searching', 'count': 100},\n {'_id': 'Gringo', 'count': 100},\n {'_id': 'The Grinch', 'count': 100},\n {'_id': 'The Meg', 'count': 99},\n {'_id': 'Hereditary', 'count': 99},\n {'_id': 'Barry', 'count': 99},\n {'_id': 'A Quiet Place', 'count': 99},\n {'_id': 'Mandy', 'count': 99},\n {'_id': 'First Man', 'count': 99},\n {'_id': 'Thoroughbreds', 'count': 98},\n {'_id': 'Ralph Breaks the Internet', 'count': 97},\n {'_id': 'Cobra Kai', 'count': 97},\n {'_id': \"Ocean's 8\", 'count': 97},\n {'_id': 'Isle of Dogs', 'count': 97},\n {'_id': 'Castle Rock', 'count': 97},\n {'_id': 'Jurassic World: Fallen Kingdom', 'count': 97},\n {'_id': \"To All the Boys I've Loved Before\", 'count': 95},\n {'_id': 'Creed II', 'count': 95},\n {'_id': 'Aquaman', 'count': 94},\n {'_id': 'Santa Clarita Diet', 'count': 94},\n {'_id': 'Nostalgia', 'count': 91},\n {'_id': 'Altered Carbon', 'count': 91},\n {'_id': 'Revenge', 'count': 90},\n {'_id': 'Spider-Man: Into the Spider-Verse', 'count': 90},\n {'_id': 'Mission: Impossible - Fallout', 'count': 89},\n {'_id': 'RBG', 'count': 89},\n {'_id': 'Bumblebee', 'count': 88},\n {'_id': 'Assassination Nation', 'count': 84},\n {'_id': 'Casual', 'count': 84},\n {'_id': 'A Star Is Born', 'count': 84},\n {'_id': 'BlacKkKlansman', 'count': 82},\n {'_id': '6 Balloons', 'count': 81},\n {'_id': '12 Strong', 'count': 80},\n {'_id': 'Black Panther', 'count': 79},\n {'_id': 'Overlord', 'count': 78},\n {'_id': 'Atlanta', 'count': 77},\n {'_id': 'Halloween', 'count': 77},\n {'_id': 'A Simple Favor', 'count': 71},\n {'_id': 'Overboard', 'count': 70},\n {'_id': 'Avengers: Infinity War', 'count': 68},\n {'_id': 'Fantastic Beasts: The Crimes of Grindelwald', 'count': 66},\n {'_id': 'Blindspotting', 'count': 65},\n {'_id': 'The Kindergarten Teacher', 'count': 65},\n {'_id': 'Disobedience', 'count': 62},\n {'_id': 'Den of Thieves', 'count': 60},\n {'_id': 'A Wrinkle in Time', 'count': 57},\n {'_id': 'The Equalizer 2', 'count': 52},\n {'_id': \"The Girl in the Spider's Web\", 'count': 51},\n {'_id': 'Venom', 'count': 50},\n {'_id': 'Bad Times at the El Royale', 'count': 40},\n {'_id': 'Hold the Dark', 'count': 35},\n {'_id': 'Blockers', 'count': 35},\n {'_id': 'Tully', 'count': 34},\n {'_id': 'You Were Never Really Here', 'count': 30},\n {'_id': 'American Vandal', 'count': 29},\n {'_id': 'Love, Simon', 'count': 28},\n {'_id': 'White Boy Rick', 'count': 24},\n {'_id': 'Support the Girls', 'count': 24},\n {'_id': 'Incredibles 2', 'count': 22},\n {'_id': 'Teen Titans Go! To the Movies', 'count': 18},\n {'_id': 'Unsane', 'count': 16},\n {'_id': 'Sierra Burgess Is a Loser', 'count': 15},\n {'_id': 'The Miseducation of Cameron Post', 'count': 14},\n {'_id': 'The Night Comes for Us', 'count': 13},\n {'_id': 'The Guilty', 'count': 11},\n {'_id': 'Black Mirror: Bandersnatch', 'count': 10},\n {'_id': 'Juliet, Naked', 'count': 10},\n {'_id': 'The Tale', 'count': 8},\n {'_id': 'In Darkness', 'count': 8},\n {'_id': 'A Prayer Before Dawn', 'count': 7},\n {'_id': 'Sicario: Day of the Soldado', 'count': 6},\n {'_id': 'Maze Runner: The Death Cure', 'count': 6},\n {'_id': 'Mowgli: Legend of the Jungle', 'count': 5},\n {'_id': 'Monsters and Men', 'count': 2},\n {'_id': \"Don't Worry, He Won't Get Far on Foot\", 'count': 2},\n {'_id': 'Holmes & Watson', 'count': 1}]"
     },
     "metadata": {},
     "output_type": "execute_result",
     "execution_count": 25
    }
   ],
   "source": [
    "# Question  3 What people, places or things are popular in your domain\n",
    "#  WHICH MOVIES HAVE THE MOST NUMBER OF TWEETS - DESCENDING\n",
    "list(db.tweets.aggregate([\n",
    "    {\"$group\":{\"_id\":\"$MV_NAME\",\"count\":{\"$sum\":1}}},\n",
    "    {\"$sort\":{\"count\":-1}}]))"
   ],
   "metadata": {
    "collapsed": false,
    "pycharm": {
     "name": "#%%\n",
     "is_executing": false
    }
   }
  },
  {
   "cell_type": "code",
   "execution_count": 26,
   "outputs": [
    {
     "name": "stdout",
     "text": [
      "{'MV_RELDATE': 2018, 'PC_NAME': 'Paramount Pictures'}\n",
      "{'MV_RELDATE': 2018, 'PC_NAME': 'Warner Bros. Pictures'}\n",
      "{'MV_RELDATE': 2018, 'PC_NAME': 'Amazon Studios'}\n",
      "{'MV_RELDATE': 2018, 'PC_NAME': 'Paramount Pictures'}\n",
      "{'MV_RELDATE': 2018, 'PC_NAME': 'FilmRise'}\n",
      "{'MV_RELDATE': 2018, 'PC_NAME': 'Greenwich Entertainment'}\n",
      "{'MV_RELDATE': 2018, 'PC_NAME': '20th Century Fox'}\n",
      "{'MV_RELDATE': 2018, 'PC_NAME': 'Walt Disney Pictures'}\n",
      "{'MV_RELDATE': 2018, 'PC_NAME': 'Focus Features'}\n",
      "{'MV_RELDATE': 2018, 'PC_NAME': 'NEON'}\n",
      "{'MV_RELDATE': 2018, 'PC_NAME': 'Disney/Pixar'}\n",
      "{'MV_RELDATE': 2018, 'PC_NAME': 'Netflix'}\n",
      "{'MV_RELDATE': 2018, 'PC_NAME': 'NEON'}\n",
      "{'MV_RELDATE': 2018, 'PC_NAME': 'Lionsgate and Roadside Attractions'}\n",
      "{'MV_RELDATE': 2018, 'PC_NAME': 'Magnolia Pictures'}\n",
      "{'MV_RELDATE': 2018, 'PC_NAME': 'Warner Bros. Pictures'}\n",
      "{'MV_RELDATE': 2018, 'PC_NAME': 'Universal Pictures'}\n",
      "{'MV_RELDATE': 2018, 'PC_NAME': 'New Line Cinema'}\n",
      "{'MV_RELDATE': 2018, 'PC_NAME': 'Paramount Pictures'}\n",
      "{'MV_RELDATE': 2018, 'PC_NAME': 'Windy Hill Pictures'}\n",
      "{'MV_RELDATE': 2018, 'PC_NAME': 'Fingerprint Releasing and Bleecker Street'}\n",
      "{'MV_RELDATE': 2018, 'PC_NAME': 'Warner Bros. Pictures'}\n",
      "{'MV_RELDATE': 2018, 'PC_NAME': 'Universal Pictures'}\n",
      "{'MV_RELDATE': 2018, 'PC_NAME': 'Magnolia Pictures'}\n",
      "{'MV_RELDATE': 2018, 'PC_NAME': 'Columbia Pictures'}\n",
      "{'MV_RELDATE': 2018, 'PC_NAME': '20th Century Fox'}\n",
      "{'MV_RELDATE': 2018, 'PC_NAME': 'STX Entertainment'}\n",
      "{'MV_RELDATE': 2018, 'PC_NAME': 'Paramount Pictures'}\n",
      "{'MV_RELDATE': 2018, 'PC_NAME': '20th Century Fox'}\n",
      "{'MV_RELDATE': 2018, 'PC_NAME': 'Warner Bros. Pictures'}\n",
      "{'MV_RELDATE': 2018, 'PC_NAME': 'Twilight Child Productions'}\n",
      "{'MV_RELDATE': 2018, 'PC_NAME': 'Small Planet'}\n",
      "{'MV_RELDATE': 2018, 'PC_NAME': 'Walt Disney Pictures'}\n",
      "{'MV_RELDATE': 2018, 'PC_NAME': 'Universal Pictures'}\n",
      "{'MV_RELDATE': 2018, 'PC_NAME': 'Warner Bros. Pictures'}\n",
      "{'MV_RELDATE': 2018, 'PC_NAME': 'Universal Pictures'}\n",
      "{'MV_RELDATE': 2018, 'PC_NAME': 'Universal Pictures'}\n",
      "{'MV_RELDATE': 2018, 'PC_NAME': 'Warner Bros. Pictures'}\n",
      "{'MV_RELDATE': 2018, 'PC_NAME': 'MGM'}\n",
      "{'MV_RELDATE': 2018, 'PC_NAME': '20th Century Fox'}\n",
      "{'MV_RELDATE': 2018, 'PC_NAME': 'Walt Disney Animation Studios'}\n",
      "{'MV_RELDATE': 2018, 'PC_NAME': '20th Century Fox'}\n",
      "{'MV_RELDATE': 2018, 'PC_NAME': 'Paramount Pictures'}\n",
      "{'MV_RELDATE': 2018, 'PC_NAME': 'Self Conscious Entertainment'}\n"
     ],
     "output_type": "stream"
    }
   ],
   "source": [
    "# question 4 What people, places or things are trending in your domain? (A trend is popularity over time.)\n",
    "# WHICH PRODUCTION COMPANIES ARE TRENDING\n",
    "list(db.movies.aggregate([\n",
    "    {\"$sort\":{\"MV_RELDATE\":1}}]))\n",
    "\n",
    "for doc in db.movies.find({},{\"PC_NAME\":1, \"_id\":0, \"MV_RELDATE\":1}).sort('MV_RELDATE', pymongo.ASCENDING):\n",
    "    \n",
    "    print(doc)\n",
    "\n",
    "\n"
   ],
   "metadata": {
    "collapsed": false,
    "pycharm": {
     "name": "#%%\n",
     "is_executing": false
    }
   }
  },
  {
   "cell_type": "code",
   "execution_count": 27,
   "outputs": [
    {
     "name": "stdout",
     "text": [
      "{'MV_NAME': 'Deadpool 2', 'MV_RELDATE': 2018, 'MV_DIRECTOR': 'David Leitch'}\n"
     ],
     "output_type": "stream"
    }
   ],
   "source": [
    "# USE CASES\n",
    "\n",
    "# 1. Who directed this movie?\n",
    "for d in db.movies.find({'MV_NAME':'Deadpool 2'},{'_id':0, 'MV_ID':0,  'MV_RUNTIME':0,'MV_RATING':0,'PC_NAME':0}):\n",
    "    print(d)\n"
   ],
   "metadata": {
    "collapsed": false,
    "pycharm": {
     "name": "#%%\n",
     "is_executing": false
    }
   }
  },
  {
   "cell_type": "code",
   "execution_count": 28,
   "outputs": [
    {
     "name": "stdout",
     "text": [
      "{'MV_NAME': 'Daredevil', 'MV_RATING': 8.7}\n",
      "{'MV_NAME': 'Avengers: Infinity War', 'MV_RATING': 8.5}\n",
      "{'MV_NAME': 'Free Solo', 'MV_RATING': 8.4}\n",
      "{'MV_NAME': 'Jack Ryan', 'MV_RATING': 8.2}\n",
      "{'MV_NAME': 'UnREAL', 'MV_RATING': 7.9}\n",
      "{'MV_NAME': 'Mission: Impossible - Fallout', 'MV_RATING': 7.8}\n",
      "{'MV_NAME': 'A Star Is Born', 'MV_RATING': 7.8}\n",
      "{'MV_NAME': 'Deadpool 2', 'MV_RATING': 7.8}\n",
      "{'MV_NAME': 'Incredibles 2', 'MV_RATING': 7.8}\n",
      "{'MV_NAME': 'Love, Simon', 'MV_RATING': 7.7}\n",
      "{'MV_NAME': 'A Quiet Place', 'MV_RATING': 7.6}\n",
      "{'MV_NAME': 'BlacKkKlansman', 'MV_RATING': 7.5}\n",
      "{'MV_NAME': 'RBG', 'MV_RATING': 7.5}\n",
      "{'MV_NAME': 'Ready Player One', 'MV_RATING': 7.5}\n",
      "{'MV_NAME': 'First Man', 'MV_RATING': 7.4}\n",
      "{'MV_NAME': 'Creed II', 'MV_RATING': 7.4}\n",
      "{'MV_NAME': 'Hereditary', 'MV_RATING': 7.3}\n",
      "{'MV_NAME': 'Aquaman', 'MV_RATING': 7.3}\n",
      "{'MV_NAME': 'Ralph Breaks the Internet', 'MV_RATING': 7.2}\n",
      "{'MV_NAME': 'Bumblebee', 'MV_RATING': 7.1}\n",
      "{'MV_NAME': 'Bad Times at the El Royale', 'MV_RATING': 7.1}\n",
      "{'MV_NAME': 'Game Night', 'MV_RATING': 7.0}\n",
      "{'MV_NAME': 'Den of Thieves', 'MV_RATING': 7.0}\n",
      "{'MV_NAME': 'Tully', 'MV_RATING': 7.0}\n",
      "{'MV_NAME': 'Solo: A Star Wars Story', 'MV_RATING': 7.0}\n",
      "{'MV_NAME': 'Annihilation', 'MV_RATING': 6.9}\n",
      "{'MV_NAME': 'You Were Never Really Here', 'MV_RATING': 6.8}\n",
      "{'MV_NAME': 'The Equalizer 2', 'MV_RATING': 6.7}\n",
      "{'MV_NAME': 'Fantastic Beasts: The Crimes of Grindelwald', 'MV_RATING': 6.7}\n",
      "{'MV_NAME': 'The Miseducation of Cameron Post', 'MV_RATING': 6.6}\n",
      "{'MV_NAME': 'Juliet, Naked', 'MV_RATING': 6.6}\n",
      "{'MV_NAME': '12 Strong', 'MV_RATING': 6.6}\n",
      "{'MV_NAME': 'Support the Girls', 'MV_RATING': 6.5}\n",
      "{'MV_NAME': 'Unsane', 'MV_RATING': 6.4}\n",
      "{'MV_NAME': 'The Grinch', 'MV_RATING': 6.3}\n",
      "{'MV_NAME': 'Jurassic World: Fallen Kingdom', 'MV_RATING': 6.2}\n",
      "{'MV_NAME': 'Blockers', 'MV_RATING': 6.2}\n",
      "{'MV_NAME': 'Maze Runner: The Death Cure', 'MV_RATING': 6.2}\n",
      "{'MV_NAME': 'Assassination Nation', 'MV_RATING': 5.9}\n",
      "{'MV_NAME': '6 Balloons', 'MV_RATING': 5.8}\n",
      "{'MV_NAME': 'The Meg', 'MV_RATING': 5.7}\n",
      "{'MV_NAME': 'Monsters and Men', 'MV_RATING': 5.5}\n",
      "{'MV_NAME': 'Nostalgia', 'MV_RATING': 5.4}\n",
      "{'MV_NAME': 'The First Purge', 'MV_RATING': 5.1}\n"
     ],
     "output_type": "stream"
    }
   ],
   "source": [
    "# 2. Which movie has highest rating?\n",
    "\n",
    "for doc in db.movies.find({},{\"MV_ID\":0, \"_id\":0, \"MV_RELDATE\":0, \"MV_RUNTIME\":0, \"MV_DIRECTOR\":0, \"PC_NAME\":0,}).sort('MV_RATING', pymongo.DESCENDING):\n",
    "    \n",
    "    print(doc)\n",
    "\n"
   ],
   "metadata": {
    "collapsed": false,
    "pycharm": {
     "name": "#%%\n",
     "is_executing": false
    }
   }
  },
  {
   "cell_type": "code",
   "execution_count": 29,
   "outputs": [
    {
     "data": {
      "text/plain": "[{'_id': 551331049, 'count': 68},\n {'_id': 4228094679, 'count': 61},\n {'_id': 112764063, 'count': 46},\n {'_id': 2599216440, 'count': 28},\n {'_id': 943905626920402000, 'count': 27},\n {'_id': 32608699, 'count': 23},\n {'_id': 340314799, 'count': 21},\n {'_id': 1063066483776020000, 'count': 19},\n {'_id': 3435780819, 'count': 18},\n {'_id': 763906257409314000, 'count': 17},\n {'_id': 397921436, 'count': 16},\n {'_id': 1548271734, 'count': 14},\n {'_id': 777834278566658000, 'count': 13},\n {'_id': 556636611, 'count': 13},\n {'_id': 604647998, 'count': 13},\n {'_id': 135841986, 'count': 12},\n {'_id': 68777692, 'count': 11},\n {'_id': 118486986, 'count': 10},\n {'_id': 147223992, 'count': 9},\n {'_id': 215295837, 'count': 9},\n {'_id': 2828723942, 'count': 8},\n {'_id': 1105447223591120000, 'count': 8},\n {'_id': 1109702278632680000, 'count': 8},\n {'_id': 1095857065040460000, 'count': 8},\n {'_id': 18232843, 'count': 8},\n {'_id': 978973907544952000, 'count': 8},\n {'_id': 468733563, 'count': 7},\n {'_id': 1081373242332340000, 'count': 7},\n {'_id': 87411160, 'count': 7},\n {'_id': 1099762656410590000, 'count': 7},\n {'_id': 1109674393, 'count': 7},\n {'_id': 17688130, 'count': 7},\n {'_id': 46581214, 'count': 6},\n {'_id': 19345898, 'count': 6},\n {'_id': 89346624, 'count': 6},\n {'_id': 45831678, 'count': 6},\n {'_id': 995781196347883000, 'count': 6},\n {'_id': 78058253, 'count': 6},\n {'_id': 35017980, 'count': 6},\n {'_id': 982097900363829000, 'count': 5},\n {'_id': 342188187, 'count': 5},\n {'_id': 18072509, 'count': 5},\n {'_id': 68136207, 'count': 5},\n {'_id': 16457493, 'count': 5},\n {'_id': 1517222808, 'count': 5},\n {'_id': 4747818821, 'count': 5},\n {'_id': 1104358096447720000, 'count': 5},\n {'_id': 846360569154359000, 'count': 5},\n {'_id': 2220295843, 'count': 5},\n {'_id': 100784857, 'count': 5},\n {'_id': 39613459, 'count': 5},\n {'_id': 17106980, 'count': 5},\n {'_id': 2407584008, 'count': 5},\n {'_id': 247909429, 'count': 5},\n {'_id': 707175005289910000, 'count': 4},\n {'_id': 104182691, 'count': 4},\n {'_id': 442221038, 'count': 4},\n {'_id': 2394293532, 'count': 4},\n {'_id': 186892425, 'count': 4},\n {'_id': 121481978, 'count': 4},\n {'_id': 1008777209610400000, 'count': 4},\n {'_id': 1720248158, 'count': 4},\n {'_id': 1261544262, 'count': 4},\n {'_id': 779000311788646000, 'count': 4},\n {'_id': 133971609, 'count': 4},\n {'_id': 38474342, 'count': 4},\n {'_id': 897177566, 'count': 4},\n {'_id': 1093882549753960000, 'count': 4},\n {'_id': 37264081, 'count': 4},\n {'_id': 961325626304221000, 'count': 4},\n {'_id': 13992132, 'count': 4},\n {'_id': 2172922045, 'count': 4},\n {'_id': 43356967, 'count': 4},\n {'_id': 16196071, 'count': 4},\n {'_id': 92136992, 'count': 4},\n {'_id': 124872641, 'count': 4},\n {'_id': 21794771, 'count': 4},\n {'_id': 19708616, 'count': 4},\n {'_id': 956362437514506000, 'count': 4},\n {'_id': 294508006, 'count': 4},\n {'_id': 2479845637, 'count': 4},\n {'_id': 557688334, 'count': 4},\n {'_id': 60100860, 'count': 4},\n {'_id': 177808591, 'count': 4},\n {'_id': 455247714, 'count': 4},\n {'_id': 1048042309953240000, 'count': 4},\n {'_id': 1537474621, 'count': 4},\n {'_id': 1107544367521320000, 'count': 4},\n {'_id': 1071863215900900000, 'count': 4},\n {'_id': 396725652, 'count': 4},\n {'_id': 37711670, 'count': 4},\n {'_id': 119113904, 'count': 4},\n {'_id': 382390983, 'count': 4},\n {'_id': 778440568917549000, 'count': 4},\n {'_id': 1101254925655430000, 'count': 4},\n {'_id': 172083850, 'count': 4},\n {'_id': 1903643599, 'count': 4},\n {'_id': 55277009, 'count': 4},\n {'_id': 4698863455, 'count': 4},\n {'_id': 2550616416, 'count': 4},\n {'_id': 566382892, 'count': 3},\n {'_id': 532049060, 'count': 3},\n {'_id': 1315568533, 'count': 3},\n {'_id': 2332281978, 'count': 3},\n {'_id': 505836008, 'count': 3},\n {'_id': 1076121487281530000, 'count': 3},\n {'_id': 248918172, 'count': 3},\n {'_id': 3905849294, 'count': 3},\n {'_id': 199023346, 'count': 3},\n {'_id': 1071092378163920000, 'count': 3},\n {'_id': 319849970, 'count': 3},\n {'_id': 46014809, 'count': 3},\n {'_id': 1089189512448620000, 'count': 3},\n {'_id': 105837652, 'count': 3},\n {'_id': 2208376461, 'count': 3},\n {'_id': 360631073, 'count': 3},\n {'_id': 3306742195, 'count': 3},\n {'_id': 960697099217117000, 'count': 3},\n {'_id': 849477570328494000, 'count': 3},\n {'_id': 1100660897557680000, 'count': 3},\n {'_id': 1438404170, 'count': 3},\n {'_id': 987674924021178000, 'count': 3},\n {'_id': 978918820910850000, 'count': 3},\n {'_id': 27242178, 'count': 3},\n {'_id': 3270348026, 'count': 3},\n {'_id': 937751660469907000, 'count': 3},\n {'_id': 1290297552, 'count': 3},\n {'_id': 19357128, 'count': 3},\n {'_id': 3424719741, 'count': 3},\n {'_id': 993214063852359000, 'count': 3},\n {'_id': 4915290052, 'count': 3},\n {'_id': 1087097856324960000, 'count': 3},\n {'_id': 889839602, 'count': 3},\n {'_id': 274522599, 'count': 3},\n {'_id': 6323932, 'count': 3},\n {'_id': 3846590117, 'count': 3},\n {'_id': 476071573, 'count': 3},\n {'_id': 417691545, 'count': 3},\n {'_id': 2972276205, 'count': 3},\n {'_id': 989287756802097000, 'count': 3},\n {'_id': 135130286, 'count': 3},\n {'_id': 1002237371729910000, 'count': 3},\n {'_id': 973493637265936000, 'count': 3},\n {'_id': 1017651975700160000, 'count': 3},\n {'_id': 760601780241784000, 'count': 3},\n {'_id': 934371711792934000, 'count': 3},\n {'_id': 788090777855492000, 'count': 3},\n {'_id': 15744226, 'count': 3},\n {'_id': 1529486935, 'count': 3},\n {'_id': 637246343, 'count': 3},\n {'_id': 250330008, 'count': 3},\n {'_id': 274478080, 'count': 3},\n {'_id': 1595582448, 'count': 3},\n {'_id': 130491174, 'count': 3},\n {'_id': 235268983, 'count': 3},\n {'_id': 539658831, 'count': 3},\n {'_id': 824870591521923000, 'count': 3},\n {'_id': 2857117006, 'count': 3},\n {'_id': 334309383, 'count': 3},\n {'_id': 2374569061, 'count': 3},\n {'_id': 4886507129, 'count': 3},\n {'_id': 1070334494790490000, 'count': 3},\n {'_id': 1929625746, 'count': 3},\n {'_id': 19493960, 'count': 3},\n {'_id': 1431359448, 'count': 3},\n {'_id': 67730359, 'count': 3},\n {'_id': 220635302, 'count': 3},\n {'_id': 128711010, 'count': 3},\n {'_id': 539165451, 'count': 3},\n {'_id': 3091662173, 'count': 3},\n {'_id': 3001823219, 'count': 3},\n {'_id': 234213114, 'count': 3},\n {'_id': 7954452, 'count': 3},\n {'_id': 1014508964455890000, 'count': 3},\n {'_id': 374278355, 'count': 3},\n {'_id': 2979169120, 'count': 3},\n {'_id': 15946016, 'count': 3},\n {'_id': 7081402, 'count': 3},\n {'_id': 1032178376830840000, 'count': 3},\n {'_id': 1434653065, 'count': 3},\n {'_id': 792786858069659000, 'count': 3},\n {'_id': 59110581, 'count': 3},\n {'_id': 2331816126, 'count': 3},\n {'_id': 193805825, 'count': 3},\n {'_id': 17446621, 'count': 3},\n {'_id': 730795063840804000, 'count': 3},\n {'_id': 2347956386, 'count': 3},\n {'_id': 342117835, 'count': 3},\n {'_id': 385382115, 'count': 3},\n {'_id': 70786076, 'count': 3},\n {'_id': 430956193, 'count': 3},\n {'_id': 204595363, 'count': 2},\n {'_id': 94232537, 'count': 2},\n {'_id': 1584744955, 'count': 2},\n {'_id': 24138637, 'count': 2},\n {'_id': 828215364, 'count': 2},\n {'_id': 394898219, 'count': 2},\n {'_id': 3433056633, 'count': 2},\n {'_id': 554634895, 'count': 2},\n {'_id': 617954038, 'count': 2},\n {'_id': 1103823114633380000, 'count': 2},\n {'_id': 1108503796055850000, 'count': 2},\n {'_id': 29356428, 'count': 2},\n {'_id': 271244383, 'count': 2},\n {'_id': 2497345790, 'count': 2},\n {'_id': 1109826474876390000, 'count': 2},\n {'_id': 384385771, 'count': 2},\n {'_id': 940508738, 'count': 2},\n {'_id': 498308064, 'count': 2},\n {'_id': 15876940, 'count': 2},\n {'_id': 1107790588487840000, 'count': 2},\n {'_id': 802452614885543000, 'count': 2},\n {'_id': 3333225388, 'count': 2},\n {'_id': 1051162376450560000, 'count': 2},\n {'_id': 4816452857, 'count': 2},\n {'_id': 3051388156, 'count': 2},\n {'_id': 47626010, 'count': 2},\n {'_id': 2594518727, 'count': 2},\n {'_id': 1074077476748510000, 'count': 2},\n {'_id': 165554414, 'count': 2},\n {'_id': 818204719168548000, 'count': 2},\n {'_id': 114863564, 'count': 2},\n {'_id': 142815776, 'count': 2},\n {'_id': 4017296151, 'count': 2},\n {'_id': 1012811410827630000, 'count': 2},\n {'_id': 560322676, 'count': 2},\n {'_id': 4578320954, 'count': 2},\n {'_id': 21925735, 'count': 2},\n {'_id': 107624185, 'count': 2},\n {'_id': 22794611, 'count': 2},\n {'_id': 1057326823917440000, 'count': 2},\n {'_id': 989332062497857000, 'count': 2},\n {'_id': 419808494, 'count': 2},\n {'_id': 930887059912495000, 'count': 2},\n {'_id': 2307779466, 'count': 2},\n {'_id': 1057253931544390000, 'count': 2},\n {'_id': 1062018194687380000, 'count': 2},\n {'_id': 25518617, 'count': 2},\n {'_id': 14260466, 'count': 2},\n {'_id': 33804071, 'count': 2},\n {'_id': 1171032476, 'count': 2},\n {'_id': 29549589, 'count': 2},\n {'_id': 95215474, 'count': 2},\n {'_id': 1013516878277430000, 'count': 2},\n {'_id': 1393056800, 'count': 2},\n {'_id': 71111120, 'count': 2},\n {'_id': 974688673940889000, 'count': 2},\n {'_id': 16476911, 'count': 2},\n {'_id': 402097934, 'count': 2},\n {'_id': 2716727165, 'count': 2},\n {'_id': 2308318422, 'count': 2},\n {'_id': 953945276997406000, 'count': 2},\n {'_id': 1687605462, 'count': 2},\n {'_id': 2172461651, 'count': 2},\n {'_id': 749705389063766000, 'count': 2},\n {'_id': 1279225068, 'count': 2},\n {'_id': 2687652014, 'count': 2},\n {'_id': 714676815, 'count': 2},\n {'_id': 1060480020336950000, 'count': 2},\n {'_id': 895728254748827000, 'count': 2},\n {'_id': 23085096, 'count': 2},\n {'_id': 2827867529, 'count': 2},\n {'_id': 105629922, 'count': 2},\n {'_id': 761200701099896000, 'count': 2},\n {'_id': 109330712, 'count': 2},\n {'_id': 946617590, 'count': 2},\n {'_id': 96883292, 'count': 2},\n {'_id': 750791432911331000, 'count': 2},\n {'_id': 66467134, 'count': 2},\n {'_id': 72705995, 'count': 2},\n {'_id': 932754711702360000, 'count': 2},\n {'_id': 3346089730, 'count': 2},\n {'_id': 68928587, 'count': 2},\n {'_id': 898699358203457000, 'count': 2},\n {'_id': 227466923, 'count': 2},\n {'_id': 3298199035, 'count': 2},\n {'_id': 582125814, 'count': 2},\n {'_id': 895690504821768000, 'count': 2},\n {'_id': 3969920655, 'count': 2},\n {'_id': 172404237, 'count': 2},\n {'_id': 15986326, 'count': 2},\n {'_id': 776103870791618000, 'count': 2},\n {'_id': 48328524, 'count': 2},\n {'_id': 64540880, 'count': 2},\n {'_id': 29795749, 'count': 2},\n {'_id': 885718988, 'count': 2},\n {'_id': 1473765344, 'count': 2},\n {'_id': 1435473426, 'count': 2},\n {'_id': 2919167575, 'count': 2},\n {'_id': 28761984, 'count': 2},\n {'_id': 3401207614, 'count': 2},\n {'_id': 625668578, 'count': 2},\n {'_id': 95982652, 'count': 2},\n {'_id': 1001628249779290000, 'count': 2},\n {'_id': 222300002, 'count': 2},\n {'_id': 30031117, 'count': 2},\n {'_id': 2236515570, 'count': 2},\n {'_id': 2797721011, 'count': 2},\n {'_id': 19491908, 'count': 2},\n {'_id': 820588121779683000, 'count': 2},\n {'_id': 1109835516092930000, 'count': 2},\n {'_id': 4276184115, 'count': 2},\n {'_id': 4583281223, 'count': 2},\n {'_id': 871321671759802000, 'count': 2},\n {'_id': 995142245400633000, 'count': 2},\n {'_id': 4632734963, 'count': 2},\n {'_id': 988575453005758000, 'count': 2},\n {'_id': 920788780730212000, 'count': 2},\n {'_id': 116983641, 'count': 2},\n {'_id': 51932125, 'count': 2},\n {'_id': 964936003, 'count': 2},\n {'_id': 16160446, 'count': 2},\n {'_id': 49966714, 'count': 2},\n {'_id': 857942051773612000, 'count': 2},\n {'_id': 3060930674, 'count': 2},\n {'_id': 52799608, 'count': 2},\n {'_id': 1154375990, 'count': 2},\n {'_id': 55687447, 'count': 2},\n {'_id': 851411917730172000, 'count': 2},\n {'_id': 584045793, 'count': 2},\n {'_id': 143191597, 'count': 2},\n {'_id': 1666261850, 'count': 2},\n {'_id': 296828249, 'count': 2},\n {'_id': 1717051610, 'count': 2},\n {'_id': 15425825, 'count': 2},\n {'_id': 269533752, 'count': 2},\n {'_id': 285269470, 'count': 2},\n {'_id': 1108492385695210000, 'count': 2},\n {'_id': 802718033483624000, 'count': 2},\n {'_id': 164380239, 'count': 2},\n {'_id': 89062457, 'count': 2},\n {'_id': 935201994, 'count': 2},\n {'_id': 1716667273, 'count': 2},\n {'_id': 95013419, 'count': 2},\n {'_id': 4135872803, 'count': 2},\n {'_id': 14307648, 'count': 2},\n {'_id': 117850358, 'count': 2},\n {'_id': 979995946070110000, 'count': 2},\n {'_id': 874975606571753000, 'count': 2},\n {'_id': 514888778, 'count': 2},\n {'_id': 80695895, 'count': 2},\n {'_id': 1699459100, 'count': 2},\n {'_id': 325759075, 'count': 2},\n {'_id': 3169058023, 'count': 2},\n {'_id': 2870391585, 'count': 2},\n {'_id': 315560254, 'count': 2},\n {'_id': 1019403535283350000, 'count': 2},\n {'_id': 811962446000824000, 'count': 2},\n {'_id': 705762354827534000, 'count': 2},\n {'_id': 1090385905075010000, 'count': 2},\n {'_id': 752875889034088000, 'count': 2},\n {'_id': 1046606479850050000, 'count': 2},\n {'_id': 3301790667, 'count': 2},\n {'_id': 393092206, 'count': 2},\n {'_id': 804116457202286000, 'count': 2},\n {'_id': 12814702, 'count': 2},\n {'_id': 1082002013234310000, 'count': 2},\n {'_id': 2417684630, 'count': 2},\n {'_id': 728937365570363000, 'count': 2},\n {'_id': 331899610, 'count': 2},\n {'_id': 3690045082, 'count': 2},\n {'_id': 844567236287324000, 'count': 2},\n {'_id': 2610223664, 'count': 2},\n {'_id': 1033838527602150000, 'count': 2},\n {'_id': 87325821, 'count': 2},\n {'_id': 2591890998, 'count': 2},\n {'_id': 334919504, 'count': 2},\n {'_id': 2778229037, 'count': 2},\n {'_id': 71026662, 'count': 2},\n {'_id': 983419233571885000, 'count': 2},\n {'_id': 351126486, 'count': 2},\n {'_id': 952677274377179000, 'count': 2},\n {'_id': 1443485089, 'count': 2},\n {'_id': 23989387, 'count': 2},\n {'_id': 3038680750, 'count': 2},\n {'_id': 4173199582, 'count': 2},\n {'_id': 2994402480, 'count': 2},\n {'_id': 278699225, 'count': 2},\n {'_id': 341615940, 'count': 2},\n {'_id': 905160817, 'count': 2},\n {'_id': 16486050, 'count': 2},\n {'_id': 2465336989, 'count': 2},\n {'_id': 1014911015270640000, 'count': 2},\n {'_id': 143898456, 'count': 2},\n {'_id': 1015246279256000000, 'count': 2},\n {'_id': 1039615055250110000, 'count': 2},\n {'_id': 76955978, 'count': 2},\n {'_id': 1107340917373950000, 'count': 2},\n {'_id': 1082949349661910000, 'count': 2},\n {'_id': 809671213543026000, 'count': 2},\n {'_id': 963745544995708000, 'count': 2},\n {'_id': 316408405, 'count': 2},\n {'_id': 1155508112, 'count': 2},\n {'_id': 409660188, 'count': 2},\n {'_id': 706652435960324000, 'count': 2},\n {'_id': 36979187, 'count': 2},\n {'_id': 2291950961, 'count': 2},\n {'_id': 1391065537, 'count': 2},\n {'_id': 768257860165898000, 'count': 2},\n {'_id': 47048859, 'count': 2},\n {'_id': 618039198, 'count': 2},\n {'_id': 2836481531, 'count': 2},\n {'_id': 560250661, 'count': 2},\n {'_id': 1009279653788300000, 'count': 2},\n {'_id': 182969300, 'count': 2},\n {'_id': 926265336097275000, 'count': 2},\n {'_id': 1093887139324970000, 'count': 2},\n {'_id': 759325914, 'count': 2},\n {'_id': 1118245561, 'count': 2},\n {'_id': 21681745, 'count': 2},\n {'_id': 372878359, 'count': 2},\n {'_id': 35777277, 'count': 2},\n {'_id': 1070819301785910000, 'count': 2},\n {'_id': 985607800410734000, 'count': 2},\n {'_id': 243574727, 'count': 2},\n {'_id': 3290306581, 'count': 2},\n {'_id': 868666603, 'count': 2},\n {'_id': 22156612, 'count': 2},\n {'_id': 860614401719771000, 'count': 2},\n {'_id': 191827302, 'count': 2},\n {'_id': 371079026, 'count': 2},\n {'_id': 4274515168, 'count': 2},\n {'_id': 80746761, 'count': 2},\n {'_id': 29212314, 'count': 2},\n {'_id': 401384123, 'count': 2},\n {'_id': 365591290, 'count': 2},\n {'_id': 310458288, 'count': 2},\n {'_id': 986017128359890000, 'count': 2},\n {'_id': 110742565, 'count': 2},\n {'_id': 1091827340223690000, 'count': 2},\n {'_id': 1098828387651630000, 'count': 2},\n {'_id': 26088143, 'count': 2},\n {'_id': 355947240, 'count': 2},\n {'_id': 1085030955054700000, 'count': 2},\n {'_id': 21918361, 'count': 2},\n {'_id': 128722978, 'count': 2},\n {'_id': 825438048687108000, 'count': 2},\n {'_id': 38022609, 'count': 2},\n {'_id': 37242165, 'count': 2},\n {'_id': 150784902, 'count': 2},\n {'_id': 1101039798754530000, 'count': 2},\n {'_id': 120040813, 'count': 2},\n {'_id': 1900975693, 'count': 2},\n {'_id': 1391004050, 'count': 2},\n {'_id': 309945142, 'count': 2},\n {'_id': 4715862924, 'count': 2},\n {'_id': 2816344800, 'count': 2},\n {'_id': 111912776, 'count': 2},\n {'_id': 328255481, 'count': 2},\n {'_id': 605820498, 'count': 2},\n {'_id': 82967148, 'count': 2},\n {'_id': 1075441866487880000, 'count': 2},\n {'_id': 290758912, 'count': 2},\n {'_id': 168566623, 'count': 2},\n {'_id': 745014260087070000, 'count': 2},\n {'_id': 354027531, 'count': 2},\n {'_id': 203921422, 'count': 2},\n {'_id': 1106990206023010000, 'count': 2},\n {'_id': 939048407469035000, 'count': 2},\n {'_id': 1105561265844500000, 'count': 2},\n {'_id': 1076368697432780000, 'count': 2},\n {'_id': 85668299, 'count': 2},\n {'_id': 68752380, 'count': 2},\n {'_id': 1041014373844690000, 'count': 2},\n {'_id': 2724333695, 'count': 2},\n {'_id': 115487122, 'count': 2},\n {'_id': 1089654434437690000, 'count': 2},\n {'_id': 865185265, 'count': 2},\n {'_id': 388563790, 'count': 2},\n {'_id': 1109207797848290000, 'count': 2},\n {'_id': 40188661, 'count': 2},\n {'_id': 716354720932044000, 'count': 2},\n {'_id': 995375012914843000, 'count': 2},\n {'_id': 95968618, 'count': 2},\n {'_id': 103107446, 'count': 2},\n {'_id': 710948242435932000, 'count': 2},\n {'_id': 500664116, 'count': 2},\n {'_id': 2371275024, 'count': 2},\n {'_id': 14550294, 'count': 2},\n {'_id': 852700469600407000, 'count': 2},\n {'_id': 3017612988, 'count': 2},\n {'_id': 948351283374813000, 'count': 2},\n {'_id': 3234099793, 'count': 2},\n {'_id': 95398415, 'count': 2},\n {'_id': 21630311, 'count': 2},\n {'_id': 1082206392973440000, 'count': 2},\n {'_id': 1018522680671320000, 'count': 2},\n {'_id': 1692223964, 'count': 2},\n {'_id': 3433571147, 'count': 2},\n {'_id': 2407156664, 'count': 2},\n {'_id': 1073721364195000000, 'count': 2},\n {'_id': 529497758, 'count': 2},\n {'_id': 70745320, 'count': 2},\n {'_id': 1106738568364470000, 'count': 2},\n {'_id': 155936725, 'count': 2},\n {'_id': 217243955, 'count': 2},\n {'_id': 132892952, 'count': 2},\n {'_id': 17014864, 'count': 2},\n {'_id': 736551103072849000, 'count': 2},\n {'_id': 870269473441292000, 'count': 2},\n {'_id': 991312955122864000, 'count': 2},\n {'_id': 808377312504909000, 'count': 2},\n {'_id': 2428205239, 'count': 2},\n {'_id': 1060002114187980000, 'count': 2},\n {'_id': 2500523858, 'count': 2},\n {'_id': 850696064516706000, 'count': 2},\n {'_id': 285796197, 'count': 2},\n {'_id': 847776048053985000, 'count': 2},\n {'_id': 164554998, 'count': 2},\n {'_id': 105186056, 'count': 2},\n {'_id': 1099710185680040000, 'count': 2},\n {'_id': 331770869, 'count': 2},\n {'_id': 2723319040, 'count': 2},\n {'_id': 3043336767, 'count': 2},\n {'_id': 428846654, 'count': 2},\n {'_id': 2696880235, 'count': 2},\n {'_id': 955372647315132000, 'count': 2},\n {'_id': 250688274, 'count': 2},\n {'_id': 769351050767630000, 'count': 2},\n {'_id': 810854500126879000, 'count': 2},\n {'_id': 748389790895194000, 'count': 2},\n {'_id': 15664534, 'count': 2},\n {'_id': 38230712, 'count': 2},\n {'_id': 286117007, 'count': 2},\n {'_id': 993834989061115000, 'count': 2},\n {'_id': 1097320905653570000, 'count': 2},\n {'_id': 2525383358, 'count': 2},\n {'_id': 461416006, 'count': 2},\n {'_id': 224301718, 'count': 2},\n {'_id': 2824083729, 'count': 2},\n {'_id': 777113897572638000, 'count': 2},\n {'_id': 1037007518457910000, 'count': 2},\n {'_id': 1108276492881000000, 'count': 2},\n {'_id': 54184592, 'count': 2},\n {'_id': 119210878, 'count': 2},\n {'_id': 341382133, 'count': 2},\n {'_id': 950254994, 'count': 2},\n {'_id': 834490469186994000, 'count': 2},\n {'_id': 1046996584288980000, 'count': 2},\n {'_id': 720016255, 'count': 2},\n {'_id': 907938084616003000, 'count': 2},\n {'_id': 22053644, 'count': 2},\n {'_id': 784280870806925000, 'count': 2},\n {'_id': 82085301, 'count': 2},\n {'_id': 1108377813323860000, 'count': 2},\n {'_id': 14799078, 'count': 2},\n {'_id': 930782323, 'count': 2},\n {'_id': 461727295, 'count': 2},\n {'_id': 751235743096397000, 'count': 2},\n {'_id': 705112873500971000, 'count': 2},\n {'_id': 4731068358, 'count': 2},\n {'_id': 870507509290745000, 'count': 2},\n {'_id': 4921399580, 'count': 2},\n {'_id': 21238926, 'count': 2},\n {'_id': 991557175729246000, 'count': 2},\n {'_id': 201487028, 'count': 2},\n {'_id': 19604964, 'count': 2},\n {'_id': 2714134891, 'count': 2},\n {'_id': 1110565597849570000, 'count': 2},\n {'_id': 460052514, 'count': 2},\n {'_id': 2877128234, 'count': 2},\n {'_id': 3959391434, 'count': 1},\n {'_id': 54306634, 'count': 1},\n {'_id': 261909629, 'count': 1},\n {'_id': 70253454, 'count': 1},\n {'_id': 196326170, 'count': 1},\n {'_id': 1103320311414450000, 'count': 1},\n {'_id': 930089766653251000, 'count': 1},\n {'_id': 25633230, 'count': 1},\n {'_id': 926309206432432000, 'count': 1},\n {'_id': 964112669144952000, 'count': 1},\n {'_id': 601644754, 'count': 1},\n {'_id': 2927362801, 'count': 1},\n {'_id': 2842886783, 'count': 1},\n {'_id': 3433473395, 'count': 1},\n {'_id': 109117171, 'count': 1},\n {'_id': 858634276518019000, 'count': 1},\n {'_id': 948428164803497000, 'count': 1},\n {'_id': 418801997, 'count': 1},\n {'_id': 1074140232939910000, 'count': 1},\n {'_id': 237858893, 'count': 1},\n {'_id': 449862563, 'count': 1},\n {'_id': 505283869, 'count': 1},\n {'_id': 169609137, 'count': 1},\n {'_id': 37218119, 'count': 1},\n {'_id': 72903024, 'count': 1},\n {'_id': 41151487, 'count': 1},\n {'_id': 941804140845465000, 'count': 1},\n {'_id': 89711639, 'count': 1},\n {'_id': 773517120051306000, 'count': 1},\n {'_id': 126480426, 'count': 1},\n {'_id': 956918603667968000, 'count': 1},\n {'_id': 853359422, 'count': 1},\n {'_id': 3825300263, 'count': 1},\n {'_id': 1086528510988930000, 'count': 1},\n {'_id': 1292951214, 'count': 1},\n {'_id': 1267637322, 'count': 1},\n {'_id': 39251334, 'count': 1},\n {'_id': 3296007008, 'count': 1},\n {'_id': 21583372, 'count': 1},\n {'_id': 434839997, 'count': 1},\n {'_id': 35816432, 'count': 1},\n {'_id': 25862213, 'count': 1},\n {'_id': 249942168, 'count': 1},\n {'_id': 722086459981832000, 'count': 1},\n {'_id': 407202988, 'count': 1},\n {'_id': 3292550997, 'count': 1},\n {'_id': 23233438, 'count': 1},\n {'_id': 2630142309, 'count': 1},\n {'_id': 1107108251760550000, 'count': 1},\n {'_id': 23775585, 'count': 1},\n {'_id': 1110568888016730000, 'count': 1},\n {'_id': 2616509724, 'count': 1},\n {'_id': 14791162, 'count': 1},\n {'_id': 1069785108192750000, 'count': 1},\n {'_id': 40706111, 'count': 1},\n {'_id': 345112790, 'count': 1},\n {'_id': 854862112765730000, 'count': 1},\n {'_id': 15022381, 'count': 1},\n {'_id': 1013491991647310000, 'count': 1},\n {'_id': 58229359, 'count': 1},\n {'_id': 269369534, 'count': 1},\n {'_id': 808043334333820000, 'count': 1},\n {'_id': 727436781835046000, 'count': 1},\n {'_id': 4395414976, 'count': 1},\n {'_id': 98501963, 'count': 1},\n {'_id': 836124051626131000, 'count': 1},\n {'_id': 825808810006675000, 'count': 1},\n {'_id': 178097304, 'count': 1},\n {'_id': 165171811, 'count': 1},\n {'_id': 1194998822, 'count': 1},\n {'_id': 842652049, 'count': 1},\n {'_id': 758720269737463000, 'count': 1},\n {'_id': 253828392, 'count': 1},\n {'_id': 894654850855841000, 'count': 1},\n {'_id': 1083060078415170000, 'count': 1},\n {'_id': 817711724, 'count': 1},\n {'_id': 3410646183, 'count': 1},\n {'_id': 1373159010, 'count': 1},\n {'_id': 1252508323, 'count': 1},\n {'_id': 177684072, 'count': 1},\n {'_id': 729257510, 'count': 1},\n {'_id': 2448043071, 'count': 1},\n {'_id': 400321930, 'count': 1},\n {'_id': 70321764, 'count': 1},\n {'_id': 1089665608218750000, 'count': 1},\n {'_id': 256154347, 'count': 1},\n {'_id': 41034533, 'count': 1},\n {'_id': 1954325066, 'count': 1},\n {'_id': 83478663, 'count': 1},\n {'_id': 2512494217, 'count': 1},\n {'_id': 1420522158, 'count': 1},\n {'_id': 783149246178553000, 'count': 1},\n {'_id': 297524256, 'count': 1},\n {'_id': 87084609, 'count': 1},\n {'_id': 1045049865032450000, 'count': 1},\n {'_id': 85960231, 'count': 1},\n {'_id': 294306466, 'count': 1},\n {'_id': 163755479, 'count': 1},\n {'_id': 780149555312615000, 'count': 1},\n {'_id': 111187593, 'count': 1},\n {'_id': 50306687, 'count': 1},\n {'_id': 91189755, 'count': 1},\n {'_id': 27043483, 'count': 1},\n {'_id': 863271997614280000, 'count': 1},\n {'_id': 886873242, 'count': 1},\n {'_id': 82093788, 'count': 1},\n {'_id': 1061976449660470000, 'count': 1},\n {'_id': 22318800, 'count': 1},\n {'_id': 1100813131142620000, 'count': 1},\n {'_id': 31290273, 'count': 1},\n {'_id': 543548345, 'count': 1},\n {'_id': 1096262468, 'count': 1},\n {'_id': 1044042695478580000, 'count': 1},\n {'_id': 108252023, 'count': 1},\n {'_id': 1056584859852910000, 'count': 1},\n {'_id': 55537267, 'count': 1},\n {'_id': 257554509, 'count': 1},\n {'_id': 89323576, 'count': 1},\n {'_id': 1071152602845330000, 'count': 1},\n {'_id': 603911205, 'count': 1},\n {'_id': 757136972922163000, 'count': 1},\n {'_id': 4272870562, 'count': 1},\n {'_id': 91323779, 'count': 1},\n {'_id': 1286230748, 'count': 1},\n {'_id': 1187871048, 'count': 1},\n {'_id': 431763810, 'count': 1},\n {'_id': 48620605, 'count': 1},\n {'_id': 545497128, 'count': 1},\n {'_id': 3256280796, 'count': 1},\n {'_id': 1108380344162700000, 'count': 1},\n {'_id': 857435295192682000, 'count': 1},\n {'_id': 994711054843351000, 'count': 1},\n {'_id': 1068009056894240000, 'count': 1},\n {'_id': 1056098194231350000, 'count': 1},\n {'_id': 80699991, 'count': 1},\n {'_id': 334865212, 'count': 1},\n {'_id': 361471907, 'count': 1},\n {'_id': 569256858, 'count': 1},\n {'_id': 3266908080, 'count': 1},\n {'_id': 886457521279569000, 'count': 1},\n {'_id': 48819107, 'count': 1},\n {'_id': 927904709695983000, 'count': 1},\n {'_id': 1320853332, 'count': 1},\n {'_id': 1026868016900750000, 'count': 1},\n {'_id': 26947037, 'count': 1},\n {'_id': 2589811970, 'count': 1},\n {'_id': 26076682, 'count': 1},\n {'_id': 855168103839408000, 'count': 1},\n {'_id': 21223571, 'count': 1},\n {'_id': 782932826, 'count': 1},\n {'_id': 1565285490, 'count': 1},\n {'_id': 25143339, 'count': 1},\n {'_id': 1059773808901440000, 'count': 1},\n {'_id': 2826311989, 'count': 1},\n {'_id': 1020578956251030000, 'count': 1},\n {'_id': 140122196, 'count': 1},\n {'_id': 2871276707, 'count': 1},\n {'_id': 1321423430, 'count': 1},\n {'_id': 712413796082409000, 'count': 1},\n {'_id': 3220992336, 'count': 1},\n {'_id': 745918951, 'count': 1},\n {'_id': 918851825352179000, 'count': 1},\n {'_id': 44219388, 'count': 1},\n {'_id': 2871521585, 'count': 1},\n {'_id': 3096766308, 'count': 1},\n {'_id': 234965391, 'count': 1},\n {'_id': 1108140293046570000, 'count': 1},\n {'_id': 4014986778, 'count': 1},\n {'_id': 454074957, 'count': 1},\n {'_id': 1069040600945570000, 'count': 1},\n {'_id': 545379135, 'count': 1},\n {'_id': 352586927, 'count': 1},\n {'_id': 2571740312, 'count': 1},\n {'_id': 4883779649, 'count': 1},\n {'_id': 1031710970912150000, 'count': 1},\n {'_id': 714190420738236000, 'count': 1},\n {'_id': 903610021, 'count': 1},\n {'_id': 366832028, 'count': 1},\n {'_id': 16947473, 'count': 1},\n {'_id': 2384242417, 'count': 1},\n {'_id': 329800382, 'count': 1},\n {'_id': 882266374134939000, 'count': 1},\n {'_id': 860899728057409000, 'count': 1},\n {'_id': 956324322813140000, 'count': 1},\n {'_id': 836278615, 'count': 1},\n {'_id': 360288887, 'count': 1},\n {'_id': 5439662, 'count': 1},\n {'_id': 3029728587, 'count': 1},\n {'_id': 761052726, 'count': 1},\n {'_id': 49707487, 'count': 1},\n {'_id': 2907032450, 'count': 1},\n {'_id': 942291103, 'count': 1},\n {'_id': 1195176990, 'count': 1},\n {'_id': 563066605, 'count': 1},\n {'_id': 774339231313436000, 'count': 1},\n {'_id': 49410618, 'count': 1},\n {'_id': 2247902557, 'count': 1},\n {'_id': 1868409205, 'count': 1},\n {'_id': 6572712, 'count': 1},\n {'_id': 97784853, 'count': 1},\n {'_id': 5797952, 'count': 1},\n {'_id': 871060448636002000, 'count': 1},\n {'_id': 712975083023765000, 'count': 1},\n {'_id': 189430356, 'count': 1},\n {'_id': 1035538836405790000, 'count': 1},\n {'_id': 2772592500, 'count': 1},\n {'_id': 1101874176359650000, 'count': 1},\n {'_id': 17204310, 'count': 1},\n {'_id': 383055066, 'count': 1},\n {'_id': 2718559644, 'count': 1},\n {'_id': 1025035441265880000, 'count': 1},\n {'_id': 2207062429, 'count': 1},\n {'_id': 1889322366, 'count': 1},\n {'_id': 998658453173428000, 'count': 1},\n {'_id': 3571725382, 'count': 1},\n {'_id': 884399544791945000, 'count': 1},\n {'_id': 741618998526234000, 'count': 1},\n {'_id': 2758291601, 'count': 1},\n {'_id': 1025034134945750000, 'count': 1},\n {'_id': 768018223153446000, 'count': 1},\n {'_id': 60246606, 'count': 1},\n {'_id': 167373678, 'count': 1},\n {'_id': 22612641, 'count': 1},\n {'_id': 104916855, 'count': 1},\n {'_id': 1107050084418680000, 'count': 1},\n {'_id': 373409730, 'count': 1},\n {'_id': 955358072704188000, 'count': 1},\n {'_id': 2731888054, 'count': 1},\n {'_id': 2886036873, 'count': 1},\n {'_id': 2475851675, 'count': 1},\n {'_id': 123711437, 'count': 1},\n {'_id': 1075587965483660000, 'count': 1},\n {'_id': 41620431, 'count': 1},\n {'_id': 741039727, 'count': 1},\n {'_id': 295213299, 'count': 1},\n {'_id': 120177366, 'count': 1},\n {'_id': 146136577, 'count': 1},\n {'_id': 280333424, 'count': 1},\n {'_id': 143861480, 'count': 1},\n {'_id': 3081838879, 'count': 1},\n {'_id': 793107627517423000, 'count': 1},\n {'_id': 3326888001, 'count': 1},\n {'_id': 16155339, 'count': 1},\n {'_id': 883166802, 'count': 1},\n {'_id': 835365864656392000, 'count': 1},\n {'_id': 778876070, 'count': 1},\n {'_id': 2946461739, 'count': 1},\n {'_id': 1048572310913830000, 'count': 1},\n {'_id': 1033477910550790000, 'count': 1},\n {'_id': 1079143640004460000, 'count': 1},\n {'_id': 931397163564912000, 'count': 1},\n {'_id': 147300911, 'count': 1},\n {'_id': 1100179164575890000, 'count': 1},\n {'_id': 773397278014971000, 'count': 1},\n {'_id': 786621285363220000, 'count': 1},\n {'_id': 14419063, 'count': 1},\n {'_id': 786158266858348000, 'count': 1},\n {'_id': 231061113, 'count': 1},\n {'_id': 408136205, 'count': 1},\n {'_id': 1194731664, 'count': 1},\n {'_id': 65136049, 'count': 1},\n {'_id': 2866947163, 'count': 1},\n {'_id': 788834063545171000, 'count': 1},\n {'_id': 1005156882460360000, 'count': 1},\n {'_id': 753602838379585000, 'count': 1},\n {'_id': 625844867, 'count': 1},\n {'_id': 37288393, 'count': 1},\n {'_id': 17150704, 'count': 1},\n {'_id': 996079186627432000, 'count': 1},\n {'_id': 1070389134, 'count': 1},\n {'_id': 55497637, 'count': 1},\n {'_id': 2829302247, 'count': 1},\n {'_id': 232748431, 'count': 1},\n {'_id': 715068001570021000, 'count': 1},\n {'_id': 487275346, 'count': 1},\n {'_id': 709928612787425000, 'count': 1},\n {'_id': 782947216616988000, 'count': 1},\n {'_id': 2789762877, 'count': 1},\n {'_id': 801363882245849000, 'count': 1},\n {'_id': 917127933436809000, 'count': 1},\n {'_id': 946875617953353000, 'count': 1},\n {'_id': 2463414481, 'count': 1},\n {'_id': 31252950, 'count': 1},\n {'_id': 4915755346, 'count': 1},\n {'_id': 1656048900, 'count': 1},\n {'_id': 39203129, 'count': 1},\n {'_id': 885738716, 'count': 1},\n {'_id': 3611505683, 'count': 1},\n {'_id': 83538865, 'count': 1},\n {'_id': 2567570862, 'count': 1},\n {'_id': 395732198, 'count': 1},\n {'_id': 1077150084746200000, 'count': 1},\n {'_id': 42041084, 'count': 1},\n {'_id': 1109298397448670000, 'count': 1},\n {'_id': 835656872032145000, 'count': 1},\n {'_id': 143243391, 'count': 1},\n {'_id': 1398362294, 'count': 1},\n {'_id': 956817381795377000, 'count': 1},\n {'_id': 72878502, 'count': 1},\n {'_id': 314198042, 'count': 1},\n {'_id': 3416176918, 'count': 1},\n {'_id': 961579533676589000, 'count': 1},\n {'_id': 20686337, 'count': 1},\n {'_id': 3312768547, 'count': 1},\n {'_id': 323885756, 'count': 1},\n {'_id': 631422861, 'count': 1},\n {'_id': 1110562038709780000, 'count': 1},\n {'_id': 304366409, 'count': 1},\n {'_id': 1087536496729440000, 'count': 1},\n {'_id': 262121631, 'count': 1},\n {'_id': 720254882507304000, 'count': 1},\n {'_id': 2777118250, 'count': 1},\n {'_id': 2952243844, 'count': 1},\n {'_id': 900017707608887000, 'count': 1},\n {'_id': 847420679343325000, 'count': 1},\n {'_id': 1058974194522900000, 'count': 1},\n {'_id': 250629575, 'count': 1},\n {'_id': 757298796455923000, 'count': 1},\n {'_id': 387954160, 'count': 1},\n {'_id': 148502704, 'count': 1},\n {'_id': 3216885041, 'count': 1},\n {'_id': 166962954, 'count': 1},\n {'_id': 306764081, 'count': 1},\n {'_id': 32205843, 'count': 1},\n {'_id': 1137972306, 'count': 1},\n {'_id': 1052213222382710000, 'count': 1},\n {'_id': 334214840, 'count': 1},\n {'_id': 1071075246143230000, 'count': 1},\n {'_id': 1481333076, 'count': 1},\n {'_id': 1633640011, 'count': 1},\n {'_id': 765658609942351000, 'count': 1},\n {'_id': 387256417, 'count': 1},\n {'_id': 25308093, 'count': 1},\n {'_id': 224653835, 'count': 1},\n {'_id': 354784258, 'count': 1},\n {'_id': 366158028, 'count': 1},\n {'_id': 2734092820, 'count': 1},\n {'_id': 1511888862, 'count': 1},\n {'_id': 19271548, 'count': 1},\n {'_id': 114058393, 'count': 1},\n {'_id': 953428188377513000, 'count': 1},\n {'_id': 738139568076001000, 'count': 1},\n {'_id': 193000197, 'count': 1},\n {'_id': 217183011, 'count': 1},\n {'_id': 536908813, 'count': 1},\n {'_id': 777902325771988000, 'count': 1},\n {'_id': 843636437358690000, 'count': 1},\n {'_id': 1107116347589340000, 'count': 1},\n {'_id': 1102326911605320000, 'count': 1},\n {'_id': 3230742758, 'count': 1},\n {'_id': 205418519, 'count': 1},\n {'_id': 1071785419132550000, 'count': 1},\n {'_id': 986813719274405000, 'count': 1},\n {'_id': 341324376, 'count': 1},\n {'_id': 24939047, 'count': 1},\n {'_id': 863846271102189000, 'count': 1},\n {'_id': 2189643642, 'count': 1},\n {'_id': 1850626548, 'count': 1},\n {'_id': 25763204, 'count': 1},\n {'_id': 25327761, 'count': 1},\n {'_id': 120222142, 'count': 1},\n {'_id': 1066793283009970000, 'count': 1},\n {'_id': 894348080, 'count': 1},\n {'_id': 2921937122, 'count': 1},\n {'_id': 1110592971227970000, 'count': 1},\n {'_id': 1110571149337870000, 'count': 1},\n {'_id': 36878854, 'count': 1},\n {'_id': 3687991993, 'count': 1},\n {'_id': 889986367731769000, 'count': 1},\n {'_id': 306344671, 'count': 1},\n {'_id': 23772977, 'count': 1},\n {'_id': 622257909, 'count': 1},\n {'_id': 2430301464, 'count': 1},\n {'_id': 533051028, 'count': 1},\n {'_id': 32472803, 'count': 1},\n {'_id': 713405433256546000, 'count': 1},\n {'_id': 3470861, 'count': 1},\n {'_id': 923360310920138000, 'count': 1},\n {'_id': 45221035, 'count': 1},\n {'_id': 863770316, 'count': 1},\n {'_id': 1924080896, 'count': 1},\n {'_id': 2915073955, 'count': 1},\n {'_id': 550933750, 'count': 1},\n {'_id': 3246023563, 'count': 1},\n {'_id': 1629706801, 'count': 1},\n {'_id': 2563460949, 'count': 1},\n {'_id': 1021331801002860000, 'count': 1},\n {'_id': 182134598, 'count': 1},\n {'_id': 1090484931241880000, 'count': 1},\n {'_id': 3852847517, 'count': 1},\n {'_id': 550221881, 'count': 1},\n {'_id': 3048877775, 'count': 1},\n {'_id': 1019826893053350000, 'count': 1},\n {'_id': 223169193, 'count': 1},\n {'_id': 2864935173, 'count': 1},\n {'_id': 875359673779728000, 'count': 1},\n {'_id': 837638775085891000, 'count': 1},\n {'_id': 998031714629881000, 'count': 1},\n {'_id': 2737300361, 'count': 1},\n {'_id': 23547444, 'count': 1},\n {'_id': 1107704352188300000, 'count': 1},\n {'_id': 33754996, 'count': 1},\n {'_id': 700748474313146000, 'count': 1},\n {'_id': 2816328742, 'count': 1},\n {'_id': 40935664, 'count': 1},\n {'_id': 18357123, 'count': 1},\n {'_id': 2859270833, 'count': 1},\n {'_id': 890018761687711000, 'count': 1},\n {'_id': 491783214, 'count': 1},\n {'_id': 619259014, 'count': 1},\n {'_id': 509094808, 'count': 1},\n {'_id': 29509459, 'count': 1},\n {'_id': 272660680, 'count': 1},\n {'_id': 552875318, 'count': 1},\n {'_id': 19585717, 'count': 1},\n {'_id': 1100391716526440000, 'count': 1},\n {'_id': 509971423, 'count': 1},\n {'_id': 20806958, 'count': 1},\n {'_id': 168796142, 'count': 1},\n {'_id': 76041875, 'count': 1},\n {'_id': 232977201, 'count': 1},\n {'_id': 1100423280421400000, 'count': 1},\n {'_id': 840714436872626000, 'count': 1},\n {'_id': 56278291, 'count': 1},\n {'_id': 558603387, 'count': 1},\n {'_id': 1096136056485870000, 'count': 1},\n {'_id': 1004042073039860000, 'count': 1},\n {'_id': 1681694232, 'count': 1},\n {'_id': 1149395168, 'count': 1},\n {'_id': 14615437, 'count': 1},\n {'_id': 32887308, 'count': 1},\n {'_id': 280707316, 'count': 1},\n {'_id': 804122284650823000, 'count': 1},\n {'_id': 838151347, 'count': 1},\n {'_id': 841324567, 'count': 1},\n {'_id': 1050707367682300000, 'count': 1},\n {'_id': 1100733467380320000, 'count': 1},\n {'_id': 16984851, 'count': 1},\n {'_id': 55430565, 'count': 1},\n ...]"
     },
     "metadata": {},
     "output_type": "execute_result",
     "execution_count": 29
    }
   ],
   "source": [
    "# 3. Who is the most active User?\n",
    "\n",
    "list(db.tweets.aggregate([{\"$group\":{\"_id\":\"$USR_ID\",\"count\":{\"$sum\":1}}},{\"$sort\":{\"count\":-1}}]))"
   ],
   "metadata": {
    "collapsed": false,
    "pycharm": {
     "name": "#%%\n",
     "is_executing": false
    }
   }
  },
  {
   "cell_type": "code",
   "execution_count": 29,
   "outputs": [],
   "source": [
    "\n"
   ],
   "metadata": {
    "collapsed": false,
    "pycharm": {
     "name": "#%%\n",
     "is_executing": false
    }
   }
  }
 ],
 "metadata": {
  "kernelspec": {
   "display_name": "Python 3",
   "language": "python",
   "name": "python3"
  },
  "language_info": {
   "codemirror_mode": {
    "name": "ipython",
    "version": 2
   },
   "file_extension": ".py",
   "mimetype": "text/x-python",
   "name": "python",
   "nbconvert_exporter": "python",
   "pygments_lexer": "ipython2",
   "version": "2.7.6"
  },
  "pycharm": {
   "stem_cell": {
    "cell_type": "raw",
    "source": [],
    "metadata": {
     "collapsed": false
    }
   }
  }
 },
 "nbformat": 4,
 "nbformat_minor": 0
}