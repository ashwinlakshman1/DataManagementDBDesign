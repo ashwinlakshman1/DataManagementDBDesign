{
 "cells": [
  {
   "cell_type": "markdown",
   "metadata": {
    "collapsed": true,
    "pycharm": {
     "is_executing": false,
     "name": "#%% md\n"
    }
   },
   "source": [
    "Ashwin Lakshman 001353233"
   ]
  },
  {
   "cell_type": "markdown",
   "source": [
    "# *HANDS-ON GUIDE TO MONGODB*\n",
    "## *INFO6210* DATA MANAGEMENT AND DATABASE DESIGN FINAL PROJECT\n",
    "## BY *ASHWIN LAKSHMAN* ( *001353233* )\n",
    "### NORTHEASTERN UNIVERSITY SPRING 2020\n",
    "\n",
    "\n",
    "#### Topics Covered:\n",
    "##### Introduction to NoSQL Databases\n",
    "##### Introduction to MongoDB\n",
    "##### Installation Guide\n",
    "##### Mongo Shell\n",
    "##### CRUD Operations\n",
    "##### Aggregate Pipeline\n",
    "##### MapReduce\n",
    "##### 10 Practice Exercises\n",
    "##### 1 Practice Project"
   ],
   "metadata": {
    "collapsed": false
   }
  },
  {
   "cell_type": "markdown",
   "source": [
    "# *1. INTRODUCTION*\n",
    "##  1.1. What is a NoSQL Database?\n",
    "“NoSQL Database” is an umbrella-term for any non-relational database which stores data in a format other than relational tables. NoSQL databases can store relationship data—they just store it differently than relational databases do. In fact, when compared with SQL databases, many find modeling relationship data in NoSQL databases to be easier than in SQL databases, because related data doesn’t have to be split between tables. NoSQL data models allow related data to be nested within a single data structure.\n",
    "## 1.2 Types of NoSQL Databases:\n",
    "There are currently 4 different types of databases that fall under the NoSQL umbrella:\n",
    "1.\t**Document Databases:** Document databases store data in documents similar to JSON (JavaScript Object Notation) objects. Each document contains pairs of fields and values. The values can typically be a variety of types including things like strings, numbers, boolean, arrays, or objects, and their structures typically align with objects developers are working with in code. Because of their variety of field value types and powerful query languages, document databases are great for a wide variety of use cases and can be used as a general purpose database. Examples: MarkLogic, InterSystems Caché, MongoDB, OrientDB\n",
    "\n",
    "2.\t**Key-value databases:** Key-value databases are a simpler type of database where each item contains keys and values. A value can only be retrieved by referencing its value. Key-value databases are great for use cases where you need to store large amounts of data but you don’t need to perform complex queries to retrieve it. Examples: Redis, Riak, and Oracle NoSQL database\n",
    "\n",
    "\n",
    "3.\t**Column Datastores:** Column Datastores store data in tables, rows, and dynamic columns. These databases are great for when you need to store large amounts of data and you can predict what your query patterns will be. Examples: Cassandra, Bigtable, Cassandra, HBase and Vertica.\n",
    "4.\t**Graph Databases:** Graph databases store data in nodes and edges. Nodes store information about people, places, and things while edges store information about the relationships between the nodes. Graph databases work best in databases where there is a need to traverse relationships to look for patterns. There are a wide variety of applications for these databases  such as social networks, fraud detection and recommendation engines. Examples: JanusGraph, MarkLogic, Neo4j\n",
    "\n",
    "## 1.3 MongoDB\n",
    "MongoDB is an open source document-oriented database system developed and supported by 10gen. It is part of the NoSQL family of database systems. Instead of storing data in tables as is done in a relational database, MongoDB stores structured data as Binary JSON documents with dynamic schemas (called BSON), making the integration of data in certain types of applications easier and faster.\n",
    "## 1.4 Installation\n",
    "Download & Installation Documentation Link: https://docs.mongodb.com/manual/installation/\n",
    "MongoDB shell runs on the Linux kernel and hence, it cannot be directly installed on a windows system. However, there are multiple workarounds:\n",
    "1.\tRunning Linux on a virtual machine\n",
    "2.\tRunning the Linux Terminal App from the Windows store\n",
    "3.\tMaking use of a Python Distribution such as PyMongo library\n",
    "For users running Mac OS, the installation is straightforward since the Mac OS is built on the Linux kernel.\n",
    "For this guide, we will be using PyMongo as the chosen method of implementation. \n",
    "\n",
    "**PyMongo Installation:** Enter this into the terminal: *$ python -m pip install pymongo* \n",
    "\n",
    "**Install Jupyter:** If not yet installed, install jupyter using the following Terminal command: $ pip install jupyter\n",
    "\n",
    "To start MongoDB server, open the terminal, navigate to the directory where MongoDB is installed and run *mongo* as  follows: ashwin@ubuntu:~/projects/mongodb$./bin/mongo\n",
    "\n",
    "MongoDB is now running on your system. To exit and go to the previous terminal window, type *quit*. To terminate the server press Ctrl+C.\n",
    "\n",
    "## 1.5 Pymongo\n",
    "PyMongo is a Python distribution containing tools for working with MongoDB, and is the recommended way to work with MongoDB from Python. \n",
    "Once Pymongo has been installed, we can write a test application to return information about the Mongo server. Using a Python IDE(recommended) such as PyCharm or a text editor, type the following code:"
   ],
   "metadata": {
    "collapsed": false
   }
  },
  {
   "cell_type": "code",
   "execution_count": 1,
   "outputs": [
    {
     "name": "stdout",
     "text": [
      "connected successfully!\n",
      "{'asserts': {'msg': 0, 'regular': 0, 'rollovers': 0, 'user': 11, 'warning': 0},\n",
      " 'connections': {'active': 1,\n",
      "                 'available': 999998,\n",
      "                 'current': 2,\n",
      "                 'totalCreated': 47},\n",
      " 'extra_info': {'availPageFileMB': 5107,\n",
      "                'note': 'fields vary by platform',\n",
      "                'page_faults': 479986,\n",
      "                'ramMB': 16226,\n",
      "                'totalPageFileMB': 23394,\n",
      "                'usagePageFileMB': 190},\n",
      " 'flowControl': {'enabled': True,\n",
      "                 'isLagged': False,\n",
      "                 'isLaggedCount': 0,\n",
      "                 'isLaggedTimeMicros': 0,\n",
      "                 'locksPerOp': 0.0,\n",
      "                 'sustainerRate': 0,\n",
      "                 'targetRateLimit': 1000000000,\n",
      "                 'timeAcquiringMicros': 0},\n",
      " 'freeMonitoring': {'state': 'undecided'},\n",
      " 'globalLock': {'activeClients': {'readers': 0, 'total': 0, 'writers': 0},\n",
      "                'currentQueue': {'readers': 0, 'total': 0, 'writers': 0},\n",
      "                'totalTime': 764239077000},\n",
      " 'host': 'LAPTOP-J0E3R9P8',\n",
      " 'localTime': datetime.datetime(2020, 4, 25, 3, 19, 43, 389000),\n",
      " 'locks': {'Collection': {'acquireCount': {'W': 6, 'r': 16067, 'w': 9048}},\n",
      "           'Database': {'acquireCount': {'W': 8, 'r': 14291, 'w': 9054}},\n",
      "           'Global': {'acquireCount': {'W': 8, 'r': 1059162, 'w': 9062}},\n",
      "           'Mutex': {'acquireCount': {'r': 23567}},\n",
      "           'ParallelBatchWriterMode': {'acquireCount': {'r': 17833}},\n",
      "           'ReplicationStateTransition': {'acquireCount': {'w': 1068232}}},\n",
      " 'logicalSessionRecordCache': {'activeSessionsCount': 1,\n",
      "                               'lastSessionsCollectionJobCursorsClosed': 0,\n",
      "                               'lastSessionsCollectionJobDurationMillis': 0,\n",
      "                               'lastSessionsCollectionJobEntriesEnded': 0,\n",
      "                               'lastSessionsCollectionJobEntriesRefreshed': 0,\n",
      "                               'lastSessionsCollectionJobTimestamp': datetime.datetime(2020, 4, 25, 3, 15, 24, 302000),\n",
      "                               'lastTransactionReaperJobDurationMillis': 0,\n",
      "                               'lastTransactionReaperJobEntriesCleanedUp': 0,\n",
      "                               'lastTransactionReaperJobTimestamp': datetime.datetime(2020, 4, 25, 3, 15, 24, 268000),\n",
      "                               'sessionCatalogSize': 0,\n",
      "                               'sessionsCollectionJobCount': 1744,\n",
      "                               'transactionReaperJobCount': 1744},\n",
      " 'mem': {'bits': 64, 'resident': 17, 'supported': True, 'virtual': 5485},\n",
      " 'metrics': {'commands': {'<UNKNOWN>': 0,\n",
      "                          '_addShard': {'failed': 0, 'total': 0},\n",
      "                          '_cloneCatalogData': {'failed': 0, 'total': 0},\n",
      "                          '_cloneCollectionOptionsFromPrimaryShard': {'failed': 0,\n",
      "                                                                      'total': 0},\n",
      "                          '_configsvrAddShard': {'failed': 0, 'total': 0},\n",
      "                          '_configsvrAddShardToZone': {'failed': 0, 'total': 0},\n",
      "                          '_configsvrBalancerStart': {'failed': 0, 'total': 0},\n",
      "                          '_configsvrBalancerStatus': {'failed': 0, 'total': 0},\n",
      "                          '_configsvrBalancerStop': {'failed': 0, 'total': 0},\n",
      "                          '_configsvrCommitChunkMerge': {'failed': 0,\n",
      "                                                         'total': 0},\n",
      "                          '_configsvrCommitChunkMigration': {'failed': 0,\n",
      "                                                             'total': 0},\n",
      "                          '_configsvrCommitChunkSplit': {'failed': 0,\n",
      "                                                         'total': 0},\n",
      "                          '_configsvrCommitMovePrimary': {'failed': 0,\n",
      "                                                          'total': 0},\n",
      "                          '_configsvrCreateCollection': {'failed': 0,\n",
      "                                                         'total': 0},\n",
      "                          '_configsvrCreateDatabase': {'failed': 0, 'total': 0},\n",
      "                          '_configsvrDropCollection': {'failed': 0, 'total': 0},\n",
      "                          '_configsvrDropDatabase': {'failed': 0, 'total': 0},\n",
      "                          '_configsvrEnableSharding': {'failed': 0, 'total': 0},\n",
      "                          '_configsvrMoveChunk': {'failed': 0, 'total': 0},\n",
      "                          '_configsvrMovePrimary': {'failed': 0, 'total': 0},\n",
      "                          '_configsvrRemoveShard': {'failed': 0, 'total': 0},\n",
      "                          '_configsvrRemoveShardFromZone': {'failed': 0,\n",
      "                                                            'total': 0},\n",
      "                          '_configsvrShardCollection': {'failed': 0,\n",
      "                                                        'total': 0},\n",
      "                          '_configsvrUpdateZoneKeyRange': {'failed': 0,\n",
      "                                                           'total': 0},\n",
      "                          '_flushDatabaseCacheUpdates': {'failed': 0,\n",
      "                                                         'total': 0},\n",
      "                          '_flushRoutingTableCacheUpdates': {'failed': 0,\n",
      "                                                             'total': 0},\n",
      "                          '_getNextSessionMods': {'failed': 0, 'total': 0},\n",
      "                          '_getUserCacheGeneration': {'failed': 0, 'total': 0},\n",
      "                          '_isSelf': {'failed': 0, 'total': 0},\n",
      "                          '_mergeAuthzCollections': {'failed': 0, 'total': 0},\n",
      "                          '_migrateClone': {'failed': 0, 'total': 0},\n",
      "                          '_movePrimary': {'failed': 0, 'total': 0},\n",
      "                          '_recvChunkAbort': {'failed': 0, 'total': 0},\n",
      "                          '_recvChunkCommit': {'failed': 0, 'total': 0},\n",
      "                          '_recvChunkStart': {'failed': 0, 'total': 0},\n",
      "                          '_recvChunkStatus': {'failed': 0, 'total': 0},\n",
      "                          '_shardsvrShardCollection': {'failed': 0, 'total': 0},\n",
      "                          '_transferMods': {'failed': 0, 'total': 0},\n",
      "                          'abortTransaction': {'failed': 0, 'total': 0},\n",
      "                          'aggregate': {'failed': 1, 'total': 7},\n",
      "                          'appendOplogNote': {'failed': 0, 'total': 0},\n",
      "                          'applyOps': {'failed': 0, 'total': 0},\n",
      "                          'authenticate': {'failed': 0, 'total': 0},\n",
      "                          'availableQueryOptions': {'failed': 0, 'total': 0},\n",
      "                          'buildInfo': {'failed': 0, 'total': 0},\n",
      "                          'checkShardingIndex': {'failed': 0, 'total': 0},\n",
      "                          'cleanupOrphaned': {'failed': 0, 'total': 0},\n",
      "                          'cloneCollection': {'failed': 0, 'total': 0},\n",
      "                          'cloneCollectionAsCapped': {'failed': 0, 'total': 0},\n",
      "                          'collMod': {'failed': 0, 'total': 0},\n",
      "                          'collStats': {'failed': 0, 'total': 0},\n",
      "                          'commitTransaction': {'failed': 0, 'total': 0},\n",
      "                          'compact': {'failed': 0, 'total': 0},\n",
      "                          'connPoolStats': {'failed': 0, 'total': 0},\n",
      "                          'connPoolSync': {'failed': 0, 'total': 0},\n",
      "                          'connectionStatus': {'failed': 0, 'total': 0},\n",
      "                          'convertToCapped': {'failed': 0, 'total': 0},\n",
      "                          'coordinateCommitTransaction': {'failed': 0,\n",
      "                                                          'total': 0},\n",
      "                          'count': {'failed': 1, 'total': 76},\n",
      "                          'create': {'failed': 0, 'total': 0},\n",
      "                          'createIndexes': {'failed': 0, 'total': 0},\n",
      "                          'createRole': {'failed': 0, 'total': 0},\n",
      "                          'createUser': {'failed': 0, 'total': 0},\n",
      "                          'currentOp': {'failed': 0, 'total': 0},\n",
      "                          'dataSize': {'failed': 0, 'total': 0},\n",
      "                          'dbHash': {'failed': 0, 'total': 0},\n",
      "                          'dbStats': {'failed': 0, 'total': 0},\n",
      "                          'delete': {'failed': 0, 'total': 8},\n",
      "                          'distinct': {'failed': 0, 'total': 0},\n",
      "                          'driverOIDTest': {'failed': 0, 'total': 0},\n",
      "                          'drop': {'failed': 0, 'total': 2},\n",
      "                          'dropAllRolesFromDatabase': {'failed': 0, 'total': 0},\n",
      "                          'dropAllUsersFromDatabase': {'failed': 0, 'total': 0},\n",
      "                          'dropConnections': {'failed': 0, 'total': 0},\n",
      "                          'dropDatabase': {'failed': 0, 'total': 4},\n",
      "                          'dropIndexes': {'failed': 0, 'total': 0},\n",
      "                          'dropRole': {'failed': 0, 'total': 0},\n",
      "                          'dropUser': {'failed': 0, 'total': 0},\n",
      "                          'endSessions': {'failed': 0, 'total': 7},\n",
      "                          'explain': {'failed': 0, 'total': 0},\n",
      "                          'features': {'failed': 0, 'total': 0},\n",
      "                          'filemd5': {'failed': 0, 'total': 0},\n",
      "                          'find': {'failed': 0, 'total': 1885},\n",
      "                          'findAndModify': {'failed': 0, 'total': 0},\n",
      "                          'flushRouterConfig': {'failed': 0, 'total': 0},\n",
      "                          'fsync': {'failed': 0, 'total': 0},\n",
      "                          'fsyncUnlock': {'failed': 0, 'total': 0},\n",
      "                          'geoSearch': {'failed': 0, 'total': 0},\n",
      "                          'getCmdLineOpts': {'failed': 0, 'total': 0},\n",
      "                          'getDatabaseVersion': {'failed': 0, 'total': 0},\n",
      "                          'getDiagnosticData': {'failed': 0, 'total': 0},\n",
      "                          'getFreeMonitoringStatus': {'failed': 0, 'total': 0},\n",
      "                          'getLastError': {'failed': 0, 'total': 0},\n",
      "                          'getLog': {'failed': 0, 'total': 0},\n",
      "                          'getMore': {'failed': 0, 'total': 16},\n",
      "                          'getParameter': {'failed': 0, 'total': 0},\n",
      "                          'getShardMap': {'failed': 0, 'total': 0},\n",
      "                          'getShardVersion': {'failed': 0, 'total': 0},\n",
      "                          'getnonce': {'failed': 0, 'total': 0},\n",
      "                          'grantPrivilegesToRole': {'failed': 0, 'total': 0},\n",
      "                          'grantRolesToRole': {'failed': 0, 'total': 0},\n",
      "                          'grantRolesToUser': {'failed': 0, 'total': 0},\n",
      "                          'hostInfo': {'failed': 0, 'total': 0},\n",
      "                          'insert': {'failed': 0, 'total': 208},\n",
      "                          'invalidateUserCache': {'failed': 0, 'total': 0},\n",
      "                          'isMaster': {'failed': 0, 'total': 3350},\n",
      "                          'killAllSessions': {'failed': 0, 'total': 0},\n",
      "                          'killAllSessionsByPattern': {'failed': 0, 'total': 0},\n",
      "                          'killCursors': {'failed': 0, 'total': 1},\n",
      "                          'killOp': {'failed': 0, 'total': 0},\n",
      "                          'killSessions': {'failed': 0, 'total': 0},\n",
      "                          'listCollections': {'failed': 0, 'total': 6},\n",
      "                          'listCommands': {'failed': 0, 'total': 0},\n",
      "                          'listDatabases': {'failed': 0, 'total': 20},\n",
      "                          'listIndexes': {'failed': 0, 'total': 3488},\n",
      "                          'lockInfo': {'failed': 0, 'total': 0},\n",
      "                          'logRotate': {'failed': 0, 'total': 0},\n",
      "                          'logout': {'failed': 0, 'total': 0},\n",
      "                          'mapReduce': {'failed': 0, 'total': 0},\n",
      "                          'mapreduce': {'shardedfinish': {'failed': 0,\n",
      "                                                          'total': 0}},\n",
      "                          'mergeChunks': {'failed': 0, 'total': 0},\n",
      "                          'moveChunk': {'failed': 0, 'total': 0},\n",
      "                          'ping': {'failed': 0, 'total': 0},\n",
      "                          'planCacheClear': {'failed': 0, 'total': 0},\n",
      "                          'planCacheClearFilters': {'failed': 0, 'total': 0},\n",
      "                          'planCacheListFilters': {'failed': 0, 'total': 0},\n",
      "                          'planCacheListPlans': {'failed': 0, 'total': 0},\n",
      "                          'planCacheListQueryShapes': {'failed': 0, 'total': 0},\n",
      "                          'planCacheSetFilter': {'failed': 0, 'total': 0},\n",
      "                          'prepareTransaction': {'failed': 0, 'total': 0},\n",
      "                          'profile': {'failed': 0, 'total': 0},\n",
      "                          'reIndex': {'failed': 0, 'total': 0},\n",
      "                          'refreshSessions': {'failed': 0, 'total': 0},\n",
      "                          'renameCollection': {'failed': 0, 'total': 0},\n",
      "                          'repairCursor': {'failed': 0, 'total': 0},\n",
      "                          'repairDatabase': {'failed': 0, 'total': 0},\n",
      "                          'replSetAbortPrimaryCatchUp': {'failed': 0,\n",
      "                                                         'total': 0},\n",
      "                          'replSetFreeze': {'failed': 0, 'total': 0},\n",
      "                          'replSetGetConfig': {'failed': 0, 'total': 0},\n",
      "                          'replSetGetRBID': {'failed': 0, 'total': 0},\n",
      "                          'replSetGetStatus': {'failed': 0, 'total': 0},\n",
      "                          'replSetHeartbeat': {'failed': 0, 'total': 0},\n",
      "                          'replSetInitiate': {'failed': 0, 'total': 0},\n",
      "                          'replSetMaintenance': {'failed': 0, 'total': 0},\n",
      "                          'replSetReconfig': {'failed': 0, 'total': 0},\n",
      "                          'replSetRequestVotes': {'failed': 0, 'total': 0},\n",
      "                          'replSetResizeOplog': {'failed': 0, 'total': 0},\n",
      "                          'replSetStepDown': {'failed': 0, 'total': 0},\n",
      "                          'replSetStepUp': {'failed': 0, 'total': 0},\n",
      "                          'replSetSyncFrom': {'failed': 0, 'total': 0},\n",
      "                          'replSetUpdatePosition': {'failed': 0, 'total': 0},\n",
      "                          'resetError': {'failed': 0, 'total': 0},\n",
      "                          'revokePrivilegesFromRole': {'failed': 0, 'total': 0},\n",
      "                          'revokeRolesFromRole': {'failed': 0, 'total': 0},\n",
      "                          'revokeRolesFromUser': {'failed': 0, 'total': 0},\n",
      "                          'rolesInfo': {'failed': 0, 'total': 0},\n",
      "                          'saslContinue': {'failed': 0, 'total': 0},\n",
      "                          'saslStart': {'failed': 0, 'total': 0},\n",
      "                          'serverStatus': {'failed': 0, 'total': 16},\n",
      "                          'setFeatureCompatibilityVersion': {'failed': 0,\n",
      "                                                             'total': 0},\n",
      "                          'setFreeMonitoring': {'failed': 0, 'total': 0},\n",
      "                          'setIndexCommitQuorum': {'failed': 0, 'total': 0},\n",
      "                          'setParameter': {'failed': 0, 'total': 0},\n",
      "                          'setShardVersion': {'failed': 0, 'total': 0},\n",
      "                          'shardConnPoolStats': {'failed': 0, 'total': 0},\n",
      "                          'shardingState': {'failed': 0, 'total': 0},\n",
      "                          'shutdown': {'failed': 0, 'total': 0},\n",
      "                          'splitChunk': {'failed': 0, 'total': 0},\n",
      "                          'splitVector': {'failed': 0, 'total': 0},\n",
      "                          'startRecordingTraffic': {'failed': 0, 'total': 0},\n",
      "                          'startSession': {'failed': 0, 'total': 0},\n",
      "                          'stopRecordingTraffic': {'failed': 0, 'total': 0},\n",
      "                          'top': {'failed': 0, 'total': 0},\n",
      "                          'touch': {'failed': 0, 'total': 0},\n",
      "                          'twoPhaseCreateIndexes': {'failed': 0, 'total': 0},\n",
      "                          'unsetSharding': {'failed': 0, 'total': 0},\n",
      "                          'update': {'failed': 0, 'total': 67},\n",
      "                          'updateRole': {'failed': 0, 'total': 0},\n",
      "                          'updateUser': {'failed': 0, 'total': 0},\n",
      "                          'usersInfo': {'failed': 0, 'total': 0},\n",
      "                          'validate': {'failed': 0, 'total': 0},\n",
      "                          'voteCommitIndexBuild': {'failed': 0, 'total': 0},\n",
      "                          'whatsmyuri': {'failed': 0, 'total': 0}},\n",
      "             'cursor': {'open': {'noTimeout': 0, 'pinned': 0, 'total': 0},\n",
      "                        'timedOut': 6},\n",
      "             'document': {'deleted': 1,\n",
      "                          'inserted': 218,\n",
      "                          'returned': 4209,\n",
      "                          'updated': 39},\n",
      "             'getLastError': {'wtime': {'num': 0, 'totalMillis': 0},\n",
      "                              'wtimeouts': 0},\n",
      "             'operation': {'scanAndOrder': 7, 'writeConflicts': 0},\n",
      "             'query': {'updateOneOpStyleBroadcastWithExactIDCount': 0},\n",
      "             'queryExecutor': {'scanned': 28, 'scannedObjects': 29700},\n",
      "             'record': {'moves': 0},\n",
      "             'repl': {'apply': {'attemptsToBecomeSecondary': 0,\n",
      "                                'batchSize': 0,\n",
      "                                'batches': {'num': 0, 'totalMillis': 0},\n",
      "                                'ops': 0},\n",
      "                      'buffer': {'count': 0, 'maxSizeBytes': 0, 'sizeBytes': 0},\n",
      "                      'executor': {'networkInterface': 'DEPRECATED: '\n",
      "                                                       'getDiagnosticString is '\n",
      "                                                       'deprecated in '\n",
      "                                                       'NetworkInterfaceTL',\n",
      "                                   'pool': {'inProgressCount': 0},\n",
      "                                   'queues': {'networkInProgress': 0,\n",
      "                                              'sleepers': 0},\n",
      "                                   'shuttingDown': False,\n",
      "                                   'unsignaledEvents': 0},\n",
      "                      'initialSync': {'completed': 0,\n",
      "                                      'failedAttempts': 0,\n",
      "                                      'failures': 0},\n",
      "                      'network': {'bytes': 0,\n",
      "                                  'getmores': {'num': 0, 'totalMillis': 0},\n",
      "                                  'notMasterLegacyUnacknowledgedWrites': 0,\n",
      "                                  'notMasterUnacknowledgedWrites': 0,\n",
      "                                  'ops': 0,\n",
      "                                  'readersCreated': 0},\n",
      "                      'stepDown': {'userOperationsKilled': 0,\n",
      "                                   'userOperationsRunning': 0}},\n",
      "             'ttl': {'deletedDocuments': 21, 'passes': 8719}},\n",
      " 'network': {'bytesIn': 477802,\n",
      "             'bytesOut': 2508308,\n",
      "             'compression': {'snappy': {'compressor': {'bytesIn': 0,\n",
      "                                                       'bytesOut': 0},\n",
      "                                        'decompressor': {'bytesIn': 0,\n",
      "                                                         'bytesOut': 0}},\n",
      "                             'zlib': {'compressor': {'bytesIn': 0,\n",
      "                                                     'bytesOut': 0},\n",
      "                                      'decompressor': {'bytesIn': 0,\n",
      "                                                       'bytesOut': 0}},\n",
      "                             'zstd': {'compressor': {'bytesIn': 0,\n",
      "                                                     'bytesOut': 0},\n",
      "                                      'decompressor': {'bytesIn': 0,\n",
      "                                                       'bytesOut': 0}}},\n",
      "             'numRequests': 3885,\n",
      "             'physicalBytesIn': 477802,\n",
      "             'physicalBytesOut': 2508308,\n",
      "             'serviceExecutorTaskStats': {'executor': 'passthrough',\n",
      "                                          'threadsRunning': 2}},\n",
      " 'ok': 1.0,\n",
      " 'opLatencies': {'commands': {'latency': 125227, 'ops': 3405},\n",
      "                 'reads': {'latency': 136132, 'ops': 227},\n",
      "                 'transactions': {'latency': 0, 'ops': 0},\n",
      "                 'writes': {'latency': 116686, 'ops': 252}},\n",
      " 'opReadConcernCounters': {'available': 0,\n",
      "                           'linearizable': 0,\n",
      "                           'local': 0,\n",
      "                           'majority': 0,\n",
      "                           'none': 1885,\n",
      "                           'snapshot': 0},\n",
      " 'opcounters': {'command': 6977,\n",
      "                'delete': 12,\n",
      "                'getmore': 16,\n",
      "                'insert': 218,\n",
      "                'query': 1885,\n",
      "                'update': 76},\n",
      " 'opcountersRepl': {'command': 0,\n",
      "                    'delete': 0,\n",
      "                    'getmore': 0,\n",
      "                    'insert': 0,\n",
      "                    'query': 0,\n",
      "                    'update': 0},\n",
      " 'pid': 4792,\n",
      " 'process': 'C:\\\\Program Files\\\\MongoDB\\\\Server\\\\4.2\\\\bin\\\\mongod.exe',\n",
      " 'storageEngine': {'backupCursorOpen': False,\n",
      "                   'dropPendingIdents': 0,\n",
      "                   'name': 'wiredTiger',\n",
      "                   'oldestRequiredTimestampForCrashRecovery': Timestamp(0, 0),\n",
      "                   'persistent': True,\n",
      "                   'readOnly': False,\n",
      "                   'supportsCommittedReads': True,\n",
      "                   'supportsPendingDrops': True,\n",
      "                   'supportsSnapshotReadConcern': True},\n",
      " 'tcmalloc': {'generic': {'current_allocated_bytes': 84064784,\n",
      "                          'heap_size': 86114304},\n",
      "              'tcmalloc': {'aggressive_memory_decommit': 0,\n",
      "                           'central_cache_free_bytes': 239520,\n",
      "                           'current_total_thread_cache_bytes': 339920,\n",
      "                           'formattedString': '------------------------------------------------\\n'\n",
      "                                              'MALLOC:       84064784 (   80.2 '\n",
      "                                              'MiB) Bytes in use by '\n",
      "                                              'application\\n'\n",
      "                                              'MALLOC: +      1445888 (    1.4 '\n",
      "                                              'MiB) Bytes in page heap '\n",
      "                                              'freelist\\n'\n",
      "                                              'MALLOC: +       239520 (    0.2 '\n",
      "                                              'MiB) Bytes in central cache '\n",
      "                                              'freelist\\n'\n",
      "                                              'MALLOC: +        24192 (    0.0 '\n",
      "                                              'MiB) Bytes in transfer cache '\n",
      "                                              'freelist\\n'\n",
      "                                              'MALLOC: +       339920 (    0.3 '\n",
      "                                              'MiB) Bytes in thread cache '\n",
      "                                              'freelists\\n'\n",
      "                                              'MALLOC: +      2752512 (    2.6 '\n",
      "                                              'MiB) Bytes in malloc metadata\\n'\n",
      "                                              'MALLOC:   ------------\\n'\n",
      "                                              'MALLOC: =     88866816 (   84.8 '\n",
      "                                              'MiB) Actual memory used '\n",
      "                                              '(physical + swap)\\n'\n",
      "                                              'MALLOC: +            0 (    0.0 '\n",
      "                                              'MiB) Bytes released to OS (aka '\n",
      "                                              'unmapped)\\n'\n",
      "                                              'MALLOC:   ------------\\n'\n",
      "                                              'MALLOC: =     88866816 (   84.8 '\n",
      "                                              'MiB) Virtual address space '\n",
      "                                              'used\\n'\n",
      "                                              'MALLOC:\\n'\n",
      "                                              'MALLOC:            '\n",
      "                                              '462              Spans in use\\n'\n",
      "                                              'MALLOC:             '\n",
      "                                              '16              Thread heaps in '\n",
      "                                              'use\\n'\n",
      "                                              'MALLOC:           '\n",
      "                                              '4096              Tcmalloc page '\n",
      "                                              'size\\n'\n",
      "                                              '------------------------------------------------\\n'\n",
      "                                              'Call ReleaseFreeMemory() to '\n",
      "                                              'release freelist memory to the '\n",
      "                                              'OS (via madvise()).\\n'\n",
      "                                              'Bytes released to the OS take '\n",
      "                                              'up virtual address space but no '\n",
      "                                              'physical memory.\\n',\n",
      "                           'max_total_thread_cache_bytes': 1073741824,\n",
      "                           'pageheap_commit_count': 45,\n",
      "                           'pageheap_committed_bytes': 86114304,\n",
      "                           'pageheap_decommit_count': 0,\n",
      "                           'pageheap_free_bytes': 1445888,\n",
      "                           'pageheap_reserve_count': 45,\n",
      "                           'pageheap_scavenge_count': 0,\n",
      "                           'pageheap_total_commit_bytes': 86114304,\n",
      "                           'pageheap_total_decommit_bytes': 0,\n",
      "                           'pageheap_total_reserve_bytes': 86114304,\n",
      "                           'pageheap_unmapped_bytes': 0,\n",
      "                           'spinlock_total_delay_ns': 14089800,\n",
      "                           'thread_cache_free_bytes': 339920,\n",
      "                           'total_free_bytes': 603632,\n",
      "                           'transfer_cache_free_bytes': 24192}},\n",
      " 'trafficRecording': {'running': False},\n",
      " 'transactions': {'currentActive': 0,\n",
      "                  'currentInactive': 0,\n",
      "                  'currentOpen': 0,\n",
      "                  'currentPrepared': 0,\n",
      "                  'retriedCommandsCount': 0,\n",
      "                  'retriedStatementsCount': 0,\n",
      "                  'totalAborted': 0,\n",
      "                  'totalCommitted': 0,\n",
      "                  'totalPrepared': 0,\n",
      "                  'totalPreparedThenAborted': 0,\n",
      "                  'totalPreparedThenCommitted': 0,\n",
      "                  'totalStarted': 0,\n",
      "                  'transactionsCollectionWriteCount': 0},\n",
      " 'transportSecurity': {'1.0': 0, '1.1': 0, '1.2': 0, '1.3': 0, 'unknown': 0},\n",
      " 'twoPhaseCommitCoordinator': {'currentInSteps': {'deletingCoordinatorDoc': 0,\n",
      "                                                  'waitingForDecisionAcks': 0,\n",
      "                                                  'waitingForVotes': 0,\n",
      "                                                  'writingDecision': 0,\n",
      "                                                  'writingParticipantList': 0},\n",
      "                               'totalAbortedTwoPhaseCommit': 0,\n",
      "                               'totalCommittedTwoPhaseCommit': 0,\n",
      "                               'totalCreated': 0,\n",
      "                               'totalStartedTwoPhaseCommit': 0},\n",
      " 'uptime': 764239.0,\n",
      " 'uptimeEstimate': 764239,\n",
      " 'uptimeMillis': 764239132,\n",
      " 'version': '4.2.0',\n",
      " 'wiredTiger': {'async': {'current work queue length': 0,\n",
      "                          'maximum work queue length': 0,\n",
      "                          'number of allocation state races': 0,\n",
      "                          'number of flush calls': 0,\n",
      "                          'number of operation slots viewed for allocation': 0,\n",
      "                          'number of times operation allocation failed': 0,\n",
      "                          'number of times worker found no work': 0,\n",
      "                          'total allocations': 0,\n",
      "                          'total compact calls': 0,\n",
      "                          'total insert calls': 0,\n",
      "                          'total remove calls': 0,\n",
      "                          'total search calls': 0,\n",
      "                          'total update calls': 0},\n",
      "                'block-manager': {'blocks pre-loaded': 637,\n",
      "                                  'blocks read': 464,\n",
      "                                  'blocks written': 1553,\n",
      "                                  'bytes read': 2433024,\n",
      "                                  'bytes written': 11964416,\n",
      "                                  'bytes written for checkpoint': 11964416,\n",
      "                                  'mapped blocks read': 0,\n",
      "                                  'mapped bytes read': 0},\n",
      "                'cache': {'application threads page read from disk to cache count': 40,\n",
      "                          'application threads page read from disk to cache time (usecs)': 22255,\n",
      "                          'application threads page write from cache to disk count': 823,\n",
      "                          'application threads page write from cache to disk time (usecs)': 71511,\n",
      "                          'bytes belonging to page images in the cache': 2148026,\n",
      "                          'bytes belonging to the cache overflow table in the cache': 182,\n",
      "                          'bytes currently in the cache': 2600695,\n",
      "                          'bytes dirty in the cache cumulative': 10532324,\n",
      "                          'bytes not belonging to page images in the cache': 452669,\n",
      "                          'bytes read into cache': 1988873,\n",
      "                          'bytes written from cache': 6709152,\n",
      "                          'cache overflow cursor application thread wait time (usecs)': 0,\n",
      "                          'cache overflow cursor internal thread wait time (usecs)': 0,\n",
      "                          'cache overflow score': 0,\n",
      "                          'cache overflow table entries': 0,\n",
      "                          'cache overflow table insert calls': 0,\n",
      "                          'cache overflow table max on-disk size': 0,\n",
      "                          'cache overflow table on-disk size': 0,\n",
      "                          'cache overflow table remove calls': 0,\n",
      "                          'checkpoint blocked page eviction': 0,\n",
      "                          'eviction calls to get a page': 724,\n",
      "                          'eviction calls to get a page found queue empty': 706,\n",
      "                          'eviction calls to get a page found queue empty after locking': 0,\n",
      "                          'eviction currently operating in aggressive mode': 0,\n",
      "                          'eviction empty score': 0,\n",
      "                          'eviction passes of a file': 0,\n",
      "                          'eviction server candidate queue empty when topping up': 0,\n",
      "                          'eviction server candidate queue not empty when topping up': 0,\n",
      "                          'eviction server evicting pages': 0,\n",
      "                          'eviction server slept, because we did not make progress with eviction': 1947,\n",
      "                          'eviction server unable to reach eviction goal': 0,\n",
      "                          'eviction server waiting for a leaf page': 5,\n",
      "                          'eviction server waiting for an internal page sleep (usec)': 0,\n",
      "                          'eviction server waiting for an internal page yields': 0,\n",
      "                          'eviction state': 128,\n",
      "                          'eviction walk target pages histogram - 0-9': 0,\n",
      "                          'eviction walk target pages histogram - 10-31': 0,\n",
      "                          'eviction walk target pages histogram - 128 and higher': 0,\n",
      "                          'eviction walk target pages histogram - 32-63': 0,\n",
      "                          'eviction walk target pages histogram - 64-128': 0,\n",
      "                          'eviction walks abandoned': 0,\n",
      "                          'eviction walks gave up because they restarted their walk twice': 0,\n",
      "                          'eviction walks gave up because they saw too many pages and found no candidates': 0,\n",
      "                          'eviction walks gave up because they saw too many pages and found too few candidates': 0,\n",
      "                          'eviction walks reached end of tree': 0,\n",
      "                          'eviction walks started from root of tree': 0,\n",
      "                          'eviction walks started from saved location in tree': 0,\n",
      "                          'eviction worker thread active': 4,\n",
      "                          'eviction worker thread created': 0,\n",
      "                          'eviction worker thread evicting pages': 8,\n",
      "                          'eviction worker thread removed': 0,\n",
      "                          'eviction worker thread stable number': 0,\n",
      "                          'files with active eviction walks': 0,\n",
      "                          'files with new eviction walks started': 0,\n",
      "                          'force re-tuning of eviction workers once in a while': 0,\n",
      "                          'forced eviction - pages evicted that were clean count': 0,\n",
      "                          'forced eviction - pages evicted that were clean time (usecs)': 0,\n",
      "                          'forced eviction - pages evicted that were dirty count': 7,\n",
      "                          'forced eviction - pages evicted that were dirty time (usecs)': 997,\n",
      "                          'forced eviction - pages selected because of too many deleted items count': 15,\n",
      "                          'forced eviction - pages selected count': 7,\n",
      "                          'forced eviction - pages selected unable to be evicted count': 0,\n",
      "                          'forced eviction - pages selected unable to be evicted time': 0,\n",
      "                          'hazard pointer blocked page eviction': 0,\n",
      "                          'hazard pointer check calls': 15,\n",
      "                          'hazard pointer check entries walked': 0,\n",
      "                          'hazard pointer maximum array length': 0,\n",
      "                          'in-memory page passed criteria to be split': 0,\n",
      "                          'in-memory page splits': 0,\n",
      "                          'internal pages evicted': 0,\n",
      "                          'internal pages split during eviction': 0,\n",
      "                          'leaf pages split during eviction': 0,\n",
      "                          'maximum bytes configured': 7970226176.0,\n",
      "                          'maximum page size at eviction': 0,\n",
      "                          'modified pages evicted': 15,\n",
      "                          'modified pages evicted by application threads': 0,\n",
      "                          'operations timed out waiting for space in cache': 0,\n",
      "                          'overflow pages read into cache': 0,\n",
      "                          'page split during eviction deepened the tree': 0,\n",
      "                          'page written requiring cache overflow records': 0,\n",
      "                          'pages currently held in the cache': 97,\n",
      "                          'pages evicted by application threads': 0,\n",
      "                          'pages queued for eviction': 0,\n",
      "                          'pages queued for eviction post lru sorting': 0,\n",
      "                          'pages queued for urgent eviction': 15,\n",
      "                          'pages queued for urgent eviction during walk': 0,\n",
      "                          'pages read into cache': 82,\n",
      "                          'pages read into cache after truncate': 19,\n",
      "                          'pages read into cache after truncate in prepare state': 0,\n",
      "                          'pages read into cache requiring cache overflow entries': 0,\n",
      "                          'pages read into cache requiring cache overflow for checkpoint': 0,\n",
      "                          'pages read into cache skipping older cache overflow entries': 0,\n",
      "                          'pages read into cache with skipped cache overflow entries needed later': 0,\n",
      "                          'pages read into cache with skipped cache overflow entries needed later by checkpoint': 0,\n",
      "                          'pages requested from the cache': 70719,\n",
      "                          'pages seen by eviction walk': 0,\n",
      "                          'pages selected for eviction unable to be evicted': 0,\n",
      "                          'pages walked for eviction': 0,\n",
      "                          'pages written from cache': 824,\n",
      "                          'pages written requiring in-memory restoration': 7,\n",
      "                          'percentage overhead': 8,\n",
      "                          'tracked bytes belonging to internal pages in the cache': 121323,\n",
      "                          'tracked bytes belonging to leaf pages in the cache': 2479372,\n",
      "                          'tracked dirty bytes in the cache': 0,\n",
      "                          'tracked dirty pages in the cache': 0,\n",
      "                          'unmodified pages evicted': 0},\n",
      "                'capacity': {'background fsync file handles considered': 0,\n",
      "                             'background fsync file handles synced': 0,\n",
      "                             'background fsync time (msecs)': 0,\n",
      "                             'bytes read': 868352,\n",
      "                             'bytes written for checkpoint': 6131549,\n",
      "                             'bytes written for eviction': 0,\n",
      "                             'bytes written for log': 1240964608.0,\n",
      "                             'bytes written total': 1247096157.0,\n",
      "                             'threshold to call fsync': 0,\n",
      "                             'time waiting due to total capacity (usecs)': 0,\n",
      "                             'time waiting during checkpoint (usecs)': 0,\n",
      "                             'time waiting during eviction (usecs)': 0,\n",
      "                             'time waiting during logging (usecs)': 0,\n",
      "                             'time waiting during read (usecs)': 0},\n",
      "                'concurrentTransactions': {'read': {'available': 127,\n",
      "                                                    'out': 1,\n",
      "                                                    'totalTickets': 128},\n",
      "                                           'write': {'available': 128,\n",
      "                                                     'out': 0,\n",
      "                                                     'totalTickets': 128}},\n",
      "                'connection': {'auto adjusting condition resets': 1147,\n",
      "                               'auto adjusting condition wait calls': 3139149,\n",
      "                               'detected system time went backwards': 20,\n",
      "                               'files currently open': 48,\n",
      "                               'memory allocations': 12327472,\n",
      "                               'memory frees': 12322527,\n",
      "                               'memory re-allocations': 1595272,\n",
      "                               'pthread mutex condition wait calls': 8604029,\n",
      "                               'pthread mutex shared lock read-lock calls': 5513126,\n",
      "                               'pthread mutex shared lock write-lock calls': 524771,\n",
      "                               'total fsync I/Os': 1018,\n",
      "                               'total read I/Os': 2010,\n",
      "                               'total write I/Os': 2031},\n",
      "                'cursor': {'cached cursor count': 11,\n",
      "                           'cursor bulk loaded cursor insert calls': 0,\n",
      "                           'cursor close calls that result in cache': 21839,\n",
      "                           'cursor create calls': 521,\n",
      "                           'cursor insert calls': 982,\n",
      "                           'cursor insert key and value bytes': 394140,\n",
      "                           'cursor modify calls': 4,\n",
      "                           'cursor modify key and value bytes affected': 804,\n",
      "                           'cursor modify value bytes modified': 16,\n",
      "                           'cursor next calls': 38772,\n",
      "                           'cursor operation restarted': 0,\n",
      "                           'cursor prev calls': 8386,\n",
      "                           'cursor remove calls': 96,\n",
      "                           'cursor remove key bytes removed': 2402,\n",
      "                           'cursor reserve calls': 0,\n",
      "                           'cursor reset calls': 83946,\n",
      "                           'cursor search calls': 45548,\n",
      "                           'cursor search near calls': 8952,\n",
      "                           'cursor sweep buckets': 100270,\n",
      "                           'cursor sweep cursors closed': 4,\n",
      "                           'cursor sweep cursors examined': 526,\n",
      "                           'cursor sweeps': 16711,\n",
      "                           'cursor truncate calls': 0,\n",
      "                           'cursor update calls': 0,\n",
      "                           'cursor update key and value bytes': 0,\n",
      "                           'cursor update value size change': 0,\n",
      "                           'cursors reused from cache': 21682,\n",
      "                           'open cursor count': 21},\n",
      "                'data-handle': {'connection data handle size': 424,\n",
      "                                'connection data handles currently active': 88,\n",
      "                                'connection sweep candidate became referenced': 0,\n",
      "                                'connection sweep dhandles closed': 4,\n",
      "                                'connection sweep dhandles removed from hash list': 274,\n",
      "                                'connection sweep time-of-death sets': 18849,\n",
      "                                'connection sweeps': 52316,\n",
      "                                'session dhandles swept': 3284,\n",
      "                                'session sweep attempts': 356},\n",
      "                'lock': {'checkpoint lock acquisitions': 8720,\n",
      "                         'checkpoint lock application thread wait time (usecs)': 0,\n",
      "                         'checkpoint lock internal thread wait time (usecs)': 0,\n",
      "                         'dhandle lock application thread time waiting (usecs)': 0,\n",
      "                         'dhandle lock internal thread time waiting (usecs)': 0,\n",
      "                         'dhandle read lock acquisitions': 2092978,\n",
      "                         'dhandle write lock acquisitions': 640,\n",
      "                         'durable timestamp queue lock application thread time waiting (usecs)': 0,\n",
      "                         'durable timestamp queue lock internal thread time waiting (usecs)': 0,\n",
      "                         'durable timestamp queue read lock acquisitions': 0,\n",
      "                         'durable timestamp queue write lock acquisitions': 0,\n",
      "                         'metadata lock acquisitions': 156,\n",
      "                         'metadata lock application thread wait time (usecs)': 0,\n",
      "                         'metadata lock internal thread wait time (usecs)': 0,\n",
      "                         'read timestamp queue lock application thread time waiting (usecs)': 0,\n",
      "                         'read timestamp queue lock internal thread time waiting (usecs)': 0,\n",
      "                         'read timestamp queue read lock acquisitions': 0,\n",
      "                         'read timestamp queue write lock acquisitions': 0,\n",
      "                         'schema lock acquisitions': 250,\n",
      "                         'schema lock application thread wait time (usecs)': 0,\n",
      "                         'schema lock internal thread wait time (usecs)': 0,\n",
      "                         'table lock application thread time waiting for the table lock (usecs)': 0,\n",
      "                         'table lock internal thread time waiting for the table lock (usecs)': 0,\n",
      "                         'table read lock acquisitions': 0,\n",
      "                         'table write lock acquisitions': 57,\n",
      "                         'txn global lock application thread time waiting (usecs)': 0,\n",
      "                         'txn global lock internal thread time waiting (usecs)': 0,\n",
      "                         'txn global read lock acquisitions': 818,\n",
      "                         'txn global write lock acquisitions': 563},\n",
      "                'log': {'busy returns attempting to switch slots': 31,\n",
      "                        'force archive time sleeping (usecs)': 0,\n",
      "                        'log bytes of payload data': 220765,\n",
      "                        'log bytes written': 279424,\n",
      "                        'log files manually zero-filled': 0,\n",
      "                        'log flush operations': 5198187,\n",
      "                        'log force write operations': 5721525,\n",
      "                        'log force write operations skipped': 5721295,\n",
      "                        'log records compressed': 126,\n",
      "                        'log records not compressed': 286,\n",
      "                        'log records too small to compress': 377,\n",
      "                        'log release advances write LSN': 123,\n",
      "                        'log scan operations': 6,\n",
      "                        'log scan records requiring two reads': 0,\n",
      "                        'log server thread advances write LSN': 233,\n",
      "                        'log server thread write LSN walk skipped': 527621,\n",
      "                        'log sync operations': 354,\n",
      "                        'log sync time duration (usecs)': 739996,\n",
      "                        'log sync_dir operations': 1,\n",
      "                        'log sync_dir time duration (usecs)': 0,\n",
      "                        'log write operations': 789,\n",
      "                        'logging bytes consolidated': 278912,\n",
      "                        'maximum log file size': 104857600,\n",
      "                        'number of pre-allocated log files to create': 2,\n",
      "                        'pre-allocated log files not ready and missed': 1,\n",
      "                        'pre-allocated log files prepared': 2,\n",
      "                        'pre-allocated log files used': 0,\n",
      "                        'records processed by log scan': 13,\n",
      "                        'slot close lost race': 0,\n",
      "                        'slot close unbuffered waits': 0,\n",
      "                        'slot closures': 356,\n",
      "                        'slot join atomic update races': 0,\n",
      "                        'slot join calls atomic updates raced': 0,\n",
      "                        'slot join calls did not yield': 789,\n",
      "                        'slot join calls found active slot closed': 0,\n",
      "                        'slot join calls slept': 0,\n",
      "                        'slot join calls yielded': 0,\n",
      "                        'slot join found active slot closed': 0,\n",
      "                        'slot joins yield time (usecs)': 0,\n",
      "                        'slot transitions unable to find free slot': 0,\n",
      "                        'slot unbuffered writes': 0,\n",
      "                        'total in-memory size of compressed records': 322599,\n",
      "                        'total log buffer size': 33554432,\n",
      "                        'total size of compressed records': 125762,\n",
      "                        'written slots coalesced': 0,\n",
      "                        'yields waiting for previous log file close': 0},\n",
      "                'perf': {'file system read latency histogram (bucket 1) - 10-49ms': 1,\n",
      "                         'file system read latency histogram (bucket 2) - 50-99ms': 0,\n",
      "                         'file system read latency histogram (bucket 3) - 100-249ms': 0,\n",
      "                         'file system read latency histogram (bucket 4) - 250-499ms': 0,\n",
      "                         'file system read latency histogram (bucket 5) - 500-999ms': 0,\n",
      "                         'file system read latency histogram (bucket 6) - 1000ms+': 0,\n",
      "                         'file system write latency histogram (bucket 1) - 10-49ms': 0,\n",
      "                         'file system write latency histogram (bucket 2) - 50-99ms': 0,\n",
      "                         'file system write latency histogram (bucket 3) - 100-249ms': 0,\n",
      "                         'file system write latency histogram (bucket 4) - 250-499ms': 0,\n",
      "                         'file system write latency histogram (bucket 5) - 500-999ms': 0,\n",
      "                         'file system write latency histogram (bucket 6) - 1000ms+': 0,\n",
      "                         'operation read latency histogram (bucket 1) - 100-249us': 0,\n",
      "                         'operation read latency histogram (bucket 2) - 250-499us': 1,\n",
      "                         'operation read latency histogram (bucket 3) - 500-999us': 10,\n",
      "                         'operation read latency histogram (bucket 4) - 1000-9999us': 1,\n",
      "                         'operation read latency histogram (bucket 5) - 10000us+': 0,\n",
      "                         'operation write latency histogram (bucket 1) - 100-249us': 0,\n",
      "                         'operation write latency histogram (bucket 2) - 250-499us': 0,\n",
      "                         'operation write latency histogram (bucket 3) - 500-999us': 17,\n",
      "                         'operation write latency histogram (bucket 4) - 1000-9999us': 3,\n",
      "                         'operation write latency histogram (bucket 5) - 10000us+': 0},\n",
      "                'reconciliation': {'fast-path pages deleted': 0,\n",
      "                                   'page reconciliation calls': 897,\n",
      "                                   'page reconciliation calls for eviction': 12,\n",
      "                                   'pages deleted': 66,\n",
      "                                   'split bytes currently awaiting free': 0,\n",
      "                                   'split objects currently awaiting free': 0},\n",
      "                'session': {'open session count': 18,\n",
      "                            'session query timestamp calls': 0,\n",
      "                            'table alter failed calls': 0,\n",
      "                            'table alter successful calls': 0,\n",
      "                            'table alter unchanged and skipped': 0,\n",
      "                            'table compact failed calls': 0,\n",
      "                            'table compact successful calls': 0,\n",
      "                            'table create failed calls': 0,\n",
      "                            'table create successful calls': 9,\n",
      "                            'table drop failed calls': 0,\n",
      "                            'table drop successful calls': 4,\n",
      "                            'table import failed calls': 0,\n",
      "                            'table import successful calls': 0,\n",
      "                            'table rebalance failed calls': 0,\n",
      "                            'table rebalance successful calls': 0,\n",
      "                            'table rename failed calls': 0,\n",
      "                            'table rename successful calls': 0,\n",
      "                            'table salvage failed calls': 0,\n",
      "                            'table salvage successful calls': 0,\n",
      "                            'table truncate failed calls': 0,\n",
      "                            'table truncate successful calls': 0,\n",
      "                            'table verify failed calls': 0,\n",
      "                            'table verify successful calls': 0},\n",
      "                'snapshot-window-settings': {'cache pressure percentage threshold': 50,\n",
      "                                             'current available snapshots window size in seconds': 0,\n",
      "                                             'current cache pressure percentage': 0,\n",
      "                                             'latest majority snapshot timestamp available': 'Dec '\n",
      "                                                                                             '31 '\n",
      "                                                                                             '19:00:00:0',\n",
      "                                             'max target available snapshots window size in seconds': 5,\n",
      "                                             'oldest majority snapshot timestamp available': 'Dec '\n",
      "                                                                                             '31 '\n",
      "                                                                                             '19:00:00:0',\n",
      "                                             'target available snapshots window size in seconds': 5,\n",
      "                                             'total number of SnapshotTooOld errors': 0},\n",
      "                'thread-state': {'active filesystem fsync calls': 0,\n",
      "                                 'active filesystem read calls': 0,\n",
      "                                 'active filesystem write calls': 0},\n",
      "                'thread-yield': {'application thread time evicting (usecs)': 0,\n",
      "                                 'application thread time waiting for cache (usecs)': 0,\n",
      "                                 'connection close blocked waiting for transaction state stabilization': 0,\n",
      "                                 'connection close yielded for lsm manager shutdown': 0,\n",
      "                                 'data handle lock yielded': 0,\n",
      "                                 'get reference for page index and slot time sleeping (usecs)': 0,\n",
      "                                 'log server sync yielded for log write': 0,\n",
      "                                 'page access yielded due to prepare state change': 0,\n",
      "                                 'page acquire busy blocked': 0,\n",
      "                                 'page acquire eviction blocked': 0,\n",
      "                                 'page acquire locked blocked': 0,\n",
      "                                 'page acquire read blocked': 0,\n",
      "                                 'page acquire time sleeping (usecs)': 0,\n",
      "                                 'page delete rollback time sleeping for state change (usecs)': 0,\n",
      "                                 'page reconciliation yielded due to child modification': 0},\n",
      "                'transaction': {'Number of prepared updates': 0,\n",
      "                                'Number of prepared updates added to cache overflow': 0,\n",
      "                                'Number of prepared updates resolved': 0,\n",
      "                                'durable timestamp queue entries walked': 0,\n",
      "                                'durable timestamp queue insert to empty': 0,\n",
      "                                'durable timestamp queue inserts to head': 0,\n",
      "                                'durable timestamp queue inserts total': 0,\n",
      "                                'durable timestamp queue length': 0,\n",
      "                                'number of named snapshots created': 0,\n",
      "                                'number of named snapshots dropped': 0,\n",
      "                                'prepared transactions': 0,\n",
      "                                'prepared transactions committed': 0,\n",
      "                                'prepared transactions currently active': 0,\n",
      "                                'prepared transactions rolled back': 0,\n",
      "                                'query timestamp calls': 522871,\n",
      "                                'read timestamp queue entries walked': 0,\n",
      "                                'read timestamp queue insert to empty': 0,\n",
      "                                'read timestamp queue inserts to head': 0,\n",
      "                                'read timestamp queue inserts total': 0,\n",
      "                                'read timestamp queue length': 0,\n",
      "                                'rollback to stable calls': 0,\n",
      "                                'rollback to stable updates aborted': 0,\n",
      "                                'rollback to stable updates removed from cache overflow': 0,\n",
      "                                'set timestamp calls': 0,\n",
      "                                'set timestamp durable calls': 0,\n",
      "                                'set timestamp durable updates': 0,\n",
      "                                'set timestamp oldest calls': 0,\n",
      "                                'set timestamp oldest updates': 0,\n",
      "                                'set timestamp stable calls': 0,\n",
      "                                'set timestamp stable updates': 0,\n",
      "                                'transaction begins': 21685,\n",
      "                                'transaction checkpoint currently running': 0,\n",
      "                                'transaction checkpoint generation': 157,\n",
      "                                'transaction checkpoint max time (msecs)': 114,\n",
      "                                'transaction checkpoint min time (msecs)': 5,\n",
      "                                'transaction checkpoint most recent time (msecs)': 44,\n",
      "                                'transaction checkpoint scrub dirty target': 0,\n",
      "                                'transaction checkpoint scrub time (msecs)': 0,\n",
      "                                'transaction checkpoint total time (msecs)': 3353,\n",
      "                                'transaction checkpoints': 8720,\n",
      "                                'transaction checkpoints skipped because database was clean': 8564,\n",
      "                                'transaction failures due to cache overflow': 0,\n",
      "                                'transaction fsync calls for checkpoint after allocating the transaction ID': 156,\n",
      "                                'transaction fsync duration for checkpoint after allocating the transaction ID (usecs)': 0,\n",
      "                                'transaction range of IDs currently pinned': 0,\n",
      "                                'transaction range of IDs currently pinned by a checkpoint': 0,\n",
      "                                'transaction range of IDs currently pinned by named snapshots': 0,\n",
      "                                'transaction range of timestamps currently pinned': 0,\n",
      "                                'transaction range of timestamps pinned by a checkpoint': 0,\n",
      "                                'transaction range of timestamps pinned by the oldest active read timestamp': 0,\n",
      "                                'transaction range of timestamps pinned by the oldest timestamp': 0,\n",
      "                                'transaction read timestamp of the oldest active reader': 0,\n",
      "                                'transaction sync calls': 0,\n",
      "                                'transactions committed': 364,\n",
      "                                'transactions rolled back': 21322,\n",
      "                                'update conflicts': 0},\n",
      "                'uri': 'statistics:'}}\n"
     ],
     "output_type": "stream"
    },
    {
     "data": {
      "text/plain": "MongoClient(host=['localhost:27017'], document_class=dict, tz_aware=False, connect=True)"
     },
     "metadata": {},
     "output_type": "execute_result",
     "execution_count": 1
    }
   ],
   "source": [
    "import pymongo\n",
    "from pymongo import MongoClient\n",
    "# pprint library is used to make the output easier to read(pretty)\n",
    "from pprint import pprint\n",
    "# connect to MongoDB\n",
    "try:\n",
    " conn = MongoClient()\n",
    " db=conn.admin\n",
    " # Issue the serverStatus command and print the results\n",
    " serverStatusResult=db.command(\"serverStatus\")\n",
    " print(\"connected successfully!\")\n",
    " pprint(serverStatusResult)\n",
    "except :\n",
    "   print(\"Could not connect to MongoDB\"  )\n",
    "conn\n"
   ],
   "metadata": {
    "collapsed": false,
    "pycharm": {
     "name": "#%%\n",
     "is_executing": false
    }
   }
  },
  {
   "cell_type": "markdown",
   "source": [
    "# 2. The Database, Collections and Documents:\n",
    "MongoDB stores JSON data in Binary JSON documents called BSON and their representation varies by programming language.\n",
    "An example of a JSON document is as follows:\n",
    "\n"
   ],
   "metadata": {
    "collapsed": false
   }
  },
  {
   "cell_type": "raw",
   "source": [
    "{\n",
    "  \"_id\" : ObjectId(\"545a414c7907b2a255b156c5\"),\n",
    "  \"Name\" : \"Sean Connery\",\n",
    "  \"Nationality\" : \"Great Britain\",\n",
    "  \"BirthDate\" : ISODate(\"1930-08-25T00:00:00Z\"),\n",
    "  \"BirthYear\" : 1930,\n",
    "  \"Occupation\" : [\n",
    "    \"Actor\",\n",
    "    \"Director\",\n",
    "    \"Producer\"\n",
    "  ],\n",
    "  \"Movie\" : [\n",
    "    {\n",
    "      \"_id\" : ObjectId(\"545a5f167907b2a255b156c7\"),\n",
    "      \"Title\" : \"Dr. No\"\n",
    "    },\n",
    "    {\n",
    "      \"_id\" : ObjectId(\"545a5f317907b2a255b156c8\"),\n",
    "      \"Title\" : \"From Russia with Love\"\n",
    "    },\n",
    "    {\n",
    "      \"_id\" : ObjectId(\"545a5ed67907b2a255b156c6\"),\n",
    "      \"Title\" : \"Never Say Never Again\"\n",
    "    }\n",
    "  ],\n",
    "  \"BirthPlace\" : {\n",
    "    \"Country\" : \"United Kingdom, Scotland\",\n",
    "    \"City\" : \"Edinburgh\"\n",
    "  }\n",
    "}\n",
    "\n"
   ],
   "metadata": {
    "collapsed": false
   }
  },
  {
   "cell_type": "markdown",
   "source": [
    "From the above example, it is evident that documents are not just key/value pairs but can include arrays and subdocuments.\n",
    " It supports various data types like geospatial, decimal, and ISODate.\n",
    " Internally MongoDB stores a binary representation of JSON known as BSON.\n",
    "  This allows MongoDB to provide data types like decimal that are not defined in the JSON specification.\n",
    "   \n",
    "The SQL/RDBMS equivalent of a MongoDB Document is a row/record.\n",
    "\n",
    "The equivalent of an SQL table is the **MongoDB Collection**\n",
    "A collection in MongoDB is a container for documents. A database is the container for collections.\n",
    "Compared to relational databases, collections are similar to tables, and documents similar to records, but with one big difference: every record in a table has the same fields in the same order, whereas each document in a collection can have completely different fields from the other documents.\n",
    "\n",
    "There are many advantages to storing data in documents such as dynamic, flexible schema, and the ability to store arrays from simple Python scripts.\n"
   ],
   "metadata": {
    "collapsed": false,
    "pycharm": {
     "name": "#%% md\n"
    }
   }
  },
  {
   "cell_type": "markdown",
   "source": [
    "** Creating a MongoDB database**: Mongodb creates databases and collections automatically if they don't already exist.\n",
    " A single instance of MongoDB can support multiple independent databases. When working with PyMongo you access databases using attribute style access:"
   ],
   "metadata": {
    "collapsed": false
   }
  },
  {
   "cell_type": "code",
   "execution_count": 2,
   "outputs": [
    {
     "data": {
      "text/plain": "Database(MongoClient(host=['localhost:27017'], document_class=dict, tz_aware=False, connect=True), 'mydb')"
     },
     "metadata": {},
     "output_type": "execute_result",
     "execution_count": 2
    }
   ],
   "source": [
    "db = conn.mydb\n",
    "db\n",
    "\n",
    "\n"
   ],
   "metadata": {
    "collapsed": false,
    "pycharm": {
     "name": "#%%\n",
     "is_executing": false
    }
   }
  },
  {
   "cell_type": "markdown",
   "source": [
    "To view the names of the available databases, type:"
   ],
   "metadata": {
    "collapsed": false,
    "pycharm": {
     "name": "#%% md\n"
    }
   }
  },
  {
   "cell_type": "code",
   "execution_count": 3,
   "outputs": [
    {
     "name": "stderr",
     "text": [
      "<ipython-input-3-6d396ff464c9>:1: DeprecationWarning: database_names is deprecated. Use list_database_names instead.\n",
      "  conn.database_names()\n"
     ],
     "output_type": "stream"
    },
    {
     "data": {
      "text/plain": "['admin',\n 'assignment1db',\n 'assignment2db',\n 'assignment3',\n 'config',\n 'gamedb',\n 'local',\n 'moviedb',\n 'mydb',\n 'nyse',\n 'testdb',\n 'twitter_search']"
     },
     "metadata": {},
     "output_type": "execute_result",
     "execution_count": 3
    }
   ],
   "source": [
    "conn.database_names()\n",
    "\n"
   ],
   "metadata": {
    "collapsed": false,
    "pycharm": {
     "name": "#%%\n",
     "is_executing": false
    }
   }
  },
  {
   "cell_type": "markdown",
   "source": [
    "However, this will  not display the databases with none or empty collections.\n",
    "\n",
    "**Creating a MongoDB Collection:** A collection is a group of documents stored in MongoDB, and is basically the equivalent of a table in a relational database. \n",
    "\n",
    "Creating a collection in PyMongo works the same as creating a database:\n",
    "\n"
   ],
   "metadata": {
    "collapsed": false
   }
  },
  {
   "cell_type": "code",
   "execution_count": 4,
   "outputs": [
    {
     "data": {
      "text/plain": "Collection(Database(MongoClient(host=['localhost:27017'], document_class=dict, tz_aware=False, connect=True), 'mydb'), 'my_collection')"
     },
     "metadata": {},
     "output_type": "execute_result",
     "execution_count": 4
    }
   ],
   "source": [
    "collection = db.my_collection\n",
    "collection\n",
    "\n",
    "\n"
   ],
   "metadata": {
    "collapsed": false,
    "pycharm": {
     "name": "#%%\n",
     "is_executing": false
    }
   }
  },
  {
   "cell_type": "markdown",
   "source": [
    "**Creating a MongoDB Document:**\n",
    "MongoDB stores structured data as JSON with  dynamic schemas (called BSON), instead of predefined schemas. An element of data is called a document, and documents are stored in collections. One collection may have any number of documents.\n",
    "When using Pymongo, documents are Python dictionaries that can have strings as keys and can contain various primitive types (int, float,unicode, datetime) as well as other documents (Python dictionaries) and arrays (Python lists).\n",
    "To insert data into MongoDB, we have to create a dictionary and call .insert() on the collection object:\n"
   ],
   "metadata": {
    "collapsed": false
   }
  },
  {
   "cell_type": "code",
   "execution_count": 5,
   "outputs": [],
   "source": [
    "doc = {\"fname\":\"Ashwin\",\"lname\":\"Lakshman\",\"insta\":\"@ashwinlakshman\"}"
   ],
   "metadata": {
    "collapsed": false,
    "pycharm": {
     "name": "#%%\n",
     "is_executing": false
    }
   }
  },
  {
   "cell_type": "markdown",
   "source": [
    "Next, the document needs to be inserted into the collection:\n",
    "\n"
   ],
   "metadata": {
    "collapsed": false
   }
  },
  {
   "cell_type": "code",
   "execution_count": 6,
   "outputs": [
    {
     "name": "stderr",
     "text": [
      "<ipython-input-6-27d20196f55d>:1: DeprecationWarning: insert is deprecated. Use insert_one or insert_many instead.\n",
      "  collection.insert(doc)\n"
     ],
     "output_type": "stream"
    },
    {
     "data": {
      "text/plain": "ObjectId('5ea3ac4f0fee33e9a1859bd1')"
     },
     "metadata": {},
     "output_type": "execute_result",
     "execution_count": 6
    }
   ],
   "source": [
    "collection.insert(doc)\n",
    "\n",
    "\n"
   ],
   "metadata": {
    "collapsed": false,
    "pycharm": {
     "name": "#%%\n",
     "is_executing": false
    }
   }
  },
  {
   "cell_type": "markdown",
   "source": [
    "We have now successfully created a document inside a MongoDB collection!\n",
    "\n",
    "\n",
    "# 3. CRUD Operations\n",
    "\n",
    "Before we begin with the basic CRUD operations, let’s make use of real world data to make this tutorial more understandable. We will make use of the Tweepy API to collect data from Twitter. Now let’s pull the first five pages delated to Big Data."
   ],
   "metadata": {
    "collapsed": false
   }
  },
  {
   "cell_type": "code",
   "execution_count": 7,
   "outputs": [
    {
     "data": {
      "text/plain": "[Status(_api=<tweepy.api.API object at 0x000002DF37904F70>, _json={'created_at': 'Sat Apr 25 03:19:32 +0000 2020', 'id': 1253886332499345420, 'id_str': '1253886332499345420', 'text': 'RT @IAM__Network: Early digital transformation efforts pay dividends as business continuity plans hold strong – Which-50 \\n\\nREAD MORE: https…', 'truncated': False, 'entities': {'hashtags': [], 'symbols': [], 'user_mentions': [{'screen_name': 'IAM__Network', 'name': 'IAM Platform', 'id': 226310002, 'id_str': '226310002', 'indices': [3, 16]}], 'urls': []}, 'metadata': {'iso_language_code': 'en', 'result_type': 'recent'}, 'source': '<a href=\"https://google.com\" rel=\"nofollow\">digital transformation</a>', 'in_reply_to_status_id': None, 'in_reply_to_status_id_str': None, 'in_reply_to_user_id': None, 'in_reply_to_user_id_str': None, 'in_reply_to_screen_name': None, 'user': {'id': 1064218391920214016, 'id_str': '1064218391920214016', 'name': 'digital transformation', 'screen_name': 'digitaltransf11', 'location': '', 'description': 'hi I’m a good bot :: I keep u posted about digital transformation', 'url': None, 'entities': {'description': {'urls': []}}, 'protected': False, 'followers_count': 1746, 'friends_count': 40, 'listed_count': 31, 'created_at': 'Sun Nov 18 18:06:51 +0000 2018', 'favourites_count': 1, 'utc_offset': None, 'time_zone': None, 'geo_enabled': False, 'verified': False, 'statuses_count': 62082, 'lang': None, 'contributors_enabled': False, 'is_translator': False, 'is_translation_enabled': False, 'profile_background_color': 'F5F8FA', 'profile_background_image_url': None, 'profile_background_image_url_https': None, 'profile_background_tile': False, 'profile_image_url': 'http://pbs.twimg.com/profile_images/1064235369665835008/Ey7qsA0I_normal.jpg', 'profile_image_url_https': 'https://pbs.twimg.com/profile_images/1064235369665835008/Ey7qsA0I_normal.jpg', 'profile_link_color': '1DA1F2', 'profile_sidebar_border_color': 'C0DEED', 'profile_sidebar_fill_color': 'DDEEF6', 'profile_text_color': '333333', 'profile_use_background_image': True, 'has_extended_profile': False, 'default_profile': True, 'default_profile_image': False, 'following': False, 'follow_request_sent': False, 'notifications': False, 'translator_type': 'none'}, 'geo': None, 'coordinates': None, 'place': None, 'contributors': None, 'retweeted_status': {'created_at': 'Sat Apr 25 03:05:16 +0000 2020', 'id': 1253882740753252354, 'id_str': '1253882740753252354', 'text': 'Early digital transformation efforts pay dividends as business continuity plans hold strong – Which-50 \\n\\nREAD MORE:… https://t.co/PUpL7XGYJY', 'truncated': True, 'entities': {'hashtags': [], 'symbols': [], 'user_mentions': [], 'urls': [{'url': 'https://t.co/PUpL7XGYJY', 'expanded_url': 'https://twitter.com/i/web/status/1253882740753252354', 'display_url': 'twitter.com/i/web/status/1…', 'indices': [117, 140]}]}, 'metadata': {'iso_language_code': 'en', 'result_type': 'recent'}, 'source': '<a href=\"https://www.blog.iammarketingmedia.com\" rel=\"nofollow\">IAMBLOG2TWITTER</a>', 'in_reply_to_status_id': None, 'in_reply_to_status_id_str': None, 'in_reply_to_user_id': None, 'in_reply_to_user_id_str': None, 'in_reply_to_screen_name': None, 'user': {'id': 226310002, 'id_str': '226310002', 'name': 'IAM Platform', 'screen_name': 'IAM__Network', 'location': 'Worldwide', 'description': 'Curation | Tools | Tips | Services\\n\\nIAM Platform powers IAM Network:\\n\\nGO: https://t.co/OJVc7LULBT\\n\\nBlog | Social | Podcast | Code Trove', 'url': 'https://t.co/T1FCdoOFoB', 'entities': {'url': {'urls': [{'url': 'https://t.co/T1FCdoOFoB', 'expanded_url': 'https://www.iammarketingmedia.com', 'display_url': 'iammarketingmedia.com', 'indices': [0, 23]}]}, 'description': {'urls': [{'url': 'https://t.co/OJVc7LULBT', 'expanded_url': 'http://bit.ly/2Ywsbg8', 'display_url': 'bit.ly/2Ywsbg8', 'indices': [74, 97]}]}}, 'protected': False, 'followers_count': 16725, 'friends_count': 14317, 'listed_count': 3364, 'created_at': 'Mon Dec 13 21:24:29 +0000 2010', 'favourites_count': 64881, 'utc_offset': None, 'time_zone': None, 'geo_enabled': False, 'verified': False, 'statuses_count': 590727, 'lang': None, 'contributors_enabled': False, 'is_translator': False, 'is_translation_enabled': False, 'profile_background_color': '94D487', 'profile_background_image_url': 'http://abs.twimg.com/images/themes/theme1/bg.png', 'profile_background_image_url_https': 'https://abs.twimg.com/images/themes/theme1/bg.png', 'profile_background_tile': False, 'profile_image_url': 'http://pbs.twimg.com/profile_images/701708113653669888/Nzm67hhC_normal.png', 'profile_image_url_https': 'https://pbs.twimg.com/profile_images/701708113653669888/Nzm67hhC_normal.png', 'profile_banner_url': 'https://pbs.twimg.com/profile_banners/226310002/1584072260', 'profile_link_color': '3366CC', 'profile_sidebar_border_color': 'FFFFFF', 'profile_sidebar_fill_color': 'DDEEF6', 'profile_text_color': '333333', 'profile_use_background_image': True, 'has_extended_profile': False, 'default_profile': False, 'default_profile_image': False, 'following': False, 'follow_request_sent': False, 'notifications': False, 'translator_type': 'none'}, 'geo': None, 'coordinates': None, 'place': None, 'contributors': None, 'is_quote_status': False, 'retweet_count': 2, 'favorite_count': 0, 'favorited': False, 'retweeted': False, 'possibly_sensitive': False, 'lang': 'en'}, 'is_quote_status': False, 'retweet_count': 2, 'favorite_count': 0, 'favorited': False, 'retweeted': False, 'lang': 'en'}, created_at=datetime.datetime(2020, 4, 25, 3, 19, 32), id=1253886332499345420, id_str='1253886332499345420', text='RT @IAM__Network: Early digital transformation efforts pay dividends as business continuity plans hold strong – Which-50 \\n\\nREAD MORE: https…', truncated=False, entities={'hashtags': [], 'symbols': [], 'user_mentions': [{'screen_name': 'IAM__Network', 'name': 'IAM Platform', 'id': 226310002, 'id_str': '226310002', 'indices': [3, 16]}], 'urls': []}, metadata={'iso_language_code': 'en', 'result_type': 'recent'}, source='digital transformation', source_url='https://google.com', in_reply_to_status_id=None, in_reply_to_status_id_str=None, in_reply_to_user_id=None, in_reply_to_user_id_str=None, in_reply_to_screen_name=None, author=User(_api=<tweepy.api.API object at 0x000002DF37904F70>, _json={'id': 1064218391920214016, 'id_str': '1064218391920214016', 'name': 'digital transformation', 'screen_name': 'digitaltransf11', 'location': '', 'description': 'hi I’m a good bot :: I keep u posted about digital transformation', 'url': None, 'entities': {'description': {'urls': []}}, 'protected': False, 'followers_count': 1746, 'friends_count': 40, 'listed_count': 31, 'created_at': 'Sun Nov 18 18:06:51 +0000 2018', 'favourites_count': 1, 'utc_offset': None, 'time_zone': None, 'geo_enabled': False, 'verified': False, 'statuses_count': 62082, 'lang': None, 'contributors_enabled': False, 'is_translator': False, 'is_translation_enabled': False, 'profile_background_color': 'F5F8FA', 'profile_background_image_url': None, 'profile_background_image_url_https': None, 'profile_background_tile': False, 'profile_image_url': 'http://pbs.twimg.com/profile_images/1064235369665835008/Ey7qsA0I_normal.jpg', 'profile_image_url_https': 'https://pbs.twimg.com/profile_images/1064235369665835008/Ey7qsA0I_normal.jpg', 'profile_link_color': '1DA1F2', 'profile_sidebar_border_color': 'C0DEED', 'profile_sidebar_fill_color': 'DDEEF6', 'profile_text_color': '333333', 'profile_use_background_image': True, 'has_extended_profile': False, 'default_profile': True, 'default_profile_image': False, 'following': False, 'follow_request_sent': False, 'notifications': False, 'translator_type': 'none'}, id=1064218391920214016, id_str='1064218391920214016', name='digital transformation', screen_name='digitaltransf11', location='', description='hi I’m a good bot :: I keep u posted about digital transformation', url=None, entities={'description': {'urls': []}}, protected=False, followers_count=1746, friends_count=40, listed_count=31, created_at=datetime.datetime(2018, 11, 18, 18, 6, 51), favourites_count=1, utc_offset=None, time_zone=None, geo_enabled=False, verified=False, statuses_count=62082, lang=None, contributors_enabled=False, is_translator=False, is_translation_enabled=False, profile_background_color='F5F8FA', profile_background_image_url=None, profile_background_image_url_https=None, profile_background_tile=False, profile_image_url='http://pbs.twimg.com/profile_images/1064235369665835008/Ey7qsA0I_normal.jpg', profile_image_url_https='https://pbs.twimg.com/profile_images/1064235369665835008/Ey7qsA0I_normal.jpg', profile_link_color='1DA1F2', profile_sidebar_border_color='C0DEED', profile_sidebar_fill_color='DDEEF6', profile_text_color='333333', profile_use_background_image=True, has_extended_profile=False, default_profile=True, default_profile_image=False, following=False, follow_request_sent=False, notifications=False, translator_type='none'), user=User(_api=<tweepy.api.API object at 0x000002DF37904F70>, _json={'id': 1064218391920214016, 'id_str': '1064218391920214016', 'name': 'digital transformation', 'screen_name': 'digitaltransf11', 'location': '', 'description': 'hi I’m a good bot :: I keep u posted about digital transformation', 'url': None, 'entities': {'description': {'urls': []}}, 'protected': False, 'followers_count': 1746, 'friends_count': 40, 'listed_count': 31, 'created_at': 'Sun Nov 18 18:06:51 +0000 2018', 'favourites_count': 1, 'utc_offset': None, 'time_zone': None, 'geo_enabled': False, 'verified': False, 'statuses_count': 62082, 'lang': None, 'contributors_enabled': False, 'is_translator': False, 'is_translation_enabled': False, 'profile_background_color': 'F5F8FA', 'profile_background_image_url': None, 'profile_background_image_url_https': None, 'profile_background_tile': False, 'profile_image_url': 'http://pbs.twimg.com/profile_images/1064235369665835008/Ey7qsA0I_normal.jpg', 'profile_image_url_https': 'https://pbs.twimg.com/profile_images/1064235369665835008/Ey7qsA0I_normal.jpg', 'profile_link_color': '1DA1F2', 'profile_sidebar_border_color': 'C0DEED', 'profile_sidebar_fill_color': 'DDEEF6', 'profile_text_color': '333333', 'profile_use_background_image': True, 'has_extended_profile': False, 'default_profile': True, 'default_profile_image': False, 'following': False, 'follow_request_sent': False, 'notifications': False, 'translator_type': 'none'}, id=1064218391920214016, id_str='1064218391920214016', name='digital transformation', screen_name='digitaltransf11', location='', description='hi I’m a good bot :: I keep u posted about digital transformation', url=None, entities={'description': {'urls': []}}, protected=False, followers_count=1746, friends_count=40, listed_count=31, created_at=datetime.datetime(2018, 11, 18, 18, 6, 51), favourites_count=1, utc_offset=None, time_zone=None, geo_enabled=False, verified=False, statuses_count=62082, lang=None, contributors_enabled=False, is_translator=False, is_translation_enabled=False, profile_background_color='F5F8FA', profile_background_image_url=None, profile_background_image_url_https=None, profile_background_tile=False, profile_image_url='http://pbs.twimg.com/profile_images/1064235369665835008/Ey7qsA0I_normal.jpg', profile_image_url_https='https://pbs.twimg.com/profile_images/1064235369665835008/Ey7qsA0I_normal.jpg', profile_link_color='1DA1F2', profile_sidebar_border_color='C0DEED', profile_sidebar_fill_color='DDEEF6', profile_text_color='333333', profile_use_background_image=True, has_extended_profile=False, default_profile=True, default_profile_image=False, following=False, follow_request_sent=False, notifications=False, translator_type='none'), geo=None, coordinates=None, place=None, contributors=None, retweeted_status=Status(_api=<tweepy.api.API object at 0x000002DF37904F70>, _json={'created_at': 'Sat Apr 25 03:05:16 +0000 2020', 'id': 1253882740753252354, 'id_str': '1253882740753252354', 'text': 'Early digital transformation efforts pay dividends as business continuity plans hold strong – Which-50 \\n\\nREAD MORE:… https://t.co/PUpL7XGYJY', 'truncated': True, 'entities': {'hashtags': [], 'symbols': [], 'user_mentions': [], 'urls': [{'url': 'https://t.co/PUpL7XGYJY', 'expanded_url': 'https://twitter.com/i/web/status/1253882740753252354', 'display_url': 'twitter.com/i/web/status/1…', 'indices': [117, 140]}]}, 'metadata': {'iso_language_code': 'en', 'result_type': 'recent'}, 'source': '<a href=\"https://www.blog.iammarketingmedia.com\" rel=\"nofollow\">IAMBLOG2TWITTER</a>', 'in_reply_to_status_id': None, 'in_reply_to_status_id_str': None, 'in_reply_to_user_id': None, 'in_reply_to_user_id_str': None, 'in_reply_to_screen_name': None, 'user': {'id': 226310002, 'id_str': '226310002', 'name': 'IAM Platform', 'screen_name': 'IAM__Network', 'location': 'Worldwide', 'description': 'Curation | Tools | Tips | Services\\n\\nIAM Platform powers IAM Network:\\n\\nGO: https://t.co/OJVc7LULBT\\n\\nBlog | Social | Podcast | Code Trove', 'url': 'https://t.co/T1FCdoOFoB', 'entities': {'url': {'urls': [{'url': 'https://t.co/T1FCdoOFoB', 'expanded_url': 'https://www.iammarketingmedia.com', 'display_url': 'iammarketingmedia.com', 'indices': [0, 23]}]}, 'description': {'urls': [{'url': 'https://t.co/OJVc7LULBT', 'expanded_url': 'http://bit.ly/2Ywsbg8', 'display_url': 'bit.ly/2Ywsbg8', 'indices': [74, 97]}]}}, 'protected': False, 'followers_count': 16725, 'friends_count': 14317, 'listed_count': 3364, 'created_at': 'Mon Dec 13 21:24:29 +0000 2010', 'favourites_count': 64881, 'utc_offset': None, 'time_zone': None, 'geo_enabled': False, 'verified': False, 'statuses_count': 590727, 'lang': None, 'contributors_enabled': False, 'is_translator': False, 'is_translation_enabled': False, 'profile_background_color': '94D487', 'profile_background_image_url': 'http://abs.twimg.com/images/themes/theme1/bg.png', 'profile_background_image_url_https': 'https://abs.twimg.com/images/themes/theme1/bg.png', 'profile_background_tile': False, 'profile_image_url': 'http://pbs.twimg.com/profile_images/701708113653669888/Nzm67hhC_normal.png', 'profile_image_url_https': 'https://pbs.twimg.com/profile_images/701708113653669888/Nzm67hhC_normal.png', 'profile_banner_url': 'https://pbs.twimg.com/profile_banners/226310002/1584072260', 'profile_link_color': '3366CC', 'profile_sidebar_border_color': 'FFFFFF', 'profile_sidebar_fill_color': 'DDEEF6', 'profile_text_color': '333333', 'profile_use_background_image': True, 'has_extended_profile': False, 'default_profile': False, 'default_profile_image': False, 'following': False, 'follow_request_sent': False, 'notifications': False, 'translator_type': 'none'}, 'geo': None, 'coordinates': None, 'place': None, 'contributors': None, 'is_quote_status': False, 'retweet_count': 2, 'favorite_count': 0, 'favorited': False, 'retweeted': False, 'possibly_sensitive': False, 'lang': 'en'}, created_at=datetime.datetime(2020, 4, 25, 3, 5, 16), id=1253882740753252354, id_str='1253882740753252354', text='Early digital transformation efforts pay dividends as business continuity plans hold strong – Which-50 \\n\\nREAD MORE:… https://t.co/PUpL7XGYJY', truncated=True, entities={'hashtags': [], 'symbols': [], 'user_mentions': [], 'urls': [{'url': 'https://t.co/PUpL7XGYJY', 'expanded_url': 'https://twitter.com/i/web/status/1253882740753252354', 'display_url': 'twitter.com/i/web/status/1…', 'indices': [117, 140]}]}, metadata={'iso_language_code': 'en', 'result_type': 'recent'}, source='IAMBLOG2TWITTER', source_url='https://www.blog.iammarketingmedia.com', in_reply_to_status_id=None, in_reply_to_status_id_str=None, in_reply_to_user_id=None, in_reply_to_user_id_str=None, in_reply_to_screen_name=None, author=User(_api=<tweepy.api.API object at 0x000002DF37904F70>, _json={'id': 226310002, 'id_str': '226310002', 'name': 'IAM Platform', 'screen_name': 'IAM__Network', 'location': 'Worldwide', 'description': 'Curation | Tools | Tips | Services\\n\\nIAM Platform powers IAM Network:\\n\\nGO: https://t.co/OJVc7LULBT\\n\\nBlog | Social | Podcast | Code Trove', 'url': 'https://t.co/T1FCdoOFoB', 'entities': {'url': {'urls': [{'url': 'https://t.co/T1FCdoOFoB', 'expanded_url': 'https://www.iammarketingmedia.com', 'display_url': 'iammarketingmedia.com', 'indices': [0, 23]}]}, 'description': {'urls': [{'url': 'https://t.co/OJVc7LULBT', 'expanded_url': 'http://bit.ly/2Ywsbg8', 'display_url': 'bit.ly/2Ywsbg8', 'indices': [74, 97]}]}}, 'protected': False, 'followers_count': 16725, 'friends_count': 14317, 'listed_count': 3364, 'created_at': 'Mon Dec 13 21:24:29 +0000 2010', 'favourites_count': 64881, 'utc_offset': None, 'time_zone': None, 'geo_enabled': False, 'verified': False, 'statuses_count': 590727, 'lang': None, 'contributors_enabled': False, 'is_translator': False, 'is_translation_enabled': False, 'profile_background_color': '94D487', 'profile_background_image_url': 'http://abs.twimg.com/images/themes/theme1/bg.png', 'profile_background_image_url_https': 'https://abs.twimg.com/images/themes/theme1/bg.png', 'profile_background_tile': False, 'profile_image_url': 'http://pbs.twimg.com/profile_images/701708113653669888/Nzm67hhC_normal.png', 'profile_image_url_https': 'https://pbs.twimg.com/profile_images/701708113653669888/Nzm67hhC_normal.png', 'profile_banner_url': 'https://pbs.twimg.com/profile_banners/226310002/1584072260', 'profile_link_color': '3366CC', 'profile_sidebar_border_color': 'FFFFFF', 'profile_sidebar_fill_color': 'DDEEF6', 'profile_text_color': '333333', 'profile_use_background_image': True, 'has_extended_profile': False, 'default_profile': False, 'default_profile_image': False, 'following': False, 'follow_request_sent': False, 'notifications': False, 'translator_type': 'none'}, id=226310002, id_str='226310002', name='IAM Platform', screen_name='IAM__Network', location='Worldwide', description='Curation | Tools | Tips | Services\\n\\nIAM Platform powers IAM Network:\\n\\nGO: https://t.co/OJVc7LULBT\\n\\nBlog | Social | Podcast | Code Trove', url='https://t.co/T1FCdoOFoB', entities={'url': {'urls': [{'url': 'https://t.co/T1FCdoOFoB', 'expanded_url': 'https://www.iammarketingmedia.com', 'display_url': 'iammarketingmedia.com', 'indices': [0, 23]}]}, 'description': {'urls': [{'url': 'https://t.co/OJVc7LULBT', 'expanded_url': 'http://bit.ly/2Ywsbg8', 'display_url': 'bit.ly/2Ywsbg8', 'indices': [74, 97]}]}}, protected=False, followers_count=16725, friends_count=14317, listed_count=3364, created_at=datetime.datetime(2010, 12, 13, 21, 24, 29), favourites_count=64881, utc_offset=None, time_zone=None, geo_enabled=False, verified=False, statuses_count=590727, lang=None, contributors_enabled=False, is_translator=False, is_translation_enabled=False, profile_background_color='94D487', profile_background_image_url='http://abs.twimg.com/images/themes/theme1/bg.png', profile_background_image_url_https='https://abs.twimg.com/images/themes/theme1/bg.png', profile_background_tile=False, profile_image_url='http://pbs.twimg.com/profile_images/701708113653669888/Nzm67hhC_normal.png', profile_image_url_https='https://pbs.twimg.com/profile_images/701708113653669888/Nzm67hhC_normal.png', profile_banner_url='https://pbs.twimg.com/profile_banners/226310002/1584072260', profile_link_color='3366CC', profile_sidebar_border_color='FFFFFF', profile_sidebar_fill_color='DDEEF6', profile_text_color='333333', profile_use_background_image=True, has_extended_profile=False, default_profile=False, default_profile_image=False, following=False, follow_request_sent=False, notifications=False, translator_type='none'), user=User(_api=<tweepy.api.API object at 0x000002DF37904F70>, _json={'id': 226310002, 'id_str': '226310002', 'name': 'IAM Platform', 'screen_name': 'IAM__Network', 'location': 'Worldwide', 'description': 'Curation | Tools | Tips | Services\\n\\nIAM Platform powers IAM Network:\\n\\nGO: https://t.co/OJVc7LULBT\\n\\nBlog | Social | Podcast | Code Trove', 'url': 'https://t.co/T1FCdoOFoB', 'entities': {'url': {'urls': [{'url': 'https://t.co/T1FCdoOFoB', 'expanded_url': 'https://www.iammarketingmedia.com', 'display_url': 'iammarketingmedia.com', 'indices': [0, 23]}]}, 'description': {'urls': [{'url': 'https://t.co/OJVc7LULBT', 'expanded_url': 'http://bit.ly/2Ywsbg8', 'display_url': 'bit.ly/2Ywsbg8', 'indices': [74, 97]}]}}, 'protected': False, 'followers_count': 16725, 'friends_count': 14317, 'listed_count': 3364, 'created_at': 'Mon Dec 13 21:24:29 +0000 2010', 'favourites_count': 64881, 'utc_offset': None, 'time_zone': None, 'geo_enabled': False, 'verified': False, 'statuses_count': 590727, 'lang': None, 'contributors_enabled': False, 'is_translator': False, 'is_translation_enabled': False, 'profile_background_color': '94D487', 'profile_background_image_url': 'http://abs.twimg.com/images/themes/theme1/bg.png', 'profile_background_image_url_https': 'https://abs.twimg.com/images/themes/theme1/bg.png', 'profile_background_tile': False, 'profile_image_url': 'http://pbs.twimg.com/profile_images/701708113653669888/Nzm67hhC_normal.png', 'profile_image_url_https': 'https://pbs.twimg.com/profile_images/701708113653669888/Nzm67hhC_normal.png', 'profile_banner_url': 'https://pbs.twimg.com/profile_banners/226310002/1584072260', 'profile_link_color': '3366CC', 'profile_sidebar_border_color': 'FFFFFF', 'profile_sidebar_fill_color': 'DDEEF6', 'profile_text_color': '333333', 'profile_use_background_image': True, 'has_extended_profile': False, 'default_profile': False, 'default_profile_image': False, 'following': False, 'follow_request_sent': False, 'notifications': False, 'translator_type': 'none'}, id=226310002, id_str='226310002', name='IAM Platform', screen_name='IAM__Network', location='Worldwide', description='Curation | Tools | Tips | Services\\n\\nIAM Platform powers IAM Network:\\n\\nGO: https://t.co/OJVc7LULBT\\n\\nBlog | Social | Podcast | Code Trove', url='https://t.co/T1FCdoOFoB', entities={'url': {'urls': [{'url': 'https://t.co/T1FCdoOFoB', 'expanded_url': 'https://www.iammarketingmedia.com', 'display_url': 'iammarketingmedia.com', 'indices': [0, 23]}]}, 'description': {'urls': [{'url': 'https://t.co/OJVc7LULBT', 'expanded_url': 'http://bit.ly/2Ywsbg8', 'display_url': 'bit.ly/2Ywsbg8', 'indices': [74, 97]}]}}, protected=False, followers_count=16725, friends_count=14317, listed_count=3364, created_at=datetime.datetime(2010, 12, 13, 21, 24, 29), favourites_count=64881, utc_offset=None, time_zone=None, geo_enabled=False, verified=False, statuses_count=590727, lang=None, contributors_enabled=False, is_translator=False, is_translation_enabled=False, profile_background_color='94D487', profile_background_image_url='http://abs.twimg.com/images/themes/theme1/bg.png', profile_background_image_url_https='https://abs.twimg.com/images/themes/theme1/bg.png', profile_background_tile=False, profile_image_url='http://pbs.twimg.com/profile_images/701708113653669888/Nzm67hhC_normal.png', profile_image_url_https='https://pbs.twimg.com/profile_images/701708113653669888/Nzm67hhC_normal.png', profile_banner_url='https://pbs.twimg.com/profile_banners/226310002/1584072260', profile_link_color='3366CC', profile_sidebar_border_color='FFFFFF', profile_sidebar_fill_color='DDEEF6', profile_text_color='333333', profile_use_background_image=True, has_extended_profile=False, default_profile=False, default_profile_image=False, following=False, follow_request_sent=False, notifications=False, translator_type='none'), geo=None, coordinates=None, place=None, contributors=None, is_quote_status=False, retweet_count=2, favorite_count=0, favorited=False, retweeted=False, possibly_sensitive=False, lang='en'), is_quote_status=False, retweet_count=2, favorite_count=0, favorited=False, retweeted=False, lang='en'),\n Status(_api=<tweepy.api.API object at 0x000002DF37904F70>, _json={'created_at': 'Sat Apr 25 03:19:18 +0000 2020', 'id': 1253886272420093956, 'id_str': '1253886272420093956', 'text': '\" For why AI self-driving cars might freeze-up, see my article: https://t.co/xRFPiBigKl #ai #technology #BigData… https://t.co/R25ZDnWXjT', 'truncated': True, 'entities': {'hashtags': [{'text': 'ai', 'indices': [88, 91]}, {'text': 'technology', 'indices': [92, 103]}, {'text': 'BigData', 'indices': [104, 112]}], 'symbols': [], 'user_mentions': [], 'urls': [{'url': 'https://t.co/xRFPiBigKl', 'expanded_url': 'https://aitrends.com/selfdrivingcars/freezing-robot-problem-and-ai-self-driving-cars/', 'display_url': 'aitrends.com/selfdrivingcar…', 'indices': [64, 87]}, {'url': 'https://t.co/R25ZDnWXjT', 'expanded_url': 'https://twitter.com/i/web/status/1253886272420093956', 'display_url': 'twitter.com/i/web/status/1…', 'indices': [114, 137]}]}, 'metadata': {'iso_language_code': 'en', 'result_type': 'recent'}, 'source': '<a href=\"https://gmb.com\" rel=\"nofollow\">GMBquotes</a>', 'in_reply_to_status_id': None, 'in_reply_to_status_id_str': None, 'in_reply_to_user_id': None, 'in_reply_to_user_id_str': None, 'in_reply_to_screen_name': None, 'user': {'id': 1179332930516213760, 'id_str': '1179332930516213760', 'name': 'GreatMindBenefits', 'screen_name': 'BenefitsMind', 'location': '', 'description': 'GMB is an incubation space which seeks to ignite innovative ideas and unlock the potential of young people through informative posts', 'url': 'https://t.co/qkjJhDWgFN', 'entities': {'url': {'urls': [{'url': 'https://t.co/qkjJhDWgFN', 'expanded_url': 'http://facebook.com/GMBinitiatives/', 'display_url': 'facebook.com/GMBinitiatives/', 'indices': [0, 23]}]}, 'description': {'urls': []}}, 'protected': False, 'followers_count': 82, 'friends_count': 130, 'listed_count': 5, 'created_at': 'Wed Oct 02 09:51:07 +0000 2019', 'favourites_count': 90, 'utc_offset': None, 'time_zone': None, 'geo_enabled': False, 'verified': False, 'statuses_count': 4201, 'lang': None, 'contributors_enabled': False, 'is_translator': False, 'is_translation_enabled': False, 'profile_background_color': 'F5F8FA', 'profile_background_image_url': None, 'profile_background_image_url_https': None, 'profile_background_tile': False, 'profile_image_url': 'http://pbs.twimg.com/profile_images/1179333070589251584/V2Ro_rlG_normal.png', 'profile_image_url_https': 'https://pbs.twimg.com/profile_images/1179333070589251584/V2Ro_rlG_normal.png', 'profile_link_color': '1DA1F2', 'profile_sidebar_border_color': 'C0DEED', 'profile_sidebar_fill_color': 'DDEEF6', 'profile_text_color': '333333', 'profile_use_background_image': True, 'has_extended_profile': False, 'default_profile': True, 'default_profile_image': False, 'following': False, 'follow_request_sent': False, 'notifications': False, 'translator_type': 'none'}, 'geo': None, 'coordinates': None, 'place': None, 'contributors': None, 'is_quote_status': False, 'retweet_count': 0, 'favorite_count': 0, 'favorited': False, 'retweeted': False, 'possibly_sensitive': False, 'lang': 'en'}, created_at=datetime.datetime(2020, 4, 25, 3, 19, 18), id=1253886272420093956, id_str='1253886272420093956', text='\" For why AI self-driving cars might freeze-up, see my article: https://t.co/xRFPiBigKl #ai #technology #BigData… https://t.co/R25ZDnWXjT', truncated=True, entities={'hashtags': [{'text': 'ai', 'indices': [88, 91]}, {'text': 'technology', 'indices': [92, 103]}, {'text': 'BigData', 'indices': [104, 112]}], 'symbols': [], 'user_mentions': [], 'urls': [{'url': 'https://t.co/xRFPiBigKl', 'expanded_url': 'https://aitrends.com/selfdrivingcars/freezing-robot-problem-and-ai-self-driving-cars/', 'display_url': 'aitrends.com/selfdrivingcar…', 'indices': [64, 87]}, {'url': 'https://t.co/R25ZDnWXjT', 'expanded_url': 'https://twitter.com/i/web/status/1253886272420093956', 'display_url': 'twitter.com/i/web/status/1…', 'indices': [114, 137]}]}, metadata={'iso_language_code': 'en', 'result_type': 'recent'}, source='GMBquotes', source_url='https://gmb.com', in_reply_to_status_id=None, in_reply_to_status_id_str=None, in_reply_to_user_id=None, in_reply_to_user_id_str=None, in_reply_to_screen_name=None, author=User(_api=<tweepy.api.API object at 0x000002DF37904F70>, _json={'id': 1179332930516213760, 'id_str': '1179332930516213760', 'name': 'GreatMindBenefits', 'screen_name': 'BenefitsMind', 'location': '', 'description': 'GMB is an incubation space which seeks to ignite innovative ideas and unlock the potential of young people through informative posts', 'url': 'https://t.co/qkjJhDWgFN', 'entities': {'url': {'urls': [{'url': 'https://t.co/qkjJhDWgFN', 'expanded_url': 'http://facebook.com/GMBinitiatives/', 'display_url': 'facebook.com/GMBinitiatives/', 'indices': [0, 23]}]}, 'description': {'urls': []}}, 'protected': False, 'followers_count': 82, 'friends_count': 130, 'listed_count': 5, 'created_at': 'Wed Oct 02 09:51:07 +0000 2019', 'favourites_count': 90, 'utc_offset': None, 'time_zone': None, 'geo_enabled': False, 'verified': False, 'statuses_count': 4201, 'lang': None, 'contributors_enabled': False, 'is_translator': False, 'is_translation_enabled': False, 'profile_background_color': 'F5F8FA', 'profile_background_image_url': None, 'profile_background_image_url_https': None, 'profile_background_tile': False, 'profile_image_url': 'http://pbs.twimg.com/profile_images/1179333070589251584/V2Ro_rlG_normal.png', 'profile_image_url_https': 'https://pbs.twimg.com/profile_images/1179333070589251584/V2Ro_rlG_normal.png', 'profile_link_color': '1DA1F2', 'profile_sidebar_border_color': 'C0DEED', 'profile_sidebar_fill_color': 'DDEEF6', 'profile_text_color': '333333', 'profile_use_background_image': True, 'has_extended_profile': False, 'default_profile': True, 'default_profile_image': False, 'following': False, 'follow_request_sent': False, 'notifications': False, 'translator_type': 'none'}, id=1179332930516213760, id_str='1179332930516213760', name='GreatMindBenefits', screen_name='BenefitsMind', location='', description='GMB is an incubation space which seeks to ignite innovative ideas and unlock the potential of young people through informative posts', url='https://t.co/qkjJhDWgFN', entities={'url': {'urls': [{'url': 'https://t.co/qkjJhDWgFN', 'expanded_url': 'http://facebook.com/GMBinitiatives/', 'display_url': 'facebook.com/GMBinitiatives/', 'indices': [0, 23]}]}, 'description': {'urls': []}}, protected=False, followers_count=82, friends_count=130, listed_count=5, created_at=datetime.datetime(2019, 10, 2, 9, 51, 7), favourites_count=90, utc_offset=None, time_zone=None, geo_enabled=False, verified=False, statuses_count=4201, lang=None, contributors_enabled=False, is_translator=False, is_translation_enabled=False, profile_background_color='F5F8FA', profile_background_image_url=None, profile_background_image_url_https=None, profile_background_tile=False, profile_image_url='http://pbs.twimg.com/profile_images/1179333070589251584/V2Ro_rlG_normal.png', profile_image_url_https='https://pbs.twimg.com/profile_images/1179333070589251584/V2Ro_rlG_normal.png', profile_link_color='1DA1F2', profile_sidebar_border_color='C0DEED', profile_sidebar_fill_color='DDEEF6', profile_text_color='333333', profile_use_background_image=True, has_extended_profile=False, default_profile=True, default_profile_image=False, following=False, follow_request_sent=False, notifications=False, translator_type='none'), user=User(_api=<tweepy.api.API object at 0x000002DF37904F70>, _json={'id': 1179332930516213760, 'id_str': '1179332930516213760', 'name': 'GreatMindBenefits', 'screen_name': 'BenefitsMind', 'location': '', 'description': 'GMB is an incubation space which seeks to ignite innovative ideas and unlock the potential of young people through informative posts', 'url': 'https://t.co/qkjJhDWgFN', 'entities': {'url': {'urls': [{'url': 'https://t.co/qkjJhDWgFN', 'expanded_url': 'http://facebook.com/GMBinitiatives/', 'display_url': 'facebook.com/GMBinitiatives/', 'indices': [0, 23]}]}, 'description': {'urls': []}}, 'protected': False, 'followers_count': 82, 'friends_count': 130, 'listed_count': 5, 'created_at': 'Wed Oct 02 09:51:07 +0000 2019', 'favourites_count': 90, 'utc_offset': None, 'time_zone': None, 'geo_enabled': False, 'verified': False, 'statuses_count': 4201, 'lang': None, 'contributors_enabled': False, 'is_translator': False, 'is_translation_enabled': False, 'profile_background_color': 'F5F8FA', 'profile_background_image_url': None, 'profile_background_image_url_https': None, 'profile_background_tile': False, 'profile_image_url': 'http://pbs.twimg.com/profile_images/1179333070589251584/V2Ro_rlG_normal.png', 'profile_image_url_https': 'https://pbs.twimg.com/profile_images/1179333070589251584/V2Ro_rlG_normal.png', 'profile_link_color': '1DA1F2', 'profile_sidebar_border_color': 'C0DEED', 'profile_sidebar_fill_color': 'DDEEF6', 'profile_text_color': '333333', 'profile_use_background_image': True, 'has_extended_profile': False, 'default_profile': True, 'default_profile_image': False, 'following': False, 'follow_request_sent': False, 'notifications': False, 'translator_type': 'none'}, id=1179332930516213760, id_str='1179332930516213760', name='GreatMindBenefits', screen_name='BenefitsMind', location='', description='GMB is an incubation space which seeks to ignite innovative ideas and unlock the potential of young people through informative posts', url='https://t.co/qkjJhDWgFN', entities={'url': {'urls': [{'url': 'https://t.co/qkjJhDWgFN', 'expanded_url': 'http://facebook.com/GMBinitiatives/', 'display_url': 'facebook.com/GMBinitiatives/', 'indices': [0, 23]}]}, 'description': {'urls': []}}, protected=False, followers_count=82, friends_count=130, listed_count=5, created_at=datetime.datetime(2019, 10, 2, 9, 51, 7), favourites_count=90, utc_offset=None, time_zone=None, geo_enabled=False, verified=False, statuses_count=4201, lang=None, contributors_enabled=False, is_translator=False, is_translation_enabled=False, profile_background_color='F5F8FA', profile_background_image_url=None, profile_background_image_url_https=None, profile_background_tile=False, profile_image_url='http://pbs.twimg.com/profile_images/1179333070589251584/V2Ro_rlG_normal.png', profile_image_url_https='https://pbs.twimg.com/profile_images/1179333070589251584/V2Ro_rlG_normal.png', profile_link_color='1DA1F2', profile_sidebar_border_color='C0DEED', profile_sidebar_fill_color='DDEEF6', profile_text_color='333333', profile_use_background_image=True, has_extended_profile=False, default_profile=True, default_profile_image=False, following=False, follow_request_sent=False, notifications=False, translator_type='none'), geo=None, coordinates=None, place=None, contributors=None, is_quote_status=False, retweet_count=0, favorite_count=0, favorited=False, retweeted=False, possibly_sensitive=False, lang='en'),\n Status(_api=<tweepy.api.API object at 0x000002DF37904F70>, _json={'created_at': 'Sat Apr 25 03:18:43 +0000 2020', 'id': 1253886126521233410, 'id_str': '1253886126521233410', 'text': 'RT @gp_pulipaka: 18 Best PyTorch Books of All Time. #BigData #Analytics #DataScience #IoT #IIoT #PyTorch #Python #RStats #TensorFlow #Java…', 'truncated': False, 'entities': {'hashtags': [{'text': 'BigData', 'indices': [52, 60]}, {'text': 'Analytics', 'indices': [61, 71]}, {'text': 'DataScience', 'indices': [72, 84]}, {'text': 'IoT', 'indices': [85, 89]}, {'text': 'IIoT', 'indices': [90, 95]}, {'text': 'PyTorch', 'indices': [96, 104]}, {'text': 'Python', 'indices': [105, 112]}, {'text': 'RStats', 'indices': [113, 120]}, {'text': 'TensorFlow', 'indices': [121, 132]}, {'text': 'Java', 'indices': [133, 138]}], 'symbols': [], 'user_mentions': [{'screen_name': 'gp_pulipaka', 'name': 'Dr. Ganapathi Pulipaka', 'id': 4263007693, 'id_str': '4263007693', 'indices': [3, 15]}], 'urls': []}, 'metadata': {'iso_language_code': 'en', 'result_type': 'recent'}, 'source': '<a href=\"http://www.revolution-fitness.at/\" rel=\"nofollow\">dig_revolution_Schnittstelle</a>', 'in_reply_to_status_id': None, 'in_reply_to_status_id_str': None, 'in_reply_to_user_id': None, 'in_reply_to_user_id_str': None, 'in_reply_to_screen_name': None, 'user': {'id': 739084371110531072, 'id_str': '739084371110531072', 'name': 'Monika Neunetzer', 'screen_name': 'dig_revolution', 'location': 'München, Bayern', 'description': 'your exclusive cocktail of #Digitalization and #Horse #Photography. the #CIO / #CDO channel about #Predictions, #BigData, #BimodalIT, #DevOps, #3dPrinting, ...', 'url': 'https://t.co/B0jkCyrqtW', 'entities': {'url': {'urls': [{'url': 'https://t.co/B0jkCyrqtW', 'expanded_url': 'https://www.instagram.com/monikaneunetzer/', 'display_url': 'instagram.com/monikaneunetze…', 'indices': [0, 23]}]}, 'description': {'urls': []}}, 'protected': False, 'followers_count': 22939, 'friends_count': 5301, 'listed_count': 299, 'created_at': 'Sat Jun 04 13:20:20 +0000 2016', 'favourites_count': 68319, 'utc_offset': None, 'time_zone': None, 'geo_enabled': False, 'verified': False, 'statuses_count': 6800, 'lang': None, 'contributors_enabled': False, 'is_translator': False, 'is_translation_enabled': False, 'profile_background_color': '000000', 'profile_background_image_url': 'http://abs.twimg.com/images/themes/theme1/bg.png', 'profile_background_image_url_https': 'https://abs.twimg.com/images/themes/theme1/bg.png', 'profile_background_tile': False, 'profile_image_url': 'http://pbs.twimg.com/profile_images/739135582408953856/qK92dRZi_normal.jpg', 'profile_image_url_https': 'https://pbs.twimg.com/profile_images/739135582408953856/qK92dRZi_normal.jpg', 'profile_banner_url': 'https://pbs.twimg.com/profile_banners/739084371110531072/1465059447', 'profile_link_color': '1B95E0', 'profile_sidebar_border_color': '000000', 'profile_sidebar_fill_color': '000000', 'profile_text_color': '000000', 'profile_use_background_image': False, 'has_extended_profile': True, 'default_profile': False, 'default_profile_image': False, 'following': False, 'follow_request_sent': False, 'notifications': False, 'translator_type': 'none'}, 'geo': None, 'coordinates': None, 'place': None, 'contributors': None, 'retweeted_status': {'created_at': 'Sat Apr 25 03:10:05 +0000 2020', 'id': 1253883955809521664, 'id_str': '1253883955809521664', 'text': '18 Best PyTorch Books of All Time. #BigData #Analytics #DataScience #IoT #IIoT #PyTorch #Python #RStats #TensorFlow… https://t.co/oXfTVHz9wm', 'truncated': True, 'entities': {'hashtags': [{'text': 'BigData', 'indices': [35, 43]}, {'text': 'Analytics', 'indices': [44, 54]}, {'text': 'DataScience', 'indices': [55, 67]}, {'text': 'IoT', 'indices': [68, 72]}, {'text': 'IIoT', 'indices': [73, 78]}, {'text': 'PyTorch', 'indices': [79, 87]}, {'text': 'Python', 'indices': [88, 95]}, {'text': 'RStats', 'indices': [96, 103]}, {'text': 'TensorFlow', 'indices': [104, 115]}], 'symbols': [], 'user_mentions': [], 'urls': [{'url': 'https://t.co/oXfTVHz9wm', 'expanded_url': 'https://twitter.com/i/web/status/1253883955809521664', 'display_url': 'twitter.com/i/web/status/1…', 'indices': [117, 140]}]}, 'metadata': {'iso_language_code': 'en', 'result_type': 'recent'}, 'source': '<a href=\"https://buffer.com\" rel=\"nofollow\">Buffer</a>', 'in_reply_to_status_id': None, 'in_reply_to_status_id_str': None, 'in_reply_to_user_id': None, 'in_reply_to_user_id_str': None, 'in_reply_to_screen_name': None, 'user': {'id': 4263007693, 'id_str': '4263007693', 'name': 'Dr. Ganapathi Pulipaka', 'screen_name': 'gp_pulipaka', 'location': 'Redondo Beach, CA', 'description': 'Chief Data Scientist @AccentureTech | Global Premier Speaker | PostDoc CS, PhD | Top Data Science Influencer | Bestselling Author | My Thoughts', 'url': 'https://t.co/CHWoaV475R', 'entities': {'url': {'urls': [{'url': 'https://t.co/CHWoaV475R', 'expanded_url': 'https://www.linkedin.com/in/dr-ganapathi-pulipaka-56417a2', 'display_url': 'linkedin.com/in/dr-ganapath…', 'indices': [0, 23]}]}, 'description': {'urls': []}}, 'protected': False, 'followers_count': 84477, 'friends_count': 25725, 'listed_count': 3438, 'created_at': 'Tue Nov 17 02:19:09 +0000 2015', 'favourites_count': 9, 'utc_offset': None, 'time_zone': None, 'geo_enabled': True, 'verified': False, 'statuses_count': 54850, 'lang': None, 'contributors_enabled': False, 'is_translator': False, 'is_translation_enabled': False, 'profile_background_color': '000000', 'profile_background_image_url': 'http://abs.twimg.com/images/themes/theme1/bg.png', 'profile_background_image_url_https': 'https://abs.twimg.com/images/themes/theme1/bg.png', 'profile_background_tile': False, 'profile_image_url': 'http://pbs.twimg.com/profile_images/998301258413850625/9BZwTjgv_normal.jpg', 'profile_image_url_https': 'https://pbs.twimg.com/profile_images/998301258413850625/9BZwTjgv_normal.jpg', 'profile_banner_url': 'https://pbs.twimg.com/profile_banners/4263007693/1583526136', 'profile_link_color': 'DD2E44', 'profile_sidebar_border_color': '000000', 'profile_sidebar_fill_color': '000000', 'profile_text_color': '000000', 'profile_use_background_image': False, 'has_extended_profile': True, 'default_profile': False, 'default_profile_image': False, 'following': False, 'follow_request_sent': False, 'notifications': False, 'translator_type': 'none'}, 'geo': None, 'coordinates': None, 'place': None, 'contributors': None, 'is_quote_status': False, 'retweet_count': 17, 'favorite_count': 13, 'favorited': False, 'retweeted': False, 'possibly_sensitive': False, 'lang': 'en'}, 'is_quote_status': False, 'retweet_count': 17, 'favorite_count': 0, 'favorited': False, 'retweeted': False, 'lang': 'en'}, created_at=datetime.datetime(2020, 4, 25, 3, 18, 43), id=1253886126521233410, id_str='1253886126521233410', text='RT @gp_pulipaka: 18 Best PyTorch Books of All Time. #BigData #Analytics #DataScience #IoT #IIoT #PyTorch #Python #RStats #TensorFlow #Java…', truncated=False, entities={'hashtags': [{'text': 'BigData', 'indices': [52, 60]}, {'text': 'Analytics', 'indices': [61, 71]}, {'text': 'DataScience', 'indices': [72, 84]}, {'text': 'IoT', 'indices': [85, 89]}, {'text': 'IIoT', 'indices': [90, 95]}, {'text': 'PyTorch', 'indices': [96, 104]}, {'text': 'Python', 'indices': [105, 112]}, {'text': 'RStats', 'indices': [113, 120]}, {'text': 'TensorFlow', 'indices': [121, 132]}, {'text': 'Java', 'indices': [133, 138]}], 'symbols': [], 'user_mentions': [{'screen_name': 'gp_pulipaka', 'name': 'Dr. Ganapathi Pulipaka', 'id': 4263007693, 'id_str': '4263007693', 'indices': [3, 15]}], 'urls': []}, metadata={'iso_language_code': 'en', 'result_type': 'recent'}, source='dig_revolution_Schnittstelle', source_url='http://www.revolution-fitness.at/', in_reply_to_status_id=None, in_reply_to_status_id_str=None, in_reply_to_user_id=None, in_reply_to_user_id_str=None, in_reply_to_screen_name=None, author=User(_api=<tweepy.api.API object at 0x000002DF37904F70>, _json={'id': 739084371110531072, 'id_str': '739084371110531072', 'name': 'Monika Neunetzer', 'screen_name': 'dig_revolution', 'location': 'München, Bayern', 'description': 'your exclusive cocktail of #Digitalization and #Horse #Photography. the #CIO / #CDO channel about #Predictions, #BigData, #BimodalIT, #DevOps, #3dPrinting, ...', 'url': 'https://t.co/B0jkCyrqtW', 'entities': {'url': {'urls': [{'url': 'https://t.co/B0jkCyrqtW', 'expanded_url': 'https://www.instagram.com/monikaneunetzer/', 'display_url': 'instagram.com/monikaneunetze…', 'indices': [0, 23]}]}, 'description': {'urls': []}}, 'protected': False, 'followers_count': 22939, 'friends_count': 5301, 'listed_count': 299, 'created_at': 'Sat Jun 04 13:20:20 +0000 2016', 'favourites_count': 68319, 'utc_offset': None, 'time_zone': None, 'geo_enabled': False, 'verified': False, 'statuses_count': 6800, 'lang': None, 'contributors_enabled': False, 'is_translator': False, 'is_translation_enabled': False, 'profile_background_color': '000000', 'profile_background_image_url': 'http://abs.twimg.com/images/themes/theme1/bg.png', 'profile_background_image_url_https': 'https://abs.twimg.com/images/themes/theme1/bg.png', 'profile_background_tile': False, 'profile_image_url': 'http://pbs.twimg.com/profile_images/739135582408953856/qK92dRZi_normal.jpg', 'profile_image_url_https': 'https://pbs.twimg.com/profile_images/739135582408953856/qK92dRZi_normal.jpg', 'profile_banner_url': 'https://pbs.twimg.com/profile_banners/739084371110531072/1465059447', 'profile_link_color': '1B95E0', 'profile_sidebar_border_color': '000000', 'profile_sidebar_fill_color': '000000', 'profile_text_color': '000000', 'profile_use_background_image': False, 'has_extended_profile': True, 'default_profile': False, 'default_profile_image': False, 'following': False, 'follow_request_sent': False, 'notifications': False, 'translator_type': 'none'}, id=739084371110531072, id_str='739084371110531072', name='Monika Neunetzer', screen_name='dig_revolution', location='München, Bayern', description='your exclusive cocktail of #Digitalization and #Horse #Photography. the #CIO / #CDO channel about #Predictions, #BigData, #BimodalIT, #DevOps, #3dPrinting, ...', url='https://t.co/B0jkCyrqtW', entities={'url': {'urls': [{'url': 'https://t.co/B0jkCyrqtW', 'expanded_url': 'https://www.instagram.com/monikaneunetzer/', 'display_url': 'instagram.com/monikaneunetze…', 'indices': [0, 23]}]}, 'description': {'urls': []}}, protected=False, followers_count=22939, friends_count=5301, listed_count=299, created_at=datetime.datetime(2016, 6, 4, 13, 20, 20), favourites_count=68319, utc_offset=None, time_zone=None, geo_enabled=False, verified=False, statuses_count=6800, lang=None, contributors_enabled=False, is_translator=False, is_translation_enabled=False, profile_background_color='000000', profile_background_image_url='http://abs.twimg.com/images/themes/theme1/bg.png', profile_background_image_url_https='https://abs.twimg.com/images/themes/theme1/bg.png', profile_background_tile=False, profile_image_url='http://pbs.twimg.com/profile_images/739135582408953856/qK92dRZi_normal.jpg', profile_image_url_https='https://pbs.twimg.com/profile_images/739135582408953856/qK92dRZi_normal.jpg', profile_banner_url='https://pbs.twimg.com/profile_banners/739084371110531072/1465059447', profile_link_color='1B95E0', profile_sidebar_border_color='000000', profile_sidebar_fill_color='000000', profile_text_color='000000', profile_use_background_image=False, has_extended_profile=True, default_profile=False, default_profile_image=False, following=False, follow_request_sent=False, notifications=False, translator_type='none'), user=User(_api=<tweepy.api.API object at 0x000002DF37904F70>, _json={'id': 739084371110531072, 'id_str': '739084371110531072', 'name': 'Monika Neunetzer', 'screen_name': 'dig_revolution', 'location': 'München, Bayern', 'description': 'your exclusive cocktail of #Digitalization and #Horse #Photography. the #CIO / #CDO channel about #Predictions, #BigData, #BimodalIT, #DevOps, #3dPrinting, ...', 'url': 'https://t.co/B0jkCyrqtW', 'entities': {'url': {'urls': [{'url': 'https://t.co/B0jkCyrqtW', 'expanded_url': 'https://www.instagram.com/monikaneunetzer/', 'display_url': 'instagram.com/monikaneunetze…', 'indices': [0, 23]}]}, 'description': {'urls': []}}, 'protected': False, 'followers_count': 22939, 'friends_count': 5301, 'listed_count': 299, 'created_at': 'Sat Jun 04 13:20:20 +0000 2016', 'favourites_count': 68319, 'utc_offset': None, 'time_zone': None, 'geo_enabled': False, 'verified': False, 'statuses_count': 6800, 'lang': None, 'contributors_enabled': False, 'is_translator': False, 'is_translation_enabled': False, 'profile_background_color': '000000', 'profile_background_image_url': 'http://abs.twimg.com/images/themes/theme1/bg.png', 'profile_background_image_url_https': 'https://abs.twimg.com/images/themes/theme1/bg.png', 'profile_background_tile': False, 'profile_image_url': 'http://pbs.twimg.com/profile_images/739135582408953856/qK92dRZi_normal.jpg', 'profile_image_url_https': 'https://pbs.twimg.com/profile_images/739135582408953856/qK92dRZi_normal.jpg', 'profile_banner_url': 'https://pbs.twimg.com/profile_banners/739084371110531072/1465059447', 'profile_link_color': '1B95E0', 'profile_sidebar_border_color': '000000', 'profile_sidebar_fill_color': '000000', 'profile_text_color': '000000', 'profile_use_background_image': False, 'has_extended_profile': True, 'default_profile': False, 'default_profile_image': False, 'following': False, 'follow_request_sent': False, 'notifications': False, 'translator_type': 'none'}, id=739084371110531072, id_str='739084371110531072', name='Monika Neunetzer', screen_name='dig_revolution', location='München, Bayern', description='your exclusive cocktail of #Digitalization and #Horse #Photography. the #CIO / #CDO channel about #Predictions, #BigData, #BimodalIT, #DevOps, #3dPrinting, ...', url='https://t.co/B0jkCyrqtW', entities={'url': {'urls': [{'url': 'https://t.co/B0jkCyrqtW', 'expanded_url': 'https://www.instagram.com/monikaneunetzer/', 'display_url': 'instagram.com/monikaneunetze…', 'indices': [0, 23]}]}, 'description': {'urls': []}}, protected=False, followers_count=22939, friends_count=5301, listed_count=299, created_at=datetime.datetime(2016, 6, 4, 13, 20, 20), favourites_count=68319, utc_offset=None, time_zone=None, geo_enabled=False, verified=False, statuses_count=6800, lang=None, contributors_enabled=False, is_translator=False, is_translation_enabled=False, profile_background_color='000000', profile_background_image_url='http://abs.twimg.com/images/themes/theme1/bg.png', profile_background_image_url_https='https://abs.twimg.com/images/themes/theme1/bg.png', profile_background_tile=False, profile_image_url='http://pbs.twimg.com/profile_images/739135582408953856/qK92dRZi_normal.jpg', profile_image_url_https='https://pbs.twimg.com/profile_images/739135582408953856/qK92dRZi_normal.jpg', profile_banner_url='https://pbs.twimg.com/profile_banners/739084371110531072/1465059447', profile_link_color='1B95E0', profile_sidebar_border_color='000000', profile_sidebar_fill_color='000000', profile_text_color='000000', profile_use_background_image=False, has_extended_profile=True, default_profile=False, default_profile_image=False, following=False, follow_request_sent=False, notifications=False, translator_type='none'), geo=None, coordinates=None, place=None, contributors=None, retweeted_status=Status(_api=<tweepy.api.API object at 0x000002DF37904F70>, _json={'created_at': 'Sat Apr 25 03:10:05 +0000 2020', 'id': 1253883955809521664, 'id_str': '1253883955809521664', 'text': '18 Best PyTorch Books of All Time. #BigData #Analytics #DataScience #IoT #IIoT #PyTorch #Python #RStats #TensorFlow… https://t.co/oXfTVHz9wm', 'truncated': True, 'entities': {'hashtags': [{'text': 'BigData', 'indices': [35, 43]}, {'text': 'Analytics', 'indices': [44, 54]}, {'text': 'DataScience', 'indices': [55, 67]}, {'text': 'IoT', 'indices': [68, 72]}, {'text': 'IIoT', 'indices': [73, 78]}, {'text': 'PyTorch', 'indices': [79, 87]}, {'text': 'Python', 'indices': [88, 95]}, {'text': 'RStats', 'indices': [96, 103]}, {'text': 'TensorFlow', 'indices': [104, 115]}], 'symbols': [], 'user_mentions': [], 'urls': [{'url': 'https://t.co/oXfTVHz9wm', 'expanded_url': 'https://twitter.com/i/web/status/1253883955809521664', 'display_url': 'twitter.com/i/web/status/1…', 'indices': [117, 140]}]}, 'metadata': {'iso_language_code': 'en', 'result_type': 'recent'}, 'source': '<a href=\"https://buffer.com\" rel=\"nofollow\">Buffer</a>', 'in_reply_to_status_id': None, 'in_reply_to_status_id_str': None, 'in_reply_to_user_id': None, 'in_reply_to_user_id_str': None, 'in_reply_to_screen_name': None, 'user': {'id': 4263007693, 'id_str': '4263007693', 'name': 'Dr. Ganapathi Pulipaka', 'screen_name': 'gp_pulipaka', 'location': 'Redondo Beach, CA', 'description': 'Chief Data Scientist @AccentureTech | Global Premier Speaker | PostDoc CS, PhD | Top Data Science Influencer | Bestselling Author | My Thoughts', 'url': 'https://t.co/CHWoaV475R', 'entities': {'url': {'urls': [{'url': 'https://t.co/CHWoaV475R', 'expanded_url': 'https://www.linkedin.com/in/dr-ganapathi-pulipaka-56417a2', 'display_url': 'linkedin.com/in/dr-ganapath…', 'indices': [0, 23]}]}, 'description': {'urls': []}}, 'protected': False, 'followers_count': 84477, 'friends_count': 25725, 'listed_count': 3438, 'created_at': 'Tue Nov 17 02:19:09 +0000 2015', 'favourites_count': 9, 'utc_offset': None, 'time_zone': None, 'geo_enabled': True, 'verified': False, 'statuses_count': 54850, 'lang': None, 'contributors_enabled': False, 'is_translator': False, 'is_translation_enabled': False, 'profile_background_color': '000000', 'profile_background_image_url': 'http://abs.twimg.com/images/themes/theme1/bg.png', 'profile_background_image_url_https': 'https://abs.twimg.com/images/themes/theme1/bg.png', 'profile_background_tile': False, 'profile_image_url': 'http://pbs.twimg.com/profile_images/998301258413850625/9BZwTjgv_normal.jpg', 'profile_image_url_https': 'https://pbs.twimg.com/profile_images/998301258413850625/9BZwTjgv_normal.jpg', 'profile_banner_url': 'https://pbs.twimg.com/profile_banners/4263007693/1583526136', 'profile_link_color': 'DD2E44', 'profile_sidebar_border_color': '000000', 'profile_sidebar_fill_color': '000000', 'profile_text_color': '000000', 'profile_use_background_image': False, 'has_extended_profile': True, 'default_profile': False, 'default_profile_image': False, 'following': False, 'follow_request_sent': False, 'notifications': False, 'translator_type': 'none'}, 'geo': None, 'coordinates': None, 'place': None, 'contributors': None, 'is_quote_status': False, 'retweet_count': 17, 'favorite_count': 13, 'favorited': False, 'retweeted': False, 'possibly_sensitive': False, 'lang': 'en'}, created_at=datetime.datetime(2020, 4, 25, 3, 10, 5), id=1253883955809521664, id_str='1253883955809521664', text='18 Best PyTorch Books of All Time. #BigData #Analytics #DataScience #IoT #IIoT #PyTorch #Python #RStats #TensorFlow… https://t.co/oXfTVHz9wm', truncated=True, entities={'hashtags': [{'text': 'BigData', 'indices': [35, 43]}, {'text': 'Analytics', 'indices': [44, 54]}, {'text': 'DataScience', 'indices': [55, 67]}, {'text': 'IoT', 'indices': [68, 72]}, {'text': 'IIoT', 'indices': [73, 78]}, {'text': 'PyTorch', 'indices': [79, 87]}, {'text': 'Python', 'indices': [88, 95]}, {'text': 'RStats', 'indices': [96, 103]}, {'text': 'TensorFlow', 'indices': [104, 115]}], 'symbols': [], 'user_mentions': [], 'urls': [{'url': 'https://t.co/oXfTVHz9wm', 'expanded_url': 'https://twitter.com/i/web/status/1253883955809521664', 'display_url': 'twitter.com/i/web/status/1…', 'indices': [117, 140]}]}, metadata={'iso_language_code': 'en', 'result_type': 'recent'}, source='Buffer', source_url='https://buffer.com', in_reply_to_status_id=None, in_reply_to_status_id_str=None, in_reply_to_user_id=None, in_reply_to_user_id_str=None, in_reply_to_screen_name=None, author=User(_api=<tweepy.api.API object at 0x000002DF37904F70>, _json={'id': 4263007693, 'id_str': '4263007693', 'name': 'Dr. Ganapathi Pulipaka', 'screen_name': 'gp_pulipaka', 'location': 'Redondo Beach, CA', 'description': 'Chief Data Scientist @AccentureTech | Global Premier Speaker | PostDoc CS, PhD | Top Data Science Influencer | Bestselling Author | My Thoughts', 'url': 'https://t.co/CHWoaV475R', 'entities': {'url': {'urls': [{'url': 'https://t.co/CHWoaV475R', 'expanded_url': 'https://www.linkedin.com/in/dr-ganapathi-pulipaka-56417a2', 'display_url': 'linkedin.com/in/dr-ganapath…', 'indices': [0, 23]}]}, 'description': {'urls': []}}, 'protected': False, 'followers_count': 84477, 'friends_count': 25725, 'listed_count': 3438, 'created_at': 'Tue Nov 17 02:19:09 +0000 2015', 'favourites_count': 9, 'utc_offset': None, 'time_zone': None, 'geo_enabled': True, 'verified': False, 'statuses_count': 54850, 'lang': None, 'contributors_enabled': False, 'is_translator': False, 'is_translation_enabled': False, 'profile_background_color': '000000', 'profile_background_image_url': 'http://abs.twimg.com/images/themes/theme1/bg.png', 'profile_background_image_url_https': 'https://abs.twimg.com/images/themes/theme1/bg.png', 'profile_background_tile': False, 'profile_image_url': 'http://pbs.twimg.com/profile_images/998301258413850625/9BZwTjgv_normal.jpg', 'profile_image_url_https': 'https://pbs.twimg.com/profile_images/998301258413850625/9BZwTjgv_normal.jpg', 'profile_banner_url': 'https://pbs.twimg.com/profile_banners/4263007693/1583526136', 'profile_link_color': 'DD2E44', 'profile_sidebar_border_color': '000000', 'profile_sidebar_fill_color': '000000', 'profile_text_color': '000000', 'profile_use_background_image': False, 'has_extended_profile': True, 'default_profile': False, 'default_profile_image': False, 'following': False, 'follow_request_sent': False, 'notifications': False, 'translator_type': 'none'}, id=4263007693, id_str='4263007693', name='Dr. Ganapathi Pulipaka', screen_name='gp_pulipaka', location='Redondo Beach, CA', description='Chief Data Scientist @AccentureTech | Global Premier Speaker | PostDoc CS, PhD | Top Data Science Influencer | Bestselling Author | My Thoughts', url='https://t.co/CHWoaV475R', entities={'url': {'urls': [{'url': 'https://t.co/CHWoaV475R', 'expanded_url': 'https://www.linkedin.com/in/dr-ganapathi-pulipaka-56417a2', 'display_url': 'linkedin.com/in/dr-ganapath…', 'indices': [0, 23]}]}, 'description': {'urls': []}}, protected=False, followers_count=84477, friends_count=25725, listed_count=3438, created_at=datetime.datetime(2015, 11, 17, 2, 19, 9), favourites_count=9, utc_offset=None, time_zone=None, geo_enabled=True, verified=False, statuses_count=54850, lang=None, contributors_enabled=False, is_translator=False, is_translation_enabled=False, profile_background_color='000000', profile_background_image_url='http://abs.twimg.com/images/themes/theme1/bg.png', profile_background_image_url_https='https://abs.twimg.com/images/themes/theme1/bg.png', profile_background_tile=False, profile_image_url='http://pbs.twimg.com/profile_images/998301258413850625/9BZwTjgv_normal.jpg', profile_image_url_https='https://pbs.twimg.com/profile_images/998301258413850625/9BZwTjgv_normal.jpg', profile_banner_url='https://pbs.twimg.com/profile_banners/4263007693/1583526136', profile_link_color='DD2E44', profile_sidebar_border_color='000000', profile_sidebar_fill_color='000000', profile_text_color='000000', profile_use_background_image=False, has_extended_profile=True, default_profile=False, default_profile_image=False, following=False, follow_request_sent=False, notifications=False, translator_type='none'), user=User(_api=<tweepy.api.API object at 0x000002DF37904F70>, _json={'id': 4263007693, 'id_str': '4263007693', 'name': 'Dr. Ganapathi Pulipaka', 'screen_name': 'gp_pulipaka', 'location': 'Redondo Beach, CA', 'description': 'Chief Data Scientist @AccentureTech | Global Premier Speaker | PostDoc CS, PhD | Top Data Science Influencer | Bestselling Author | My Thoughts', 'url': 'https://t.co/CHWoaV475R', 'entities': {'url': {'urls': [{'url': 'https://t.co/CHWoaV475R', 'expanded_url': 'https://www.linkedin.com/in/dr-ganapathi-pulipaka-56417a2', 'display_url': 'linkedin.com/in/dr-ganapath…', 'indices': [0, 23]}]}, 'description': {'urls': []}}, 'protected': False, 'followers_count': 84477, 'friends_count': 25725, 'listed_count': 3438, 'created_at': 'Tue Nov 17 02:19:09 +0000 2015', 'favourites_count': 9, 'utc_offset': None, 'time_zone': None, 'geo_enabled': True, 'verified': False, 'statuses_count': 54850, 'lang': None, 'contributors_enabled': False, 'is_translator': False, 'is_translation_enabled': False, 'profile_background_color': '000000', 'profile_background_image_url': 'http://abs.twimg.com/images/themes/theme1/bg.png', 'profile_background_image_url_https': 'https://abs.twimg.com/images/themes/theme1/bg.png', 'profile_background_tile': False, 'profile_image_url': 'http://pbs.twimg.com/profile_images/998301258413850625/9BZwTjgv_normal.jpg', 'profile_image_url_https': 'https://pbs.twimg.com/profile_images/998301258413850625/9BZwTjgv_normal.jpg', 'profile_banner_url': 'https://pbs.twimg.com/profile_banners/4263007693/1583526136', 'profile_link_color': 'DD2E44', 'profile_sidebar_border_color': '000000', 'profile_sidebar_fill_color': '000000', 'profile_text_color': '000000', 'profile_use_background_image': False, 'has_extended_profile': True, 'default_profile': False, 'default_profile_image': False, 'following': False, 'follow_request_sent': False, 'notifications': False, 'translator_type': 'none'}, id=4263007693, id_str='4263007693', name='Dr. Ganapathi Pulipaka', screen_name='gp_pulipaka', location='Redondo Beach, CA', description='Chief Data Scientist @AccentureTech | Global Premier Speaker | PostDoc CS, PhD | Top Data Science Influencer | Bestselling Author | My Thoughts', url='https://t.co/CHWoaV475R', entities={'url': {'urls': [{'url': 'https://t.co/CHWoaV475R', 'expanded_url': 'https://www.linkedin.com/in/dr-ganapathi-pulipaka-56417a2', 'display_url': 'linkedin.com/in/dr-ganapath…', 'indices': [0, 23]}]}, 'description': {'urls': []}}, protected=False, followers_count=84477, friends_count=25725, listed_count=3438, created_at=datetime.datetime(2015, 11, 17, 2, 19, 9), favourites_count=9, utc_offset=None, time_zone=None, geo_enabled=True, verified=False, statuses_count=54850, lang=None, contributors_enabled=False, is_translator=False, is_translation_enabled=False, profile_background_color='000000', profile_background_image_url='http://abs.twimg.com/images/themes/theme1/bg.png', profile_background_image_url_https='https://abs.twimg.com/images/themes/theme1/bg.png', profile_background_tile=False, profile_image_url='http://pbs.twimg.com/profile_images/998301258413850625/9BZwTjgv_normal.jpg', profile_image_url_https='https://pbs.twimg.com/profile_images/998301258413850625/9BZwTjgv_normal.jpg', profile_banner_url='https://pbs.twimg.com/profile_banners/4263007693/1583526136', profile_link_color='DD2E44', profile_sidebar_border_color='000000', profile_sidebar_fill_color='000000', profile_text_color='000000', profile_use_background_image=False, has_extended_profile=True, default_profile=False, default_profile_image=False, following=False, follow_request_sent=False, notifications=False, translator_type='none'), geo=None, coordinates=None, place=None, contributors=None, is_quote_status=False, retweet_count=17, favorite_count=13, favorited=False, retweeted=False, possibly_sensitive=False, lang='en'), is_quote_status=False, retweet_count=17, favorite_count=0, favorited=False, retweeted=False, lang='en'),\n Status(_api=<tweepy.api.API object at 0x000002DF37904F70>, _json={'created_at': 'Sat Apr 25 03:18:31 +0000 2020', 'id': 1253886076726501379, 'id_str': '1253886076726501379', 'text': 'RT @gp_pulipaka: 18 Best PyTorch Books of All Time. #BigData #Analytics #DataScience #IoT #IIoT #PyTorch #Python #RStats #TensorFlow #Java…', 'truncated': False, 'entities': {'hashtags': [{'text': 'BigData', 'indices': [52, 60]}, {'text': 'Analytics', 'indices': [61, 71]}, {'text': 'DataScience', 'indices': [72, 84]}, {'text': 'IoT', 'indices': [85, 89]}, {'text': 'IIoT', 'indices': [90, 95]}, {'text': 'PyTorch', 'indices': [96, 104]}, {'text': 'Python', 'indices': [105, 112]}, {'text': 'RStats', 'indices': [113, 120]}, {'text': 'TensorFlow', 'indices': [121, 132]}, {'text': 'Java', 'indices': [133, 138]}], 'symbols': [], 'user_mentions': [{'screen_name': 'gp_pulipaka', 'name': 'Dr. Ganapathi Pulipaka', 'id': 4263007693, 'id_str': '4263007693', 'indices': [3, 15]}], 'urls': []}, 'metadata': {'iso_language_code': 'en', 'result_type': 'recent'}, 'source': '<a href=\"https://digitalinspiration.com\" rel=\"nofollow\">AI News BOT</a>', 'in_reply_to_status_id': None, 'in_reply_to_status_id_str': None, 'in_reply_to_user_id': None, 'in_reply_to_user_id_str': None, 'in_reply_to_screen_name': None, 'user': {'id': 1134668128489656320, 'id_str': '1134668128489656320', 'name': 'Shy BOT', 'screen_name': 'ShyBOT7', 'location': '', 'description': 'Gathering #AI & #TensorFlow related tweets. I belong to @rebeccapark', 'url': None, 'entities': {'description': {'urls': []}}, 'protected': False, 'followers_count': 204, 'friends_count': 1, 'listed_count': 11, 'created_at': 'Sat Jun 01 03:48:57 +0000 2019', 'favourites_count': 2, 'utc_offset': None, 'time_zone': None, 'geo_enabled': False, 'verified': False, 'statuses_count': 39248, 'lang': None, 'contributors_enabled': False, 'is_translator': False, 'is_translation_enabled': False, 'profile_background_color': 'F5F8FA', 'profile_background_image_url': None, 'profile_background_image_url_https': None, 'profile_background_tile': False, 'profile_image_url': 'http://pbs.twimg.com/profile_images/1134668251844136960/VXLcIeXE_normal.jpg', 'profile_image_url_https': 'https://pbs.twimg.com/profile_images/1134668251844136960/VXLcIeXE_normal.jpg', 'profile_link_color': '1DA1F2', 'profile_sidebar_border_color': 'C0DEED', 'profile_sidebar_fill_color': 'DDEEF6', 'profile_text_color': '333333', 'profile_use_background_image': True, 'has_extended_profile': False, 'default_profile': True, 'default_profile_image': False, 'following': False, 'follow_request_sent': False, 'notifications': False, 'translator_type': 'none'}, 'geo': None, 'coordinates': None, 'place': None, 'contributors': None, 'retweeted_status': {'created_at': 'Sat Apr 25 03:10:05 +0000 2020', 'id': 1253883955809521664, 'id_str': '1253883955809521664', 'text': '18 Best PyTorch Books of All Time. #BigData #Analytics #DataScience #IoT #IIoT #PyTorch #Python #RStats #TensorFlow… https://t.co/oXfTVHz9wm', 'truncated': True, 'entities': {'hashtags': [{'text': 'BigData', 'indices': [35, 43]}, {'text': 'Analytics', 'indices': [44, 54]}, {'text': 'DataScience', 'indices': [55, 67]}, {'text': 'IoT', 'indices': [68, 72]}, {'text': 'IIoT', 'indices': [73, 78]}, {'text': 'PyTorch', 'indices': [79, 87]}, {'text': 'Python', 'indices': [88, 95]}, {'text': 'RStats', 'indices': [96, 103]}, {'text': 'TensorFlow', 'indices': [104, 115]}], 'symbols': [], 'user_mentions': [], 'urls': [{'url': 'https://t.co/oXfTVHz9wm', 'expanded_url': 'https://twitter.com/i/web/status/1253883955809521664', 'display_url': 'twitter.com/i/web/status/1…', 'indices': [117, 140]}]}, 'metadata': {'iso_language_code': 'en', 'result_type': 'recent'}, 'source': '<a href=\"https://buffer.com\" rel=\"nofollow\">Buffer</a>', 'in_reply_to_status_id': None, 'in_reply_to_status_id_str': None, 'in_reply_to_user_id': None, 'in_reply_to_user_id_str': None, 'in_reply_to_screen_name': None, 'user': {'id': 4263007693, 'id_str': '4263007693', 'name': 'Dr. Ganapathi Pulipaka', 'screen_name': 'gp_pulipaka', 'location': 'Redondo Beach, CA', 'description': 'Chief Data Scientist @AccentureTech | Global Premier Speaker | PostDoc CS, PhD | Top Data Science Influencer | Bestselling Author | My Thoughts', 'url': 'https://t.co/CHWoaV475R', 'entities': {'url': {'urls': [{'url': 'https://t.co/CHWoaV475R', 'expanded_url': 'https://www.linkedin.com/in/dr-ganapathi-pulipaka-56417a2', 'display_url': 'linkedin.com/in/dr-ganapath…', 'indices': [0, 23]}]}, 'description': {'urls': []}}, 'protected': False, 'followers_count': 84477, 'friends_count': 25725, 'listed_count': 3438, 'created_at': 'Tue Nov 17 02:19:09 +0000 2015', 'favourites_count': 9, 'utc_offset': None, 'time_zone': None, 'geo_enabled': True, 'verified': False, 'statuses_count': 54850, 'lang': None, 'contributors_enabled': False, 'is_translator': False, 'is_translation_enabled': False, 'profile_background_color': '000000', 'profile_background_image_url': 'http://abs.twimg.com/images/themes/theme1/bg.png', 'profile_background_image_url_https': 'https://abs.twimg.com/images/themes/theme1/bg.png', 'profile_background_tile': False, 'profile_image_url': 'http://pbs.twimg.com/profile_images/998301258413850625/9BZwTjgv_normal.jpg', 'profile_image_url_https': 'https://pbs.twimg.com/profile_images/998301258413850625/9BZwTjgv_normal.jpg', 'profile_banner_url': 'https://pbs.twimg.com/profile_banners/4263007693/1583526136', 'profile_link_color': 'DD2E44', 'profile_sidebar_border_color': '000000', 'profile_sidebar_fill_color': '000000', 'profile_text_color': '000000', 'profile_use_background_image': False, 'has_extended_profile': True, 'default_profile': False, 'default_profile_image': False, 'following': False, 'follow_request_sent': False, 'notifications': False, 'translator_type': 'none'}, 'geo': None, 'coordinates': None, 'place': None, 'contributors': None, 'is_quote_status': False, 'retweet_count': 17, 'favorite_count': 13, 'favorited': False, 'retweeted': False, 'possibly_sensitive': False, 'lang': 'en'}, 'is_quote_status': False, 'retweet_count': 17, 'favorite_count': 0, 'favorited': False, 'retweeted': False, 'lang': 'en'}, created_at=datetime.datetime(2020, 4, 25, 3, 18, 31), id=1253886076726501379, id_str='1253886076726501379', text='RT @gp_pulipaka: 18 Best PyTorch Books of All Time. #BigData #Analytics #DataScience #IoT #IIoT #PyTorch #Python #RStats #TensorFlow #Java…', truncated=False, entities={'hashtags': [{'text': 'BigData', 'indices': [52, 60]}, {'text': 'Analytics', 'indices': [61, 71]}, {'text': 'DataScience', 'indices': [72, 84]}, {'text': 'IoT', 'indices': [85, 89]}, {'text': 'IIoT', 'indices': [90, 95]}, {'text': 'PyTorch', 'indices': [96, 104]}, {'text': 'Python', 'indices': [105, 112]}, {'text': 'RStats', 'indices': [113, 120]}, {'text': 'TensorFlow', 'indices': [121, 132]}, {'text': 'Java', 'indices': [133, 138]}], 'symbols': [], 'user_mentions': [{'screen_name': 'gp_pulipaka', 'name': 'Dr. Ganapathi Pulipaka', 'id': 4263007693, 'id_str': '4263007693', 'indices': [3, 15]}], 'urls': []}, metadata={'iso_language_code': 'en', 'result_type': 'recent'}, source='AI News BOT', source_url='https://digitalinspiration.com', in_reply_to_status_id=None, in_reply_to_status_id_str=None, in_reply_to_user_id=None, in_reply_to_user_id_str=None, in_reply_to_screen_name=None, author=User(_api=<tweepy.api.API object at 0x000002DF37904F70>, _json={'id': 1134668128489656320, 'id_str': '1134668128489656320', 'name': 'Shy BOT', 'screen_name': 'ShyBOT7', 'location': '', 'description': 'Gathering #AI & #TensorFlow related tweets. I belong to @rebeccapark', 'url': None, 'entities': {'description': {'urls': []}}, 'protected': False, 'followers_count': 204, 'friends_count': 1, 'listed_count': 11, 'created_at': 'Sat Jun 01 03:48:57 +0000 2019', 'favourites_count': 2, 'utc_offset': None, 'time_zone': None, 'geo_enabled': False, 'verified': False, 'statuses_count': 39248, 'lang': None, 'contributors_enabled': False, 'is_translator': False, 'is_translation_enabled': False, 'profile_background_color': 'F5F8FA', 'profile_background_image_url': None, 'profile_background_image_url_https': None, 'profile_background_tile': False, 'profile_image_url': 'http://pbs.twimg.com/profile_images/1134668251844136960/VXLcIeXE_normal.jpg', 'profile_image_url_https': 'https://pbs.twimg.com/profile_images/1134668251844136960/VXLcIeXE_normal.jpg', 'profile_link_color': '1DA1F2', 'profile_sidebar_border_color': 'C0DEED', 'profile_sidebar_fill_color': 'DDEEF6', 'profile_text_color': '333333', 'profile_use_background_image': True, 'has_extended_profile': False, 'default_profile': True, 'default_profile_image': False, 'following': False, 'follow_request_sent': False, 'notifications': False, 'translator_type': 'none'}, id=1134668128489656320, id_str='1134668128489656320', name='Shy BOT', screen_name='ShyBOT7', location='', description='Gathering #AI & #TensorFlow related tweets. I belong to @rebeccapark', url=None, entities={'description': {'urls': []}}, protected=False, followers_count=204, friends_count=1, listed_count=11, created_at=datetime.datetime(2019, 6, 1, 3, 48, 57), favourites_count=2, utc_offset=None, time_zone=None, geo_enabled=False, verified=False, statuses_count=39248, lang=None, contributors_enabled=False, is_translator=False, is_translation_enabled=False, profile_background_color='F5F8FA', profile_background_image_url=None, profile_background_image_url_https=None, profile_background_tile=False, profile_image_url='http://pbs.twimg.com/profile_images/1134668251844136960/VXLcIeXE_normal.jpg', profile_image_url_https='https://pbs.twimg.com/profile_images/1134668251844136960/VXLcIeXE_normal.jpg', profile_link_color='1DA1F2', profile_sidebar_border_color='C0DEED', profile_sidebar_fill_color='DDEEF6', profile_text_color='333333', profile_use_background_image=True, has_extended_profile=False, default_profile=True, default_profile_image=False, following=False, follow_request_sent=False, notifications=False, translator_type='none'), user=User(_api=<tweepy.api.API object at 0x000002DF37904F70>, _json={'id': 1134668128489656320, 'id_str': '1134668128489656320', 'name': 'Shy BOT', 'screen_name': 'ShyBOT7', 'location': '', 'description': 'Gathering #AI & #TensorFlow related tweets. I belong to @rebeccapark', 'url': None, 'entities': {'description': {'urls': []}}, 'protected': False, 'followers_count': 204, 'friends_count': 1, 'listed_count': 11, 'created_at': 'Sat Jun 01 03:48:57 +0000 2019', 'favourites_count': 2, 'utc_offset': None, 'time_zone': None, 'geo_enabled': False, 'verified': False, 'statuses_count': 39248, 'lang': None, 'contributors_enabled': False, 'is_translator': False, 'is_translation_enabled': False, 'profile_background_color': 'F5F8FA', 'profile_background_image_url': None, 'profile_background_image_url_https': None, 'profile_background_tile': False, 'profile_image_url': 'http://pbs.twimg.com/profile_images/1134668251844136960/VXLcIeXE_normal.jpg', 'profile_image_url_https': 'https://pbs.twimg.com/profile_images/1134668251844136960/VXLcIeXE_normal.jpg', 'profile_link_color': '1DA1F2', 'profile_sidebar_border_color': 'C0DEED', 'profile_sidebar_fill_color': 'DDEEF6', 'profile_text_color': '333333', 'profile_use_background_image': True, 'has_extended_profile': False, 'default_profile': True, 'default_profile_image': False, 'following': False, 'follow_request_sent': False, 'notifications': False, 'translator_type': 'none'}, id=1134668128489656320, id_str='1134668128489656320', name='Shy BOT', screen_name='ShyBOT7', location='', description='Gathering #AI & #TensorFlow related tweets. I belong to @rebeccapark', url=None, entities={'description': {'urls': []}}, protected=False, followers_count=204, friends_count=1, listed_count=11, created_at=datetime.datetime(2019, 6, 1, 3, 48, 57), favourites_count=2, utc_offset=None, time_zone=None, geo_enabled=False, verified=False, statuses_count=39248, lang=None, contributors_enabled=False, is_translator=False, is_translation_enabled=False, profile_background_color='F5F8FA', profile_background_image_url=None, profile_background_image_url_https=None, profile_background_tile=False, profile_image_url='http://pbs.twimg.com/profile_images/1134668251844136960/VXLcIeXE_normal.jpg', profile_image_url_https='https://pbs.twimg.com/profile_images/1134668251844136960/VXLcIeXE_normal.jpg', profile_link_color='1DA1F2', profile_sidebar_border_color='C0DEED', profile_sidebar_fill_color='DDEEF6', profile_text_color='333333', profile_use_background_image=True, has_extended_profile=False, default_profile=True, default_profile_image=False, following=False, follow_request_sent=False, notifications=False, translator_type='none'), geo=None, coordinates=None, place=None, contributors=None, retweeted_status=Status(_api=<tweepy.api.API object at 0x000002DF37904F70>, _json={'created_at': 'Sat Apr 25 03:10:05 +0000 2020', 'id': 1253883955809521664, 'id_str': '1253883955809521664', 'text': '18 Best PyTorch Books of All Time. #BigData #Analytics #DataScience #IoT #IIoT #PyTorch #Python #RStats #TensorFlow… https://t.co/oXfTVHz9wm', 'truncated': True, 'entities': {'hashtags': [{'text': 'BigData', 'indices': [35, 43]}, {'text': 'Analytics', 'indices': [44, 54]}, {'text': 'DataScience', 'indices': [55, 67]}, {'text': 'IoT', 'indices': [68, 72]}, {'text': 'IIoT', 'indices': [73, 78]}, {'text': 'PyTorch', 'indices': [79, 87]}, {'text': 'Python', 'indices': [88, 95]}, {'text': 'RStats', 'indices': [96, 103]}, {'text': 'TensorFlow', 'indices': [104, 115]}], 'symbols': [], 'user_mentions': [], 'urls': [{'url': 'https://t.co/oXfTVHz9wm', 'expanded_url': 'https://twitter.com/i/web/status/1253883955809521664', 'display_url': 'twitter.com/i/web/status/1…', 'indices': [117, 140]}]}, 'metadata': {'iso_language_code': 'en', 'result_type': 'recent'}, 'source': '<a href=\"https://buffer.com\" rel=\"nofollow\">Buffer</a>', 'in_reply_to_status_id': None, 'in_reply_to_status_id_str': None, 'in_reply_to_user_id': None, 'in_reply_to_user_id_str': None, 'in_reply_to_screen_name': None, 'user': {'id': 4263007693, 'id_str': '4263007693', 'name': 'Dr. Ganapathi Pulipaka', 'screen_name': 'gp_pulipaka', 'location': 'Redondo Beach, CA', 'description': 'Chief Data Scientist @AccentureTech | Global Premier Speaker | PostDoc CS, PhD | Top Data Science Influencer | Bestselling Author | My Thoughts', 'url': 'https://t.co/CHWoaV475R', 'entities': {'url': {'urls': [{'url': 'https://t.co/CHWoaV475R', 'expanded_url': 'https://www.linkedin.com/in/dr-ganapathi-pulipaka-56417a2', 'display_url': 'linkedin.com/in/dr-ganapath…', 'indices': [0, 23]}]}, 'description': {'urls': []}}, 'protected': False, 'followers_count': 84477, 'friends_count': 25725, 'listed_count': 3438, 'created_at': 'Tue Nov 17 02:19:09 +0000 2015', 'favourites_count': 9, 'utc_offset': None, 'time_zone': None, 'geo_enabled': True, 'verified': False, 'statuses_count': 54850, 'lang': None, 'contributors_enabled': False, 'is_translator': False, 'is_translation_enabled': False, 'profile_background_color': '000000', 'profile_background_image_url': 'http://abs.twimg.com/images/themes/theme1/bg.png', 'profile_background_image_url_https': 'https://abs.twimg.com/images/themes/theme1/bg.png', 'profile_background_tile': False, 'profile_image_url': 'http://pbs.twimg.com/profile_images/998301258413850625/9BZwTjgv_normal.jpg', 'profile_image_url_https': 'https://pbs.twimg.com/profile_images/998301258413850625/9BZwTjgv_normal.jpg', 'profile_banner_url': 'https://pbs.twimg.com/profile_banners/4263007693/1583526136', 'profile_link_color': 'DD2E44', 'profile_sidebar_border_color': '000000', 'profile_sidebar_fill_color': '000000', 'profile_text_color': '000000', 'profile_use_background_image': False, 'has_extended_profile': True, 'default_profile': False, 'default_profile_image': False, 'following': False, 'follow_request_sent': False, 'notifications': False, 'translator_type': 'none'}, 'geo': None, 'coordinates': None, 'place': None, 'contributors': None, 'is_quote_status': False, 'retweet_count': 17, 'favorite_count': 13, 'favorited': False, 'retweeted': False, 'possibly_sensitive': False, 'lang': 'en'}, created_at=datetime.datetime(2020, 4, 25, 3, 10, 5), id=1253883955809521664, id_str='1253883955809521664', text='18 Best PyTorch Books of All Time. #BigData #Analytics #DataScience #IoT #IIoT #PyTorch #Python #RStats #TensorFlow… https://t.co/oXfTVHz9wm', truncated=True, entities={'hashtags': [{'text': 'BigData', 'indices': [35, 43]}, {'text': 'Analytics', 'indices': [44, 54]}, {'text': 'DataScience', 'indices': [55, 67]}, {'text': 'IoT', 'indices': [68, 72]}, {'text': 'IIoT', 'indices': [73, 78]}, {'text': 'PyTorch', 'indices': [79, 87]}, {'text': 'Python', 'indices': [88, 95]}, {'text': 'RStats', 'indices': [96, 103]}, {'text': 'TensorFlow', 'indices': [104, 115]}], 'symbols': [], 'user_mentions': [], 'urls': [{'url': 'https://t.co/oXfTVHz9wm', 'expanded_url': 'https://twitter.com/i/web/status/1253883955809521664', 'display_url': 'twitter.com/i/web/status/1…', 'indices': [117, 140]}]}, metadata={'iso_language_code': 'en', 'result_type': 'recent'}, source='Buffer', source_url='https://buffer.com', in_reply_to_status_id=None, in_reply_to_status_id_str=None, in_reply_to_user_id=None, in_reply_to_user_id_str=None, in_reply_to_screen_name=None, author=User(_api=<tweepy.api.API object at 0x000002DF37904F70>, _json={'id': 4263007693, 'id_str': '4263007693', 'name': 'Dr. Ganapathi Pulipaka', 'screen_name': 'gp_pulipaka', 'location': 'Redondo Beach, CA', 'description': 'Chief Data Scientist @AccentureTech | Global Premier Speaker | PostDoc CS, PhD | Top Data Science Influencer | Bestselling Author | My Thoughts', 'url': 'https://t.co/CHWoaV475R', 'entities': {'url': {'urls': [{'url': 'https://t.co/CHWoaV475R', 'expanded_url': 'https://www.linkedin.com/in/dr-ganapathi-pulipaka-56417a2', 'display_url': 'linkedin.com/in/dr-ganapath…', 'indices': [0, 23]}]}, 'description': {'urls': []}}, 'protected': False, 'followers_count': 84477, 'friends_count': 25725, 'listed_count': 3438, 'created_at': 'Tue Nov 17 02:19:09 +0000 2015', 'favourites_count': 9, 'utc_offset': None, 'time_zone': None, 'geo_enabled': True, 'verified': False, 'statuses_count': 54850, 'lang': None, 'contributors_enabled': False, 'is_translator': False, 'is_translation_enabled': False, 'profile_background_color': '000000', 'profile_background_image_url': 'http://abs.twimg.com/images/themes/theme1/bg.png', 'profile_background_image_url_https': 'https://abs.twimg.com/images/themes/theme1/bg.png', 'profile_background_tile': False, 'profile_image_url': 'http://pbs.twimg.com/profile_images/998301258413850625/9BZwTjgv_normal.jpg', 'profile_image_url_https': 'https://pbs.twimg.com/profile_images/998301258413850625/9BZwTjgv_normal.jpg', 'profile_banner_url': 'https://pbs.twimg.com/profile_banners/4263007693/1583526136', 'profile_link_color': 'DD2E44', 'profile_sidebar_border_color': '000000', 'profile_sidebar_fill_color': '000000', 'profile_text_color': '000000', 'profile_use_background_image': False, 'has_extended_profile': True, 'default_profile': False, 'default_profile_image': False, 'following': False, 'follow_request_sent': False, 'notifications': False, 'translator_type': 'none'}, id=4263007693, id_str='4263007693', name='Dr. Ganapathi Pulipaka', screen_name='gp_pulipaka', location='Redondo Beach, CA', description='Chief Data Scientist @AccentureTech | Global Premier Speaker | PostDoc CS, PhD | Top Data Science Influencer | Bestselling Author | My Thoughts', url='https://t.co/CHWoaV475R', entities={'url': {'urls': [{'url': 'https://t.co/CHWoaV475R', 'expanded_url': 'https://www.linkedin.com/in/dr-ganapathi-pulipaka-56417a2', 'display_url': 'linkedin.com/in/dr-ganapath…', 'indices': [0, 23]}]}, 'description': {'urls': []}}, protected=False, followers_count=84477, friends_count=25725, listed_count=3438, created_at=datetime.datetime(2015, 11, 17, 2, 19, 9), favourites_count=9, utc_offset=None, time_zone=None, geo_enabled=True, verified=False, statuses_count=54850, lang=None, contributors_enabled=False, is_translator=False, is_translation_enabled=False, profile_background_color='000000', profile_background_image_url='http://abs.twimg.com/images/themes/theme1/bg.png', profile_background_image_url_https='https://abs.twimg.com/images/themes/theme1/bg.png', profile_background_tile=False, profile_image_url='http://pbs.twimg.com/profile_images/998301258413850625/9BZwTjgv_normal.jpg', profile_image_url_https='https://pbs.twimg.com/profile_images/998301258413850625/9BZwTjgv_normal.jpg', profile_banner_url='https://pbs.twimg.com/profile_banners/4263007693/1583526136', profile_link_color='DD2E44', profile_sidebar_border_color='000000', profile_sidebar_fill_color='000000', profile_text_color='000000', profile_use_background_image=False, has_extended_profile=True, default_profile=False, default_profile_image=False, following=False, follow_request_sent=False, notifications=False, translator_type='none'), user=User(_api=<tweepy.api.API object at 0x000002DF37904F70>, _json={'id': 4263007693, 'id_str': '4263007693', 'name': 'Dr. Ganapathi Pulipaka', 'screen_name': 'gp_pulipaka', 'location': 'Redondo Beach, CA', 'description': 'Chief Data Scientist @AccentureTech | Global Premier Speaker | PostDoc CS, PhD | Top Data Science Influencer | Bestselling Author | My Thoughts', 'url': 'https://t.co/CHWoaV475R', 'entities': {'url': {'urls': [{'url': 'https://t.co/CHWoaV475R', 'expanded_url': 'https://www.linkedin.com/in/dr-ganapathi-pulipaka-56417a2', 'display_url': 'linkedin.com/in/dr-ganapath…', 'indices': [0, 23]}]}, 'description': {'urls': []}}, 'protected': False, 'followers_count': 84477, 'friends_count': 25725, 'listed_count': 3438, 'created_at': 'Tue Nov 17 02:19:09 +0000 2015', 'favourites_count': 9, 'utc_offset': None, 'time_zone': None, 'geo_enabled': True, 'verified': False, 'statuses_count': 54850, 'lang': None, 'contributors_enabled': False, 'is_translator': False, 'is_translation_enabled': False, 'profile_background_color': '000000', 'profile_background_image_url': 'http://abs.twimg.com/images/themes/theme1/bg.png', 'profile_background_image_url_https': 'https://abs.twimg.com/images/themes/theme1/bg.png', 'profile_background_tile': False, 'profile_image_url': 'http://pbs.twimg.com/profile_images/998301258413850625/9BZwTjgv_normal.jpg', 'profile_image_url_https': 'https://pbs.twimg.com/profile_images/998301258413850625/9BZwTjgv_normal.jpg', 'profile_banner_url': 'https://pbs.twimg.com/profile_banners/4263007693/1583526136', 'profile_link_color': 'DD2E44', 'profile_sidebar_border_color': '000000', 'profile_sidebar_fill_color': '000000', 'profile_text_color': '000000', 'profile_use_background_image': False, 'has_extended_profile': True, 'default_profile': False, 'default_profile_image': False, 'following': False, 'follow_request_sent': False, 'notifications': False, 'translator_type': 'none'}, id=4263007693, id_str='4263007693', name='Dr. Ganapathi Pulipaka', screen_name='gp_pulipaka', location='Redondo Beach, CA', description='Chief Data Scientist @AccentureTech | Global Premier Speaker | PostDoc CS, PhD | Top Data Science Influencer | Bestselling Author | My Thoughts', url='https://t.co/CHWoaV475R', entities={'url': {'urls': [{'url': 'https://t.co/CHWoaV475R', 'expanded_url': 'https://www.linkedin.com/in/dr-ganapathi-pulipaka-56417a2', 'display_url': 'linkedin.com/in/dr-ganapath…', 'indices': [0, 23]}]}, 'description': {'urls': []}}, protected=False, followers_count=84477, friends_count=25725, listed_count=3438, created_at=datetime.datetime(2015, 11, 17, 2, 19, 9), favourites_count=9, utc_offset=None, time_zone=None, geo_enabled=True, verified=False, statuses_count=54850, lang=None, contributors_enabled=False, is_translator=False, is_translation_enabled=False, profile_background_color='000000', profile_background_image_url='http://abs.twimg.com/images/themes/theme1/bg.png', profile_background_image_url_https='https://abs.twimg.com/images/themes/theme1/bg.png', profile_background_tile=False, profile_image_url='http://pbs.twimg.com/profile_images/998301258413850625/9BZwTjgv_normal.jpg', profile_image_url_https='https://pbs.twimg.com/profile_images/998301258413850625/9BZwTjgv_normal.jpg', profile_banner_url='https://pbs.twimg.com/profile_banners/4263007693/1583526136', profile_link_color='DD2E44', profile_sidebar_border_color='000000', profile_sidebar_fill_color='000000', profile_text_color='000000', profile_use_background_image=False, has_extended_profile=True, default_profile=False, default_profile_image=False, following=False, follow_request_sent=False, notifications=False, translator_type='none'), geo=None, coordinates=None, place=None, contributors=None, is_quote_status=False, retweet_count=17, favorite_count=13, favorited=False, retweeted=False, possibly_sensitive=False, lang='en'), is_quote_status=False, retweet_count=17, favorite_count=0, favorited=False, retweeted=False, lang='en'),\n Status(_api=<tweepy.api.API object at 0x000002DF37904F70>, _json={'created_at': 'Sat Apr 25 03:18:22 +0000 2020', 'id': 1253886038117945344, 'id_str': '1253886038117945344', 'text': 'RT @gp_pulipaka: Autoencoders with AI. #BigData #Analytics #DataScience #AI #MachineLearning #IoT #IIoT #PyTorch #Python #RStats #TensorFlo…', 'truncated': False, 'entities': {'hashtags': [{'text': 'BigData', 'indices': [39, 47]}, {'text': 'Analytics', 'indices': [48, 58]}, {'text': 'DataScience', 'indices': [59, 71]}, {'text': 'AI', 'indices': [72, 75]}, {'text': 'MachineLearning', 'indices': [76, 92]}, {'text': 'IoT', 'indices': [93, 97]}, {'text': 'IIoT', 'indices': [98, 103]}, {'text': 'PyTorch', 'indices': [104, 112]}, {'text': 'Python', 'indices': [113, 120]}, {'text': 'RStats', 'indices': [121, 128]}], 'symbols': [], 'user_mentions': [{'screen_name': 'gp_pulipaka', 'name': 'Dr. Ganapathi Pulipaka', 'id': 4263007693, 'id_str': '4263007693', 'indices': [3, 15]}], 'urls': []}, 'metadata': {'iso_language_code': 'en', 'result_type': 'recent'}, 'source': '<a href=\"https://digitalinspiration.com\" rel=\"nofollow\">AI News BOT</a>', 'in_reply_to_status_id': None, 'in_reply_to_status_id_str': None, 'in_reply_to_user_id': None, 'in_reply_to_user_id_str': None, 'in_reply_to_screen_name': None, 'user': {'id': 1134668128489656320, 'id_str': '1134668128489656320', 'name': 'Shy BOT', 'screen_name': 'ShyBOT7', 'location': '', 'description': 'Gathering #AI & #TensorFlow related tweets. I belong to @rebeccapark', 'url': None, 'entities': {'description': {'urls': []}}, 'protected': False, 'followers_count': 204, 'friends_count': 1, 'listed_count': 11, 'created_at': 'Sat Jun 01 03:48:57 +0000 2019', 'favourites_count': 2, 'utc_offset': None, 'time_zone': None, 'geo_enabled': False, 'verified': False, 'statuses_count': 39248, 'lang': None, 'contributors_enabled': False, 'is_translator': False, 'is_translation_enabled': False, 'profile_background_color': 'F5F8FA', 'profile_background_image_url': None, 'profile_background_image_url_https': None, 'profile_background_tile': False, 'profile_image_url': 'http://pbs.twimg.com/profile_images/1134668251844136960/VXLcIeXE_normal.jpg', 'profile_image_url_https': 'https://pbs.twimg.com/profile_images/1134668251844136960/VXLcIeXE_normal.jpg', 'profile_link_color': '1DA1F2', 'profile_sidebar_border_color': 'C0DEED', 'profile_sidebar_fill_color': 'DDEEF6', 'profile_text_color': '333333', 'profile_use_background_image': True, 'has_extended_profile': False, 'default_profile': True, 'default_profile_image': False, 'following': False, 'follow_request_sent': False, 'notifications': False, 'translator_type': 'none'}, 'geo': None, 'coordinates': None, 'place': None, 'contributors': None, 'retweeted_status': {'created_at': 'Sat Apr 25 02:34:15 +0000 2020', 'id': 1253874937846169601, 'id_str': '1253874937846169601', 'text': 'Autoencoders with AI. #BigData #Analytics #DataScience #AI #MachineLearning #IoT #IIoT #PyTorch #Python #RStats… https://t.co/gWBQNQTDP9', 'truncated': True, 'entities': {'hashtags': [{'text': 'BigData', 'indices': [22, 30]}, {'text': 'Analytics', 'indices': [31, 41]}, {'text': 'DataScience', 'indices': [42, 54]}, {'text': 'AI', 'indices': [55, 58]}, {'text': 'MachineLearning', 'indices': [59, 75]}, {'text': 'IoT', 'indices': [76, 80]}, {'text': 'IIoT', 'indices': [81, 86]}, {'text': 'PyTorch', 'indices': [87, 95]}, {'text': 'Python', 'indices': [96, 103]}, {'text': 'RStats', 'indices': [104, 111]}], 'symbols': [], 'user_mentions': [], 'urls': [{'url': 'https://t.co/gWBQNQTDP9', 'expanded_url': 'https://twitter.com/i/web/status/1253874937846169601', 'display_url': 'twitter.com/i/web/status/1…', 'indices': [113, 136]}]}, 'metadata': {'iso_language_code': 'en', 'result_type': 'recent'}, 'source': '<a href=\"https://buffer.com\" rel=\"nofollow\">Buffer</a>', 'in_reply_to_status_id': None, 'in_reply_to_status_id_str': None, 'in_reply_to_user_id': None, 'in_reply_to_user_id_str': None, 'in_reply_to_screen_name': None, 'user': {'id': 4263007693, 'id_str': '4263007693', 'name': 'Dr. Ganapathi Pulipaka', 'screen_name': 'gp_pulipaka', 'location': 'Redondo Beach, CA', 'description': 'Chief Data Scientist @AccentureTech | Global Premier Speaker | PostDoc CS, PhD | Top Data Science Influencer | Bestselling Author | My Thoughts', 'url': 'https://t.co/CHWoaV475R', 'entities': {'url': {'urls': [{'url': 'https://t.co/CHWoaV475R', 'expanded_url': 'https://www.linkedin.com/in/dr-ganapathi-pulipaka-56417a2', 'display_url': 'linkedin.com/in/dr-ganapath…', 'indices': [0, 23]}]}, 'description': {'urls': []}}, 'protected': False, 'followers_count': 84477, 'friends_count': 25725, 'listed_count': 3438, 'created_at': 'Tue Nov 17 02:19:09 +0000 2015', 'favourites_count': 9, 'utc_offset': None, 'time_zone': None, 'geo_enabled': True, 'verified': False, 'statuses_count': 54850, 'lang': None, 'contributors_enabled': False, 'is_translator': False, 'is_translation_enabled': False, 'profile_background_color': '000000', 'profile_background_image_url': 'http://abs.twimg.com/images/themes/theme1/bg.png', 'profile_background_image_url_https': 'https://abs.twimg.com/images/themes/theme1/bg.png', 'profile_background_tile': False, 'profile_image_url': 'http://pbs.twimg.com/profile_images/998301258413850625/9BZwTjgv_normal.jpg', 'profile_image_url_https': 'https://pbs.twimg.com/profile_images/998301258413850625/9BZwTjgv_normal.jpg', 'profile_banner_url': 'https://pbs.twimg.com/profile_banners/4263007693/1583526136', 'profile_link_color': 'DD2E44', 'profile_sidebar_border_color': '000000', 'profile_sidebar_fill_color': '000000', 'profile_text_color': '000000', 'profile_use_background_image': False, 'has_extended_profile': True, 'default_profile': False, 'default_profile_image': False, 'following': False, 'follow_request_sent': False, 'notifications': False, 'translator_type': 'none'}, 'geo': None, 'coordinates': None, 'place': None, 'contributors': None, 'is_quote_status': False, 'retweet_count': 29, 'favorite_count': 9, 'favorited': False, 'retweeted': False, 'possibly_sensitive': False, 'lang': 'en'}, 'is_quote_status': False, 'retweet_count': 29, 'favorite_count': 0, 'favorited': False, 'retweeted': False, 'lang': 'en'}, created_at=datetime.datetime(2020, 4, 25, 3, 18, 22), id=1253886038117945344, id_str='1253886038117945344', text='RT @gp_pulipaka: Autoencoders with AI. #BigData #Analytics #DataScience #AI #MachineLearning #IoT #IIoT #PyTorch #Python #RStats #TensorFlo…', truncated=False, entities={'hashtags': [{'text': 'BigData', 'indices': [39, 47]}, {'text': 'Analytics', 'indices': [48, 58]}, {'text': 'DataScience', 'indices': [59, 71]}, {'text': 'AI', 'indices': [72, 75]}, {'text': 'MachineLearning', 'indices': [76, 92]}, {'text': 'IoT', 'indices': [93, 97]}, {'text': 'IIoT', 'indices': [98, 103]}, {'text': 'PyTorch', 'indices': [104, 112]}, {'text': 'Python', 'indices': [113, 120]}, {'text': 'RStats', 'indices': [121, 128]}], 'symbols': [], 'user_mentions': [{'screen_name': 'gp_pulipaka', 'name': 'Dr. Ganapathi Pulipaka', 'id': 4263007693, 'id_str': '4263007693', 'indices': [3, 15]}], 'urls': []}, metadata={'iso_language_code': 'en', 'result_type': 'recent'}, source='AI News BOT', source_url='https://digitalinspiration.com', in_reply_to_status_id=None, in_reply_to_status_id_str=None, in_reply_to_user_id=None, in_reply_to_user_id_str=None, in_reply_to_screen_name=None, author=User(_api=<tweepy.api.API object at 0x000002DF37904F70>, _json={'id': 1134668128489656320, 'id_str': '1134668128489656320', 'name': 'Shy BOT', 'screen_name': 'ShyBOT7', 'location': '', 'description': 'Gathering #AI & #TensorFlow related tweets. I belong to @rebeccapark', 'url': None, 'entities': {'description': {'urls': []}}, 'protected': False, 'followers_count': 204, 'friends_count': 1, 'listed_count': 11, 'created_at': 'Sat Jun 01 03:48:57 +0000 2019', 'favourites_count': 2, 'utc_offset': None, 'time_zone': None, 'geo_enabled': False, 'verified': False, 'statuses_count': 39248, 'lang': None, 'contributors_enabled': False, 'is_translator': False, 'is_translation_enabled': False, 'profile_background_color': 'F5F8FA', 'profile_background_image_url': None, 'profile_background_image_url_https': None, 'profile_background_tile': False, 'profile_image_url': 'http://pbs.twimg.com/profile_images/1134668251844136960/VXLcIeXE_normal.jpg', 'profile_image_url_https': 'https://pbs.twimg.com/profile_images/1134668251844136960/VXLcIeXE_normal.jpg', 'profile_link_color': '1DA1F2', 'profile_sidebar_border_color': 'C0DEED', 'profile_sidebar_fill_color': 'DDEEF6', 'profile_text_color': '333333', 'profile_use_background_image': True, 'has_extended_profile': False, 'default_profile': True, 'default_profile_image': False, 'following': False, 'follow_request_sent': False, 'notifications': False, 'translator_type': 'none'}, id=1134668128489656320, id_str='1134668128489656320', name='Shy BOT', screen_name='ShyBOT7', location='', description='Gathering #AI & #TensorFlow related tweets. I belong to @rebeccapark', url=None, entities={'description': {'urls': []}}, protected=False, followers_count=204, friends_count=1, listed_count=11, created_at=datetime.datetime(2019, 6, 1, 3, 48, 57), favourites_count=2, utc_offset=None, time_zone=None, geo_enabled=False, verified=False, statuses_count=39248, lang=None, contributors_enabled=False, is_translator=False, is_translation_enabled=False, profile_background_color='F5F8FA', profile_background_image_url=None, profile_background_image_url_https=None, profile_background_tile=False, profile_image_url='http://pbs.twimg.com/profile_images/1134668251844136960/VXLcIeXE_normal.jpg', profile_image_url_https='https://pbs.twimg.com/profile_images/1134668251844136960/VXLcIeXE_normal.jpg', profile_link_color='1DA1F2', profile_sidebar_border_color='C0DEED', profile_sidebar_fill_color='DDEEF6', profile_text_color='333333', profile_use_background_image=True, has_extended_profile=False, default_profile=True, default_profile_image=False, following=False, follow_request_sent=False, notifications=False, translator_type='none'), user=User(_api=<tweepy.api.API object at 0x000002DF37904F70>, _json={'id': 1134668128489656320, 'id_str': '1134668128489656320', 'name': 'Shy BOT', 'screen_name': 'ShyBOT7', 'location': '', 'description': 'Gathering #AI & #TensorFlow related tweets. I belong to @rebeccapark', 'url': None, 'entities': {'description': {'urls': []}}, 'protected': False, 'followers_count': 204, 'friends_count': 1, 'listed_count': 11, 'created_at': 'Sat Jun 01 03:48:57 +0000 2019', 'favourites_count': 2, 'utc_offset': None, 'time_zone': None, 'geo_enabled': False, 'verified': False, 'statuses_count': 39248, 'lang': None, 'contributors_enabled': False, 'is_translator': False, 'is_translation_enabled': False, 'profile_background_color': 'F5F8FA', 'profile_background_image_url': None, 'profile_background_image_url_https': None, 'profile_background_tile': False, 'profile_image_url': 'http://pbs.twimg.com/profile_images/1134668251844136960/VXLcIeXE_normal.jpg', 'profile_image_url_https': 'https://pbs.twimg.com/profile_images/1134668251844136960/VXLcIeXE_normal.jpg', 'profile_link_color': '1DA1F2', 'profile_sidebar_border_color': 'C0DEED', 'profile_sidebar_fill_color': 'DDEEF6', 'profile_text_color': '333333', 'profile_use_background_image': True, 'has_extended_profile': False, 'default_profile': True, 'default_profile_image': False, 'following': False, 'follow_request_sent': False, 'notifications': False, 'translator_type': 'none'}, id=1134668128489656320, id_str='1134668128489656320', name='Shy BOT', screen_name='ShyBOT7', location='', description='Gathering #AI & #TensorFlow related tweets. I belong to @rebeccapark', url=None, entities={'description': {'urls': []}}, protected=False, followers_count=204, friends_count=1, listed_count=11, created_at=datetime.datetime(2019, 6, 1, 3, 48, 57), favourites_count=2, utc_offset=None, time_zone=None, geo_enabled=False, verified=False, statuses_count=39248, lang=None, contributors_enabled=False, is_translator=False, is_translation_enabled=False, profile_background_color='F5F8FA', profile_background_image_url=None, profile_background_image_url_https=None, profile_background_tile=False, profile_image_url='http://pbs.twimg.com/profile_images/1134668251844136960/VXLcIeXE_normal.jpg', profile_image_url_https='https://pbs.twimg.com/profile_images/1134668251844136960/VXLcIeXE_normal.jpg', profile_link_color='1DA1F2', profile_sidebar_border_color='C0DEED', profile_sidebar_fill_color='DDEEF6', profile_text_color='333333', profile_use_background_image=True, has_extended_profile=False, default_profile=True, default_profile_image=False, following=False, follow_request_sent=False, notifications=False, translator_type='none'), geo=None, coordinates=None, place=None, contributors=None, retweeted_status=Status(_api=<tweepy.api.API object at 0x000002DF37904F70>, _json={'created_at': 'Sat Apr 25 02:34:15 +0000 2020', 'id': 1253874937846169601, 'id_str': '1253874937846169601', 'text': 'Autoencoders with AI. #BigData #Analytics #DataScience #AI #MachineLearning #IoT #IIoT #PyTorch #Python #RStats… https://t.co/gWBQNQTDP9', 'truncated': True, 'entities': {'hashtags': [{'text': 'BigData', 'indices': [22, 30]}, {'text': 'Analytics', 'indices': [31, 41]}, {'text': 'DataScience', 'indices': [42, 54]}, {'text': 'AI', 'indices': [55, 58]}, {'text': 'MachineLearning', 'indices': [59, 75]}, {'text': 'IoT', 'indices': [76, 80]}, {'text': 'IIoT', 'indices': [81, 86]}, {'text': 'PyTorch', 'indices': [87, 95]}, {'text': 'Python', 'indices': [96, 103]}, {'text': 'RStats', 'indices': [104, 111]}], 'symbols': [], 'user_mentions': [], 'urls': [{'url': 'https://t.co/gWBQNQTDP9', 'expanded_url': 'https://twitter.com/i/web/status/1253874937846169601', 'display_url': 'twitter.com/i/web/status/1…', 'indices': [113, 136]}]}, 'metadata': {'iso_language_code': 'en', 'result_type': 'recent'}, 'source': '<a href=\"https://buffer.com\" rel=\"nofollow\">Buffer</a>', 'in_reply_to_status_id': None, 'in_reply_to_status_id_str': None, 'in_reply_to_user_id': None, 'in_reply_to_user_id_str': None, 'in_reply_to_screen_name': None, 'user': {'id': 4263007693, 'id_str': '4263007693', 'name': 'Dr. Ganapathi Pulipaka', 'screen_name': 'gp_pulipaka', 'location': 'Redondo Beach, CA', 'description': 'Chief Data Scientist @AccentureTech | Global Premier Speaker | PostDoc CS, PhD | Top Data Science Influencer | Bestselling Author | My Thoughts', 'url': 'https://t.co/CHWoaV475R', 'entities': {'url': {'urls': [{'url': 'https://t.co/CHWoaV475R', 'expanded_url': 'https://www.linkedin.com/in/dr-ganapathi-pulipaka-56417a2', 'display_url': 'linkedin.com/in/dr-ganapath…', 'indices': [0, 23]}]}, 'description': {'urls': []}}, 'protected': False, 'followers_count': 84477, 'friends_count': 25725, 'listed_count': 3438, 'created_at': 'Tue Nov 17 02:19:09 +0000 2015', 'favourites_count': 9, 'utc_offset': None, 'time_zone': None, 'geo_enabled': True, 'verified': False, 'statuses_count': 54850, 'lang': None, 'contributors_enabled': False, 'is_translator': False, 'is_translation_enabled': False, 'profile_background_color': '000000', 'profile_background_image_url': 'http://abs.twimg.com/images/themes/theme1/bg.png', 'profile_background_image_url_https': 'https://abs.twimg.com/images/themes/theme1/bg.png', 'profile_background_tile': False, 'profile_image_url': 'http://pbs.twimg.com/profile_images/998301258413850625/9BZwTjgv_normal.jpg', 'profile_image_url_https': 'https://pbs.twimg.com/profile_images/998301258413850625/9BZwTjgv_normal.jpg', 'profile_banner_url': 'https://pbs.twimg.com/profile_banners/4263007693/1583526136', 'profile_link_color': 'DD2E44', 'profile_sidebar_border_color': '000000', 'profile_sidebar_fill_color': '000000', 'profile_text_color': '000000', 'profile_use_background_image': False, 'has_extended_profile': True, 'default_profile': False, 'default_profile_image': False, 'following': False, 'follow_request_sent': False, 'notifications': False, 'translator_type': 'none'}, 'geo': None, 'coordinates': None, 'place': None, 'contributors': None, 'is_quote_status': False, 'retweet_count': 29, 'favorite_count': 9, 'favorited': False, 'retweeted': False, 'possibly_sensitive': False, 'lang': 'en'}, created_at=datetime.datetime(2020, 4, 25, 2, 34, 15), id=1253874937846169601, id_str='1253874937846169601', text='Autoencoders with AI. #BigData #Analytics #DataScience #AI #MachineLearning #IoT #IIoT #PyTorch #Python #RStats… https://t.co/gWBQNQTDP9', truncated=True, entities={'hashtags': [{'text': 'BigData', 'indices': [22, 30]}, {'text': 'Analytics', 'indices': [31, 41]}, {'text': 'DataScience', 'indices': [42, 54]}, {'text': 'AI', 'indices': [55, 58]}, {'text': 'MachineLearning', 'indices': [59, 75]}, {'text': 'IoT', 'indices': [76, 80]}, {'text': 'IIoT', 'indices': [81, 86]}, {'text': 'PyTorch', 'indices': [87, 95]}, {'text': 'Python', 'indices': [96, 103]}, {'text': 'RStats', 'indices': [104, 111]}], 'symbols': [], 'user_mentions': [], 'urls': [{'url': 'https://t.co/gWBQNQTDP9', 'expanded_url': 'https://twitter.com/i/web/status/1253874937846169601', 'display_url': 'twitter.com/i/web/status/1…', 'indices': [113, 136]}]}, metadata={'iso_language_code': 'en', 'result_type': 'recent'}, source='Buffer', source_url='https://buffer.com', in_reply_to_status_id=None, in_reply_to_status_id_str=None, in_reply_to_user_id=None, in_reply_to_user_id_str=None, in_reply_to_screen_name=None, author=User(_api=<tweepy.api.API object at 0x000002DF37904F70>, _json={'id': 4263007693, 'id_str': '4263007693', 'name': 'Dr. Ganapathi Pulipaka', 'screen_name': 'gp_pulipaka', 'location': 'Redondo Beach, CA', 'description': 'Chief Data Scientist @AccentureTech | Global Premier Speaker | PostDoc CS, PhD | Top Data Science Influencer | Bestselling Author | My Thoughts', 'url': 'https://t.co/CHWoaV475R', 'entities': {'url': {'urls': [{'url': 'https://t.co/CHWoaV475R', 'expanded_url': 'https://www.linkedin.com/in/dr-ganapathi-pulipaka-56417a2', 'display_url': 'linkedin.com/in/dr-ganapath…', 'indices': [0, 23]}]}, 'description': {'urls': []}}, 'protected': False, 'followers_count': 84477, 'friends_count': 25725, 'listed_count': 3438, 'created_at': 'Tue Nov 17 02:19:09 +0000 2015', 'favourites_count': 9, 'utc_offset': None, 'time_zone': None, 'geo_enabled': True, 'verified': False, 'statuses_count': 54850, 'lang': None, 'contributors_enabled': False, 'is_translator': False, 'is_translation_enabled': False, 'profile_background_color': '000000', 'profile_background_image_url': 'http://abs.twimg.com/images/themes/theme1/bg.png', 'profile_background_image_url_https': 'https://abs.twimg.com/images/themes/theme1/bg.png', 'profile_background_tile': False, 'profile_image_url': 'http://pbs.twimg.com/profile_images/998301258413850625/9BZwTjgv_normal.jpg', 'profile_image_url_https': 'https://pbs.twimg.com/profile_images/998301258413850625/9BZwTjgv_normal.jpg', 'profile_banner_url': 'https://pbs.twimg.com/profile_banners/4263007693/1583526136', 'profile_link_color': 'DD2E44', 'profile_sidebar_border_color': '000000', 'profile_sidebar_fill_color': '000000', 'profile_text_color': '000000', 'profile_use_background_image': False, 'has_extended_profile': True, 'default_profile': False, 'default_profile_image': False, 'following': False, 'follow_request_sent': False, 'notifications': False, 'translator_type': 'none'}, id=4263007693, id_str='4263007693', name='Dr. Ganapathi Pulipaka', screen_name='gp_pulipaka', location='Redondo Beach, CA', description='Chief Data Scientist @AccentureTech | Global Premier Speaker | PostDoc CS, PhD | Top Data Science Influencer | Bestselling Author | My Thoughts', url='https://t.co/CHWoaV475R', entities={'url': {'urls': [{'url': 'https://t.co/CHWoaV475R', 'expanded_url': 'https://www.linkedin.com/in/dr-ganapathi-pulipaka-56417a2', 'display_url': 'linkedin.com/in/dr-ganapath…', 'indices': [0, 23]}]}, 'description': {'urls': []}}, protected=False, followers_count=84477, friends_count=25725, listed_count=3438, created_at=datetime.datetime(2015, 11, 17, 2, 19, 9), favourites_count=9, utc_offset=None, time_zone=None, geo_enabled=True, verified=False, statuses_count=54850, lang=None, contributors_enabled=False, is_translator=False, is_translation_enabled=False, profile_background_color='000000', profile_background_image_url='http://abs.twimg.com/images/themes/theme1/bg.png', profile_background_image_url_https='https://abs.twimg.com/images/themes/theme1/bg.png', profile_background_tile=False, profile_image_url='http://pbs.twimg.com/profile_images/998301258413850625/9BZwTjgv_normal.jpg', profile_image_url_https='https://pbs.twimg.com/profile_images/998301258413850625/9BZwTjgv_normal.jpg', profile_banner_url='https://pbs.twimg.com/profile_banners/4263007693/1583526136', profile_link_color='DD2E44', profile_sidebar_border_color='000000', profile_sidebar_fill_color='000000', profile_text_color='000000', profile_use_background_image=False, has_extended_profile=True, default_profile=False, default_profile_image=False, following=False, follow_request_sent=False, notifications=False, translator_type='none'), user=User(_api=<tweepy.api.API object at 0x000002DF37904F70>, _json={'id': 4263007693, 'id_str': '4263007693', 'name': 'Dr. Ganapathi Pulipaka', 'screen_name': 'gp_pulipaka', 'location': 'Redondo Beach, CA', 'description': 'Chief Data Scientist @AccentureTech | Global Premier Speaker | PostDoc CS, PhD | Top Data Science Influencer | Bestselling Author | My Thoughts', 'url': 'https://t.co/CHWoaV475R', 'entities': {'url': {'urls': [{'url': 'https://t.co/CHWoaV475R', 'expanded_url': 'https://www.linkedin.com/in/dr-ganapathi-pulipaka-56417a2', 'display_url': 'linkedin.com/in/dr-ganapath…', 'indices': [0, 23]}]}, 'description': {'urls': []}}, 'protected': False, 'followers_count': 84477, 'friends_count': 25725, 'listed_count': 3438, 'created_at': 'Tue Nov 17 02:19:09 +0000 2015', 'favourites_count': 9, 'utc_offset': None, 'time_zone': None, 'geo_enabled': True, 'verified': False, 'statuses_count': 54850, 'lang': None, 'contributors_enabled': False, 'is_translator': False, 'is_translation_enabled': False, 'profile_background_color': '000000', 'profile_background_image_url': 'http://abs.twimg.com/images/themes/theme1/bg.png', 'profile_background_image_url_https': 'https://abs.twimg.com/images/themes/theme1/bg.png', 'profile_background_tile': False, 'profile_image_url': 'http://pbs.twimg.com/profile_images/998301258413850625/9BZwTjgv_normal.jpg', 'profile_image_url_https': 'https://pbs.twimg.com/profile_images/998301258413850625/9BZwTjgv_normal.jpg', 'profile_banner_url': 'https://pbs.twimg.com/profile_banners/4263007693/1583526136', 'profile_link_color': 'DD2E44', 'profile_sidebar_border_color': '000000', 'profile_sidebar_fill_color': '000000', 'profile_text_color': '000000', 'profile_use_background_image': False, 'has_extended_profile': True, 'default_profile': False, 'default_profile_image': False, 'following': False, 'follow_request_sent': False, 'notifications': False, 'translator_type': 'none'}, id=4263007693, id_str='4263007693', name='Dr. Ganapathi Pulipaka', screen_name='gp_pulipaka', location='Redondo Beach, CA', description='Chief Data Scientist @AccentureTech | Global Premier Speaker | PostDoc CS, PhD | Top Data Science Influencer | Bestselling Author | My Thoughts', url='https://t.co/CHWoaV475R', entities={'url': {'urls': [{'url': 'https://t.co/CHWoaV475R', 'expanded_url': 'https://www.linkedin.com/in/dr-ganapathi-pulipaka-56417a2', 'display_url': 'linkedin.com/in/dr-ganapath…', 'indices': [0, 23]}]}, 'description': {'urls': []}}, protected=False, followers_count=84477, friends_count=25725, listed_count=3438, created_at=datetime.datetime(2015, 11, 17, 2, 19, 9), favourites_count=9, utc_offset=None, time_zone=None, geo_enabled=True, verified=False, statuses_count=54850, lang=None, contributors_enabled=False, is_translator=False, is_translation_enabled=False, profile_background_color='000000', profile_background_image_url='http://abs.twimg.com/images/themes/theme1/bg.png', profile_background_image_url_https='https://abs.twimg.com/images/themes/theme1/bg.png', profile_background_tile=False, profile_image_url='http://pbs.twimg.com/profile_images/998301258413850625/9BZwTjgv_normal.jpg', profile_image_url_https='https://pbs.twimg.com/profile_images/998301258413850625/9BZwTjgv_normal.jpg', profile_banner_url='https://pbs.twimg.com/profile_banners/4263007693/1583526136', profile_link_color='DD2E44', profile_sidebar_border_color='000000', profile_sidebar_fill_color='000000', profile_text_color='000000', profile_use_background_image=False, has_extended_profile=True, default_profile=False, default_profile_image=False, following=False, follow_request_sent=False, notifications=False, translator_type='none'), geo=None, coordinates=None, place=None, contributors=None, is_quote_status=False, retweet_count=29, favorite_count=9, favorited=False, retweeted=False, possibly_sensitive=False, lang='en'), is_quote_status=False, retweet_count=29, favorite_count=0, favorited=False, retweeted=False, lang='en'),\n Status(_api=<tweepy.api.API object at 0x000002DF37904F70>, _json={'created_at': 'Sat Apr 25 03:18:15 +0000 2020', 'id': 1253886008388714496, 'id_str': '1253886008388714496', 'text': 'RT @statsandleague: “We are moving slowly into an era where big data is the starting point, not the end.” \\n\\n#BigData #DataAnalytics #Data #…', 'truncated': False, 'entities': {'hashtags': [{'text': 'BigData', 'indices': [108, 116]}, {'text': 'DataAnalytics', 'indices': [117, 131]}, {'text': 'Data', 'indices': [132, 137]}], 'symbols': [], 'user_mentions': [{'screen_name': 'statsandleague', 'name': 'Benjamin', 'id': 1244035364622233600, 'id_str': '1244035364622233600', 'indices': [3, 18]}], 'urls': []}, 'metadata': {'iso_language_code': 'en', 'result_type': 'recent'}, 'source': '<a href=\"http://twitter.com/download/android\" rel=\"nofollow\">Twitter for Android</a>', 'in_reply_to_status_id': None, 'in_reply_to_status_id_str': None, 'in_reply_to_user_id': None, 'in_reply_to_user_id_str': None, 'in_reply_to_screen_name': None, 'user': {'id': 24290529, 'id_str': '24290529', 'name': 'Jenny Kim', 'screen_name': 'jennykim', 'location': 'Washington, DC', 'description': 'Deputy GC @KochIndustries and @iDueProcess, @AlumsPMF, and @PLENNetwork Board Member; @S3CProject Advisory Council; Retweets not endorsements.', 'url': None, 'entities': {'description': {'urls': []}}, 'protected': False, 'followers_count': 3420, 'friends_count': 5001, 'listed_count': 1021, 'created_at': 'Sat Mar 14 00:21:47 +0000 2009', 'favourites_count': 34512, 'utc_offset': None, 'time_zone': None, 'geo_enabled': True, 'verified': False, 'statuses_count': 291553, 'lang': None, 'contributors_enabled': False, 'is_translator': False, 'is_translation_enabled': False, 'profile_background_color': 'C0DEED', 'profile_background_image_url': 'http://abs.twimg.com/images/themes/theme1/bg.png', 'profile_background_image_url_https': 'https://abs.twimg.com/images/themes/theme1/bg.png', 'profile_background_tile': False, 'profile_image_url': 'http://pbs.twimg.com/profile_images/533259350609891328/yAlSdl0H_normal.jpeg', 'profile_image_url_https': 'https://pbs.twimg.com/profile_images/533259350609891328/yAlSdl0H_normal.jpeg', 'profile_banner_url': 'https://pbs.twimg.com/profile_banners/24290529/1546278474', 'profile_link_color': '1DA1F2', 'profile_sidebar_border_color': 'C0DEED', 'profile_sidebar_fill_color': 'DDEEF6', 'profile_text_color': '333333', 'profile_use_background_image': True, 'has_extended_profile': False, 'default_profile': True, 'default_profile_image': False, 'following': False, 'follow_request_sent': False, 'notifications': False, 'translator_type': 'none'}, 'geo': None, 'coordinates': None, 'place': None, 'contributors': None, 'retweeted_status': {'created_at': 'Fri Apr 24 20:27:34 +0000 2020', 'id': 1253782659295150081, 'id_str': '1253782659295150081', 'text': '“We are moving slowly into an era where big data is the starting point, not the end.” \\n\\n#BigData #DataAnalytics… https://t.co/j14Y4OVYxw', 'truncated': True, 'entities': {'hashtags': [{'text': 'BigData', 'indices': [88, 96]}, {'text': 'DataAnalytics', 'indices': [97, 111]}], 'symbols': [], 'user_mentions': [], 'urls': [{'url': 'https://t.co/j14Y4OVYxw', 'expanded_url': 'https://twitter.com/i/web/status/1253782659295150081', 'display_url': 'twitter.com/i/web/status/1…', 'indices': [113, 136]}]}, 'metadata': {'iso_language_code': 'en', 'result_type': 'recent'}, 'source': '<a href=\"https://mobile.twitter.com\" rel=\"nofollow\">Twitter Web App</a>', 'in_reply_to_status_id': None, 'in_reply_to_status_id_str': None, 'in_reply_to_user_id': None, 'in_reply_to_user_id_str': None, 'in_reply_to_screen_name': None, 'user': {'id': 1244035364622233600, 'id_str': '1244035364622233600', 'name': 'Benjamin', 'screen_name': 'statsandleague', 'location': 'United States', 'description': 'LIFE BEGINS AT THE END OF YOUR COMFORT ZONE! \\n#DataScience #LeagueOfLegends #photographer #doglover', 'url': None, 'entities': {'description': {'urls': []}}, 'protected': False, 'followers_count': 83, 'friends_count': 169, 'listed_count': 1, 'created_at': 'Sat Mar 28 22:55:26 +0000 2020', 'favourites_count': 111, 'utc_offset': None, 'time_zone': None, 'geo_enabled': False, 'verified': False, 'statuses_count': 38, 'lang': None, 'contributors_enabled': False, 'is_translator': False, 'is_translation_enabled': False, 'profile_background_color': 'F5F8FA', 'profile_background_image_url': None, 'profile_background_image_url_https': None, 'profile_background_tile': False, 'profile_image_url': 'http://pbs.twimg.com/profile_images/1251031857443020800/hAv5386s_normal.jpg', 'profile_image_url_https': 'https://pbs.twimg.com/profile_images/1251031857443020800/hAv5386s_normal.jpg', 'profile_banner_url': 'https://pbs.twimg.com/profile_banners/1244035364622233600/1586978998', 'profile_link_color': '1DA1F2', 'profile_sidebar_border_color': 'C0DEED', 'profile_sidebar_fill_color': 'DDEEF6', 'profile_text_color': '333333', 'profile_use_background_image': True, 'has_extended_profile': False, 'default_profile': True, 'default_profile_image': False, 'following': False, 'follow_request_sent': False, 'notifications': False, 'translator_type': 'none'}, 'geo': None, 'coordinates': None, 'place': None, 'contributors': None, 'is_quote_status': False, 'retweet_count': 16, 'favorite_count': 10, 'favorited': False, 'retweeted': False, 'possibly_sensitive': False, 'lang': 'en'}, 'is_quote_status': False, 'retweet_count': 16, 'favorite_count': 0, 'favorited': False, 'retweeted': False, 'lang': 'en'}, created_at=datetime.datetime(2020, 4, 25, 3, 18, 15), id=1253886008388714496, id_str='1253886008388714496', text='RT @statsandleague: “We are moving slowly into an era where big data is the starting point, not the end.” \\n\\n#BigData #DataAnalytics #Data #…', truncated=False, entities={'hashtags': [{'text': 'BigData', 'indices': [108, 116]}, {'text': 'DataAnalytics', 'indices': [117, 131]}, {'text': 'Data', 'indices': [132, 137]}], 'symbols': [], 'user_mentions': [{'screen_name': 'statsandleague', 'name': 'Benjamin', 'id': 1244035364622233600, 'id_str': '1244035364622233600', 'indices': [3, 18]}], 'urls': []}, metadata={'iso_language_code': 'en', 'result_type': 'recent'}, source='Twitter for Android', source_url='http://twitter.com/download/android', in_reply_to_status_id=None, in_reply_to_status_id_str=None, in_reply_to_user_id=None, in_reply_to_user_id_str=None, in_reply_to_screen_name=None, author=User(_api=<tweepy.api.API object at 0x000002DF37904F70>, _json={'id': 24290529, 'id_str': '24290529', 'name': 'Jenny Kim', 'screen_name': 'jennykim', 'location': 'Washington, DC', 'description': 'Deputy GC @KochIndustries and @iDueProcess, @AlumsPMF, and @PLENNetwork Board Member; @S3CProject Advisory Council; Retweets not endorsements.', 'url': None, 'entities': {'description': {'urls': []}}, 'protected': False, 'followers_count': 3420, 'friends_count': 5001, 'listed_count': 1021, 'created_at': 'Sat Mar 14 00:21:47 +0000 2009', 'favourites_count': 34512, 'utc_offset': None, 'time_zone': None, 'geo_enabled': True, 'verified': False, 'statuses_count': 291553, 'lang': None, 'contributors_enabled': False, 'is_translator': False, 'is_translation_enabled': False, 'profile_background_color': 'C0DEED', 'profile_background_image_url': 'http://abs.twimg.com/images/themes/theme1/bg.png', 'profile_background_image_url_https': 'https://abs.twimg.com/images/themes/theme1/bg.png', 'profile_background_tile': False, 'profile_image_url': 'http://pbs.twimg.com/profile_images/533259350609891328/yAlSdl0H_normal.jpeg', 'profile_image_url_https': 'https://pbs.twimg.com/profile_images/533259350609891328/yAlSdl0H_normal.jpeg', 'profile_banner_url': 'https://pbs.twimg.com/profile_banners/24290529/1546278474', 'profile_link_color': '1DA1F2', 'profile_sidebar_border_color': 'C0DEED', 'profile_sidebar_fill_color': 'DDEEF6', 'profile_text_color': '333333', 'profile_use_background_image': True, 'has_extended_profile': False, 'default_profile': True, 'default_profile_image': False, 'following': False, 'follow_request_sent': False, 'notifications': False, 'translator_type': 'none'}, id=24290529, id_str='24290529', name='Jenny Kim', screen_name='jennykim', location='Washington, DC', description='Deputy GC @KochIndustries and @iDueProcess, @AlumsPMF, and @PLENNetwork Board Member; @S3CProject Advisory Council; Retweets not endorsements.', url=None, entities={'description': {'urls': []}}, protected=False, followers_count=3420, friends_count=5001, listed_count=1021, created_at=datetime.datetime(2009, 3, 14, 0, 21, 47), favourites_count=34512, utc_offset=None, time_zone=None, geo_enabled=True, verified=False, statuses_count=291553, lang=None, contributors_enabled=False, is_translator=False, is_translation_enabled=False, profile_background_color='C0DEED', profile_background_image_url='http://abs.twimg.com/images/themes/theme1/bg.png', profile_background_image_url_https='https://abs.twimg.com/images/themes/theme1/bg.png', profile_background_tile=False, profile_image_url='http://pbs.twimg.com/profile_images/533259350609891328/yAlSdl0H_normal.jpeg', profile_image_url_https='https://pbs.twimg.com/profile_images/533259350609891328/yAlSdl0H_normal.jpeg', profile_banner_url='https://pbs.twimg.com/profile_banners/24290529/1546278474', profile_link_color='1DA1F2', profile_sidebar_border_color='C0DEED', profile_sidebar_fill_color='DDEEF6', profile_text_color='333333', profile_use_background_image=True, has_extended_profile=False, default_profile=True, default_profile_image=False, following=False, follow_request_sent=False, notifications=False, translator_type='none'), user=User(_api=<tweepy.api.API object at 0x000002DF37904F70>, _json={'id': 24290529, 'id_str': '24290529', 'name': 'Jenny Kim', 'screen_name': 'jennykim', 'location': 'Washington, DC', 'description': 'Deputy GC @KochIndustries and @iDueProcess, @AlumsPMF, and @PLENNetwork Board Member; @S3CProject Advisory Council; Retweets not endorsements.', 'url': None, 'entities': {'description': {'urls': []}}, 'protected': False, 'followers_count': 3420, 'friends_count': 5001, 'listed_count': 1021, 'created_at': 'Sat Mar 14 00:21:47 +0000 2009', 'favourites_count': 34512, 'utc_offset': None, 'time_zone': None, 'geo_enabled': True, 'verified': False, 'statuses_count': 291553, 'lang': None, 'contributors_enabled': False, 'is_translator': False, 'is_translation_enabled': False, 'profile_background_color': 'C0DEED', 'profile_background_image_url': 'http://abs.twimg.com/images/themes/theme1/bg.png', 'profile_background_image_url_https': 'https://abs.twimg.com/images/themes/theme1/bg.png', 'profile_background_tile': False, 'profile_image_url': 'http://pbs.twimg.com/profile_images/533259350609891328/yAlSdl0H_normal.jpeg', 'profile_image_url_https': 'https://pbs.twimg.com/profile_images/533259350609891328/yAlSdl0H_normal.jpeg', 'profile_banner_url': 'https://pbs.twimg.com/profile_banners/24290529/1546278474', 'profile_link_color': '1DA1F2', 'profile_sidebar_border_color': 'C0DEED', 'profile_sidebar_fill_color': 'DDEEF6', 'profile_text_color': '333333', 'profile_use_background_image': True, 'has_extended_profile': False, 'default_profile': True, 'default_profile_image': False, 'following': False, 'follow_request_sent': False, 'notifications': False, 'translator_type': 'none'}, id=24290529, id_str='24290529', name='Jenny Kim', screen_name='jennykim', location='Washington, DC', description='Deputy GC @KochIndustries and @iDueProcess, @AlumsPMF, and @PLENNetwork Board Member; @S3CProject Advisory Council; Retweets not endorsements.', url=None, entities={'description': {'urls': []}}, protected=False, followers_count=3420, friends_count=5001, listed_count=1021, created_at=datetime.datetime(2009, 3, 14, 0, 21, 47), favourites_count=34512, utc_offset=None, time_zone=None, geo_enabled=True, verified=False, statuses_count=291553, lang=None, contributors_enabled=False, is_translator=False, is_translation_enabled=False, profile_background_color='C0DEED', profile_background_image_url='http://abs.twimg.com/images/themes/theme1/bg.png', profile_background_image_url_https='https://abs.twimg.com/images/themes/theme1/bg.png', profile_background_tile=False, profile_image_url='http://pbs.twimg.com/profile_images/533259350609891328/yAlSdl0H_normal.jpeg', profile_image_url_https='https://pbs.twimg.com/profile_images/533259350609891328/yAlSdl0H_normal.jpeg', profile_banner_url='https://pbs.twimg.com/profile_banners/24290529/1546278474', profile_link_color='1DA1F2', profile_sidebar_border_color='C0DEED', profile_sidebar_fill_color='DDEEF6', profile_text_color='333333', profile_use_background_image=True, has_extended_profile=False, default_profile=True, default_profile_image=False, following=False, follow_request_sent=False, notifications=False, translator_type='none'), geo=None, coordinates=None, place=None, contributors=None, retweeted_status=Status(_api=<tweepy.api.API object at 0x000002DF37904F70>, _json={'created_at': 'Fri Apr 24 20:27:34 +0000 2020', 'id': 1253782659295150081, 'id_str': '1253782659295150081', 'text': '“We are moving slowly into an era where big data is the starting point, not the end.” \\n\\n#BigData #DataAnalytics… https://t.co/j14Y4OVYxw', 'truncated': True, 'entities': {'hashtags': [{'text': 'BigData', 'indices': [88, 96]}, {'text': 'DataAnalytics', 'indices': [97, 111]}], 'symbols': [], 'user_mentions': [], 'urls': [{'url': 'https://t.co/j14Y4OVYxw', 'expanded_url': 'https://twitter.com/i/web/status/1253782659295150081', 'display_url': 'twitter.com/i/web/status/1…', 'indices': [113, 136]}]}, 'metadata': {'iso_language_code': 'en', 'result_type': 'recent'}, 'source': '<a href=\"https://mobile.twitter.com\" rel=\"nofollow\">Twitter Web App</a>', 'in_reply_to_status_id': None, 'in_reply_to_status_id_str': None, 'in_reply_to_user_id': None, 'in_reply_to_user_id_str': None, 'in_reply_to_screen_name': None, 'user': {'id': 1244035364622233600, 'id_str': '1244035364622233600', 'name': 'Benjamin', 'screen_name': 'statsandleague', 'location': 'United States', 'description': 'LIFE BEGINS AT THE END OF YOUR COMFORT ZONE! \\n#DataScience #LeagueOfLegends #photographer #doglover', 'url': None, 'entities': {'description': {'urls': []}}, 'protected': False, 'followers_count': 83, 'friends_count': 169, 'listed_count': 1, 'created_at': 'Sat Mar 28 22:55:26 +0000 2020', 'favourites_count': 111, 'utc_offset': None, 'time_zone': None, 'geo_enabled': False, 'verified': False, 'statuses_count': 38, 'lang': None, 'contributors_enabled': False, 'is_translator': False, 'is_translation_enabled': False, 'profile_background_color': 'F5F8FA', 'profile_background_image_url': None, 'profile_background_image_url_https': None, 'profile_background_tile': False, 'profile_image_url': 'http://pbs.twimg.com/profile_images/1251031857443020800/hAv5386s_normal.jpg', 'profile_image_url_https': 'https://pbs.twimg.com/profile_images/1251031857443020800/hAv5386s_normal.jpg', 'profile_banner_url': 'https://pbs.twimg.com/profile_banners/1244035364622233600/1586978998', 'profile_link_color': '1DA1F2', 'profile_sidebar_border_color': 'C0DEED', 'profile_sidebar_fill_color': 'DDEEF6', 'profile_text_color': '333333', 'profile_use_background_image': True, 'has_extended_profile': False, 'default_profile': True, 'default_profile_image': False, 'following': False, 'follow_request_sent': False, 'notifications': False, 'translator_type': 'none'}, 'geo': None, 'coordinates': None, 'place': None, 'contributors': None, 'is_quote_status': False, 'retweet_count': 16, 'favorite_count': 10, 'favorited': False, 'retweeted': False, 'possibly_sensitive': False, 'lang': 'en'}, created_at=datetime.datetime(2020, 4, 24, 20, 27, 34), id=1253782659295150081, id_str='1253782659295150081', text='“We are moving slowly into an era where big data is the starting point, not the end.” \\n\\n#BigData #DataAnalytics… https://t.co/j14Y4OVYxw', truncated=True, entities={'hashtags': [{'text': 'BigData', 'indices': [88, 96]}, {'text': 'DataAnalytics', 'indices': [97, 111]}], 'symbols': [], 'user_mentions': [], 'urls': [{'url': 'https://t.co/j14Y4OVYxw', 'expanded_url': 'https://twitter.com/i/web/status/1253782659295150081', 'display_url': 'twitter.com/i/web/status/1…', 'indices': [113, 136]}]}, metadata={'iso_language_code': 'en', 'result_type': 'recent'}, source='Twitter Web App', source_url='https://mobile.twitter.com', in_reply_to_status_id=None, in_reply_to_status_id_str=None, in_reply_to_user_id=None, in_reply_to_user_id_str=None, in_reply_to_screen_name=None, author=User(_api=<tweepy.api.API object at 0x000002DF37904F70>, _json={'id': 1244035364622233600, 'id_str': '1244035364622233600', 'name': 'Benjamin', 'screen_name': 'statsandleague', 'location': 'United States', 'description': 'LIFE BEGINS AT THE END OF YOUR COMFORT ZONE! \\n#DataScience #LeagueOfLegends #photographer #doglover', 'url': None, 'entities': {'description': {'urls': []}}, 'protected': False, 'followers_count': 83, 'friends_count': 169, 'listed_count': 1, 'created_at': 'Sat Mar 28 22:55:26 +0000 2020', 'favourites_count': 111, 'utc_offset': None, 'time_zone': None, 'geo_enabled': False, 'verified': False, 'statuses_count': 38, 'lang': None, 'contributors_enabled': False, 'is_translator': False, 'is_translation_enabled': False, 'profile_background_color': 'F5F8FA', 'profile_background_image_url': None, 'profile_background_image_url_https': None, 'profile_background_tile': False, 'profile_image_url': 'http://pbs.twimg.com/profile_images/1251031857443020800/hAv5386s_normal.jpg', 'profile_image_url_https': 'https://pbs.twimg.com/profile_images/1251031857443020800/hAv5386s_normal.jpg', 'profile_banner_url': 'https://pbs.twimg.com/profile_banners/1244035364622233600/1586978998', 'profile_link_color': '1DA1F2', 'profile_sidebar_border_color': 'C0DEED', 'profile_sidebar_fill_color': 'DDEEF6', 'profile_text_color': '333333', 'profile_use_background_image': True, 'has_extended_profile': False, 'default_profile': True, 'default_profile_image': False, 'following': False, 'follow_request_sent': False, 'notifications': False, 'translator_type': 'none'}, id=1244035364622233600, id_str='1244035364622233600', name='Benjamin', screen_name='statsandleague', location='United States', description='LIFE BEGINS AT THE END OF YOUR COMFORT ZONE! \\n#DataScience #LeagueOfLegends #photographer #doglover', url=None, entities={'description': {'urls': []}}, protected=False, followers_count=83, friends_count=169, listed_count=1, created_at=datetime.datetime(2020, 3, 28, 22, 55, 26), favourites_count=111, utc_offset=None, time_zone=None, geo_enabled=False, verified=False, statuses_count=38, lang=None, contributors_enabled=False, is_translator=False, is_translation_enabled=False, profile_background_color='F5F8FA', profile_background_image_url=None, profile_background_image_url_https=None, profile_background_tile=False, profile_image_url='http://pbs.twimg.com/profile_images/1251031857443020800/hAv5386s_normal.jpg', profile_image_url_https='https://pbs.twimg.com/profile_images/1251031857443020800/hAv5386s_normal.jpg', profile_banner_url='https://pbs.twimg.com/profile_banners/1244035364622233600/1586978998', profile_link_color='1DA1F2', profile_sidebar_border_color='C0DEED', profile_sidebar_fill_color='DDEEF6', profile_text_color='333333', profile_use_background_image=True, has_extended_profile=False, default_profile=True, default_profile_image=False, following=False, follow_request_sent=False, notifications=False, translator_type='none'), user=User(_api=<tweepy.api.API object at 0x000002DF37904F70>, _json={'id': 1244035364622233600, 'id_str': '1244035364622233600', 'name': 'Benjamin', 'screen_name': 'statsandleague', 'location': 'United States', 'description': 'LIFE BEGINS AT THE END OF YOUR COMFORT ZONE! \\n#DataScience #LeagueOfLegends #photographer #doglover', 'url': None, 'entities': {'description': {'urls': []}}, 'protected': False, 'followers_count': 83, 'friends_count': 169, 'listed_count': 1, 'created_at': 'Sat Mar 28 22:55:26 +0000 2020', 'favourites_count': 111, 'utc_offset': None, 'time_zone': None, 'geo_enabled': False, 'verified': False, 'statuses_count': 38, 'lang': None, 'contributors_enabled': False, 'is_translator': False, 'is_translation_enabled': False, 'profile_background_color': 'F5F8FA', 'profile_background_image_url': None, 'profile_background_image_url_https': None, 'profile_background_tile': False, 'profile_image_url': 'http://pbs.twimg.com/profile_images/1251031857443020800/hAv5386s_normal.jpg', 'profile_image_url_https': 'https://pbs.twimg.com/profile_images/1251031857443020800/hAv5386s_normal.jpg', 'profile_banner_url': 'https://pbs.twimg.com/profile_banners/1244035364622233600/1586978998', 'profile_link_color': '1DA1F2', 'profile_sidebar_border_color': 'C0DEED', 'profile_sidebar_fill_color': 'DDEEF6', 'profile_text_color': '333333', 'profile_use_background_image': True, 'has_extended_profile': False, 'default_profile': True, 'default_profile_image': False, 'following': False, 'follow_request_sent': False, 'notifications': False, 'translator_type': 'none'}, id=1244035364622233600, id_str='1244035364622233600', name='Benjamin', screen_name='statsandleague', location='United States', description='LIFE BEGINS AT THE END OF YOUR COMFORT ZONE! \\n#DataScience #LeagueOfLegends #photographer #doglover', url=None, entities={'description': {'urls': []}}, protected=False, followers_count=83, friends_count=169, listed_count=1, created_at=datetime.datetime(2020, 3, 28, 22, 55, 26), favourites_count=111, utc_offset=None, time_zone=None, geo_enabled=False, verified=False, statuses_count=38, lang=None, contributors_enabled=False, is_translator=False, is_translation_enabled=False, profile_background_color='F5F8FA', profile_background_image_url=None, profile_background_image_url_https=None, profile_background_tile=False, profile_image_url='http://pbs.twimg.com/profile_images/1251031857443020800/hAv5386s_normal.jpg', profile_image_url_https='https://pbs.twimg.com/profile_images/1251031857443020800/hAv5386s_normal.jpg', profile_banner_url='https://pbs.twimg.com/profile_banners/1244035364622233600/1586978998', profile_link_color='1DA1F2', profile_sidebar_border_color='C0DEED', profile_sidebar_fill_color='DDEEF6', profile_text_color='333333', profile_use_background_image=True, has_extended_profile=False, default_profile=True, default_profile_image=False, following=False, follow_request_sent=False, notifications=False, translator_type='none'), geo=None, coordinates=None, place=None, contributors=None, is_quote_status=False, retweet_count=16, favorite_count=10, favorited=False, retweeted=False, possibly_sensitive=False, lang='en'), is_quote_status=False, retweet_count=16, favorite_count=0, favorited=False, retweeted=False, lang='en'),\n Status(_api=<tweepy.api.API object at 0x000002DF37904F70>, _json={'created_at': 'Sat Apr 25 03:17:14 +0000 2020', 'id': 1253885755258175490, 'id_str': '1253885755258175490', 'text': \"RT @AIHealth1: The University of Sydney's Westmead Applied Research Centre has been awarded a $1 million grant from Google to ...\\n\\nhttps://…\", 'truncated': False, 'entities': {'hashtags': [], 'symbols': [], 'user_mentions': [{'screen_name': 'AIHealth1', 'name': 'AI Health', 'id': 997779558009982977, 'id_str': '997779558009982977', 'indices': [3, 13]}], 'urls': []}, 'metadata': {'iso_language_code': 'en', 'result_type': 'recent'}, 'source': '<a href=\"https://www.twitter.com\" rel=\"nofollow\">ML_BD_bot</a>', 'in_reply_to_status_id': None, 'in_reply_to_status_id_str': None, 'in_reply_to_user_id': None, 'in_reply_to_user_id_str': None, 'in_reply_to_screen_name': None, 'user': {'id': 1004225337163747328, 'id_str': '1004225337163747328', 'name': 'Machine Learning', 'screen_name': 'machine_ml', 'location': '', 'description': 'Here, we retweet everything related to #MachineLearning!\\n\\n Courses we recommend:\\n1. https://t.co/NGM1EB6ia1\\n2. https://t.co/0HeXi5jSou\\n\\nFull list in pinned tweet!', 'url': 'https://t.co/BdtpXV8XzG', 'entities': {'url': {'urls': [{'url': 'https://t.co/BdtpXV8XzG', 'expanded_url': 'https://bitsdroid.com', 'display_url': 'bitsdroid.com', 'indices': [0, 23]}]}, 'description': {'urls': [{'url': 'https://t.co/NGM1EB6ia1', 'expanded_url': 'http://bit.ly/37g0Gbt', 'display_url': 'bit.ly/37g0Gbt', 'indices': [84, 107]}, {'url': 'https://t.co/0HeXi5jSou', 'expanded_url': 'http://bit.ly/37fIeQo', 'display_url': 'bit.ly/37fIeQo', 'indices': [111, 134]}]}}, 'protected': False, 'followers_count': 9160, 'friends_count': 21, 'listed_count': 153, 'created_at': 'Wed Jun 06 04:55:52 +0000 2018', 'favourites_count': 408, 'utc_offset': None, 'time_zone': None, 'geo_enabled': False, 'verified': False, 'statuses_count': 118266, 'lang': None, 'contributors_enabled': False, 'is_translator': False, 'is_translation_enabled': False, 'profile_background_color': 'F5F8FA', 'profile_background_image_url': None, 'profile_background_image_url_https': None, 'profile_background_tile': False, 'profile_image_url': 'http://pbs.twimg.com/profile_images/1004235176082321408/sr8WYJoB_normal.jpg', 'profile_image_url_https': 'https://pbs.twimg.com/profile_images/1004235176082321408/sr8WYJoB_normal.jpg', 'profile_link_color': '1DA1F2', 'profile_sidebar_border_color': 'C0DEED', 'profile_sidebar_fill_color': 'DDEEF6', 'profile_text_color': '333333', 'profile_use_background_image': True, 'has_extended_profile': False, 'default_profile': True, 'default_profile_image': False, 'following': False, 'follow_request_sent': False, 'notifications': False, 'translator_type': 'none'}, 'geo': None, 'coordinates': None, 'place': None, 'contributors': None, 'retweeted_status': {'created_at': 'Sat Apr 25 03:16:11 +0000 2020', 'id': 1253885488148164608, 'id_str': '1253885488148164608', 'text': \"The University of Sydney's Westmead Applied Research Centre has been awarded a $1 million grant from Google to ...… https://t.co/zTo1YEm9oL\", 'truncated': True, 'entities': {'hashtags': [], 'symbols': [], 'user_mentions': [], 'urls': [{'url': 'https://t.co/zTo1YEm9oL', 'expanded_url': 'https://twitter.com/i/web/status/1253885488148164608', 'display_url': 'twitter.com/i/web/status/1…', 'indices': [116, 139]}]}, 'metadata': {'iso_language_code': 'en', 'result_type': 'recent'}, 'source': '<a href=\"http://app.sendblur.com\" rel=\"nofollow\">Social Media Publisher App </a>', 'in_reply_to_status_id': None, 'in_reply_to_status_id_str': None, 'in_reply_to_user_id': None, 'in_reply_to_user_id_str': None, 'in_reply_to_screen_name': None, 'user': {'id': 997779558009982977, 'id_str': '997779558009982977', 'name': 'AI Health', 'screen_name': 'AIHealth1', 'location': 'Sydney, New South Wales', 'description': 'We bring Artificial Intelligence to the Health sector.    #aihealth', 'url': 'https://t.co/8SOQplPLYk', 'entities': {'url': {'urls': [{'url': 'https://t.co/8SOQplPLYk', 'expanded_url': 'http://www.aihealth.tech', 'display_url': 'aihealth.tech', 'indices': [0, 23]}]}, 'description': {'urls': []}}, 'protected': False, 'followers_count': 325, 'friends_count': 243, 'listed_count': 6, 'created_at': 'Sat May 19 10:02:39 +0000 2018', 'favourites_count': 775, 'utc_offset': None, 'time_zone': None, 'geo_enabled': True, 'verified': False, 'statuses_count': 3290, 'lang': None, 'contributors_enabled': False, 'is_translator': False, 'is_translation_enabled': False, 'profile_background_color': '000000', 'profile_background_image_url': 'http://abs.twimg.com/images/themes/theme1/bg.png', 'profile_background_image_url_https': 'https://abs.twimg.com/images/themes/theme1/bg.png', 'profile_background_tile': False, 'profile_image_url': 'http://pbs.twimg.com/profile_images/1031414949015252992/cfXZTVJG_normal.jpg', 'profile_image_url_https': 'https://pbs.twimg.com/profile_images/1031414949015252992/cfXZTVJG_normal.jpg', 'profile_banner_url': 'https://pbs.twimg.com/profile_banners/997779558009982977/1534743462', 'profile_link_color': '000000', 'profile_sidebar_border_color': '000000', 'profile_sidebar_fill_color': '000000', 'profile_text_color': '000000', 'profile_use_background_image': False, 'has_extended_profile': False, 'default_profile': False, 'default_profile_image': False, 'following': False, 'follow_request_sent': False, 'notifications': False, 'translator_type': 'none'}, 'geo': None, 'coordinates': None, 'place': None, 'contributors': None, 'is_quote_status': False, 'retweet_count': 1, 'favorite_count': 0, 'favorited': False, 'retweeted': False, 'possibly_sensitive': False, 'lang': 'en'}, 'is_quote_status': False, 'retweet_count': 1, 'favorite_count': 0, 'favorited': False, 'retweeted': False, 'lang': 'en'}, created_at=datetime.datetime(2020, 4, 25, 3, 17, 14), id=1253885755258175490, id_str='1253885755258175490', text=\"RT @AIHealth1: The University of Sydney's Westmead Applied Research Centre has been awarded a $1 million grant from Google to ...\\n\\nhttps://…\", truncated=False, entities={'hashtags': [], 'symbols': [], 'user_mentions': [{'screen_name': 'AIHealth1', 'name': 'AI Health', 'id': 997779558009982977, 'id_str': '997779558009982977', 'indices': [3, 13]}], 'urls': []}, metadata={'iso_language_code': 'en', 'result_type': 'recent'}, source='ML_BD_bot', source_url='https://www.twitter.com', in_reply_to_status_id=None, in_reply_to_status_id_str=None, in_reply_to_user_id=None, in_reply_to_user_id_str=None, in_reply_to_screen_name=None, author=User(_api=<tweepy.api.API object at 0x000002DF37904F70>, _json={'id': 1004225337163747328, 'id_str': '1004225337163747328', 'name': 'Machine Learning', 'screen_name': 'machine_ml', 'location': '', 'description': 'Here, we retweet everything related to #MachineLearning!\\n\\n Courses we recommend:\\n1. https://t.co/NGM1EB6ia1\\n2. https://t.co/0HeXi5jSou\\n\\nFull list in pinned tweet!', 'url': 'https://t.co/BdtpXV8XzG', 'entities': {'url': {'urls': [{'url': 'https://t.co/BdtpXV8XzG', 'expanded_url': 'https://bitsdroid.com', 'display_url': 'bitsdroid.com', 'indices': [0, 23]}]}, 'description': {'urls': [{'url': 'https://t.co/NGM1EB6ia1', 'expanded_url': 'http://bit.ly/37g0Gbt', 'display_url': 'bit.ly/37g0Gbt', 'indices': [84, 107]}, {'url': 'https://t.co/0HeXi5jSou', 'expanded_url': 'http://bit.ly/37fIeQo', 'display_url': 'bit.ly/37fIeQo', 'indices': [111, 134]}]}}, 'protected': False, 'followers_count': 9160, 'friends_count': 21, 'listed_count': 153, 'created_at': 'Wed Jun 06 04:55:52 +0000 2018', 'favourites_count': 408, 'utc_offset': None, 'time_zone': None, 'geo_enabled': False, 'verified': False, 'statuses_count': 118266, 'lang': None, 'contributors_enabled': False, 'is_translator': False, 'is_translation_enabled': False, 'profile_background_color': 'F5F8FA', 'profile_background_image_url': None, 'profile_background_image_url_https': None, 'profile_background_tile': False, 'profile_image_url': 'http://pbs.twimg.com/profile_images/1004235176082321408/sr8WYJoB_normal.jpg', 'profile_image_url_https': 'https://pbs.twimg.com/profile_images/1004235176082321408/sr8WYJoB_normal.jpg', 'profile_link_color': '1DA1F2', 'profile_sidebar_border_color': 'C0DEED', 'profile_sidebar_fill_color': 'DDEEF6', 'profile_text_color': '333333', 'profile_use_background_image': True, 'has_extended_profile': False, 'default_profile': True, 'default_profile_image': False, 'following': False, 'follow_request_sent': False, 'notifications': False, 'translator_type': 'none'}, id=1004225337163747328, id_str='1004225337163747328', name='Machine Learning', screen_name='machine_ml', location='', description='Here, we retweet everything related to #MachineLearning!\\n\\n Courses we recommend:\\n1. https://t.co/NGM1EB6ia1\\n2. https://t.co/0HeXi5jSou\\n\\nFull list in pinned tweet!', url='https://t.co/BdtpXV8XzG', entities={'url': {'urls': [{'url': 'https://t.co/BdtpXV8XzG', 'expanded_url': 'https://bitsdroid.com', 'display_url': 'bitsdroid.com', 'indices': [0, 23]}]}, 'description': {'urls': [{'url': 'https://t.co/NGM1EB6ia1', 'expanded_url': 'http://bit.ly/37g0Gbt', 'display_url': 'bit.ly/37g0Gbt', 'indices': [84, 107]}, {'url': 'https://t.co/0HeXi5jSou', 'expanded_url': 'http://bit.ly/37fIeQo', 'display_url': 'bit.ly/37fIeQo', 'indices': [111, 134]}]}}, protected=False, followers_count=9160, friends_count=21, listed_count=153, created_at=datetime.datetime(2018, 6, 6, 4, 55, 52), favourites_count=408, utc_offset=None, time_zone=None, geo_enabled=False, verified=False, statuses_count=118266, lang=None, contributors_enabled=False, is_translator=False, is_translation_enabled=False, profile_background_color='F5F8FA', profile_background_image_url=None, profile_background_image_url_https=None, profile_background_tile=False, profile_image_url='http://pbs.twimg.com/profile_images/1004235176082321408/sr8WYJoB_normal.jpg', profile_image_url_https='https://pbs.twimg.com/profile_images/1004235176082321408/sr8WYJoB_normal.jpg', profile_link_color='1DA1F2', profile_sidebar_border_color='C0DEED', profile_sidebar_fill_color='DDEEF6', profile_text_color='333333', profile_use_background_image=True, has_extended_profile=False, default_profile=True, default_profile_image=False, following=False, follow_request_sent=False, notifications=False, translator_type='none'), user=User(_api=<tweepy.api.API object at 0x000002DF37904F70>, _json={'id': 1004225337163747328, 'id_str': '1004225337163747328', 'name': 'Machine Learning', 'screen_name': 'machine_ml', 'location': '', 'description': 'Here, we retweet everything related to #MachineLearning!\\n\\n Courses we recommend:\\n1. https://t.co/NGM1EB6ia1\\n2. https://t.co/0HeXi5jSou\\n\\nFull list in pinned tweet!', 'url': 'https://t.co/BdtpXV8XzG', 'entities': {'url': {'urls': [{'url': 'https://t.co/BdtpXV8XzG', 'expanded_url': 'https://bitsdroid.com', 'display_url': 'bitsdroid.com', 'indices': [0, 23]}]}, 'description': {'urls': [{'url': 'https://t.co/NGM1EB6ia1', 'expanded_url': 'http://bit.ly/37g0Gbt', 'display_url': 'bit.ly/37g0Gbt', 'indices': [84, 107]}, {'url': 'https://t.co/0HeXi5jSou', 'expanded_url': 'http://bit.ly/37fIeQo', 'display_url': 'bit.ly/37fIeQo', 'indices': [111, 134]}]}}, 'protected': False, 'followers_count': 9160, 'friends_count': 21, 'listed_count': 153, 'created_at': 'Wed Jun 06 04:55:52 +0000 2018', 'favourites_count': 408, 'utc_offset': None, 'time_zone': None, 'geo_enabled': False, 'verified': False, 'statuses_count': 118266, 'lang': None, 'contributors_enabled': False, 'is_translator': False, 'is_translation_enabled': False, 'profile_background_color': 'F5F8FA', 'profile_background_image_url': None, 'profile_background_image_url_https': None, 'profile_background_tile': False, 'profile_image_url': 'http://pbs.twimg.com/profile_images/1004235176082321408/sr8WYJoB_normal.jpg', 'profile_image_url_https': 'https://pbs.twimg.com/profile_images/1004235176082321408/sr8WYJoB_normal.jpg', 'profile_link_color': '1DA1F2', 'profile_sidebar_border_color': 'C0DEED', 'profile_sidebar_fill_color': 'DDEEF6', 'profile_text_color': '333333', 'profile_use_background_image': True, 'has_extended_profile': False, 'default_profile': True, 'default_profile_image': False, 'following': False, 'follow_request_sent': False, 'notifications': False, 'translator_type': 'none'}, id=1004225337163747328, id_str='1004225337163747328', name='Machine Learning', screen_name='machine_ml', location='', description='Here, we retweet everything related to #MachineLearning!\\n\\n Courses we recommend:\\n1. https://t.co/NGM1EB6ia1\\n2. https://t.co/0HeXi5jSou\\n\\nFull list in pinned tweet!', url='https://t.co/BdtpXV8XzG', entities={'url': {'urls': [{'url': 'https://t.co/BdtpXV8XzG', 'expanded_url': 'https://bitsdroid.com', 'display_url': 'bitsdroid.com', 'indices': [0, 23]}]}, 'description': {'urls': [{'url': 'https://t.co/NGM1EB6ia1', 'expanded_url': 'http://bit.ly/37g0Gbt', 'display_url': 'bit.ly/37g0Gbt', 'indices': [84, 107]}, {'url': 'https://t.co/0HeXi5jSou', 'expanded_url': 'http://bit.ly/37fIeQo', 'display_url': 'bit.ly/37fIeQo', 'indices': [111, 134]}]}}, protected=False, followers_count=9160, friends_count=21, listed_count=153, created_at=datetime.datetime(2018, 6, 6, 4, 55, 52), favourites_count=408, utc_offset=None, time_zone=None, geo_enabled=False, verified=False, statuses_count=118266, lang=None, contributors_enabled=False, is_translator=False, is_translation_enabled=False, profile_background_color='F5F8FA', profile_background_image_url=None, profile_background_image_url_https=None, profile_background_tile=False, profile_image_url='http://pbs.twimg.com/profile_images/1004235176082321408/sr8WYJoB_normal.jpg', profile_image_url_https='https://pbs.twimg.com/profile_images/1004235176082321408/sr8WYJoB_normal.jpg', profile_link_color='1DA1F2', profile_sidebar_border_color='C0DEED', profile_sidebar_fill_color='DDEEF6', profile_text_color='333333', profile_use_background_image=True, has_extended_profile=False, default_profile=True, default_profile_image=False, following=False, follow_request_sent=False, notifications=False, translator_type='none'), geo=None, coordinates=None, place=None, contributors=None, retweeted_status=Status(_api=<tweepy.api.API object at 0x000002DF37904F70>, _json={'created_at': 'Sat Apr 25 03:16:11 +0000 2020', 'id': 1253885488148164608, 'id_str': '1253885488148164608', 'text': \"The University of Sydney's Westmead Applied Research Centre has been awarded a $1 million grant from Google to ...… https://t.co/zTo1YEm9oL\", 'truncated': True, 'entities': {'hashtags': [], 'symbols': [], 'user_mentions': [], 'urls': [{'url': 'https://t.co/zTo1YEm9oL', 'expanded_url': 'https://twitter.com/i/web/status/1253885488148164608', 'display_url': 'twitter.com/i/web/status/1…', 'indices': [116, 139]}]}, 'metadata': {'iso_language_code': 'en', 'result_type': 'recent'}, 'source': '<a href=\"http://app.sendblur.com\" rel=\"nofollow\">Social Media Publisher App </a>', 'in_reply_to_status_id': None, 'in_reply_to_status_id_str': None, 'in_reply_to_user_id': None, 'in_reply_to_user_id_str': None, 'in_reply_to_screen_name': None, 'user': {'id': 997779558009982977, 'id_str': '997779558009982977', 'name': 'AI Health', 'screen_name': 'AIHealth1', 'location': 'Sydney, New South Wales', 'description': 'We bring Artificial Intelligence to the Health sector.    #aihealth', 'url': 'https://t.co/8SOQplPLYk', 'entities': {'url': {'urls': [{'url': 'https://t.co/8SOQplPLYk', 'expanded_url': 'http://www.aihealth.tech', 'display_url': 'aihealth.tech', 'indices': [0, 23]}]}, 'description': {'urls': []}}, 'protected': False, 'followers_count': 325, 'friends_count': 243, 'listed_count': 6, 'created_at': 'Sat May 19 10:02:39 +0000 2018', 'favourites_count': 775, 'utc_offset': None, 'time_zone': None, 'geo_enabled': True, 'verified': False, 'statuses_count': 3290, 'lang': None, 'contributors_enabled': False, 'is_translator': False, 'is_translation_enabled': False, 'profile_background_color': '000000', 'profile_background_image_url': 'http://abs.twimg.com/images/themes/theme1/bg.png', 'profile_background_image_url_https': 'https://abs.twimg.com/images/themes/theme1/bg.png', 'profile_background_tile': False, 'profile_image_url': 'http://pbs.twimg.com/profile_images/1031414949015252992/cfXZTVJG_normal.jpg', 'profile_image_url_https': 'https://pbs.twimg.com/profile_images/1031414949015252992/cfXZTVJG_normal.jpg', 'profile_banner_url': 'https://pbs.twimg.com/profile_banners/997779558009982977/1534743462', 'profile_link_color': '000000', 'profile_sidebar_border_color': '000000', 'profile_sidebar_fill_color': '000000', 'profile_text_color': '000000', 'profile_use_background_image': False, 'has_extended_profile': False, 'default_profile': False, 'default_profile_image': False, 'following': False, 'follow_request_sent': False, 'notifications': False, 'translator_type': 'none'}, 'geo': None, 'coordinates': None, 'place': None, 'contributors': None, 'is_quote_status': False, 'retweet_count': 1, 'favorite_count': 0, 'favorited': False, 'retweeted': False, 'possibly_sensitive': False, 'lang': 'en'}, created_at=datetime.datetime(2020, 4, 25, 3, 16, 11), id=1253885488148164608, id_str='1253885488148164608', text=\"The University of Sydney's Westmead Applied Research Centre has been awarded a $1 million grant from Google to ...… https://t.co/zTo1YEm9oL\", truncated=True, entities={'hashtags': [], 'symbols': [], 'user_mentions': [], 'urls': [{'url': 'https://t.co/zTo1YEm9oL', 'expanded_url': 'https://twitter.com/i/web/status/1253885488148164608', 'display_url': 'twitter.com/i/web/status/1…', 'indices': [116, 139]}]}, metadata={'iso_language_code': 'en', 'result_type': 'recent'}, source='Social Media Publisher App ', source_url='http://app.sendblur.com', in_reply_to_status_id=None, in_reply_to_status_id_str=None, in_reply_to_user_id=None, in_reply_to_user_id_str=None, in_reply_to_screen_name=None, author=User(_api=<tweepy.api.API object at 0x000002DF37904F70>, _json={'id': 997779558009982977, 'id_str': '997779558009982977', 'name': 'AI Health', 'screen_name': 'AIHealth1', 'location': 'Sydney, New South Wales', 'description': 'We bring Artificial Intelligence to the Health sector.    #aihealth', 'url': 'https://t.co/8SOQplPLYk', 'entities': {'url': {'urls': [{'url': 'https://t.co/8SOQplPLYk', 'expanded_url': 'http://www.aihealth.tech', 'display_url': 'aihealth.tech', 'indices': [0, 23]}]}, 'description': {'urls': []}}, 'protected': False, 'followers_count': 325, 'friends_count': 243, 'listed_count': 6, 'created_at': 'Sat May 19 10:02:39 +0000 2018', 'favourites_count': 775, 'utc_offset': None, 'time_zone': None, 'geo_enabled': True, 'verified': False, 'statuses_count': 3290, 'lang': None, 'contributors_enabled': False, 'is_translator': False, 'is_translation_enabled': False, 'profile_background_color': '000000', 'profile_background_image_url': 'http://abs.twimg.com/images/themes/theme1/bg.png', 'profile_background_image_url_https': 'https://abs.twimg.com/images/themes/theme1/bg.png', 'profile_background_tile': False, 'profile_image_url': 'http://pbs.twimg.com/profile_images/1031414949015252992/cfXZTVJG_normal.jpg', 'profile_image_url_https': 'https://pbs.twimg.com/profile_images/1031414949015252992/cfXZTVJG_normal.jpg', 'profile_banner_url': 'https://pbs.twimg.com/profile_banners/997779558009982977/1534743462', 'profile_link_color': '000000', 'profile_sidebar_border_color': '000000', 'profile_sidebar_fill_color': '000000', 'profile_text_color': '000000', 'profile_use_background_image': False, 'has_extended_profile': False, 'default_profile': False, 'default_profile_image': False, 'following': False, 'follow_request_sent': False, 'notifications': False, 'translator_type': 'none'}, id=997779558009982977, id_str='997779558009982977', name='AI Health', screen_name='AIHealth1', location='Sydney, New South Wales', description='We bring Artificial Intelligence to the Health sector.    #aihealth', url='https://t.co/8SOQplPLYk', entities={'url': {'urls': [{'url': 'https://t.co/8SOQplPLYk', 'expanded_url': 'http://www.aihealth.tech', 'display_url': 'aihealth.tech', 'indices': [0, 23]}]}, 'description': {'urls': []}}, protected=False, followers_count=325, friends_count=243, listed_count=6, created_at=datetime.datetime(2018, 5, 19, 10, 2, 39), favourites_count=775, utc_offset=None, time_zone=None, geo_enabled=True, verified=False, statuses_count=3290, lang=None, contributors_enabled=False, is_translator=False, is_translation_enabled=False, profile_background_color='000000', profile_background_image_url='http://abs.twimg.com/images/themes/theme1/bg.png', profile_background_image_url_https='https://abs.twimg.com/images/themes/theme1/bg.png', profile_background_tile=False, profile_image_url='http://pbs.twimg.com/profile_images/1031414949015252992/cfXZTVJG_normal.jpg', profile_image_url_https='https://pbs.twimg.com/profile_images/1031414949015252992/cfXZTVJG_normal.jpg', profile_banner_url='https://pbs.twimg.com/profile_banners/997779558009982977/1534743462', profile_link_color='000000', profile_sidebar_border_color='000000', profile_sidebar_fill_color='000000', profile_text_color='000000', profile_use_background_image=False, has_extended_profile=False, default_profile=False, default_profile_image=False, following=False, follow_request_sent=False, notifications=False, translator_type='none'), user=User(_api=<tweepy.api.API object at 0x000002DF37904F70>, _json={'id': 997779558009982977, 'id_str': '997779558009982977', 'name': 'AI Health', 'screen_name': 'AIHealth1', 'location': 'Sydney, New South Wales', 'description': 'We bring Artificial Intelligence to the Health sector.    #aihealth', 'url': 'https://t.co/8SOQplPLYk', 'entities': {'url': {'urls': [{'url': 'https://t.co/8SOQplPLYk', 'expanded_url': 'http://www.aihealth.tech', 'display_url': 'aihealth.tech', 'indices': [0, 23]}]}, 'description': {'urls': []}}, 'protected': False, 'followers_count': 325, 'friends_count': 243, 'listed_count': 6, 'created_at': 'Sat May 19 10:02:39 +0000 2018', 'favourites_count': 775, 'utc_offset': None, 'time_zone': None, 'geo_enabled': True, 'verified': False, 'statuses_count': 3290, 'lang': None, 'contributors_enabled': False, 'is_translator': False, 'is_translation_enabled': False, 'profile_background_color': '000000', 'profile_background_image_url': 'http://abs.twimg.com/images/themes/theme1/bg.png', 'profile_background_image_url_https': 'https://abs.twimg.com/images/themes/theme1/bg.png', 'profile_background_tile': False, 'profile_image_url': 'http://pbs.twimg.com/profile_images/1031414949015252992/cfXZTVJG_normal.jpg', 'profile_image_url_https': 'https://pbs.twimg.com/profile_images/1031414949015252992/cfXZTVJG_normal.jpg', 'profile_banner_url': 'https://pbs.twimg.com/profile_banners/997779558009982977/1534743462', 'profile_link_color': '000000', 'profile_sidebar_border_color': '000000', 'profile_sidebar_fill_color': '000000', 'profile_text_color': '000000', 'profile_use_background_image': False, 'has_extended_profile': False, 'default_profile': False, 'default_profile_image': False, 'following': False, 'follow_request_sent': False, 'notifications': False, 'translator_type': 'none'}, id=997779558009982977, id_str='997779558009982977', name='AI Health', screen_name='AIHealth1', location='Sydney, New South Wales', description='We bring Artificial Intelligence to the Health sector.    #aihealth', url='https://t.co/8SOQplPLYk', entities={'url': {'urls': [{'url': 'https://t.co/8SOQplPLYk', 'expanded_url': 'http://www.aihealth.tech', 'display_url': 'aihealth.tech', 'indices': [0, 23]}]}, 'description': {'urls': []}}, protected=False, followers_count=325, friends_count=243, listed_count=6, created_at=datetime.datetime(2018, 5, 19, 10, 2, 39), favourites_count=775, utc_offset=None, time_zone=None, geo_enabled=True, verified=False, statuses_count=3290, lang=None, contributors_enabled=False, is_translator=False, is_translation_enabled=False, profile_background_color='000000', profile_background_image_url='http://abs.twimg.com/images/themes/theme1/bg.png', profile_background_image_url_https='https://abs.twimg.com/images/themes/theme1/bg.png', profile_background_tile=False, profile_image_url='http://pbs.twimg.com/profile_images/1031414949015252992/cfXZTVJG_normal.jpg', profile_image_url_https='https://pbs.twimg.com/profile_images/1031414949015252992/cfXZTVJG_normal.jpg', profile_banner_url='https://pbs.twimg.com/profile_banners/997779558009982977/1534743462', profile_link_color='000000', profile_sidebar_border_color='000000', profile_sidebar_fill_color='000000', profile_text_color='000000', profile_use_background_image=False, has_extended_profile=False, default_profile=False, default_profile_image=False, following=False, follow_request_sent=False, notifications=False, translator_type='none'), geo=None, coordinates=None, place=None, contributors=None, is_quote_status=False, retweet_count=1, favorite_count=0, favorited=False, retweeted=False, possibly_sensitive=False, lang='en'), is_quote_status=False, retweet_count=1, favorite_count=0, favorited=False, retweeted=False, lang='en'),\n Status(_api=<tweepy.api.API object at 0x000002DF37904F70>, _json={'created_at': 'Sat Apr 25 03:17:11 +0000 2020', 'id': 1253885741937164288, 'id_str': '1253885741937164288', 'text': 'RT @Fisher85M: What’s your #Security Maturity level? [Infographic]\\n\\n#CyberSecurity #infosec #education @Fisher85M #BigData #Analytics #Mach…', 'truncated': False, 'entities': {'hashtags': [{'text': 'Security', 'indices': [27, 36]}, {'text': 'CyberSecurity', 'indices': [68, 82]}, {'text': 'infosec', 'indices': [83, 91]}, {'text': 'education', 'indices': [92, 102]}, {'text': 'BigData', 'indices': [114, 122]}, {'text': 'Analytics', 'indices': [123, 133]}], 'symbols': [], 'user_mentions': [{'screen_name': 'Fisher85M', 'name': 'Michael Fisher', 'id': 846014785246367745, 'id_str': '846014785246367745', 'indices': [3, 13]}, {'screen_name': 'Fisher85M', 'name': 'Michael Fisher', 'id': 846014785246367745, 'id_str': '846014785246367745', 'indices': [103, 113]}], 'urls': []}, 'metadata': {'iso_language_code': 'en', 'result_type': 'recent'}, 'source': '<a href=\"https://hubofco.de\" rel=\"nofollow\">hubofml</a>', 'in_reply_to_status_id': None, 'in_reply_to_status_id_str': None, 'in_reply_to_user_id': None, 'in_reply_to_user_id_str': None, 'in_reply_to_screen_name': None, 'user': {'id': 3040871649, 'id_str': '3040871649', 'name': 'HubofMachineLearning', 'screen_name': 'hubofml', 'location': 'Germany ', 'description': 'Every month, I send out a newsletter containing lots of exciting stuff on data science and machine learning.\\nSubscribe here 👉https://t.co/U6OVlKIG9x', 'url': 'https://t.co/U6OVlL0hy7', 'entities': {'url': {'urls': [{'url': 'https://t.co/U6OVlL0hy7', 'expanded_url': 'https://tinyletter.com/hubofml', 'display_url': 'tinyletter.com/hubofml', 'indices': [0, 23]}]}, 'description': {'urls': [{'url': 'https://t.co/U6OVlKIG9x', 'expanded_url': 'https://tinyletter.com/hubofml', 'display_url': 'tinyletter.com/hubofml', 'indices': [125, 148]}]}}, 'protected': False, 'followers_count': 3193, 'friends_count': 11, 'listed_count': 75, 'created_at': 'Mon Feb 16 15:33:55 +0000 2015', 'favourites_count': 22950, 'utc_offset': None, 'time_zone': None, 'geo_enabled': False, 'verified': False, 'statuses_count': 141216, 'lang': None, 'contributors_enabled': False, 'is_translator': False, 'is_translation_enabled': False, 'profile_background_color': '000000', 'profile_background_image_url': 'http://abs.twimg.com/images/themes/theme1/bg.png', 'profile_background_image_url_https': 'https://abs.twimg.com/images/themes/theme1/bg.png', 'profile_background_tile': False, 'profile_image_url': 'http://pbs.twimg.com/profile_images/1218282511521980418/A_mORr5l_normal.jpg', 'profile_image_url_https': 'https://pbs.twimg.com/profile_images/1218282511521980418/A_mORr5l_normal.jpg', 'profile_banner_url': 'https://pbs.twimg.com/profile_banners/3040871649/1432544073', 'profile_link_color': '4A913C', 'profile_sidebar_border_color': '000000', 'profile_sidebar_fill_color': '000000', 'profile_text_color': '000000', 'profile_use_background_image': False, 'has_extended_profile': True, 'default_profile': False, 'default_profile_image': False, 'following': False, 'follow_request_sent': False, 'notifications': False, 'translator_type': 'none'}, 'geo': None, 'coordinates': None, 'place': None, 'contributors': None, 'retweeted_status': {'created_at': 'Wed Apr 22 09:45:02 +0000 2020', 'id': 1252896182319419393, 'id_str': '1252896182319419393', 'text': 'What’s your #Security Maturity level? [Infographic]\\n\\n#CyberSecurity #infosec #education @Fisher85M #BigData… https://t.co/WlMVAUDQ3W', 'truncated': True, 'entities': {'hashtags': [{'text': 'Security', 'indices': [12, 21]}, {'text': 'CyberSecurity', 'indices': [53, 67]}, {'text': 'infosec', 'indices': [68, 76]}, {'text': 'education', 'indices': [77, 87]}, {'text': 'BigData', 'indices': [99, 107]}], 'symbols': [], 'user_mentions': [{'screen_name': 'Fisher85M', 'name': 'Michael Fisher', 'id': 846014785246367745, 'id_str': '846014785246367745', 'indices': [88, 98]}], 'urls': [{'url': 'https://t.co/WlMVAUDQ3W', 'expanded_url': 'https://twitter.com/i/web/status/1252896182319419393', 'display_url': 'twitter.com/i/web/status/1…', 'indices': [109, 132]}]}, 'metadata': {'iso_language_code': 'en', 'result_type': 'recent'}, 'source': '<a href=\"https://buffer.com\" rel=\"nofollow\">Buffer</a>', 'in_reply_to_status_id': None, 'in_reply_to_status_id_str': None, 'in_reply_to_user_id': None, 'in_reply_to_user_id_str': None, 'in_reply_to_screen_name': None, 'user': {'id': 846014785246367745, 'id_str': '846014785246367745', 'name': 'Michael Fisher', 'screen_name': 'Fisher85M', 'location': 'Vernon, CT', 'description': 'Analyst, Tech Evangelist, #CyberSecurity, #DigitalTransformation, #IoT, #Fintech, #DataScience, #5G & #VR Influencer: @DZoneInc & @Onalytica. 100% Geek.', 'url': 'https://t.co/QAzg8qeYz5', 'entities': {'url': {'urls': [{'url': 'https://t.co/QAzg8qeYz5', 'expanded_url': 'https://www.linkedin.com/in/fisher85m/', 'display_url': 'linkedin.com/in/fisher85m/', 'indices': [0, 23]}]}, 'description': {'urls': []}}, 'protected': False, 'followers_count': 86878, 'friends_count': 11669, 'listed_count': 1528, 'created_at': 'Sun Mar 26 15:03:37 +0000 2017', 'favourites_count': 53694, 'utc_offset': None, 'time_zone': None, 'geo_enabled': True, 'verified': False, 'statuses_count': 31711, 'lang': None, 'contributors_enabled': False, 'is_translator': False, 'is_translation_enabled': False, 'profile_background_color': '000000', 'profile_background_image_url': 'http://abs.twimg.com/images/themes/theme1/bg.png', 'profile_background_image_url_https': 'https://abs.twimg.com/images/themes/theme1/bg.png', 'profile_background_tile': False, 'profile_image_url': 'http://pbs.twimg.com/profile_images/1020448812459061248/juZN4AhA_normal.jpg', 'profile_image_url_https': 'https://pbs.twimg.com/profile_images/1020448812459061248/juZN4AhA_normal.jpg', 'profile_banner_url': 'https://pbs.twimg.com/profile_banners/846014785246367745/1497302270', 'profile_link_color': '1B95E0', 'profile_sidebar_border_color': '000000', 'profile_sidebar_fill_color': '000000', 'profile_text_color': '000000', 'profile_use_background_image': False, 'has_extended_profile': True, 'default_profile': False, 'default_profile_image': False, 'following': False, 'follow_request_sent': False, 'notifications': False, 'translator_type': 'none'}, 'geo': None, 'coordinates': None, 'place': None, 'contributors': None, 'is_quote_status': False, 'retweet_count': 47, 'favorite_count': 25, 'favorited': False, 'retweeted': False, 'possibly_sensitive': False, 'lang': 'en'}, 'is_quote_status': False, 'retweet_count': 47, 'favorite_count': 0, 'favorited': False, 'retweeted': False, 'lang': 'en'}, created_at=datetime.datetime(2020, 4, 25, 3, 17, 11), id=1253885741937164288, id_str='1253885741937164288', text='RT @Fisher85M: What’s your #Security Maturity level? [Infographic]\\n\\n#CyberSecurity #infosec #education @Fisher85M #BigData #Analytics #Mach…', truncated=False, entities={'hashtags': [{'text': 'Security', 'indices': [27, 36]}, {'text': 'CyberSecurity', 'indices': [68, 82]}, {'text': 'infosec', 'indices': [83, 91]}, {'text': 'education', 'indices': [92, 102]}, {'text': 'BigData', 'indices': [114, 122]}, {'text': 'Analytics', 'indices': [123, 133]}], 'symbols': [], 'user_mentions': [{'screen_name': 'Fisher85M', 'name': 'Michael Fisher', 'id': 846014785246367745, 'id_str': '846014785246367745', 'indices': [3, 13]}, {'screen_name': 'Fisher85M', 'name': 'Michael Fisher', 'id': 846014785246367745, 'id_str': '846014785246367745', 'indices': [103, 113]}], 'urls': []}, metadata={'iso_language_code': 'en', 'result_type': 'recent'}, source='hubofml', source_url='https://hubofco.de', in_reply_to_status_id=None, in_reply_to_status_id_str=None, in_reply_to_user_id=None, in_reply_to_user_id_str=None, in_reply_to_screen_name=None, author=User(_api=<tweepy.api.API object at 0x000002DF37904F70>, _json={'id': 3040871649, 'id_str': '3040871649', 'name': 'HubofMachineLearning', 'screen_name': 'hubofml', 'location': 'Germany ', 'description': 'Every month, I send out a newsletter containing lots of exciting stuff on data science and machine learning.\\nSubscribe here 👉https://t.co/U6OVlKIG9x', 'url': 'https://t.co/U6OVlL0hy7', 'entities': {'url': {'urls': [{'url': 'https://t.co/U6OVlL0hy7', 'expanded_url': 'https://tinyletter.com/hubofml', 'display_url': 'tinyletter.com/hubofml', 'indices': [0, 23]}]}, 'description': {'urls': [{'url': 'https://t.co/U6OVlKIG9x', 'expanded_url': 'https://tinyletter.com/hubofml', 'display_url': 'tinyletter.com/hubofml', 'indices': [125, 148]}]}}, 'protected': False, 'followers_count': 3193, 'friends_count': 11, 'listed_count': 75, 'created_at': 'Mon Feb 16 15:33:55 +0000 2015', 'favourites_count': 22950, 'utc_offset': None, 'time_zone': None, 'geo_enabled': False, 'verified': False, 'statuses_count': 141216, 'lang': None, 'contributors_enabled': False, 'is_translator': False, 'is_translation_enabled': False, 'profile_background_color': '000000', 'profile_background_image_url': 'http://abs.twimg.com/images/themes/theme1/bg.png', 'profile_background_image_url_https': 'https://abs.twimg.com/images/themes/theme1/bg.png', 'profile_background_tile': False, 'profile_image_url': 'http://pbs.twimg.com/profile_images/1218282511521980418/A_mORr5l_normal.jpg', 'profile_image_url_https': 'https://pbs.twimg.com/profile_images/1218282511521980418/A_mORr5l_normal.jpg', 'profile_banner_url': 'https://pbs.twimg.com/profile_banners/3040871649/1432544073', 'profile_link_color': '4A913C', 'profile_sidebar_border_color': '000000', 'profile_sidebar_fill_color': '000000', 'profile_text_color': '000000', 'profile_use_background_image': False, 'has_extended_profile': True, 'default_profile': False, 'default_profile_image': False, 'following': False, 'follow_request_sent': False, 'notifications': False, 'translator_type': 'none'}, id=3040871649, id_str='3040871649', name='HubofMachineLearning', screen_name='hubofml', location='Germany ', description='Every month, I send out a newsletter containing lots of exciting stuff on data science and machine learning.\\nSubscribe here 👉https://t.co/U6OVlKIG9x', url='https://t.co/U6OVlL0hy7', entities={'url': {'urls': [{'url': 'https://t.co/U6OVlL0hy7', 'expanded_url': 'https://tinyletter.com/hubofml', 'display_url': 'tinyletter.com/hubofml', 'indices': [0, 23]}]}, 'description': {'urls': [{'url': 'https://t.co/U6OVlKIG9x', 'expanded_url': 'https://tinyletter.com/hubofml', 'display_url': 'tinyletter.com/hubofml', 'indices': [125, 148]}]}}, protected=False, followers_count=3193, friends_count=11, listed_count=75, created_at=datetime.datetime(2015, 2, 16, 15, 33, 55), favourites_count=22950, utc_offset=None, time_zone=None, geo_enabled=False, verified=False, statuses_count=141216, lang=None, contributors_enabled=False, is_translator=False, is_translation_enabled=False, profile_background_color='000000', profile_background_image_url='http://abs.twimg.com/images/themes/theme1/bg.png', profile_background_image_url_https='https://abs.twimg.com/images/themes/theme1/bg.png', profile_background_tile=False, profile_image_url='http://pbs.twimg.com/profile_images/1218282511521980418/A_mORr5l_normal.jpg', profile_image_url_https='https://pbs.twimg.com/profile_images/1218282511521980418/A_mORr5l_normal.jpg', profile_banner_url='https://pbs.twimg.com/profile_banners/3040871649/1432544073', profile_link_color='4A913C', profile_sidebar_border_color='000000', profile_sidebar_fill_color='000000', profile_text_color='000000', profile_use_background_image=False, has_extended_profile=True, default_profile=False, default_profile_image=False, following=False, follow_request_sent=False, notifications=False, translator_type='none'), user=User(_api=<tweepy.api.API object at 0x000002DF37904F70>, _json={'id': 3040871649, 'id_str': '3040871649', 'name': 'HubofMachineLearning', 'screen_name': 'hubofml', 'location': 'Germany ', 'description': 'Every month, I send out a newsletter containing lots of exciting stuff on data science and machine learning.\\nSubscribe here 👉https://t.co/U6OVlKIG9x', 'url': 'https://t.co/U6OVlL0hy7', 'entities': {'url': {'urls': [{'url': 'https://t.co/U6OVlL0hy7', 'expanded_url': 'https://tinyletter.com/hubofml', 'display_url': 'tinyletter.com/hubofml', 'indices': [0, 23]}]}, 'description': {'urls': [{'url': 'https://t.co/U6OVlKIG9x', 'expanded_url': 'https://tinyletter.com/hubofml', 'display_url': 'tinyletter.com/hubofml', 'indices': [125, 148]}]}}, 'protected': False, 'followers_count': 3193, 'friends_count': 11, 'listed_count': 75, 'created_at': 'Mon Feb 16 15:33:55 +0000 2015', 'favourites_count': 22950, 'utc_offset': None, 'time_zone': None, 'geo_enabled': False, 'verified': False, 'statuses_count': 141216, 'lang': None, 'contributors_enabled': False, 'is_translator': False, 'is_translation_enabled': False, 'profile_background_color': '000000', 'profile_background_image_url': 'http://abs.twimg.com/images/themes/theme1/bg.png', 'profile_background_image_url_https': 'https://abs.twimg.com/images/themes/theme1/bg.png', 'profile_background_tile': False, 'profile_image_url': 'http://pbs.twimg.com/profile_images/1218282511521980418/A_mORr5l_normal.jpg', 'profile_image_url_https': 'https://pbs.twimg.com/profile_images/1218282511521980418/A_mORr5l_normal.jpg', 'profile_banner_url': 'https://pbs.twimg.com/profile_banners/3040871649/1432544073', 'profile_link_color': '4A913C', 'profile_sidebar_border_color': '000000', 'profile_sidebar_fill_color': '000000', 'profile_text_color': '000000', 'profile_use_background_image': False, 'has_extended_profile': True, 'default_profile': False, 'default_profile_image': False, 'following': False, 'follow_request_sent': False, 'notifications': False, 'translator_type': 'none'}, id=3040871649, id_str='3040871649', name='HubofMachineLearning', screen_name='hubofml', location='Germany ', description='Every month, I send out a newsletter containing lots of exciting stuff on data science and machine learning.\\nSubscribe here 👉https://t.co/U6OVlKIG9x', url='https://t.co/U6OVlL0hy7', entities={'url': {'urls': [{'url': 'https://t.co/U6OVlL0hy7', 'expanded_url': 'https://tinyletter.com/hubofml', 'display_url': 'tinyletter.com/hubofml', 'indices': [0, 23]}]}, 'description': {'urls': [{'url': 'https://t.co/U6OVlKIG9x', 'expanded_url': 'https://tinyletter.com/hubofml', 'display_url': 'tinyletter.com/hubofml', 'indices': [125, 148]}]}}, protected=False, followers_count=3193, friends_count=11, listed_count=75, created_at=datetime.datetime(2015, 2, 16, 15, 33, 55), favourites_count=22950, utc_offset=None, time_zone=None, geo_enabled=False, verified=False, statuses_count=141216, lang=None, contributors_enabled=False, is_translator=False, is_translation_enabled=False, profile_background_color='000000', profile_background_image_url='http://abs.twimg.com/images/themes/theme1/bg.png', profile_background_image_url_https='https://abs.twimg.com/images/themes/theme1/bg.png', profile_background_tile=False, profile_image_url='http://pbs.twimg.com/profile_images/1218282511521980418/A_mORr5l_normal.jpg', profile_image_url_https='https://pbs.twimg.com/profile_images/1218282511521980418/A_mORr5l_normal.jpg', profile_banner_url='https://pbs.twimg.com/profile_banners/3040871649/1432544073', profile_link_color='4A913C', profile_sidebar_border_color='000000', profile_sidebar_fill_color='000000', profile_text_color='000000', profile_use_background_image=False, has_extended_profile=True, default_profile=False, default_profile_image=False, following=False, follow_request_sent=False, notifications=False, translator_type='none'), geo=None, coordinates=None, place=None, contributors=None, retweeted_status=Status(_api=<tweepy.api.API object at 0x000002DF37904F70>, _json={'created_at': 'Wed Apr 22 09:45:02 +0000 2020', 'id': 1252896182319419393, 'id_str': '1252896182319419393', 'text': 'What’s your #Security Maturity level? [Infographic]\\n\\n#CyberSecurity #infosec #education @Fisher85M #BigData… https://t.co/WlMVAUDQ3W', 'truncated': True, 'entities': {'hashtags': [{'text': 'Security', 'indices': [12, 21]}, {'text': 'CyberSecurity', 'indices': [53, 67]}, {'text': 'infosec', 'indices': [68, 76]}, {'text': 'education', 'indices': [77, 87]}, {'text': 'BigData', 'indices': [99, 107]}], 'symbols': [], 'user_mentions': [{'screen_name': 'Fisher85M', 'name': 'Michael Fisher', 'id': 846014785246367745, 'id_str': '846014785246367745', 'indices': [88, 98]}], 'urls': [{'url': 'https://t.co/WlMVAUDQ3W', 'expanded_url': 'https://twitter.com/i/web/status/1252896182319419393', 'display_url': 'twitter.com/i/web/status/1…', 'indices': [109, 132]}]}, 'metadata': {'iso_language_code': 'en', 'result_type': 'recent'}, 'source': '<a href=\"https://buffer.com\" rel=\"nofollow\">Buffer</a>', 'in_reply_to_status_id': None, 'in_reply_to_status_id_str': None, 'in_reply_to_user_id': None, 'in_reply_to_user_id_str': None, 'in_reply_to_screen_name': None, 'user': {'id': 846014785246367745, 'id_str': '846014785246367745', 'name': 'Michael Fisher', 'screen_name': 'Fisher85M', 'location': 'Vernon, CT', 'description': 'Analyst, Tech Evangelist, #CyberSecurity, #DigitalTransformation, #IoT, #Fintech, #DataScience, #5G & #VR Influencer: @DZoneInc & @Onalytica. 100% Geek.', 'url': 'https://t.co/QAzg8qeYz5', 'entities': {'url': {'urls': [{'url': 'https://t.co/QAzg8qeYz5', 'expanded_url': 'https://www.linkedin.com/in/fisher85m/', 'display_url': 'linkedin.com/in/fisher85m/', 'indices': [0, 23]}]}, 'description': {'urls': []}}, 'protected': False, 'followers_count': 86878, 'friends_count': 11669, 'listed_count': 1528, 'created_at': 'Sun Mar 26 15:03:37 +0000 2017', 'favourites_count': 53694, 'utc_offset': None, 'time_zone': None, 'geo_enabled': True, 'verified': False, 'statuses_count': 31711, 'lang': None, 'contributors_enabled': False, 'is_translator': False, 'is_translation_enabled': False, 'profile_background_color': '000000', 'profile_background_image_url': 'http://abs.twimg.com/images/themes/theme1/bg.png', 'profile_background_image_url_https': 'https://abs.twimg.com/images/themes/theme1/bg.png', 'profile_background_tile': False, 'profile_image_url': 'http://pbs.twimg.com/profile_images/1020448812459061248/juZN4AhA_normal.jpg', 'profile_image_url_https': 'https://pbs.twimg.com/profile_images/1020448812459061248/juZN4AhA_normal.jpg', 'profile_banner_url': 'https://pbs.twimg.com/profile_banners/846014785246367745/1497302270', 'profile_link_color': '1B95E0', 'profile_sidebar_border_color': '000000', 'profile_sidebar_fill_color': '000000', 'profile_text_color': '000000', 'profile_use_background_image': False, 'has_extended_profile': True, 'default_profile': False, 'default_profile_image': False, 'following': False, 'follow_request_sent': False, 'notifications': False, 'translator_type': 'none'}, 'geo': None, 'coordinates': None, 'place': None, 'contributors': None, 'is_quote_status': False, 'retweet_count': 47, 'favorite_count': 25, 'favorited': False, 'retweeted': False, 'possibly_sensitive': False, 'lang': 'en'}, created_at=datetime.datetime(2020, 4, 22, 9, 45, 2), id=1252896182319419393, id_str='1252896182319419393', text='What’s your #Security Maturity level? [Infographic]\\n\\n#CyberSecurity #infosec #education @Fisher85M #BigData… https://t.co/WlMVAUDQ3W', truncated=True, entities={'hashtags': [{'text': 'Security', 'indices': [12, 21]}, {'text': 'CyberSecurity', 'indices': [53, 67]}, {'text': 'infosec', 'indices': [68, 76]}, {'text': 'education', 'indices': [77, 87]}, {'text': 'BigData', 'indices': [99, 107]}], 'symbols': [], 'user_mentions': [{'screen_name': 'Fisher85M', 'name': 'Michael Fisher', 'id': 846014785246367745, 'id_str': '846014785246367745', 'indices': [88, 98]}], 'urls': [{'url': 'https://t.co/WlMVAUDQ3W', 'expanded_url': 'https://twitter.com/i/web/status/1252896182319419393', 'display_url': 'twitter.com/i/web/status/1…', 'indices': [109, 132]}]}, metadata={'iso_language_code': 'en', 'result_type': 'recent'}, source='Buffer', source_url='https://buffer.com', in_reply_to_status_id=None, in_reply_to_status_id_str=None, in_reply_to_user_id=None, in_reply_to_user_id_str=None, in_reply_to_screen_name=None, author=User(_api=<tweepy.api.API object at 0x000002DF37904F70>, _json={'id': 846014785246367745, 'id_str': '846014785246367745', 'name': 'Michael Fisher', 'screen_name': 'Fisher85M', 'location': 'Vernon, CT', 'description': 'Analyst, Tech Evangelist, #CyberSecurity, #DigitalTransformation, #IoT, #Fintech, #DataScience, #5G & #VR Influencer: @DZoneInc & @Onalytica. 100% Geek.', 'url': 'https://t.co/QAzg8qeYz5', 'entities': {'url': {'urls': [{'url': 'https://t.co/QAzg8qeYz5', 'expanded_url': 'https://www.linkedin.com/in/fisher85m/', 'display_url': 'linkedin.com/in/fisher85m/', 'indices': [0, 23]}]}, 'description': {'urls': []}}, 'protected': False, 'followers_count': 86878, 'friends_count': 11669, 'listed_count': 1528, 'created_at': 'Sun Mar 26 15:03:37 +0000 2017', 'favourites_count': 53694, 'utc_offset': None, 'time_zone': None, 'geo_enabled': True, 'verified': False, 'statuses_count': 31711, 'lang': None, 'contributors_enabled': False, 'is_translator': False, 'is_translation_enabled': False, 'profile_background_color': '000000', 'profile_background_image_url': 'http://abs.twimg.com/images/themes/theme1/bg.png', 'profile_background_image_url_https': 'https://abs.twimg.com/images/themes/theme1/bg.png', 'profile_background_tile': False, 'profile_image_url': 'http://pbs.twimg.com/profile_images/1020448812459061248/juZN4AhA_normal.jpg', 'profile_image_url_https': 'https://pbs.twimg.com/profile_images/1020448812459061248/juZN4AhA_normal.jpg', 'profile_banner_url': 'https://pbs.twimg.com/profile_banners/846014785246367745/1497302270', 'profile_link_color': '1B95E0', 'profile_sidebar_border_color': '000000', 'profile_sidebar_fill_color': '000000', 'profile_text_color': '000000', 'profile_use_background_image': False, 'has_extended_profile': True, 'default_profile': False, 'default_profile_image': False, 'following': False, 'follow_request_sent': False, 'notifications': False, 'translator_type': 'none'}, id=846014785246367745, id_str='846014785246367745', name='Michael Fisher', screen_name='Fisher85M', location='Vernon, CT', description='Analyst, Tech Evangelist, #CyberSecurity, #DigitalTransformation, #IoT, #Fintech, #DataScience, #5G & #VR Influencer: @DZoneInc & @Onalytica. 100% Geek.', url='https://t.co/QAzg8qeYz5', entities={'url': {'urls': [{'url': 'https://t.co/QAzg8qeYz5', 'expanded_url': 'https://www.linkedin.com/in/fisher85m/', 'display_url': 'linkedin.com/in/fisher85m/', 'indices': [0, 23]}]}, 'description': {'urls': []}}, protected=False, followers_count=86878, friends_count=11669, listed_count=1528, created_at=datetime.datetime(2017, 3, 26, 15, 3, 37), favourites_count=53694, utc_offset=None, time_zone=None, geo_enabled=True, verified=False, statuses_count=31711, lang=None, contributors_enabled=False, is_translator=False, is_translation_enabled=False, profile_background_color='000000', profile_background_image_url='http://abs.twimg.com/images/themes/theme1/bg.png', profile_background_image_url_https='https://abs.twimg.com/images/themes/theme1/bg.png', profile_background_tile=False, profile_image_url='http://pbs.twimg.com/profile_images/1020448812459061248/juZN4AhA_normal.jpg', profile_image_url_https='https://pbs.twimg.com/profile_images/1020448812459061248/juZN4AhA_normal.jpg', profile_banner_url='https://pbs.twimg.com/profile_banners/846014785246367745/1497302270', profile_link_color='1B95E0', profile_sidebar_border_color='000000', profile_sidebar_fill_color='000000', profile_text_color='000000', profile_use_background_image=False, has_extended_profile=True, default_profile=False, default_profile_image=False, following=False, follow_request_sent=False, notifications=False, translator_type='none'), user=User(_api=<tweepy.api.API object at 0x000002DF37904F70>, _json={'id': 846014785246367745, 'id_str': '846014785246367745', 'name': 'Michael Fisher', 'screen_name': 'Fisher85M', 'location': 'Vernon, CT', 'description': 'Analyst, Tech Evangelist, #CyberSecurity, #DigitalTransformation, #IoT, #Fintech, #DataScience, #5G & #VR Influencer: @DZoneInc & @Onalytica. 100% Geek.', 'url': 'https://t.co/QAzg8qeYz5', 'entities': {'url': {'urls': [{'url': 'https://t.co/QAzg8qeYz5', 'expanded_url': 'https://www.linkedin.com/in/fisher85m/', 'display_url': 'linkedin.com/in/fisher85m/', 'indices': [0, 23]}]}, 'description': {'urls': []}}, 'protected': False, 'followers_count': 86878, 'friends_count': 11669, 'listed_count': 1528, 'created_at': 'Sun Mar 26 15:03:37 +0000 2017', 'favourites_count': 53694, 'utc_offset': None, 'time_zone': None, 'geo_enabled': True, 'verified': False, 'statuses_count': 31711, 'lang': None, 'contributors_enabled': False, 'is_translator': False, 'is_translation_enabled': False, 'profile_background_color': '000000', 'profile_background_image_url': 'http://abs.twimg.com/images/themes/theme1/bg.png', 'profile_background_image_url_https': 'https://abs.twimg.com/images/themes/theme1/bg.png', 'profile_background_tile': False, 'profile_image_url': 'http://pbs.twimg.com/profile_images/1020448812459061248/juZN4AhA_normal.jpg', 'profile_image_url_https': 'https://pbs.twimg.com/profile_images/1020448812459061248/juZN4AhA_normal.jpg', 'profile_banner_url': 'https://pbs.twimg.com/profile_banners/846014785246367745/1497302270', 'profile_link_color': '1B95E0', 'profile_sidebar_border_color': '000000', 'profile_sidebar_fill_color': '000000', 'profile_text_color': '000000', 'profile_use_background_image': False, 'has_extended_profile': True, 'default_profile': False, 'default_profile_image': False, 'following': False, 'follow_request_sent': False, 'notifications': False, 'translator_type': 'none'}, id=846014785246367745, id_str='846014785246367745', name='Michael Fisher', screen_name='Fisher85M', location='Vernon, CT', description='Analyst, Tech Evangelist, #CyberSecurity, #DigitalTransformation, #IoT, #Fintech, #DataScience, #5G & #VR Influencer: @DZoneInc & @Onalytica. 100% Geek.', url='https://t.co/QAzg8qeYz5', entities={'url': {'urls': [{'url': 'https://t.co/QAzg8qeYz5', 'expanded_url': 'https://www.linkedin.com/in/fisher85m/', 'display_url': 'linkedin.com/in/fisher85m/', 'indices': [0, 23]}]}, 'description': {'urls': []}}, protected=False, followers_count=86878, friends_count=11669, listed_count=1528, created_at=datetime.datetime(2017, 3, 26, 15, 3, 37), favourites_count=53694, utc_offset=None, time_zone=None, geo_enabled=True, verified=False, statuses_count=31711, lang=None, contributors_enabled=False, is_translator=False, is_translation_enabled=False, profile_background_color='000000', profile_background_image_url='http://abs.twimg.com/images/themes/theme1/bg.png', profile_background_image_url_https='https://abs.twimg.com/images/themes/theme1/bg.png', profile_background_tile=False, profile_image_url='http://pbs.twimg.com/profile_images/1020448812459061248/juZN4AhA_normal.jpg', profile_image_url_https='https://pbs.twimg.com/profile_images/1020448812459061248/juZN4AhA_normal.jpg', profile_banner_url='https://pbs.twimg.com/profile_banners/846014785246367745/1497302270', profile_link_color='1B95E0', profile_sidebar_border_color='000000', profile_sidebar_fill_color='000000', profile_text_color='000000', profile_use_background_image=False, has_extended_profile=True, default_profile=False, default_profile_image=False, following=False, follow_request_sent=False, notifications=False, translator_type='none'), geo=None, coordinates=None, place=None, contributors=None, is_quote_status=False, retweet_count=47, favorite_count=25, favorited=False, retweeted=False, possibly_sensitive=False, lang='en'), is_quote_status=False, retweet_count=47, favorite_count=0, favorited=False, retweeted=False, lang='en'),\n Status(_api=<tweepy.api.API object at 0x000002DF37904F70>, _json={'created_at': 'Sat Apr 25 03:17:10 +0000 2020', 'id': 1253885736882966528, 'id_str': '1253885736882966528', 'text': 'RT @SafetyPhD: RECORDED TONITE - Out Now!\\n\\n#Livestream #131 Safety Doc Podcast\\n\\nThe Dunning-Kruger Effect | What it is and how to fight it…', 'truncated': False, 'entities': {'hashtags': [{'text': 'Livestream', 'indices': [43, 54]}], 'symbols': [], 'user_mentions': [{'screen_name': 'SafetyPhD', 'name': 'David P. Perrodin, PhD - Researcher / Policy Wonk', 'id': 171737081, 'id_str': '171737081', 'indices': [3, 13]}], 'urls': []}, 'metadata': {'iso_language_code': 'en', 'result_type': 'recent'}, 'source': '<a href=\"http://newscommentarypodcast.com\" rel=\"nofollow\">News Commentary Podcast</a>', 'in_reply_to_status_id': None, 'in_reply_to_status_id_str': None, 'in_reply_to_user_id': None, 'in_reply_to_user_id_str': None, 'in_reply_to_screen_name': None, 'user': {'id': 1225988874620612610, 'id_str': '1225988874620612610', 'name': 'The News Commentary Podcast - The Malliard Report', 'screen_name': 'newscommentary1', 'location': '', 'description': 'Headlines from \\nABC\\nAljazeera\\nBBC\\nCBS\\nCNN\\nFox News\\nNBC\\nPOLITICO\\nRT\\nThe Daily Beast\\nWordTruth\\n\\n#Malliard https://t.co/vYsR65GVaN', 'url': 'https://t.co/3XeOFAtoOk', 'entities': {'url': {'urls': [{'url': 'https://t.co/3XeOFAtoOk', 'expanded_url': 'http://www.newscommentarypodcast.com', 'display_url': 'newscommentarypodcast.com', 'indices': [0, 23]}]}, 'description': {'urls': [{'url': 'https://t.co/vYsR65GVaN', 'expanded_url': 'http://newscommentarypodcast.com', 'display_url': 'newscommentarypodcast.com', 'indices': [104, 127]}]}}, 'protected': False, 'followers_count': 133, 'friends_count': 6, 'listed_count': 3, 'created_at': 'Sat Feb 08 03:45:06 +0000 2020', 'favourites_count': 57, 'utc_offset': None, 'time_zone': None, 'geo_enabled': False, 'verified': False, 'statuses_count': 23554, 'lang': None, 'contributors_enabled': False, 'is_translator': False, 'is_translation_enabled': False, 'profile_background_color': 'F5F8FA', 'profile_background_image_url': None, 'profile_background_image_url_https': None, 'profile_background_tile': False, 'profile_image_url': 'http://pbs.twimg.com/profile_images/1235352790190493696/DdMlx7tM_normal.jpg', 'profile_image_url_https': 'https://pbs.twimg.com/profile_images/1235352790190493696/DdMlx7tM_normal.jpg', 'profile_banner_url': 'https://pbs.twimg.com/profile_banners/1225988874620612610/1583366032', 'profile_link_color': '1DA1F2', 'profile_sidebar_border_color': 'C0DEED', 'profile_sidebar_fill_color': 'DDEEF6', 'profile_text_color': '333333', 'profile_use_background_image': True, 'has_extended_profile': True, 'default_profile': True, 'default_profile_image': False, 'following': False, 'follow_request_sent': False, 'notifications': False, 'translator_type': 'none'}, 'geo': None, 'coordinates': None, 'place': None, 'contributors': None, 'retweeted_status': {'created_at': 'Sat Apr 25 03:13:32 +0000 2020', 'id': 1253884823011233793, 'id_str': '1253884823011233793', 'text': 'RECORDED TONITE - Out Now!\\n\\n#Livestream #131 Safety Doc Podcast\\n\\nThe Dunning-Kruger Effect | What it is and how to… https://t.co/KWeCryKCoh', 'truncated': True, 'entities': {'hashtags': [{'text': 'Livestream', 'indices': [28, 39]}], 'symbols': [], 'user_mentions': [], 'urls': [{'url': 'https://t.co/KWeCryKCoh', 'expanded_url': 'https://twitter.com/i/web/status/1253884823011233793', 'display_url': 'twitter.com/i/web/status/1…', 'indices': [116, 139]}]}, 'metadata': {'iso_language_code': 'en', 'result_type': 'recent'}, 'source': '<a href=\"https://mobile.twitter.com\" rel=\"nofollow\">Twitter Web App</a>', 'in_reply_to_status_id': None, 'in_reply_to_status_id_str': None, 'in_reply_to_user_id': None, 'in_reply_to_user_id_str': None, 'in_reply_to_screen_name': None, 'user': {'id': 171737081, 'id_str': '171737081', 'name': 'David P. Perrodin, PhD - Researcher / Policy Wonk', 'screen_name': 'SafetyPhD', 'location': 'Madison, WI  #PodernFamily', 'description': 'Safety initiative of taking action before a disaster strikes. Author, Safety Doc Podcast host, professor, researcher, expert witness & bicyclist. 2X on PBS TV!', 'url': 'https://t.co/pyl3YREEgz', 'entities': {'url': {'urls': [{'url': 'https://t.co/pyl3YREEgz', 'expanded_url': 'http://www.safetyphd.com', 'display_url': 'safetyphd.com', 'indices': [0, 23]}]}, 'description': {'urls': []}}, 'protected': False, 'followers_count': 2512, 'friends_count': 1988, 'listed_count': 84, 'created_at': 'Wed Jul 28 01:45:51 +0000 2010', 'favourites_count': 12755, 'utc_offset': None, 'time_zone': None, 'geo_enabled': False, 'verified': False, 'statuses_count': 15549, 'lang': None, 'contributors_enabled': False, 'is_translator': False, 'is_translation_enabled': False, 'profile_background_color': '642D8B', 'profile_background_image_url': 'http://abs.twimg.com/images/themes/theme10/bg.gif', 'profile_background_image_url_https': 'https://abs.twimg.com/images/themes/theme10/bg.gif', 'profile_background_tile': True, 'profile_image_url': 'http://pbs.twimg.com/profile_images/1141374525617135617/e1AR4st0_normal.jpg', 'profile_image_url_https': 'https://pbs.twimg.com/profile_images/1141374525617135617/e1AR4st0_normal.jpg', 'profile_banner_url': 'https://pbs.twimg.com/profile_banners/171737081/1562367035', 'profile_link_color': 'FF0000', 'profile_sidebar_border_color': '65B0DA', 'profile_sidebar_fill_color': '7AC3EE', 'profile_text_color': '3D1957', 'profile_use_background_image': True, 'has_extended_profile': True, 'default_profile': False, 'default_profile_image': False, 'following': False, 'follow_request_sent': False, 'notifications': False, 'translator_type': 'none'}, 'geo': None, 'coordinates': None, 'place': None, 'contributors': None, 'is_quote_status': False, 'retweet_count': 3, 'favorite_count': 0, 'favorited': False, 'retweeted': False, 'possibly_sensitive': False, 'lang': 'en'}, 'is_quote_status': False, 'retweet_count': 3, 'favorite_count': 0, 'favorited': False, 'retweeted': False, 'lang': 'en'}, created_at=datetime.datetime(2020, 4, 25, 3, 17, 10), id=1253885736882966528, id_str='1253885736882966528', text='RT @SafetyPhD: RECORDED TONITE - Out Now!\\n\\n#Livestream #131 Safety Doc Podcast\\n\\nThe Dunning-Kruger Effect | What it is and how to fight it…', truncated=False, entities={'hashtags': [{'text': 'Livestream', 'indices': [43, 54]}], 'symbols': [], 'user_mentions': [{'screen_name': 'SafetyPhD', 'name': 'David P. Perrodin, PhD - Researcher / Policy Wonk', 'id': 171737081, 'id_str': '171737081', 'indices': [3, 13]}], 'urls': []}, metadata={'iso_language_code': 'en', 'result_type': 'recent'}, source='News Commentary Podcast', source_url='http://newscommentarypodcast.com', in_reply_to_status_id=None, in_reply_to_status_id_str=None, in_reply_to_user_id=None, in_reply_to_user_id_str=None, in_reply_to_screen_name=None, author=User(_api=<tweepy.api.API object at 0x000002DF37904F70>, _json={'id': 1225988874620612610, 'id_str': '1225988874620612610', 'name': 'The News Commentary Podcast - The Malliard Report', 'screen_name': 'newscommentary1', 'location': '', 'description': 'Headlines from \\nABC\\nAljazeera\\nBBC\\nCBS\\nCNN\\nFox News\\nNBC\\nPOLITICO\\nRT\\nThe Daily Beast\\nWordTruth\\n\\n#Malliard https://t.co/vYsR65GVaN', 'url': 'https://t.co/3XeOFAtoOk', 'entities': {'url': {'urls': [{'url': 'https://t.co/3XeOFAtoOk', 'expanded_url': 'http://www.newscommentarypodcast.com', 'display_url': 'newscommentarypodcast.com', 'indices': [0, 23]}]}, 'description': {'urls': [{'url': 'https://t.co/vYsR65GVaN', 'expanded_url': 'http://newscommentarypodcast.com', 'display_url': 'newscommentarypodcast.com', 'indices': [104, 127]}]}}, 'protected': False, 'followers_count': 133, 'friends_count': 6, 'listed_count': 3, 'created_at': 'Sat Feb 08 03:45:06 +0000 2020', 'favourites_count': 57, 'utc_offset': None, 'time_zone': None, 'geo_enabled': False, 'verified': False, 'statuses_count': 23554, 'lang': None, 'contributors_enabled': False, 'is_translator': False, 'is_translation_enabled': False, 'profile_background_color': 'F5F8FA', 'profile_background_image_url': None, 'profile_background_image_url_https': None, 'profile_background_tile': False, 'profile_image_url': 'http://pbs.twimg.com/profile_images/1235352790190493696/DdMlx7tM_normal.jpg', 'profile_image_url_https': 'https://pbs.twimg.com/profile_images/1235352790190493696/DdMlx7tM_normal.jpg', 'profile_banner_url': 'https://pbs.twimg.com/profile_banners/1225988874620612610/1583366032', 'profile_link_color': '1DA1F2', 'profile_sidebar_border_color': 'C0DEED', 'profile_sidebar_fill_color': 'DDEEF6', 'profile_text_color': '333333', 'profile_use_background_image': True, 'has_extended_profile': True, 'default_profile': True, 'default_profile_image': False, 'following': False, 'follow_request_sent': False, 'notifications': False, 'translator_type': 'none'}, id=1225988874620612610, id_str='1225988874620612610', name='The News Commentary Podcast - The Malliard Report', screen_name='newscommentary1', location='', description='Headlines from \\nABC\\nAljazeera\\nBBC\\nCBS\\nCNN\\nFox News\\nNBC\\nPOLITICO\\nRT\\nThe Daily Beast\\nWordTruth\\n\\n#Malliard https://t.co/vYsR65GVaN', url='https://t.co/3XeOFAtoOk', entities={'url': {'urls': [{'url': 'https://t.co/3XeOFAtoOk', 'expanded_url': 'http://www.newscommentarypodcast.com', 'display_url': 'newscommentarypodcast.com', 'indices': [0, 23]}]}, 'description': {'urls': [{'url': 'https://t.co/vYsR65GVaN', 'expanded_url': 'http://newscommentarypodcast.com', 'display_url': 'newscommentarypodcast.com', 'indices': [104, 127]}]}}, protected=False, followers_count=133, friends_count=6, listed_count=3, created_at=datetime.datetime(2020, 2, 8, 3, 45, 6), favourites_count=57, utc_offset=None, time_zone=None, geo_enabled=False, verified=False, statuses_count=23554, lang=None, contributors_enabled=False, is_translator=False, is_translation_enabled=False, profile_background_color='F5F8FA', profile_background_image_url=None, profile_background_image_url_https=None, profile_background_tile=False, profile_image_url='http://pbs.twimg.com/profile_images/1235352790190493696/DdMlx7tM_normal.jpg', profile_image_url_https='https://pbs.twimg.com/profile_images/1235352790190493696/DdMlx7tM_normal.jpg', profile_banner_url='https://pbs.twimg.com/profile_banners/1225988874620612610/1583366032', profile_link_color='1DA1F2', profile_sidebar_border_color='C0DEED', profile_sidebar_fill_color='DDEEF6', profile_text_color='333333', profile_use_background_image=True, has_extended_profile=True, default_profile=True, default_profile_image=False, following=False, follow_request_sent=False, notifications=False, translator_type='none'), user=User(_api=<tweepy.api.API object at 0x000002DF37904F70>, _json={'id': 1225988874620612610, 'id_str': '1225988874620612610', 'name': 'The News Commentary Podcast - The Malliard Report', 'screen_name': 'newscommentary1', 'location': '', 'description': 'Headlines from \\nABC\\nAljazeera\\nBBC\\nCBS\\nCNN\\nFox News\\nNBC\\nPOLITICO\\nRT\\nThe Daily Beast\\nWordTruth\\n\\n#Malliard https://t.co/vYsR65GVaN', 'url': 'https://t.co/3XeOFAtoOk', 'entities': {'url': {'urls': [{'url': 'https://t.co/3XeOFAtoOk', 'expanded_url': 'http://www.newscommentarypodcast.com', 'display_url': 'newscommentarypodcast.com', 'indices': [0, 23]}]}, 'description': {'urls': [{'url': 'https://t.co/vYsR65GVaN', 'expanded_url': 'http://newscommentarypodcast.com', 'display_url': 'newscommentarypodcast.com', 'indices': [104, 127]}]}}, 'protected': False, 'followers_count': 133, 'friends_count': 6, 'listed_count': 3, 'created_at': 'Sat Feb 08 03:45:06 +0000 2020', 'favourites_count': 57, 'utc_offset': None, 'time_zone': None, 'geo_enabled': False, 'verified': False, 'statuses_count': 23554, 'lang': None, 'contributors_enabled': False, 'is_translator': False, 'is_translation_enabled': False, 'profile_background_color': 'F5F8FA', 'profile_background_image_url': None, 'profile_background_image_url_https': None, 'profile_background_tile': False, 'profile_image_url': 'http://pbs.twimg.com/profile_images/1235352790190493696/DdMlx7tM_normal.jpg', 'profile_image_url_https': 'https://pbs.twimg.com/profile_images/1235352790190493696/DdMlx7tM_normal.jpg', 'profile_banner_url': 'https://pbs.twimg.com/profile_banners/1225988874620612610/1583366032', 'profile_link_color': '1DA1F2', 'profile_sidebar_border_color': 'C0DEED', 'profile_sidebar_fill_color': 'DDEEF6', 'profile_text_color': '333333', 'profile_use_background_image': True, 'has_extended_profile': True, 'default_profile': True, 'default_profile_image': False, 'following': False, 'follow_request_sent': False, 'notifications': False, 'translator_type': 'none'}, id=1225988874620612610, id_str='1225988874620612610', name='The News Commentary Podcast - The Malliard Report', screen_name='newscommentary1', location='', description='Headlines from \\nABC\\nAljazeera\\nBBC\\nCBS\\nCNN\\nFox News\\nNBC\\nPOLITICO\\nRT\\nThe Daily Beast\\nWordTruth\\n\\n#Malliard https://t.co/vYsR65GVaN', url='https://t.co/3XeOFAtoOk', entities={'url': {'urls': [{'url': 'https://t.co/3XeOFAtoOk', 'expanded_url': 'http://www.newscommentarypodcast.com', 'display_url': 'newscommentarypodcast.com', 'indices': [0, 23]}]}, 'description': {'urls': [{'url': 'https://t.co/vYsR65GVaN', 'expanded_url': 'http://newscommentarypodcast.com', 'display_url': 'newscommentarypodcast.com', 'indices': [104, 127]}]}}, protected=False, followers_count=133, friends_count=6, listed_count=3, created_at=datetime.datetime(2020, 2, 8, 3, 45, 6), favourites_count=57, utc_offset=None, time_zone=None, geo_enabled=False, verified=False, statuses_count=23554, lang=None, contributors_enabled=False, is_translator=False, is_translation_enabled=False, profile_background_color='F5F8FA', profile_background_image_url=None, profile_background_image_url_https=None, profile_background_tile=False, profile_image_url='http://pbs.twimg.com/profile_images/1235352790190493696/DdMlx7tM_normal.jpg', profile_image_url_https='https://pbs.twimg.com/profile_images/1235352790190493696/DdMlx7tM_normal.jpg', profile_banner_url='https://pbs.twimg.com/profile_banners/1225988874620612610/1583366032', profile_link_color='1DA1F2', profile_sidebar_border_color='C0DEED', profile_sidebar_fill_color='DDEEF6', profile_text_color='333333', profile_use_background_image=True, has_extended_profile=True, default_profile=True, default_profile_image=False, following=False, follow_request_sent=False, notifications=False, translator_type='none'), geo=None, coordinates=None, place=None, contributors=None, retweeted_status=Status(_api=<tweepy.api.API object at 0x000002DF37904F70>, _json={'created_at': 'Sat Apr 25 03:13:32 +0000 2020', 'id': 1253884823011233793, 'id_str': '1253884823011233793', 'text': 'RECORDED TONITE - Out Now!\\n\\n#Livestream #131 Safety Doc Podcast\\n\\nThe Dunning-Kruger Effect | What it is and how to… https://t.co/KWeCryKCoh', 'truncated': True, 'entities': {'hashtags': [{'text': 'Livestream', 'indices': [28, 39]}], 'symbols': [], 'user_mentions': [], 'urls': [{'url': 'https://t.co/KWeCryKCoh', 'expanded_url': 'https://twitter.com/i/web/status/1253884823011233793', 'display_url': 'twitter.com/i/web/status/1…', 'indices': [116, 139]}]}, 'metadata': {'iso_language_code': 'en', 'result_type': 'recent'}, 'source': '<a href=\"https://mobile.twitter.com\" rel=\"nofollow\">Twitter Web App</a>', 'in_reply_to_status_id': None, 'in_reply_to_status_id_str': None, 'in_reply_to_user_id': None, 'in_reply_to_user_id_str': None, 'in_reply_to_screen_name': None, 'user': {'id': 171737081, 'id_str': '171737081', 'name': 'David P. Perrodin, PhD - Researcher / Policy Wonk', 'screen_name': 'SafetyPhD', 'location': 'Madison, WI  #PodernFamily', 'description': 'Safety initiative of taking action before a disaster strikes. Author, Safety Doc Podcast host, professor, researcher, expert witness & bicyclist. 2X on PBS TV!', 'url': 'https://t.co/pyl3YREEgz', 'entities': {'url': {'urls': [{'url': 'https://t.co/pyl3YREEgz', 'expanded_url': 'http://www.safetyphd.com', 'display_url': 'safetyphd.com', 'indices': [0, 23]}]}, 'description': {'urls': []}}, 'protected': False, 'followers_count': 2512, 'friends_count': 1988, 'listed_count': 84, 'created_at': 'Wed Jul 28 01:45:51 +0000 2010', 'favourites_count': 12755, 'utc_offset': None, 'time_zone': None, 'geo_enabled': False, 'verified': False, 'statuses_count': 15549, 'lang': None, 'contributors_enabled': False, 'is_translator': False, 'is_translation_enabled': False, 'profile_background_color': '642D8B', 'profile_background_image_url': 'http://abs.twimg.com/images/themes/theme10/bg.gif', 'profile_background_image_url_https': 'https://abs.twimg.com/images/themes/theme10/bg.gif', 'profile_background_tile': True, 'profile_image_url': 'http://pbs.twimg.com/profile_images/1141374525617135617/e1AR4st0_normal.jpg', 'profile_image_url_https': 'https://pbs.twimg.com/profile_images/1141374525617135617/e1AR4st0_normal.jpg', 'profile_banner_url': 'https://pbs.twimg.com/profile_banners/171737081/1562367035', 'profile_link_color': 'FF0000', 'profile_sidebar_border_color': '65B0DA', 'profile_sidebar_fill_color': '7AC3EE', 'profile_text_color': '3D1957', 'profile_use_background_image': True, 'has_extended_profile': True, 'default_profile': False, 'default_profile_image': False, 'following': False, 'follow_request_sent': False, 'notifications': False, 'translator_type': 'none'}, 'geo': None, 'coordinates': None, 'place': None, 'contributors': None, 'is_quote_status': False, 'retweet_count': 3, 'favorite_count': 0, 'favorited': False, 'retweeted': False, 'possibly_sensitive': False, 'lang': 'en'}, created_at=datetime.datetime(2020, 4, 25, 3, 13, 32), id=1253884823011233793, id_str='1253884823011233793', text='RECORDED TONITE - Out Now!\\n\\n#Livestream #131 Safety Doc Podcast\\n\\nThe Dunning-Kruger Effect | What it is and how to… https://t.co/KWeCryKCoh', truncated=True, entities={'hashtags': [{'text': 'Livestream', 'indices': [28, 39]}], 'symbols': [], 'user_mentions': [], 'urls': [{'url': 'https://t.co/KWeCryKCoh', 'expanded_url': 'https://twitter.com/i/web/status/1253884823011233793', 'display_url': 'twitter.com/i/web/status/1…', 'indices': [116, 139]}]}, metadata={'iso_language_code': 'en', 'result_type': 'recent'}, source='Twitter Web App', source_url='https://mobile.twitter.com', in_reply_to_status_id=None, in_reply_to_status_id_str=None, in_reply_to_user_id=None, in_reply_to_user_id_str=None, in_reply_to_screen_name=None, author=User(_api=<tweepy.api.API object at 0x000002DF37904F70>, _json={'id': 171737081, 'id_str': '171737081', 'name': 'David P. Perrodin, PhD - Researcher / Policy Wonk', 'screen_name': 'SafetyPhD', 'location': 'Madison, WI  #PodernFamily', 'description': 'Safety initiative of taking action before a disaster strikes. Author, Safety Doc Podcast host, professor, researcher, expert witness & bicyclist. 2X on PBS TV!', 'url': 'https://t.co/pyl3YREEgz', 'entities': {'url': {'urls': [{'url': 'https://t.co/pyl3YREEgz', 'expanded_url': 'http://www.safetyphd.com', 'display_url': 'safetyphd.com', 'indices': [0, 23]}]}, 'description': {'urls': []}}, 'protected': False, 'followers_count': 2512, 'friends_count': 1988, 'listed_count': 84, 'created_at': 'Wed Jul 28 01:45:51 +0000 2010', 'favourites_count': 12755, 'utc_offset': None, 'time_zone': None, 'geo_enabled': False, 'verified': False, 'statuses_count': 15549, 'lang': None, 'contributors_enabled': False, 'is_translator': False, 'is_translation_enabled': False, 'profile_background_color': '642D8B', 'profile_background_image_url': 'http://abs.twimg.com/images/themes/theme10/bg.gif', 'profile_background_image_url_https': 'https://abs.twimg.com/images/themes/theme10/bg.gif', 'profile_background_tile': True, 'profile_image_url': 'http://pbs.twimg.com/profile_images/1141374525617135617/e1AR4st0_normal.jpg', 'profile_image_url_https': 'https://pbs.twimg.com/profile_images/1141374525617135617/e1AR4st0_normal.jpg', 'profile_banner_url': 'https://pbs.twimg.com/profile_banners/171737081/1562367035', 'profile_link_color': 'FF0000', 'profile_sidebar_border_color': '65B0DA', 'profile_sidebar_fill_color': '7AC3EE', 'profile_text_color': '3D1957', 'profile_use_background_image': True, 'has_extended_profile': True, 'default_profile': False, 'default_profile_image': False, 'following': False, 'follow_request_sent': False, 'notifications': False, 'translator_type': 'none'}, id=171737081, id_str='171737081', name='David P. Perrodin, PhD - Researcher / Policy Wonk', screen_name='SafetyPhD', location='Madison, WI  #PodernFamily', description='Safety initiative of taking action before a disaster strikes. Author, Safety Doc Podcast host, professor, researcher, expert witness & bicyclist. 2X on PBS TV!', url='https://t.co/pyl3YREEgz', entities={'url': {'urls': [{'url': 'https://t.co/pyl3YREEgz', 'expanded_url': 'http://www.safetyphd.com', 'display_url': 'safetyphd.com', 'indices': [0, 23]}]}, 'description': {'urls': []}}, protected=False, followers_count=2512, friends_count=1988, listed_count=84, created_at=datetime.datetime(2010, 7, 28, 1, 45, 51), favourites_count=12755, utc_offset=None, time_zone=None, geo_enabled=False, verified=False, statuses_count=15549, lang=None, contributors_enabled=False, is_translator=False, is_translation_enabled=False, profile_background_color='642D8B', profile_background_image_url='http://abs.twimg.com/images/themes/theme10/bg.gif', profile_background_image_url_https='https://abs.twimg.com/images/themes/theme10/bg.gif', profile_background_tile=True, profile_image_url='http://pbs.twimg.com/profile_images/1141374525617135617/e1AR4st0_normal.jpg', profile_image_url_https='https://pbs.twimg.com/profile_images/1141374525617135617/e1AR4st0_normal.jpg', profile_banner_url='https://pbs.twimg.com/profile_banners/171737081/1562367035', profile_link_color='FF0000', profile_sidebar_border_color='65B0DA', profile_sidebar_fill_color='7AC3EE', profile_text_color='3D1957', profile_use_background_image=True, has_extended_profile=True, default_profile=False, default_profile_image=False, following=False, follow_request_sent=False, notifications=False, translator_type='none'), user=User(_api=<tweepy.api.API object at 0x000002DF37904F70>, _json={'id': 171737081, 'id_str': '171737081', 'name': 'David P. Perrodin, PhD - Researcher / Policy Wonk', 'screen_name': 'SafetyPhD', 'location': 'Madison, WI  #PodernFamily', 'description': 'Safety initiative of taking action before a disaster strikes. Author, Safety Doc Podcast host, professor, researcher, expert witness & bicyclist. 2X on PBS TV!', 'url': 'https://t.co/pyl3YREEgz', 'entities': {'url': {'urls': [{'url': 'https://t.co/pyl3YREEgz', 'expanded_url': 'http://www.safetyphd.com', 'display_url': 'safetyphd.com', 'indices': [0, 23]}]}, 'description': {'urls': []}}, 'protected': False, 'followers_count': 2512, 'friends_count': 1988, 'listed_count': 84, 'created_at': 'Wed Jul 28 01:45:51 +0000 2010', 'favourites_count': 12755, 'utc_offset': None, 'time_zone': None, 'geo_enabled': False, 'verified': False, 'statuses_count': 15549, 'lang': None, 'contributors_enabled': False, 'is_translator': False, 'is_translation_enabled': False, 'profile_background_color': '642D8B', 'profile_background_image_url': 'http://abs.twimg.com/images/themes/theme10/bg.gif', 'profile_background_image_url_https': 'https://abs.twimg.com/images/themes/theme10/bg.gif', 'profile_background_tile': True, 'profile_image_url': 'http://pbs.twimg.com/profile_images/1141374525617135617/e1AR4st0_normal.jpg', 'profile_image_url_https': 'https://pbs.twimg.com/profile_images/1141374525617135617/e1AR4st0_normal.jpg', 'profile_banner_url': 'https://pbs.twimg.com/profile_banners/171737081/1562367035', 'profile_link_color': 'FF0000', 'profile_sidebar_border_color': '65B0DA', 'profile_sidebar_fill_color': '7AC3EE', 'profile_text_color': '3D1957', 'profile_use_background_image': True, 'has_extended_profile': True, 'default_profile': False, 'default_profile_image': False, 'following': False, 'follow_request_sent': False, 'notifications': False, 'translator_type': 'none'}, id=171737081, id_str='171737081', name='David P. Perrodin, PhD - Researcher / Policy Wonk', screen_name='SafetyPhD', location='Madison, WI  #PodernFamily', description='Safety initiative of taking action before a disaster strikes. Author, Safety Doc Podcast host, professor, researcher, expert witness & bicyclist. 2X on PBS TV!', url='https://t.co/pyl3YREEgz', entities={'url': {'urls': [{'url': 'https://t.co/pyl3YREEgz', 'expanded_url': 'http://www.safetyphd.com', 'display_url': 'safetyphd.com', 'indices': [0, 23]}]}, 'description': {'urls': []}}, protected=False, followers_count=2512, friends_count=1988, listed_count=84, created_at=datetime.datetime(2010, 7, 28, 1, 45, 51), favourites_count=12755, utc_offset=None, time_zone=None, geo_enabled=False, verified=False, statuses_count=15549, lang=None, contributors_enabled=False, is_translator=False, is_translation_enabled=False, profile_background_color='642D8B', profile_background_image_url='http://abs.twimg.com/images/themes/theme10/bg.gif', profile_background_image_url_https='https://abs.twimg.com/images/themes/theme10/bg.gif', profile_background_tile=True, profile_image_url='http://pbs.twimg.com/profile_images/1141374525617135617/e1AR4st0_normal.jpg', profile_image_url_https='https://pbs.twimg.com/profile_images/1141374525617135617/e1AR4st0_normal.jpg', profile_banner_url='https://pbs.twimg.com/profile_banners/171737081/1562367035', profile_link_color='FF0000', profile_sidebar_border_color='65B0DA', profile_sidebar_fill_color='7AC3EE', profile_text_color='3D1957', profile_use_background_image=True, has_extended_profile=True, default_profile=False, default_profile_image=False, following=False, follow_request_sent=False, notifications=False, translator_type='none'), geo=None, coordinates=None, place=None, contributors=None, is_quote_status=False, retweet_count=3, favorite_count=0, favorited=False, retweeted=False, possibly_sensitive=False, lang='en'), is_quote_status=False, retweet_count=3, favorite_count=0, favorited=False, retweeted=False, lang='en'),\n Status(_api=<tweepy.api.API object at 0x000002DF37904F70>, _json={'created_at': 'Sat Apr 25 03:17:06 +0000 2020', 'id': 1253885720005148673, 'id_str': '1253885720005148673', 'text': 'RT @Fisher85M: What’s your #Security Maturity level? [Infographic]\\n\\n#CyberSecurity #infosec #education @Fisher85M #BigData #Analytics #Mach…', 'truncated': False, 'entities': {'hashtags': [{'text': 'Security', 'indices': [27, 36]}, {'text': 'CyberSecurity', 'indices': [68, 82]}, {'text': 'infosec', 'indices': [83, 91]}, {'text': 'education', 'indices': [92, 102]}, {'text': 'BigData', 'indices': [114, 122]}, {'text': 'Analytics', 'indices': [123, 133]}], 'symbols': [], 'user_mentions': [{'screen_name': 'Fisher85M', 'name': 'Michael Fisher', 'id': 846014785246367745, 'id_str': '846014785246367745', 'indices': [3, 13]}, {'screen_name': 'Fisher85M', 'name': 'Michael Fisher', 'id': 846014785246367745, 'id_str': '846014785246367745', 'indices': [103, 113]}], 'urls': []}, 'metadata': {'iso_language_code': 'en', 'result_type': 'recent'}, 'source': '<a href=\"http://twitter.com/download/iphone\" rel=\"nofollow\">Twitter for iPhone</a>', 'in_reply_to_status_id': None, 'in_reply_to_status_id_str': None, 'in_reply_to_user_id': None, 'in_reply_to_user_id_str': None, 'in_reply_to_screen_name': None, 'user': {'id': 115485048, 'id_str': '115485048', 'name': 'Deepak Pol', 'screen_name': 'deepakpol', 'location': 'Pune, India', 'description': 'Expert in Digital Transformation and Technological Evolution, Created @TukkaCricket App', 'url': 'https://t.co/0wj7LAevYC', 'entities': {'url': {'urls': [{'url': 'https://t.co/0wj7LAevYC', 'expanded_url': 'https://play.google.com/store/apps/details?id=com.tukka.cricket', 'display_url': 'play.google.com/store/apps/det…', 'indices': [0, 23]}]}, 'description': {'urls': []}}, 'protected': False, 'followers_count': 35, 'friends_count': 38, 'listed_count': 12, 'created_at': 'Thu Feb 18 20:17:15 +0000 2010', 'favourites_count': 66, 'utc_offset': None, 'time_zone': None, 'geo_enabled': False, 'verified': False, 'statuses_count': 767, 'lang': None, 'contributors_enabled': False, 'is_translator': False, 'is_translation_enabled': False, 'profile_background_color': '000000', 'profile_background_image_url': 'http://abs.twimg.com/images/themes/theme1/bg.png', 'profile_background_image_url_https': 'https://abs.twimg.com/images/themes/theme1/bg.png', 'profile_background_tile': False, 'profile_image_url': 'http://pbs.twimg.com/profile_images/2647510167/ca73706814ae1a67e3d4af4bc3b8b3e4_normal.png', 'profile_image_url_https': 'https://pbs.twimg.com/profile_images/2647510167/ca73706814ae1a67e3d4af4bc3b8b3e4_normal.png', 'profile_link_color': 'FF5252', 'profile_sidebar_border_color': '000000', 'profile_sidebar_fill_color': '000000', 'profile_text_color': '000000', 'profile_use_background_image': False, 'has_extended_profile': False, 'default_profile': False, 'default_profile_image': False, 'following': False, 'follow_request_sent': False, 'notifications': False, 'translator_type': 'none'}, 'geo': None, 'coordinates': None, 'place': None, 'contributors': None, 'retweeted_status': {'created_at': 'Wed Apr 22 09:45:02 +0000 2020', 'id': 1252896182319419393, 'id_str': '1252896182319419393', 'text': 'What’s your #Security Maturity level? [Infographic]\\n\\n#CyberSecurity #infosec #education @Fisher85M #BigData… https://t.co/WlMVAUDQ3W', 'truncated': True, 'entities': {'hashtags': [{'text': 'Security', 'indices': [12, 21]}, {'text': 'CyberSecurity', 'indices': [53, 67]}, {'text': 'infosec', 'indices': [68, 76]}, {'text': 'education', 'indices': [77, 87]}, {'text': 'BigData', 'indices': [99, 107]}], 'symbols': [], 'user_mentions': [{'screen_name': 'Fisher85M', 'name': 'Michael Fisher', 'id': 846014785246367745, 'id_str': '846014785246367745', 'indices': [88, 98]}], 'urls': [{'url': 'https://t.co/WlMVAUDQ3W', 'expanded_url': 'https://twitter.com/i/web/status/1252896182319419393', 'display_url': 'twitter.com/i/web/status/1…', 'indices': [109, 132]}]}, 'metadata': {'iso_language_code': 'en', 'result_type': 'recent'}, 'source': '<a href=\"https://buffer.com\" rel=\"nofollow\">Buffer</a>', 'in_reply_to_status_id': None, 'in_reply_to_status_id_str': None, 'in_reply_to_user_id': None, 'in_reply_to_user_id_str': None, 'in_reply_to_screen_name': None, 'user': {'id': 846014785246367745, 'id_str': '846014785246367745', 'name': 'Michael Fisher', 'screen_name': 'Fisher85M', 'location': 'Vernon, CT', 'description': 'Analyst, Tech Evangelist, #CyberSecurity, #DigitalTransformation, #IoT, #Fintech, #DataScience, #5G & #VR Influencer: @DZoneInc & @Onalytica. 100% Geek.', 'url': 'https://t.co/QAzg8qeYz5', 'entities': {'url': {'urls': [{'url': 'https://t.co/QAzg8qeYz5', 'expanded_url': 'https://www.linkedin.com/in/fisher85m/', 'display_url': 'linkedin.com/in/fisher85m/', 'indices': [0, 23]}]}, 'description': {'urls': []}}, 'protected': False, 'followers_count': 86878, 'friends_count': 11669, 'listed_count': 1528, 'created_at': 'Sun Mar 26 15:03:37 +0000 2017', 'favourites_count': 53694, 'utc_offset': None, 'time_zone': None, 'geo_enabled': True, 'verified': False, 'statuses_count': 31711, 'lang': None, 'contributors_enabled': False, 'is_translator': False, 'is_translation_enabled': False, 'profile_background_color': '000000', 'profile_background_image_url': 'http://abs.twimg.com/images/themes/theme1/bg.png', 'profile_background_image_url_https': 'https://abs.twimg.com/images/themes/theme1/bg.png', 'profile_background_tile': False, 'profile_image_url': 'http://pbs.twimg.com/profile_images/1020448812459061248/juZN4AhA_normal.jpg', 'profile_image_url_https': 'https://pbs.twimg.com/profile_images/1020448812459061248/juZN4AhA_normal.jpg', 'profile_banner_url': 'https://pbs.twimg.com/profile_banners/846014785246367745/1497302270', 'profile_link_color': '1B95E0', 'profile_sidebar_border_color': '000000', 'profile_sidebar_fill_color': '000000', 'profile_text_color': '000000', 'profile_use_background_image': False, 'has_extended_profile': True, 'default_profile': False, 'default_profile_image': False, 'following': False, 'follow_request_sent': False, 'notifications': False, 'translator_type': 'none'}, 'geo': None, 'coordinates': None, 'place': None, 'contributors': None, 'is_quote_status': False, 'retweet_count': 47, 'favorite_count': 25, 'favorited': False, 'retweeted': False, 'possibly_sensitive': False, 'lang': 'en'}, 'is_quote_status': False, 'retweet_count': 47, 'favorite_count': 0, 'favorited': False, 'retweeted': False, 'lang': 'en'}, created_at=datetime.datetime(2020, 4, 25, 3, 17, 6), id=1253885720005148673, id_str='1253885720005148673', text='RT @Fisher85M: What’s your #Security Maturity level? [Infographic]\\n\\n#CyberSecurity #infosec #education @Fisher85M #BigData #Analytics #Mach…', truncated=False, entities={'hashtags': [{'text': 'Security', 'indices': [27, 36]}, {'text': 'CyberSecurity', 'indices': [68, 82]}, {'text': 'infosec', 'indices': [83, 91]}, {'text': 'education', 'indices': [92, 102]}, {'text': 'BigData', 'indices': [114, 122]}, {'text': 'Analytics', 'indices': [123, 133]}], 'symbols': [], 'user_mentions': [{'screen_name': 'Fisher85M', 'name': 'Michael Fisher', 'id': 846014785246367745, 'id_str': '846014785246367745', 'indices': [3, 13]}, {'screen_name': 'Fisher85M', 'name': 'Michael Fisher', 'id': 846014785246367745, 'id_str': '846014785246367745', 'indices': [103, 113]}], 'urls': []}, metadata={'iso_language_code': 'en', 'result_type': 'recent'}, source='Twitter for iPhone', source_url='http://twitter.com/download/iphone', in_reply_to_status_id=None, in_reply_to_status_id_str=None, in_reply_to_user_id=None, in_reply_to_user_id_str=None, in_reply_to_screen_name=None, author=User(_api=<tweepy.api.API object at 0x000002DF37904F70>, _json={'id': 115485048, 'id_str': '115485048', 'name': 'Deepak Pol', 'screen_name': 'deepakpol', 'location': 'Pune, India', 'description': 'Expert in Digital Transformation and Technological Evolution, Created @TukkaCricket App', 'url': 'https://t.co/0wj7LAevYC', 'entities': {'url': {'urls': [{'url': 'https://t.co/0wj7LAevYC', 'expanded_url': 'https://play.google.com/store/apps/details?id=com.tukka.cricket', 'display_url': 'play.google.com/store/apps/det…', 'indices': [0, 23]}]}, 'description': {'urls': []}}, 'protected': False, 'followers_count': 35, 'friends_count': 38, 'listed_count': 12, 'created_at': 'Thu Feb 18 20:17:15 +0000 2010', 'favourites_count': 66, 'utc_offset': None, 'time_zone': None, 'geo_enabled': False, 'verified': False, 'statuses_count': 767, 'lang': None, 'contributors_enabled': False, 'is_translator': False, 'is_translation_enabled': False, 'profile_background_color': '000000', 'profile_background_image_url': 'http://abs.twimg.com/images/themes/theme1/bg.png', 'profile_background_image_url_https': 'https://abs.twimg.com/images/themes/theme1/bg.png', 'profile_background_tile': False, 'profile_image_url': 'http://pbs.twimg.com/profile_images/2647510167/ca73706814ae1a67e3d4af4bc3b8b3e4_normal.png', 'profile_image_url_https': 'https://pbs.twimg.com/profile_images/2647510167/ca73706814ae1a67e3d4af4bc3b8b3e4_normal.png', 'profile_link_color': 'FF5252', 'profile_sidebar_border_color': '000000', 'profile_sidebar_fill_color': '000000', 'profile_text_color': '000000', 'profile_use_background_image': False, 'has_extended_profile': False, 'default_profile': False, 'default_profile_image': False, 'following': False, 'follow_request_sent': False, 'notifications': False, 'translator_type': 'none'}, id=115485048, id_str='115485048', name='Deepak Pol', screen_name='deepakpol', location='Pune, India', description='Expert in Digital Transformation and Technological Evolution, Created @TukkaCricket App', url='https://t.co/0wj7LAevYC', entities={'url': {'urls': [{'url': 'https://t.co/0wj7LAevYC', 'expanded_url': 'https://play.google.com/store/apps/details?id=com.tukka.cricket', 'display_url': 'play.google.com/store/apps/det…', 'indices': [0, 23]}]}, 'description': {'urls': []}}, protected=False, followers_count=35, friends_count=38, listed_count=12, created_at=datetime.datetime(2010, 2, 18, 20, 17, 15), favourites_count=66, utc_offset=None, time_zone=None, geo_enabled=False, verified=False, statuses_count=767, lang=None, contributors_enabled=False, is_translator=False, is_translation_enabled=False, profile_background_color='000000', profile_background_image_url='http://abs.twimg.com/images/themes/theme1/bg.png', profile_background_image_url_https='https://abs.twimg.com/images/themes/theme1/bg.png', profile_background_tile=False, profile_image_url='http://pbs.twimg.com/profile_images/2647510167/ca73706814ae1a67e3d4af4bc3b8b3e4_normal.png', profile_image_url_https='https://pbs.twimg.com/profile_images/2647510167/ca73706814ae1a67e3d4af4bc3b8b3e4_normal.png', profile_link_color='FF5252', profile_sidebar_border_color='000000', profile_sidebar_fill_color='000000', profile_text_color='000000', profile_use_background_image=False, has_extended_profile=False, default_profile=False, default_profile_image=False, following=False, follow_request_sent=False, notifications=False, translator_type='none'), user=User(_api=<tweepy.api.API object at 0x000002DF37904F70>, _json={'id': 115485048, 'id_str': '115485048', 'name': 'Deepak Pol', 'screen_name': 'deepakpol', 'location': 'Pune, India', 'description': 'Expert in Digital Transformation and Technological Evolution, Created @TukkaCricket App', 'url': 'https://t.co/0wj7LAevYC', 'entities': {'url': {'urls': [{'url': 'https://t.co/0wj7LAevYC', 'expanded_url': 'https://play.google.com/store/apps/details?id=com.tukka.cricket', 'display_url': 'play.google.com/store/apps/det…', 'indices': [0, 23]}]}, 'description': {'urls': []}}, 'protected': False, 'followers_count': 35, 'friends_count': 38, 'listed_count': 12, 'created_at': 'Thu Feb 18 20:17:15 +0000 2010', 'favourites_count': 66, 'utc_offset': None, 'time_zone': None, 'geo_enabled': False, 'verified': False, 'statuses_count': 767, 'lang': None, 'contributors_enabled': False, 'is_translator': False, 'is_translation_enabled': False, 'profile_background_color': '000000', 'profile_background_image_url': 'http://abs.twimg.com/images/themes/theme1/bg.png', 'profile_background_image_url_https': 'https://abs.twimg.com/images/themes/theme1/bg.png', 'profile_background_tile': False, 'profile_image_url': 'http://pbs.twimg.com/profile_images/2647510167/ca73706814ae1a67e3d4af4bc3b8b3e4_normal.png', 'profile_image_url_https': 'https://pbs.twimg.com/profile_images/2647510167/ca73706814ae1a67e3d4af4bc3b8b3e4_normal.png', 'profile_link_color': 'FF5252', 'profile_sidebar_border_color': '000000', 'profile_sidebar_fill_color': '000000', 'profile_text_color': '000000', 'profile_use_background_image': False, 'has_extended_profile': False, 'default_profile': False, 'default_profile_image': False, 'following': False, 'follow_request_sent': False, 'notifications': False, 'translator_type': 'none'}, id=115485048, id_str='115485048', name='Deepak Pol', screen_name='deepakpol', location='Pune, India', description='Expert in Digital Transformation and Technological Evolution, Created @TukkaCricket App', url='https://t.co/0wj7LAevYC', entities={'url': {'urls': [{'url': 'https://t.co/0wj7LAevYC', 'expanded_url': 'https://play.google.com/store/apps/details?id=com.tukka.cricket', 'display_url': 'play.google.com/store/apps/det…', 'indices': [0, 23]}]}, 'description': {'urls': []}}, protected=False, followers_count=35, friends_count=38, listed_count=12, created_at=datetime.datetime(2010, 2, 18, 20, 17, 15), favourites_count=66, utc_offset=None, time_zone=None, geo_enabled=False, verified=False, statuses_count=767, lang=None, contributors_enabled=False, is_translator=False, is_translation_enabled=False, profile_background_color='000000', profile_background_image_url='http://abs.twimg.com/images/themes/theme1/bg.png', profile_background_image_url_https='https://abs.twimg.com/images/themes/theme1/bg.png', profile_background_tile=False, profile_image_url='http://pbs.twimg.com/profile_images/2647510167/ca73706814ae1a67e3d4af4bc3b8b3e4_normal.png', profile_image_url_https='https://pbs.twimg.com/profile_images/2647510167/ca73706814ae1a67e3d4af4bc3b8b3e4_normal.png', profile_link_color='FF5252', profile_sidebar_border_color='000000', profile_sidebar_fill_color='000000', profile_text_color='000000', profile_use_background_image=False, has_extended_profile=False, default_profile=False, default_profile_image=False, following=False, follow_request_sent=False, notifications=False, translator_type='none'), geo=None, coordinates=None, place=None, contributors=None, retweeted_status=Status(_api=<tweepy.api.API object at 0x000002DF37904F70>, _json={'created_at': 'Wed Apr 22 09:45:02 +0000 2020', 'id': 1252896182319419393, 'id_str': '1252896182319419393', 'text': 'What’s your #Security Maturity level? [Infographic]\\n\\n#CyberSecurity #infosec #education @Fisher85M #BigData… https://t.co/WlMVAUDQ3W', 'truncated': True, 'entities': {'hashtags': [{'text': 'Security', 'indices': [12, 21]}, {'text': 'CyberSecurity', 'indices': [53, 67]}, {'text': 'infosec', 'indices': [68, 76]}, {'text': 'education', 'indices': [77, 87]}, {'text': 'BigData', 'indices': [99, 107]}], 'symbols': [], 'user_mentions': [{'screen_name': 'Fisher85M', 'name': 'Michael Fisher', 'id': 846014785246367745, 'id_str': '846014785246367745', 'indices': [88, 98]}], 'urls': [{'url': 'https://t.co/WlMVAUDQ3W', 'expanded_url': 'https://twitter.com/i/web/status/1252896182319419393', 'display_url': 'twitter.com/i/web/status/1…', 'indices': [109, 132]}]}, 'metadata': {'iso_language_code': 'en', 'result_type': 'recent'}, 'source': '<a href=\"https://buffer.com\" rel=\"nofollow\">Buffer</a>', 'in_reply_to_status_id': None, 'in_reply_to_status_id_str': None, 'in_reply_to_user_id': None, 'in_reply_to_user_id_str': None, 'in_reply_to_screen_name': None, 'user': {'id': 846014785246367745, 'id_str': '846014785246367745', 'name': 'Michael Fisher', 'screen_name': 'Fisher85M', 'location': 'Vernon, CT', 'description': 'Analyst, Tech Evangelist, #CyberSecurity, #DigitalTransformation, #IoT, #Fintech, #DataScience, #5G & #VR Influencer: @DZoneInc & @Onalytica. 100% Geek.', 'url': 'https://t.co/QAzg8qeYz5', 'entities': {'url': {'urls': [{'url': 'https://t.co/QAzg8qeYz5', 'expanded_url': 'https://www.linkedin.com/in/fisher85m/', 'display_url': 'linkedin.com/in/fisher85m/', 'indices': [0, 23]}]}, 'description': {'urls': []}}, 'protected': False, 'followers_count': 86878, 'friends_count': 11669, 'listed_count': 1528, 'created_at': 'Sun Mar 26 15:03:37 +0000 2017', 'favourites_count': 53694, 'utc_offset': None, 'time_zone': None, 'geo_enabled': True, 'verified': False, 'statuses_count': 31711, 'lang': None, 'contributors_enabled': False, 'is_translator': False, 'is_translation_enabled': False, 'profile_background_color': '000000', 'profile_background_image_url': 'http://abs.twimg.com/images/themes/theme1/bg.png', 'profile_background_image_url_https': 'https://abs.twimg.com/images/themes/theme1/bg.png', 'profile_background_tile': False, 'profile_image_url': 'http://pbs.twimg.com/profile_images/1020448812459061248/juZN4AhA_normal.jpg', 'profile_image_url_https': 'https://pbs.twimg.com/profile_images/1020448812459061248/juZN4AhA_normal.jpg', 'profile_banner_url': 'https://pbs.twimg.com/profile_banners/846014785246367745/1497302270', 'profile_link_color': '1B95E0', 'profile_sidebar_border_color': '000000', 'profile_sidebar_fill_color': '000000', 'profile_text_color': '000000', 'profile_use_background_image': False, 'has_extended_profile': True, 'default_profile': False, 'default_profile_image': False, 'following': False, 'follow_request_sent': False, 'notifications': False, 'translator_type': 'none'}, 'geo': None, 'coordinates': None, 'place': None, 'contributors': None, 'is_quote_status': False, 'retweet_count': 47, 'favorite_count': 25, 'favorited': False, 'retweeted': False, 'possibly_sensitive': False, 'lang': 'en'}, created_at=datetime.datetime(2020, 4, 22, 9, 45, 2), id=1252896182319419393, id_str='1252896182319419393', text='What’s your #Security Maturity level? [Infographic]\\n\\n#CyberSecurity #infosec #education @Fisher85M #BigData… https://t.co/WlMVAUDQ3W', truncated=True, entities={'hashtags': [{'text': 'Security', 'indices': [12, 21]}, {'text': 'CyberSecurity', 'indices': [53, 67]}, {'text': 'infosec', 'indices': [68, 76]}, {'text': 'education', 'indices': [77, 87]}, {'text': 'BigData', 'indices': [99, 107]}], 'symbols': [], 'user_mentions': [{'screen_name': 'Fisher85M', 'name': 'Michael Fisher', 'id': 846014785246367745, 'id_str': '846014785246367745', 'indices': [88, 98]}], 'urls': [{'url': 'https://t.co/WlMVAUDQ3W', 'expanded_url': 'https://twitter.com/i/web/status/1252896182319419393', 'display_url': 'twitter.com/i/web/status/1…', 'indices': [109, 132]}]}, metadata={'iso_language_code': 'en', 'result_type': 'recent'}, source='Buffer', source_url='https://buffer.com', in_reply_to_status_id=None, in_reply_to_status_id_str=None, in_reply_to_user_id=None, in_reply_to_user_id_str=None, in_reply_to_screen_name=None, author=User(_api=<tweepy.api.API object at 0x000002DF37904F70>, _json={'id': 846014785246367745, 'id_str': '846014785246367745', 'name': 'Michael Fisher', 'screen_name': 'Fisher85M', 'location': 'Vernon, CT', 'description': 'Analyst, Tech Evangelist, #CyberSecurity, #DigitalTransformation, #IoT, #Fintech, #DataScience, #5G & #VR Influencer: @DZoneInc & @Onalytica. 100% Geek.', 'url': 'https://t.co/QAzg8qeYz5', 'entities': {'url': {'urls': [{'url': 'https://t.co/QAzg8qeYz5', 'expanded_url': 'https://www.linkedin.com/in/fisher85m/', 'display_url': 'linkedin.com/in/fisher85m/', 'indices': [0, 23]}]}, 'description': {'urls': []}}, 'protected': False, 'followers_count': 86878, 'friends_count': 11669, 'listed_count': 1528, 'created_at': 'Sun Mar 26 15:03:37 +0000 2017', 'favourites_count': 53694, 'utc_offset': None, 'time_zone': None, 'geo_enabled': True, 'verified': False, 'statuses_count': 31711, 'lang': None, 'contributors_enabled': False, 'is_translator': False, 'is_translation_enabled': False, 'profile_background_color': '000000', 'profile_background_image_url': 'http://abs.twimg.com/images/themes/theme1/bg.png', 'profile_background_image_url_https': 'https://abs.twimg.com/images/themes/theme1/bg.png', 'profile_background_tile': False, 'profile_image_url': 'http://pbs.twimg.com/profile_images/1020448812459061248/juZN4AhA_normal.jpg', 'profile_image_url_https': 'https://pbs.twimg.com/profile_images/1020448812459061248/juZN4AhA_normal.jpg', 'profile_banner_url': 'https://pbs.twimg.com/profile_banners/846014785246367745/1497302270', 'profile_link_color': '1B95E0', 'profile_sidebar_border_color': '000000', 'profile_sidebar_fill_color': '000000', 'profile_text_color': '000000', 'profile_use_background_image': False, 'has_extended_profile': True, 'default_profile': False, 'default_profile_image': False, 'following': False, 'follow_request_sent': False, 'notifications': False, 'translator_type': 'none'}, id=846014785246367745, id_str='846014785246367745', name='Michael Fisher', screen_name='Fisher85M', location='Vernon, CT', description='Analyst, Tech Evangelist, #CyberSecurity, #DigitalTransformation, #IoT, #Fintech, #DataScience, #5G & #VR Influencer: @DZoneInc & @Onalytica. 100% Geek.', url='https://t.co/QAzg8qeYz5', entities={'url': {'urls': [{'url': 'https://t.co/QAzg8qeYz5', 'expanded_url': 'https://www.linkedin.com/in/fisher85m/', 'display_url': 'linkedin.com/in/fisher85m/', 'indices': [0, 23]}]}, 'description': {'urls': []}}, protected=False, followers_count=86878, friends_count=11669, listed_count=1528, created_at=datetime.datetime(2017, 3, 26, 15, 3, 37), favourites_count=53694, utc_offset=None, time_zone=None, geo_enabled=True, verified=False, statuses_count=31711, lang=None, contributors_enabled=False, is_translator=False, is_translation_enabled=False, profile_background_color='000000', profile_background_image_url='http://abs.twimg.com/images/themes/theme1/bg.png', profile_background_image_url_https='https://abs.twimg.com/images/themes/theme1/bg.png', profile_background_tile=False, profile_image_url='http://pbs.twimg.com/profile_images/1020448812459061248/juZN4AhA_normal.jpg', profile_image_url_https='https://pbs.twimg.com/profile_images/1020448812459061248/juZN4AhA_normal.jpg', profile_banner_url='https://pbs.twimg.com/profile_banners/846014785246367745/1497302270', profile_link_color='1B95E0', profile_sidebar_border_color='000000', profile_sidebar_fill_color='000000', profile_text_color='000000', profile_use_background_image=False, has_extended_profile=True, default_profile=False, default_profile_image=False, following=False, follow_request_sent=False, notifications=False, translator_type='none'), user=User(_api=<tweepy.api.API object at 0x000002DF37904F70>, _json={'id': 846014785246367745, 'id_str': '846014785246367745', 'name': 'Michael Fisher', 'screen_name': 'Fisher85M', 'location': 'Vernon, CT', 'description': 'Analyst, Tech Evangelist, #CyberSecurity, #DigitalTransformation, #IoT, #Fintech, #DataScience, #5G & #VR Influencer: @DZoneInc & @Onalytica. 100% Geek.', 'url': 'https://t.co/QAzg8qeYz5', 'entities': {'url': {'urls': [{'url': 'https://t.co/QAzg8qeYz5', 'expanded_url': 'https://www.linkedin.com/in/fisher85m/', 'display_url': 'linkedin.com/in/fisher85m/', 'indices': [0, 23]}]}, 'description': {'urls': []}}, 'protected': False, 'followers_count': 86878, 'friends_count': 11669, 'listed_count': 1528, 'created_at': 'Sun Mar 26 15:03:37 +0000 2017', 'favourites_count': 53694, 'utc_offset': None, 'time_zone': None, 'geo_enabled': True, 'verified': False, 'statuses_count': 31711, 'lang': None, 'contributors_enabled': False, 'is_translator': False, 'is_translation_enabled': False, 'profile_background_color': '000000', 'profile_background_image_url': 'http://abs.twimg.com/images/themes/theme1/bg.png', 'profile_background_image_url_https': 'https://abs.twimg.com/images/themes/theme1/bg.png', 'profile_background_tile': False, 'profile_image_url': 'http://pbs.twimg.com/profile_images/1020448812459061248/juZN4AhA_normal.jpg', 'profile_image_url_https': 'https://pbs.twimg.com/profile_images/1020448812459061248/juZN4AhA_normal.jpg', 'profile_banner_url': 'https://pbs.twimg.com/profile_banners/846014785246367745/1497302270', 'profile_link_color': '1B95E0', 'profile_sidebar_border_color': '000000', 'profile_sidebar_fill_color': '000000', 'profile_text_color': '000000', 'profile_use_background_image': False, 'has_extended_profile': True, 'default_profile': False, 'default_profile_image': False, 'following': False, 'follow_request_sent': False, 'notifications': False, 'translator_type': 'none'}, id=846014785246367745, id_str='846014785246367745', name='Michael Fisher', screen_name='Fisher85M', location='Vernon, CT', description='Analyst, Tech Evangelist, #CyberSecurity, #DigitalTransformation, #IoT, #Fintech, #DataScience, #5G & #VR Influencer: @DZoneInc & @Onalytica. 100% Geek.', url='https://t.co/QAzg8qeYz5', entities={'url': {'urls': [{'url': 'https://t.co/QAzg8qeYz5', 'expanded_url': 'https://www.linkedin.com/in/fisher85m/', 'display_url': 'linkedin.com/in/fisher85m/', 'indices': [0, 23]}]}, 'description': {'urls': []}}, protected=False, followers_count=86878, friends_count=11669, listed_count=1528, created_at=datetime.datetime(2017, 3, 26, 15, 3, 37), favourites_count=53694, utc_offset=None, time_zone=None, geo_enabled=True, verified=False, statuses_count=31711, lang=None, contributors_enabled=False, is_translator=False, is_translation_enabled=False, profile_background_color='000000', profile_background_image_url='http://abs.twimg.com/images/themes/theme1/bg.png', profile_background_image_url_https='https://abs.twimg.com/images/themes/theme1/bg.png', profile_background_tile=False, profile_image_url='http://pbs.twimg.com/profile_images/1020448812459061248/juZN4AhA_normal.jpg', profile_image_url_https='https://pbs.twimg.com/profile_images/1020448812459061248/juZN4AhA_normal.jpg', profile_banner_url='https://pbs.twimg.com/profile_banners/846014785246367745/1497302270', profile_link_color='1B95E0', profile_sidebar_border_color='000000', profile_sidebar_fill_color='000000', profile_text_color='000000', profile_use_background_image=False, has_extended_profile=True, default_profile=False, default_profile_image=False, following=False, follow_request_sent=False, notifications=False, translator_type='none'), geo=None, coordinates=None, place=None, contributors=None, is_quote_status=False, retweet_count=47, favorite_count=25, favorited=False, retweeted=False, possibly_sensitive=False, lang='en'), is_quote_status=False, retweet_count=47, favorite_count=0, favorited=False, retweeted=False, lang='en')]"
     },
     "metadata": {},
     "output_type": "execute_result",
     "execution_count": 7
    }
   ],
   "source": [
    "import tweepy\n",
    "from tweepy import API\n",
    "lookup ='BigData'\n",
    "auth = tweepy.OAuthHandler('hzTTj9HU4Ru77Z7eKGO7IRXJw', 'WAKstXWAnWVvE2DYZciThLm4y9iuPVdoig4nFUMeQkLi5pU9rI')\n",
    "auth.set_access_token('1231001224624738304-vbZOTSOt1a3ZhGFCsdmwkNtCMq8J78', 'TJ33XPyZNbVAaw7TqpNZFSxHUf6VNqvIBIcsbngKrXvrC')\n",
    "\n",
    "api = API(auth)\n",
    "\n",
    "search = []\n",
    "\n",
    "tweets = api.search(lookup,count=10)\n",
    "for tweet in tweets:\n",
    "        search.append(tweet)\n",
    "search\n"
   ],
   "metadata": {
    "collapsed": false,
    "pycharm": {
     "name": "#%%\n",
     "is_executing": false
    }
   }
  },
  {
   "cell_type": "markdown",
   "source": [
    "Now that we have the data in the form of a Python dictionary, we can check its length:\n"
   ],
   "metadata": {
    "collapsed": false,
    "pycharm": {
     "name": "#%% md\n",
     "is_executing": false
    }
   }
  },
  {
   "cell_type": "code",
   "execution_count": 8,
   "outputs": [
    {
     "data": {
      "text/plain": "10"
     },
     "metadata": {},
     "output_type": "execute_result",
     "execution_count": 8
    }
   ],
   "source": [
    "len(search)"
   ],
   "metadata": {
    "collapsed": false,
    "pycharm": {
     "name": "#%%\n",
     "is_executing": false
    }
   }
  },
  {
   "cell_type": "markdown",
   "source": [
    "\n",
    "To view the contents of each dictionary object:\n"
   ],
   "metadata": {
    "collapsed": false
   }
  },
  {
   "cell_type": "code",
   "execution_count": 9,
   "outputs": [
    {
     "data": {
      "text/plain": "['__class__',\n '__delattr__',\n '__dict__',\n '__dir__',\n '__doc__',\n '__eq__',\n '__format__',\n '__ge__',\n '__getattribute__',\n '__getstate__',\n '__gt__',\n '__hash__',\n '__init__',\n '__init_subclass__',\n '__le__',\n '__lt__',\n '__module__',\n '__ne__',\n '__new__',\n '__reduce__',\n '__reduce_ex__',\n '__repr__',\n '__setattr__',\n '__sizeof__',\n '__str__',\n '__subclasshook__',\n '__weakref__',\n '_api',\n '_json',\n 'author',\n 'contributors',\n 'coordinates',\n 'created_at',\n 'destroy',\n 'entities',\n 'favorite',\n 'favorite_count',\n 'favorited',\n 'geo',\n 'id',\n 'id_str',\n 'in_reply_to_screen_name',\n 'in_reply_to_status_id',\n 'in_reply_to_status_id_str',\n 'in_reply_to_user_id',\n 'in_reply_to_user_id_str',\n 'is_quote_status',\n 'lang',\n 'metadata',\n 'parse',\n 'parse_list',\n 'place',\n 'retweet',\n 'retweet_count',\n 'retweeted',\n 'retweeted_status',\n 'retweets',\n 'source',\n 'source_url',\n 'text',\n 'truncated',\n 'user']"
     },
     "metadata": {},
     "output_type": "execute_result",
     "execution_count": 9
    }
   ],
   "source": [
    "dir(search[0])\n"
   ],
   "metadata": {
    "collapsed": false,
    "pycharm": {
     "name": "#%%\n",
     "is_executing": false
    }
   }
  },
  {
   "cell_type": "markdown",
   "source": [
    "In order to simplify the data we have scraped, we remove the fields which are not necessary for this exercise.\n",
    "\n",
    "But first, let's create a new DB and Collection again..\n",
    "\n",
    "**EXERCISE 1:** Create a database \"twitter_search\", using MongoClient instance \"conn\". And then create a Collection \"posts\""
   ],
   "metadata": {
    "collapsed": false
   }
  },
  {
   "cell_type": "code",
   "execution_count": 10,
   "outputs": [],
   "source": [
    "# Enter code here and Run\n",
    "# SAMPLE CODE ( TO BE REMOVED)\n",
    "db = conn.twitter_search\n",
    "posts = db.posts"
   ],
   "metadata": {
    "collapsed": false,
    "pycharm": {
     "name": "#%%\n",
     "is_executing": false
    }
   }
  },
  {
   "cell_type": "markdown",
   "source": [
    "Next, we loop through the each object in the \"search\" dictionary and insert into MongoDB\n"
   ],
   "metadata": {
    "collapsed": false
   }
  },
  {
   "cell_type": "code",
   "execution_count": 11,
   "outputs": [
    {
     "data": {
      "text/plain": "{'created_at': datetime.datetime(2020, 4, 25, 3, 17, 6),\n 'geo': None,\n 'id': 1253885720005148673,\n 'retweet_count': 47,\n 'source': 'Twitter for iPhone',\n 'text': 'RT @Fisher85M: What’s your #Security Maturity level? [Infographic]\\n\\n#CyberSecurity #infosec #education @Fisher85M #BigData #Analytics #Mach…',\n 'in_reply_to_screen_name': None,\n '_id': ObjectId('5ea3ac500fee33e9a1859bdb')}"
     },
     "metadata": {},
     "output_type": "execute_result",
     "execution_count": 11
    }
   ],
   "source": [
    "for tweet in search:\n",
    "    # Empty dictionary for storing tweet related data\n",
    "    data ={}\n",
    "    data['created_at'] = tweet.created_at\n",
    "    data['geo'] = tweet.geo\n",
    "    data['id'] = tweet.id\n",
    "    data['retweet_count'] = tweet.retweet_count\n",
    "    data['source'] = tweet.source\n",
    "    data['text'] = tweet.text\n",
    "    data['in_reply_to_screen_name'] = tweet.in_reply_to_screen_name\n",
    "    \n",
    "    # Inserting Document into MongoDB Collection\n",
    "    posts.insert_one(data)\n",
    "data\n"
   ],
   "metadata": {
    "collapsed": false,
    "pycharm": {
     "name": "#%%\n",
     "is_executing": false
    }
   }
  },
  {
   "cell_type": "markdown",
   "source": [
    "Congratulations! The document has been inserted into the MongoDB collection!\n",
    "\n",
    "**EXERCISE 2**\n",
    "Insert a manually entered and unrelated document into the same collection:\n",
    "Name = \"Ashwin\"\n",
    "Age = \"7\"\n",
    "Gender \"Male\"\n",
    "With the address as a sub-document:\n",
    "address: street=\"pennsylvania avenue\"\n",
    "         number = \"1600\"\n",
    "         city = \"Washington DC\"\n",
    "         "
   ],
   "metadata": {
    "collapsed": false
   }
  },
  {
   "cell_type": "code",
   "execution_count": 12,
   "outputs": [],
   "source": [
    "# Enter code here\n",
    "# SAMPLE CODE TO BE REMOVED\n",
    "Name = \"Ashwin\"\n",
    "Age = \"7\"\n",
    "Gender =\"Male\"\n",
    "street=\"pennsylvania avenue\"\n",
    "number = \"1600\"\n",
    "city = \"Washington DC\"\n",
    "data = {  'name' : Name ,                                    # String \n",
    "          'age' : Age,                                       # Integer\n",
    "          'gender' : Gender,                                 # String \n",
    "          'address': {\n",
    "              'street' : street,                             # String ( special character with escape \\ )\n",
    "              'number' : number,                             # Integer\n",
    "              'city' : city                                 # String \n",
    "              }\n",
    "       }\n",
    "\n",
    "insert_result = posts.insert_one( data)"
   ],
   "metadata": {
    "collapsed": false,
    "pycharm": {
     "name": "#%%\n",
     "is_executing": false
    }
   }
  },
  {
   "cell_type": "markdown",
   "source": [
    "Although this document is completely unrelated to the twitter document, MongoDB still allows them to be inserted into the database.\n",
    "\n"
   ],
   "metadata": {
    "collapsed": false
   }
  },
  {
   "cell_type": "code",
   "execution_count": 13,
   "outputs": [
    {
     "data": {
      "text/plain": "True"
     },
     "metadata": {},
     "output_type": "execute_result",
     "execution_count": 13
    }
   ],
   "source": [
    "#To confirm that the insert is successul, use the following command:\n",
    "\n",
    "insert_result.acknowledged    \n",
    "\n"
   ],
   "metadata": {
    "collapsed": false,
    "pycharm": {
     "name": "#%%\n",
     "is_executing": false
    }
   }
  },
  {
   "cell_type": "code",
   "execution_count": 14,
   "outputs": [
    {
     "data": {
      "text/plain": "ObjectId('5ea3ac500fee33e9a1859bdc')"
     },
     "metadata": {},
     "output_type": "execute_result",
     "execution_count": 14
    }
   ],
   "source": [
    "# To view the id of the current document:\n",
    "\n",
    "insert_result.inserted_id\n"
   ],
   "metadata": {
    "collapsed": false,
    "pycharm": {
     "name": "#%%\n",
     "is_executing": false
    }
   }
  },
  {
   "cell_type": "markdown",
   "source": [
    "**The _id field:**\n",
    "\n",
    " MongoDB documents are stored in a collection require a unique _id field that acts as a primary key. Because ObjectIds are small, unique, and fast to generate, MongoDB uses ObjectIds as the default value for the _id field if the _id field is not specified.\n",
    "  i.e, the mongoDB adds the _id field and generates a unique ObjectId to assign as its value\n",
    "\n"
   ],
   "metadata": {
    "collapsed": false
   }
  },
  {
   "cell_type": "markdown",
   "source": [
    "**INSERT_MANY:**\n",
    " You can also insert many documents at a time into the Collection using the following command:\n",
    " collection.insert_many([{document1 contents},{document2 contents}])\n",
    "\n",
    "\n",
    "**EXERCISE 3:** Similarly to the previous exercise, insert multiple documents at the same time into a collection:"
   ],
   "metadata": {
    "collapsed": false
   }
  },
  {
   "cell_type": "code",
   "execution_count": 15,
   "outputs": [
    {
     "data": {
      "text/plain": "<pymongo.results.InsertManyResult at 0x2df389eaa00>"
     },
     "metadata": {},
     "output_type": "execute_result",
     "execution_count": 15
    }
   ],
   "source": [
    "# ENTER CODE HERE\n",
    "# SAMPLE CODE TO BE REMOVED\n",
    "posts.insert_many([{'name' : 'Steve' ,                                    # String \n",
    "          'age' : 25,                                       # Integer\n",
    "          'gender' : 'Male',                                 # String \n",
    "          'address': {\n",
    "              'street' : 'Huntington',                             # String \n",
    "              'number' : 23,                             # Integer\n",
    "              'city' : 'Boston'                                 # String \n",
    "              }},{'name' : 'Tom' ,                                    # String \n",
    "          'age' : 33,                                       # Integer\n",
    "          'gender' : 'Male',                                 # String \n",
    "          'address': {\n",
    "              'street' : 'Mass ave',                             # String \n",
    "              'number' : 44,                             # Integer\n",
    "              'city' : 'Boston'                                 # String \n",
    "              }}])"
   ],
   "metadata": {
    "collapsed": false,
    "pycharm": {
     "name": "#%%\n",
     "is_executing": false
    }
   }
  },
  {
   "cell_type": "markdown",
   "source": [
    "## Reading Documents in a Collection\n",
    "To retrieve data from a collection, we make use of the find() and find_one() functions.\n",
    "\n",
    "The find_one() method is used to return a single document from a (or None if there are no matches). \n",
    "It is useful when there is only one matching document, or are only interested in the first match:\n",
    "\n",
    "\n"
   ],
   "metadata": {
    "collapsed": false,
    "pycharm": {
     "name": "#%% md\n",
     "is_executing": false
    }
   }
  },
  {
   "cell_type": "code",
   "source": [
    "posts.find_one()\n",
    "\n"
   ],
   "metadata": {
    "collapsed": false,
    "pycharm": {
     "name": "#%% \n",
     "is_executing": false
    }
   },
   "execution_count": 16,
   "outputs": [
    {
     "data": {
      "text/plain": "{'_id': ObjectId('5ea325962a0f212921292cc9'),\n 'created_at': datetime.datetime(2020, 4, 24, 17, 43, 38),\n 'geo': None,\n 'id': 1253741401810010119,\n 'retweet_count': 41,\n 'source': 'Twitter Web App',\n 'text': 'RT @SpirosMargaris: How #AI can tackle the #climate emergency \\n\\nif developed responsibly\\n\\nhttps://t.co/glveQ74s9k #fintech @ConversationUK…',\n 'in_reply_to_screen_name': None}"
     },
     "metadata": {},
     "output_type": "execute_result",
     "execution_count": 16
    }
   ]
  },
  {
   "cell_type": "markdown",
   "source": [
    "To get more than a single document as the result of a query we use the find() method. find() returns a Cursor instance, which allows iteration over all matching documents.\n",
    "\n"
   ],
   "metadata": {
    "collapsed": false
   }
  },
  {
   "cell_type": "code",
   "execution_count": 17,
   "outputs": [
    {
     "data": {
      "text/plain": "<pymongo.cursor.Cursor at 0x2df389cd430>"
     },
     "metadata": {},
     "output_type": "execute_result",
     "execution_count": 17
    }
   ],
   "source": [
    "posts.find()\n",
    "\n"
   ],
   "metadata": {
    "collapsed": false,
    "pycharm": {
     "name": "#%%\n",
     "is_executing": false
    }
   }
  },
  {
   "cell_type": "markdown",
   "source": [
    "For example, we can iterate over the first 5 documents  in the posts collection:"
   ],
   "metadata": {
    "collapsed": false
   }
  },
  {
   "cell_type": "code",
   "execution_count": 18,
   "outputs": [
    {
     "name": "stdout",
     "text": [
      "{'_id': ObjectId('5ea325962a0f212921292cc9'), 'created_at': datetime.datetime(2020, 4, 24, 17, 43, 38), 'geo': None, 'id': 1253741401810010119, 'retweet_count': 41, 'source': 'Twitter Web App', 'text': 'RT @SpirosMargaris: How #AI can tackle the #climate emergency \\n\\nif developed responsibly\\n\\nhttps://t.co/glveQ74s9k #fintech @ConversationUK…', 'in_reply_to_screen_name': None}\n",
      "{'_id': ObjectId('5ea325962a0f212921292cca'), 'created_at': datetime.datetime(2020, 4, 24, 17, 43, 24), 'geo': None, 'id': 1253741345828745216, 'retweet_count': 8, 'source': 'Twitter for Android', 'text': 'RT @ipfconline1: 10 Groups of #MachineLearning Algorithms \\n\\nhttps://t.co/dQsSp6ozVa @thomas_glare v/ @datamadesimple\\n#AI #DeepLearning\\nCc @…', 'in_reply_to_screen_name': None}\n",
      "{'_id': ObjectId('5ea325962a0f212921292ccb'), 'created_at': datetime.datetime(2020, 4, 24, 17, 43, 17), 'geo': None, 'id': 1253741316011327488, 'retweet_count': 9, 'source': 'Twitter for Android', 'text': 'RT @DeepLearn007: @mercer #AI will augment humans in to deal w/ #BigData &amp; find patterns\\n#5G enabled #IoT devices are going to generate a l…', 'in_reply_to_screen_name': None}\n",
      "{'_id': ObjectId('5ea325962a0f212921292ccc'), 'created_at': datetime.datetime(2020, 4, 24, 17, 42, 55), 'geo': None, 'id': 1253741220658102274, 'retweet_count': 0, 'source': 'Twitter Web App', 'text': 'Breaking news!\\n\\n@Flexmonster Data Server is available starting from 2.8.5 version 🎉\\n\\nProcess your #data up to 10 ti… https://t.co/tIJo6Pk3Bt', 'in_reply_to_screen_name': None}\n",
      "{'_id': ObjectId('5ea325962a0f212921292ccd'), 'created_at': datetime.datetime(2020, 4, 24, 17, 42, 36), 'geo': None, 'id': 1253741141159227392, 'retweet_count': 7, 'source': 'Twitter Web App', 'text': 'RT @sostAMB: 🔈🔈🔈Estigueu atents aquests propers dies 👇🏻\\n\\n#confinament per #COVID19\\n#BigData\\n#vulnerabilitatenergètica\\n\\n#quedatACasa\\n#EntreT…', 'in_reply_to_screen_name': None}\n"
     ],
     "output_type": "stream"
    }
   ],
   "source": [
    "for d in posts.find()[:5]:\n",
    "    print(d)\n"
   ],
   "metadata": {
    "collapsed": false,
    "pycharm": {
     "name": "#%%\n",
     "is_executing": false
    }
   }
  },
  {
   "cell_type": "markdown",
   "source": [
    "This can also be displayed as a Python List:"
   ],
   "metadata": {
    "collapsed": false
   }
  },
  {
   "cell_type": "code",
   "source": [
    "list(posts.find())[:5]"
   ],
   "metadata": {
    "collapsed": false,
    "pycharm": {
     "name": "#%%\n",
     "is_executing": false
    }
   },
   "execution_count": 19,
   "outputs": [
    {
     "data": {
      "text/plain": "[{'_id': ObjectId('5ea325962a0f212921292cc9'),\n  'created_at': datetime.datetime(2020, 4, 24, 17, 43, 38),\n  'geo': None,\n  'id': 1253741401810010119,\n  'retweet_count': 41,\n  'source': 'Twitter Web App',\n  'text': 'RT @SpirosMargaris: How #AI can tackle the #climate emergency \\n\\nif developed responsibly\\n\\nhttps://t.co/glveQ74s9k #fintech @ConversationUK…',\n  'in_reply_to_screen_name': None},\n {'_id': ObjectId('5ea325962a0f212921292cca'),\n  'created_at': datetime.datetime(2020, 4, 24, 17, 43, 24),\n  'geo': None,\n  'id': 1253741345828745216,\n  'retweet_count': 8,\n  'source': 'Twitter for Android',\n  'text': 'RT @ipfconline1: 10 Groups of #MachineLearning Algorithms \\n\\nhttps://t.co/dQsSp6ozVa @thomas_glare v/ @datamadesimple\\n#AI #DeepLearning\\nCc @…',\n  'in_reply_to_screen_name': None},\n {'_id': ObjectId('5ea325962a0f212921292ccb'),\n  'created_at': datetime.datetime(2020, 4, 24, 17, 43, 17),\n  'geo': None,\n  'id': 1253741316011327488,\n  'retweet_count': 9,\n  'source': 'Twitter for Android',\n  'text': 'RT @DeepLearn007: @mercer #AI will augment humans in to deal w/ #BigData &amp; find patterns\\n#5G enabled #IoT devices are going to generate a l…',\n  'in_reply_to_screen_name': None},\n {'_id': ObjectId('5ea325962a0f212921292ccc'),\n  'created_at': datetime.datetime(2020, 4, 24, 17, 42, 55),\n  'geo': None,\n  'id': 1253741220658102274,\n  'retweet_count': 0,\n  'source': 'Twitter Web App',\n  'text': 'Breaking news!\\n\\n@Flexmonster Data Server is available starting from 2.8.5 version 🎉\\n\\nProcess your #data up to 10 ti… https://t.co/tIJo6Pk3Bt',\n  'in_reply_to_screen_name': None},\n {'_id': ObjectId('5ea325962a0f212921292ccd'),\n  'created_at': datetime.datetime(2020, 4, 24, 17, 42, 36),\n  'geo': None,\n  'id': 1253741141159227392,\n  'retweet_count': 7,\n  'source': 'Twitter Web App',\n  'text': 'RT @sostAMB: 🔈🔈🔈Estigueu atents aquests propers dies 👇🏻\\n\\n#confinament per #COVID19\\n#BigData\\n#vulnerabilitatenergètica\\n\\n#quedatACasa\\n#EntreT…',\n  'in_reply_to_screen_name': None}]"
     },
     "metadata": {},
     "output_type": "execute_result",
     "execution_count": 19
    }
   ]
  },
  {
   "cell_type": "markdown",
   "source": [
    "**Count Documents:**\n",
    "To **count** the number of documents in a collection, we can use count_documents() or estimated_document_count() or  count() functions.\n",
    "**NOTE** : the count() function has been deprecated in a recent update, hence it is recommended to use count_documents()"
   ],
   "metadata": {
    "collapsed": false
   }
  },
  {
   "cell_type": "code",
   "execution_count": 20,
   "outputs": [
    {
     "name": "stderr",
     "text": [
      "<ipython-input-20-ffaeb10de49d>:1: DeprecationWarning: count is deprecated. Use estimated_document_count or count_documents instead. Please note that $where must be replaced by $expr, $near must be replaced by $geoWithin with $center, and $nearSphere must be replaced by $geoWithin with $centerSphere\n",
      "  posts.count()\n"
     ],
     "output_type": "stream"
    },
    {
     "data": {
      "text/plain": "213"
     },
     "metadata": {},
     "output_type": "execute_result",
     "execution_count": 20
    }
   ],
   "source": [
    "posts.count()\n",
    "\n",
    "\n",
    "#posts.count_documents()"
   ],
   "metadata": {
    "collapsed": false,
    "pycharm": {
     "name": "#%%\n",
     "is_executing": false
    }
   }
  },
  {
   "cell_type": "markdown",
   "source": [
    "## MongoDB Queries:\n",
    "MongoDB queries are written in a JSON format, similar to the document.\n",
    "To create a query, you must specify a dictionary with the required attributes.\n"
   ],
   "metadata": {
    "collapsed": false,
    "pycharm": {
     "name": "#%% md\n",
     "is_executing": false
    }
   }
  },
  {
   "cell_type": "code",
   "execution_count": 21,
   "outputs": [
    {
     "name": "stderr",
     "text": [
      "<ipython-input-21-6181b0e85154>:1: DeprecationWarning: count is deprecated. Use Collection.count_documents instead.\n",
      "  posts.find({\"source\": \"Twitter for Android\"}).count()\n"
     ],
     "output_type": "stream"
    },
    {
     "data": {
      "text/plain": "39"
     },
     "metadata": {},
     "output_type": "execute_result",
     "execution_count": 21
    }
   ],
   "source": [
    "posts.find({\"source\": \"Twitter for Android\"}).count()\n"
   ],
   "metadata": {
    "collapsed": false,
    "pycharm": {
     "name": "#%%\n",
     "is_executing": false
    }
   }
  },
  {
   "cell_type": "markdown",
   "source": [
    "The search queries can also make use of special query operators. These operators include gt, gte, lt, lte, ne, nin, regex, exists, not, or and more. For example:\n"
   ],
   "metadata": {
    "collapsed": false
   }
  },
  {
   "cell_type": "code",
   "execution_count": 22,
   "outputs": [
    {
     "data": {
      "text/plain": "{'_id': ObjectId('5ea325962a0f212921292cc9'),\n 'created_at': datetime.datetime(2020, 4, 24, 17, 43, 38),\n 'geo': None,\n 'id': 1253741401810010119,\n 'retweet_count': 41,\n 'source': 'Twitter Web App',\n 'text': 'RT @SpirosMargaris: How #AI can tackle the #climate emergency \\n\\nif developed responsibly\\n\\nhttps://t.co/glveQ74s9k #fintech @ConversationUK…',\n 'in_reply_to_screen_name': None}"
     },
     "metadata": {},
     "output_type": "execute_result",
     "execution_count": 22
    }
   ],
   "source": [
    "from datetime import datetime\n",
    "date1 = datetime.strptime(\"20/04/10 15:15\", \"%d/%m/%y %H:%M\") \n",
    "cursor = posts.find({'created_at':{\"$gt\":date1}})\n",
    "cursor.next()\n"
   ],
   "metadata": {
    "collapsed": false,
    "pycharm": {
     "name": "#%%\n",
     "is_executing": false
    }
   }
  },
  {
   "cell_type": "markdown",
   "source": [
    "Appending the count() function at the end of a find() function allows it to be counted instead:\n"
   ],
   "metadata": {
    "collapsed": false
   }
  },
  {
   "cell_type": "code",
   "source": [
    "posts.find({'created_at':{\"$gt\":date1}}).count()\n",
    "\n",
    "\n"
   ],
   "metadata": {
    "collapsed": false,
    "pycharm": {
     "name": "#%% \n",
     "is_executing": false
    }
   },
   "execution_count": 23,
   "outputs": [
    {
     "name": "stderr",
     "text": [
      "<ipython-input-23-0fa888a45c9c>:1: DeprecationWarning: count is deprecated. Use Collection.count_documents instead.\n",
      "  posts.find({'created_at':{\"$gt\":date1}}).count()\n"
     ],
     "output_type": "stream"
    },
    {
     "data": {
      "text/plain": "177"
     },
     "metadata": {},
     "output_type": "execute_result",
     "execution_count": 23
    }
   ]
  },
  {
   "cell_type": "markdown",
   "source": [
    "**EXERCISE 4**\n",
    " Find the number of posts which was created on or before \"20/04/23 12:15\""
   ],
   "metadata": {
    "collapsed": false
   }
  },
  {
   "cell_type": "code",
   "execution_count": 24,
   "outputs": [
    {
     "name": "stderr",
     "text": [
      "<ipython-input-24-13f53807eaec>:4: DeprecationWarning: count is deprecated. Use Collection.count_documents instead.\n",
      "  posts.find({'created_at':{\"$lte\":date2}}).count()\n"
     ],
     "output_type": "stream"
    },
    {
     "data": {
      "text/plain": "177"
     },
     "metadata": {},
     "output_type": "execute_result",
     "execution_count": 24
    }
   ],
   "source": [
    "#ENTER CODE HERE\n",
    "#SAMPLE ANSWER TO BE REMOVED:\n",
    "date2 = datetime.strptime(\"20/04/23 12:15\", \"%d/%m/%y %H:%M\") \n",
    "posts.find({'created_at':{\"$lte\":date2}}).count()\n",
    "\n"
   ],
   "metadata": {
    "collapsed": false,
    "pycharm": {
     "name": "#%%\n",
     "is_executing": false
    }
   }
  },
  {
   "cell_type": "markdown",
   "source": [
    "**EXERCISE 5** Find the number of posts which was created between \"20/04/20 12:15\" and \"20/04/24 09:15\"\n"
   ],
   "metadata": {
    "collapsed": false
   }
  },
  {
   "cell_type": "code",
   "execution_count": 25,
   "outputs": [
    {
     "name": "stderr",
     "text": [
      "<ipython-input-25-bb1f6df0206a>:5: DeprecationWarning: count is deprecated. Use Collection.count_documents instead.\n",
      "  posts.find({'created_at':{\"$gte\": date3, \"$lt\": date4}}).count()\n"
     ],
     "output_type": "stream"
    },
    {
     "data": {
      "text/plain": "177"
     },
     "metadata": {},
     "output_type": "execute_result",
     "execution_count": 25
    }
   ],
   "source": [
    "#ENTER CODE HERE\n",
    "#SAMPLE ANSWER TO BE REMOVED:\n",
    "date3 = datetime.strptime(\"20/04/20 12:15\", \"%d/%m/%y %H:%M\") \n",
    "date4 = datetime.strptime(\"20/04/24 09:15\", \"%d/%m/%y %H:%M\") \n",
    "posts.find({'created_at':{\"$gte\": date3, \"$lt\": date4}}).count()\n",
    "\n",
    "\n"
   ],
   "metadata": {
    "collapsed": false,
    "pycharm": {
     "name": "#%%\n",
     "is_executing": false
    }
   }
  },
  {
   "cell_type": "markdown",
   "source": [
    "**EXERCISE 6**\n",
    " Find all posts except the ones with \"source: Twitter from Android\" and \"source: Twitter Web App\""
   ],
   "metadata": {
    "collapsed": false
   }
  },
  {
   "cell_type": "code",
   "execution_count": 26,
   "outputs": [
    {
     "name": "stderr",
     "text": [
      "<ipython-input-26-6cd11acfbcd2>:3: DeprecationWarning: count is deprecated. Use Collection.count_documents instead.\n",
      "  posts.find({\"source\":{\"$nin\":[\"Twitter for Android\",\"Twitter Web App\"]}}).count()\n"
     ],
     "output_type": "stream"
    },
    {
     "data": {
      "text/plain": "125"
     },
     "metadata": {},
     "output_type": "execute_result",
     "execution_count": 26
    }
   ],
   "source": [
    "#ENTER CODE HERE\n",
    "#SAMPLE ANSWER TO BE REMOVED:\n",
    "posts.find({\"source\":{\"$nin\":[\"Twitter for Android\",\"Twitter Web App\"]}}).count()\n"
   ],
   "metadata": {
    "collapsed": false,
    "pycharm": {
     "name": "#%%\n",
     "is_executing": false
    }
   }
  },
  {
   "cell_type": "markdown",
   "source": [
    "## Sorting:\n",
    "MongoDB is capable of sorting a query on the server-side in a more efficient way than on the client-side.\n",
    "\n",
    "For example, let's get the most recent post by sorting the query in descending order and looking at the first:\n"
   ],
   "metadata": {
    "collapsed": false,
    "pycharm": {
     "name": "#%% md\n"
    }
   }
  },
  {
   "cell_type": "code",
   "execution_count": 27,
   "outputs": [
    {
     "name": "stdout",
     "text": [
      "{'_id': ObjectId('5ea3ac500fee33e9a1859bd2'), 'created_at': datetime.datetime(2020, 4, 25, 3, 19, 32), 'geo': None, 'id': 1253886332499345420, 'retweet_count': 2, 'source': 'digital transformation', 'text': 'RT @IAM__Network: Early digital transformation efforts pay dividends as business continuity plans hold strong – Which-50 \\n\\nREAD MORE: https…', 'in_reply_to_screen_name': None}\n"
     ],
     "output_type": "stream"
    }
   ],
   "source": [
    "lastpost = posts.find().sort([(\"created_at\", pymongo.DESCENDING)]).limit(1)\n",
    "\n",
    "for t in lastpost: print (t)"
   ],
   "metadata": {
    "collapsed": false,
    "pycharm": {
     "name": "#%%\n",
     "is_executing": false
    }
   }
  },
  {
   "cell_type": "markdown",
   "source": [
    "## Updating a MongoDB Document\n",
    "We can update or modify a document in a MongoDB collection in several ways.\n",
    "\n",
    "First, lets look at the document we created earlier:"
   ],
   "metadata": {
    "collapsed": false
   }
  },
  {
   "cell_type": "code",
   "execution_count": 28,
   "outputs": [
    {
     "data": {
      "text/plain": "{'_id': ObjectId('5ea3590f59505cd04417c8ab'),\n 'name': 'Ashwin',\n 'age': '7',\n 'gender': 'Male',\n 'address': {'street': 'pennsylvania avenue',\n  'number': '1600',\n  'city': 'Washington DC'}}"
     },
     "metadata": {},
     "output_type": "execute_result",
     "execution_count": 28
    }
   ],
   "source": [
    "posts.find_one({\"name\":\"Ashwin\"})\n",
    "\n"
   ],
   "metadata": {
    "collapsed": false,
    "pycharm": {
     "name": "#%%\n",
     "is_executing": false
    }
   }
  },
  {
   "cell_type": "markdown",
   "source": [
    "We can update the document as follows:\n"
   ],
   "metadata": {
    "collapsed": false
   }
  },
  {
   "cell_type": "code",
   "execution_count": 29,
   "outputs": [
    {
     "name": "stderr",
     "text": [
      "<ipython-input-29-487667a51e28>:1: DeprecationWarning: update is deprecated. Use replace_one, update_one or update_many instead.\n",
      "  posts.update({\"name\":\"Ashwin\"},{\"text\":\"HELLO! This is my first update!!\"})\n"
     ],
     "output_type": "stream"
    },
    {
     "data": {
      "text/plain": "{'_id': ObjectId('5ea35a1b59505cd04417c8ae'),\n 'name': 'Ashwin',\n 'age': '7',\n 'gender': 'Male',\n 'address': {'street': 'pennsylvania avenue',\n  'number': '1600',\n  'city': 'Washington DC'}}"
     },
     "metadata": {},
     "output_type": "execute_result",
     "execution_count": 29
    }
   ],
   "source": [
    "posts.update({\"name\":\"Ashwin\"},{\"text\":\"HELLO! This is my first update!!\"})\n",
    "\n",
    "# To view the updated document, lets find it again:\n",
    "posts.find_one({\"name\":\"Ashwin\"})\n"
   ],
   "metadata": {
    "collapsed": false,
    "pycharm": {
     "name": "#%%\n",
     "is_executing": false
    }
   }
  },
  {
   "cell_type": "markdown",
   "source": [
    "### Set : Update Operator\n",
    "The set operator can be used to update a specific document which matches based on the first argument.\n",
    "And then adds or replaces existing values in the document based on the second set of arguments.\n"
   ],
   "metadata": {
    "collapsed": false
   }
  },
  {
   "cell_type": "code",
   "execution_count": 30,
   "outputs": [
    {
     "name": "stderr",
     "text": [
      "<ipython-input-30-5f2ab00f41f7>:1: DeprecationWarning: update is deprecated. Use replace_one, update_one or update_many instead.\n",
      "  posts.update({\"name\":\"Ashwin\"},{\"$set\":{\"retweets\":50,\"source\":\"Twitter from Android\"}})\n"
     ],
     "output_type": "stream"
    },
    {
     "data": {
      "text/plain": "{'_id': ObjectId('5ea35a1b59505cd04417c8ae'),\n 'name': 'Ashwin',\n 'age': '7',\n 'gender': 'Male',\n 'address': {'street': 'pennsylvania avenue',\n  'number': '1600',\n  'city': 'Washington DC'},\n 'retweets': 50,\n 'source': 'Twitter from Android'}"
     },
     "metadata": {},
     "output_type": "execute_result",
     "execution_count": 30
    }
   ],
   "source": [
    "posts.update({\"name\":\"Ashwin\"},{\"$set\":{\"retweets\":50,\"source\":\"Twitter from Android\"}})\n",
    "posts.find_one({\"name\":\"Ashwin\"})\n",
    "\n"
   ],
   "metadata": {
    "collapsed": false,
    "pycharm": {
     "name": "#%%\n",
     "is_executing": false
    }
   }
  },
  {
   "cell_type": "markdown",
   "source": [
    "### inc : Update Operator\n",
    "The inc operator can be used to increment the value of a certain field. If the field does not exist in the document, it will be updated to add that field with the increment value."
   ],
   "metadata": {
    "collapsed": false
   }
  },
  {
   "cell_type": "code",
   "execution_count": 31,
   "outputs": [
    {
     "name": "stderr",
     "text": [
      "<ipython-input-31-94d20647d0ae>:1: DeprecationWarning: update is deprecated. Use replace_one, update_one or update_many instead.\n",
      "  posts.update({\"name\":\"Ashwin\"},{\"$inc\":{\"retweets\":100}})\n"
     ],
     "output_type": "stream"
    },
    {
     "data": {
      "text/plain": "{'_id': ObjectId('5ea35a1b59505cd04417c8ae'),\n 'name': 'Ashwin',\n 'age': '7',\n 'gender': 'Male',\n 'address': {'street': 'pennsylvania avenue',\n  'number': '1600',\n  'city': 'Washington DC'},\n 'retweets': 150,\n 'source': 'Twitter from Android'}"
     },
     "metadata": {},
     "output_type": "execute_result",
     "execution_count": 31
    }
   ],
   "source": [
    "\n",
    "posts.update({\"name\":\"Ashwin\"},{\"$inc\":{\"retweets\":100}})\n",
    "posts.find_one({\"name\":\"Ashwin\"})"
   ],
   "metadata": {
    "collapsed": false,
    "pycharm": {
     "name": "#%%\n",
     "is_executing": false
    }
   }
  },
  {
   "cell_type": "markdown",
   "source": [
    "### rename : update operator   \n",
    "The rename operator can be used to change the name of a field in a document."
   ],
   "metadata": {
    "collapsed": false
   }
  },
  {
   "cell_type": "code",
   "execution_count": 32,
   "outputs": [
    {
     "name": "stderr",
     "text": [
      "<ipython-input-32-f599bec9a306>:1: DeprecationWarning: update is deprecated. Use replace_one, update_one or update_many instead.\n",
      "  posts.update({\"name\":\"Ashwin\"},{\"$rename\":{\"name\":\"first_name\"}})\n"
     ],
     "output_type": "stream"
    },
    {
     "data": {
      "text/plain": "{'_id': ObjectId('5ea35a1b59505cd04417c8ae'),\n 'age': '7',\n 'gender': 'Male',\n 'address': {'street': 'pennsylvania avenue',\n  'number': '1600',\n  'city': 'Washington DC'},\n 'retweets': 150,\n 'source': 'Twitter from Android',\n 'first_name': 'Ashwin'}"
     },
     "metadata": {},
     "output_type": "execute_result",
     "execution_count": 32
    }
   ],
   "source": [
    "posts.update({\"name\":\"Ashwin\"},{\"$rename\":{\"name\":\"first_name\"}})\n",
    "posts.find_one({\"first_name\":\"Ashwin\"})\n"
   ],
   "metadata": {
    "collapsed": false,
    "pycharm": {
     "name": "#%%\n",
     "is_executing": false
    }
   }
  },
  {
   "cell_type": "code",
   "execution_count": 33,
   "outputs": [
    {
     "data": {
      "text/plain": "{'_id': ObjectId('5ea35a1b59505cd04417c8ae'),\n 'age': '7',\n 'gender': 'Male',\n 'address': {'street': 'pennsylvania avenue',\n  'number': '1600',\n  'city': 'Washington DC'},\n 'retweets': 150,\n 'source': 'Twitter from Android',\n 'first_name': 'Ashwin'}"
     },
     "metadata": {},
     "output_type": "execute_result",
     "execution_count": 33
    }
   ],
   "source": [
    "posts.find_one({\"first_name\":\"Ashwin\"})\n",
    "\n"
   ],
   "metadata": {
    "collapsed": false,
    "pycharm": {
     "name": "#%%\n",
     "is_executing": false
    }
   }
  },
  {
   "cell_type": "markdown",
   "source": [
    "### push : update operator\n",
    "The push operator appends a value to the document.\n",
    "However, if the the field is not present, the push operation will create a new field by the specified name.\n",
    "Note: Push operations only work with array values.\n",
    "Example:\n",
    "posts.update({\"first_name\":\"Ashwin\"},{\"$push\":{\"score\":{\"nb\":random.randint(-5, 5),\"svm\":random.randint(-5, 5)}}})\n",
    "posts.find_one({\"first_name\":\"Ashwin\"})"
   ],
   "metadata": {
    "collapsed": false,
    "pycharm": {
     "name": "#%% md\n"
    }
   }
  },
  {
   "cell_type": "markdown",
   "source": [
    "### pop : update operator\n",
    "The pop operator is used to remove the outer vallue from the array. Pop operation can be used on either the start of the array (By passing -1) or the end of an array ( By passing 1 ).\n",
    "\n",
    "\n",
    "posts.update({\"first_name\":\"Ashwin\"},{\"$pop\":{\"score\":1}})\n",
    "\n",
    "posts.find_one({\"first_name\":\"Ashwin\"})\n"
   ],
   "metadata": {
    "collapsed": false,
    "pycharm": {
     "name": "#%% md\n",
     "is_executing": false
    }
   }
  },
  {
   "cell_type": "markdown",
   "source": [
    "### pull : update operator\n",
    "The pull operator is used to remove all instances of a specific value from an array; this operator is especially useful when having to work with redundant values.\n",
    "\n"
   ],
   "metadata": {
    "collapsed": false
   }
  },
  {
   "cell_type": "code",
   "execution_count": 34,
   "outputs": [
    {
     "name": "stderr",
     "text": [
      "<ipython-input-34-944cc175a2fb>:2: DeprecationWarning: update is deprecated. Use replace_one, update_one or update_many instead.\n",
      "  posts.update({\"first_name\":\"Ashwin\"},{\"$set\":{\"likes\":[\"nature\",\"music\",\"DMDD\",\"video games\"]}})\n"
     ],
     "output_type": "stream"
    },
    {
     "data": {
      "text/plain": "{'_id': ObjectId('5ea35a1b59505cd04417c8ae'),\n 'age': '7',\n 'gender': 'Male',\n 'address': {'street': 'pennsylvania avenue',\n  'number': '1600',\n  'city': 'Washington DC'},\n 'retweets': 150,\n 'source': 'Twitter from Android',\n 'first_name': 'Ashwin',\n 'likes': ['nature', 'music', 'DMDD', 'video games']}"
     },
     "metadata": {},
     "output_type": "execute_result",
     "execution_count": 34
    }
   ],
   "source": [
    "# First, we will add a sub-document / array\n",
    "posts.update({\"first_name\":\"Ashwin\"},{\"$set\":{\"likes\":[\"nature\",\"music\",\"DMDD\",\"video games\"]}})\n",
    "posts.find_one({\"first_name\":\"Ashwin\"})"
   ],
   "metadata": {
    "collapsed": false,
    "pycharm": {
     "name": "#%%\n",
     "is_executing": false
    }
   }
  },
  {
   "cell_type": "code",
   "execution_count": 35,
   "outputs": [
    {
     "name": "stderr",
     "text": [
      "<ipython-input-35-13baefe06a21>:2: DeprecationWarning: update is deprecated. Use replace_one, update_one or update_many instead.\n",
      "  posts.update({\"first_name\":\"Ashwin\"},{\"$pull\":{\"likes\":\"DMDD\"}})\n"
     ],
     "output_type": "stream"
    },
    {
     "data": {
      "text/plain": "{'_id': ObjectId('5ea35a1b59505cd04417c8ae'),\n 'age': '7',\n 'gender': 'Male',\n 'address': {'street': 'pennsylvania avenue',\n  'number': '1600',\n  'city': 'Washington DC'},\n 'retweets': 150,\n 'source': 'Twitter from Android',\n 'first_name': 'Ashwin',\n 'likes': ['nature', 'music', 'video games']}"
     },
     "metadata": {},
     "output_type": "execute_result",
     "execution_count": 35
    }
   ],
   "source": [
    "# Now, we pull DMDD from the array\n",
    "posts.update({\"first_name\":\"Ashwin\"},{\"$pull\":{\"likes\":\"DMDD\"}})\n",
    "posts.find_one({\"first_name\":\"Ashwin\"}) \n"
   ],
   "metadata": {
    "collapsed": false,
    "pycharm": {
     "name": "#%%\n",
     "is_executing": false
    }
   }
  },
  {
   "cell_type": "code",
   "source": [
    "# the update_many() method can be used when there are multiple  documents to be updated at the same time.\n",
    "posts.update_many( {\"first_name\":\"Ashwin\"}, {'$set' : {\"first_name\":\"Not Ashwin\"}} )\n",
    "list (posts.find( ))"
   ],
   "metadata": {
    "collapsed": false,
    "pycharm": {
     "name": "#%% \n",
     "is_executing": false
    }
   },
   "execution_count": 36,
   "outputs": [
    {
     "data": {
      "text/plain": "[{'_id': ObjectId('5ea325962a0f212921292cc9'),\n  'created_at': datetime.datetime(2020, 4, 24, 17, 43, 38),\n  'geo': None,\n  'id': 1253741401810010119,\n  'retweet_count': 41,\n  'source': 'Twitter Web App',\n  'text': 'RT @SpirosMargaris: How #AI can tackle the #climate emergency \\n\\nif developed responsibly\\n\\nhttps://t.co/glveQ74s9k #fintech @ConversationUK…',\n  'in_reply_to_screen_name': None},\n {'_id': ObjectId('5ea325962a0f212921292cca'),\n  'created_at': datetime.datetime(2020, 4, 24, 17, 43, 24),\n  'geo': None,\n  'id': 1253741345828745216,\n  'retweet_count': 8,\n  'source': 'Twitter for Android',\n  'text': 'RT @ipfconline1: 10 Groups of #MachineLearning Algorithms \\n\\nhttps://t.co/dQsSp6ozVa @thomas_glare v/ @datamadesimple\\n#AI #DeepLearning\\nCc @…',\n  'in_reply_to_screen_name': None},\n {'_id': ObjectId('5ea325962a0f212921292ccb'),\n  'created_at': datetime.datetime(2020, 4, 24, 17, 43, 17),\n  'geo': None,\n  'id': 1253741316011327488,\n  'retweet_count': 9,\n  'source': 'Twitter for Android',\n  'text': 'RT @DeepLearn007: @mercer #AI will augment humans in to deal w/ #BigData &amp; find patterns\\n#5G enabled #IoT devices are going to generate a l…',\n  'in_reply_to_screen_name': None},\n {'_id': ObjectId('5ea325962a0f212921292ccc'),\n  'created_at': datetime.datetime(2020, 4, 24, 17, 42, 55),\n  'geo': None,\n  'id': 1253741220658102274,\n  'retweet_count': 0,\n  'source': 'Twitter Web App',\n  'text': 'Breaking news!\\n\\n@Flexmonster Data Server is available starting from 2.8.5 version 🎉\\n\\nProcess your #data up to 10 ti… https://t.co/tIJo6Pk3Bt',\n  'in_reply_to_screen_name': None},\n {'_id': ObjectId('5ea325962a0f212921292ccd'),\n  'created_at': datetime.datetime(2020, 4, 24, 17, 42, 36),\n  'geo': None,\n  'id': 1253741141159227392,\n  'retweet_count': 7,\n  'source': 'Twitter Web App',\n  'text': 'RT @sostAMB: 🔈🔈🔈Estigueu atents aquests propers dies 👇🏻\\n\\n#confinament per #COVID19\\n#BigData\\n#vulnerabilitatenergètica\\n\\n#quedatACasa\\n#EntreT…',\n  'in_reply_to_screen_name': None},\n {'_id': ObjectId('5ea325962a0f212921292cce'),\n  'created_at': datetime.datetime(2020, 4, 24, 17, 42, 34),\n  'geo': None,\n  'id': 1253741135136251911,\n  'retweet_count': 0,\n  'source': 'Twitter Web Client',\n  'text': 'UK Gov looking toward the next stage of Snooper Charter expansion - \\n\\n- gifting the ability to spy on citizens (not… https://t.co/5MboA1xN2L',\n  'in_reply_to_screen_name': None},\n {'_id': ObjectId('5ea325962a0f212921292ccf'),\n  'created_at': datetime.datetime(2020, 4, 24, 17, 42, 9),\n  'geo': None,\n  'id': 1253741031260119052,\n  'retweet_count': 4,\n  'source': 'Twitter for iPad',\n  'text': 'RT @ember_crooks: FF #Db2 @craigmullins @RomanufaKeri @erwin_hattingh @data_henrik @ARSDB2 @globomike @raghuprasad241 @DBeulke @angoca @MKr…',\n  'in_reply_to_screen_name': None},\n {'_id': ObjectId('5ea325962a0f212921292cd0'),\n  'created_at': datetime.datetime(2020, 4, 24, 17, 42, 3),\n  'geo': None,\n  'id': 1253741006115176450,\n  'retweet_count': 1,\n  'source': 'Edtech genomics',\n  'text': 'RT @QuantaEd: \"A population able and proactively making smarter health choices will cost less, live longer, and live healthier lifestyles.\"…',\n  'in_reply_to_screen_name': None},\n {'_id': ObjectId('5ea325962a0f212921292cd1'),\n  'created_at': datetime.datetime(2020, 4, 24, 17, 42, 2),\n  'geo': None,\n  'id': 1253740998779428870,\n  'retweet_count': 4,\n  'source': 'Twitter for iPhone',\n  'text': 'RT @vavacolor: #Covid_19 tracking systems aren’t all built the same. One thing is sure, alone, they don’t solve the underlying social inequ…',\n  'in_reply_to_screen_name': None},\n {'_id': ObjectId('5ea325962a0f212921292cd2'),\n  'created_at': datetime.datetime(2020, 4, 24, 17, 41, 57),\n  'geo': None,\n  'id': 1253740978420187137,\n  'retweet_count': 7,\n  'source': 'Calcaware',\n  'text': 'RT @mvollmer1: A #DigitalTwin allows clear visibility into the risks of a complex, interconnected #supplychain @BCG \\n\\n#ArtificialIntelligen…',\n  'in_reply_to_screen_name': None},\n {'_id': ObjectId('5ea3261c2a0f212921292cd5'),\n  'created_at': datetime.datetime(2020, 4, 24, 17, 43, 38),\n  'geo': None,\n  'id': 1253741401810010119,\n  'retweet_count': 41,\n  'source': 'Twitter Web App',\n  'text': 'RT @SpirosMargaris: How #AI can tackle the #climate emergency \\n\\nif developed responsibly\\n\\nhttps://t.co/glveQ74s9k #fintech @ConversationUK…',\n  'possibly_sensitive': False,\n  'in_reply_to_screen_name': None},\n {'_id': ObjectId('5ea3261c2a0f212921292cd6'),\n  'created_at': datetime.datetime(2020, 4, 24, 17, 43, 24),\n  'geo': None,\n  'id': 1253741345828745216,\n  'retweet_count': 8,\n  'source': 'Twitter for Android',\n  'text': 'RT @ipfconline1: 10 Groups of #MachineLearning Algorithms \\n\\nhttps://t.co/dQsSp6ozVa @thomas_glare v/ @datamadesimple\\n#AI #DeepLearning\\nCc @…',\n  'possibly_sensitive': False,\n  'in_reply_to_screen_name': None},\n {'_id': ObjectId('5ea326292a0f212921292cd7'),\n  'created_at': datetime.datetime(2020, 4, 24, 17, 43, 38),\n  'geo': None,\n  'id': 1253741401810010119,\n  'retweet_count': 41,\n  'source': 'Twitter Web App',\n  'text': 'RT @SpirosMargaris: How #AI can tackle the #climate emergency \\n\\nif developed responsibly\\n\\nhttps://t.co/glveQ74s9k #fintech @ConversationUK…',\n  'in_reply_to_screen_name': None},\n {'_id': ObjectId('5ea326292a0f212921292cd8'),\n  'created_at': datetime.datetime(2020, 4, 24, 17, 43, 24),\n  'geo': None,\n  'id': 1253741345828745216,\n  'retweet_count': 8,\n  'source': 'Twitter for Android',\n  'text': 'RT @ipfconline1: 10 Groups of #MachineLearning Algorithms \\n\\nhttps://t.co/dQsSp6ozVa @thomas_glare v/ @datamadesimple\\n#AI #DeepLearning\\nCc @…',\n  'in_reply_to_screen_name': None},\n {'_id': ObjectId('5ea326292a0f212921292cd9'),\n  'created_at': datetime.datetime(2020, 4, 24, 17, 43, 17),\n  'geo': None,\n  'id': 1253741316011327488,\n  'retweet_count': 9,\n  'source': 'Twitter for Android',\n  'text': 'RT @DeepLearn007: @mercer #AI will augment humans in to deal w/ #BigData &amp; find patterns\\n#5G enabled #IoT devices are going to generate a l…',\n  'in_reply_to_screen_name': None},\n {'_id': ObjectId('5ea326292a0f212921292cda'),\n  'created_at': datetime.datetime(2020, 4, 24, 17, 42, 55),\n  'geo': None,\n  'id': 1253741220658102274,\n  'retweet_count': 0,\n  'source': 'Twitter Web App',\n  'text': 'Breaking news!\\n\\n@Flexmonster Data Server is available starting from 2.8.5 version 🎉\\n\\nProcess your #data up to 10 ti… https://t.co/tIJo6Pk3Bt',\n  'in_reply_to_screen_name': None},\n {'_id': ObjectId('5ea326292a0f212921292cdb'),\n  'created_at': datetime.datetime(2020, 4, 24, 17, 42, 36),\n  'geo': None,\n  'id': 1253741141159227392,\n  'retweet_count': 7,\n  'source': 'Twitter Web App',\n  'text': 'RT @sostAMB: 🔈🔈🔈Estigueu atents aquests propers dies 👇🏻\\n\\n#confinament per #COVID19\\n#BigData\\n#vulnerabilitatenergètica\\n\\n#quedatACasa\\n#EntreT…',\n  'in_reply_to_screen_name': None},\n {'_id': ObjectId('5ea326292a0f212921292cdc'),\n  'created_at': datetime.datetime(2020, 4, 24, 17, 42, 34),\n  'geo': None,\n  'id': 1253741135136251911,\n  'retweet_count': 0,\n  'source': 'Twitter Web Client',\n  'text': 'UK Gov looking toward the next stage of Snooper Charter expansion - \\n\\n- gifting the ability to spy on citizens (not… https://t.co/5MboA1xN2L',\n  'in_reply_to_screen_name': None},\n {'_id': ObjectId('5ea326292a0f212921292cdd'),\n  'created_at': datetime.datetime(2020, 4, 24, 17, 42, 9),\n  'geo': None,\n  'id': 1253741031260119052,\n  'retweet_count': 4,\n  'source': 'Twitter for iPad',\n  'text': 'RT @ember_crooks: FF #Db2 @craigmullins @RomanufaKeri @erwin_hattingh @data_henrik @ARSDB2 @globomike @raghuprasad241 @DBeulke @angoca @MKr…',\n  'in_reply_to_screen_name': None},\n {'_id': ObjectId('5ea326292a0f212921292cde'),\n  'created_at': datetime.datetime(2020, 4, 24, 17, 42, 3),\n  'geo': None,\n  'id': 1253741006115176450,\n  'retweet_count': 1,\n  'source': 'Edtech genomics',\n  'text': 'RT @QuantaEd: \"A population able and proactively making smarter health choices will cost less, live longer, and live healthier lifestyles.\"…',\n  'in_reply_to_screen_name': None},\n {'_id': ObjectId('5ea326292a0f212921292cdf'),\n  'created_at': datetime.datetime(2020, 4, 24, 17, 42, 2),\n  'geo': None,\n  'id': 1253740998779428870,\n  'retweet_count': 4,\n  'source': 'Twitter for iPhone',\n  'text': 'RT @vavacolor: #Covid_19 tracking systems aren’t all built the same. One thing is sure, alone, they don’t solve the underlying social inequ…',\n  'in_reply_to_screen_name': None},\n {'_id': ObjectId('5ea326292a0f212921292ce0'),\n  'created_at': datetime.datetime(2020, 4, 24, 17, 41, 57),\n  'geo': None,\n  'id': 1253740978420187137,\n  'retweet_count': 7,\n  'source': 'Calcaware',\n  'text': 'RT @mvollmer1: A #DigitalTwin allows clear visibility into the risks of a complex, interconnected #supplychain @BCG \\n\\n#ArtificialIntelligen…',\n  'in_reply_to_screen_name': None},\n {'_id': ObjectId('5ea326472a0f212921292ce1'),\n  'created_at': datetime.datetime(2020, 4, 24, 17, 43, 38),\n  'geo': None,\n  'id': 1253741401810010119,\n  'retweet_count': 41,\n  'source': 'Twitter Web App',\n  'text': 'RT @SpirosMargaris: How #AI can tackle the #climate emergency \\n\\nif developed responsibly\\n\\nhttps://t.co/glveQ74s9k #fintech @ConversationUK…',\n  'in_reply_to_screen_name': None},\n {'_id': ObjectId('5ea326472a0f212921292ce2'),\n  'created_at': datetime.datetime(2020, 4, 24, 17, 43, 24),\n  'geo': None,\n  'id': 1253741345828745216,\n  'retweet_count': 8,\n  'source': 'Twitter for Android',\n  'text': 'RT @ipfconline1: 10 Groups of #MachineLearning Algorithms \\n\\nhttps://t.co/dQsSp6ozVa @thomas_glare v/ @datamadesimple\\n#AI #DeepLearning\\nCc @…',\n  'in_reply_to_screen_name': None},\n {'_id': ObjectId('5ea326472a0f212921292ce3'),\n  'created_at': datetime.datetime(2020, 4, 24, 17, 43, 17),\n  'geo': None,\n  'id': 1253741316011327488,\n  'retweet_count': 9,\n  'source': 'Twitter for Android',\n  'text': 'RT @DeepLearn007: @mercer #AI will augment humans in to deal w/ #BigData &amp; find patterns\\n#5G enabled #IoT devices are going to generate a l…',\n  'in_reply_to_screen_name': None},\n {'_id': ObjectId('5ea326472a0f212921292ce4'),\n  'created_at': datetime.datetime(2020, 4, 24, 17, 42, 55),\n  'geo': None,\n  'id': 1253741220658102274,\n  'retweet_count': 0,\n  'source': 'Twitter Web App',\n  'text': 'Breaking news!\\n\\n@Flexmonster Data Server is available starting from 2.8.5 version 🎉\\n\\nProcess your #data up to 10 ti… https://t.co/tIJo6Pk3Bt',\n  'in_reply_to_screen_name': None},\n {'_id': ObjectId('5ea326472a0f212921292ce5'),\n  'created_at': datetime.datetime(2020, 4, 24, 17, 42, 36),\n  'geo': None,\n  'id': 1253741141159227392,\n  'retweet_count': 7,\n  'source': 'Twitter Web App',\n  'text': 'RT @sostAMB: 🔈🔈🔈Estigueu atents aquests propers dies 👇🏻\\n\\n#confinament per #COVID19\\n#BigData\\n#vulnerabilitatenergètica\\n\\n#quedatACasa\\n#EntreT…',\n  'in_reply_to_screen_name': None},\n {'_id': ObjectId('5ea326472a0f212921292ce6'),\n  'created_at': datetime.datetime(2020, 4, 24, 17, 42, 34),\n  'geo': None,\n  'id': 1253741135136251911,\n  'retweet_count': 0,\n  'source': 'Twitter Web Client',\n  'text': 'UK Gov looking toward the next stage of Snooper Charter expansion - \\n\\n- gifting the ability to spy on citizens (not… https://t.co/5MboA1xN2L',\n  'in_reply_to_screen_name': None},\n {'_id': ObjectId('5ea326472a0f212921292ce7'),\n  'created_at': datetime.datetime(2020, 4, 24, 17, 42, 9),\n  'geo': None,\n  'id': 1253741031260119052,\n  'retweet_count': 4,\n  'source': 'Twitter for iPad',\n  'text': 'RT @ember_crooks: FF #Db2 @craigmullins @RomanufaKeri @erwin_hattingh @data_henrik @ARSDB2 @globomike @raghuprasad241 @DBeulke @angoca @MKr…',\n  'in_reply_to_screen_name': None},\n {'_id': ObjectId('5ea326472a0f212921292ce8'),\n  'created_at': datetime.datetime(2020, 4, 24, 17, 42, 3),\n  'geo': None,\n  'id': 1253741006115176450,\n  'retweet_count': 1,\n  'source': 'Edtech genomics',\n  'text': 'RT @QuantaEd: \"A population able and proactively making smarter health choices will cost less, live longer, and live healthier lifestyles.\"…',\n  'in_reply_to_screen_name': None},\n {'_id': ObjectId('5ea326472a0f212921292ce9'),\n  'created_at': datetime.datetime(2020, 4, 24, 17, 42, 2),\n  'geo': None,\n  'id': 1253740998779428870,\n  'retweet_count': 4,\n  'source': 'Twitter for iPhone',\n  'text': 'RT @vavacolor: #Covid_19 tracking systems aren’t all built the same. One thing is sure, alone, they don’t solve the underlying social inequ…',\n  'in_reply_to_screen_name': None},\n {'_id': ObjectId('5ea326472a0f212921292cea'),\n  'created_at': datetime.datetime(2020, 4, 24, 17, 41, 57),\n  'geo': None,\n  'id': 1253740978420187137,\n  'retweet_count': 7,\n  'source': 'Calcaware',\n  'text': 'RT @mvollmer1: A #DigitalTwin allows clear visibility into the risks of a complex, interconnected #supplychain @BCG \\n\\n#ArtificialIntelligen…',\n  'in_reply_to_screen_name': None},\n {'_id': ObjectId('5ea326652a0f212921292ceb'),\n  'created_at': datetime.datetime(2020, 4, 24, 17, 43, 38),\n  'geo': None,\n  'id': 1253741401810010119,\n  'retweet_count': 41,\n  'source': 'Twitter Web App',\n  'text': 'RT @SpirosMargaris: How #AI can tackle the #climate emergency \\n\\nif developed responsibly\\n\\nhttps://t.co/glveQ74s9k #fintech @ConversationUK…',\n  'in_reply_to_screen_name': None},\n {'_id': ObjectId('5ea326652a0f212921292cec'),\n  'created_at': datetime.datetime(2020, 4, 24, 17, 43, 24),\n  'geo': None,\n  'id': 1253741345828745216,\n  'retweet_count': 8,\n  'source': 'Twitter for Android',\n  'text': 'RT @ipfconline1: 10 Groups of #MachineLearning Algorithms \\n\\nhttps://t.co/dQsSp6ozVa @thomas_glare v/ @datamadesimple\\n#AI #DeepLearning\\nCc @…',\n  'in_reply_to_screen_name': None},\n {'_id': ObjectId('5ea326652a0f212921292ced'),\n  'created_at': datetime.datetime(2020, 4, 24, 17, 43, 17),\n  'geo': None,\n  'id': 1253741316011327488,\n  'retweet_count': 9,\n  'source': 'Twitter for Android',\n  'text': 'RT @DeepLearn007: @mercer #AI will augment humans in to deal w/ #BigData &amp; find patterns\\n#5G enabled #IoT devices are going to generate a l…',\n  'in_reply_to_screen_name': None},\n {'_id': ObjectId('5ea326652a0f212921292cee'),\n  'created_at': datetime.datetime(2020, 4, 24, 17, 42, 55),\n  'geo': None,\n  'id': 1253741220658102274,\n  'retweet_count': 0,\n  'source': 'Twitter Web App',\n  'text': 'Breaking news!\\n\\n@Flexmonster Data Server is available starting from 2.8.5 version 🎉\\n\\nProcess your #data up to 10 ti… https://t.co/tIJo6Pk3Bt',\n  'in_reply_to_screen_name': None},\n {'_id': ObjectId('5ea326652a0f212921292cef'),\n  'created_at': datetime.datetime(2020, 4, 24, 17, 42, 36),\n  'geo': None,\n  'id': 1253741141159227392,\n  'retweet_count': 7,\n  'source': 'Twitter Web App',\n  'text': 'RT @sostAMB: 🔈🔈🔈Estigueu atents aquests propers dies 👇🏻\\n\\n#confinament per #COVID19\\n#BigData\\n#vulnerabilitatenergètica\\n\\n#quedatACasa\\n#EntreT…',\n  'in_reply_to_screen_name': None},\n {'_id': ObjectId('5ea326652a0f212921292cf0'),\n  'created_at': datetime.datetime(2020, 4, 24, 17, 42, 34),\n  'geo': None,\n  'id': 1253741135136251911,\n  'retweet_count': 0,\n  'source': 'Twitter Web Client',\n  'text': 'UK Gov looking toward the next stage of Snooper Charter expansion - \\n\\n- gifting the ability to spy on citizens (not… https://t.co/5MboA1xN2L',\n  'in_reply_to_screen_name': None},\n {'_id': ObjectId('5ea326652a0f212921292cf1'),\n  'created_at': datetime.datetime(2020, 4, 24, 17, 42, 9),\n  'geo': None,\n  'id': 1253741031260119052,\n  'retweet_count': 4,\n  'source': 'Twitter for iPad',\n  'text': 'RT @ember_crooks: FF #Db2 @craigmullins @RomanufaKeri @erwin_hattingh @data_henrik @ARSDB2 @globomike @raghuprasad241 @DBeulke @angoca @MKr…',\n  'in_reply_to_screen_name': None},\n {'_id': ObjectId('5ea326652a0f212921292cf2'),\n  'created_at': datetime.datetime(2020, 4, 24, 17, 42, 3),\n  'geo': None,\n  'id': 1253741006115176450,\n  'retweet_count': 1,\n  'source': 'Edtech genomics',\n  'text': 'RT @QuantaEd: \"A population able and proactively making smarter health choices will cost less, live longer, and live healthier lifestyles.\"…',\n  'in_reply_to_screen_name': None},\n {'_id': ObjectId('5ea326652a0f212921292cf3'),\n  'created_at': datetime.datetime(2020, 4, 24, 17, 42, 2),\n  'geo': None,\n  'id': 1253740998779428870,\n  'retweet_count': 4,\n  'source': 'Twitter for iPhone',\n  'text': 'RT @vavacolor: #Covid_19 tracking systems aren’t all built the same. One thing is sure, alone, they don’t solve the underlying social inequ…',\n  'in_reply_to_screen_name': None},\n {'_id': ObjectId('5ea326652a0f212921292cf4'),\n  'created_at': datetime.datetime(2020, 4, 24, 17, 41, 57),\n  'geo': None,\n  'id': 1253740978420187137,\n  'retweet_count': 7,\n  'source': 'Calcaware',\n  'text': 'RT @mvollmer1: A #DigitalTwin allows clear visibility into the risks of a complex, interconnected #supplychain @BCG \\n\\n#ArtificialIntelligen…',\n  'in_reply_to_screen_name': None},\n {'_id': ObjectId('5ea326772a0f212921292cf5'),\n  'created_at': datetime.datetime(2020, 4, 24, 17, 43, 38),\n  'geo': None,\n  'id': 1253741401810010119,\n  'retweet_count': 41,\n  'source': 'Twitter Web App',\n  'text': 'RT @SpirosMargaris: How #AI can tackle the #climate emergency \\n\\nif developed responsibly\\n\\nhttps://t.co/glveQ74s9k #fintech @ConversationUK…',\n  'in_reply_to_screen_name': None},\n {'_id': ObjectId('5ea326772a0f212921292cf6'),\n  'created_at': datetime.datetime(2020, 4, 24, 17, 43, 24),\n  'geo': None,\n  'id': 1253741345828745216,\n  'retweet_count': 8,\n  'source': 'Twitter for Android',\n  'text': 'RT @ipfconline1: 10 Groups of #MachineLearning Algorithms \\n\\nhttps://t.co/dQsSp6ozVa @thomas_glare v/ @datamadesimple\\n#AI #DeepLearning\\nCc @…',\n  'in_reply_to_screen_name': None},\n {'_id': ObjectId('5ea326772a0f212921292cf7'),\n  'created_at': datetime.datetime(2020, 4, 24, 17, 43, 17),\n  'geo': None,\n  'id': 1253741316011327488,\n  'retweet_count': 9,\n  'source': 'Twitter for Android',\n  'text': 'RT @DeepLearn007: @mercer #AI will augment humans in to deal w/ #BigData &amp; find patterns\\n#5G enabled #IoT devices are going to generate a l…',\n  'in_reply_to_screen_name': None},\n {'_id': ObjectId('5ea326772a0f212921292cf8'),\n  'created_at': datetime.datetime(2020, 4, 24, 17, 42, 55),\n  'geo': None,\n  'id': 1253741220658102274,\n  'retweet_count': 0,\n  'source': 'Twitter Web App',\n  'text': 'Breaking news!\\n\\n@Flexmonster Data Server is available starting from 2.8.5 version 🎉\\n\\nProcess your #data up to 10 ti… https://t.co/tIJo6Pk3Bt',\n  'in_reply_to_screen_name': None},\n {'_id': ObjectId('5ea326772a0f212921292cf9'),\n  'created_at': datetime.datetime(2020, 4, 24, 17, 42, 36),\n  'geo': None,\n  'id': 1253741141159227392,\n  'retweet_count': 7,\n  'source': 'Twitter Web App',\n  'text': 'RT @sostAMB: 🔈🔈🔈Estigueu atents aquests propers dies 👇🏻\\n\\n#confinament per #COVID19\\n#BigData\\n#vulnerabilitatenergètica\\n\\n#quedatACasa\\n#EntreT…',\n  'in_reply_to_screen_name': None},\n {'_id': ObjectId('5ea326772a0f212921292cfa'),\n  'created_at': datetime.datetime(2020, 4, 24, 17, 42, 34),\n  'geo': None,\n  'id': 1253741135136251911,\n  'retweet_count': 0,\n  'source': 'Twitter Web Client',\n  'text': 'UK Gov looking toward the next stage of Snooper Charter expansion - \\n\\n- gifting the ability to spy on citizens (not… https://t.co/5MboA1xN2L',\n  'in_reply_to_screen_name': None},\n {'_id': ObjectId('5ea326772a0f212921292cfb'),\n  'created_at': datetime.datetime(2020, 4, 24, 17, 42, 9),\n  'geo': None,\n  'id': 1253741031260119052,\n  'retweet_count': 4,\n  'source': 'Twitter for iPad',\n  'text': 'RT @ember_crooks: FF #Db2 @craigmullins @RomanufaKeri @erwin_hattingh @data_henrik @ARSDB2 @globomike @raghuprasad241 @DBeulke @angoca @MKr…',\n  'in_reply_to_screen_name': None},\n {'_id': ObjectId('5ea326772a0f212921292cfc'),\n  'created_at': datetime.datetime(2020, 4, 24, 17, 42, 3),\n  'geo': None,\n  'id': 1253741006115176450,\n  'retweet_count': 1,\n  'source': 'Edtech genomics',\n  'text': 'RT @QuantaEd: \"A population able and proactively making smarter health choices will cost less, live longer, and live healthier lifestyles.\"…',\n  'in_reply_to_screen_name': None},\n {'_id': ObjectId('5ea326772a0f212921292cfd'),\n  'created_at': datetime.datetime(2020, 4, 24, 17, 42, 2),\n  'geo': None,\n  'id': 1253740998779428870,\n  'retweet_count': 4,\n  'source': 'Twitter for iPhone',\n  'text': 'RT @vavacolor: #Covid_19 tracking systems aren’t all built the same. One thing is sure, alone, they don’t solve the underlying social inequ…',\n  'in_reply_to_screen_name': None},\n {'_id': ObjectId('5ea326772a0f212921292cfe'),\n  'created_at': datetime.datetime(2020, 4, 24, 17, 41, 57),\n  'geo': None,\n  'id': 1253740978420187137,\n  'retweet_count': 7,\n  'source': 'Calcaware',\n  'text': 'RT @mvollmer1: A #DigitalTwin allows clear visibility into the risks of a complex, interconnected #supplychain @BCG \\n\\n#ArtificialIntelligen…',\n  'in_reply_to_screen_name': None},\n {'_id': ObjectId('5ea32c0087fa0ccd4d29bc84'),\n  'created_at': datetime.datetime(2020, 4, 24, 18, 11, 59),\n  'geo': None,\n  'id': 1253748535461326853,\n  'retweet_count': 9,\n  'source': 'Twitter for Android',\n  'text': 'RT @gp_pulipaka: Free eBook: Streaming Change Data Capture. #BigData #Analytics #DataScience #AI #MachineLearning #IoT #IIoT #Python #RStat…',\n  'in_reply_to_screen_name': None},\n {'_id': ObjectId('5ea32c0087fa0ccd4d29bc85'),\n  'created_at': datetime.datetime(2020, 4, 24, 18, 11, 57),\n  'geo': None,\n  'id': 1253748529794867201,\n  'retweet_count': 36,\n  'source': 'ProjectLearn.io',\n  'text': 'RT @gp_pulipaka: Leverage Transfer Learning. #BigData #Analytics #DataScience #AI #MachineLearning #IoT #IIoT #PyTorch #Python #RStats #Ten…',\n  'in_reply_to_screen_name': None},\n {'_id': ObjectId('5ea32c0087fa0ccd4d29bc86'),\n  'created_at': datetime.datetime(2020, 4, 24, 18, 11, 53),\n  'geo': None,\n  'id': 1253748513726496768,\n  'retweet_count': 31,\n  'source': 'Twitter for Android',\n  'text': 'RT @gp_pulipaka: Fuzzy Matching with #PySpark. #BigData #Analytics #DataScience #AI #MachineLearning #IoT #IIoT #PyTorch #Python #RStats #T…',\n  'in_reply_to_screen_name': None},\n {'_id': ObjectId('5ea32c0087fa0ccd4d29bc87'),\n  'created_at': datetime.datetime(2020, 4, 24, 18, 11, 49),\n  'geo': None,\n  'id': 1253748497305591809,\n  'retweet_count': 1,\n  'source': 'Twitter Web App',\n  'text': 'RT @chidambara09: @metoscm @nodexl @mihkal @docassar @enricomolinari @FmFrancoise @smr_foundation @marc_smith @NodeXL_Mktng MEtos CM \\nTh A…',\n  'in_reply_to_screen_name': None},\n {'_id': ObjectId('5ea32c0087fa0ccd4d29bc88'),\n  'created_at': datetime.datetime(2020, 4, 24, 18, 11, 44),\n  'geo': None,\n  'id': 1253748474165649408,\n  'retweet_count': 1,\n  'source': 'Twitter Web App',\n  'text': '@metoscm @nodexl @mihkal @docassar @enricomolinari @FmFrancoise @smr_foundation @marc_smith @NodeXL_Mktng MEtos CM… https://t.co/oj8uYZkHXQ',\n  'in_reply_to_screen_name': 'metoscm'},\n {'_id': ObjectId('5ea32c0087fa0ccd4d29bc89'),\n  'created_at': datetime.datetime(2020, 4, 24, 18, 11, 32),\n  'geo': None,\n  'id': 1253748424702337026,\n  'retweet_count': 11,\n  'source': 'youtubetypebeat',\n  'text': 'RT @intikhabalam: Your only limitation is yourself. #Motivation #BigData  #Startup #Entrepreneur #MakeYourOwnLane #SEO #SMM #IoT\\n #entrepre…',\n  'in_reply_to_screen_name': None},\n {'_id': ObjectId('5ea32c0087fa0ccd4d29bc8a'),\n  'created_at': datetime.datetime(2020, 4, 24, 18, 11, 23),\n  'geo': None,\n  'id': 1253748385414287361,\n  'retweet_count': 3,\n  'source': 'auto is the only way it can be ',\n  'text': 'RT @KChaudhari06: #dataprotection #cloud #BigData https://t.co/PRK4C7QOlU',\n  'in_reply_to_screen_name': None},\n {'_id': ObjectId('5ea32c0087fa0ccd4d29bc8b'),\n  'created_at': datetime.datetime(2020, 4, 24, 18, 11, 18),\n  'geo': None,\n  'id': 1253748365415845889,\n  'retweet_count': 3,\n  'source': 'forRetweeting',\n  'text': 'RT @KChaudhari06: #dataprotection #cloud #BigData https://t.co/PRK4C7QOlU',\n  'in_reply_to_screen_name': None},\n {'_id': ObjectId('5ea32c0087fa0ccd4d29bc8c'),\n  'created_at': datetime.datetime(2020, 4, 24, 18, 11, 15),\n  'geo': None,\n  'id': 1253748354909167616,\n  'retweet_count': 49,\n  'source': 'Twitter for Android',\n  'text': 'RT @EchoFintech: Dataviz : If 100 people lived on earth!\\n\\n#AI #MachineLearning #BigData #dataviz HT @jblefevre60\\n\\n@gvalan @lesguer_lionel @…',\n  'in_reply_to_screen_name': None},\n {'_id': ObjectId('5ea32c0087fa0ccd4d29bc8d'),\n  'created_at': datetime.datetime(2020, 4, 24, 18, 11, 2),\n  'geo': None,\n  'id': 1253748300056059911,\n  'retweet_count': 1,\n  'source': 'Twitter Web App',\n  'text': 'RT @IAM__Network: Ingram Micro Doubles Down On IoT With New Center Of Excellence \\n\\nREAD MORE: https://t.co/L0asq0syRW\\n\\n#BigData #ConnectedD…',\n  'in_reply_to_screen_name': None},\n {'_id': ObjectId('5ea32c1a87fa0ccd4d29bc8f'),\n  'text': 'HELLO! This is my first update!!'},\n {'_id': ObjectId('5ea32c4a87fa0ccd4d29bc90'),\n  'age': '7',\n  'gender': 'Male',\n  'address': {'street': 'pennsylvania avenue',\n   'number': '1600',\n   'city': 'Washington DC'},\n  'retweets': 150,\n  'source': 'Twitter from Android',\n  'first_name': 'Not Ashwin',\n  'likes': ['nature', 'music', 'video games']},\n {'_id': ObjectId('5ea32fd587fa0ccd4d29bc93'),\n  'created_at': datetime.datetime(2020, 4, 24, 18, 28, 33),\n  'geo': None,\n  'id': 1253752705631154178,\n  'retweet_count': 24,\n  'source': 'Twitter for Android',\n  'text': 'RT @gp_pulipaka: Introduction to Neural Networks. #BigData #Analytics #DataScience #AI #MachineLearning #IoT #IIoT #PyTorch #Python #RStats…',\n  'in_reply_to_screen_name': None},\n {'_id': ObjectId('5ea32fd587fa0ccd4d29bc94'),\n  'created_at': datetime.datetime(2020, 4, 24, 18, 28, 24),\n  'geo': None,\n  'id': 1253752668587163652,\n  'retweet_count': 26,\n  'source': 'TweetDeck',\n  'text': 'RT @charlie_lees: The @PREdiCCt study - take a break from COVID-19 and watch this 2 minute film. This is our #bigdata study looking at the…',\n  'in_reply_to_screen_name': None},\n {'_id': ObjectId('5ea32fd587fa0ccd4d29bc95'),\n  'created_at': datetime.datetime(2020, 4, 24, 18, 28, 18),\n  'geo': None,\n  'id': 1253752642225897472,\n  'retweet_count': 0,\n  'source': 'Twitter Web App',\n  'text': 'Trenchant naming for intrepid branding. This iPaaS simplifies integration with a single set of code that executes o… https://t.co/9vJEyQRQCk',\n  'in_reply_to_screen_name': None},\n {'_id': ObjectId('5ea32fd587fa0ccd4d29bc96'),\n  'created_at': datetime.datetime(2020, 4, 24, 18, 28, 8),\n  'geo': None,\n  'id': 1253752603038453762,\n  'retweet_count': 3,\n  'source': 'Twitter Web App',\n  'text': 'RT @Ronald_vanLoon: What To Expect From Generation #AI?\\nby @fede_guerrini @Forbes\\n\\nGo to https://t.co/RAqqrb70O6\\n\\n#IoT #BigData #Artificial…',\n  'in_reply_to_screen_name': None},\n {'_id': ObjectId('5ea32fd587fa0ccd4d29bc97'),\n  'created_at': datetime.datetime(2020, 4, 24, 18, 27, 59),\n  'geo': None,\n  'id': 1253752563897438211,\n  'retweet_count': 3,\n  'source': 'Twitter Web App',\n  'text': 'RT @AMULETAnalytics: The insideBIGDATA IMPACT 50 List for Q2 2020 https://t.co/Utpqb1FmLJ\\n\\n#BigData #DataScience #MachineLearning #AI #Deep…',\n  'in_reply_to_screen_name': None},\n {'_id': ObjectId('5ea32fd587fa0ccd4d29bc98'),\n  'created_at': datetime.datetime(2020, 4, 24, 18, 27, 45),\n  'geo': None,\n  'id': 1253752506238337025,\n  'retweet_count': 24,\n  'source': 'Twitter for Android',\n  'text': 'RT @gp_pulipaka: Introduction to Neural Networks. #BigData #Analytics #DataScience #AI #MachineLearning #IoT #IIoT #PyTorch #Python #RStats…',\n  'in_reply_to_screen_name': None},\n {'_id': ObjectId('5ea32fd587fa0ccd4d29bc99'),\n  'created_at': datetime.datetime(2020, 4, 24, 18, 27, 42),\n  'geo': None,\n  'id': 1253752494263603200,\n  'retweet_count': 15,\n  'source': 'Twitter Web App',\n  'text': 'RT @gp_pulipaka: Best Languages for #DataScience and #Statistics in One Picture. #BigData #Analytics #IoT #IIoT #PyTorch #Python #RStats #T…',\n  'in_reply_to_screen_name': None},\n {'_id': ObjectId('5ea32fd587fa0ccd4d29bc9a'),\n  'created_at': datetime.datetime(2020, 4, 24, 18, 27, 35),\n  'geo': None,\n  'id': 1253752464039436288,\n  'retweet_count': 30,\n  'source': 'Twitter Web App',\n  'text': 'RT @Claire_Harris82: 10 Impacts of #Covid19 on #EmergingTech\\u200b &gt;&gt;&gt; @MikeQuindazzi &gt;&gt;&gt; #AI #BigData #CloudComputing #Robotics #DigitalMarketi…',\n  'in_reply_to_screen_name': None},\n {'_id': ObjectId('5ea32fd587fa0ccd4d29bc9b'),\n  'created_at': datetime.datetime(2020, 4, 24, 18, 27, 29),\n  'geo': None,\n  'id': 1253752438663806976,\n  'retweet_count': 33,\n  'source': 'Twitter Web App',\n  'text': 'RT @antgrasso: The exponential growth of data, fueled by IoT and the use of connected devices, is undisputed. Look at \"One\\xa0Day in Data.\" Li…',\n  'in_reply_to_screen_name': None},\n {'_id': ObjectId('5ea32fd587fa0ccd4d29bc9c'),\n  'created_at': datetime.datetime(2020, 4, 24, 18, 27, 26),\n  'geo': None,\n  'id': 1253752427330908164,\n  'retweet_count': 1,\n  'source': 'Twitter Web App',\n  'text': \"RT @mvollmer1: The exponential effects of #SocialDistancing to slow the #coronavirus, it's in the data by @StatistaCharts \\n\\nMT @MikeQuindaz…\",\n  'in_reply_to_screen_name': None},\n {'_id': ObjectId('5ea32fd587fa0ccd4d29bc9d'),\n  'text': 'HELLO! This is my first update!!'},\n {'_id': ObjectId('5ea3300687fa0ccd4d29bc9e'),\n  'name': 'Steve',\n  'age': 25,\n  'gender': 'Male',\n  'address': {'street': 'Huntington', 'number': 23, 'city': 'Boston'}},\n {'_id': ObjectId('5ea3300687fa0ccd4d29bc9f'),\n  'name': 'Tom',\n  'age': 33,\n  'gender': 'Male',\n  'address': {'street': 'Mass ave', 'number': 44, 'city': 'Boston'}},\n {'_id': ObjectId('5ea33b461989861a99d410b4'),\n  'created_at': datetime.datetime(2020, 4, 24, 19, 17, 17),\n  'geo': None,\n  'id': 1253764969893593088,\n  'retweet_count': 2,\n  'source': 'Twitter Web App',\n  'text': 'RT @sigmaridge: Cisco’s SD-WAN Leadership Recognized by Dell’Oro and by Gartner Peer Insights https://t.co/pmswAD3hz3\\nFor more info: https:…',\n  'in_reply_to_screen_name': None},\n {'_id': ObjectId('5ea33b461989861a99d410b5'),\n  'created_at': datetime.datetime(2020, 4, 24, 19, 17, 2),\n  'geo': None,\n  'id': 1253764908723982342,\n  'retweet_count': 0,\n  'source': 'Twitter Web App',\n  'text': 'Michelle Malkin: #BigData ‘Pulling The Plug’ On Conservatives ‘Who Might Tip The Scales’ In 2020\\nby @BreitbartNews… https://t.co/ZL9LJCKGIZ',\n  'in_reply_to_screen_name': None},\n {'_id': ObjectId('5ea33b461989861a99d410b6'),\n  'created_at': datetime.datetime(2020, 4, 24, 19, 16, 49),\n  'geo': None,\n  'id': 1253764852629278720,\n  'retweet_count': 17,\n  'source': 'Twitter Web App',\n  'text': 'RT @gp_pulipaka: 6 Free Data Science Books. #BigData #Analytics #DataScience #NLProc #IoT #IIoT #PyTorch #Python #RStats #TensorFlow #Java…',\n  'in_reply_to_screen_name': None},\n {'_id': ObjectId('5ea33b461989861a99d410b7'),\n  'created_at': datetime.datetime(2020, 4, 24, 19, 16, 37),\n  'geo': None,\n  'id': 1253764801685327880,\n  'retweet_count': 7,\n  'source': 'Show Finder',\n  'text': 'RT @KirkDBorne: ++...and Explore Hundreds of #DataScience audiobooks to deepen your #DataLiteracy, Data Proficiency, Data Leadership, and D…',\n  'in_reply_to_screen_name': None},\n {'_id': ObjectId('5ea33b461989861a99d410b8'),\n  'created_at': datetime.datetime(2020, 4, 24, 19, 16, 21),\n  'geo': None,\n  'id': 1253764736891662336,\n  'retweet_count': 22,\n  'source': 'Twitter for Android',\n  'text': 'RT @gp_pulipaka: Free eBook: Container Networking: From #Docker to #Kubernetes. #BigData #Analytics #DataScience #AI #MachineLearning #IoT…',\n  'in_reply_to_screen_name': None},\n {'_id': ObjectId('5ea33b461989861a99d410b9'),\n  'created_at': datetime.datetime(2020, 4, 24, 19, 16, 9),\n  'geo': None,\n  'id': 1253764683598790656,\n  'retweet_count': 10,\n  'source': 'Twitter Web App',\n  'text': 'RT @WorldTrendsInfo: 5 ways to save money during a coronavirus lockdown - CNET: #DeepLearning #IoT #BigData cc @motorcycletwitt @mikequinda…',\n  'in_reply_to_screen_name': None},\n {'_id': ObjectId('5ea33b461989861a99d410ba'),\n  'created_at': datetime.datetime(2020, 4, 24, 19, 16, 6),\n  'geo': None,\n  'id': 1253764673964584963,\n  'retweet_count': 1,\n  'source': 'Twitter for Android',\n  'text': 'RT @RichardEudes: Using Adversarial Debiasing to Reduce Model Bias https://t.co/IowPZMHv1d #bigdata, #datascience, #datascience #ds',\n  'in_reply_to_screen_name': None},\n {'_id': ObjectId('5ea33b461989861a99d410bb'),\n  'created_at': datetime.datetime(2020, 4, 24, 19, 16, 5),\n  'geo': None,\n  'id': 1253764669120135168,\n  'retweet_count': 3,\n  'source': 'Twitter for Android',\n  'text': 'RT @KirkDBorne: Smart Communities -- Delivering Intelligent Community Design with #GIS: https://t.co/L0b2lD8W1K by @govloop \\n\\n#SmartCities…',\n  'in_reply_to_screen_name': None},\n {'_id': ObjectId('5ea33b461989861a99d410bc'),\n  'created_at': datetime.datetime(2020, 4, 24, 19, 16, 4),\n  'geo': None,\n  'id': 1253764664183439360,\n  'retweet_count': 24,\n  'source': 'Twitter for iPhone',\n  'text': 'RT @labordeolivier: Driving Success of #DataScience Solutions: Skills, Roles &amp; Responsibilities\\nby @Gartner_inc @Ronald_vanLoon\\n#BigData #A…',\n  'in_reply_to_screen_name': None},\n {'_id': ObjectId('5ea33b461989861a99d410bd'),\n  'created_at': datetime.datetime(2020, 4, 24, 19, 15, 58),\n  'geo': None,\n  'id': 1253764638107451393,\n  'retweet_count': 50,\n  'source': 'Twitter for Android',\n  'text': 'RT @gp_pulipaka: Introduction to Neural Networks. #BigData #Analytics #DataScience #AI #MachineLearning #IoT #IIoT #PyTorch #Python #RStats…',\n  'in_reply_to_screen_name': None},\n {'_id': ObjectId('5ea33b461989861a99d410be'),\n  'age': '7',\n  'gender': 'Male',\n  'address': {'street': 'pennsylvania avenue',\n   'number': '1600',\n   'city': 'Washington DC'},\n  'retweets': 150,\n  'source': 'Twitter from Android',\n  'first_name': 'Not Ashwin'},\n {'_id': ObjectId('5ea33b461989861a99d410bf'),\n  'name': 'Steve',\n  'age': 25,\n  'gender': 'Male',\n  'address': {'street': 'Huntington', 'number': 23, 'city': 'Boston'}},\n {'_id': ObjectId('5ea33b461989861a99d410c0'),\n  'name': 'Tom',\n  'age': 33,\n  'gender': 'Male',\n  'address': {'street': 'Mass ave', 'number': 44, 'city': 'Boston'}},\n {'_id': ObjectId('5ea33b9c1989861a99d410c1'),\n  'created_at': datetime.datetime(2020, 4, 24, 19, 17, 17),\n  'geo': None,\n  'id': 1253764969893593088,\n  'retweet_count': 2,\n  'source': 'Twitter Web App',\n  'text': 'RT @sigmaridge: Cisco’s SD-WAN Leadership Recognized by Dell’Oro and by Gartner Peer Insights https://t.co/pmswAD3hz3\\nFor more info: https:…',\n  'in_reply_to_screen_name': None},\n {'_id': ObjectId('5ea33b9c1989861a99d410c2'),\n  'created_at': datetime.datetime(2020, 4, 24, 19, 17, 2),\n  'geo': None,\n  'id': 1253764908723982342,\n  'retweet_count': 0,\n  'source': 'Twitter Web App',\n  'text': 'Michelle Malkin: #BigData ‘Pulling The Plug’ On Conservatives ‘Who Might Tip The Scales’ In 2020\\nby @BreitbartNews… https://t.co/ZL9LJCKGIZ',\n  'in_reply_to_screen_name': None},\n {'_id': ObjectId('5ea33b9c1989861a99d410c3'),\n  'created_at': datetime.datetime(2020, 4, 24, 19, 16, 49),\n  'geo': None,\n  'id': 1253764852629278720,\n  'retweet_count': 17,\n  'source': 'Twitter Web App',\n  'text': 'RT @gp_pulipaka: 6 Free Data Science Books. #BigData #Analytics #DataScience #NLProc #IoT #IIoT #PyTorch #Python #RStats #TensorFlow #Java…',\n  'in_reply_to_screen_name': None},\n {'_id': ObjectId('5ea33b9c1989861a99d410c4'),\n  'created_at': datetime.datetime(2020, 4, 24, 19, 16, 37),\n  'geo': None,\n  'id': 1253764801685327880,\n  'retweet_count': 7,\n  'source': 'Show Finder',\n  'text': 'RT @KirkDBorne: ++...and Explore Hundreds of #DataScience audiobooks to deepen your #DataLiteracy, Data Proficiency, Data Leadership, and D…',\n  'in_reply_to_screen_name': None},\n {'_id': ObjectId('5ea33b9c1989861a99d410c5'),\n  'created_at': datetime.datetime(2020, 4, 24, 19, 16, 21),\n  'geo': None,\n  'id': 1253764736891662336,\n  'retweet_count': 22,\n  'source': 'Twitter for Android',\n  'text': 'RT @gp_pulipaka: Free eBook: Container Networking: From #Docker to #Kubernetes. #BigData #Analytics #DataScience #AI #MachineLearning #IoT…',\n  'in_reply_to_screen_name': None},\n {'_id': ObjectId('5ea33b9c1989861a99d410c6'),\n  'created_at': datetime.datetime(2020, 4, 24, 19, 16, 9),\n  'geo': None,\n  'id': 1253764683598790656,\n  'retweet_count': 10,\n  'source': 'Twitter Web App',\n  'text': 'RT @WorldTrendsInfo: 5 ways to save money during a coronavirus lockdown - CNET: #DeepLearning #IoT #BigData cc @motorcycletwitt @mikequinda…',\n  'in_reply_to_screen_name': None},\n {'_id': ObjectId('5ea33b9c1989861a99d410c7'),\n  'created_at': datetime.datetime(2020, 4, 24, 19, 16, 6),\n  'geo': None,\n  'id': 1253764673964584963,\n  'retweet_count': 1,\n  'source': 'Twitter for Android',\n  'text': 'RT @RichardEudes: Using Adversarial Debiasing to Reduce Model Bias https://t.co/IowPZMHv1d #bigdata, #datascience, #datascience #ds',\n  'in_reply_to_screen_name': None},\n {'_id': ObjectId('5ea33b9c1989861a99d410c8'),\n  'created_at': datetime.datetime(2020, 4, 24, 19, 16, 5),\n  'geo': None,\n  'id': 1253764669120135168,\n  'retweet_count': 3,\n  'source': 'Twitter for Android',\n  'text': 'RT @KirkDBorne: Smart Communities -- Delivering Intelligent Community Design with #GIS: https://t.co/L0b2lD8W1K by @govloop \\n\\n#SmartCities…',\n  'in_reply_to_screen_name': None},\n {'_id': ObjectId('5ea33b9c1989861a99d410c9'),\n  'created_at': datetime.datetime(2020, 4, 24, 19, 16, 4),\n  'geo': None,\n  'id': 1253764664183439360,\n  'retweet_count': 24,\n  'source': 'Twitter for iPhone',\n  'text': 'RT @labordeolivier: Driving Success of #DataScience Solutions: Skills, Roles &amp; Responsibilities\\nby @Gartner_inc @Ronald_vanLoon\\n#BigData #A…',\n  'in_reply_to_screen_name': None},\n {'_id': ObjectId('5ea33b9c1989861a99d410ca'),\n  'created_at': datetime.datetime(2020, 4, 24, 19, 15, 58),\n  'geo': None,\n  'id': 1253764638107451393,\n  'retweet_count': 50,\n  'source': 'Twitter for Android',\n  'text': 'RT @gp_pulipaka: Introduction to Neural Networks. #BigData #Analytics #DataScience #AI #MachineLearning #IoT #IIoT #PyTorch #Python #RStats…',\n  'in_reply_to_screen_name': None},\n {'_id': ObjectId('5ea33e5f1989861a99d410cd'),\n  'created_at': datetime.datetime(2020, 4, 24, 19, 30, 16),\n  'geo': None,\n  'id': 1253768238426656769,\n  'retweet_count': 0,\n  'source': 'Hootsuite Inc.',\n  'text': 'RT @HarbRimah: MIT has developed #AI that helps #Robots learn to do household chores\\n\\n#ArtificialIntelligence #ML… https://t.co/iGFX6qCe6L',\n  'in_reply_to_screen_name': None},\n {'_id': ObjectId('5ea33e5f1989861a99d410ce'),\n  'created_at': datetime.datetime(2020, 4, 24, 19, 30, 13),\n  'geo': None,\n  'id': 1253768226397474818,\n  'retweet_count': 0,\n  'source': 'mLabs - Gestão de Redes Sociais',\n  'text': 'Sexta feira é dia de #hackdodia! Conhece Google Trends? É uma ferramenta gratuita para pesquisar a evolução de pesq… https://t.co/HGx2SpLrpd',\n  'in_reply_to_screen_name': None},\n {'_id': ObjectId('5ea33e5f1989861a99d410cf'),\n  'created_at': datetime.datetime(2020, 4, 24, 19, 30, 7),\n  'geo': None,\n  'id': 1253768199180636160,\n  'retweet_count': 0,\n  'source': 'Twitter for iPhone',\n  'text': '@CELOTOR en #ganado #Angus puro registrado #productividad en #smscelotor #iot #bigdata @colproductiva @InnpulsaCol… https://t.co/83UviUiEpo',\n  'in_reply_to_screen_name': 'CELOTOR'},\n {'_id': ObjectId('5ea33e5f1989861a99d410d0'),\n  'created_at': datetime.datetime(2020, 4, 24, 19, 30, 5),\n  'geo': None,\n  'id': 1253768190712307714,\n  'retweet_count': 10,\n  'source': 'TwinyBots',\n  'text': 'RT @KirkDBorne: Smart Communities -- Delivering Intelligent Community Design with #GIS: https://t.co/L0b2lD8W1K by @govloop \\n\\n#SmartCities…',\n  'in_reply_to_screen_name': None},\n {'_id': ObjectId('5ea33e5f1989861a99d410d1'),\n  'created_at': datetime.datetime(2020, 4, 24, 19, 30, 4),\n  'geo': None,\n  'id': 1253768187281358858,\n  'retweet_count': 0,\n  'source': 'IoT BigData Jobs',\n  'text': 'Believe in yourself... you are great =&gt; Sr. Data Analyst https://t.co/rUFkh0vNVH #bigdata #iot #analytics #ai https://t.co/lB6cNfOMyw',\n  'in_reply_to_screen_name': None},\n {'_id': ObjectId('5ea33e5f1989861a99d410d2'),\n  'text': 'HELLO! This is my first update!!'},\n {'_id': ObjectId('5ea33e5f1989861a99d410d3'),\n  'name': 'Steve',\n  'age': 25,\n  'gender': 'Male',\n  'address': {'street': 'Huntington', 'number': 23, 'city': 'Boston'}},\n {'_id': ObjectId('5ea33e5f1989861a99d410d4'),\n  'name': 'Tom',\n  'age': 33,\n  'gender': 'Male',\n  'address': {'street': 'Mass ave', 'number': 44, 'city': 'Boston'}},\n {'_id': ObjectId('5ea342dc9bd883a00ede7085'),\n  'created_at': datetime.datetime(2020, 4, 24, 19, 49, 37),\n  'geo': None,\n  'id': 1253773107581661184,\n  'retweet_count': 46,\n  'source': 'Twitter for Android',\n  'text': 'RT @gp_pulipaka: R Code to Accompany Real-World #MachineLearning (Chapters 2-4 Updates). #BigData #Analytics #DataScience #AI #IoT #IIoT #P…',\n  'in_reply_to_screen_name': None},\n {'_id': ObjectId('5ea342dc9bd883a00ede7086'),\n  'created_at': datetime.datetime(2020, 4, 24, 19, 49, 33),\n  'geo': None,\n  'id': 1253773092008136705,\n  'retweet_count': 93,\n  'source': 'Twitter for iPhone',\n  'text': 'RT @CEO_AISOMA: Data is the Fuel for AI: Data Collection Methods for #MachineLearning &amp; #DeepLearning\\n\\nmore slides 👉 https://t.co/AQYQKFBP9…',\n  'in_reply_to_screen_name': None},\n {'_id': ObjectId('5ea342dc9bd883a00ede7087'),\n  'created_at': datetime.datetime(2020, 4, 24, 19, 49, 28),\n  'geo': None,\n  'id': 1253773068239020032,\n  'retweet_count': 0,\n  'source': 'Twitter Web App',\n  'text': '@peekodesigno\\nSpooky! Become anyone in your Skype calls with this #AI tool \\nhttps://t.co/sXzecIOew6 \\n#Robotics… https://t.co/XDBe8nkKNh',\n  'in_reply_to_screen_name': 'peekodesigno'},\n {'_id': ObjectId('5ea342dc9bd883a00ede7088'),\n  'created_at': datetime.datetime(2020, 4, 24, 19, 49, 26),\n  'geo': None,\n  'id': 1253773063012978688,\n  'retweet_count': 15,\n  'source': 'Twitter for Android',\n  'text': 'RT @gp_pulipaka: A Brief Introduction to Neural Networks. #BigData #Analytics #DataScience #AI #MachineLearning #IoT #IIoT #Python #RStats…',\n  'in_reply_to_screen_name': None},\n {'_id': ObjectId('5ea342dc9bd883a00ede7089'),\n  'created_at': datetime.datetime(2020, 4, 24, 19, 49, 24),\n  'geo': None,\n  'id': 1253773051772141570,\n  'retweet_count': 0,\n  'source': 'Twitter Web App',\n  'text': 'Hoy más que nunca hay que brindar excelencia a nuestros clientes y aliados estratégicos. Agenda una videoconferenci… https://t.co/7d7yNQYUuP',\n  'in_reply_to_screen_name': None},\n {'_id': ObjectId('5ea342dc9bd883a00ede708a'),\n  'created_at': datetime.datetime(2020, 4, 24, 19, 49, 17),\n  'geo': None,\n  'id': 1253773025805123584,\n  'retweet_count': 15,\n  'source': 'LinuxBot2.0',\n  'text': 'RT @gp_pulipaka: A Brief Introduction to Neural Networks. #BigData #Analytics #DataScience #AI #MachineLearning #IoT #IIoT #Python #RStats…',\n  'in_reply_to_screen_name': None},\n {'_id': ObjectId('5ea342dc9bd883a00ede708b'),\n  'created_at': datetime.datetime(2020, 4, 24, 19, 49, 13),\n  'geo': None,\n  'id': 1253773008436695042,\n  'retweet_count': 7,\n  'source': 'Twitter for iPhone',\n  'text': \"RT @GPAinsights: Thank you @OntarioCofC for a great webinar on #bigdata's role in #covid19 economic recovery. https://t.co/V86p46g5Bs\",\n  'in_reply_to_screen_name': None},\n {'_id': ObjectId('5ea342dc9bd883a00ede708c'),\n  'created_at': datetime.datetime(2020, 4, 24, 19, 49, 9),\n  'geo': None,\n  'id': 1253772990896123907,\n  'retweet_count': 15,\n  'source': 'React Dev autobot',\n  'text': 'RT @gp_pulipaka: A Brief Introduction to Neural Networks. #BigData #Analytics #DataScience #AI #MachineLearning #IoT #IIoT #Python #RStats…',\n  'in_reply_to_screen_name': None},\n {'_id': ObjectId('5ea342dc9bd883a00ede708d'),\n  'created_at': datetime.datetime(2020, 4, 24, 19, 49, 4),\n  'geo': None,\n  'id': 1253772968867631110,\n  'retweet_count': 87,\n  'source': 'xael bot',\n  'text': 'RT @CEO_AISOMA: Artificial Intelligence in Healthcare - Promising Progress (Best Use Cases)\\n\\n#AI #MachineLearning #Healthcare #HealthTech #…',\n  'in_reply_to_screen_name': None},\n {'_id': ObjectId('5ea342dc9bd883a00ede708e'),\n  'created_at': datetime.datetime(2020, 4, 24, 19, 49, 4),\n  'geo': None,\n  'id': 1253772967525433344,\n  'retweet_count': 15,\n  'source': 'RTML',\n  'text': 'RT @gp_pulipaka: A Brief Introduction to Neural Networks. #BigData #Analytics #DataScience #AI #MachineLearning #IoT #IIoT #Python #RStats…',\n  'in_reply_to_screen_name': None},\n {'_id': ObjectId('5ea342dc9bd883a00ede708f'),\n  'age': '7',\n  'gender': 'Male',\n  'address': {'street': 'pennsylvania avenue',\n   'number': '1600',\n   'city': 'Washington DC'},\n  'retweets': 150,\n  'source': 'Twitter from Android',\n  'first_name': 'Not Ashwin'},\n {'_id': ObjectId('5ea342dc9bd883a00ede7090'),\n  'name': 'Steve',\n  'age': 25,\n  'gender': 'Male',\n  'address': {'street': 'Huntington', 'number': 23, 'city': 'Boston'}},\n {'_id': ObjectId('5ea342dc9bd883a00ede7091'),\n  'name': 'Tom',\n  'age': 33,\n  'gender': 'Male',\n  'address': {'street': 'Mass ave', 'number': 44, 'city': 'Boston'}},\n {'_id': ObjectId('5ea34ac878470fafbce7aa11'),\n  'created_at': datetime.datetime(2020, 4, 24, 20, 23, 33),\n  'geo': None,\n  'id': 1253781647847194626,\n  'retweet_count': 101,\n  'source': 'ProjectLearn.io',\n  'text': 'RT @CEO_AISOMA: Data is the Fuel for AI: Data Collection Methods for #MachineLearning &amp; #DeepLearning\\n\\nmore slides 👉 https://t.co/AQYQKFBP9…',\n  'in_reply_to_screen_name': None},\n {'_id': ObjectId('5ea34ac878470fafbce7aa12'),\n  'created_at': datetime.datetime(2020, 4, 24, 20, 23, 11),\n  'geo': None,\n  'id': 1253781554305867784,\n  'retweet_count': 24,\n  'source': 'Twitter Web App',\n  'text': \"RT @_asifbhat_: This robot's movements are based on snakes  #ArtificialIntelligence #AI #Robotics #datascience #machinelearning  #deeplearn…\",\n  'in_reply_to_screen_name': None},\n {'_id': ObjectId('5ea34ac878470fafbce7aa13'),\n  'created_at': datetime.datetime(2020, 4, 24, 20, 22, 47),\n  'geo': None,\n  'id': 1253781454653239296,\n  'retweet_count': 54,\n  'source': 'Twitter Web App',\n  'text': 'RT @EchoFintech: Dataviz : If 100 people lived on earth!\\n\\n#AI #MachineLearning #BigData #dataviz HT @jblefevre60\\n\\n@gvalan @lesguer_lionel @…',\n  'in_reply_to_screen_name': None},\n {'_id': ObjectId('5ea34ac878470fafbce7aa14'),\n  'created_at': datetime.datetime(2020, 4, 24, 20, 22, 44),\n  'geo': None,\n  'id': 1253781441818705926,\n  'retweet_count': 29,\n  'source': 'javascriptdigest2',\n  'text': 'RT @gp_pulipaka: #Kubernetes Cheat Sheet. #BigData #Analytics #DataScience #AI #MachineLearning #IoT #IIoT #PyTorch #Python #RStats #Tensor…',\n  'in_reply_to_screen_name': None},\n {'_id': ObjectId('5ea34ac878470fafbce7aa15'),\n  'created_at': datetime.datetime(2020, 4, 24, 20, 22, 29),\n  'geo': None,\n  'id': 1253781378707193859,\n  'retweet_count': 6,\n  'source': 'hubofml',\n  'text': 'RT @KirkDBorne: The Potential of Empathetic #AI: https://t.co/77rruwUKdn by @Pega\\n\\n#CX #CXM #CustomerJourney #ExperienceEconomy #BigData #D…',\n  'in_reply_to_screen_name': None},\n {'_id': ObjectId('5ea34ac878470fafbce7aa16'),\n  'created_at': datetime.datetime(2020, 4, 24, 20, 22, 24),\n  'geo': None,\n  'id': 1253781356699623425,\n  'retweet_count': 6,\n  'source': 'Mobile Web (M2)',\n  'text': 'RT @KirkDBorne: The Potential of Empathetic #AI: https://t.co/77rruwUKdn by @Pega\\n\\n#CX #CXM #CustomerJourney #ExperienceEconomy #BigData #D…',\n  'in_reply_to_screen_name': None},\n {'_id': ObjectId('5ea34ac878470fafbce7aa17'),\n  'created_at': datetime.datetime(2020, 4, 24, 20, 22, 6),\n  'geo': None,\n  'id': 1253781280774402049,\n  'retweet_count': 0,\n  'source': 'Social Media Publisher App ',\n  'text': 'Dependency on digital connectivity is real – do you know what remains vital to grow our connected world?… https://t.co/iAw1uTWMEZ',\n  'in_reply_to_screen_name': None},\n {'_id': ObjectId('5ea34ac878470fafbce7aa18'),\n  'created_at': datetime.datetime(2020, 4, 24, 20, 21, 51),\n  'geo': None,\n  'id': 1253781219663392770,\n  'retweet_count': 2,\n  'source': 'Mobile Web (M2)',\n  'text': 'RT @freshsalis: MikeQuindazzi: RT chboursin: The future of retail? Autonomous check-out combines with #AR &gt;&gt;&gt; MikeQuindazzi &gt;&gt;&gt; #AI #BigDat…',\n  'in_reply_to_screen_name': None},\n {'_id': ObjectId('5ea34ac878470fafbce7aa19'),\n  'created_at': datetime.datetime(2020, 4, 24, 20, 21, 49),\n  'geo': None,\n  'id': 1253781209223778304,\n  'retweet_count': 37,\n  'source': 'Twitter for Android',\n  'text': 'RT @gp_pulipaka: Dplyr: A grammar of Data Manipulation - Cheat Sheet. #BigData #Analytics #DataScience #AI #MachineLearning #IoT #IIoT #Pyt…',\n  'in_reply_to_screen_name': None},\n {'_id': ObjectId('5ea34ac878470fafbce7aa1a'),\n  'created_at': datetime.datetime(2020, 4, 24, 20, 21, 45),\n  'geo': None,\n  'id': 1253781194786910209,\n  'retweet_count': 2,\n  'source': 'TheBigDataBot',\n  'text': 'RT @WarOnPrivacy: UK Gov looking toward the next stage of Snooper Charter expansion - \\n\\n- gifting the ability to spy on citizens (not suspe…',\n  'in_reply_to_screen_name': None},\n {'_id': ObjectId('5ea34ac878470fafbce7aa1b'),\n  'text': 'HELLO! This is my first update!!'},\n {'_id': ObjectId('5ea34ac878470fafbce7aa1c'),\n  'name': 'Steve',\n  'age': 25,\n  'gender': 'Male',\n  'address': {'street': 'Huntington', 'number': 23, 'city': 'Boston'}},\n {'_id': ObjectId('5ea34ac878470fafbce7aa1d'),\n  'name': 'Tom',\n  'age': 33,\n  'gender': 'Male',\n  'address': {'street': 'Mass ave', 'number': 44, 'city': 'Boston'}},\n {'_id': ObjectId('5ea34b2178470fafbce7aa20'),\n  'created_at': datetime.datetime(2020, 4, 24, 20, 24, 47),\n  'geo': None,\n  'id': 1253781956367544320,\n  'retweet_count': 1,\n  'source': 'Twitter Web App',\n  'text': 'RT @5stocksinto: 5 Indian Stocks Into Cosmetics https://t.co/6H0ntEzrej #Indian #Beauty #Stocks #Investment #Cosmetics #Makeup #Lipstick #M…',\n  'in_reply_to_screen_name': None},\n {'_id': ObjectId('5ea34b2178470fafbce7aa21'),\n  'created_at': datetime.datetime(2020, 4, 24, 20, 24, 40),\n  'geo': None,\n  'id': 1253781928320196608,\n  'retweet_count': 4,\n  'source': 'Twitter Web App',\n  'text': 'RT @5stocksinto: 5 Chinese Stocks Into Solar Cells https://t.co/ByGnX0N3us #China #Technology #Stocks #Solarcells #Photovoltaic #Semiconduc…',\n  'in_reply_to_screen_name': None},\n {'_id': ObjectId('5ea34b2178470fafbce7aa22'),\n  'created_at': datetime.datetime(2020, 4, 24, 20, 24, 34),\n  'geo': None,\n  'id': 1253781903489921024,\n  'retweet_count': 5,\n  'source': 'Twitter Web App',\n  'text': 'RT @5stocksinto: 5 Aussie Stocks Into Mineral Sands https://t.co/gU7vF45tj3 #Australia #Mining #Stocks #Investment #Mineralsands #Minerals…',\n  'in_reply_to_screen_name': None},\n {'_id': ObjectId('5ea34b2178470fafbce7aa23'),\n  'created_at': datetime.datetime(2020, 4, 24, 20, 24, 30),\n  'geo': None,\n  'id': 1253781885479718912,\n  'retweet_count': 47,\n  'source': 'Twitter Web App',\n  'text': 'RT @antgrasso: The exponential growth of data, fueled by IoT and the use of connected devices, is undisputed. Look at \"One\\xa0Day in Data.\" Li…',\n  'in_reply_to_screen_name': None},\n {'_id': ObjectId('5ea34b2178470fafbce7aa24'),\n  'created_at': datetime.datetime(2020, 4, 24, 20, 24, 14),\n  'geo': None,\n  'id': 1253781818328911872,\n  'retweet_count': 16,\n  'source': 'Twitter for Android',\n  'text': 'RT @SystemSoft_Tech: Why Your Software Solutions Will Fail If Your Developers Aren’t Aligned https://t.co/VKsHH5bywr @Lendio #bigdata #andr…',\n  'in_reply_to_screen_name': None},\n {'_id': ObjectId('5ea34b2178470fafbce7aa25'),\n  'created_at': datetime.datetime(2020, 4, 24, 20, 24, 12),\n  'geo': None,\n  'id': 1253781809663524867,\n  'retweet_count': 14,\n  'source': 'Twitter for Android',\n  'text': 'RT @LaForge_AI: Les 25 Technologies Qui Vont Booster L’Economie Post Confinement\\n\\n#IA #IoT #BigData #digitaltwin\\nhttps://t.co/QZtNshLEcz ht…',\n  'in_reply_to_screen_name': None},\n {'_id': ObjectId('5ea34b2178470fafbce7aa26'),\n  'created_at': datetime.datetime(2020, 4, 24, 20, 24, 7),\n  'geo': None,\n  'id': 1253781791602692096,\n  'retweet_count': 38,\n  'source': 'javascriptdigest2',\n  'text': 'RT @gp_pulipaka: Free eBook: Container Networking: From #Docker to #Kubernetes. #BigData #Analytics #DataScience #AI #MachineLearning #IoT…',\n  'in_reply_to_screen_name': None},\n {'_id': ObjectId('5ea34b2178470fafbce7aa27'),\n  'created_at': datetime.datetime(2020, 4, 24, 20, 24, 3),\n  'geo': None,\n  'id': 1253781771415482369,\n  'retweet_count': 30,\n  'source': 'Microsoft Azure Logic Apps',\n  'text': 'RT @gp_pulipaka: #Kubernetes Cheat Sheet. #BigData #Analytics #DataScience #AI #MachineLearning #IoT #IIoT #PyTorch #Python #RStats #Tensor…',\n  'in_reply_to_screen_name': None},\n {'_id': ObjectId('5ea34b2178470fafbce7aa28'),\n  'created_at': datetime.datetime(2020, 4, 24, 20, 24, 1),\n  'geo': None,\n  'id': 1253781766692839425,\n  'retweet_count': 75,\n  'source': 'Twitter for Android',\n  'text': 'RT @gp_pulipaka: #MachineLearning Course #Jupyter Notebooks Worth $1999 are Now Free. #BigData #Analytics #DataScience #AI #MachineLearning…',\n  'in_reply_to_screen_name': None},\n {'_id': ObjectId('5ea34b2178470fafbce7aa29'),\n  'created_at': datetime.datetime(2020, 4, 24, 20, 23, 56),\n  'geo': None,\n  'id': 1253781743510843392,\n  'retweet_count': 29,\n  'source': 'Twitter for Android',\n  'text': 'RT @gp_pulipaka: A Brief Introduction to Neural Networks. #BigData #Analytics #DataScience #AI #MachineLearning #IoT #IIoT #Python #RStats…',\n  'in_reply_to_screen_name': None},\n {'_id': ObjectId('5ea34b2178470fafbce7aa2a'),\n  'age': '7',\n  'gender': 'Male',\n  'address': {'street': 'pennsylvania avenue',\n   'number': '1600',\n   'city': 'Washington DC'},\n  'retweets': 150,\n  'source': 'Twitter from Android',\n  'first_name': 'Not Ashwin'},\n {'_id': ObjectId('5ea34b2178470fafbce7aa2b'),\n  'name': 'Steve',\n  'age': 25,\n  'gender': 'Male',\n  'address': {'street': 'Huntington', 'number': 23, 'city': 'Boston'}},\n {'_id': ObjectId('5ea34b2178470fafbce7aa2c'),\n  'name': 'Tom',\n  'age': 33,\n  'gender': 'Male',\n  'address': {'street': 'Mass ave', 'number': 44, 'city': 'Boston'}},\n {'_id': ObjectId('5ea3590f59505cd04417c8a1'),\n  'created_at': datetime.datetime(2020, 4, 24, 21, 24, 22),\n  'geo': None,\n  'id': 1253796950492827650,\n  'retweet_count': 0,\n  'source': 'Twitter Web App',\n  'text': '#Fridayreads @AiThority Interview with Rohan Chandran, CPO at Infogroup https://t.co/32gClfjFil #marketing #BigData #AI',\n  'in_reply_to_screen_name': None},\n {'_id': ObjectId('5ea3590f59505cd04417c8a2'),\n  'created_at': datetime.datetime(2020, 4, 24, 21, 24, 15),\n  'geo': None,\n  'id': 1253796921279479810,\n  'retweet_count': 36,\n  'source': 'Twitter for iPhone',\n  'text': 'RT @HaroldSinnott: #Robots &amp; #humans performing the most intricate of operations\\n@MikeQuindazzi #Robotics #HealthTech #AI #HealthCare #IoT…',\n  'in_reply_to_screen_name': None},\n {'_id': ObjectId('5ea3590f59505cd04417c8a3'),\n  'created_at': datetime.datetime(2020, 4, 24, 21, 24, 12),\n  'geo': None,\n  'id': 1253796909824782343,\n  'retweet_count': 0,\n  'source': 'CoSchedule',\n  'text': 'Check out our latest post and make sure to share it with your followers! \\n\\n||  #IoT #InternetOfThings #BigData #AI… https://t.co/K6ml5Jv7S1',\n  'in_reply_to_screen_name': None},\n {'_id': ObjectId('5ea3590f59505cd04417c8a4'),\n  'created_at': datetime.datetime(2020, 4, 24, 21, 23, 52),\n  'geo': None,\n  'id': 1253796828174319616,\n  'retweet_count': 49,\n  'source': 'ProjectLearn.io',\n  'text': 'RT @gp_pulipaka: 6 Free Data Science Books. #BigData #Analytics #DataScience #NLProc #IoT #IIoT #PyTorch #Python #RStats #TensorFlow #Java…',\n  'in_reply_to_screen_name': None},\n {'_id': ObjectId('5ea3590f59505cd04417c8a5'),\n  'created_at': datetime.datetime(2020, 4, 24, 21, 23, 34),\n  'geo': None,\n  'id': 1253796749543641088,\n  'retweet_count': 79,\n  'source': 'Twitter for Android',\n  'text': 'RT @gp_pulipaka: Must-Read Free #Books For #DataScientists in 2020. #BigData #Analytics #DataScience #IoT #IIoT #Python #RStats #TensorFlow…',\n  'in_reply_to_screen_name': None},\n {'_id': ObjectId('5ea3590f59505cd04417c8a6'),\n  'created_at': datetime.datetime(2020, 4, 24, 21, 23, 29),\n  'geo': None,\n  'id': 1253796729545261062,\n  'retweet_count': 34,\n  'source': 'xael bot',\n  'text': 'RT @dayus4heaven: Python framework for Data Science. \\n#WebDev #BigData #Analytics #DataScience #CyberSecurity #IoT #IIoT #PyTorch #Python #…',\n  'in_reply_to_screen_name': None},\n {'_id': ObjectId('5ea3590f59505cd04417c8a7'),\n  'created_at': datetime.datetime(2020, 4, 24, 21, 23, 16),\n  'geo': None,\n  'id': 1253796676801826816,\n  'retweet_count': 34,\n  'source': 'Twitter for Android',\n  'text': 'RT @dayus4heaven: Python framework for Data Science. \\n#WebDev #BigData #Analytics #DataScience #CyberSecurity #IoT #IIoT #PyTorch #Python #…',\n  'in_reply_to_screen_name': None},\n {'_id': ObjectId('5ea3590f59505cd04417c8a8'),\n  'created_at': datetime.datetime(2020, 4, 24, 21, 23),\n  'geo': None,\n  'id': 1253796609399422978,\n  'retweet_count': 4,\n  'source': 'Twitter Web App',\n  'text': 'RT @AISydneyEvents: Sydney Neuroimaging Analysis Centre (SNAC) is using artificial intelligence to help speed up brain scan analysis for cl…',\n  'in_reply_to_screen_name': None},\n {'_id': ObjectId('5ea3590f59505cd04417c8a9'),\n  'created_at': datetime.datetime(2020, 4, 24, 21, 22, 44),\n  'geo': None,\n  'id': 1253796542093410305,\n  'retweet_count': 0,\n  'source': 'gfaccord-Tweeter1',\n  'text': 'Get the latest #news on the linkedin page of  @gfaccord #bigdata &amp; #AI powered #global #business  #consulting… https://t.co/xKBUaGhyGJ',\n  'in_reply_to_screen_name': None},\n {'_id': ObjectId('5ea3590f59505cd04417c8aa'),\n  'created_at': datetime.datetime(2020, 4, 24, 21, 22, 44),\n  'geo': None,\n  'id': 1253796540944130048,\n  'retweet_count': 9,\n  'source': 'Twitter for iPhone',\n  'text': \"RT @GPAinsights: Thank you @OntarioCofC for a great webinar on #bigdata's role in #covid19 economic recovery. https://t.co/V86p46g5Bs\",\n  'in_reply_to_screen_name': None},\n {'_id': ObjectId('5ea3590f59505cd04417c8ab'),\n  'text': 'HELLO! This is my first update!!'},\n {'_id': ObjectId('5ea3590f59505cd04417c8ac'),\n  'name': 'Steve',\n  'age': 25,\n  'gender': 'Male',\n  'address': {'street': 'Huntington', 'number': 23, 'city': 'Boston'}},\n {'_id': ObjectId('5ea3590f59505cd04417c8ad'),\n  'name': 'Tom',\n  'age': 33,\n  'gender': 'Male',\n  'address': {'street': 'Mass ave', 'number': 44, 'city': 'Boston'}},\n {'_id': ObjectId('5ea35a1b59505cd04417c8ae'),\n  'age': '7',\n  'gender': 'Male',\n  'address': {'street': 'pennsylvania avenue',\n   'number': '1600',\n   'city': 'Washington DC'},\n  'retweets': 150,\n  'source': 'Twitter from Android',\n  'first_name': 'Not Ashwin',\n  'likes': ['nature', 'music', 'video games']},\n {'_id': ObjectId('5ea35bc759505cd04417c8b1'),\n  'created_at': datetime.datetime(2020, 4, 24, 21, 35, 41),\n  'geo': None,\n  'id': 1253799798932738053,\n  'retweet_count': 9,\n  'source': 'Twitter for Android',\n  'text': 'RT @Ronald_vanLoon: Gentle Dive Into #Math Behind Convolutional #NeuralNetworks\\nby @PiotrSkalski92 @TDataScience #Medium\\n\\nLearn more https:…',\n  'in_reply_to_screen_name': None},\n {'_id': ObjectId('5ea35bc759505cd04417c8b2'),\n  'created_at': datetime.datetime(2020, 4, 24, 21, 35, 31),\n  'geo': None,\n  'id': 1253799758587723776,\n  'retweet_count': 55,\n  'source': 'Twitter Web App',\n  'text': 'RT @antgrasso: The exponential growth of data, fueled by IoT and the use of connected devices, is undisputed. Look at \"One\\xa0Day in Data.\" Li…',\n  'in_reply_to_screen_name': None},\n {'_id': ObjectId('5ea35bc759505cd04417c8b3'),\n  'created_at': datetime.datetime(2020, 4, 24, 21, 35, 2),\n  'geo': None,\n  'id': 1253799635174535175,\n  'retweet_count': 19,\n  'source': 'Twitter for Android',\n  'text': 'RT @SystemSoft_Tech: Why Your Software Solutions Will Fail If Your Developers Aren’t Aligned https://t.co/VKsHH5bywr @Lendio #bigdata #andr…',\n  'in_reply_to_screen_name': None},\n {'_id': ObjectId('5ea35bc759505cd04417c8b4'),\n  'created_at': datetime.datetime(2020, 4, 24, 21, 35),\n  'geo': None,\n  'id': 1253799626215489538,\n  'retweet_count': 16,\n  'source': 'Twitter for Android',\n  'text': 'RT @ingliguori: The #UI to the #Digital world is becoming more ubiquitous #Internet via @MikeQuindazzi\\n#AI #AR #VR #CloudComputing #SaaS #I…',\n  'in_reply_to_screen_name': None},\n {'_id': ObjectId('5ea35bc759505cd04417c8b5'),\n  'created_at': datetime.datetime(2020, 4, 24, 21, 34, 29),\n  'geo': None,\n  'id': 1253799497857208321,\n  'retweet_count': 0,\n  'source': 'CoSchedule',\n  'text': 'Check out our latest post and make sure to share it with your followers! ||  #IoT #InternetOfThings #BigData #AI… https://t.co/xIwCQrD1Mi',\n  'in_reply_to_screen_name': None},\n {'_id': ObjectId('5ea35bc759505cd04417c8b6'),\n  'created_at': datetime.datetime(2020, 4, 24, 21, 34, 18),\n  'geo': None,\n  'id': 1253799451954642944,\n  'retweet_count': 0,\n  'source': 'IAMBLOG2TWITTER',\n  'text': 'Inslee: This administration ignores science – CNN Video \\n\\nREAD MORE: https://t.co/s24yU9sIdZ\\n\\n#Art #Astronomy… https://t.co/o0kgibEY4f',\n  'in_reply_to_screen_name': None},\n {'_id': ObjectId('5ea35bc759505cd04417c8b7'),\n  'created_at': datetime.datetime(2020, 4, 24, 21, 34, 10),\n  'geo': None,\n  'id': 1253799419587317769,\n  'retweet_count': 38,\n  'source': 'Twitter for iPhone',\n  'text': 'RT @dayus4heaven: Python framework for Data Science. \\n#WebDev #BigData #Analytics #DataScience #CyberSecurity #IoT #IIoT #PyTorch #Python #…',\n  'in_reply_to_screen_name': None},\n {'_id': ObjectId('5ea35bc759505cd04417c8b8'),\n  'created_at': datetime.datetime(2020, 4, 24, 21, 34, 6),\n  'geo': None,\n  'id': 1253799403451604993,\n  'retweet_count': 0,\n  'source': 'DataScienceInfo',\n  'text': 'A new role in data science: the data science architect https://t.co/luqLE1iwti #bigdata',\n  'in_reply_to_screen_name': None},\n {'_id': ObjectId('5ea35bc759505cd04417c8b9'),\n  'created_at': datetime.datetime(2020, 4, 24, 21, 33, 43),\n  'geo': None,\n  'id': 1253799304122241025,\n  'retweet_count': 170,\n  'source': 'Twitter Web App',\n  'text': 'RT @MrDataScience: How do people spend their time throughout the day? Great #DataViz to show with colored dots!\\n#DataScience #BigData #Anal…',\n  'in_reply_to_screen_name': None},\n {'_id': ObjectId('5ea35bc759505cd04417c8ba'),\n  'created_at': datetime.datetime(2020, 4, 24, 21, 33, 26),\n  'geo': None,\n  'id': 1253799235335708674,\n  'retweet_count': 0,\n  'source': 'LinkedIn',\n  'text': \"Lieto di aver partecipato al percorso formativo di Università degli Studi di Pavia.\\nGrazie per l'invito ad Alberto… https://t.co/xufTUvDomj\",\n  'in_reply_to_screen_name': None},\n {'_id': ObjectId('5ea35bc759505cd04417c8bb'),\n  'name': 'Ashwin',\n  'age': '7',\n  'gender': 'Male',\n  'address': {'street': 'pennsylvania avenue',\n   'number': '1600',\n   'city': 'Washington DC'}},\n {'_id': ObjectId('5ea35bc759505cd04417c8bc'),\n  'name': 'Steve',\n  'age': 25,\n  'gender': 'Male',\n  'address': {'street': 'Huntington', 'number': 23, 'city': 'Boston'}},\n {'_id': ObjectId('5ea35bc759505cd04417c8bd'),\n  'name': 'Tom',\n  'age': 33,\n  'gender': 'Male',\n  'address': {'street': 'Mass ave', 'number': 44, 'city': 'Boston'}},\n {'_id': ObjectId('5ea373c2aac5c1070763335a'),\n  'created_at': datetime.datetime(2020, 4, 24, 23, 18, 22),\n  'geo': None,\n  'id': 1253825641364979718,\n  'retweet_count': 6,\n  'source': 'hubofml',\n  'text': 'RT @KirkDBorne: #SmartCities and their Components in the #IoT Era: https://t.co/MPVvTwDS8X\\n——————\\n#BigData #DataScience #EdgeAnalytics #IIo…',\n  'in_reply_to_screen_name': None},\n {'_id': ObjectId('5ea373c2aac5c1070763335b'),\n  'created_at': datetime.datetime(2020, 4, 24, 23, 18, 17),\n  'geo': None,\n  'id': 1253825619433046016,\n  'retweet_count': 6,\n  'source': 'LoraCommunity_Schnittstelle',\n  'text': 'RT @KirkDBorne: #SmartCities and their Components in the #IoT Era: https://t.co/MPVvTwDS8X\\n——————\\n#BigData #DataScience #EdgeAnalytics #IIo…',\n  'in_reply_to_screen_name': None},\n {'_id': ObjectId('5ea373c2aac5c1070763335c'),\n  'created_at': datetime.datetime(2020, 4, 24, 23, 18, 9),\n  'geo': None,\n  'id': 1253825585668857857,\n  'retweet_count': 0,\n  'source': 'IAMBLOG2TWITTER',\n  'text': 'Internet of Things in Retail Market Report, 2020 – Integrated IoT Solution to Open New Revenue Streams \\n\\nREAD MORE:… https://t.co/TLo8a8oied',\n  'in_reply_to_screen_name': None},\n {'_id': ObjectId('5ea373c2aac5c1070763335d'),\n  'created_at': datetime.datetime(2020, 4, 24, 23, 18),\n  'geo': None,\n  'id': 1253825549505572870,\n  'retweet_count': 10,\n  'source': 'Twiny3',\n  'text': 'RT @GavLaaaaaaaa: Even Faster Math Functions https://t.co/cMF9LHm0h3 #programming #softwareengineering #bigdata #datascience #analytics #ai…',\n  'in_reply_to_screen_name': None},\n {'_id': ObjectId('5ea373c2aac5c1070763335e'),\n  'created_at': datetime.datetime(2020, 4, 24, 23, 17, 22),\n  'geo': None,\n  'id': 1253825389530578947,\n  'retweet_count': 7,\n  'source': 'Twitter Web App',\n  'text': 'RT @KirkDBorne: Demystifying Artificial Intelligence for #IoT with this guide: https://t.co/fEE3ptBG5U by @IoTWorldToday \\n—————\\n#BigData #D…',\n  'in_reply_to_screen_name': None},\n {'_id': ObjectId('5ea373c2aac5c1070763335f'),\n  'created_at': datetime.datetime(2020, 4, 24, 23, 17, 6),\n  'geo': None,\n  'id': 1253825321666822144,\n  'retweet_count': 30,\n  'source': 'Twitter for Android',\n  'text': 'RT @gp_pulipaka: 9 Books for Learning About the Internet of Things (IoT). #BigData #Analytics #DataScience #IoT #IIoT #Python #RStats #Tens…',\n  'in_reply_to_screen_name': None},\n {'_id': ObjectId('5ea373c2aac5c10707633360'),\n  'created_at': datetime.datetime(2020, 4, 24, 23, 16, 59),\n  'geo': None,\n  'id': 1253825292650627072,\n  'retweet_count': 7,\n  'source': 'hubofml',\n  'text': 'RT @KirkDBorne: Demystifying Artificial Intelligence for #IoT with this guide: https://t.co/fEE3ptBG5U by @IoTWorldToday \\n—————\\n#BigData #D…',\n  'in_reply_to_screen_name': None},\n {'_id': ObjectId('5ea373c2aac5c10707633361'),\n  'created_at': datetime.datetime(2020, 4, 24, 23, 16, 54),\n  'geo': None,\n  'id': 1253825270550839299,\n  'retweet_count': 7,\n  'source': 'ML_BD_bot',\n  'text': 'RT @KirkDBorne: Demystifying Artificial Intelligence for #IoT with this guide: https://t.co/fEE3ptBG5U by @IoTWorldToday \\n—————\\n#BigData #D…',\n  'in_reply_to_screen_name': None},\n {'_id': ObjectId('5ea373c2aac5c10707633362'),\n  'created_at': datetime.datetime(2020, 4, 24, 23, 16, 49),\n  'geo': None,\n  'id': 1253825253291286531,\n  'retweet_count': 3,\n  'source': 'ML_BD_bot',\n  'text': 'RT @AustraliaAi: The adventures of AI Man and AI Robot. \\nPart 3\\n\\n#artificialintelligence #ai #comic #comicstrip #machinelearning  #innovati…',\n  'in_reply_to_screen_name': None},\n {'_id': ObjectId('5ea373c2aac5c10707633363'),\n  'created_at': datetime.datetime(2020, 4, 24, 23, 16, 45),\n  'geo': None,\n  'id': 1253825236493045762,\n  'retweet_count': 1,\n  'source': 'Larakarl',\n  'text': 'RT @blockchainnewsc: Blockchain technology helps Hubei province remote bid evaluation. \\n\\n#Blockchain #News #China #AI #Crypto #Fintech #Def…',\n  'in_reply_to_screen_name': None},\n {'_id': ObjectId('5ea373c2aac5c10707633364'),\n  'name': 'Ashwin',\n  'age': '7',\n  'gender': 'Male',\n  'address': {'street': 'pennsylvania avenue',\n   'number': '1600',\n   'city': 'Washington DC'}},\n {'_id': ObjectId('5ea373c2aac5c10707633365'),\n  'name': 'Steve',\n  'age': 25,\n  'gender': 'Male',\n  'address': {'street': 'Huntington', 'number': 23, 'city': 'Boston'}},\n {'_id': ObjectId('5ea373c2aac5c10707633366'),\n  'name': 'Tom',\n  'age': 33,\n  'gender': 'Male',\n  'address': {'street': 'Mass ave', 'number': 44, 'city': 'Boston'}},\n {'_id': ObjectId('5ea3980cfa05ee79489ff242'),\n  'created_at': datetime.datetime(2020, 4, 25, 1, 53, 4),\n  'geo': None,\n  'id': 1253864572110417923,\n  'retweet_count': 65,\n  'source': 'Twitter for Android',\n  'text': 'RT @antgrasso: The exponential growth of data, fueled by IoT and the use of connected devices, is undisputed. Look at \"One\\xa0Day in Data.\" Li…',\n  'in_reply_to_screen_name': None},\n {'_id': ObjectId('5ea3980cfa05ee79489ff243'),\n  'created_at': datetime.datetime(2020, 4, 25, 1, 53, 2),\n  'geo': None,\n  'id': 1253864562811641859,\n  'retweet_count': 1,\n  'source': 'Twitter Web App',\n  'text': 'RT @otrak0ssa: 🇻🇪 El Presidente Nicolás Maduro a través de la plataforma Patria está haciendo un ejercicio importante de Gobierno Abierto e…',\n  'in_reply_to_screen_name': None},\n {'_id': ObjectId('5ea3980cfa05ee79489ff244'),\n  'created_at': datetime.datetime(2020, 4, 25, 1, 51, 56),\n  'geo': None,\n  'id': 1253864285790445568,\n  'retweet_count': 9,\n  'source': 'TheBigDataBot',\n  'text': 'RT @SwissCognitive: #ArtificialIntelligence, #IoT and #BigData Can Save The #Bees\\n🐝🐝🐝\\nhttps://t.co/cXWbcR1n4m\\n@ageitgey @bigdatagal @dennyb…',\n  'in_reply_to_screen_name': None},\n {'_id': ObjectId('5ea3980cfa05ee79489ff245'),\n  'created_at': datetime.datetime(2020, 4, 25, 1, 51, 50),\n  'geo': None,\n  'id': 1253864262008791040,\n  'retweet_count': 7,\n  'source': 'RTML',\n  'text': 'RT @AndySugs: RT:Ronald_vanLoon: MindsDB Raises $3 Million For Open Source Automated #MachineLearning\\nby KHARIJOHNSON VentureBeat\\n\\nGo to ht…',\n  'in_reply_to_screen_name': None},\n {'_id': ObjectId('5ea3980cfa05ee79489ff246'),\n  'created_at': datetime.datetime(2020, 4, 25, 1, 51, 41),\n  'geo': None,\n  'id': 1253864225191100418,\n  'retweet_count': 7,\n  'source': 'hubofml',\n  'text': 'RT @AndySugs: RT:Ronald_vanLoon: MindsDB Raises $3 Million For Open Source Automated #MachineLearning\\nby KHARIJOHNSON VentureBeat\\n\\nGo to ht…',\n  'in_reply_to_screen_name': None},\n {'_id': ObjectId('5ea3980cfa05ee79489ff247'),\n  'created_at': datetime.datetime(2020, 4, 25, 1, 51, 36),\n  'geo': None,\n  'id': 1253864203061878784,\n  'retweet_count': 7,\n  'source': 'Twitter for iPhone',\n  'text': 'RT @AndySugs: RT:Ronald_vanLoon: MindsDB Raises $3 Million For Open Source Automated #MachineLearning\\nby KHARIJOHNSON VentureBeat\\n\\nGo to ht…',\n  'in_reply_to_screen_name': None},\n {'_id': ObjectId('5ea3980cfa05ee79489ff248'),\n  'created_at': datetime.datetime(2020, 4, 25, 1, 51, 24),\n  'geo': None,\n  'id': 1253864153019830275,\n  'retweet_count': 1,\n  'source': 'Twitter Web App',\n  'text': '🇻🇪 El Presidente Nicolás Maduro a través de la plataforma Patria está haciendo un ejercicio importante de Gobierno… https://t.co/yKbFRCclBi',\n  'in_reply_to_screen_name': None},\n {'_id': ObjectId('5ea3980cfa05ee79489ff249'),\n  'created_at': datetime.datetime(2020, 4, 25, 1, 51, 22),\n  'geo': None,\n  'id': 1253864144408850432,\n  'retweet_count': 18,\n  'source': 'React Bot App',\n  'text': 'RT @gp_pulipaka: What are the 10 Must Read #DataScience Books of 2020. #BigData #Analytics  #AI #IoT #IIoT #Python #RStats #JavaScript #Rea…',\n  'in_reply_to_screen_name': None},\n {'_id': ObjectId('5ea3980cfa05ee79489ff24a'),\n  'created_at': datetime.datetime(2020, 4, 25, 1, 51, 9),\n  'geo': None,\n  'id': 1253864092428914753,\n  'retweet_count': 18,\n  'source': 'aaroncuddeback.com',\n  'text': 'RT @gp_pulipaka: What are the 10 Must Read #DataScience Books of 2020. #BigData #Analytics  #AI #IoT #IIoT #Python #RStats #JavaScript #Rea…',\n  'in_reply_to_screen_name': None},\n {'_id': ObjectId('5ea3980cfa05ee79489ff24b'),\n  'created_at': datetime.datetime(2020, 4, 25, 1, 51, 9),\n  'geo': None,\n  'id': 1253864091195760640,\n  'retweet_count': 16,\n  'source': 'TwinyBots',\n  'text': 'RT @KirkDBorne: #SmartCities and their Components in the #IoT Era: https://t.co/MPVvTwDS8X\\n——————\\n#BigData #DataScience #EdgeAnalytics #IIo…',\n  'in_reply_to_screen_name': None},\n {'_id': ObjectId('5ea3980cfa05ee79489ff24c'),\n  'name': 'Ashwin',\n  'age': '7',\n  'gender': 'Male',\n  'address': {'street': 'pennsylvania avenue',\n   'number': '1600',\n   'city': 'Washington DC'}},\n {'_id': ObjectId('5ea3980cfa05ee79489ff24d'),\n  'name': 'Steve',\n  'age': 25,\n  'gender': 'Male',\n  'address': {'street': 'Huntington', 'number': 23, 'city': 'Boston'}},\n {'_id': ObjectId('5ea3980cfa05ee79489ff24e'),\n  'name': 'Tom',\n  'age': 33,\n  'gender': 'Male',\n  'address': {'street': 'Mass ave', 'number': 44, 'city': 'Boston'}},\n {'_id': ObjectId('5ea3ac500fee33e9a1859bd2'),\n  'created_at': datetime.datetime(2020, 4, 25, 3, 19, 32),\n  'geo': None,\n  'id': 1253886332499345420,\n  'retweet_count': 2,\n  'source': 'digital transformation',\n  'text': 'RT @IAM__Network: Early digital transformation efforts pay dividends as business continuity plans hold strong – Which-50 \\n\\nREAD MORE: https…',\n  'in_reply_to_screen_name': None},\n {'_id': ObjectId('5ea3ac500fee33e9a1859bd3'),\n  'created_at': datetime.datetime(2020, 4, 25, 3, 19, 18),\n  'geo': None,\n  'id': 1253886272420093956,\n  'retweet_count': 0,\n  'source': 'GMBquotes',\n  'text': '\" For why AI self-driving cars might freeze-up, see my article: https://t.co/xRFPiBigKl #ai #technology #BigData… https://t.co/R25ZDnWXjT',\n  'in_reply_to_screen_name': None},\n {'_id': ObjectId('5ea3ac500fee33e9a1859bd4'),\n  'created_at': datetime.datetime(2020, 4, 25, 3, 18, 43),\n  'geo': None,\n  'id': 1253886126521233410,\n  'retweet_count': 17,\n  'source': 'dig_revolution_Schnittstelle',\n  'text': 'RT @gp_pulipaka: 18 Best PyTorch Books of All Time. #BigData #Analytics #DataScience #IoT #IIoT #PyTorch #Python #RStats #TensorFlow #Java…',\n  'in_reply_to_screen_name': None},\n {'_id': ObjectId('5ea3ac500fee33e9a1859bd5'),\n  'created_at': datetime.datetime(2020, 4, 25, 3, 18, 31),\n  'geo': None,\n  'id': 1253886076726501379,\n  'retweet_count': 17,\n  'source': 'AI News BOT',\n  'text': 'RT @gp_pulipaka: 18 Best PyTorch Books of All Time. #BigData #Analytics #DataScience #IoT #IIoT #PyTorch #Python #RStats #TensorFlow #Java…',\n  'in_reply_to_screen_name': None},\n {'_id': ObjectId('5ea3ac500fee33e9a1859bd6'),\n  'created_at': datetime.datetime(2020, 4, 25, 3, 18, 22),\n  'geo': None,\n  'id': 1253886038117945344,\n  'retweet_count': 29,\n  'source': 'AI News BOT',\n  'text': 'RT @gp_pulipaka: Autoencoders with AI. #BigData #Analytics #DataScience #AI #MachineLearning #IoT #IIoT #PyTorch #Python #RStats #TensorFlo…',\n  'in_reply_to_screen_name': None},\n {'_id': ObjectId('5ea3ac500fee33e9a1859bd7'),\n  'created_at': datetime.datetime(2020, 4, 25, 3, 18, 15),\n  'geo': None,\n  'id': 1253886008388714496,\n  'retweet_count': 16,\n  'source': 'Twitter for Android',\n  'text': 'RT @statsandleague: “We are moving slowly into an era where big data is the starting point, not the end.” \\n\\n#BigData #DataAnalytics #Data #…',\n  'in_reply_to_screen_name': None},\n {'_id': ObjectId('5ea3ac500fee33e9a1859bd8'),\n  'created_at': datetime.datetime(2020, 4, 25, 3, 17, 14),\n  'geo': None,\n  'id': 1253885755258175490,\n  'retweet_count': 1,\n  'source': 'ML_BD_bot',\n  'text': \"RT @AIHealth1: The University of Sydney's Westmead Applied Research Centre has been awarded a $1 million grant from Google to ...\\n\\nhttps://…\",\n  'in_reply_to_screen_name': None},\n {'_id': ObjectId('5ea3ac500fee33e9a1859bd9'),\n  'created_at': datetime.datetime(2020, 4, 25, 3, 17, 11),\n  'geo': None,\n  'id': 1253885741937164288,\n  'retweet_count': 47,\n  'source': 'hubofml',\n  'text': 'RT @Fisher85M: What’s your #Security Maturity level? [Infographic]\\n\\n#CyberSecurity #infosec #education @Fisher85M #BigData #Analytics #Mach…',\n  'in_reply_to_screen_name': None},\n {'_id': ObjectId('5ea3ac500fee33e9a1859bda'),\n  'created_at': datetime.datetime(2020, 4, 25, 3, 17, 10),\n  'geo': None,\n  'id': 1253885736882966528,\n  'retweet_count': 3,\n  'source': 'News Commentary Podcast',\n  'text': 'RT @SafetyPhD: RECORDED TONITE - Out Now!\\n\\n#Livestream #131 Safety Doc Podcast\\n\\nThe Dunning-Kruger Effect | What it is and how to fight it…',\n  'in_reply_to_screen_name': None},\n {'_id': ObjectId('5ea3ac500fee33e9a1859bdb'),\n  'created_at': datetime.datetime(2020, 4, 25, 3, 17, 6),\n  'geo': None,\n  'id': 1253885720005148673,\n  'retweet_count': 47,\n  'source': 'Twitter for iPhone',\n  'text': 'RT @Fisher85M: What’s your #Security Maturity level? [Infographic]\\n\\n#CyberSecurity #infosec #education @Fisher85M #BigData #Analytics #Mach…',\n  'in_reply_to_screen_name': None},\n {'_id': ObjectId('5ea3ac500fee33e9a1859bdc'),\n  'name': 'Ashwin',\n  'age': '7',\n  'gender': 'Male',\n  'address': {'street': 'pennsylvania avenue',\n   'number': '1600',\n   'city': 'Washington DC'}},\n {'_id': ObjectId('5ea3ac500fee33e9a1859bdd'),\n  'name': 'Steve',\n  'age': 25,\n  'gender': 'Male',\n  'address': {'street': 'Huntington', 'number': 23, 'city': 'Boston'}},\n {'_id': ObjectId('5ea3ac500fee33e9a1859bde'),\n  'name': 'Tom',\n  'age': 33,\n  'gender': 'Male',\n  'address': {'street': 'Mass ave', 'number': 44, 'city': 'Boston'}}]"
     },
     "metadata": {},
     "output_type": "execute_result",
     "execution_count": 36
    }
   ]
  },
  {
   "cell_type": "markdown",
   "source": [
    "## Deleting a database, collection or Document:\n",
    "###Database:\n",
    "Deleting a database is relatively simple process and it can be done using the **drop_database()** command."
   ],
   "metadata": {
    "collapsed": false,
    "pycharm": {
     "name": "#%% md\n"
    }
   }
  },
  {
   "cell_type": "code",
   "execution_count": 37,
   "outputs": [
    {
     "name": "stderr",
     "text": [
      "<ipython-input-37-71eb017cd03f>:2: DeprecationWarning: database_names is deprecated. Use list_database_names instead.\n",
      "  conn.database_names()\n"
     ],
     "output_type": "stream"
    },
    {
     "data": {
      "text/plain": "['admin',\n 'assignment1db',\n 'assignment2db',\n 'assignment3',\n 'config',\n 'gamedb',\n 'local',\n 'moviedb',\n 'mydb',\n 'nyse',\n 'testdb',\n 'twitter_search']"
     },
     "metadata": {},
     "output_type": "execute_result",
     "execution_count": 37
    }
   ],
   "source": [
    "# first, lets look at the available databases:\n",
    "conn.database_names()\n"
   ],
   "metadata": {
    "collapsed": false,
    "pycharm": {
     "name": "#%%\n",
     "is_executing": false
    }
   }
  },
  {
   "cell_type": "code",
   "execution_count": 38,
   "outputs": [
    {
     "name": "stderr",
     "text": [
      "<ipython-input-38-36c6542d6f5c>:3: DeprecationWarning: database_names is deprecated. Use list_database_names instead.\n",
      "  conn.database_names()\n"
     ],
     "output_type": "stream"
    },
    {
     "data": {
      "text/plain": "['admin',\n 'assignment1db',\n 'assignment2db',\n 'assignment3',\n 'config',\n 'gamedb',\n 'local',\n 'moviedb',\n 'mydb',\n 'nyse',\n 'testdb',\n 'twitter_search']"
     },
     "metadata": {},
     "output_type": "execute_result",
     "execution_count": 38
    }
   ],
   "source": [
    "# here, we can delete the \"test1\" database:\n",
    "conn.drop_database(\"test1\")\n",
    "conn.database_names()"
   ],
   "metadata": {
    "collapsed": false,
    "pycharm": {
     "name": "#%%\n",
     "is_executing": false
    }
   }
  },
  {
   "cell_type": "markdown",
   "source": [
    "### Collection\n",
    "Deleting a collection is similar to deleting a database and it can be done using the drop_collections() method:"
   ],
   "metadata": {
    "collapsed": false
   }
  },
  {
   "cell_type": "code",
   "execution_count": 39,
   "outputs": [
    {
     "name": "stderr",
     "text": [
      "<ipython-input-39-8831e3cc7e3c>:2: DeprecationWarning: insert is deprecated. Use insert_one or insert_many instead.\n",
      "  conn.testdb.testcollection.insert({\"Message\":\"Dropping a collection\"})\n",
      "<ipython-input-39-8831e3cc7e3c>:3: DeprecationWarning: collection_names is deprecated. Use list_collection_names instead.\n",
      "  conn.testdb.collection_names()\n"
     ],
     "output_type": "stream"
    },
    {
     "data": {
      "text/plain": "['mycol', 'testcollection']"
     },
     "metadata": {},
     "output_type": "execute_result",
     "execution_count": 39
    }
   ],
   "source": [
    "# First we create a database, a collection and a document inside it:\n",
    "conn.testdb.testcollection.insert({\"Message\":\"Dropping a collection\"})\n",
    "conn.testdb.collection_names()\n"
   ],
   "metadata": {
    "collapsed": false,
    "pycharm": {
     "name": "#%%\n",
     "is_executing": false
    }
   }
  },
  {
   "cell_type": "code",
   "execution_count": 40,
   "outputs": [
    {
     "name": "stderr",
     "text": [
      "<ipython-input-40-43f5d054382a>:4: DeprecationWarning: collection_names is deprecated. Use list_collection_names instead.\n",
      "  conn.testdb.collection_names()\n"
     ],
     "output_type": "stream"
    },
    {
     "data": {
      "text/plain": "['mycol']"
     },
     "metadata": {},
     "output_type": "execute_result",
     "execution_count": 40
    }
   ],
   "source": [
    "# Now, we drop the collection:\n",
    "\n",
    "conn.testdb.drop_collection(\"testcollection\")\n",
    "conn.testdb.collection_names()\n"
   ],
   "metadata": {
    "collapsed": false,
    "pycharm": {
     "name": "#%%\n",
     "is_executing": false
    }
   }
  },
  {
   "cell_type": "markdown",
   "source": [
    "### Remove a Document :\n",
    "Unlike a database and collection, we delete a document using the remove() method. With the attributes of the method being tags to identify the document.\n",
    "Example:"
   ],
   "metadata": {
    "collapsed": false
   }
  },
  {
   "cell_type": "code",
   "execution_count": 41,
   "outputs": [
    {
     "name": "stderr",
     "text": [
      "<ipython-input-41-f299e3ab98bf>:1: DeprecationWarning: remove is deprecated. Use delete_one or delete_many instead.\n",
      "  posts.remove({\"first_name\":\"Ashwin\"})\n"
     ],
     "output_type": "stream"
    }
   ],
   "source": [
    "posts.remove({\"first_name\":\"Ashwin\"})\n",
    "posts.find_one({\"first_name\":\"Ashwin\"}) "
   ],
   "metadata": {
    "collapsed": false,
    "pycharm": {
     "name": "#%%\n",
     "is_executing": false
    }
   }
  },
  {
   "cell_type": "markdown",
   "source": [
    "Similarly, we can remove multiple documents using the remove_many() method.\n",
    "Example:"
   ],
   "metadata": {
    "collapsed": false,
    "pycharm": {
     "name": "#%% md\n"
    }
   }
  },
  {
   "cell_type": "code",
   "execution_count": 42,
   "outputs": [
    {
     "data": {
      "text/plain": "[{'_id': ObjectId('5ea325962a0f212921292cc9'),\n  'created_at': datetime.datetime(2020, 4, 24, 17, 43, 38),\n  'geo': None,\n  'id': 1253741401810010119,\n  'retweet_count': 41,\n  'source': 'Twitter Web App',\n  'text': 'RT @SpirosMargaris: How #AI can tackle the #climate emergency \\n\\nif developed responsibly\\n\\nhttps://t.co/glveQ74s9k #fintech @ConversationUK…',\n  'in_reply_to_screen_name': None},\n {'_id': ObjectId('5ea325962a0f212921292cca'),\n  'created_at': datetime.datetime(2020, 4, 24, 17, 43, 24),\n  'geo': None,\n  'id': 1253741345828745216,\n  'retweet_count': 8,\n  'source': 'Twitter for Android',\n  'text': 'RT @ipfconline1: 10 Groups of #MachineLearning Algorithms \\n\\nhttps://t.co/dQsSp6ozVa @thomas_glare v/ @datamadesimple\\n#AI #DeepLearning\\nCc @…',\n  'in_reply_to_screen_name': None},\n {'_id': ObjectId('5ea325962a0f212921292ccb'),\n  'created_at': datetime.datetime(2020, 4, 24, 17, 43, 17),\n  'geo': None,\n  'id': 1253741316011327488,\n  'retweet_count': 9,\n  'source': 'Twitter for Android',\n  'text': 'RT @DeepLearn007: @mercer #AI will augment humans in to deal w/ #BigData &amp; find patterns\\n#5G enabled #IoT devices are going to generate a l…',\n  'in_reply_to_screen_name': None},\n {'_id': ObjectId('5ea325962a0f212921292ccc'),\n  'created_at': datetime.datetime(2020, 4, 24, 17, 42, 55),\n  'geo': None,\n  'id': 1253741220658102274,\n  'retweet_count': 0,\n  'source': 'Twitter Web App',\n  'text': 'Breaking news!\\n\\n@Flexmonster Data Server is available starting from 2.8.5 version 🎉\\n\\nProcess your #data up to 10 ti… https://t.co/tIJo6Pk3Bt',\n  'in_reply_to_screen_name': None},\n {'_id': ObjectId('5ea325962a0f212921292ccd'),\n  'created_at': datetime.datetime(2020, 4, 24, 17, 42, 36),\n  'geo': None,\n  'id': 1253741141159227392,\n  'retweet_count': 7,\n  'source': 'Twitter Web App',\n  'text': 'RT @sostAMB: 🔈🔈🔈Estigueu atents aquests propers dies 👇🏻\\n\\n#confinament per #COVID19\\n#BigData\\n#vulnerabilitatenergètica\\n\\n#quedatACasa\\n#EntreT…',\n  'in_reply_to_screen_name': None},\n {'_id': ObjectId('5ea325962a0f212921292cce'),\n  'created_at': datetime.datetime(2020, 4, 24, 17, 42, 34),\n  'geo': None,\n  'id': 1253741135136251911,\n  'retweet_count': 0,\n  'source': 'Twitter Web Client',\n  'text': 'UK Gov looking toward the next stage of Snooper Charter expansion - \\n\\n- gifting the ability to spy on citizens (not… https://t.co/5MboA1xN2L',\n  'in_reply_to_screen_name': None},\n {'_id': ObjectId('5ea325962a0f212921292ccf'),\n  'created_at': datetime.datetime(2020, 4, 24, 17, 42, 9),\n  'geo': None,\n  'id': 1253741031260119052,\n  'retweet_count': 4,\n  'source': 'Twitter for iPad',\n  'text': 'RT @ember_crooks: FF #Db2 @craigmullins @RomanufaKeri @erwin_hattingh @data_henrik @ARSDB2 @globomike @raghuprasad241 @DBeulke @angoca @MKr…',\n  'in_reply_to_screen_name': None},\n {'_id': ObjectId('5ea325962a0f212921292cd0'),\n  'created_at': datetime.datetime(2020, 4, 24, 17, 42, 3),\n  'geo': None,\n  'id': 1253741006115176450,\n  'retweet_count': 1,\n  'source': 'Edtech genomics',\n  'text': 'RT @QuantaEd: \"A population able and proactively making smarter health choices will cost less, live longer, and live healthier lifestyles.\"…',\n  'in_reply_to_screen_name': None},\n {'_id': ObjectId('5ea325962a0f212921292cd1'),\n  'created_at': datetime.datetime(2020, 4, 24, 17, 42, 2),\n  'geo': None,\n  'id': 1253740998779428870,\n  'retweet_count': 4,\n  'source': 'Twitter for iPhone',\n  'text': 'RT @vavacolor: #Covid_19 tracking systems aren’t all built the same. One thing is sure, alone, they don’t solve the underlying social inequ…',\n  'in_reply_to_screen_name': None},\n {'_id': ObjectId('5ea325962a0f212921292cd2'),\n  'created_at': datetime.datetime(2020, 4, 24, 17, 41, 57),\n  'geo': None,\n  'id': 1253740978420187137,\n  'retweet_count': 7,\n  'source': 'Calcaware',\n  'text': 'RT @mvollmer1: A #DigitalTwin allows clear visibility into the risks of a complex, interconnected #supplychain @BCG \\n\\n#ArtificialIntelligen…',\n  'in_reply_to_screen_name': None},\n {'_id': ObjectId('5ea3261c2a0f212921292cd5'),\n  'created_at': datetime.datetime(2020, 4, 24, 17, 43, 38),\n  'geo': None,\n  'id': 1253741401810010119,\n  'retweet_count': 41,\n  'source': 'Twitter Web App',\n  'text': 'RT @SpirosMargaris: How #AI can tackle the #climate emergency \\n\\nif developed responsibly\\n\\nhttps://t.co/glveQ74s9k #fintech @ConversationUK…',\n  'possibly_sensitive': False,\n  'in_reply_to_screen_name': None},\n {'_id': ObjectId('5ea3261c2a0f212921292cd6'),\n  'created_at': datetime.datetime(2020, 4, 24, 17, 43, 24),\n  'geo': None,\n  'id': 1253741345828745216,\n  'retweet_count': 8,\n  'source': 'Twitter for Android',\n  'text': 'RT @ipfconline1: 10 Groups of #MachineLearning Algorithms \\n\\nhttps://t.co/dQsSp6ozVa @thomas_glare v/ @datamadesimple\\n#AI #DeepLearning\\nCc @…',\n  'possibly_sensitive': False,\n  'in_reply_to_screen_name': None},\n {'_id': ObjectId('5ea326292a0f212921292cd7'),\n  'created_at': datetime.datetime(2020, 4, 24, 17, 43, 38),\n  'geo': None,\n  'id': 1253741401810010119,\n  'retweet_count': 41,\n  'source': 'Twitter Web App',\n  'text': 'RT @SpirosMargaris: How #AI can tackle the #climate emergency \\n\\nif developed responsibly\\n\\nhttps://t.co/glveQ74s9k #fintech @ConversationUK…',\n  'in_reply_to_screen_name': None},\n {'_id': ObjectId('5ea326292a0f212921292cd8'),\n  'created_at': datetime.datetime(2020, 4, 24, 17, 43, 24),\n  'geo': None,\n  'id': 1253741345828745216,\n  'retweet_count': 8,\n  'source': 'Twitter for Android',\n  'text': 'RT @ipfconline1: 10 Groups of #MachineLearning Algorithms \\n\\nhttps://t.co/dQsSp6ozVa @thomas_glare v/ @datamadesimple\\n#AI #DeepLearning\\nCc @…',\n  'in_reply_to_screen_name': None},\n {'_id': ObjectId('5ea326292a0f212921292cd9'),\n  'created_at': datetime.datetime(2020, 4, 24, 17, 43, 17),\n  'geo': None,\n  'id': 1253741316011327488,\n  'retweet_count': 9,\n  'source': 'Twitter for Android',\n  'text': 'RT @DeepLearn007: @mercer #AI will augment humans in to deal w/ #BigData &amp; find patterns\\n#5G enabled #IoT devices are going to generate a l…',\n  'in_reply_to_screen_name': None},\n {'_id': ObjectId('5ea326292a0f212921292cda'),\n  'created_at': datetime.datetime(2020, 4, 24, 17, 42, 55),\n  'geo': None,\n  'id': 1253741220658102274,\n  'retweet_count': 0,\n  'source': 'Twitter Web App',\n  'text': 'Breaking news!\\n\\n@Flexmonster Data Server is available starting from 2.8.5 version 🎉\\n\\nProcess your #data up to 10 ti… https://t.co/tIJo6Pk3Bt',\n  'in_reply_to_screen_name': None},\n {'_id': ObjectId('5ea326292a0f212921292cdb'),\n  'created_at': datetime.datetime(2020, 4, 24, 17, 42, 36),\n  'geo': None,\n  'id': 1253741141159227392,\n  'retweet_count': 7,\n  'source': 'Twitter Web App',\n  'text': 'RT @sostAMB: 🔈🔈🔈Estigueu atents aquests propers dies 👇🏻\\n\\n#confinament per #COVID19\\n#BigData\\n#vulnerabilitatenergètica\\n\\n#quedatACasa\\n#EntreT…',\n  'in_reply_to_screen_name': None},\n {'_id': ObjectId('5ea326292a0f212921292cdc'),\n  'created_at': datetime.datetime(2020, 4, 24, 17, 42, 34),\n  'geo': None,\n  'id': 1253741135136251911,\n  'retweet_count': 0,\n  'source': 'Twitter Web Client',\n  'text': 'UK Gov looking toward the next stage of Snooper Charter expansion - \\n\\n- gifting the ability to spy on citizens (not… https://t.co/5MboA1xN2L',\n  'in_reply_to_screen_name': None},\n {'_id': ObjectId('5ea326292a0f212921292cdd'),\n  'created_at': datetime.datetime(2020, 4, 24, 17, 42, 9),\n  'geo': None,\n  'id': 1253741031260119052,\n  'retweet_count': 4,\n  'source': 'Twitter for iPad',\n  'text': 'RT @ember_crooks: FF #Db2 @craigmullins @RomanufaKeri @erwin_hattingh @data_henrik @ARSDB2 @globomike @raghuprasad241 @DBeulke @angoca @MKr…',\n  'in_reply_to_screen_name': None},\n {'_id': ObjectId('5ea326292a0f212921292cde'),\n  'created_at': datetime.datetime(2020, 4, 24, 17, 42, 3),\n  'geo': None,\n  'id': 1253741006115176450,\n  'retweet_count': 1,\n  'source': 'Edtech genomics',\n  'text': 'RT @QuantaEd: \"A population able and proactively making smarter health choices will cost less, live longer, and live healthier lifestyles.\"…',\n  'in_reply_to_screen_name': None},\n {'_id': ObjectId('5ea326292a0f212921292cdf'),\n  'created_at': datetime.datetime(2020, 4, 24, 17, 42, 2),\n  'geo': None,\n  'id': 1253740998779428870,\n  'retweet_count': 4,\n  'source': 'Twitter for iPhone',\n  'text': 'RT @vavacolor: #Covid_19 tracking systems aren’t all built the same. One thing is sure, alone, they don’t solve the underlying social inequ…',\n  'in_reply_to_screen_name': None},\n {'_id': ObjectId('5ea326292a0f212921292ce0'),\n  'created_at': datetime.datetime(2020, 4, 24, 17, 41, 57),\n  'geo': None,\n  'id': 1253740978420187137,\n  'retweet_count': 7,\n  'source': 'Calcaware',\n  'text': 'RT @mvollmer1: A #DigitalTwin allows clear visibility into the risks of a complex, interconnected #supplychain @BCG \\n\\n#ArtificialIntelligen…',\n  'in_reply_to_screen_name': None},\n {'_id': ObjectId('5ea326472a0f212921292ce1'),\n  'created_at': datetime.datetime(2020, 4, 24, 17, 43, 38),\n  'geo': None,\n  'id': 1253741401810010119,\n  'retweet_count': 41,\n  'source': 'Twitter Web App',\n  'text': 'RT @SpirosMargaris: How #AI can tackle the #climate emergency \\n\\nif developed responsibly\\n\\nhttps://t.co/glveQ74s9k #fintech @ConversationUK…',\n  'in_reply_to_screen_name': None},\n {'_id': ObjectId('5ea326472a0f212921292ce2'),\n  'created_at': datetime.datetime(2020, 4, 24, 17, 43, 24),\n  'geo': None,\n  'id': 1253741345828745216,\n  'retweet_count': 8,\n  'source': 'Twitter for Android',\n  'text': 'RT @ipfconline1: 10 Groups of #MachineLearning Algorithms \\n\\nhttps://t.co/dQsSp6ozVa @thomas_glare v/ @datamadesimple\\n#AI #DeepLearning\\nCc @…',\n  'in_reply_to_screen_name': None},\n {'_id': ObjectId('5ea326472a0f212921292ce3'),\n  'created_at': datetime.datetime(2020, 4, 24, 17, 43, 17),\n  'geo': None,\n  'id': 1253741316011327488,\n  'retweet_count': 9,\n  'source': 'Twitter for Android',\n  'text': 'RT @DeepLearn007: @mercer #AI will augment humans in to deal w/ #BigData &amp; find patterns\\n#5G enabled #IoT devices are going to generate a l…',\n  'in_reply_to_screen_name': None},\n {'_id': ObjectId('5ea326472a0f212921292ce4'),\n  'created_at': datetime.datetime(2020, 4, 24, 17, 42, 55),\n  'geo': None,\n  'id': 1253741220658102274,\n  'retweet_count': 0,\n  'source': 'Twitter Web App',\n  'text': 'Breaking news!\\n\\n@Flexmonster Data Server is available starting from 2.8.5 version 🎉\\n\\nProcess your #data up to 10 ti… https://t.co/tIJo6Pk3Bt',\n  'in_reply_to_screen_name': None},\n {'_id': ObjectId('5ea326472a0f212921292ce5'),\n  'created_at': datetime.datetime(2020, 4, 24, 17, 42, 36),\n  'geo': None,\n  'id': 1253741141159227392,\n  'retweet_count': 7,\n  'source': 'Twitter Web App',\n  'text': 'RT @sostAMB: 🔈🔈🔈Estigueu atents aquests propers dies 👇🏻\\n\\n#confinament per #COVID19\\n#BigData\\n#vulnerabilitatenergètica\\n\\n#quedatACasa\\n#EntreT…',\n  'in_reply_to_screen_name': None},\n {'_id': ObjectId('5ea326472a0f212921292ce6'),\n  'created_at': datetime.datetime(2020, 4, 24, 17, 42, 34),\n  'geo': None,\n  'id': 1253741135136251911,\n  'retweet_count': 0,\n  'source': 'Twitter Web Client',\n  'text': 'UK Gov looking toward the next stage of Snooper Charter expansion - \\n\\n- gifting the ability to spy on citizens (not… https://t.co/5MboA1xN2L',\n  'in_reply_to_screen_name': None},\n {'_id': ObjectId('5ea326472a0f212921292ce7'),\n  'created_at': datetime.datetime(2020, 4, 24, 17, 42, 9),\n  'geo': None,\n  'id': 1253741031260119052,\n  'retweet_count': 4,\n  'source': 'Twitter for iPad',\n  'text': 'RT @ember_crooks: FF #Db2 @craigmullins @RomanufaKeri @erwin_hattingh @data_henrik @ARSDB2 @globomike @raghuprasad241 @DBeulke @angoca @MKr…',\n  'in_reply_to_screen_name': None},\n {'_id': ObjectId('5ea326472a0f212921292ce8'),\n  'created_at': datetime.datetime(2020, 4, 24, 17, 42, 3),\n  'geo': None,\n  'id': 1253741006115176450,\n  'retweet_count': 1,\n  'source': 'Edtech genomics',\n  'text': 'RT @QuantaEd: \"A population able and proactively making smarter health choices will cost less, live longer, and live healthier lifestyles.\"…',\n  'in_reply_to_screen_name': None},\n {'_id': ObjectId('5ea326472a0f212921292ce9'),\n  'created_at': datetime.datetime(2020, 4, 24, 17, 42, 2),\n  'geo': None,\n  'id': 1253740998779428870,\n  'retweet_count': 4,\n  'source': 'Twitter for iPhone',\n  'text': 'RT @vavacolor: #Covid_19 tracking systems aren’t all built the same. One thing is sure, alone, they don’t solve the underlying social inequ…',\n  'in_reply_to_screen_name': None},\n {'_id': ObjectId('5ea326472a0f212921292cea'),\n  'created_at': datetime.datetime(2020, 4, 24, 17, 41, 57),\n  'geo': None,\n  'id': 1253740978420187137,\n  'retweet_count': 7,\n  'source': 'Calcaware',\n  'text': 'RT @mvollmer1: A #DigitalTwin allows clear visibility into the risks of a complex, interconnected #supplychain @BCG \\n\\n#ArtificialIntelligen…',\n  'in_reply_to_screen_name': None},\n {'_id': ObjectId('5ea326652a0f212921292ceb'),\n  'created_at': datetime.datetime(2020, 4, 24, 17, 43, 38),\n  'geo': None,\n  'id': 1253741401810010119,\n  'retweet_count': 41,\n  'source': 'Twitter Web App',\n  'text': 'RT @SpirosMargaris: How #AI can tackle the #climate emergency \\n\\nif developed responsibly\\n\\nhttps://t.co/glveQ74s9k #fintech @ConversationUK…',\n  'in_reply_to_screen_name': None},\n {'_id': ObjectId('5ea326652a0f212921292cec'),\n  'created_at': datetime.datetime(2020, 4, 24, 17, 43, 24),\n  'geo': None,\n  'id': 1253741345828745216,\n  'retweet_count': 8,\n  'source': 'Twitter for Android',\n  'text': 'RT @ipfconline1: 10 Groups of #MachineLearning Algorithms \\n\\nhttps://t.co/dQsSp6ozVa @thomas_glare v/ @datamadesimple\\n#AI #DeepLearning\\nCc @…',\n  'in_reply_to_screen_name': None},\n {'_id': ObjectId('5ea326652a0f212921292ced'),\n  'created_at': datetime.datetime(2020, 4, 24, 17, 43, 17),\n  'geo': None,\n  'id': 1253741316011327488,\n  'retweet_count': 9,\n  'source': 'Twitter for Android',\n  'text': 'RT @DeepLearn007: @mercer #AI will augment humans in to deal w/ #BigData &amp; find patterns\\n#5G enabled #IoT devices are going to generate a l…',\n  'in_reply_to_screen_name': None},\n {'_id': ObjectId('5ea326652a0f212921292cee'),\n  'created_at': datetime.datetime(2020, 4, 24, 17, 42, 55),\n  'geo': None,\n  'id': 1253741220658102274,\n  'retweet_count': 0,\n  'source': 'Twitter Web App',\n  'text': 'Breaking news!\\n\\n@Flexmonster Data Server is available starting from 2.8.5 version 🎉\\n\\nProcess your #data up to 10 ti… https://t.co/tIJo6Pk3Bt',\n  'in_reply_to_screen_name': None},\n {'_id': ObjectId('5ea326652a0f212921292cef'),\n  'created_at': datetime.datetime(2020, 4, 24, 17, 42, 36),\n  'geo': None,\n  'id': 1253741141159227392,\n  'retweet_count': 7,\n  'source': 'Twitter Web App',\n  'text': 'RT @sostAMB: 🔈🔈🔈Estigueu atents aquests propers dies 👇🏻\\n\\n#confinament per #COVID19\\n#BigData\\n#vulnerabilitatenergètica\\n\\n#quedatACasa\\n#EntreT…',\n  'in_reply_to_screen_name': None},\n {'_id': ObjectId('5ea326652a0f212921292cf0'),\n  'created_at': datetime.datetime(2020, 4, 24, 17, 42, 34),\n  'geo': None,\n  'id': 1253741135136251911,\n  'retweet_count': 0,\n  'source': 'Twitter Web Client',\n  'text': 'UK Gov looking toward the next stage of Snooper Charter expansion - \\n\\n- gifting the ability to spy on citizens (not… https://t.co/5MboA1xN2L',\n  'in_reply_to_screen_name': None},\n {'_id': ObjectId('5ea326652a0f212921292cf1'),\n  'created_at': datetime.datetime(2020, 4, 24, 17, 42, 9),\n  'geo': None,\n  'id': 1253741031260119052,\n  'retweet_count': 4,\n  'source': 'Twitter for iPad',\n  'text': 'RT @ember_crooks: FF #Db2 @craigmullins @RomanufaKeri @erwin_hattingh @data_henrik @ARSDB2 @globomike @raghuprasad241 @DBeulke @angoca @MKr…',\n  'in_reply_to_screen_name': None},\n {'_id': ObjectId('5ea326652a0f212921292cf2'),\n  'created_at': datetime.datetime(2020, 4, 24, 17, 42, 3),\n  'geo': None,\n  'id': 1253741006115176450,\n  'retweet_count': 1,\n  'source': 'Edtech genomics',\n  'text': 'RT @QuantaEd: \"A population able and proactively making smarter health choices will cost less, live longer, and live healthier lifestyles.\"…',\n  'in_reply_to_screen_name': None},\n {'_id': ObjectId('5ea326652a0f212921292cf3'),\n  'created_at': datetime.datetime(2020, 4, 24, 17, 42, 2),\n  'geo': None,\n  'id': 1253740998779428870,\n  'retweet_count': 4,\n  'source': 'Twitter for iPhone',\n  'text': 'RT @vavacolor: #Covid_19 tracking systems aren’t all built the same. One thing is sure, alone, they don’t solve the underlying social inequ…',\n  'in_reply_to_screen_name': None},\n {'_id': ObjectId('5ea326652a0f212921292cf4'),\n  'created_at': datetime.datetime(2020, 4, 24, 17, 41, 57),\n  'geo': None,\n  'id': 1253740978420187137,\n  'retweet_count': 7,\n  'source': 'Calcaware',\n  'text': 'RT @mvollmer1: A #DigitalTwin allows clear visibility into the risks of a complex, interconnected #supplychain @BCG \\n\\n#ArtificialIntelligen…',\n  'in_reply_to_screen_name': None},\n {'_id': ObjectId('5ea326772a0f212921292cf5'),\n  'created_at': datetime.datetime(2020, 4, 24, 17, 43, 38),\n  'geo': None,\n  'id': 1253741401810010119,\n  'retweet_count': 41,\n  'source': 'Twitter Web App',\n  'text': 'RT @SpirosMargaris: How #AI can tackle the #climate emergency \\n\\nif developed responsibly\\n\\nhttps://t.co/glveQ74s9k #fintech @ConversationUK…',\n  'in_reply_to_screen_name': None},\n {'_id': ObjectId('5ea326772a0f212921292cf6'),\n  'created_at': datetime.datetime(2020, 4, 24, 17, 43, 24),\n  'geo': None,\n  'id': 1253741345828745216,\n  'retweet_count': 8,\n  'source': 'Twitter for Android',\n  'text': 'RT @ipfconline1: 10 Groups of #MachineLearning Algorithms \\n\\nhttps://t.co/dQsSp6ozVa @thomas_glare v/ @datamadesimple\\n#AI #DeepLearning\\nCc @…',\n  'in_reply_to_screen_name': None},\n {'_id': ObjectId('5ea326772a0f212921292cf7'),\n  'created_at': datetime.datetime(2020, 4, 24, 17, 43, 17),\n  'geo': None,\n  'id': 1253741316011327488,\n  'retweet_count': 9,\n  'source': 'Twitter for Android',\n  'text': 'RT @DeepLearn007: @mercer #AI will augment humans in to deal w/ #BigData &amp; find patterns\\n#5G enabled #IoT devices are going to generate a l…',\n  'in_reply_to_screen_name': None},\n {'_id': ObjectId('5ea326772a0f212921292cf8'),\n  'created_at': datetime.datetime(2020, 4, 24, 17, 42, 55),\n  'geo': None,\n  'id': 1253741220658102274,\n  'retweet_count': 0,\n  'source': 'Twitter Web App',\n  'text': 'Breaking news!\\n\\n@Flexmonster Data Server is available starting from 2.8.5 version 🎉\\n\\nProcess your #data up to 10 ti… https://t.co/tIJo6Pk3Bt',\n  'in_reply_to_screen_name': None},\n {'_id': ObjectId('5ea326772a0f212921292cf9'),\n  'created_at': datetime.datetime(2020, 4, 24, 17, 42, 36),\n  'geo': None,\n  'id': 1253741141159227392,\n  'retweet_count': 7,\n  'source': 'Twitter Web App',\n  'text': 'RT @sostAMB: 🔈🔈🔈Estigueu atents aquests propers dies 👇🏻\\n\\n#confinament per #COVID19\\n#BigData\\n#vulnerabilitatenergètica\\n\\n#quedatACasa\\n#EntreT…',\n  'in_reply_to_screen_name': None},\n {'_id': ObjectId('5ea326772a0f212921292cfa'),\n  'created_at': datetime.datetime(2020, 4, 24, 17, 42, 34),\n  'geo': None,\n  'id': 1253741135136251911,\n  'retweet_count': 0,\n  'source': 'Twitter Web Client',\n  'text': 'UK Gov looking toward the next stage of Snooper Charter expansion - \\n\\n- gifting the ability to spy on citizens (not… https://t.co/5MboA1xN2L',\n  'in_reply_to_screen_name': None},\n {'_id': ObjectId('5ea326772a0f212921292cfb'),\n  'created_at': datetime.datetime(2020, 4, 24, 17, 42, 9),\n  'geo': None,\n  'id': 1253741031260119052,\n  'retweet_count': 4,\n  'source': 'Twitter for iPad',\n  'text': 'RT @ember_crooks: FF #Db2 @craigmullins @RomanufaKeri @erwin_hattingh @data_henrik @ARSDB2 @globomike @raghuprasad241 @DBeulke @angoca @MKr…',\n  'in_reply_to_screen_name': None},\n {'_id': ObjectId('5ea326772a0f212921292cfc'),\n  'created_at': datetime.datetime(2020, 4, 24, 17, 42, 3),\n  'geo': None,\n  'id': 1253741006115176450,\n  'retweet_count': 1,\n  'source': 'Edtech genomics',\n  'text': 'RT @QuantaEd: \"A population able and proactively making smarter health choices will cost less, live longer, and live healthier lifestyles.\"…',\n  'in_reply_to_screen_name': None},\n {'_id': ObjectId('5ea326772a0f212921292cfd'),\n  'created_at': datetime.datetime(2020, 4, 24, 17, 42, 2),\n  'geo': None,\n  'id': 1253740998779428870,\n  'retweet_count': 4,\n  'source': 'Twitter for iPhone',\n  'text': 'RT @vavacolor: #Covid_19 tracking systems aren’t all built the same. One thing is sure, alone, they don’t solve the underlying social inequ…',\n  'in_reply_to_screen_name': None},\n {'_id': ObjectId('5ea326772a0f212921292cfe'),\n  'created_at': datetime.datetime(2020, 4, 24, 17, 41, 57),\n  'geo': None,\n  'id': 1253740978420187137,\n  'retweet_count': 7,\n  'source': 'Calcaware',\n  'text': 'RT @mvollmer1: A #DigitalTwin allows clear visibility into the risks of a complex, interconnected #supplychain @BCG \\n\\n#ArtificialIntelligen…',\n  'in_reply_to_screen_name': None},\n {'_id': ObjectId('5ea32c0087fa0ccd4d29bc84'),\n  'created_at': datetime.datetime(2020, 4, 24, 18, 11, 59),\n  'geo': None,\n  'id': 1253748535461326853,\n  'retweet_count': 9,\n  'source': 'Twitter for Android',\n  'text': 'RT @gp_pulipaka: Free eBook: Streaming Change Data Capture. #BigData #Analytics #DataScience #AI #MachineLearning #IoT #IIoT #Python #RStat…',\n  'in_reply_to_screen_name': None},\n {'_id': ObjectId('5ea32c0087fa0ccd4d29bc85'),\n  'created_at': datetime.datetime(2020, 4, 24, 18, 11, 57),\n  'geo': None,\n  'id': 1253748529794867201,\n  'retweet_count': 36,\n  'source': 'ProjectLearn.io',\n  'text': 'RT @gp_pulipaka: Leverage Transfer Learning. #BigData #Analytics #DataScience #AI #MachineLearning #IoT #IIoT #PyTorch #Python #RStats #Ten…',\n  'in_reply_to_screen_name': None},\n {'_id': ObjectId('5ea32c0087fa0ccd4d29bc86'),\n  'created_at': datetime.datetime(2020, 4, 24, 18, 11, 53),\n  'geo': None,\n  'id': 1253748513726496768,\n  'retweet_count': 31,\n  'source': 'Twitter for Android',\n  'text': 'RT @gp_pulipaka: Fuzzy Matching with #PySpark. #BigData #Analytics #DataScience #AI #MachineLearning #IoT #IIoT #PyTorch #Python #RStats #T…',\n  'in_reply_to_screen_name': None},\n {'_id': ObjectId('5ea32c0087fa0ccd4d29bc87'),\n  'created_at': datetime.datetime(2020, 4, 24, 18, 11, 49),\n  'geo': None,\n  'id': 1253748497305591809,\n  'retweet_count': 1,\n  'source': 'Twitter Web App',\n  'text': 'RT @chidambara09: @metoscm @nodexl @mihkal @docassar @enricomolinari @FmFrancoise @smr_foundation @marc_smith @NodeXL_Mktng MEtos CM \\nTh A…',\n  'in_reply_to_screen_name': None},\n {'_id': ObjectId('5ea32c0087fa0ccd4d29bc88'),\n  'created_at': datetime.datetime(2020, 4, 24, 18, 11, 44),\n  'geo': None,\n  'id': 1253748474165649408,\n  'retweet_count': 1,\n  'source': 'Twitter Web App',\n  'text': '@metoscm @nodexl @mihkal @docassar @enricomolinari @FmFrancoise @smr_foundation @marc_smith @NodeXL_Mktng MEtos CM… https://t.co/oj8uYZkHXQ',\n  'in_reply_to_screen_name': 'metoscm'},\n {'_id': ObjectId('5ea32c0087fa0ccd4d29bc89'),\n  'created_at': datetime.datetime(2020, 4, 24, 18, 11, 32),\n  'geo': None,\n  'id': 1253748424702337026,\n  'retweet_count': 11,\n  'source': 'youtubetypebeat',\n  'text': 'RT @intikhabalam: Your only limitation is yourself. #Motivation #BigData  #Startup #Entrepreneur #MakeYourOwnLane #SEO #SMM #IoT\\n #entrepre…',\n  'in_reply_to_screen_name': None},\n {'_id': ObjectId('5ea32c0087fa0ccd4d29bc8a'),\n  'created_at': datetime.datetime(2020, 4, 24, 18, 11, 23),\n  'geo': None,\n  'id': 1253748385414287361,\n  'retweet_count': 3,\n  'source': 'auto is the only way it can be ',\n  'text': 'RT @KChaudhari06: #dataprotection #cloud #BigData https://t.co/PRK4C7QOlU',\n  'in_reply_to_screen_name': None},\n {'_id': ObjectId('5ea32c0087fa0ccd4d29bc8b'),\n  'created_at': datetime.datetime(2020, 4, 24, 18, 11, 18),\n  'geo': None,\n  'id': 1253748365415845889,\n  'retweet_count': 3,\n  'source': 'forRetweeting',\n  'text': 'RT @KChaudhari06: #dataprotection #cloud #BigData https://t.co/PRK4C7QOlU',\n  'in_reply_to_screen_name': None},\n {'_id': ObjectId('5ea32c0087fa0ccd4d29bc8c'),\n  'created_at': datetime.datetime(2020, 4, 24, 18, 11, 15),\n  'geo': None,\n  'id': 1253748354909167616,\n  'retweet_count': 49,\n  'source': 'Twitter for Android',\n  'text': 'RT @EchoFintech: Dataviz : If 100 people lived on earth!\\n\\n#AI #MachineLearning #BigData #dataviz HT @jblefevre60\\n\\n@gvalan @lesguer_lionel @…',\n  'in_reply_to_screen_name': None},\n {'_id': ObjectId('5ea32c0087fa0ccd4d29bc8d'),\n  'created_at': datetime.datetime(2020, 4, 24, 18, 11, 2),\n  'geo': None,\n  'id': 1253748300056059911,\n  'retweet_count': 1,\n  'source': 'Twitter Web App',\n  'text': 'RT @IAM__Network: Ingram Micro Doubles Down On IoT With New Center Of Excellence \\n\\nREAD MORE: https://t.co/L0asq0syRW\\n\\n#BigData #ConnectedD…',\n  'in_reply_to_screen_name': None},\n {'_id': ObjectId('5ea32c1a87fa0ccd4d29bc8f'),\n  'text': 'HELLO! This is my first update!!'},\n {'_id': ObjectId('5ea32c4a87fa0ccd4d29bc90'),\n  'age': '7',\n  'gender': 'Male',\n  'address': {'street': 'pennsylvania avenue',\n   'number': '1600',\n   'city': 'Washington DC'},\n  'retweets': 150,\n  'source': 'Twitter from Android',\n  'first_name': 'Not Ashwin',\n  'likes': ['nature', 'music', 'video games']},\n {'_id': ObjectId('5ea32fd587fa0ccd4d29bc93'),\n  'created_at': datetime.datetime(2020, 4, 24, 18, 28, 33),\n  'geo': None,\n  'id': 1253752705631154178,\n  'retweet_count': 24,\n  'source': 'Twitter for Android',\n  'text': 'RT @gp_pulipaka: Introduction to Neural Networks. #BigData #Analytics #DataScience #AI #MachineLearning #IoT #IIoT #PyTorch #Python #RStats…',\n  'in_reply_to_screen_name': None},\n {'_id': ObjectId('5ea32fd587fa0ccd4d29bc94'),\n  'created_at': datetime.datetime(2020, 4, 24, 18, 28, 24),\n  'geo': None,\n  'id': 1253752668587163652,\n  'retweet_count': 26,\n  'source': 'TweetDeck',\n  'text': 'RT @charlie_lees: The @PREdiCCt study - take a break from COVID-19 and watch this 2 minute film. This is our #bigdata study looking at the…',\n  'in_reply_to_screen_name': None},\n {'_id': ObjectId('5ea32fd587fa0ccd4d29bc95'),\n  'created_at': datetime.datetime(2020, 4, 24, 18, 28, 18),\n  'geo': None,\n  'id': 1253752642225897472,\n  'retweet_count': 0,\n  'source': 'Twitter Web App',\n  'text': 'Trenchant naming for intrepid branding. This iPaaS simplifies integration with a single set of code that executes o… https://t.co/9vJEyQRQCk',\n  'in_reply_to_screen_name': None},\n {'_id': ObjectId('5ea32fd587fa0ccd4d29bc96'),\n  'created_at': datetime.datetime(2020, 4, 24, 18, 28, 8),\n  'geo': None,\n  'id': 1253752603038453762,\n  'retweet_count': 3,\n  'source': 'Twitter Web App',\n  'text': 'RT @Ronald_vanLoon: What To Expect From Generation #AI?\\nby @fede_guerrini @Forbes\\n\\nGo to https://t.co/RAqqrb70O6\\n\\n#IoT #BigData #Artificial…',\n  'in_reply_to_screen_name': None},\n {'_id': ObjectId('5ea32fd587fa0ccd4d29bc97'),\n  'created_at': datetime.datetime(2020, 4, 24, 18, 27, 59),\n  'geo': None,\n  'id': 1253752563897438211,\n  'retweet_count': 3,\n  'source': 'Twitter Web App',\n  'text': 'RT @AMULETAnalytics: The insideBIGDATA IMPACT 50 List for Q2 2020 https://t.co/Utpqb1FmLJ\\n\\n#BigData #DataScience #MachineLearning #AI #Deep…',\n  'in_reply_to_screen_name': None},\n {'_id': ObjectId('5ea32fd587fa0ccd4d29bc98'),\n  'created_at': datetime.datetime(2020, 4, 24, 18, 27, 45),\n  'geo': None,\n  'id': 1253752506238337025,\n  'retweet_count': 24,\n  'source': 'Twitter for Android',\n  'text': 'RT @gp_pulipaka: Introduction to Neural Networks. #BigData #Analytics #DataScience #AI #MachineLearning #IoT #IIoT #PyTorch #Python #RStats…',\n  'in_reply_to_screen_name': None},\n {'_id': ObjectId('5ea32fd587fa0ccd4d29bc99'),\n  'created_at': datetime.datetime(2020, 4, 24, 18, 27, 42),\n  'geo': None,\n  'id': 1253752494263603200,\n  'retweet_count': 15,\n  'source': 'Twitter Web App',\n  'text': 'RT @gp_pulipaka: Best Languages for #DataScience and #Statistics in One Picture. #BigData #Analytics #IoT #IIoT #PyTorch #Python #RStats #T…',\n  'in_reply_to_screen_name': None},\n {'_id': ObjectId('5ea32fd587fa0ccd4d29bc9a'),\n  'created_at': datetime.datetime(2020, 4, 24, 18, 27, 35),\n  'geo': None,\n  'id': 1253752464039436288,\n  'retweet_count': 30,\n  'source': 'Twitter Web App',\n  'text': 'RT @Claire_Harris82: 10 Impacts of #Covid19 on #EmergingTech\\u200b &gt;&gt;&gt; @MikeQuindazzi &gt;&gt;&gt; #AI #BigData #CloudComputing #Robotics #DigitalMarketi…',\n  'in_reply_to_screen_name': None},\n {'_id': ObjectId('5ea32fd587fa0ccd4d29bc9b'),\n  'created_at': datetime.datetime(2020, 4, 24, 18, 27, 29),\n  'geo': None,\n  'id': 1253752438663806976,\n  'retweet_count': 33,\n  'source': 'Twitter Web App',\n  'text': 'RT @antgrasso: The exponential growth of data, fueled by IoT and the use of connected devices, is undisputed. Look at \"One\\xa0Day in Data.\" Li…',\n  'in_reply_to_screen_name': None},\n {'_id': ObjectId('5ea32fd587fa0ccd4d29bc9c'),\n  'created_at': datetime.datetime(2020, 4, 24, 18, 27, 26),\n  'geo': None,\n  'id': 1253752427330908164,\n  'retweet_count': 1,\n  'source': 'Twitter Web App',\n  'text': \"RT @mvollmer1: The exponential effects of #SocialDistancing to slow the #coronavirus, it's in the data by @StatistaCharts \\n\\nMT @MikeQuindaz…\",\n  'in_reply_to_screen_name': None},\n {'_id': ObjectId('5ea32fd587fa0ccd4d29bc9d'),\n  'text': 'HELLO! This is my first update!!'},\n {'_id': ObjectId('5ea3300687fa0ccd4d29bc9e'),\n  'name': 'Steve',\n  'age': 25,\n  'gender': 'Male',\n  'address': {'street': 'Huntington', 'number': 23, 'city': 'Boston'}},\n {'_id': ObjectId('5ea3300687fa0ccd4d29bc9f'),\n  'name': 'Tom',\n  'age': 33,\n  'gender': 'Male',\n  'address': {'street': 'Mass ave', 'number': 44, 'city': 'Boston'}},\n {'_id': ObjectId('5ea33b461989861a99d410b4'),\n  'created_at': datetime.datetime(2020, 4, 24, 19, 17, 17),\n  'geo': None,\n  'id': 1253764969893593088,\n  'retweet_count': 2,\n  'source': 'Twitter Web App',\n  'text': 'RT @sigmaridge: Cisco’s SD-WAN Leadership Recognized by Dell’Oro and by Gartner Peer Insights https://t.co/pmswAD3hz3\\nFor more info: https:…',\n  'in_reply_to_screen_name': None},\n {'_id': ObjectId('5ea33b461989861a99d410b5'),\n  'created_at': datetime.datetime(2020, 4, 24, 19, 17, 2),\n  'geo': None,\n  'id': 1253764908723982342,\n  'retweet_count': 0,\n  'source': 'Twitter Web App',\n  'text': 'Michelle Malkin: #BigData ‘Pulling The Plug’ On Conservatives ‘Who Might Tip The Scales’ In 2020\\nby @BreitbartNews… https://t.co/ZL9LJCKGIZ',\n  'in_reply_to_screen_name': None},\n {'_id': ObjectId('5ea33b461989861a99d410b6'),\n  'created_at': datetime.datetime(2020, 4, 24, 19, 16, 49),\n  'geo': None,\n  'id': 1253764852629278720,\n  'retweet_count': 17,\n  'source': 'Twitter Web App',\n  'text': 'RT @gp_pulipaka: 6 Free Data Science Books. #BigData #Analytics #DataScience #NLProc #IoT #IIoT #PyTorch #Python #RStats #TensorFlow #Java…',\n  'in_reply_to_screen_name': None},\n {'_id': ObjectId('5ea33b461989861a99d410b7'),\n  'created_at': datetime.datetime(2020, 4, 24, 19, 16, 37),\n  'geo': None,\n  'id': 1253764801685327880,\n  'retweet_count': 7,\n  'source': 'Show Finder',\n  'text': 'RT @KirkDBorne: ++...and Explore Hundreds of #DataScience audiobooks to deepen your #DataLiteracy, Data Proficiency, Data Leadership, and D…',\n  'in_reply_to_screen_name': None},\n {'_id': ObjectId('5ea33b461989861a99d410b8'),\n  'created_at': datetime.datetime(2020, 4, 24, 19, 16, 21),\n  'geo': None,\n  'id': 1253764736891662336,\n  'retweet_count': 22,\n  'source': 'Twitter for Android',\n  'text': 'RT @gp_pulipaka: Free eBook: Container Networking: From #Docker to #Kubernetes. #BigData #Analytics #DataScience #AI #MachineLearning #IoT…',\n  'in_reply_to_screen_name': None},\n {'_id': ObjectId('5ea33b461989861a99d410b9'),\n  'created_at': datetime.datetime(2020, 4, 24, 19, 16, 9),\n  'geo': None,\n  'id': 1253764683598790656,\n  'retweet_count': 10,\n  'source': 'Twitter Web App',\n  'text': 'RT @WorldTrendsInfo: 5 ways to save money during a coronavirus lockdown - CNET: #DeepLearning #IoT #BigData cc @motorcycletwitt @mikequinda…',\n  'in_reply_to_screen_name': None},\n {'_id': ObjectId('5ea33b461989861a99d410ba'),\n  'created_at': datetime.datetime(2020, 4, 24, 19, 16, 6),\n  'geo': None,\n  'id': 1253764673964584963,\n  'retweet_count': 1,\n  'source': 'Twitter for Android',\n  'text': 'RT @RichardEudes: Using Adversarial Debiasing to Reduce Model Bias https://t.co/IowPZMHv1d #bigdata, #datascience, #datascience #ds',\n  'in_reply_to_screen_name': None},\n {'_id': ObjectId('5ea33b461989861a99d410bb'),\n  'created_at': datetime.datetime(2020, 4, 24, 19, 16, 5),\n  'geo': None,\n  'id': 1253764669120135168,\n  'retweet_count': 3,\n  'source': 'Twitter for Android',\n  'text': 'RT @KirkDBorne: Smart Communities -- Delivering Intelligent Community Design with #GIS: https://t.co/L0b2lD8W1K by @govloop \\n\\n#SmartCities…',\n  'in_reply_to_screen_name': None},\n {'_id': ObjectId('5ea33b461989861a99d410bc'),\n  'created_at': datetime.datetime(2020, 4, 24, 19, 16, 4),\n  'geo': None,\n  'id': 1253764664183439360,\n  'retweet_count': 24,\n  'source': 'Twitter for iPhone',\n  'text': 'RT @labordeolivier: Driving Success of #DataScience Solutions: Skills, Roles &amp; Responsibilities\\nby @Gartner_inc @Ronald_vanLoon\\n#BigData #A…',\n  'in_reply_to_screen_name': None},\n {'_id': ObjectId('5ea33b461989861a99d410bd'),\n  'created_at': datetime.datetime(2020, 4, 24, 19, 15, 58),\n  'geo': None,\n  'id': 1253764638107451393,\n  'retweet_count': 50,\n  'source': 'Twitter for Android',\n  'text': 'RT @gp_pulipaka: Introduction to Neural Networks. #BigData #Analytics #DataScience #AI #MachineLearning #IoT #IIoT #PyTorch #Python #RStats…',\n  'in_reply_to_screen_name': None},\n {'_id': ObjectId('5ea33b461989861a99d410be'),\n  'age': '7',\n  'gender': 'Male',\n  'address': {'street': 'pennsylvania avenue',\n   'number': '1600',\n   'city': 'Washington DC'},\n  'retweets': 150,\n  'source': 'Twitter from Android',\n  'first_name': 'Not Ashwin'},\n {'_id': ObjectId('5ea33b461989861a99d410bf'),\n  'name': 'Steve',\n  'age': 25,\n  'gender': 'Male',\n  'address': {'street': 'Huntington', 'number': 23, 'city': 'Boston'}},\n {'_id': ObjectId('5ea33b461989861a99d410c0'),\n  'name': 'Tom',\n  'age': 33,\n  'gender': 'Male',\n  'address': {'street': 'Mass ave', 'number': 44, 'city': 'Boston'}},\n {'_id': ObjectId('5ea33b9c1989861a99d410c1'),\n  'created_at': datetime.datetime(2020, 4, 24, 19, 17, 17),\n  'geo': None,\n  'id': 1253764969893593088,\n  'retweet_count': 2,\n  'source': 'Twitter Web App',\n  'text': 'RT @sigmaridge: Cisco’s SD-WAN Leadership Recognized by Dell’Oro and by Gartner Peer Insights https://t.co/pmswAD3hz3\\nFor more info: https:…',\n  'in_reply_to_screen_name': None},\n {'_id': ObjectId('5ea33b9c1989861a99d410c2'),\n  'created_at': datetime.datetime(2020, 4, 24, 19, 17, 2),\n  'geo': None,\n  'id': 1253764908723982342,\n  'retweet_count': 0,\n  'source': 'Twitter Web App',\n  'text': 'Michelle Malkin: #BigData ‘Pulling The Plug’ On Conservatives ‘Who Might Tip The Scales’ In 2020\\nby @BreitbartNews… https://t.co/ZL9LJCKGIZ',\n  'in_reply_to_screen_name': None},\n {'_id': ObjectId('5ea33b9c1989861a99d410c3'),\n  'created_at': datetime.datetime(2020, 4, 24, 19, 16, 49),\n  'geo': None,\n  'id': 1253764852629278720,\n  'retweet_count': 17,\n  'source': 'Twitter Web App',\n  'text': 'RT @gp_pulipaka: 6 Free Data Science Books. #BigData #Analytics #DataScience #NLProc #IoT #IIoT #PyTorch #Python #RStats #TensorFlow #Java…',\n  'in_reply_to_screen_name': None},\n {'_id': ObjectId('5ea33b9c1989861a99d410c4'),\n  'created_at': datetime.datetime(2020, 4, 24, 19, 16, 37),\n  'geo': None,\n  'id': 1253764801685327880,\n  'retweet_count': 7,\n  'source': 'Show Finder',\n  'text': 'RT @KirkDBorne: ++...and Explore Hundreds of #DataScience audiobooks to deepen your #DataLiteracy, Data Proficiency, Data Leadership, and D…',\n  'in_reply_to_screen_name': None},\n {'_id': ObjectId('5ea33b9c1989861a99d410c5'),\n  'created_at': datetime.datetime(2020, 4, 24, 19, 16, 21),\n  'geo': None,\n  'id': 1253764736891662336,\n  'retweet_count': 22,\n  'source': 'Twitter for Android',\n  'text': 'RT @gp_pulipaka: Free eBook: Container Networking: From #Docker to #Kubernetes. #BigData #Analytics #DataScience #AI #MachineLearning #IoT…',\n  'in_reply_to_screen_name': None},\n {'_id': ObjectId('5ea33b9c1989861a99d410c6'),\n  'created_at': datetime.datetime(2020, 4, 24, 19, 16, 9),\n  'geo': None,\n  'id': 1253764683598790656,\n  'retweet_count': 10,\n  'source': 'Twitter Web App',\n  'text': 'RT @WorldTrendsInfo: 5 ways to save money during a coronavirus lockdown - CNET: #DeepLearning #IoT #BigData cc @motorcycletwitt @mikequinda…',\n  'in_reply_to_screen_name': None},\n {'_id': ObjectId('5ea33b9c1989861a99d410c7'),\n  'created_at': datetime.datetime(2020, 4, 24, 19, 16, 6),\n  'geo': None,\n  'id': 1253764673964584963,\n  'retweet_count': 1,\n  'source': 'Twitter for Android',\n  'text': 'RT @RichardEudes: Using Adversarial Debiasing to Reduce Model Bias https://t.co/IowPZMHv1d #bigdata, #datascience, #datascience #ds',\n  'in_reply_to_screen_name': None},\n {'_id': ObjectId('5ea33b9c1989861a99d410c8'),\n  'created_at': datetime.datetime(2020, 4, 24, 19, 16, 5),\n  'geo': None,\n  'id': 1253764669120135168,\n  'retweet_count': 3,\n  'source': 'Twitter for Android',\n  'text': 'RT @KirkDBorne: Smart Communities -- Delivering Intelligent Community Design with #GIS: https://t.co/L0b2lD8W1K by @govloop \\n\\n#SmartCities…',\n  'in_reply_to_screen_name': None},\n {'_id': ObjectId('5ea33b9c1989861a99d410c9'),\n  'created_at': datetime.datetime(2020, 4, 24, 19, 16, 4),\n  'geo': None,\n  'id': 1253764664183439360,\n  'retweet_count': 24,\n  'source': 'Twitter for iPhone',\n  'text': 'RT @labordeolivier: Driving Success of #DataScience Solutions: Skills, Roles &amp; Responsibilities\\nby @Gartner_inc @Ronald_vanLoon\\n#BigData #A…',\n  'in_reply_to_screen_name': None},\n {'_id': ObjectId('5ea33b9c1989861a99d410ca'),\n  'created_at': datetime.datetime(2020, 4, 24, 19, 15, 58),\n  'geo': None,\n  'id': 1253764638107451393,\n  'retweet_count': 50,\n  'source': 'Twitter for Android',\n  'text': 'RT @gp_pulipaka: Introduction to Neural Networks. #BigData #Analytics #DataScience #AI #MachineLearning #IoT #IIoT #PyTorch #Python #RStats…',\n  'in_reply_to_screen_name': None},\n {'_id': ObjectId('5ea33e5f1989861a99d410cd'),\n  'created_at': datetime.datetime(2020, 4, 24, 19, 30, 16),\n  'geo': None,\n  'id': 1253768238426656769,\n  'retweet_count': 0,\n  'source': 'Hootsuite Inc.',\n  'text': 'RT @HarbRimah: MIT has developed #AI that helps #Robots learn to do household chores\\n\\n#ArtificialIntelligence #ML… https://t.co/iGFX6qCe6L',\n  'in_reply_to_screen_name': None},\n {'_id': ObjectId('5ea33e5f1989861a99d410ce'),\n  'created_at': datetime.datetime(2020, 4, 24, 19, 30, 13),\n  'geo': None,\n  'id': 1253768226397474818,\n  'retweet_count': 0,\n  'source': 'mLabs - Gestão de Redes Sociais',\n  'text': 'Sexta feira é dia de #hackdodia! Conhece Google Trends? É uma ferramenta gratuita para pesquisar a evolução de pesq… https://t.co/HGx2SpLrpd',\n  'in_reply_to_screen_name': None},\n {'_id': ObjectId('5ea33e5f1989861a99d410cf'),\n  'created_at': datetime.datetime(2020, 4, 24, 19, 30, 7),\n  'geo': None,\n  'id': 1253768199180636160,\n  'retweet_count': 0,\n  'source': 'Twitter for iPhone',\n  'text': '@CELOTOR en #ganado #Angus puro registrado #productividad en #smscelotor #iot #bigdata @colproductiva @InnpulsaCol… https://t.co/83UviUiEpo',\n  'in_reply_to_screen_name': 'CELOTOR'},\n {'_id': ObjectId('5ea33e5f1989861a99d410d0'),\n  'created_at': datetime.datetime(2020, 4, 24, 19, 30, 5),\n  'geo': None,\n  'id': 1253768190712307714,\n  'retweet_count': 10,\n  'source': 'TwinyBots',\n  'text': 'RT @KirkDBorne: Smart Communities -- Delivering Intelligent Community Design with #GIS: https://t.co/L0b2lD8W1K by @govloop \\n\\n#SmartCities…',\n  'in_reply_to_screen_name': None},\n {'_id': ObjectId('5ea33e5f1989861a99d410d1'),\n  'created_at': datetime.datetime(2020, 4, 24, 19, 30, 4),\n  'geo': None,\n  'id': 1253768187281358858,\n  'retweet_count': 0,\n  'source': 'IoT BigData Jobs',\n  'text': 'Believe in yourself... you are great =&gt; Sr. Data Analyst https://t.co/rUFkh0vNVH #bigdata #iot #analytics #ai https://t.co/lB6cNfOMyw',\n  'in_reply_to_screen_name': None},\n {'_id': ObjectId('5ea33e5f1989861a99d410d2'),\n  'text': 'HELLO! This is my first update!!'},\n {'_id': ObjectId('5ea33e5f1989861a99d410d3'),\n  'name': 'Steve',\n  'age': 25,\n  'gender': 'Male',\n  'address': {'street': 'Huntington', 'number': 23, 'city': 'Boston'}},\n {'_id': ObjectId('5ea33e5f1989861a99d410d4'),\n  'name': 'Tom',\n  'age': 33,\n  'gender': 'Male',\n  'address': {'street': 'Mass ave', 'number': 44, 'city': 'Boston'}},\n {'_id': ObjectId('5ea342dc9bd883a00ede7085'),\n  'created_at': datetime.datetime(2020, 4, 24, 19, 49, 37),\n  'geo': None,\n  'id': 1253773107581661184,\n  'retweet_count': 46,\n  'source': 'Twitter for Android',\n  'text': 'RT @gp_pulipaka: R Code to Accompany Real-World #MachineLearning (Chapters 2-4 Updates). #BigData #Analytics #DataScience #AI #IoT #IIoT #P…',\n  'in_reply_to_screen_name': None},\n {'_id': ObjectId('5ea342dc9bd883a00ede7086'),\n  'created_at': datetime.datetime(2020, 4, 24, 19, 49, 33),\n  'geo': None,\n  'id': 1253773092008136705,\n  'retweet_count': 93,\n  'source': 'Twitter for iPhone',\n  'text': 'RT @CEO_AISOMA: Data is the Fuel for AI: Data Collection Methods for #MachineLearning &amp; #DeepLearning\\n\\nmore slides 👉 https://t.co/AQYQKFBP9…',\n  'in_reply_to_screen_name': None},\n {'_id': ObjectId('5ea342dc9bd883a00ede7087'),\n  'created_at': datetime.datetime(2020, 4, 24, 19, 49, 28),\n  'geo': None,\n  'id': 1253773068239020032,\n  'retweet_count': 0,\n  'source': 'Twitter Web App',\n  'text': '@peekodesigno\\nSpooky! Become anyone in your Skype calls with this #AI tool \\nhttps://t.co/sXzecIOew6 \\n#Robotics… https://t.co/XDBe8nkKNh',\n  'in_reply_to_screen_name': 'peekodesigno'},\n {'_id': ObjectId('5ea342dc9bd883a00ede7088'),\n  'created_at': datetime.datetime(2020, 4, 24, 19, 49, 26),\n  'geo': None,\n  'id': 1253773063012978688,\n  'retweet_count': 15,\n  'source': 'Twitter for Android',\n  'text': 'RT @gp_pulipaka: A Brief Introduction to Neural Networks. #BigData #Analytics #DataScience #AI #MachineLearning #IoT #IIoT #Python #RStats…',\n  'in_reply_to_screen_name': None},\n {'_id': ObjectId('5ea342dc9bd883a00ede7089'),\n  'created_at': datetime.datetime(2020, 4, 24, 19, 49, 24),\n  'geo': None,\n  'id': 1253773051772141570,\n  'retweet_count': 0,\n  'source': 'Twitter Web App',\n  'text': 'Hoy más que nunca hay que brindar excelencia a nuestros clientes y aliados estratégicos. Agenda una videoconferenci… https://t.co/7d7yNQYUuP',\n  'in_reply_to_screen_name': None},\n {'_id': ObjectId('5ea342dc9bd883a00ede708a'),\n  'created_at': datetime.datetime(2020, 4, 24, 19, 49, 17),\n  'geo': None,\n  'id': 1253773025805123584,\n  'retweet_count': 15,\n  'source': 'LinuxBot2.0',\n  'text': 'RT @gp_pulipaka: A Brief Introduction to Neural Networks. #BigData #Analytics #DataScience #AI #MachineLearning #IoT #IIoT #Python #RStats…',\n  'in_reply_to_screen_name': None},\n {'_id': ObjectId('5ea342dc9bd883a00ede708b'),\n  'created_at': datetime.datetime(2020, 4, 24, 19, 49, 13),\n  'geo': None,\n  'id': 1253773008436695042,\n  'retweet_count': 7,\n  'source': 'Twitter for iPhone',\n  'text': \"RT @GPAinsights: Thank you @OntarioCofC for a great webinar on #bigdata's role in #covid19 economic recovery. https://t.co/V86p46g5Bs\",\n  'in_reply_to_screen_name': None},\n {'_id': ObjectId('5ea342dc9bd883a00ede708c'),\n  'created_at': datetime.datetime(2020, 4, 24, 19, 49, 9),\n  'geo': None,\n  'id': 1253772990896123907,\n  'retweet_count': 15,\n  'source': 'React Dev autobot',\n  'text': 'RT @gp_pulipaka: A Brief Introduction to Neural Networks. #BigData #Analytics #DataScience #AI #MachineLearning #IoT #IIoT #Python #RStats…',\n  'in_reply_to_screen_name': None},\n {'_id': ObjectId('5ea342dc9bd883a00ede708d'),\n  'created_at': datetime.datetime(2020, 4, 24, 19, 49, 4),\n  'geo': None,\n  'id': 1253772968867631110,\n  'retweet_count': 87,\n  'source': 'xael bot',\n  'text': 'RT @CEO_AISOMA: Artificial Intelligence in Healthcare - Promising Progress (Best Use Cases)\\n\\n#AI #MachineLearning #Healthcare #HealthTech #…',\n  'in_reply_to_screen_name': None},\n {'_id': ObjectId('5ea342dc9bd883a00ede708e'),\n  'created_at': datetime.datetime(2020, 4, 24, 19, 49, 4),\n  'geo': None,\n  'id': 1253772967525433344,\n  'retweet_count': 15,\n  'source': 'RTML',\n  'text': 'RT @gp_pulipaka: A Brief Introduction to Neural Networks. #BigData #Analytics #DataScience #AI #MachineLearning #IoT #IIoT #Python #RStats…',\n  'in_reply_to_screen_name': None},\n {'_id': ObjectId('5ea342dc9bd883a00ede708f'),\n  'age': '7',\n  'gender': 'Male',\n  'address': {'street': 'pennsylvania avenue',\n   'number': '1600',\n   'city': 'Washington DC'},\n  'retweets': 150,\n  'source': 'Twitter from Android',\n  'first_name': 'Not Ashwin'},\n {'_id': ObjectId('5ea342dc9bd883a00ede7090'),\n  'name': 'Steve',\n  'age': 25,\n  'gender': 'Male',\n  'address': {'street': 'Huntington', 'number': 23, 'city': 'Boston'}},\n {'_id': ObjectId('5ea342dc9bd883a00ede7091'),\n  'name': 'Tom',\n  'age': 33,\n  'gender': 'Male',\n  'address': {'street': 'Mass ave', 'number': 44, 'city': 'Boston'}},\n {'_id': ObjectId('5ea34ac878470fafbce7aa11'),\n  'created_at': datetime.datetime(2020, 4, 24, 20, 23, 33),\n  'geo': None,\n  'id': 1253781647847194626,\n  'retweet_count': 101,\n  'source': 'ProjectLearn.io',\n  'text': 'RT @CEO_AISOMA: Data is the Fuel for AI: Data Collection Methods for #MachineLearning &amp; #DeepLearning\\n\\nmore slides 👉 https://t.co/AQYQKFBP9…',\n  'in_reply_to_screen_name': None},\n {'_id': ObjectId('5ea34ac878470fafbce7aa12'),\n  'created_at': datetime.datetime(2020, 4, 24, 20, 23, 11),\n  'geo': None,\n  'id': 1253781554305867784,\n  'retweet_count': 24,\n  'source': 'Twitter Web App',\n  'text': \"RT @_asifbhat_: This robot's movements are based on snakes  #ArtificialIntelligence #AI #Robotics #datascience #machinelearning  #deeplearn…\",\n  'in_reply_to_screen_name': None},\n {'_id': ObjectId('5ea34ac878470fafbce7aa13'),\n  'created_at': datetime.datetime(2020, 4, 24, 20, 22, 47),\n  'geo': None,\n  'id': 1253781454653239296,\n  'retweet_count': 54,\n  'source': 'Twitter Web App',\n  'text': 'RT @EchoFintech: Dataviz : If 100 people lived on earth!\\n\\n#AI #MachineLearning #BigData #dataviz HT @jblefevre60\\n\\n@gvalan @lesguer_lionel @…',\n  'in_reply_to_screen_name': None},\n {'_id': ObjectId('5ea34ac878470fafbce7aa14'),\n  'created_at': datetime.datetime(2020, 4, 24, 20, 22, 44),\n  'geo': None,\n  'id': 1253781441818705926,\n  'retweet_count': 29,\n  'source': 'javascriptdigest2',\n  'text': 'RT @gp_pulipaka: #Kubernetes Cheat Sheet. #BigData #Analytics #DataScience #AI #MachineLearning #IoT #IIoT #PyTorch #Python #RStats #Tensor…',\n  'in_reply_to_screen_name': None},\n {'_id': ObjectId('5ea34ac878470fafbce7aa15'),\n  'created_at': datetime.datetime(2020, 4, 24, 20, 22, 29),\n  'geo': None,\n  'id': 1253781378707193859,\n  'retweet_count': 6,\n  'source': 'hubofml',\n  'text': 'RT @KirkDBorne: The Potential of Empathetic #AI: https://t.co/77rruwUKdn by @Pega\\n\\n#CX #CXM #CustomerJourney #ExperienceEconomy #BigData #D…',\n  'in_reply_to_screen_name': None},\n {'_id': ObjectId('5ea34ac878470fafbce7aa16'),\n  'created_at': datetime.datetime(2020, 4, 24, 20, 22, 24),\n  'geo': None,\n  'id': 1253781356699623425,\n  'retweet_count': 6,\n  'source': 'Mobile Web (M2)',\n  'text': 'RT @KirkDBorne: The Potential of Empathetic #AI: https://t.co/77rruwUKdn by @Pega\\n\\n#CX #CXM #CustomerJourney #ExperienceEconomy #BigData #D…',\n  'in_reply_to_screen_name': None},\n {'_id': ObjectId('5ea34ac878470fafbce7aa17'),\n  'created_at': datetime.datetime(2020, 4, 24, 20, 22, 6),\n  'geo': None,\n  'id': 1253781280774402049,\n  'retweet_count': 0,\n  'source': 'Social Media Publisher App ',\n  'text': 'Dependency on digital connectivity is real – do you know what remains vital to grow our connected world?… https://t.co/iAw1uTWMEZ',\n  'in_reply_to_screen_name': None},\n {'_id': ObjectId('5ea34ac878470fafbce7aa18'),\n  'created_at': datetime.datetime(2020, 4, 24, 20, 21, 51),\n  'geo': None,\n  'id': 1253781219663392770,\n  'retweet_count': 2,\n  'source': 'Mobile Web (M2)',\n  'text': 'RT @freshsalis: MikeQuindazzi: RT chboursin: The future of retail? Autonomous check-out combines with #AR &gt;&gt;&gt; MikeQuindazzi &gt;&gt;&gt; #AI #BigDat…',\n  'in_reply_to_screen_name': None},\n {'_id': ObjectId('5ea34ac878470fafbce7aa19'),\n  'created_at': datetime.datetime(2020, 4, 24, 20, 21, 49),\n  'geo': None,\n  'id': 1253781209223778304,\n  'retweet_count': 37,\n  'source': 'Twitter for Android',\n  'text': 'RT @gp_pulipaka: Dplyr: A grammar of Data Manipulation - Cheat Sheet. #BigData #Analytics #DataScience #AI #MachineLearning #IoT #IIoT #Pyt…',\n  'in_reply_to_screen_name': None},\n {'_id': ObjectId('5ea34ac878470fafbce7aa1a'),\n  'created_at': datetime.datetime(2020, 4, 24, 20, 21, 45),\n  'geo': None,\n  'id': 1253781194786910209,\n  'retweet_count': 2,\n  'source': 'TheBigDataBot',\n  'text': 'RT @WarOnPrivacy: UK Gov looking toward the next stage of Snooper Charter expansion - \\n\\n- gifting the ability to spy on citizens (not suspe…',\n  'in_reply_to_screen_name': None},\n {'_id': ObjectId('5ea34ac878470fafbce7aa1b'),\n  'text': 'HELLO! This is my first update!!'},\n {'_id': ObjectId('5ea34ac878470fafbce7aa1c'),\n  'name': 'Steve',\n  'age': 25,\n  'gender': 'Male',\n  'address': {'street': 'Huntington', 'number': 23, 'city': 'Boston'}},\n {'_id': ObjectId('5ea34ac878470fafbce7aa1d'),\n  'name': 'Tom',\n  'age': 33,\n  'gender': 'Male',\n  'address': {'street': 'Mass ave', 'number': 44, 'city': 'Boston'}},\n {'_id': ObjectId('5ea34b2178470fafbce7aa20'),\n  'created_at': datetime.datetime(2020, 4, 24, 20, 24, 47),\n  'geo': None,\n  'id': 1253781956367544320,\n  'retweet_count': 1,\n  'source': 'Twitter Web App',\n  'text': 'RT @5stocksinto: 5 Indian Stocks Into Cosmetics https://t.co/6H0ntEzrej #Indian #Beauty #Stocks #Investment #Cosmetics #Makeup #Lipstick #M…',\n  'in_reply_to_screen_name': None},\n {'_id': ObjectId('5ea34b2178470fafbce7aa21'),\n  'created_at': datetime.datetime(2020, 4, 24, 20, 24, 40),\n  'geo': None,\n  'id': 1253781928320196608,\n  'retweet_count': 4,\n  'source': 'Twitter Web App',\n  'text': 'RT @5stocksinto: 5 Chinese Stocks Into Solar Cells https://t.co/ByGnX0N3us #China #Technology #Stocks #Solarcells #Photovoltaic #Semiconduc…',\n  'in_reply_to_screen_name': None},\n {'_id': ObjectId('5ea34b2178470fafbce7aa22'),\n  'created_at': datetime.datetime(2020, 4, 24, 20, 24, 34),\n  'geo': None,\n  'id': 1253781903489921024,\n  'retweet_count': 5,\n  'source': 'Twitter Web App',\n  'text': 'RT @5stocksinto: 5 Aussie Stocks Into Mineral Sands https://t.co/gU7vF45tj3 #Australia #Mining #Stocks #Investment #Mineralsands #Minerals…',\n  'in_reply_to_screen_name': None},\n {'_id': ObjectId('5ea34b2178470fafbce7aa23'),\n  'created_at': datetime.datetime(2020, 4, 24, 20, 24, 30),\n  'geo': None,\n  'id': 1253781885479718912,\n  'retweet_count': 47,\n  'source': 'Twitter Web App',\n  'text': 'RT @antgrasso: The exponential growth of data, fueled by IoT and the use of connected devices, is undisputed. Look at \"One\\xa0Day in Data.\" Li…',\n  'in_reply_to_screen_name': None},\n {'_id': ObjectId('5ea34b2178470fafbce7aa24'),\n  'created_at': datetime.datetime(2020, 4, 24, 20, 24, 14),\n  'geo': None,\n  'id': 1253781818328911872,\n  'retweet_count': 16,\n  'source': 'Twitter for Android',\n  'text': 'RT @SystemSoft_Tech: Why Your Software Solutions Will Fail If Your Developers Aren’t Aligned https://t.co/VKsHH5bywr @Lendio #bigdata #andr…',\n  'in_reply_to_screen_name': None},\n {'_id': ObjectId('5ea34b2178470fafbce7aa25'),\n  'created_at': datetime.datetime(2020, 4, 24, 20, 24, 12),\n  'geo': None,\n  'id': 1253781809663524867,\n  'retweet_count': 14,\n  'source': 'Twitter for Android',\n  'text': 'RT @LaForge_AI: Les 25 Technologies Qui Vont Booster L’Economie Post Confinement\\n\\n#IA #IoT #BigData #digitaltwin\\nhttps://t.co/QZtNshLEcz ht…',\n  'in_reply_to_screen_name': None},\n {'_id': ObjectId('5ea34b2178470fafbce7aa26'),\n  'created_at': datetime.datetime(2020, 4, 24, 20, 24, 7),\n  'geo': None,\n  'id': 1253781791602692096,\n  'retweet_count': 38,\n  'source': 'javascriptdigest2',\n  'text': 'RT @gp_pulipaka: Free eBook: Container Networking: From #Docker to #Kubernetes. #BigData #Analytics #DataScience #AI #MachineLearning #IoT…',\n  'in_reply_to_screen_name': None},\n {'_id': ObjectId('5ea34b2178470fafbce7aa27'),\n  'created_at': datetime.datetime(2020, 4, 24, 20, 24, 3),\n  'geo': None,\n  'id': 1253781771415482369,\n  'retweet_count': 30,\n  'source': 'Microsoft Azure Logic Apps',\n  'text': 'RT @gp_pulipaka: #Kubernetes Cheat Sheet. #BigData #Analytics #DataScience #AI #MachineLearning #IoT #IIoT #PyTorch #Python #RStats #Tensor…',\n  'in_reply_to_screen_name': None},\n {'_id': ObjectId('5ea34b2178470fafbce7aa28'),\n  'created_at': datetime.datetime(2020, 4, 24, 20, 24, 1),\n  'geo': None,\n  'id': 1253781766692839425,\n  'retweet_count': 75,\n  'source': 'Twitter for Android',\n  'text': 'RT @gp_pulipaka: #MachineLearning Course #Jupyter Notebooks Worth $1999 are Now Free. #BigData #Analytics #DataScience #AI #MachineLearning…',\n  'in_reply_to_screen_name': None},\n {'_id': ObjectId('5ea34b2178470fafbce7aa29'),\n  'created_at': datetime.datetime(2020, 4, 24, 20, 23, 56),\n  'geo': None,\n  'id': 1253781743510843392,\n  'retweet_count': 29,\n  'source': 'Twitter for Android',\n  'text': 'RT @gp_pulipaka: A Brief Introduction to Neural Networks. #BigData #Analytics #DataScience #AI #MachineLearning #IoT #IIoT #Python #RStats…',\n  'in_reply_to_screen_name': None},\n {'_id': ObjectId('5ea34b2178470fafbce7aa2a'),\n  'age': '7',\n  'gender': 'Male',\n  'address': {'street': 'pennsylvania avenue',\n   'number': '1600',\n   'city': 'Washington DC'},\n  'retweets': 150,\n  'source': 'Twitter from Android',\n  'first_name': 'Not Ashwin'},\n {'_id': ObjectId('5ea34b2178470fafbce7aa2b'),\n  'name': 'Steve',\n  'age': 25,\n  'gender': 'Male',\n  'address': {'street': 'Huntington', 'number': 23, 'city': 'Boston'}},\n {'_id': ObjectId('5ea34b2178470fafbce7aa2c'),\n  'name': 'Tom',\n  'age': 33,\n  'gender': 'Male',\n  'address': {'street': 'Mass ave', 'number': 44, 'city': 'Boston'}},\n {'_id': ObjectId('5ea3590f59505cd04417c8a1'),\n  'created_at': datetime.datetime(2020, 4, 24, 21, 24, 22),\n  'geo': None,\n  'id': 1253796950492827650,\n  'retweet_count': 0,\n  'source': 'Twitter Web App',\n  'text': '#Fridayreads @AiThority Interview with Rohan Chandran, CPO at Infogroup https://t.co/32gClfjFil #marketing #BigData #AI',\n  'in_reply_to_screen_name': None},\n {'_id': ObjectId('5ea3590f59505cd04417c8a2'),\n  'created_at': datetime.datetime(2020, 4, 24, 21, 24, 15),\n  'geo': None,\n  'id': 1253796921279479810,\n  'retweet_count': 36,\n  'source': 'Twitter for iPhone',\n  'text': 'RT @HaroldSinnott: #Robots &amp; #humans performing the most intricate of operations\\n@MikeQuindazzi #Robotics #HealthTech #AI #HealthCare #IoT…',\n  'in_reply_to_screen_name': None},\n {'_id': ObjectId('5ea3590f59505cd04417c8a3'),\n  'created_at': datetime.datetime(2020, 4, 24, 21, 24, 12),\n  'geo': None,\n  'id': 1253796909824782343,\n  'retweet_count': 0,\n  'source': 'CoSchedule',\n  'text': 'Check out our latest post and make sure to share it with your followers! \\n\\n||  #IoT #InternetOfThings #BigData #AI… https://t.co/K6ml5Jv7S1',\n  'in_reply_to_screen_name': None},\n {'_id': ObjectId('5ea3590f59505cd04417c8a4'),\n  'created_at': datetime.datetime(2020, 4, 24, 21, 23, 52),\n  'geo': None,\n  'id': 1253796828174319616,\n  'retweet_count': 49,\n  'source': 'ProjectLearn.io',\n  'text': 'RT @gp_pulipaka: 6 Free Data Science Books. #BigData #Analytics #DataScience #NLProc #IoT #IIoT #PyTorch #Python #RStats #TensorFlow #Java…',\n  'in_reply_to_screen_name': None},\n {'_id': ObjectId('5ea3590f59505cd04417c8a5'),\n  'created_at': datetime.datetime(2020, 4, 24, 21, 23, 34),\n  'geo': None,\n  'id': 1253796749543641088,\n  'retweet_count': 79,\n  'source': 'Twitter for Android',\n  'text': 'RT @gp_pulipaka: Must-Read Free #Books For #DataScientists in 2020. #BigData #Analytics #DataScience #IoT #IIoT #Python #RStats #TensorFlow…',\n  'in_reply_to_screen_name': None},\n {'_id': ObjectId('5ea3590f59505cd04417c8a6'),\n  'created_at': datetime.datetime(2020, 4, 24, 21, 23, 29),\n  'geo': None,\n  'id': 1253796729545261062,\n  'retweet_count': 34,\n  'source': 'xael bot',\n  'text': 'RT @dayus4heaven: Python framework for Data Science. \\n#WebDev #BigData #Analytics #DataScience #CyberSecurity #IoT #IIoT #PyTorch #Python #…',\n  'in_reply_to_screen_name': None},\n {'_id': ObjectId('5ea3590f59505cd04417c8a7'),\n  'created_at': datetime.datetime(2020, 4, 24, 21, 23, 16),\n  'geo': None,\n  'id': 1253796676801826816,\n  'retweet_count': 34,\n  'source': 'Twitter for Android',\n  'text': 'RT @dayus4heaven: Python framework for Data Science. \\n#WebDev #BigData #Analytics #DataScience #CyberSecurity #IoT #IIoT #PyTorch #Python #…',\n  'in_reply_to_screen_name': None},\n {'_id': ObjectId('5ea3590f59505cd04417c8a8'),\n  'created_at': datetime.datetime(2020, 4, 24, 21, 23),\n  'geo': None,\n  'id': 1253796609399422978,\n  'retweet_count': 4,\n  'source': 'Twitter Web App',\n  'text': 'RT @AISydneyEvents: Sydney Neuroimaging Analysis Centre (SNAC) is using artificial intelligence to help speed up brain scan analysis for cl…',\n  'in_reply_to_screen_name': None},\n {'_id': ObjectId('5ea3590f59505cd04417c8a9'),\n  'created_at': datetime.datetime(2020, 4, 24, 21, 22, 44),\n  'geo': None,\n  'id': 1253796542093410305,\n  'retweet_count': 0,\n  'source': 'gfaccord-Tweeter1',\n  'text': 'Get the latest #news on the linkedin page of  @gfaccord #bigdata &amp; #AI powered #global #business  #consulting… https://t.co/xKBUaGhyGJ',\n  'in_reply_to_screen_name': None},\n {'_id': ObjectId('5ea3590f59505cd04417c8aa'),\n  'created_at': datetime.datetime(2020, 4, 24, 21, 22, 44),\n  'geo': None,\n  'id': 1253796540944130048,\n  'retweet_count': 9,\n  'source': 'Twitter for iPhone',\n  'text': \"RT @GPAinsights: Thank you @OntarioCofC for a great webinar on #bigdata's role in #covid19 economic recovery. https://t.co/V86p46g5Bs\",\n  'in_reply_to_screen_name': None},\n {'_id': ObjectId('5ea3590f59505cd04417c8ab'),\n  'text': 'HELLO! This is my first update!!'},\n {'_id': ObjectId('5ea3590f59505cd04417c8ac'),\n  'name': 'Steve',\n  'age': 25,\n  'gender': 'Male',\n  'address': {'street': 'Huntington', 'number': 23, 'city': 'Boston'}},\n {'_id': ObjectId('5ea3590f59505cd04417c8ad'),\n  'name': 'Tom',\n  'age': 33,\n  'gender': 'Male',\n  'address': {'street': 'Mass ave', 'number': 44, 'city': 'Boston'}},\n {'_id': ObjectId('5ea35a1b59505cd04417c8ae'),\n  'age': '7',\n  'gender': 'Male',\n  'address': {'street': 'pennsylvania avenue',\n   'number': '1600',\n   'city': 'Washington DC'},\n  'retweets': 150,\n  'source': 'Twitter from Android',\n  'first_name': 'Not Ashwin',\n  'likes': ['nature', 'music', 'video games']},\n {'_id': ObjectId('5ea35bc759505cd04417c8b1'),\n  'created_at': datetime.datetime(2020, 4, 24, 21, 35, 41),\n  'geo': None,\n  'id': 1253799798932738053,\n  'retweet_count': 9,\n  'source': 'Twitter for Android',\n  'text': 'RT @Ronald_vanLoon: Gentle Dive Into #Math Behind Convolutional #NeuralNetworks\\nby @PiotrSkalski92 @TDataScience #Medium\\n\\nLearn more https:…',\n  'in_reply_to_screen_name': None},\n {'_id': ObjectId('5ea35bc759505cd04417c8b2'),\n  'created_at': datetime.datetime(2020, 4, 24, 21, 35, 31),\n  'geo': None,\n  'id': 1253799758587723776,\n  'retweet_count': 55,\n  'source': 'Twitter Web App',\n  'text': 'RT @antgrasso: The exponential growth of data, fueled by IoT and the use of connected devices, is undisputed. Look at \"One\\xa0Day in Data.\" Li…',\n  'in_reply_to_screen_name': None},\n {'_id': ObjectId('5ea35bc759505cd04417c8b3'),\n  'created_at': datetime.datetime(2020, 4, 24, 21, 35, 2),\n  'geo': None,\n  'id': 1253799635174535175,\n  'retweet_count': 19,\n  'source': 'Twitter for Android',\n  'text': 'RT @SystemSoft_Tech: Why Your Software Solutions Will Fail If Your Developers Aren’t Aligned https://t.co/VKsHH5bywr @Lendio #bigdata #andr…',\n  'in_reply_to_screen_name': None},\n {'_id': ObjectId('5ea35bc759505cd04417c8b4'),\n  'created_at': datetime.datetime(2020, 4, 24, 21, 35),\n  'geo': None,\n  'id': 1253799626215489538,\n  'retweet_count': 16,\n  'source': 'Twitter for Android',\n  'text': 'RT @ingliguori: The #UI to the #Digital world is becoming more ubiquitous #Internet via @MikeQuindazzi\\n#AI #AR #VR #CloudComputing #SaaS #I…',\n  'in_reply_to_screen_name': None},\n {'_id': ObjectId('5ea35bc759505cd04417c8b5'),\n  'created_at': datetime.datetime(2020, 4, 24, 21, 34, 29),\n  'geo': None,\n  'id': 1253799497857208321,\n  'retweet_count': 0,\n  'source': 'CoSchedule',\n  'text': 'Check out our latest post and make sure to share it with your followers! ||  #IoT #InternetOfThings #BigData #AI… https://t.co/xIwCQrD1Mi',\n  'in_reply_to_screen_name': None},\n {'_id': ObjectId('5ea35bc759505cd04417c8b6'),\n  'created_at': datetime.datetime(2020, 4, 24, 21, 34, 18),\n  'geo': None,\n  'id': 1253799451954642944,\n  'retweet_count': 0,\n  'source': 'IAMBLOG2TWITTER',\n  'text': 'Inslee: This administration ignores science – CNN Video \\n\\nREAD MORE: https://t.co/s24yU9sIdZ\\n\\n#Art #Astronomy… https://t.co/o0kgibEY4f',\n  'in_reply_to_screen_name': None},\n {'_id': ObjectId('5ea35bc759505cd04417c8b7'),\n  'created_at': datetime.datetime(2020, 4, 24, 21, 34, 10),\n  'geo': None,\n  'id': 1253799419587317769,\n  'retweet_count': 38,\n  'source': 'Twitter for iPhone',\n  'text': 'RT @dayus4heaven: Python framework for Data Science. \\n#WebDev #BigData #Analytics #DataScience #CyberSecurity #IoT #IIoT #PyTorch #Python #…',\n  'in_reply_to_screen_name': None},\n {'_id': ObjectId('5ea35bc759505cd04417c8b8'),\n  'created_at': datetime.datetime(2020, 4, 24, 21, 34, 6),\n  'geo': None,\n  'id': 1253799403451604993,\n  'retweet_count': 0,\n  'source': 'DataScienceInfo',\n  'text': 'A new role in data science: the data science architect https://t.co/luqLE1iwti #bigdata',\n  'in_reply_to_screen_name': None},\n {'_id': ObjectId('5ea35bc759505cd04417c8b9'),\n  'created_at': datetime.datetime(2020, 4, 24, 21, 33, 43),\n  'geo': None,\n  'id': 1253799304122241025,\n  'retweet_count': 170,\n  'source': 'Twitter Web App',\n  'text': 'RT @MrDataScience: How do people spend their time throughout the day? Great #DataViz to show with colored dots!\\n#DataScience #BigData #Anal…',\n  'in_reply_to_screen_name': None},\n {'_id': ObjectId('5ea35bc759505cd04417c8ba'),\n  'created_at': datetime.datetime(2020, 4, 24, 21, 33, 26),\n  'geo': None,\n  'id': 1253799235335708674,\n  'retweet_count': 0,\n  'source': 'LinkedIn',\n  'text': \"Lieto di aver partecipato al percorso formativo di Università degli Studi di Pavia.\\nGrazie per l'invito ad Alberto… https://t.co/xufTUvDomj\",\n  'in_reply_to_screen_name': None},\n {'_id': ObjectId('5ea35bc759505cd04417c8bb'),\n  'name': 'Ashwin',\n  'age': '7',\n  'gender': 'Male',\n  'address': {'street': 'pennsylvania avenue',\n   'number': '1600',\n   'city': 'Washington DC'}},\n {'_id': ObjectId('5ea35bc759505cd04417c8bc'),\n  'name': 'Steve',\n  'age': 25,\n  'gender': 'Male',\n  'address': {'street': 'Huntington', 'number': 23, 'city': 'Boston'}},\n {'_id': ObjectId('5ea35bc759505cd04417c8bd'),\n  'name': 'Tom',\n  'age': 33,\n  'gender': 'Male',\n  'address': {'street': 'Mass ave', 'number': 44, 'city': 'Boston'}},\n {'_id': ObjectId('5ea373c2aac5c1070763335a'),\n  'created_at': datetime.datetime(2020, 4, 24, 23, 18, 22),\n  'geo': None,\n  'id': 1253825641364979718,\n  'retweet_count': 6,\n  'source': 'hubofml',\n  'text': 'RT @KirkDBorne: #SmartCities and their Components in the #IoT Era: https://t.co/MPVvTwDS8X\\n——————\\n#BigData #DataScience #EdgeAnalytics #IIo…',\n  'in_reply_to_screen_name': None},\n {'_id': ObjectId('5ea373c2aac5c1070763335b'),\n  'created_at': datetime.datetime(2020, 4, 24, 23, 18, 17),\n  'geo': None,\n  'id': 1253825619433046016,\n  'retweet_count': 6,\n  'source': 'LoraCommunity_Schnittstelle',\n  'text': 'RT @KirkDBorne: #SmartCities and their Components in the #IoT Era: https://t.co/MPVvTwDS8X\\n——————\\n#BigData #DataScience #EdgeAnalytics #IIo…',\n  'in_reply_to_screen_name': None},\n {'_id': ObjectId('5ea373c2aac5c1070763335c'),\n  'created_at': datetime.datetime(2020, 4, 24, 23, 18, 9),\n  'geo': None,\n  'id': 1253825585668857857,\n  'retweet_count': 0,\n  'source': 'IAMBLOG2TWITTER',\n  'text': 'Internet of Things in Retail Market Report, 2020 – Integrated IoT Solution to Open New Revenue Streams \\n\\nREAD MORE:… https://t.co/TLo8a8oied',\n  'in_reply_to_screen_name': None},\n {'_id': ObjectId('5ea373c2aac5c1070763335d'),\n  'created_at': datetime.datetime(2020, 4, 24, 23, 18),\n  'geo': None,\n  'id': 1253825549505572870,\n  'retweet_count': 10,\n  'source': 'Twiny3',\n  'text': 'RT @GavLaaaaaaaa: Even Faster Math Functions https://t.co/cMF9LHm0h3 #programming #softwareengineering #bigdata #datascience #analytics #ai…',\n  'in_reply_to_screen_name': None},\n {'_id': ObjectId('5ea373c2aac5c1070763335e'),\n  'created_at': datetime.datetime(2020, 4, 24, 23, 17, 22),\n  'geo': None,\n  'id': 1253825389530578947,\n  'retweet_count': 7,\n  'source': 'Twitter Web App',\n  'text': 'RT @KirkDBorne: Demystifying Artificial Intelligence for #IoT with this guide: https://t.co/fEE3ptBG5U by @IoTWorldToday \\n—————\\n#BigData #D…',\n  'in_reply_to_screen_name': None},\n {'_id': ObjectId('5ea373c2aac5c1070763335f'),\n  'created_at': datetime.datetime(2020, 4, 24, 23, 17, 6),\n  'geo': None,\n  'id': 1253825321666822144,\n  'retweet_count': 30,\n  'source': 'Twitter for Android',\n  'text': 'RT @gp_pulipaka: 9 Books for Learning About the Internet of Things (IoT). #BigData #Analytics #DataScience #IoT #IIoT #Python #RStats #Tens…',\n  'in_reply_to_screen_name': None},\n {'_id': ObjectId('5ea373c2aac5c10707633360'),\n  'created_at': datetime.datetime(2020, 4, 24, 23, 16, 59),\n  'geo': None,\n  'id': 1253825292650627072,\n  'retweet_count': 7,\n  'source': 'hubofml',\n  'text': 'RT @KirkDBorne: Demystifying Artificial Intelligence for #IoT with this guide: https://t.co/fEE3ptBG5U by @IoTWorldToday \\n—————\\n#BigData #D…',\n  'in_reply_to_screen_name': None},\n {'_id': ObjectId('5ea373c2aac5c10707633361'),\n  'created_at': datetime.datetime(2020, 4, 24, 23, 16, 54),\n  'geo': None,\n  'id': 1253825270550839299,\n  'retweet_count': 7,\n  'source': 'ML_BD_bot',\n  'text': 'RT @KirkDBorne: Demystifying Artificial Intelligence for #IoT with this guide: https://t.co/fEE3ptBG5U by @IoTWorldToday \\n—————\\n#BigData #D…',\n  'in_reply_to_screen_name': None},\n {'_id': ObjectId('5ea373c2aac5c10707633362'),\n  'created_at': datetime.datetime(2020, 4, 24, 23, 16, 49),\n  'geo': None,\n  'id': 1253825253291286531,\n  'retweet_count': 3,\n  'source': 'ML_BD_bot',\n  'text': 'RT @AustraliaAi: The adventures of AI Man and AI Robot. \\nPart 3\\n\\n#artificialintelligence #ai #comic #comicstrip #machinelearning  #innovati…',\n  'in_reply_to_screen_name': None},\n {'_id': ObjectId('5ea373c2aac5c10707633363'),\n  'created_at': datetime.datetime(2020, 4, 24, 23, 16, 45),\n  'geo': None,\n  'id': 1253825236493045762,\n  'retweet_count': 1,\n  'source': 'Larakarl',\n  'text': 'RT @blockchainnewsc: Blockchain technology helps Hubei province remote bid evaluation. \\n\\n#Blockchain #News #China #AI #Crypto #Fintech #Def…',\n  'in_reply_to_screen_name': None},\n {'_id': ObjectId('5ea373c2aac5c10707633364'),\n  'name': 'Ashwin',\n  'age': '7',\n  'gender': 'Male',\n  'address': {'street': 'pennsylvania avenue',\n   'number': '1600',\n   'city': 'Washington DC'}},\n {'_id': ObjectId('5ea373c2aac5c10707633365'),\n  'name': 'Steve',\n  'age': 25,\n  'gender': 'Male',\n  'address': {'street': 'Huntington', 'number': 23, 'city': 'Boston'}},\n {'_id': ObjectId('5ea373c2aac5c10707633366'),\n  'name': 'Tom',\n  'age': 33,\n  'gender': 'Male',\n  'address': {'street': 'Mass ave', 'number': 44, 'city': 'Boston'}},\n {'_id': ObjectId('5ea3980cfa05ee79489ff242'),\n  'created_at': datetime.datetime(2020, 4, 25, 1, 53, 4),\n  'geo': None,\n  'id': 1253864572110417923,\n  'retweet_count': 65,\n  'source': 'Twitter for Android',\n  'text': 'RT @antgrasso: The exponential growth of data, fueled by IoT and the use of connected devices, is undisputed. Look at \"One\\xa0Day in Data.\" Li…',\n  'in_reply_to_screen_name': None},\n {'_id': ObjectId('5ea3980cfa05ee79489ff243'),\n  'created_at': datetime.datetime(2020, 4, 25, 1, 53, 2),\n  'geo': None,\n  'id': 1253864562811641859,\n  'retweet_count': 1,\n  'source': 'Twitter Web App',\n  'text': 'RT @otrak0ssa: 🇻🇪 El Presidente Nicolás Maduro a través de la plataforma Patria está haciendo un ejercicio importante de Gobierno Abierto e…',\n  'in_reply_to_screen_name': None},\n {'_id': ObjectId('5ea3980cfa05ee79489ff244'),\n  'created_at': datetime.datetime(2020, 4, 25, 1, 51, 56),\n  'geo': None,\n  'id': 1253864285790445568,\n  'retweet_count': 9,\n  'source': 'TheBigDataBot',\n  'text': 'RT @SwissCognitive: #ArtificialIntelligence, #IoT and #BigData Can Save The #Bees\\n🐝🐝🐝\\nhttps://t.co/cXWbcR1n4m\\n@ageitgey @bigdatagal @dennyb…',\n  'in_reply_to_screen_name': None},\n {'_id': ObjectId('5ea3980cfa05ee79489ff245'),\n  'created_at': datetime.datetime(2020, 4, 25, 1, 51, 50),\n  'geo': None,\n  'id': 1253864262008791040,\n  'retweet_count': 7,\n  'source': 'RTML',\n  'text': 'RT @AndySugs: RT:Ronald_vanLoon: MindsDB Raises $3 Million For Open Source Automated #MachineLearning\\nby KHARIJOHNSON VentureBeat\\n\\nGo to ht…',\n  'in_reply_to_screen_name': None},\n {'_id': ObjectId('5ea3980cfa05ee79489ff246'),\n  'created_at': datetime.datetime(2020, 4, 25, 1, 51, 41),\n  'geo': None,\n  'id': 1253864225191100418,\n  'retweet_count': 7,\n  'source': 'hubofml',\n  'text': 'RT @AndySugs: RT:Ronald_vanLoon: MindsDB Raises $3 Million For Open Source Automated #MachineLearning\\nby KHARIJOHNSON VentureBeat\\n\\nGo to ht…',\n  'in_reply_to_screen_name': None},\n {'_id': ObjectId('5ea3980cfa05ee79489ff247'),\n  'created_at': datetime.datetime(2020, 4, 25, 1, 51, 36),\n  'geo': None,\n  'id': 1253864203061878784,\n  'retweet_count': 7,\n  'source': 'Twitter for iPhone',\n  'text': 'RT @AndySugs: RT:Ronald_vanLoon: MindsDB Raises $3 Million For Open Source Automated #MachineLearning\\nby KHARIJOHNSON VentureBeat\\n\\nGo to ht…',\n  'in_reply_to_screen_name': None},\n {'_id': ObjectId('5ea3980cfa05ee79489ff248'),\n  'created_at': datetime.datetime(2020, 4, 25, 1, 51, 24),\n  'geo': None,\n  'id': 1253864153019830275,\n  'retweet_count': 1,\n  'source': 'Twitter Web App',\n  'text': '🇻🇪 El Presidente Nicolás Maduro a través de la plataforma Patria está haciendo un ejercicio importante de Gobierno… https://t.co/yKbFRCclBi',\n  'in_reply_to_screen_name': None},\n {'_id': ObjectId('5ea3980cfa05ee79489ff249'),\n  'created_at': datetime.datetime(2020, 4, 25, 1, 51, 22),\n  'geo': None,\n  'id': 1253864144408850432,\n  'retweet_count': 18,\n  'source': 'React Bot App',\n  'text': 'RT @gp_pulipaka: What are the 10 Must Read #DataScience Books of 2020. #BigData #Analytics  #AI #IoT #IIoT #Python #RStats #JavaScript #Rea…',\n  'in_reply_to_screen_name': None},\n {'_id': ObjectId('5ea3980cfa05ee79489ff24a'),\n  'created_at': datetime.datetime(2020, 4, 25, 1, 51, 9),\n  'geo': None,\n  'id': 1253864092428914753,\n  'retweet_count': 18,\n  'source': 'aaroncuddeback.com',\n  'text': 'RT @gp_pulipaka: What are the 10 Must Read #DataScience Books of 2020. #BigData #Analytics  #AI #IoT #IIoT #Python #RStats #JavaScript #Rea…',\n  'in_reply_to_screen_name': None},\n {'_id': ObjectId('5ea3980cfa05ee79489ff24b'),\n  'created_at': datetime.datetime(2020, 4, 25, 1, 51, 9),\n  'geo': None,\n  'id': 1253864091195760640,\n  'retweet_count': 16,\n  'source': 'TwinyBots',\n  'text': 'RT @KirkDBorne: #SmartCities and their Components in the #IoT Era: https://t.co/MPVvTwDS8X\\n——————\\n#BigData #DataScience #EdgeAnalytics #IIo…',\n  'in_reply_to_screen_name': None},\n {'_id': ObjectId('5ea3980cfa05ee79489ff24c'),\n  'name': 'Ashwin',\n  'age': '7',\n  'gender': 'Male',\n  'address': {'street': 'pennsylvania avenue',\n   'number': '1600',\n   'city': 'Washington DC'}},\n {'_id': ObjectId('5ea3980cfa05ee79489ff24d'),\n  'name': 'Steve',\n  'age': 25,\n  'gender': 'Male',\n  'address': {'street': 'Huntington', 'number': 23, 'city': 'Boston'}},\n {'_id': ObjectId('5ea3980cfa05ee79489ff24e'),\n  'name': 'Tom',\n  'age': 33,\n  'gender': 'Male',\n  'address': {'street': 'Mass ave', 'number': 44, 'city': 'Boston'}},\n {'_id': ObjectId('5ea3ac500fee33e9a1859bd2'),\n  'created_at': datetime.datetime(2020, 4, 25, 3, 19, 32),\n  'geo': None,\n  'id': 1253886332499345420,\n  'retweet_count': 2,\n  'source': 'digital transformation',\n  'text': 'RT @IAM__Network: Early digital transformation efforts pay dividends as business continuity plans hold strong – Which-50 \\n\\nREAD MORE: https…',\n  'in_reply_to_screen_name': None},\n {'_id': ObjectId('5ea3ac500fee33e9a1859bd3'),\n  'created_at': datetime.datetime(2020, 4, 25, 3, 19, 18),\n  'geo': None,\n  'id': 1253886272420093956,\n  'retweet_count': 0,\n  'source': 'GMBquotes',\n  'text': '\" For why AI self-driving cars might freeze-up, see my article: https://t.co/xRFPiBigKl #ai #technology #BigData… https://t.co/R25ZDnWXjT',\n  'in_reply_to_screen_name': None},\n {'_id': ObjectId('5ea3ac500fee33e9a1859bd4'),\n  'created_at': datetime.datetime(2020, 4, 25, 3, 18, 43),\n  'geo': None,\n  'id': 1253886126521233410,\n  'retweet_count': 17,\n  'source': 'dig_revolution_Schnittstelle',\n  'text': 'RT @gp_pulipaka: 18 Best PyTorch Books of All Time. #BigData #Analytics #DataScience #IoT #IIoT #PyTorch #Python #RStats #TensorFlow #Java…',\n  'in_reply_to_screen_name': None},\n {'_id': ObjectId('5ea3ac500fee33e9a1859bd5'),\n  'created_at': datetime.datetime(2020, 4, 25, 3, 18, 31),\n  'geo': None,\n  'id': 1253886076726501379,\n  'retweet_count': 17,\n  'source': 'AI News BOT',\n  'text': 'RT @gp_pulipaka: 18 Best PyTorch Books of All Time. #BigData #Analytics #DataScience #IoT #IIoT #PyTorch #Python #RStats #TensorFlow #Java…',\n  'in_reply_to_screen_name': None},\n {'_id': ObjectId('5ea3ac500fee33e9a1859bd6'),\n  'created_at': datetime.datetime(2020, 4, 25, 3, 18, 22),\n  'geo': None,\n  'id': 1253886038117945344,\n  'retweet_count': 29,\n  'source': 'AI News BOT',\n  'text': 'RT @gp_pulipaka: Autoencoders with AI. #BigData #Analytics #DataScience #AI #MachineLearning #IoT #IIoT #PyTorch #Python #RStats #TensorFlo…',\n  'in_reply_to_screen_name': None},\n {'_id': ObjectId('5ea3ac500fee33e9a1859bd7'),\n  'created_at': datetime.datetime(2020, 4, 25, 3, 18, 15),\n  'geo': None,\n  'id': 1253886008388714496,\n  'retweet_count': 16,\n  'source': 'Twitter for Android',\n  'text': 'RT @statsandleague: “We are moving slowly into an era where big data is the starting point, not the end.” \\n\\n#BigData #DataAnalytics #Data #…',\n  'in_reply_to_screen_name': None},\n {'_id': ObjectId('5ea3ac500fee33e9a1859bd8'),\n  'created_at': datetime.datetime(2020, 4, 25, 3, 17, 14),\n  'geo': None,\n  'id': 1253885755258175490,\n  'retweet_count': 1,\n  'source': 'ML_BD_bot',\n  'text': \"RT @AIHealth1: The University of Sydney's Westmead Applied Research Centre has been awarded a $1 million grant from Google to ...\\n\\nhttps://…\",\n  'in_reply_to_screen_name': None},\n {'_id': ObjectId('5ea3ac500fee33e9a1859bd9'),\n  'created_at': datetime.datetime(2020, 4, 25, 3, 17, 11),\n  'geo': None,\n  'id': 1253885741937164288,\n  'retweet_count': 47,\n  'source': 'hubofml',\n  'text': 'RT @Fisher85M: What’s your #Security Maturity level? [Infographic]\\n\\n#CyberSecurity #infosec #education @Fisher85M #BigData #Analytics #Mach…',\n  'in_reply_to_screen_name': None},\n {'_id': ObjectId('5ea3ac500fee33e9a1859bda'),\n  'created_at': datetime.datetime(2020, 4, 25, 3, 17, 10),\n  'geo': None,\n  'id': 1253885736882966528,\n  'retweet_count': 3,\n  'source': 'News Commentary Podcast',\n  'text': 'RT @SafetyPhD: RECORDED TONITE - Out Now!\\n\\n#Livestream #131 Safety Doc Podcast\\n\\nThe Dunning-Kruger Effect | What it is and how to fight it…',\n  'in_reply_to_screen_name': None},\n {'_id': ObjectId('5ea3ac500fee33e9a1859bdb'),\n  'created_at': datetime.datetime(2020, 4, 25, 3, 17, 6),\n  'geo': None,\n  'id': 1253885720005148673,\n  'retweet_count': 47,\n  'source': 'Twitter for iPhone',\n  'text': 'RT @Fisher85M: What’s your #Security Maturity level? [Infographic]\\n\\n#CyberSecurity #infosec #education @Fisher85M #BigData #Analytics #Mach…',\n  'in_reply_to_screen_name': None},\n {'_id': ObjectId('5ea3ac500fee33e9a1859bdc'),\n  'name': 'Ashwin',\n  'age': '7',\n  'gender': 'Male',\n  'address': {'street': 'pennsylvania avenue',\n   'number': '1600',\n   'city': 'Washington DC'}},\n {'_id': ObjectId('5ea3ac500fee33e9a1859bdd'),\n  'name': 'Steve',\n  'age': 25,\n  'gender': 'Male',\n  'address': {'street': 'Huntington', 'number': 23, 'city': 'Boston'}},\n {'_id': ObjectId('5ea3ac500fee33e9a1859bde'),\n  'name': 'Tom',\n  'age': 33,\n  'gender': 'Male',\n  'address': {'street': 'Mass ave', 'number': 44, 'city': 'Boston'}}]"
     },
     "metadata": {},
     "output_type": "execute_result",
     "execution_count": 42
    }
   ],
   "source": [
    "delete = posts.delete_many({\"Age\": 28})    # deletes as many documents as the filter\n",
    "list (posts.find( ))\n"
   ],
   "metadata": {
    "collapsed": false,
    "pycharm": {
     "name": "#%%\n",
     "is_executing": false
    }
   }
  },
  {
   "cell_type": "markdown",
   "source": [
    "## PRACTICE PROJECT\n",
    "Use a social media API such as Twitter, reddit or instagram to pull data from user posts/comments/uploads on topics related to the coronavirus.\n",
    "Filter the obtained data to produce only required fields and insert it into MongoDB.\n",
    "Perform analyses on the data using different queries to find useful statistics such as:\n",
    " 1. cities/districts with most infected, \n",
    " 2. find the dates where these topics were trending\n",
    " 3. modify the data to include further details."
   ],
   "metadata": {
    "collapsed": false,
    "pycharm": {
     "name": "#%% md\n"
    }
   }
  },
  {
   "cell_type": "code",
   "execution_count": 43,
   "outputs": [],
   "source": [
    "# begin practice here\n"
   ],
   "metadata": {
    "collapsed": false,
    "pycharm": {
     "name": "#%%\n",
     "is_executing": false
    }
   }
  },
  {
   "cell_type": "markdown",
   "source": [
    "### FURTHER EXERCISES\n",
    "#### EXERCISE 7\n",
    "\n",
    "Using what you have leanred, create a new database to store a collection about superheroes.\n",
    "Add 5 superhero documents with attributes such as Name, Country, Powers etc\n",
    "Now, Use what you've learned to Write 4 interesting queries that return JSON objects."
   ],
   "metadata": {
    "collapsed": false
   }
  },
  {
   "cell_type": "code",
   "execution_count": 44,
   "outputs": [],
   "source": [
    "# Enter your code here\n"
   ],
   "metadata": {
    "collapsed": false,
    "pycharm": {
     "name": "#%%\n",
     "is_executing": false
    }
   }
  },
  {
   "cell_type": "markdown",
   "source": [
    "#### EXERCISE 8\n",
    "Use what you have learned to delete only the superheroes who have names that start with a letter equal to or higher in the alphabet than \"P\"\n"
   ],
   "metadata": {
    "collapsed": false,
    "pycharm": {
     "name": "#%% md\n"
    }
   }
  },
  {
   "cell_type": "code",
   "execution_count": 45,
   "outputs": [],
   "source": [
    "# Enter your code here\n",
    "\n"
   ],
   "metadata": {
    "collapsed": false,
    "pycharm": {
     "name": "#%%\n",
     "is_executing": false
    }
   }
  },
  {
   "cell_type": "markdown",
   "source": [
    "\n",
    "# MongoDB Aggregation\n",
    "\n",
    "MongoDB Aggregation is used to process data records,  group values from multiple documents together, and can perform a variety of operations on the grouped data to return a single result. \n",
    "\n",
    "There are 3 methods by which we can perform **Aggregation:**\n",
    "#### 1. Using Aggregation Pipeline\n",
    "#### 2. Using MapReduce Functions\n",
    "#### 3. Other single purpose aggregation methods."
   ],
   "metadata": {
    "collapsed": false,
    "pycharm": {
     "name": "#%% md\n"
    }
   }
  },
  {
   "cell_type": "markdown",
   "source": [
    "### Aggregation Pipeline:\n",
    "MongoDB has modeled its aggregation framework using the concept of data processing pipelines.\n",
    "In this method, the documents enter a multistage pipeline where they are transformed into an aggregated result.\n",
    "\n",
    "This process is done in two stages:\n",
    "1. **$match Stage:** Here, the documents are filtered based on a specific criteria,attributes or specific values in fields. \n",
    " \n",
    " The documents which are passed to the next stage all pass the specific defined criteria.\n",
    "2. **$group Stage:** Here, the documents are grouped by specific criteria and any calculations can be performed.\n",
    "\n",
    "There are other pipeline operations which can provide tools for grouping and sorting documents by specific fields, and tools for aggregating the contents of arrays, including arrays of documents.\n",
    "Pipelines can also make use of operators for tasks such as concatenation or calculating the mean.\n",
    "For example,"
   ],
   "metadata": {
    "collapsed": false
   }
  },
  {
   "cell_type": "code",
   "execution_count": 46,
   "outputs": [
    {
     "name": "stdout",
     "text": [
      "The total number of retweets is 2810\n"
     ],
     "output_type": "stream"
    }
   ],
   "source": [
    "# Creating an aggregate function to calculate the total number of retweets of our twitter posts.\n",
    "\n",
    "db = conn.twitter_search\n",
    "agr = [ {'$group': {'_id': 1, 'all': { '$sum':'$retweet_count' } } } ]\n",
    "val = list(db.posts.aggregate(agr))\n",
    "print('The total number of retweets is {}'.format(val[0]['all']))\n"
   ],
   "metadata": {
    "collapsed": false,
    "pycharm": {
     "name": "#%%\n",
     "is_executing": false
    }
   }
  },
  {
   "cell_type": "markdown",
   "source": [
    "The above example calculates the sum of all the retweets of the posts in our MongoDB collection.\n",
    "Here, the *$sum* operator calculates and returns the sum of numeric values. \n",
    "And the *$group* operator groups input documents by a specific expression and applies the accumulator expressions, to each group.\n"
   ],
   "metadata": {
    "collapsed": false
   }
  },
  {
   "cell_type": "code",
   "execution_count": 47,
   "outputs": [
    {
     "data": {
      "text/plain": "[{'_id': ObjectId('5ea325962a0f212921292cc9'),\n  'created_at': datetime.datetime(2020, 4, 24, 17, 43, 38),\n  'geo': None,\n  'id': 1253741401810010119,\n  'retweet_count': 41,\n  'source': 'Twitter Web App',\n  'text': 'RT @SpirosMargaris: How #AI can tackle the #climate emergency \\n\\nif developed responsibly\\n\\nhttps://t.co/glveQ74s9k #fintech @ConversationUK…',\n  'in_reply_to_screen_name': None},\n {'_id': ObjectId('5ea325962a0f212921292cca'),\n  'created_at': datetime.datetime(2020, 4, 24, 17, 43, 24),\n  'geo': None,\n  'id': 1253741345828745216,\n  'retweet_count': 8,\n  'source': 'Twitter for Android',\n  'text': 'RT @ipfconline1: 10 Groups of #MachineLearning Algorithms \\n\\nhttps://t.co/dQsSp6ozVa @thomas_glare v/ @datamadesimple\\n#AI #DeepLearning\\nCc @…',\n  'in_reply_to_screen_name': None},\n {'_id': ObjectId('5ea325962a0f212921292ccb'),\n  'created_at': datetime.datetime(2020, 4, 24, 17, 43, 17),\n  'geo': None,\n  'id': 1253741316011327488,\n  'retweet_count': 9,\n  'source': 'Twitter for Android',\n  'text': 'RT @DeepLearn007: @mercer #AI will augment humans in to deal w/ #BigData &amp; find patterns\\n#5G enabled #IoT devices are going to generate a l…',\n  'in_reply_to_screen_name': None},\n {'_id': ObjectId('5ea325962a0f212921292ccc'),\n  'created_at': datetime.datetime(2020, 4, 24, 17, 42, 55),\n  'geo': None,\n  'id': 1253741220658102274,\n  'retweet_count': 0,\n  'source': 'Twitter Web App',\n  'text': 'Breaking news!\\n\\n@Flexmonster Data Server is available starting from 2.8.5 version 🎉\\n\\nProcess your #data up to 10 ti… https://t.co/tIJo6Pk3Bt',\n  'in_reply_to_screen_name': None},\n {'_id': ObjectId('5ea325962a0f212921292ccd'),\n  'created_at': datetime.datetime(2020, 4, 24, 17, 42, 36),\n  'geo': None,\n  'id': 1253741141159227392,\n  'retweet_count': 7,\n  'source': 'Twitter Web App',\n  'text': 'RT @sostAMB: 🔈🔈🔈Estigueu atents aquests propers dies 👇🏻\\n\\n#confinament per #COVID19\\n#BigData\\n#vulnerabilitatenergètica\\n\\n#quedatACasa\\n#EntreT…',\n  'in_reply_to_screen_name': None},\n {'_id': ObjectId('5ea325962a0f212921292cce'),\n  'created_at': datetime.datetime(2020, 4, 24, 17, 42, 34),\n  'geo': None,\n  'id': 1253741135136251911,\n  'retweet_count': 0,\n  'source': 'Twitter Web Client',\n  'text': 'UK Gov looking toward the next stage of Snooper Charter expansion - \\n\\n- gifting the ability to spy on citizens (not… https://t.co/5MboA1xN2L',\n  'in_reply_to_screen_name': None},\n {'_id': ObjectId('5ea325962a0f212921292ccf'),\n  'created_at': datetime.datetime(2020, 4, 24, 17, 42, 9),\n  'geo': None,\n  'id': 1253741031260119052,\n  'retweet_count': 4,\n  'source': 'Twitter for iPad',\n  'text': 'RT @ember_crooks: FF #Db2 @craigmullins @RomanufaKeri @erwin_hattingh @data_henrik @ARSDB2 @globomike @raghuprasad241 @DBeulke @angoca @MKr…',\n  'in_reply_to_screen_name': None},\n {'_id': ObjectId('5ea325962a0f212921292cd0'),\n  'created_at': datetime.datetime(2020, 4, 24, 17, 42, 3),\n  'geo': None,\n  'id': 1253741006115176450,\n  'retweet_count': 1,\n  'source': 'Edtech genomics',\n  'text': 'RT @QuantaEd: \"A population able and proactively making smarter health choices will cost less, live longer, and live healthier lifestyles.\"…',\n  'in_reply_to_screen_name': None},\n {'_id': ObjectId('5ea325962a0f212921292cd1'),\n  'created_at': datetime.datetime(2020, 4, 24, 17, 42, 2),\n  'geo': None,\n  'id': 1253740998779428870,\n  'retweet_count': 4,\n  'source': 'Twitter for iPhone',\n  'text': 'RT @vavacolor: #Covid_19 tracking systems aren’t all built the same. One thing is sure, alone, they don’t solve the underlying social inequ…',\n  'in_reply_to_screen_name': None},\n {'_id': ObjectId('5ea325962a0f212921292cd2'),\n  'created_at': datetime.datetime(2020, 4, 24, 17, 41, 57),\n  'geo': None,\n  'id': 1253740978420187137,\n  'retweet_count': 7,\n  'source': 'Calcaware',\n  'text': 'RT @mvollmer1: A #DigitalTwin allows clear visibility into the risks of a complex, interconnected #supplychain @BCG \\n\\n#ArtificialIntelligen…',\n  'in_reply_to_screen_name': None},\n {'_id': ObjectId('5ea3261c2a0f212921292cd5'),\n  'created_at': datetime.datetime(2020, 4, 24, 17, 43, 38),\n  'geo': None,\n  'id': 1253741401810010119,\n  'retweet_count': 41,\n  'source': 'Twitter Web App',\n  'text': 'RT @SpirosMargaris: How #AI can tackle the #climate emergency \\n\\nif developed responsibly\\n\\nhttps://t.co/glveQ74s9k #fintech @ConversationUK…',\n  'possibly_sensitive': False,\n  'in_reply_to_screen_name': None},\n {'_id': ObjectId('5ea3261c2a0f212921292cd6'),\n  'created_at': datetime.datetime(2020, 4, 24, 17, 43, 24),\n  'geo': None,\n  'id': 1253741345828745216,\n  'retweet_count': 8,\n  'source': 'Twitter for Android',\n  'text': 'RT @ipfconline1: 10 Groups of #MachineLearning Algorithms \\n\\nhttps://t.co/dQsSp6ozVa @thomas_glare v/ @datamadesimple\\n#AI #DeepLearning\\nCc @…',\n  'possibly_sensitive': False,\n  'in_reply_to_screen_name': None},\n {'_id': ObjectId('5ea326292a0f212921292cd7'),\n  'created_at': datetime.datetime(2020, 4, 24, 17, 43, 38),\n  'geo': None,\n  'id': 1253741401810010119,\n  'retweet_count': 41,\n  'source': 'Twitter Web App',\n  'text': 'RT @SpirosMargaris: How #AI can tackle the #climate emergency \\n\\nif developed responsibly\\n\\nhttps://t.co/glveQ74s9k #fintech @ConversationUK…',\n  'in_reply_to_screen_name': None},\n {'_id': ObjectId('5ea326292a0f212921292cd8'),\n  'created_at': datetime.datetime(2020, 4, 24, 17, 43, 24),\n  'geo': None,\n  'id': 1253741345828745216,\n  'retweet_count': 8,\n  'source': 'Twitter for Android',\n  'text': 'RT @ipfconline1: 10 Groups of #MachineLearning Algorithms \\n\\nhttps://t.co/dQsSp6ozVa @thomas_glare v/ @datamadesimple\\n#AI #DeepLearning\\nCc @…',\n  'in_reply_to_screen_name': None},\n {'_id': ObjectId('5ea326292a0f212921292cd9'),\n  'created_at': datetime.datetime(2020, 4, 24, 17, 43, 17),\n  'geo': None,\n  'id': 1253741316011327488,\n  'retweet_count': 9,\n  'source': 'Twitter for Android',\n  'text': 'RT @DeepLearn007: @mercer #AI will augment humans in to deal w/ #BigData &amp; find patterns\\n#5G enabled #IoT devices are going to generate a l…',\n  'in_reply_to_screen_name': None},\n {'_id': ObjectId('5ea326292a0f212921292cda'),\n  'created_at': datetime.datetime(2020, 4, 24, 17, 42, 55),\n  'geo': None,\n  'id': 1253741220658102274,\n  'retweet_count': 0,\n  'source': 'Twitter Web App',\n  'text': 'Breaking news!\\n\\n@Flexmonster Data Server is available starting from 2.8.5 version 🎉\\n\\nProcess your #data up to 10 ti… https://t.co/tIJo6Pk3Bt',\n  'in_reply_to_screen_name': None},\n {'_id': ObjectId('5ea326292a0f212921292cdb'),\n  'created_at': datetime.datetime(2020, 4, 24, 17, 42, 36),\n  'geo': None,\n  'id': 1253741141159227392,\n  'retweet_count': 7,\n  'source': 'Twitter Web App',\n  'text': 'RT @sostAMB: 🔈🔈🔈Estigueu atents aquests propers dies 👇🏻\\n\\n#confinament per #COVID19\\n#BigData\\n#vulnerabilitatenergètica\\n\\n#quedatACasa\\n#EntreT…',\n  'in_reply_to_screen_name': None},\n {'_id': ObjectId('5ea326292a0f212921292cdc'),\n  'created_at': datetime.datetime(2020, 4, 24, 17, 42, 34),\n  'geo': None,\n  'id': 1253741135136251911,\n  'retweet_count': 0,\n  'source': 'Twitter Web Client',\n  'text': 'UK Gov looking toward the next stage of Snooper Charter expansion - \\n\\n- gifting the ability to spy on citizens (not… https://t.co/5MboA1xN2L',\n  'in_reply_to_screen_name': None},\n {'_id': ObjectId('5ea326292a0f212921292cdd'),\n  'created_at': datetime.datetime(2020, 4, 24, 17, 42, 9),\n  'geo': None,\n  'id': 1253741031260119052,\n  'retweet_count': 4,\n  'source': 'Twitter for iPad',\n  'text': 'RT @ember_crooks: FF #Db2 @craigmullins @RomanufaKeri @erwin_hattingh @data_henrik @ARSDB2 @globomike @raghuprasad241 @DBeulke @angoca @MKr…',\n  'in_reply_to_screen_name': None},\n {'_id': ObjectId('5ea326292a0f212921292cde'),\n  'created_at': datetime.datetime(2020, 4, 24, 17, 42, 3),\n  'geo': None,\n  'id': 1253741006115176450,\n  'retweet_count': 1,\n  'source': 'Edtech genomics',\n  'text': 'RT @QuantaEd: \"A population able and proactively making smarter health choices will cost less, live longer, and live healthier lifestyles.\"…',\n  'in_reply_to_screen_name': None},\n {'_id': ObjectId('5ea326292a0f212921292cdf'),\n  'created_at': datetime.datetime(2020, 4, 24, 17, 42, 2),\n  'geo': None,\n  'id': 1253740998779428870,\n  'retweet_count': 4,\n  'source': 'Twitter for iPhone',\n  'text': 'RT @vavacolor: #Covid_19 tracking systems aren’t all built the same. One thing is sure, alone, they don’t solve the underlying social inequ…',\n  'in_reply_to_screen_name': None},\n {'_id': ObjectId('5ea326292a0f212921292ce0'),\n  'created_at': datetime.datetime(2020, 4, 24, 17, 41, 57),\n  'geo': None,\n  'id': 1253740978420187137,\n  'retweet_count': 7,\n  'source': 'Calcaware',\n  'text': 'RT @mvollmer1: A #DigitalTwin allows clear visibility into the risks of a complex, interconnected #supplychain @BCG \\n\\n#ArtificialIntelligen…',\n  'in_reply_to_screen_name': None},\n {'_id': ObjectId('5ea326472a0f212921292ce1'),\n  'created_at': datetime.datetime(2020, 4, 24, 17, 43, 38),\n  'geo': None,\n  'id': 1253741401810010119,\n  'retweet_count': 41,\n  'source': 'Twitter Web App',\n  'text': 'RT @SpirosMargaris: How #AI can tackle the #climate emergency \\n\\nif developed responsibly\\n\\nhttps://t.co/glveQ74s9k #fintech @ConversationUK…',\n  'in_reply_to_screen_name': None},\n {'_id': ObjectId('5ea326472a0f212921292ce2'),\n  'created_at': datetime.datetime(2020, 4, 24, 17, 43, 24),\n  'geo': None,\n  'id': 1253741345828745216,\n  'retweet_count': 8,\n  'source': 'Twitter for Android',\n  'text': 'RT @ipfconline1: 10 Groups of #MachineLearning Algorithms \\n\\nhttps://t.co/dQsSp6ozVa @thomas_glare v/ @datamadesimple\\n#AI #DeepLearning\\nCc @…',\n  'in_reply_to_screen_name': None},\n {'_id': ObjectId('5ea326472a0f212921292ce3'),\n  'created_at': datetime.datetime(2020, 4, 24, 17, 43, 17),\n  'geo': None,\n  'id': 1253741316011327488,\n  'retweet_count': 9,\n  'source': 'Twitter for Android',\n  'text': 'RT @DeepLearn007: @mercer #AI will augment humans in to deal w/ #BigData &amp; find patterns\\n#5G enabled #IoT devices are going to generate a l…',\n  'in_reply_to_screen_name': None},\n {'_id': ObjectId('5ea326472a0f212921292ce4'),\n  'created_at': datetime.datetime(2020, 4, 24, 17, 42, 55),\n  'geo': None,\n  'id': 1253741220658102274,\n  'retweet_count': 0,\n  'source': 'Twitter Web App',\n  'text': 'Breaking news!\\n\\n@Flexmonster Data Server is available starting from 2.8.5 version 🎉\\n\\nProcess your #data up to 10 ti… https://t.co/tIJo6Pk3Bt',\n  'in_reply_to_screen_name': None},\n {'_id': ObjectId('5ea326472a0f212921292ce5'),\n  'created_at': datetime.datetime(2020, 4, 24, 17, 42, 36),\n  'geo': None,\n  'id': 1253741141159227392,\n  'retweet_count': 7,\n  'source': 'Twitter Web App',\n  'text': 'RT @sostAMB: 🔈🔈🔈Estigueu atents aquests propers dies 👇🏻\\n\\n#confinament per #COVID19\\n#BigData\\n#vulnerabilitatenergètica\\n\\n#quedatACasa\\n#EntreT…',\n  'in_reply_to_screen_name': None},\n {'_id': ObjectId('5ea326472a0f212921292ce6'),\n  'created_at': datetime.datetime(2020, 4, 24, 17, 42, 34),\n  'geo': None,\n  'id': 1253741135136251911,\n  'retweet_count': 0,\n  'source': 'Twitter Web Client',\n  'text': 'UK Gov looking toward the next stage of Snooper Charter expansion - \\n\\n- gifting the ability to spy on citizens (not… https://t.co/5MboA1xN2L',\n  'in_reply_to_screen_name': None},\n {'_id': ObjectId('5ea326472a0f212921292ce7'),\n  'created_at': datetime.datetime(2020, 4, 24, 17, 42, 9),\n  'geo': None,\n  'id': 1253741031260119052,\n  'retweet_count': 4,\n  'source': 'Twitter for iPad',\n  'text': 'RT @ember_crooks: FF #Db2 @craigmullins @RomanufaKeri @erwin_hattingh @data_henrik @ARSDB2 @globomike @raghuprasad241 @DBeulke @angoca @MKr…',\n  'in_reply_to_screen_name': None},\n {'_id': ObjectId('5ea326472a0f212921292ce8'),\n  'created_at': datetime.datetime(2020, 4, 24, 17, 42, 3),\n  'geo': None,\n  'id': 1253741006115176450,\n  'retweet_count': 1,\n  'source': 'Edtech genomics',\n  'text': 'RT @QuantaEd: \"A population able and proactively making smarter health choices will cost less, live longer, and live healthier lifestyles.\"…',\n  'in_reply_to_screen_name': None},\n {'_id': ObjectId('5ea326472a0f212921292ce9'),\n  'created_at': datetime.datetime(2020, 4, 24, 17, 42, 2),\n  'geo': None,\n  'id': 1253740998779428870,\n  'retweet_count': 4,\n  'source': 'Twitter for iPhone',\n  'text': 'RT @vavacolor: #Covid_19 tracking systems aren’t all built the same. One thing is sure, alone, they don’t solve the underlying social inequ…',\n  'in_reply_to_screen_name': None},\n {'_id': ObjectId('5ea326472a0f212921292cea'),\n  'created_at': datetime.datetime(2020, 4, 24, 17, 41, 57),\n  'geo': None,\n  'id': 1253740978420187137,\n  'retweet_count': 7,\n  'source': 'Calcaware',\n  'text': 'RT @mvollmer1: A #DigitalTwin allows clear visibility into the risks of a complex, interconnected #supplychain @BCG \\n\\n#ArtificialIntelligen…',\n  'in_reply_to_screen_name': None},\n {'_id': ObjectId('5ea326652a0f212921292ceb'),\n  'created_at': datetime.datetime(2020, 4, 24, 17, 43, 38),\n  'geo': None,\n  'id': 1253741401810010119,\n  'retweet_count': 41,\n  'source': 'Twitter Web App',\n  'text': 'RT @SpirosMargaris: How #AI can tackle the #climate emergency \\n\\nif developed responsibly\\n\\nhttps://t.co/glveQ74s9k #fintech @ConversationUK…',\n  'in_reply_to_screen_name': None},\n {'_id': ObjectId('5ea326652a0f212921292cec'),\n  'created_at': datetime.datetime(2020, 4, 24, 17, 43, 24),\n  'geo': None,\n  'id': 1253741345828745216,\n  'retweet_count': 8,\n  'source': 'Twitter for Android',\n  'text': 'RT @ipfconline1: 10 Groups of #MachineLearning Algorithms \\n\\nhttps://t.co/dQsSp6ozVa @thomas_glare v/ @datamadesimple\\n#AI #DeepLearning\\nCc @…',\n  'in_reply_to_screen_name': None},\n {'_id': ObjectId('5ea326652a0f212921292ced'),\n  'created_at': datetime.datetime(2020, 4, 24, 17, 43, 17),\n  'geo': None,\n  'id': 1253741316011327488,\n  'retweet_count': 9,\n  'source': 'Twitter for Android',\n  'text': 'RT @DeepLearn007: @mercer #AI will augment humans in to deal w/ #BigData &amp; find patterns\\n#5G enabled #IoT devices are going to generate a l…',\n  'in_reply_to_screen_name': None},\n {'_id': ObjectId('5ea326652a0f212921292cee'),\n  'created_at': datetime.datetime(2020, 4, 24, 17, 42, 55),\n  'geo': None,\n  'id': 1253741220658102274,\n  'retweet_count': 0,\n  'source': 'Twitter Web App',\n  'text': 'Breaking news!\\n\\n@Flexmonster Data Server is available starting from 2.8.5 version 🎉\\n\\nProcess your #data up to 10 ti… https://t.co/tIJo6Pk3Bt',\n  'in_reply_to_screen_name': None},\n {'_id': ObjectId('5ea326652a0f212921292cef'),\n  'created_at': datetime.datetime(2020, 4, 24, 17, 42, 36),\n  'geo': None,\n  'id': 1253741141159227392,\n  'retweet_count': 7,\n  'source': 'Twitter Web App',\n  'text': 'RT @sostAMB: 🔈🔈🔈Estigueu atents aquests propers dies 👇🏻\\n\\n#confinament per #COVID19\\n#BigData\\n#vulnerabilitatenergètica\\n\\n#quedatACasa\\n#EntreT…',\n  'in_reply_to_screen_name': None},\n {'_id': ObjectId('5ea326652a0f212921292cf0'),\n  'created_at': datetime.datetime(2020, 4, 24, 17, 42, 34),\n  'geo': None,\n  'id': 1253741135136251911,\n  'retweet_count': 0,\n  'source': 'Twitter Web Client',\n  'text': 'UK Gov looking toward the next stage of Snooper Charter expansion - \\n\\n- gifting the ability to spy on citizens (not… https://t.co/5MboA1xN2L',\n  'in_reply_to_screen_name': None},\n {'_id': ObjectId('5ea326652a0f212921292cf1'),\n  'created_at': datetime.datetime(2020, 4, 24, 17, 42, 9),\n  'geo': None,\n  'id': 1253741031260119052,\n  'retweet_count': 4,\n  'source': 'Twitter for iPad',\n  'text': 'RT @ember_crooks: FF #Db2 @craigmullins @RomanufaKeri @erwin_hattingh @data_henrik @ARSDB2 @globomike @raghuprasad241 @DBeulke @angoca @MKr…',\n  'in_reply_to_screen_name': None},\n {'_id': ObjectId('5ea326652a0f212921292cf2'),\n  'created_at': datetime.datetime(2020, 4, 24, 17, 42, 3),\n  'geo': None,\n  'id': 1253741006115176450,\n  'retweet_count': 1,\n  'source': 'Edtech genomics',\n  'text': 'RT @QuantaEd: \"A population able and proactively making smarter health choices will cost less, live longer, and live healthier lifestyles.\"…',\n  'in_reply_to_screen_name': None},\n {'_id': ObjectId('5ea326652a0f212921292cf3'),\n  'created_at': datetime.datetime(2020, 4, 24, 17, 42, 2),\n  'geo': None,\n  'id': 1253740998779428870,\n  'retweet_count': 4,\n  'source': 'Twitter for iPhone',\n  'text': 'RT @vavacolor: #Covid_19 tracking systems aren’t all built the same. One thing is sure, alone, they don’t solve the underlying social inequ…',\n  'in_reply_to_screen_name': None},\n {'_id': ObjectId('5ea326652a0f212921292cf4'),\n  'created_at': datetime.datetime(2020, 4, 24, 17, 41, 57),\n  'geo': None,\n  'id': 1253740978420187137,\n  'retweet_count': 7,\n  'source': 'Calcaware',\n  'text': 'RT @mvollmer1: A #DigitalTwin allows clear visibility into the risks of a complex, interconnected #supplychain @BCG \\n\\n#ArtificialIntelligen…',\n  'in_reply_to_screen_name': None},\n {'_id': ObjectId('5ea326772a0f212921292cf5'),\n  'created_at': datetime.datetime(2020, 4, 24, 17, 43, 38),\n  'geo': None,\n  'id': 1253741401810010119,\n  'retweet_count': 41,\n  'source': 'Twitter Web App',\n  'text': 'RT @SpirosMargaris: How #AI can tackle the #climate emergency \\n\\nif developed responsibly\\n\\nhttps://t.co/glveQ74s9k #fintech @ConversationUK…',\n  'in_reply_to_screen_name': None},\n {'_id': ObjectId('5ea326772a0f212921292cf6'),\n  'created_at': datetime.datetime(2020, 4, 24, 17, 43, 24),\n  'geo': None,\n  'id': 1253741345828745216,\n  'retweet_count': 8,\n  'source': 'Twitter for Android',\n  'text': 'RT @ipfconline1: 10 Groups of #MachineLearning Algorithms \\n\\nhttps://t.co/dQsSp6ozVa @thomas_glare v/ @datamadesimple\\n#AI #DeepLearning\\nCc @…',\n  'in_reply_to_screen_name': None},\n {'_id': ObjectId('5ea326772a0f212921292cf7'),\n  'created_at': datetime.datetime(2020, 4, 24, 17, 43, 17),\n  'geo': None,\n  'id': 1253741316011327488,\n  'retweet_count': 9,\n  'source': 'Twitter for Android',\n  'text': 'RT @DeepLearn007: @mercer #AI will augment humans in to deal w/ #BigData &amp; find patterns\\n#5G enabled #IoT devices are going to generate a l…',\n  'in_reply_to_screen_name': None},\n {'_id': ObjectId('5ea326772a0f212921292cf8'),\n  'created_at': datetime.datetime(2020, 4, 24, 17, 42, 55),\n  'geo': None,\n  'id': 1253741220658102274,\n  'retweet_count': 0,\n  'source': 'Twitter Web App',\n  'text': 'Breaking news!\\n\\n@Flexmonster Data Server is available starting from 2.8.5 version 🎉\\n\\nProcess your #data up to 10 ti… https://t.co/tIJo6Pk3Bt',\n  'in_reply_to_screen_name': None},\n {'_id': ObjectId('5ea326772a0f212921292cf9'),\n  'created_at': datetime.datetime(2020, 4, 24, 17, 42, 36),\n  'geo': None,\n  'id': 1253741141159227392,\n  'retweet_count': 7,\n  'source': 'Twitter Web App',\n  'text': 'RT @sostAMB: 🔈🔈🔈Estigueu atents aquests propers dies 👇🏻\\n\\n#confinament per #COVID19\\n#BigData\\n#vulnerabilitatenergètica\\n\\n#quedatACasa\\n#EntreT…',\n  'in_reply_to_screen_name': None},\n {'_id': ObjectId('5ea326772a0f212921292cfa'),\n  'created_at': datetime.datetime(2020, 4, 24, 17, 42, 34),\n  'geo': None,\n  'id': 1253741135136251911,\n  'retweet_count': 0,\n  'source': 'Twitter Web Client',\n  'text': 'UK Gov looking toward the next stage of Snooper Charter expansion - \\n\\n- gifting the ability to spy on citizens (not… https://t.co/5MboA1xN2L',\n  'in_reply_to_screen_name': None},\n {'_id': ObjectId('5ea326772a0f212921292cfb'),\n  'created_at': datetime.datetime(2020, 4, 24, 17, 42, 9),\n  'geo': None,\n  'id': 1253741031260119052,\n  'retweet_count': 4,\n  'source': 'Twitter for iPad',\n  'text': 'RT @ember_crooks: FF #Db2 @craigmullins @RomanufaKeri @erwin_hattingh @data_henrik @ARSDB2 @globomike @raghuprasad241 @DBeulke @angoca @MKr…',\n  'in_reply_to_screen_name': None},\n {'_id': ObjectId('5ea326772a0f212921292cfc'),\n  'created_at': datetime.datetime(2020, 4, 24, 17, 42, 3),\n  'geo': None,\n  'id': 1253741006115176450,\n  'retweet_count': 1,\n  'source': 'Edtech genomics',\n  'text': 'RT @QuantaEd: \"A population able and proactively making smarter health choices will cost less, live longer, and live healthier lifestyles.\"…',\n  'in_reply_to_screen_name': None},\n {'_id': ObjectId('5ea326772a0f212921292cfd'),\n  'created_at': datetime.datetime(2020, 4, 24, 17, 42, 2),\n  'geo': None,\n  'id': 1253740998779428870,\n  'retweet_count': 4,\n  'source': 'Twitter for iPhone',\n  'text': 'RT @vavacolor: #Covid_19 tracking systems aren’t all built the same. One thing is sure, alone, they don’t solve the underlying social inequ…',\n  'in_reply_to_screen_name': None},\n {'_id': ObjectId('5ea326772a0f212921292cfe'),\n  'created_at': datetime.datetime(2020, 4, 24, 17, 41, 57),\n  'geo': None,\n  'id': 1253740978420187137,\n  'retweet_count': 7,\n  'source': 'Calcaware',\n  'text': 'RT @mvollmer1: A #DigitalTwin allows clear visibility into the risks of a complex, interconnected #supplychain @BCG \\n\\n#ArtificialIntelligen…',\n  'in_reply_to_screen_name': None},\n {'_id': ObjectId('5ea32c0087fa0ccd4d29bc84'),\n  'created_at': datetime.datetime(2020, 4, 24, 18, 11, 59),\n  'geo': None,\n  'id': 1253748535461326853,\n  'retweet_count': 9,\n  'source': 'Twitter for Android',\n  'text': 'RT @gp_pulipaka: Free eBook: Streaming Change Data Capture. #BigData #Analytics #DataScience #AI #MachineLearning #IoT #IIoT #Python #RStat…',\n  'in_reply_to_screen_name': None},\n {'_id': ObjectId('5ea32c0087fa0ccd4d29bc85'),\n  'created_at': datetime.datetime(2020, 4, 24, 18, 11, 57),\n  'geo': None,\n  'id': 1253748529794867201,\n  'retweet_count': 36,\n  'source': 'ProjectLearn.io',\n  'text': 'RT @gp_pulipaka: Leverage Transfer Learning. #BigData #Analytics #DataScience #AI #MachineLearning #IoT #IIoT #PyTorch #Python #RStats #Ten…',\n  'in_reply_to_screen_name': None},\n {'_id': ObjectId('5ea32c0087fa0ccd4d29bc86'),\n  'created_at': datetime.datetime(2020, 4, 24, 18, 11, 53),\n  'geo': None,\n  'id': 1253748513726496768,\n  'retweet_count': 31,\n  'source': 'Twitter for Android',\n  'text': 'RT @gp_pulipaka: Fuzzy Matching with #PySpark. #BigData #Analytics #DataScience #AI #MachineLearning #IoT #IIoT #PyTorch #Python #RStats #T…',\n  'in_reply_to_screen_name': None},\n {'_id': ObjectId('5ea32c0087fa0ccd4d29bc87'),\n  'created_at': datetime.datetime(2020, 4, 24, 18, 11, 49),\n  'geo': None,\n  'id': 1253748497305591809,\n  'retweet_count': 1,\n  'source': 'Twitter Web App',\n  'text': 'RT @chidambara09: @metoscm @nodexl @mihkal @docassar @enricomolinari @FmFrancoise @smr_foundation @marc_smith @NodeXL_Mktng MEtos CM \\nTh A…',\n  'in_reply_to_screen_name': None},\n {'_id': ObjectId('5ea32c0087fa0ccd4d29bc88'),\n  'created_at': datetime.datetime(2020, 4, 24, 18, 11, 44),\n  'geo': None,\n  'id': 1253748474165649408,\n  'retweet_count': 1,\n  'source': 'Twitter Web App',\n  'text': '@metoscm @nodexl @mihkal @docassar @enricomolinari @FmFrancoise @smr_foundation @marc_smith @NodeXL_Mktng MEtos CM… https://t.co/oj8uYZkHXQ',\n  'in_reply_to_screen_name': 'metoscm'},\n {'_id': ObjectId('5ea32c0087fa0ccd4d29bc89'),\n  'created_at': datetime.datetime(2020, 4, 24, 18, 11, 32),\n  'geo': None,\n  'id': 1253748424702337026,\n  'retweet_count': 11,\n  'source': 'youtubetypebeat',\n  'text': 'RT @intikhabalam: Your only limitation is yourself. #Motivation #BigData  #Startup #Entrepreneur #MakeYourOwnLane #SEO #SMM #IoT\\n #entrepre…',\n  'in_reply_to_screen_name': None},\n {'_id': ObjectId('5ea32c0087fa0ccd4d29bc8a'),\n  'created_at': datetime.datetime(2020, 4, 24, 18, 11, 23),\n  'geo': None,\n  'id': 1253748385414287361,\n  'retweet_count': 3,\n  'source': 'auto is the only way it can be ',\n  'text': 'RT @KChaudhari06: #dataprotection #cloud #BigData https://t.co/PRK4C7QOlU',\n  'in_reply_to_screen_name': None},\n {'_id': ObjectId('5ea32c0087fa0ccd4d29bc8b'),\n  'created_at': datetime.datetime(2020, 4, 24, 18, 11, 18),\n  'geo': None,\n  'id': 1253748365415845889,\n  'retweet_count': 3,\n  'source': 'forRetweeting',\n  'text': 'RT @KChaudhari06: #dataprotection #cloud #BigData https://t.co/PRK4C7QOlU',\n  'in_reply_to_screen_name': None},\n {'_id': ObjectId('5ea32c0087fa0ccd4d29bc8c'),\n  'created_at': datetime.datetime(2020, 4, 24, 18, 11, 15),\n  'geo': None,\n  'id': 1253748354909167616,\n  'retweet_count': 49,\n  'source': 'Twitter for Android',\n  'text': 'RT @EchoFintech: Dataviz : If 100 people lived on earth!\\n\\n#AI #MachineLearning #BigData #dataviz HT @jblefevre60\\n\\n@gvalan @lesguer_lionel @…',\n  'in_reply_to_screen_name': None},\n {'_id': ObjectId('5ea32c0087fa0ccd4d29bc8d'),\n  'created_at': datetime.datetime(2020, 4, 24, 18, 11, 2),\n  'geo': None,\n  'id': 1253748300056059911,\n  'retweet_count': 1,\n  'source': 'Twitter Web App',\n  'text': 'RT @IAM__Network: Ingram Micro Doubles Down On IoT With New Center Of Excellence \\n\\nREAD MORE: https://t.co/L0asq0syRW\\n\\n#BigData #ConnectedD…',\n  'in_reply_to_screen_name': None},\n {'_id': ObjectId('5ea32c1a87fa0ccd4d29bc8f'),\n  'text': 'HELLO! This is my first update!!'},\n {'_id': ObjectId('5ea32c4a87fa0ccd4d29bc90'),\n  'age': '7',\n  'gender': 'Male',\n  'address': {'street': 'pennsylvania avenue',\n   'number': '1600',\n   'city': 'Washington DC'},\n  'retweets': 150,\n  'source': 'Twitter from Android',\n  'first_name': 'Not Ashwin',\n  'likes': ['nature', 'music', 'video games']},\n {'_id': ObjectId('5ea32fd587fa0ccd4d29bc93'),\n  'created_at': datetime.datetime(2020, 4, 24, 18, 28, 33),\n  'geo': None,\n  'id': 1253752705631154178,\n  'retweet_count': 24,\n  'source': 'Twitter for Android',\n  'text': 'RT @gp_pulipaka: Introduction to Neural Networks. #BigData #Analytics #DataScience #AI #MachineLearning #IoT #IIoT #PyTorch #Python #RStats…',\n  'in_reply_to_screen_name': None},\n {'_id': ObjectId('5ea32fd587fa0ccd4d29bc94'),\n  'created_at': datetime.datetime(2020, 4, 24, 18, 28, 24),\n  'geo': None,\n  'id': 1253752668587163652,\n  'retweet_count': 26,\n  'source': 'TweetDeck',\n  'text': 'RT @charlie_lees: The @PREdiCCt study - take a break from COVID-19 and watch this 2 minute film. This is our #bigdata study looking at the…',\n  'in_reply_to_screen_name': None},\n {'_id': ObjectId('5ea32fd587fa0ccd4d29bc95'),\n  'created_at': datetime.datetime(2020, 4, 24, 18, 28, 18),\n  'geo': None,\n  'id': 1253752642225897472,\n  'retweet_count': 0,\n  'source': 'Twitter Web App',\n  'text': 'Trenchant naming for intrepid branding. This iPaaS simplifies integration with a single set of code that executes o… https://t.co/9vJEyQRQCk',\n  'in_reply_to_screen_name': None},\n {'_id': ObjectId('5ea32fd587fa0ccd4d29bc96'),\n  'created_at': datetime.datetime(2020, 4, 24, 18, 28, 8),\n  'geo': None,\n  'id': 1253752603038453762,\n  'retweet_count': 3,\n  'source': 'Twitter Web App',\n  'text': 'RT @Ronald_vanLoon: What To Expect From Generation #AI?\\nby @fede_guerrini @Forbes\\n\\nGo to https://t.co/RAqqrb70O6\\n\\n#IoT #BigData #Artificial…',\n  'in_reply_to_screen_name': None},\n {'_id': ObjectId('5ea32fd587fa0ccd4d29bc97'),\n  'created_at': datetime.datetime(2020, 4, 24, 18, 27, 59),\n  'geo': None,\n  'id': 1253752563897438211,\n  'retweet_count': 3,\n  'source': 'Twitter Web App',\n  'text': 'RT @AMULETAnalytics: The insideBIGDATA IMPACT 50 List for Q2 2020 https://t.co/Utpqb1FmLJ\\n\\n#BigData #DataScience #MachineLearning #AI #Deep…',\n  'in_reply_to_screen_name': None},\n {'_id': ObjectId('5ea32fd587fa0ccd4d29bc98'),\n  'created_at': datetime.datetime(2020, 4, 24, 18, 27, 45),\n  'geo': None,\n  'id': 1253752506238337025,\n  'retweet_count': 24,\n  'source': 'Twitter for Android',\n  'text': 'RT @gp_pulipaka: Introduction to Neural Networks. #BigData #Analytics #DataScience #AI #MachineLearning #IoT #IIoT #PyTorch #Python #RStats…',\n  'in_reply_to_screen_name': None},\n {'_id': ObjectId('5ea32fd587fa0ccd4d29bc99'),\n  'created_at': datetime.datetime(2020, 4, 24, 18, 27, 42),\n  'geo': None,\n  'id': 1253752494263603200,\n  'retweet_count': 15,\n  'source': 'Twitter Web App',\n  'text': 'RT @gp_pulipaka: Best Languages for #DataScience and #Statistics in One Picture. #BigData #Analytics #IoT #IIoT #PyTorch #Python #RStats #T…',\n  'in_reply_to_screen_name': None},\n {'_id': ObjectId('5ea32fd587fa0ccd4d29bc9a'),\n  'created_at': datetime.datetime(2020, 4, 24, 18, 27, 35),\n  'geo': None,\n  'id': 1253752464039436288,\n  'retweet_count': 30,\n  'source': 'Twitter Web App',\n  'text': 'RT @Claire_Harris82: 10 Impacts of #Covid19 on #EmergingTech\\u200b &gt;&gt;&gt; @MikeQuindazzi &gt;&gt;&gt; #AI #BigData #CloudComputing #Robotics #DigitalMarketi…',\n  'in_reply_to_screen_name': None},\n {'_id': ObjectId('5ea32fd587fa0ccd4d29bc9b'),\n  'created_at': datetime.datetime(2020, 4, 24, 18, 27, 29),\n  'geo': None,\n  'id': 1253752438663806976,\n  'retweet_count': 33,\n  'source': 'Twitter Web App',\n  'text': 'RT @antgrasso: The exponential growth of data, fueled by IoT and the use of connected devices, is undisputed. Look at \"One\\xa0Day in Data.\" Li…',\n  'in_reply_to_screen_name': None},\n {'_id': ObjectId('5ea32fd587fa0ccd4d29bc9c'),\n  'created_at': datetime.datetime(2020, 4, 24, 18, 27, 26),\n  'geo': None,\n  'id': 1253752427330908164,\n  'retweet_count': 1,\n  'source': 'Twitter Web App',\n  'text': \"RT @mvollmer1: The exponential effects of #SocialDistancing to slow the #coronavirus, it's in the data by @StatistaCharts \\n\\nMT @MikeQuindaz…\",\n  'in_reply_to_screen_name': None},\n {'_id': ObjectId('5ea32fd587fa0ccd4d29bc9d'),\n  'text': 'HELLO! This is my first update!!'},\n {'_id': ObjectId('5ea3300687fa0ccd4d29bc9e'),\n  'name': 'Steve',\n  'age': 25,\n  'gender': 'Male',\n  'address': {'street': 'Huntington', 'number': 23, 'city': 'Boston'}},\n {'_id': ObjectId('5ea3300687fa0ccd4d29bc9f'),\n  'name': 'Tom',\n  'age': 33,\n  'gender': 'Male',\n  'address': {'street': 'Mass ave', 'number': 44, 'city': 'Boston'}},\n {'_id': ObjectId('5ea33b461989861a99d410b4'),\n  'created_at': datetime.datetime(2020, 4, 24, 19, 17, 17),\n  'geo': None,\n  'id': 1253764969893593088,\n  'retweet_count': 2,\n  'source': 'Twitter Web App',\n  'text': 'RT @sigmaridge: Cisco’s SD-WAN Leadership Recognized by Dell’Oro and by Gartner Peer Insights https://t.co/pmswAD3hz3\\nFor more info: https:…',\n  'in_reply_to_screen_name': None},\n {'_id': ObjectId('5ea33b461989861a99d410b5'),\n  'created_at': datetime.datetime(2020, 4, 24, 19, 17, 2),\n  'geo': None,\n  'id': 1253764908723982342,\n  'retweet_count': 0,\n  'source': 'Twitter Web App',\n  'text': 'Michelle Malkin: #BigData ‘Pulling The Plug’ On Conservatives ‘Who Might Tip The Scales’ In 2020\\nby @BreitbartNews… https://t.co/ZL9LJCKGIZ',\n  'in_reply_to_screen_name': None},\n {'_id': ObjectId('5ea33b461989861a99d410b6'),\n  'created_at': datetime.datetime(2020, 4, 24, 19, 16, 49),\n  'geo': None,\n  'id': 1253764852629278720,\n  'retweet_count': 17,\n  'source': 'Twitter Web App',\n  'text': 'RT @gp_pulipaka: 6 Free Data Science Books. #BigData #Analytics #DataScience #NLProc #IoT #IIoT #PyTorch #Python #RStats #TensorFlow #Java…',\n  'in_reply_to_screen_name': None},\n {'_id': ObjectId('5ea33b461989861a99d410b7'),\n  'created_at': datetime.datetime(2020, 4, 24, 19, 16, 37),\n  'geo': None,\n  'id': 1253764801685327880,\n  'retweet_count': 7,\n  'source': 'Show Finder',\n  'text': 'RT @KirkDBorne: ++...and Explore Hundreds of #DataScience audiobooks to deepen your #DataLiteracy, Data Proficiency, Data Leadership, and D…',\n  'in_reply_to_screen_name': None},\n {'_id': ObjectId('5ea33b461989861a99d410b8'),\n  'created_at': datetime.datetime(2020, 4, 24, 19, 16, 21),\n  'geo': None,\n  'id': 1253764736891662336,\n  'retweet_count': 22,\n  'source': 'Twitter for Android',\n  'text': 'RT @gp_pulipaka: Free eBook: Container Networking: From #Docker to #Kubernetes. #BigData #Analytics #DataScience #AI #MachineLearning #IoT…',\n  'in_reply_to_screen_name': None},\n {'_id': ObjectId('5ea33b461989861a99d410b9'),\n  'created_at': datetime.datetime(2020, 4, 24, 19, 16, 9),\n  'geo': None,\n  'id': 1253764683598790656,\n  'retweet_count': 10,\n  'source': 'Twitter Web App',\n  'text': 'RT @WorldTrendsInfo: 5 ways to save money during a coronavirus lockdown - CNET: #DeepLearning #IoT #BigData cc @motorcycletwitt @mikequinda…',\n  'in_reply_to_screen_name': None},\n {'_id': ObjectId('5ea33b461989861a99d410ba'),\n  'created_at': datetime.datetime(2020, 4, 24, 19, 16, 6),\n  'geo': None,\n  'id': 1253764673964584963,\n  'retweet_count': 1,\n  'source': 'Twitter for Android',\n  'text': 'RT @RichardEudes: Using Adversarial Debiasing to Reduce Model Bias https://t.co/IowPZMHv1d #bigdata, #datascience, #datascience #ds',\n  'in_reply_to_screen_name': None},\n {'_id': ObjectId('5ea33b461989861a99d410bb'),\n  'created_at': datetime.datetime(2020, 4, 24, 19, 16, 5),\n  'geo': None,\n  'id': 1253764669120135168,\n  'retweet_count': 3,\n  'source': 'Twitter for Android',\n  'text': 'RT @KirkDBorne: Smart Communities -- Delivering Intelligent Community Design with #GIS: https://t.co/L0b2lD8W1K by @govloop \\n\\n#SmartCities…',\n  'in_reply_to_screen_name': None},\n {'_id': ObjectId('5ea33b461989861a99d410bc'),\n  'created_at': datetime.datetime(2020, 4, 24, 19, 16, 4),\n  'geo': None,\n  'id': 1253764664183439360,\n  'retweet_count': 24,\n  'source': 'Twitter for iPhone',\n  'text': 'RT @labordeolivier: Driving Success of #DataScience Solutions: Skills, Roles &amp; Responsibilities\\nby @Gartner_inc @Ronald_vanLoon\\n#BigData #A…',\n  'in_reply_to_screen_name': None},\n {'_id': ObjectId('5ea33b461989861a99d410bd'),\n  'created_at': datetime.datetime(2020, 4, 24, 19, 15, 58),\n  'geo': None,\n  'id': 1253764638107451393,\n  'retweet_count': 50,\n  'source': 'Twitter for Android',\n  'text': 'RT @gp_pulipaka: Introduction to Neural Networks. #BigData #Analytics #DataScience #AI #MachineLearning #IoT #IIoT #PyTorch #Python #RStats…',\n  'in_reply_to_screen_name': None},\n {'_id': ObjectId('5ea33b461989861a99d410be'),\n  'age': '7',\n  'gender': 'Male',\n  'address': {'street': 'pennsylvania avenue',\n   'number': '1600',\n   'city': 'Washington DC'},\n  'retweets': 150,\n  'source': 'Twitter from Android',\n  'first_name': 'Not Ashwin'},\n {'_id': ObjectId('5ea33b461989861a99d410bf'),\n  'name': 'Steve',\n  'age': 25,\n  'gender': 'Male',\n  'address': {'street': 'Huntington', 'number': 23, 'city': 'Boston'}},\n {'_id': ObjectId('5ea33b461989861a99d410c0'),\n  'name': 'Tom',\n  'age': 33,\n  'gender': 'Male',\n  'address': {'street': 'Mass ave', 'number': 44, 'city': 'Boston'}},\n {'_id': ObjectId('5ea33b9c1989861a99d410c1'),\n  'created_at': datetime.datetime(2020, 4, 24, 19, 17, 17),\n  'geo': None,\n  'id': 1253764969893593088,\n  'retweet_count': 2,\n  'source': 'Twitter Web App',\n  'text': 'RT @sigmaridge: Cisco’s SD-WAN Leadership Recognized by Dell’Oro and by Gartner Peer Insights https://t.co/pmswAD3hz3\\nFor more info: https:…',\n  'in_reply_to_screen_name': None},\n {'_id': ObjectId('5ea33b9c1989861a99d410c2'),\n  'created_at': datetime.datetime(2020, 4, 24, 19, 17, 2),\n  'geo': None,\n  'id': 1253764908723982342,\n  'retweet_count': 0,\n  'source': 'Twitter Web App',\n  'text': 'Michelle Malkin: #BigData ‘Pulling The Plug’ On Conservatives ‘Who Might Tip The Scales’ In 2020\\nby @BreitbartNews… https://t.co/ZL9LJCKGIZ',\n  'in_reply_to_screen_name': None},\n {'_id': ObjectId('5ea33b9c1989861a99d410c3'),\n  'created_at': datetime.datetime(2020, 4, 24, 19, 16, 49),\n  'geo': None,\n  'id': 1253764852629278720,\n  'retweet_count': 17,\n  'source': 'Twitter Web App',\n  'text': 'RT @gp_pulipaka: 6 Free Data Science Books. #BigData #Analytics #DataScience #NLProc #IoT #IIoT #PyTorch #Python #RStats #TensorFlow #Java…',\n  'in_reply_to_screen_name': None},\n {'_id': ObjectId('5ea33b9c1989861a99d410c4'),\n  'created_at': datetime.datetime(2020, 4, 24, 19, 16, 37),\n  'geo': None,\n  'id': 1253764801685327880,\n  'retweet_count': 7,\n  'source': 'Show Finder',\n  'text': 'RT @KirkDBorne: ++...and Explore Hundreds of #DataScience audiobooks to deepen your #DataLiteracy, Data Proficiency, Data Leadership, and D…',\n  'in_reply_to_screen_name': None},\n {'_id': ObjectId('5ea33b9c1989861a99d410c5'),\n  'created_at': datetime.datetime(2020, 4, 24, 19, 16, 21),\n  'geo': None,\n  'id': 1253764736891662336,\n  'retweet_count': 22,\n  'source': 'Twitter for Android',\n  'text': 'RT @gp_pulipaka: Free eBook: Container Networking: From #Docker to #Kubernetes. #BigData #Analytics #DataScience #AI #MachineLearning #IoT…',\n  'in_reply_to_screen_name': None},\n {'_id': ObjectId('5ea33b9c1989861a99d410c6'),\n  'created_at': datetime.datetime(2020, 4, 24, 19, 16, 9),\n  'geo': None,\n  'id': 1253764683598790656,\n  'retweet_count': 10,\n  'source': 'Twitter Web App',\n  'text': 'RT @WorldTrendsInfo: 5 ways to save money during a coronavirus lockdown - CNET: #DeepLearning #IoT #BigData cc @motorcycletwitt @mikequinda…',\n  'in_reply_to_screen_name': None},\n {'_id': ObjectId('5ea33b9c1989861a99d410c7'),\n  'created_at': datetime.datetime(2020, 4, 24, 19, 16, 6),\n  'geo': None,\n  'id': 1253764673964584963,\n  'retweet_count': 1,\n  'source': 'Twitter for Android',\n  'text': 'RT @RichardEudes: Using Adversarial Debiasing to Reduce Model Bias https://t.co/IowPZMHv1d #bigdata, #datascience, #datascience #ds',\n  'in_reply_to_screen_name': None},\n {'_id': ObjectId('5ea33b9c1989861a99d410c8'),\n  'created_at': datetime.datetime(2020, 4, 24, 19, 16, 5),\n  'geo': None,\n  'id': 1253764669120135168,\n  'retweet_count': 3,\n  'source': 'Twitter for Android',\n  'text': 'RT @KirkDBorne: Smart Communities -- Delivering Intelligent Community Design with #GIS: https://t.co/L0b2lD8W1K by @govloop \\n\\n#SmartCities…',\n  'in_reply_to_screen_name': None},\n {'_id': ObjectId('5ea33b9c1989861a99d410c9'),\n  'created_at': datetime.datetime(2020, 4, 24, 19, 16, 4),\n  'geo': None,\n  'id': 1253764664183439360,\n  'retweet_count': 24,\n  'source': 'Twitter for iPhone',\n  'text': 'RT @labordeolivier: Driving Success of #DataScience Solutions: Skills, Roles &amp; Responsibilities\\nby @Gartner_inc @Ronald_vanLoon\\n#BigData #A…',\n  'in_reply_to_screen_name': None},\n {'_id': ObjectId('5ea33b9c1989861a99d410ca'),\n  'created_at': datetime.datetime(2020, 4, 24, 19, 15, 58),\n  'geo': None,\n  'id': 1253764638107451393,\n  'retweet_count': 50,\n  'source': 'Twitter for Android',\n  'text': 'RT @gp_pulipaka: Introduction to Neural Networks. #BigData #Analytics #DataScience #AI #MachineLearning #IoT #IIoT #PyTorch #Python #RStats…',\n  'in_reply_to_screen_name': None},\n {'_id': ObjectId('5ea33e5f1989861a99d410cd'),\n  'created_at': datetime.datetime(2020, 4, 24, 19, 30, 16),\n  'geo': None,\n  'id': 1253768238426656769,\n  'retweet_count': 0,\n  'source': 'Hootsuite Inc.',\n  'text': 'RT @HarbRimah: MIT has developed #AI that helps #Robots learn to do household chores\\n\\n#ArtificialIntelligence #ML… https://t.co/iGFX6qCe6L',\n  'in_reply_to_screen_name': None},\n {'_id': ObjectId('5ea33e5f1989861a99d410ce'),\n  'created_at': datetime.datetime(2020, 4, 24, 19, 30, 13),\n  'geo': None,\n  'id': 1253768226397474818,\n  'retweet_count': 0,\n  'source': 'mLabs - Gestão de Redes Sociais',\n  'text': 'Sexta feira é dia de #hackdodia! Conhece Google Trends? É uma ferramenta gratuita para pesquisar a evolução de pesq… https://t.co/HGx2SpLrpd',\n  'in_reply_to_screen_name': None},\n {'_id': ObjectId('5ea33e5f1989861a99d410cf'),\n  'created_at': datetime.datetime(2020, 4, 24, 19, 30, 7),\n  'geo': None,\n  'id': 1253768199180636160,\n  'retweet_count': 0,\n  'source': 'Twitter for iPhone',\n  'text': '@CELOTOR en #ganado #Angus puro registrado #productividad en #smscelotor #iot #bigdata @colproductiva @InnpulsaCol… https://t.co/83UviUiEpo',\n  'in_reply_to_screen_name': 'CELOTOR'},\n {'_id': ObjectId('5ea33e5f1989861a99d410d0'),\n  'created_at': datetime.datetime(2020, 4, 24, 19, 30, 5),\n  'geo': None,\n  'id': 1253768190712307714,\n  'retweet_count': 10,\n  'source': 'TwinyBots',\n  'text': 'RT @KirkDBorne: Smart Communities -- Delivering Intelligent Community Design with #GIS: https://t.co/L0b2lD8W1K by @govloop \\n\\n#SmartCities…',\n  'in_reply_to_screen_name': None},\n {'_id': ObjectId('5ea33e5f1989861a99d410d1'),\n  'created_at': datetime.datetime(2020, 4, 24, 19, 30, 4),\n  'geo': None,\n  'id': 1253768187281358858,\n  'retweet_count': 0,\n  'source': 'IoT BigData Jobs',\n  'text': 'Believe in yourself... you are great =&gt; Sr. Data Analyst https://t.co/rUFkh0vNVH #bigdata #iot #analytics #ai https://t.co/lB6cNfOMyw',\n  'in_reply_to_screen_name': None},\n {'_id': ObjectId('5ea33e5f1989861a99d410d2'),\n  'text': 'HELLO! This is my first update!!'},\n {'_id': ObjectId('5ea33e5f1989861a99d410d3'),\n  'name': 'Steve',\n  'age': 25,\n  'gender': 'Male',\n  'address': {'street': 'Huntington', 'number': 23, 'city': 'Boston'}},\n {'_id': ObjectId('5ea33e5f1989861a99d410d4'),\n  'name': 'Tom',\n  'age': 33,\n  'gender': 'Male',\n  'address': {'street': 'Mass ave', 'number': 44, 'city': 'Boston'}},\n {'_id': ObjectId('5ea342dc9bd883a00ede7085'),\n  'created_at': datetime.datetime(2020, 4, 24, 19, 49, 37),\n  'geo': None,\n  'id': 1253773107581661184,\n  'retweet_count': 46,\n  'source': 'Twitter for Android',\n  'text': 'RT @gp_pulipaka: R Code to Accompany Real-World #MachineLearning (Chapters 2-4 Updates). #BigData #Analytics #DataScience #AI #IoT #IIoT #P…',\n  'in_reply_to_screen_name': None},\n {'_id': ObjectId('5ea342dc9bd883a00ede7086'),\n  'created_at': datetime.datetime(2020, 4, 24, 19, 49, 33),\n  'geo': None,\n  'id': 1253773092008136705,\n  'retweet_count': 93,\n  'source': 'Twitter for iPhone',\n  'text': 'RT @CEO_AISOMA: Data is the Fuel for AI: Data Collection Methods for #MachineLearning &amp; #DeepLearning\\n\\nmore slides 👉 https://t.co/AQYQKFBP9…',\n  'in_reply_to_screen_name': None},\n {'_id': ObjectId('5ea342dc9bd883a00ede7087'),\n  'created_at': datetime.datetime(2020, 4, 24, 19, 49, 28),\n  'geo': None,\n  'id': 1253773068239020032,\n  'retweet_count': 0,\n  'source': 'Twitter Web App',\n  'text': '@peekodesigno\\nSpooky! Become anyone in your Skype calls with this #AI tool \\nhttps://t.co/sXzecIOew6 \\n#Robotics… https://t.co/XDBe8nkKNh',\n  'in_reply_to_screen_name': 'peekodesigno'},\n {'_id': ObjectId('5ea342dc9bd883a00ede7088'),\n  'created_at': datetime.datetime(2020, 4, 24, 19, 49, 26),\n  'geo': None,\n  'id': 1253773063012978688,\n  'retweet_count': 15,\n  'source': 'Twitter for Android',\n  'text': 'RT @gp_pulipaka: A Brief Introduction to Neural Networks. #BigData #Analytics #DataScience #AI #MachineLearning #IoT #IIoT #Python #RStats…',\n  'in_reply_to_screen_name': None},\n {'_id': ObjectId('5ea342dc9bd883a00ede7089'),\n  'created_at': datetime.datetime(2020, 4, 24, 19, 49, 24),\n  'geo': None,\n  'id': 1253773051772141570,\n  'retweet_count': 0,\n  'source': 'Twitter Web App',\n  'text': 'Hoy más que nunca hay que brindar excelencia a nuestros clientes y aliados estratégicos. Agenda una videoconferenci… https://t.co/7d7yNQYUuP',\n  'in_reply_to_screen_name': None},\n {'_id': ObjectId('5ea342dc9bd883a00ede708a'),\n  'created_at': datetime.datetime(2020, 4, 24, 19, 49, 17),\n  'geo': None,\n  'id': 1253773025805123584,\n  'retweet_count': 15,\n  'source': 'LinuxBot2.0',\n  'text': 'RT @gp_pulipaka: A Brief Introduction to Neural Networks. #BigData #Analytics #DataScience #AI #MachineLearning #IoT #IIoT #Python #RStats…',\n  'in_reply_to_screen_name': None},\n {'_id': ObjectId('5ea342dc9bd883a00ede708b'),\n  'created_at': datetime.datetime(2020, 4, 24, 19, 49, 13),\n  'geo': None,\n  'id': 1253773008436695042,\n  'retweet_count': 7,\n  'source': 'Twitter for iPhone',\n  'text': \"RT @GPAinsights: Thank you @OntarioCofC for a great webinar on #bigdata's role in #covid19 economic recovery. https://t.co/V86p46g5Bs\",\n  'in_reply_to_screen_name': None},\n {'_id': ObjectId('5ea342dc9bd883a00ede708c'),\n  'created_at': datetime.datetime(2020, 4, 24, 19, 49, 9),\n  'geo': None,\n  'id': 1253772990896123907,\n  'retweet_count': 15,\n  'source': 'React Dev autobot',\n  'text': 'RT @gp_pulipaka: A Brief Introduction to Neural Networks. #BigData #Analytics #DataScience #AI #MachineLearning #IoT #IIoT #Python #RStats…',\n  'in_reply_to_screen_name': None},\n {'_id': ObjectId('5ea342dc9bd883a00ede708d'),\n  'created_at': datetime.datetime(2020, 4, 24, 19, 49, 4),\n  'geo': None,\n  'id': 1253772968867631110,\n  'retweet_count': 87,\n  'source': 'xael bot',\n  'text': 'RT @CEO_AISOMA: Artificial Intelligence in Healthcare - Promising Progress (Best Use Cases)\\n\\n#AI #MachineLearning #Healthcare #HealthTech #…',\n  'in_reply_to_screen_name': None},\n {'_id': ObjectId('5ea342dc9bd883a00ede708e'),\n  'created_at': datetime.datetime(2020, 4, 24, 19, 49, 4),\n  'geo': None,\n  'id': 1253772967525433344,\n  'retweet_count': 15,\n  'source': 'RTML',\n  'text': 'RT @gp_pulipaka: A Brief Introduction to Neural Networks. #BigData #Analytics #DataScience #AI #MachineLearning #IoT #IIoT #Python #RStats…',\n  'in_reply_to_screen_name': None},\n {'_id': ObjectId('5ea342dc9bd883a00ede708f'),\n  'age': '7',\n  'gender': 'Male',\n  'address': {'street': 'pennsylvania avenue',\n   'number': '1600',\n   'city': 'Washington DC'},\n  'retweets': 150,\n  'source': 'Twitter from Android',\n  'first_name': 'Not Ashwin'},\n {'_id': ObjectId('5ea342dc9bd883a00ede7090'),\n  'name': 'Steve',\n  'age': 25,\n  'gender': 'Male',\n  'address': {'street': 'Huntington', 'number': 23, 'city': 'Boston'}},\n {'_id': ObjectId('5ea342dc9bd883a00ede7091'),\n  'name': 'Tom',\n  'age': 33,\n  'gender': 'Male',\n  'address': {'street': 'Mass ave', 'number': 44, 'city': 'Boston'}},\n {'_id': ObjectId('5ea34ac878470fafbce7aa11'),\n  'created_at': datetime.datetime(2020, 4, 24, 20, 23, 33),\n  'geo': None,\n  'id': 1253781647847194626,\n  'retweet_count': 101,\n  'source': 'ProjectLearn.io',\n  'text': 'RT @CEO_AISOMA: Data is the Fuel for AI: Data Collection Methods for #MachineLearning &amp; #DeepLearning\\n\\nmore slides 👉 https://t.co/AQYQKFBP9…',\n  'in_reply_to_screen_name': None},\n {'_id': ObjectId('5ea34ac878470fafbce7aa12'),\n  'created_at': datetime.datetime(2020, 4, 24, 20, 23, 11),\n  'geo': None,\n  'id': 1253781554305867784,\n  'retweet_count': 24,\n  'source': 'Twitter Web App',\n  'text': \"RT @_asifbhat_: This robot's movements are based on snakes  #ArtificialIntelligence #AI #Robotics #datascience #machinelearning  #deeplearn…\",\n  'in_reply_to_screen_name': None},\n {'_id': ObjectId('5ea34ac878470fafbce7aa13'),\n  'created_at': datetime.datetime(2020, 4, 24, 20, 22, 47),\n  'geo': None,\n  'id': 1253781454653239296,\n  'retweet_count': 54,\n  'source': 'Twitter Web App',\n  'text': 'RT @EchoFintech: Dataviz : If 100 people lived on earth!\\n\\n#AI #MachineLearning #BigData #dataviz HT @jblefevre60\\n\\n@gvalan @lesguer_lionel @…',\n  'in_reply_to_screen_name': None},\n {'_id': ObjectId('5ea34ac878470fafbce7aa14'),\n  'created_at': datetime.datetime(2020, 4, 24, 20, 22, 44),\n  'geo': None,\n  'id': 1253781441818705926,\n  'retweet_count': 29,\n  'source': 'javascriptdigest2',\n  'text': 'RT @gp_pulipaka: #Kubernetes Cheat Sheet. #BigData #Analytics #DataScience #AI #MachineLearning #IoT #IIoT #PyTorch #Python #RStats #Tensor…',\n  'in_reply_to_screen_name': None},\n {'_id': ObjectId('5ea34ac878470fafbce7aa15'),\n  'created_at': datetime.datetime(2020, 4, 24, 20, 22, 29),\n  'geo': None,\n  'id': 1253781378707193859,\n  'retweet_count': 6,\n  'source': 'hubofml',\n  'text': 'RT @KirkDBorne: The Potential of Empathetic #AI: https://t.co/77rruwUKdn by @Pega\\n\\n#CX #CXM #CustomerJourney #ExperienceEconomy #BigData #D…',\n  'in_reply_to_screen_name': None},\n {'_id': ObjectId('5ea34ac878470fafbce7aa16'),\n  'created_at': datetime.datetime(2020, 4, 24, 20, 22, 24),\n  'geo': None,\n  'id': 1253781356699623425,\n  'retweet_count': 6,\n  'source': 'Mobile Web (M2)',\n  'text': 'RT @KirkDBorne: The Potential of Empathetic #AI: https://t.co/77rruwUKdn by @Pega\\n\\n#CX #CXM #CustomerJourney #ExperienceEconomy #BigData #D…',\n  'in_reply_to_screen_name': None},\n {'_id': ObjectId('5ea34ac878470fafbce7aa17'),\n  'created_at': datetime.datetime(2020, 4, 24, 20, 22, 6),\n  'geo': None,\n  'id': 1253781280774402049,\n  'retweet_count': 0,\n  'source': 'Social Media Publisher App ',\n  'text': 'Dependency on digital connectivity is real – do you know what remains vital to grow our connected world?… https://t.co/iAw1uTWMEZ',\n  'in_reply_to_screen_name': None},\n {'_id': ObjectId('5ea34ac878470fafbce7aa18'),\n  'created_at': datetime.datetime(2020, 4, 24, 20, 21, 51),\n  'geo': None,\n  'id': 1253781219663392770,\n  'retweet_count': 2,\n  'source': 'Mobile Web (M2)',\n  'text': 'RT @freshsalis: MikeQuindazzi: RT chboursin: The future of retail? Autonomous check-out combines with #AR &gt;&gt;&gt; MikeQuindazzi &gt;&gt;&gt; #AI #BigDat…',\n  'in_reply_to_screen_name': None},\n {'_id': ObjectId('5ea34ac878470fafbce7aa19'),\n  'created_at': datetime.datetime(2020, 4, 24, 20, 21, 49),\n  'geo': None,\n  'id': 1253781209223778304,\n  'retweet_count': 37,\n  'source': 'Twitter for Android',\n  'text': 'RT @gp_pulipaka: Dplyr: A grammar of Data Manipulation - Cheat Sheet. #BigData #Analytics #DataScience #AI #MachineLearning #IoT #IIoT #Pyt…',\n  'in_reply_to_screen_name': None},\n {'_id': ObjectId('5ea34ac878470fafbce7aa1a'),\n  'created_at': datetime.datetime(2020, 4, 24, 20, 21, 45),\n  'geo': None,\n  'id': 1253781194786910209,\n  'retweet_count': 2,\n  'source': 'TheBigDataBot',\n  'text': 'RT @WarOnPrivacy: UK Gov looking toward the next stage of Snooper Charter expansion - \\n\\n- gifting the ability to spy on citizens (not suspe…',\n  'in_reply_to_screen_name': None},\n {'_id': ObjectId('5ea34ac878470fafbce7aa1b'),\n  'text': 'HELLO! This is my first update!!'},\n {'_id': ObjectId('5ea34ac878470fafbce7aa1c'),\n  'name': 'Steve',\n  'age': 25,\n  'gender': 'Male',\n  'address': {'street': 'Huntington', 'number': 23, 'city': 'Boston'}},\n {'_id': ObjectId('5ea34ac878470fafbce7aa1d'),\n  'name': 'Tom',\n  'age': 33,\n  'gender': 'Male',\n  'address': {'street': 'Mass ave', 'number': 44, 'city': 'Boston'}},\n {'_id': ObjectId('5ea34b2178470fafbce7aa20'),\n  'created_at': datetime.datetime(2020, 4, 24, 20, 24, 47),\n  'geo': None,\n  'id': 1253781956367544320,\n  'retweet_count': 1,\n  'source': 'Twitter Web App',\n  'text': 'RT @5stocksinto: 5 Indian Stocks Into Cosmetics https://t.co/6H0ntEzrej #Indian #Beauty #Stocks #Investment #Cosmetics #Makeup #Lipstick #M…',\n  'in_reply_to_screen_name': None},\n {'_id': ObjectId('5ea34b2178470fafbce7aa21'),\n  'created_at': datetime.datetime(2020, 4, 24, 20, 24, 40),\n  'geo': None,\n  'id': 1253781928320196608,\n  'retweet_count': 4,\n  'source': 'Twitter Web App',\n  'text': 'RT @5stocksinto: 5 Chinese Stocks Into Solar Cells https://t.co/ByGnX0N3us #China #Technology #Stocks #Solarcells #Photovoltaic #Semiconduc…',\n  'in_reply_to_screen_name': None},\n {'_id': ObjectId('5ea34b2178470fafbce7aa22'),\n  'created_at': datetime.datetime(2020, 4, 24, 20, 24, 34),\n  'geo': None,\n  'id': 1253781903489921024,\n  'retweet_count': 5,\n  'source': 'Twitter Web App',\n  'text': 'RT @5stocksinto: 5 Aussie Stocks Into Mineral Sands https://t.co/gU7vF45tj3 #Australia #Mining #Stocks #Investment #Mineralsands #Minerals…',\n  'in_reply_to_screen_name': None},\n {'_id': ObjectId('5ea34b2178470fafbce7aa23'),\n  'created_at': datetime.datetime(2020, 4, 24, 20, 24, 30),\n  'geo': None,\n  'id': 1253781885479718912,\n  'retweet_count': 47,\n  'source': 'Twitter Web App',\n  'text': 'RT @antgrasso: The exponential growth of data, fueled by IoT and the use of connected devices, is undisputed. Look at \"One\\xa0Day in Data.\" Li…',\n  'in_reply_to_screen_name': None},\n {'_id': ObjectId('5ea34b2178470fafbce7aa24'),\n  'created_at': datetime.datetime(2020, 4, 24, 20, 24, 14),\n  'geo': None,\n  'id': 1253781818328911872,\n  'retweet_count': 16,\n  'source': 'Twitter for Android',\n  'text': 'RT @SystemSoft_Tech: Why Your Software Solutions Will Fail If Your Developers Aren’t Aligned https://t.co/VKsHH5bywr @Lendio #bigdata #andr…',\n  'in_reply_to_screen_name': None},\n {'_id': ObjectId('5ea34b2178470fafbce7aa25'),\n  'created_at': datetime.datetime(2020, 4, 24, 20, 24, 12),\n  'geo': None,\n  'id': 1253781809663524867,\n  'retweet_count': 14,\n  'source': 'Twitter for Android',\n  'text': 'RT @LaForge_AI: Les 25 Technologies Qui Vont Booster L’Economie Post Confinement\\n\\n#IA #IoT #BigData #digitaltwin\\nhttps://t.co/QZtNshLEcz ht…',\n  'in_reply_to_screen_name': None},\n {'_id': ObjectId('5ea34b2178470fafbce7aa26'),\n  'created_at': datetime.datetime(2020, 4, 24, 20, 24, 7),\n  'geo': None,\n  'id': 1253781791602692096,\n  'retweet_count': 38,\n  'source': 'javascriptdigest2',\n  'text': 'RT @gp_pulipaka: Free eBook: Container Networking: From #Docker to #Kubernetes. #BigData #Analytics #DataScience #AI #MachineLearning #IoT…',\n  'in_reply_to_screen_name': None},\n {'_id': ObjectId('5ea34b2178470fafbce7aa27'),\n  'created_at': datetime.datetime(2020, 4, 24, 20, 24, 3),\n  'geo': None,\n  'id': 1253781771415482369,\n  'retweet_count': 30,\n  'source': 'Microsoft Azure Logic Apps',\n  'text': 'RT @gp_pulipaka: #Kubernetes Cheat Sheet. #BigData #Analytics #DataScience #AI #MachineLearning #IoT #IIoT #PyTorch #Python #RStats #Tensor…',\n  'in_reply_to_screen_name': None},\n {'_id': ObjectId('5ea34b2178470fafbce7aa28'),\n  'created_at': datetime.datetime(2020, 4, 24, 20, 24, 1),\n  'geo': None,\n  'id': 1253781766692839425,\n  'retweet_count': 75,\n  'source': 'Twitter for Android',\n  'text': 'RT @gp_pulipaka: #MachineLearning Course #Jupyter Notebooks Worth $1999 are Now Free. #BigData #Analytics #DataScience #AI #MachineLearning…',\n  'in_reply_to_screen_name': None},\n {'_id': ObjectId('5ea34b2178470fafbce7aa29'),\n  'created_at': datetime.datetime(2020, 4, 24, 20, 23, 56),\n  'geo': None,\n  'id': 1253781743510843392,\n  'retweet_count': 29,\n  'source': 'Twitter for Android',\n  'text': 'RT @gp_pulipaka: A Brief Introduction to Neural Networks. #BigData #Analytics #DataScience #AI #MachineLearning #IoT #IIoT #Python #RStats…',\n  'in_reply_to_screen_name': None},\n {'_id': ObjectId('5ea34b2178470fafbce7aa2a'),\n  'age': '7',\n  'gender': 'Male',\n  'address': {'street': 'pennsylvania avenue',\n   'number': '1600',\n   'city': 'Washington DC'},\n  'retweets': 150,\n  'source': 'Twitter from Android',\n  'first_name': 'Not Ashwin'},\n {'_id': ObjectId('5ea34b2178470fafbce7aa2b'),\n  'name': 'Steve',\n  'age': 25,\n  'gender': 'Male',\n  'address': {'street': 'Huntington', 'number': 23, 'city': 'Boston'}},\n {'_id': ObjectId('5ea34b2178470fafbce7aa2c'),\n  'name': 'Tom',\n  'age': 33,\n  'gender': 'Male',\n  'address': {'street': 'Mass ave', 'number': 44, 'city': 'Boston'}},\n {'_id': ObjectId('5ea3590f59505cd04417c8a1'),\n  'created_at': datetime.datetime(2020, 4, 24, 21, 24, 22),\n  'geo': None,\n  'id': 1253796950492827650,\n  'retweet_count': 0,\n  'source': 'Twitter Web App',\n  'text': '#Fridayreads @AiThority Interview with Rohan Chandran, CPO at Infogroup https://t.co/32gClfjFil #marketing #BigData #AI',\n  'in_reply_to_screen_name': None},\n {'_id': ObjectId('5ea3590f59505cd04417c8a2'),\n  'created_at': datetime.datetime(2020, 4, 24, 21, 24, 15),\n  'geo': None,\n  'id': 1253796921279479810,\n  'retweet_count': 36,\n  'source': 'Twitter for iPhone',\n  'text': 'RT @HaroldSinnott: #Robots &amp; #humans performing the most intricate of operations\\n@MikeQuindazzi #Robotics #HealthTech #AI #HealthCare #IoT…',\n  'in_reply_to_screen_name': None},\n {'_id': ObjectId('5ea3590f59505cd04417c8a3'),\n  'created_at': datetime.datetime(2020, 4, 24, 21, 24, 12),\n  'geo': None,\n  'id': 1253796909824782343,\n  'retweet_count': 0,\n  'source': 'CoSchedule',\n  'text': 'Check out our latest post and make sure to share it with your followers! \\n\\n||  #IoT #InternetOfThings #BigData #AI… https://t.co/K6ml5Jv7S1',\n  'in_reply_to_screen_name': None},\n {'_id': ObjectId('5ea3590f59505cd04417c8a4'),\n  'created_at': datetime.datetime(2020, 4, 24, 21, 23, 52),\n  'geo': None,\n  'id': 1253796828174319616,\n  'retweet_count': 49,\n  'source': 'ProjectLearn.io',\n  'text': 'RT @gp_pulipaka: 6 Free Data Science Books. #BigData #Analytics #DataScience #NLProc #IoT #IIoT #PyTorch #Python #RStats #TensorFlow #Java…',\n  'in_reply_to_screen_name': None},\n {'_id': ObjectId('5ea3590f59505cd04417c8a5'),\n  'created_at': datetime.datetime(2020, 4, 24, 21, 23, 34),\n  'geo': None,\n  'id': 1253796749543641088,\n  'retweet_count': 79,\n  'source': 'Twitter for Android',\n  'text': 'RT @gp_pulipaka: Must-Read Free #Books For #DataScientists in 2020. #BigData #Analytics #DataScience #IoT #IIoT #Python #RStats #TensorFlow…',\n  'in_reply_to_screen_name': None},\n {'_id': ObjectId('5ea3590f59505cd04417c8a6'),\n  'created_at': datetime.datetime(2020, 4, 24, 21, 23, 29),\n  'geo': None,\n  'id': 1253796729545261062,\n  'retweet_count': 34,\n  'source': 'xael bot',\n  'text': 'RT @dayus4heaven: Python framework for Data Science. \\n#WebDev #BigData #Analytics #DataScience #CyberSecurity #IoT #IIoT #PyTorch #Python #…',\n  'in_reply_to_screen_name': None},\n {'_id': ObjectId('5ea3590f59505cd04417c8a7'),\n  'created_at': datetime.datetime(2020, 4, 24, 21, 23, 16),\n  'geo': None,\n  'id': 1253796676801826816,\n  'retweet_count': 34,\n  'source': 'Twitter for Android',\n  'text': 'RT @dayus4heaven: Python framework for Data Science. \\n#WebDev #BigData #Analytics #DataScience #CyberSecurity #IoT #IIoT #PyTorch #Python #…',\n  'in_reply_to_screen_name': None},\n {'_id': ObjectId('5ea3590f59505cd04417c8a8'),\n  'created_at': datetime.datetime(2020, 4, 24, 21, 23),\n  'geo': None,\n  'id': 1253796609399422978,\n  'retweet_count': 4,\n  'source': 'Twitter Web App',\n  'text': 'RT @AISydneyEvents: Sydney Neuroimaging Analysis Centre (SNAC) is using artificial intelligence to help speed up brain scan analysis for cl…',\n  'in_reply_to_screen_name': None},\n {'_id': ObjectId('5ea3590f59505cd04417c8a9'),\n  'created_at': datetime.datetime(2020, 4, 24, 21, 22, 44),\n  'geo': None,\n  'id': 1253796542093410305,\n  'retweet_count': 0,\n  'source': 'gfaccord-Tweeter1',\n  'text': 'Get the latest #news on the linkedin page of  @gfaccord #bigdata &amp; #AI powered #global #business  #consulting… https://t.co/xKBUaGhyGJ',\n  'in_reply_to_screen_name': None},\n {'_id': ObjectId('5ea3590f59505cd04417c8aa'),\n  'created_at': datetime.datetime(2020, 4, 24, 21, 22, 44),\n  'geo': None,\n  'id': 1253796540944130048,\n  'retweet_count': 9,\n  'source': 'Twitter for iPhone',\n  'text': \"RT @GPAinsights: Thank you @OntarioCofC for a great webinar on #bigdata's role in #covid19 economic recovery. https://t.co/V86p46g5Bs\",\n  'in_reply_to_screen_name': None},\n {'_id': ObjectId('5ea3590f59505cd04417c8ab'),\n  'text': 'HELLO! This is my first update!!'},\n {'_id': ObjectId('5ea3590f59505cd04417c8ac'),\n  'name': 'Steve',\n  'age': 25,\n  'gender': 'Male',\n  'address': {'street': 'Huntington', 'number': 23, 'city': 'Boston'}},\n {'_id': ObjectId('5ea3590f59505cd04417c8ad'),\n  'name': 'Tom',\n  'age': 33,\n  'gender': 'Male',\n  'address': {'street': 'Mass ave', 'number': 44, 'city': 'Boston'}},\n {'_id': ObjectId('5ea35a1b59505cd04417c8ae'),\n  'age': '7',\n  'gender': 'Male',\n  'address': {'street': 'pennsylvania avenue',\n   'number': '1600',\n   'city': 'Washington DC'},\n  'retweets': 150,\n  'source': 'Twitter from Android',\n  'first_name': 'Not Ashwin',\n  'likes': ['nature', 'music', 'video games']},\n {'_id': ObjectId('5ea35bc759505cd04417c8b1'),\n  'created_at': datetime.datetime(2020, 4, 24, 21, 35, 41),\n  'geo': None,\n  'id': 1253799798932738053,\n  'retweet_count': 9,\n  'source': 'Twitter for Android',\n  'text': 'RT @Ronald_vanLoon: Gentle Dive Into #Math Behind Convolutional #NeuralNetworks\\nby @PiotrSkalski92 @TDataScience #Medium\\n\\nLearn more https:…',\n  'in_reply_to_screen_name': None},\n {'_id': ObjectId('5ea35bc759505cd04417c8b2'),\n  'created_at': datetime.datetime(2020, 4, 24, 21, 35, 31),\n  'geo': None,\n  'id': 1253799758587723776,\n  'retweet_count': 55,\n  'source': 'Twitter Web App',\n  'text': 'RT @antgrasso: The exponential growth of data, fueled by IoT and the use of connected devices, is undisputed. Look at \"One\\xa0Day in Data.\" Li…',\n  'in_reply_to_screen_name': None},\n {'_id': ObjectId('5ea35bc759505cd04417c8b3'),\n  'created_at': datetime.datetime(2020, 4, 24, 21, 35, 2),\n  'geo': None,\n  'id': 1253799635174535175,\n  'retweet_count': 19,\n  'source': 'Twitter for Android',\n  'text': 'RT @SystemSoft_Tech: Why Your Software Solutions Will Fail If Your Developers Aren’t Aligned https://t.co/VKsHH5bywr @Lendio #bigdata #andr…',\n  'in_reply_to_screen_name': None},\n {'_id': ObjectId('5ea35bc759505cd04417c8b4'),\n  'created_at': datetime.datetime(2020, 4, 24, 21, 35),\n  'geo': None,\n  'id': 1253799626215489538,\n  'retweet_count': 16,\n  'source': 'Twitter for Android',\n  'text': 'RT @ingliguori: The #UI to the #Digital world is becoming more ubiquitous #Internet via @MikeQuindazzi\\n#AI #AR #VR #CloudComputing #SaaS #I…',\n  'in_reply_to_screen_name': None},\n {'_id': ObjectId('5ea35bc759505cd04417c8b5'),\n  'created_at': datetime.datetime(2020, 4, 24, 21, 34, 29),\n  'geo': None,\n  'id': 1253799497857208321,\n  'retweet_count': 0,\n  'source': 'CoSchedule',\n  'text': 'Check out our latest post and make sure to share it with your followers! ||  #IoT #InternetOfThings #BigData #AI… https://t.co/xIwCQrD1Mi',\n  'in_reply_to_screen_name': None},\n {'_id': ObjectId('5ea35bc759505cd04417c8b6'),\n  'created_at': datetime.datetime(2020, 4, 24, 21, 34, 18),\n  'geo': None,\n  'id': 1253799451954642944,\n  'retweet_count': 0,\n  'source': 'IAMBLOG2TWITTER',\n  'text': 'Inslee: This administration ignores science – CNN Video \\n\\nREAD MORE: https://t.co/s24yU9sIdZ\\n\\n#Art #Astronomy… https://t.co/o0kgibEY4f',\n  'in_reply_to_screen_name': None},\n {'_id': ObjectId('5ea35bc759505cd04417c8b7'),\n  'created_at': datetime.datetime(2020, 4, 24, 21, 34, 10),\n  'geo': None,\n  'id': 1253799419587317769,\n  'retweet_count': 38,\n  'source': 'Twitter for iPhone',\n  'text': 'RT @dayus4heaven: Python framework for Data Science. \\n#WebDev #BigData #Analytics #DataScience #CyberSecurity #IoT #IIoT #PyTorch #Python #…',\n  'in_reply_to_screen_name': None},\n {'_id': ObjectId('5ea35bc759505cd04417c8b8'),\n  'created_at': datetime.datetime(2020, 4, 24, 21, 34, 6),\n  'geo': None,\n  'id': 1253799403451604993,\n  'retweet_count': 0,\n  'source': 'DataScienceInfo',\n  'text': 'A new role in data science: the data science architect https://t.co/luqLE1iwti #bigdata',\n  'in_reply_to_screen_name': None},\n {'_id': ObjectId('5ea35bc759505cd04417c8b9'),\n  'created_at': datetime.datetime(2020, 4, 24, 21, 33, 43),\n  'geo': None,\n  'id': 1253799304122241025,\n  'retweet_count': 170,\n  'source': 'Twitter Web App',\n  'text': 'RT @MrDataScience: How do people spend their time throughout the day? Great #DataViz to show with colored dots!\\n#DataScience #BigData #Anal…',\n  'in_reply_to_screen_name': None},\n {'_id': ObjectId('5ea35bc759505cd04417c8ba'),\n  'created_at': datetime.datetime(2020, 4, 24, 21, 33, 26),\n  'geo': None,\n  'id': 1253799235335708674,\n  'retweet_count': 0,\n  'source': 'LinkedIn',\n  'text': \"Lieto di aver partecipato al percorso formativo di Università degli Studi di Pavia.\\nGrazie per l'invito ad Alberto… https://t.co/xufTUvDomj\",\n  'in_reply_to_screen_name': None},\n {'_id': ObjectId('5ea35bc759505cd04417c8bb'),\n  'name': 'Ashwin',\n  'age': '7',\n  'gender': 'Male',\n  'address': {'street': 'pennsylvania avenue',\n   'number': '1600',\n   'city': 'Washington DC'}},\n {'_id': ObjectId('5ea35bc759505cd04417c8bc'),\n  'name': 'Steve',\n  'age': 25,\n  'gender': 'Male',\n  'address': {'street': 'Huntington', 'number': 23, 'city': 'Boston'}},\n {'_id': ObjectId('5ea35bc759505cd04417c8bd'),\n  'name': 'Tom',\n  'age': 33,\n  'gender': 'Male',\n  'address': {'street': 'Mass ave', 'number': 44, 'city': 'Boston'}},\n {'_id': ObjectId('5ea373c2aac5c1070763335a'),\n  'created_at': datetime.datetime(2020, 4, 24, 23, 18, 22),\n  'geo': None,\n  'id': 1253825641364979718,\n  'retweet_count': 6,\n  'source': 'hubofml',\n  'text': 'RT @KirkDBorne: #SmartCities and their Components in the #IoT Era: https://t.co/MPVvTwDS8X\\n——————\\n#BigData #DataScience #EdgeAnalytics #IIo…',\n  'in_reply_to_screen_name': None},\n {'_id': ObjectId('5ea373c2aac5c1070763335b'),\n  'created_at': datetime.datetime(2020, 4, 24, 23, 18, 17),\n  'geo': None,\n  'id': 1253825619433046016,\n  'retweet_count': 6,\n  'source': 'LoraCommunity_Schnittstelle',\n  'text': 'RT @KirkDBorne: #SmartCities and their Components in the #IoT Era: https://t.co/MPVvTwDS8X\\n——————\\n#BigData #DataScience #EdgeAnalytics #IIo…',\n  'in_reply_to_screen_name': None},\n {'_id': ObjectId('5ea373c2aac5c1070763335c'),\n  'created_at': datetime.datetime(2020, 4, 24, 23, 18, 9),\n  'geo': None,\n  'id': 1253825585668857857,\n  'retweet_count': 0,\n  'source': 'IAMBLOG2TWITTER',\n  'text': 'Internet of Things in Retail Market Report, 2020 – Integrated IoT Solution to Open New Revenue Streams \\n\\nREAD MORE:… https://t.co/TLo8a8oied',\n  'in_reply_to_screen_name': None},\n {'_id': ObjectId('5ea373c2aac5c1070763335d'),\n  'created_at': datetime.datetime(2020, 4, 24, 23, 18),\n  'geo': None,\n  'id': 1253825549505572870,\n  'retweet_count': 10,\n  'source': 'Twiny3',\n  'text': 'RT @GavLaaaaaaaa: Even Faster Math Functions https://t.co/cMF9LHm0h3 #programming #softwareengineering #bigdata #datascience #analytics #ai…',\n  'in_reply_to_screen_name': None},\n {'_id': ObjectId('5ea373c2aac5c1070763335e'),\n  'created_at': datetime.datetime(2020, 4, 24, 23, 17, 22),\n  'geo': None,\n  'id': 1253825389530578947,\n  'retweet_count': 7,\n  'source': 'Twitter Web App',\n  'text': 'RT @KirkDBorne: Demystifying Artificial Intelligence for #IoT with this guide: https://t.co/fEE3ptBG5U by @IoTWorldToday \\n—————\\n#BigData #D…',\n  'in_reply_to_screen_name': None},\n {'_id': ObjectId('5ea373c2aac5c1070763335f'),\n  'created_at': datetime.datetime(2020, 4, 24, 23, 17, 6),\n  'geo': None,\n  'id': 1253825321666822144,\n  'retweet_count': 30,\n  'source': 'Twitter for Android',\n  'text': 'RT @gp_pulipaka: 9 Books for Learning About the Internet of Things (IoT). #BigData #Analytics #DataScience #IoT #IIoT #Python #RStats #Tens…',\n  'in_reply_to_screen_name': None},\n {'_id': ObjectId('5ea373c2aac5c10707633360'),\n  'created_at': datetime.datetime(2020, 4, 24, 23, 16, 59),\n  'geo': None,\n  'id': 1253825292650627072,\n  'retweet_count': 7,\n  'source': 'hubofml',\n  'text': 'RT @KirkDBorne: Demystifying Artificial Intelligence for #IoT with this guide: https://t.co/fEE3ptBG5U by @IoTWorldToday \\n—————\\n#BigData #D…',\n  'in_reply_to_screen_name': None},\n {'_id': ObjectId('5ea373c2aac5c10707633361'),\n  'created_at': datetime.datetime(2020, 4, 24, 23, 16, 54),\n  'geo': None,\n  'id': 1253825270550839299,\n  'retweet_count': 7,\n  'source': 'ML_BD_bot',\n  'text': 'RT @KirkDBorne: Demystifying Artificial Intelligence for #IoT with this guide: https://t.co/fEE3ptBG5U by @IoTWorldToday \\n—————\\n#BigData #D…',\n  'in_reply_to_screen_name': None},\n {'_id': ObjectId('5ea373c2aac5c10707633362'),\n  'created_at': datetime.datetime(2020, 4, 24, 23, 16, 49),\n  'geo': None,\n  'id': 1253825253291286531,\n  'retweet_count': 3,\n  'source': 'ML_BD_bot',\n  'text': 'RT @AustraliaAi: The adventures of AI Man and AI Robot. \\nPart 3\\n\\n#artificialintelligence #ai #comic #comicstrip #machinelearning  #innovati…',\n  'in_reply_to_screen_name': None},\n {'_id': ObjectId('5ea373c2aac5c10707633363'),\n  'created_at': datetime.datetime(2020, 4, 24, 23, 16, 45),\n  'geo': None,\n  'id': 1253825236493045762,\n  'retweet_count': 1,\n  'source': 'Larakarl',\n  'text': 'RT @blockchainnewsc: Blockchain technology helps Hubei province remote bid evaluation. \\n\\n#Blockchain #News #China #AI #Crypto #Fintech #Def…',\n  'in_reply_to_screen_name': None},\n {'_id': ObjectId('5ea373c2aac5c10707633364'),\n  'name': 'Ashwin',\n  'age': '7',\n  'gender': 'Male',\n  'address': {'street': 'pennsylvania avenue',\n   'number': '1600',\n   'city': 'Washington DC'}},\n {'_id': ObjectId('5ea373c2aac5c10707633365'),\n  'name': 'Steve',\n  'age': 25,\n  'gender': 'Male',\n  'address': {'street': 'Huntington', 'number': 23, 'city': 'Boston'}},\n {'_id': ObjectId('5ea373c2aac5c10707633366'),\n  'name': 'Tom',\n  'age': 33,\n  'gender': 'Male',\n  'address': {'street': 'Mass ave', 'number': 44, 'city': 'Boston'}},\n {'_id': ObjectId('5ea3980cfa05ee79489ff242'),\n  'created_at': datetime.datetime(2020, 4, 25, 1, 53, 4),\n  'geo': None,\n  'id': 1253864572110417923,\n  'retweet_count': 65,\n  'source': 'Twitter for Android',\n  'text': 'RT @antgrasso: The exponential growth of data, fueled by IoT and the use of connected devices, is undisputed. Look at \"One\\xa0Day in Data.\" Li…',\n  'in_reply_to_screen_name': None},\n {'_id': ObjectId('5ea3980cfa05ee79489ff243'),\n  'created_at': datetime.datetime(2020, 4, 25, 1, 53, 2),\n  'geo': None,\n  'id': 1253864562811641859,\n  'retweet_count': 1,\n  'source': 'Twitter Web App',\n  'text': 'RT @otrak0ssa: 🇻🇪 El Presidente Nicolás Maduro a través de la plataforma Patria está haciendo un ejercicio importante de Gobierno Abierto e…',\n  'in_reply_to_screen_name': None},\n {'_id': ObjectId('5ea3980cfa05ee79489ff244'),\n  'created_at': datetime.datetime(2020, 4, 25, 1, 51, 56),\n  'geo': None,\n  'id': 1253864285790445568,\n  'retweet_count': 9,\n  'source': 'TheBigDataBot',\n  'text': 'RT @SwissCognitive: #ArtificialIntelligence, #IoT and #BigData Can Save The #Bees\\n🐝🐝🐝\\nhttps://t.co/cXWbcR1n4m\\n@ageitgey @bigdatagal @dennyb…',\n  'in_reply_to_screen_name': None},\n {'_id': ObjectId('5ea3980cfa05ee79489ff245'),\n  'created_at': datetime.datetime(2020, 4, 25, 1, 51, 50),\n  'geo': None,\n  'id': 1253864262008791040,\n  'retweet_count': 7,\n  'source': 'RTML',\n  'text': 'RT @AndySugs: RT:Ronald_vanLoon: MindsDB Raises $3 Million For Open Source Automated #MachineLearning\\nby KHARIJOHNSON VentureBeat\\n\\nGo to ht…',\n  'in_reply_to_screen_name': None},\n {'_id': ObjectId('5ea3980cfa05ee79489ff246'),\n  'created_at': datetime.datetime(2020, 4, 25, 1, 51, 41),\n  'geo': None,\n  'id': 1253864225191100418,\n  'retweet_count': 7,\n  'source': 'hubofml',\n  'text': 'RT @AndySugs: RT:Ronald_vanLoon: MindsDB Raises $3 Million For Open Source Automated #MachineLearning\\nby KHARIJOHNSON VentureBeat\\n\\nGo to ht…',\n  'in_reply_to_screen_name': None},\n {'_id': ObjectId('5ea3980cfa05ee79489ff247'),\n  'created_at': datetime.datetime(2020, 4, 25, 1, 51, 36),\n  'geo': None,\n  'id': 1253864203061878784,\n  'retweet_count': 7,\n  'source': 'Twitter for iPhone',\n  'text': 'RT @AndySugs: RT:Ronald_vanLoon: MindsDB Raises $3 Million For Open Source Automated #MachineLearning\\nby KHARIJOHNSON VentureBeat\\n\\nGo to ht…',\n  'in_reply_to_screen_name': None},\n {'_id': ObjectId('5ea3980cfa05ee79489ff248'),\n  'created_at': datetime.datetime(2020, 4, 25, 1, 51, 24),\n  'geo': None,\n  'id': 1253864153019830275,\n  'retweet_count': 1,\n  'source': 'Twitter Web App',\n  'text': '🇻🇪 El Presidente Nicolás Maduro a través de la plataforma Patria está haciendo un ejercicio importante de Gobierno… https://t.co/yKbFRCclBi',\n  'in_reply_to_screen_name': None},\n {'_id': ObjectId('5ea3980cfa05ee79489ff249'),\n  'created_at': datetime.datetime(2020, 4, 25, 1, 51, 22),\n  'geo': None,\n  'id': 1253864144408850432,\n  'retweet_count': 18,\n  'source': 'React Bot App',\n  'text': 'RT @gp_pulipaka: What are the 10 Must Read #DataScience Books of 2020. #BigData #Analytics  #AI #IoT #IIoT #Python #RStats #JavaScript #Rea…',\n  'in_reply_to_screen_name': None},\n {'_id': ObjectId('5ea3980cfa05ee79489ff24a'),\n  'created_at': datetime.datetime(2020, 4, 25, 1, 51, 9),\n  'geo': None,\n  'id': 1253864092428914753,\n  'retweet_count': 18,\n  'source': 'aaroncuddeback.com',\n  'text': 'RT @gp_pulipaka: What are the 10 Must Read #DataScience Books of 2020. #BigData #Analytics  #AI #IoT #IIoT #Python #RStats #JavaScript #Rea…',\n  'in_reply_to_screen_name': None},\n {'_id': ObjectId('5ea3980cfa05ee79489ff24b'),\n  'created_at': datetime.datetime(2020, 4, 25, 1, 51, 9),\n  'geo': None,\n  'id': 1253864091195760640,\n  'retweet_count': 16,\n  'source': 'TwinyBots',\n  'text': 'RT @KirkDBorne: #SmartCities and their Components in the #IoT Era: https://t.co/MPVvTwDS8X\\n——————\\n#BigData #DataScience #EdgeAnalytics #IIo…',\n  'in_reply_to_screen_name': None},\n {'_id': ObjectId('5ea3980cfa05ee79489ff24c'),\n  'name': 'Ashwin',\n  'age': '7',\n  'gender': 'Male',\n  'address': {'street': 'pennsylvania avenue',\n   'number': '1600',\n   'city': 'Washington DC'}},\n {'_id': ObjectId('5ea3980cfa05ee79489ff24d'),\n  'name': 'Steve',\n  'age': 25,\n  'gender': 'Male',\n  'address': {'street': 'Huntington', 'number': 23, 'city': 'Boston'}},\n {'_id': ObjectId('5ea3980cfa05ee79489ff24e'),\n  'name': 'Tom',\n  'age': 33,\n  'gender': 'Male',\n  'address': {'street': 'Mass ave', 'number': 44, 'city': 'Boston'}},\n {'_id': ObjectId('5ea3ac500fee33e9a1859bd2'),\n  'created_at': datetime.datetime(2020, 4, 25, 3, 19, 32),\n  'geo': None,\n  'id': 1253886332499345420,\n  'retweet_count': 2,\n  'source': 'digital transformation',\n  'text': 'RT @IAM__Network: Early digital transformation efforts pay dividends as business continuity plans hold strong – Which-50 \\n\\nREAD MORE: https…',\n  'in_reply_to_screen_name': None},\n {'_id': ObjectId('5ea3ac500fee33e9a1859bd3'),\n  'created_at': datetime.datetime(2020, 4, 25, 3, 19, 18),\n  'geo': None,\n  'id': 1253886272420093956,\n  'retweet_count': 0,\n  'source': 'GMBquotes',\n  'text': '\" For why AI self-driving cars might freeze-up, see my article: https://t.co/xRFPiBigKl #ai #technology #BigData… https://t.co/R25ZDnWXjT',\n  'in_reply_to_screen_name': None},\n {'_id': ObjectId('5ea3ac500fee33e9a1859bd4'),\n  'created_at': datetime.datetime(2020, 4, 25, 3, 18, 43),\n  'geo': None,\n  'id': 1253886126521233410,\n  'retweet_count': 17,\n  'source': 'dig_revolution_Schnittstelle',\n  'text': 'RT @gp_pulipaka: 18 Best PyTorch Books of All Time. #BigData #Analytics #DataScience #IoT #IIoT #PyTorch #Python #RStats #TensorFlow #Java…',\n  'in_reply_to_screen_name': None},\n {'_id': ObjectId('5ea3ac500fee33e9a1859bd5'),\n  'created_at': datetime.datetime(2020, 4, 25, 3, 18, 31),\n  'geo': None,\n  'id': 1253886076726501379,\n  'retweet_count': 17,\n  'source': 'AI News BOT',\n  'text': 'RT @gp_pulipaka: 18 Best PyTorch Books of All Time. #BigData #Analytics #DataScience #IoT #IIoT #PyTorch #Python #RStats #TensorFlow #Java…',\n  'in_reply_to_screen_name': None},\n {'_id': ObjectId('5ea3ac500fee33e9a1859bd6'),\n  'created_at': datetime.datetime(2020, 4, 25, 3, 18, 22),\n  'geo': None,\n  'id': 1253886038117945344,\n  'retweet_count': 29,\n  'source': 'AI News BOT',\n  'text': 'RT @gp_pulipaka: Autoencoders with AI. #BigData #Analytics #DataScience #AI #MachineLearning #IoT #IIoT #PyTorch #Python #RStats #TensorFlo…',\n  'in_reply_to_screen_name': None},\n {'_id': ObjectId('5ea3ac500fee33e9a1859bd7'),\n  'created_at': datetime.datetime(2020, 4, 25, 3, 18, 15),\n  'geo': None,\n  'id': 1253886008388714496,\n  'retweet_count': 16,\n  'source': 'Twitter for Android',\n  'text': 'RT @statsandleague: “We are moving slowly into an era where big data is the starting point, not the end.” \\n\\n#BigData #DataAnalytics #Data #…',\n  'in_reply_to_screen_name': None},\n {'_id': ObjectId('5ea3ac500fee33e9a1859bd8'),\n  'created_at': datetime.datetime(2020, 4, 25, 3, 17, 14),\n  'geo': None,\n  'id': 1253885755258175490,\n  'retweet_count': 1,\n  'source': 'ML_BD_bot',\n  'text': \"RT @AIHealth1: The University of Sydney's Westmead Applied Research Centre has been awarded a $1 million grant from Google to ...\\n\\nhttps://…\",\n  'in_reply_to_screen_name': None},\n {'_id': ObjectId('5ea3ac500fee33e9a1859bd9'),\n  'created_at': datetime.datetime(2020, 4, 25, 3, 17, 11),\n  'geo': None,\n  'id': 1253885741937164288,\n  'retweet_count': 47,\n  'source': 'hubofml',\n  'text': 'RT @Fisher85M: What’s your #Security Maturity level? [Infographic]\\n\\n#CyberSecurity #infosec #education @Fisher85M #BigData #Analytics #Mach…',\n  'in_reply_to_screen_name': None},\n {'_id': ObjectId('5ea3ac500fee33e9a1859bda'),\n  'created_at': datetime.datetime(2020, 4, 25, 3, 17, 10),\n  'geo': None,\n  'id': 1253885736882966528,\n  'retweet_count': 3,\n  'source': 'News Commentary Podcast',\n  'text': 'RT @SafetyPhD: RECORDED TONITE - Out Now!\\n\\n#Livestream #131 Safety Doc Podcast\\n\\nThe Dunning-Kruger Effect | What it is and how to fight it…',\n  'in_reply_to_screen_name': None},\n {'_id': ObjectId('5ea3ac500fee33e9a1859bdb'),\n  'created_at': datetime.datetime(2020, 4, 25, 3, 17, 6),\n  'geo': None,\n  'id': 1253885720005148673,\n  'retweet_count': 47,\n  'source': 'Twitter for iPhone',\n  'text': 'RT @Fisher85M: What’s your #Security Maturity level? [Infographic]\\n\\n#CyberSecurity #infosec #education @Fisher85M #BigData #Analytics #Mach…',\n  'in_reply_to_screen_name': None},\n {'_id': ObjectId('5ea3ac500fee33e9a1859bdc'),\n  'name': 'Ashwin',\n  'age': '7',\n  'gender': 'Male',\n  'address': {'street': 'pennsylvania avenue',\n   'number': '1600',\n   'city': 'Washington DC'}},\n {'_id': ObjectId('5ea3ac500fee33e9a1859bdd'),\n  'name': 'Steve',\n  'age': 25,\n  'gender': 'Male',\n  'address': {'street': 'Huntington', 'number': 23, 'city': 'Boston'}},\n {'_id': ObjectId('5ea3ac500fee33e9a1859bde'),\n  'name': 'Tom',\n  'age': 33,\n  'gender': 'Male',\n  'address': {'street': 'Mass ave', 'number': 44, 'city': 'Boston'}}]"
     },
     "metadata": {},
     "output_type": "execute_result",
     "execution_count": 47
    }
   ],
   "source": [
    "list(db.posts.find())\n"
   ],
   "metadata": {
    "collapsed": false,
    "pycharm": {
     "name": "#%%\n",
     "is_executing": false
    }
   }
  },
  {
   "cell_type": "markdown",
   "source": [
    "### EXERCISE 9\n",
    "Create an aggregate pipeline function to find the number of posts in each category of \"source\""
   ],
   "metadata": {
    "collapsed": false
   }
  },
  {
   "cell_type": "code",
   "execution_count": 48,
   "outputs": [],
   "source": [
    "# Enter your code here\n"
   ],
   "metadata": {
    "collapsed": false,
    "pycharm": {
     "name": "#%%\n",
     "is_executing": false
    }
   }
  },
  {
   "cell_type": "markdown",
   "source": [
    "![title](MR.jpg \"Title\")\n",
    "\n",
    "### MapReduce:\n",
    "MongoDB also allows aggregation to be performed through MapReduce.\n",
    "MapReduce consists of two phases:\n",
    "1. **Map:** This stage processes each document and emits one or more objects for each input document\n",
    "2. **Reduce:** This stage combines the output of the map operation.\n",
    "\n",
    "There can also be an optional **finalize** function to perform further reductions on the reduced data.\n",
    "MapReduce can be used to specify a query condition to select the input documents as well as sort and limit the results.\n",
    "Furthermore, MapReduce can operate on and output to a sharded collection.\n",
    "For Example:"
   ],
   "metadata": {
    "collapsed": false,
    "pycharm": {
     "name": "#%% md\n"
    }
   }
  },
  {
   "cell_type": "code",
   "execution_count": 49,
   "outputs": [
    {
     "traceback": [
      "\u001b[1;31m---------------------------------------------------------------------------\u001b[0m",
      "\u001b[1;31mImportError\u001b[0m                               Traceback (most recent call last)",
      "\u001b[1;32m<ipython-input-49-b06ae7a0edfd>\u001b[0m in \u001b[0;36m<module>\u001b[1;34m\u001b[0m\n\u001b[0;32m      1\u001b[0m \u001b[1;31m# First, lets insert some sample data to work with.\u001b[0m\u001b[1;33m\u001b[0m\u001b[1;33m\u001b[0m\u001b[1;33m\u001b[0m\u001b[0m\n\u001b[1;32m----> 2\u001b[1;33m \u001b[1;32mfrom\u001b[0m \u001b[0mpymongo\u001b[0m \u001b[1;32mimport\u001b[0m \u001b[0mConnection\u001b[0m\u001b[1;33m\u001b[0m\u001b[1;33m\u001b[0m\u001b[0m\n\u001b[0m\u001b[0;32m      3\u001b[0m \u001b[0mdb\u001b[0m \u001b[1;33m=\u001b[0m \u001b[0mConnection\u001b[0m\u001b[1;33m(\u001b[0m\u001b[1;33m)\u001b[0m\u001b[1;33m.\u001b[0m\u001b[0mmapreduce_example\u001b[0m\u001b[1;33m\u001b[0m\u001b[1;33m\u001b[0m\u001b[0m\n\u001b[0;32m      4\u001b[0m \u001b[0mdb\u001b[0m\u001b[1;33m.\u001b[0m\u001b[0manimals\u001b[0m\u001b[1;33m.\u001b[0m\u001b[0minsert\u001b[0m\u001b[1;33m(\u001b[0m\u001b[1;33m{\u001b[0m\u001b[1;34m\"x\"\u001b[0m\u001b[1;33m:\u001b[0m \u001b[1;36m1\u001b[0m\u001b[1;33m,\u001b[0m \u001b[1;34m\"tags\"\u001b[0m\u001b[1;33m:\u001b[0m \u001b[1;33m[\u001b[0m\u001b[1;34m\"dog\"\u001b[0m\u001b[1;33m,\u001b[0m \u001b[1;34m\"cat\"\u001b[0m\u001b[1;33m]\u001b[0m\u001b[1;33m}\u001b[0m\u001b[1;33m)\u001b[0m\u001b[1;33m\u001b[0m\u001b[1;33m\u001b[0m\u001b[0m\n\u001b[0;32m      5\u001b[0m \u001b[1;33m\u001b[0m\u001b[0m\n",
      "\u001b[1;31mImportError\u001b[0m: cannot import name 'Connection' from 'pymongo' (c:\\python38\\lib\\site-packages\\pymongo\\__init__.py)"
     ],
     "ename": "ImportError",
     "evalue": "cannot import name 'Connection' from 'pymongo' (c:\\python38\\lib\\site-packages\\pymongo\\__init__.py)",
     "output_type": "error"
    }
   ],
   "source": [
    "# First, lets insert some sample data to work with.\n",
    "from pymongo import Connection\n",
    "db = Connection().mapreduce_example\n",
    "db.animals.insert({\"x\": 1, \"tags\": [\"dog\", \"cat\"]})\n",
    "\n",
    "db.animals.insert({\"x\": 2, \"tags\": [\"cat\"]})\n",
    "\n",
    "db.animals.insert({\"x\": 3, \"tags\": [\"rabbit\", \"cat\", \"dog\"]})\n",
    "\n",
    "db.animals.insert({\"x\": 4, \"tags\": []})\n"
   ],
   "metadata": {
    "collapsed": false,
    "pycharm": {
     "name": "#%%\n",
     "is_executing": false
    }
   }
  },
  {
   "cell_type": "markdown",
   "source": [
    "Next, we can define our Mapper and Reducer functions."
   ],
   "metadata": {
    "collapsed": false
   }
  },
  {
   "cell_type": "code",
   "execution_count": 50,
   "outputs": [],
   "source": [
    "# Goal: to count the number of occurrences for each tag in the tags array, across the entire collection\n",
    "\n",
    "# map function just emits a single (key, 1) pair for each tag in the array\n",
    "# he reduce function sums over all of the emitted values for a given key\n",
    "#db.animals.mapReduce(function(){emit(this.tags,1); },function(key, values) {return Array.sum(values)}, { query:{tags:\"cat\"},  out:\"total\"  })"
   ],
   "metadata": {
    "collapsed": false,
    "pycharm": {
     "name": "#%%\n",
     "is_executing": false
    }
   }
  },
  {
   "cell_type": "markdown",
   "source": [
    "### EXERCISE 10\n",
    "Create a new collection \"Cars\"\n",
    "Insert several documents using insert_many into the collection with attributes such as Name, Brand, Manufacture_year, Country, Horesepower, Type, Mileage\n",
    "Create a Mapper function to emit each car that is manufactured in the US.\n",
    "Write a Reducer function to count the number of cars for each Brand of car.\n"
   ],
   "metadata": {
    "collapsed": false,
    "pycharm": {
     "name": "#%% md\n"
    }
   }
  },
  {
   "cell_type": "code",
   "execution_count": null,
   "outputs": [],
   "source": [
    "# Enter Code here\n",
    "\n"
   ],
   "metadata": {
    "collapsed": false,
    "pycharm": {
     "name": "#%%\n",
     "is_executing": false
    }
   }
  },
  {
   "cell_type": "markdown",
   "source": [
    "### License:\n",
    "The code in this tutorial by Ashwin Lakshman is licensed under The Creative Commons Attribution 3.0 License\n",
    "https://creativecommons.org/licenses/by/3.0/us/ \n",
    "\n",
    "Copyright <2019> <'ASHWIN LAKSHMAN'>\n",
    "\n",
    "Permission is hereby granted, free of charge, to any person obtaining a copy of this software and associated documentation files (the \"Software\"), to deal in the Software without restriction, including without limitation the rights to use, copy, modify, merge, publish, distribute, sublicense, and/or sell copies of the Software, and to permit persons to whom the Software is furnished to do so\n",
    "\n",
    "The above copyright notice and this permission notice shall be included in all copies or substantial portions of the Software.\n"
   ],
   "metadata": {
    "collapsed": false
   }
  }
 ],
 "metadata": {
  "kernelspec": {
   "display_name": "Python 3",
   "language": "python",
   "name": "python3"
  },
  "language_info": {
   "codemirror_mode": {
    "name": "ipython",
    "version": 2
   },
   "file_extension": ".py",
   "mimetype": "text/x-python",
   "name": "python",
   "nbconvert_exporter": "python",
   "pygments_lexer": "ipython2",
   "version": "2.7.6"
  },
  "pycharm": {
   "stem_cell": {
    "cell_type": "raw",
    "source": [],
    "metadata": {
     "collapsed": false
    }
   }
  }
 },
 "nbformat": 4,
 "nbformat_minor": 0
}